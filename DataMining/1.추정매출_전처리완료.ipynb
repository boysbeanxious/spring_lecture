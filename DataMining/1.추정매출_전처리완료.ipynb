{
 "cells": [
  {
   "cell_type": "code",
   "execution_count": 1,
   "metadata": {},
   "outputs": [],
   "source": [
    "import pandas as pd"
   ]
  },
  {
   "cell_type": "code",
   "execution_count": 2,
   "metadata": {},
   "outputs": [],
   "source": [
    "df = pd.read_csv('./data/서울시 우리마을가게 상권분석서비스(상권-추정매출).csv', encoding='cp949')"
   ]
  },
  {
   "cell_type": "code",
   "execution_count": 3,
   "metadata": {
    "scrolled": true
   },
   "outputs": [
    {
     "data": {
      "text/plain": [
       "array(['전자상거래업', '인테리어', '가전제품', '가구', '화초', '섬유제품', '완구', '운동/경기용품',\n",
       "       '화장품', '문구', '의약품', '시계및귀금속', '안경', '가방', '신발', '일반의류', '반찬가게',\n",
       "       '핸드폰', '컴퓨터및주변장치판매', '편의점', '슈퍼마켓', '피부관리실', '네일숍', '미용실', '스포츠클럽',\n",
       "       '치과의원', '일반의원', '커피-음료', '분식전문점', '패스트푸드점', '제과점', '양식음식점',\n",
       "       '일식음식점', '중식음식점', '한식음식점', '의료기기', '노래방', '고시원', '여관', '세탁소',\n",
       "       '자동차수리', '골프연습장', '당구장', '한의원', '스포츠 강습', '호프-간이주점', '치킨전문점',\n",
       "       '조명용품', '철물점', '애완동물', '서적', '청과상', '수산물판매', '육류판매', '미곡판매',\n",
       "       '가전제품수리', 'PC방', '예술학원', '외국어학원', '일반교습학원', '자동차미용', '부동산중개업',\n",
       "       '자전거 및 기타운송장비'], dtype=object)"
      ]
     },
     "execution_count": 3,
     "metadata": {},
     "output_type": "execute_result"
    }
   ],
   "source": [
    "df['서비스_업종_코드_명'].unique()"
   ]
  },
  {
   "cell_type": "markdown",
   "metadata": {},
   "source": [
    "# 1. 데이터 셋 기준 요식업 정의"
   ]
  },
  {
   "cell_type": "code",
   "execution_count": 4,
   "metadata": {},
   "outputs": [],
   "source": [
    "food = ['커피-음료', '분식전문점', '패스트푸드점', '제과점', '양식음식점','일식음식점', '중식음식점', '한식음식점', '호프-간이주점', '치킨전문점']"
   ]
  },
  {
   "cell_type": "code",
   "execution_count": 5,
   "metadata": {},
   "outputs": [],
   "source": [
    "# df_food_1 = df[df['서비스_업종_코드_명'].isin(food)]"
   ]
  },
  {
   "cell_type": "markdown",
   "metadata": {},
   "source": [
    "# 2. 데이터 내 seasonality 제거"
   ]
  },
  {
   "cell_type": "markdown",
   "metadata": {},
   "source": [
    " 계절성을 없애고 기준년, 상권구분, 상권코드, 서비스 업종 기반으로 분석하기 위해 데이터 전처리 "
   ]
  },
  {
   "cell_type": "markdown",
   "metadata": {},
   "source": [
    "'분기당_매출_금액' : 계절성을 없애기 위해 분기별 평균금액 사용  \n",
    "'xxx건수' : 비율 확인을 위해 분기 합계 수치 계산 "
   ]
  },
  {
   "cell_type": "code",
   "execution_count": 6,
   "metadata": {},
   "outputs": [
    {
     "data": {
      "text/plain": [
       "(140830, 80)"
      ]
     },
     "execution_count": 6,
     "metadata": {},
     "output_type": "execute_result"
    }
   ],
   "source": [
    "df.shape"
   ]
  },
  {
   "cell_type": "code",
   "execution_count": 7,
   "metadata": {},
   "outputs": [],
   "source": [
    "df_2 = df.groupby(['기준_년_코드','상권_구분_코드', '상권_구분_코드_명', '상권_코드', '상권_코드_명',\n",
    "       '서비스_업종_코드', '서비스_업종_코드_명']).mean()[['분기당_매출_금액']].reset_index()"
   ]
  },
  {
   "cell_type": "code",
   "execution_count": 8,
   "metadata": {
    "scrolled": true
   },
   "outputs": [
    {
     "data": {
      "text/html": [
       "<div>\n",
       "<style scoped>\n",
       "    .dataframe tbody tr th:only-of-type {\n",
       "        vertical-align: middle;\n",
       "    }\n",
       "\n",
       "    .dataframe tbody tr th {\n",
       "        vertical-align: top;\n",
       "    }\n",
       "\n",
       "    .dataframe thead th {\n",
       "        text-align: right;\n",
       "    }\n",
       "</style>\n",
       "<table border=\"1\" class=\"dataframe\">\n",
       "  <thead>\n",
       "    <tr style=\"text-align: right;\">\n",
       "      <th></th>\n",
       "      <th>기준_년_코드</th>\n",
       "      <th>상권_구분_코드</th>\n",
       "      <th>상권_구분_코드_명</th>\n",
       "      <th>상권_코드</th>\n",
       "      <th>상권_코드_명</th>\n",
       "      <th>서비스_업종_코드</th>\n",
       "      <th>서비스_업종_코드_명</th>\n",
       "      <th>분기당_매출_금액</th>\n",
       "    </tr>\n",
       "  </thead>\n",
       "  <tbody>\n",
       "    <tr>\n",
       "      <th>0</th>\n",
       "      <td>2021</td>\n",
       "      <td>A</td>\n",
       "      <td>골목상권</td>\n",
       "      <td>2110001</td>\n",
       "      <td>이북5도청사</td>\n",
       "      <td>CS100001</td>\n",
       "      <td>한식음식점</td>\n",
       "      <td>6.897200e+08</td>\n",
       "    </tr>\n",
       "    <tr>\n",
       "      <th>1</th>\n",
       "      <td>2021</td>\n",
       "      <td>A</td>\n",
       "      <td>골목상권</td>\n",
       "      <td>2110001</td>\n",
       "      <td>이북5도청사</td>\n",
       "      <td>CS100008</td>\n",
       "      <td>분식전문점</td>\n",
       "      <td>1.217034e+08</td>\n",
       "    </tr>\n",
       "    <tr>\n",
       "      <th>2</th>\n",
       "      <td>2021</td>\n",
       "      <td>A</td>\n",
       "      <td>골목상권</td>\n",
       "      <td>2110001</td>\n",
       "      <td>이북5도청사</td>\n",
       "      <td>CS100009</td>\n",
       "      <td>호프-간이주점</td>\n",
       "      <td>9.493560e+06</td>\n",
       "    </tr>\n",
       "    <tr>\n",
       "      <th>3</th>\n",
       "      <td>2021</td>\n",
       "      <td>A</td>\n",
       "      <td>골목상권</td>\n",
       "      <td>2110001</td>\n",
       "      <td>이북5도청사</td>\n",
       "      <td>CS100010</td>\n",
       "      <td>커피-음료</td>\n",
       "      <td>1.905703e+07</td>\n",
       "    </tr>\n",
       "    <tr>\n",
       "      <th>4</th>\n",
       "      <td>2021</td>\n",
       "      <td>A</td>\n",
       "      <td>골목상권</td>\n",
       "      <td>2110001</td>\n",
       "      <td>이북5도청사</td>\n",
       "      <td>CS200001</td>\n",
       "      <td>일반교습학원</td>\n",
       "      <td>4.620523e+07</td>\n",
       "    </tr>\n",
       "  </tbody>\n",
       "</table>\n",
       "</div>"
      ],
      "text/plain": [
       "   기준_년_코드 상권_구분_코드 상권_구분_코드_명    상권_코드 상권_코드_명 서비스_업종_코드 서비스_업종_코드_명  \\\n",
       "0     2021        A       골목상권  2110001  이북5도청사  CS100001       한식음식점   \n",
       "1     2021        A       골목상권  2110001  이북5도청사  CS100008       분식전문점   \n",
       "2     2021        A       골목상권  2110001  이북5도청사  CS100009     호프-간이주점   \n",
       "3     2021        A       골목상권  2110001  이북5도청사  CS100010       커피-음료   \n",
       "4     2021        A       골목상권  2110001  이북5도청사  CS200001      일반교습학원   \n",
       "\n",
       "      분기당_매출_금액  \n",
       "0  6.897200e+08  \n",
       "1  1.217034e+08  \n",
       "2  9.493560e+06  \n",
       "3  1.905703e+07  \n",
       "4  4.620523e+07  "
      ]
     },
     "execution_count": 8,
     "metadata": {},
     "output_type": "execute_result"
    }
   ],
   "source": [
    "df_2.head()"
   ]
  },
  {
   "cell_type": "code",
   "execution_count": 9,
   "metadata": {},
   "outputs": [],
   "source": [
    "groupby_col = ['분기당_매출_건수','주중_매출_건수',\n",
    "       '주말_매출_건수', '월요일_매출_건수', '화요일_매출_건수', '수요일_매출_건수', '목요일_매출_건수',\n",
    "       '금요일_매출_건수', '토요일_매출_건수', '일요일_매출_건수', '시간대_건수~06_매출_건수',\n",
    "       '시간대_건수~11_매출_건수', '시간대_건수~14_매출_건수', '시간대_건수~17_매출_건수',\n",
    "       '시간대_건수~21_매출_건수', '시간대_건수~24_매출_건수', '남성_매출_건수', '여성_매출_건수',\n",
    "       '연령대_10_매출_건수', '연령대_20_매출_건수', '연령대_30_매출_건수', '연령대_40_매출_건수',\n",
    "       '연령대_50_매출_건수', '연령대_60_이상_매출_건수', '점포수']"
   ]
  },
  {
   "cell_type": "code",
   "execution_count": 10,
   "metadata": {},
   "outputs": [],
   "source": [
    "df_2[groupby_col] = df.groupby(['기준_년_코드','상권_구분_코드', '상권_구분_코드_명', '상권_코드', '상권_코드_명',\n",
    "       '서비스_업종_코드', '서비스_업종_코드_명']).sum()[groupby_col].reset_index().drop(columns = df.columns[[0,2,3,4,5,6,7]])"
   ]
  },
  {
   "cell_type": "code",
   "execution_count": 11,
   "metadata": {},
   "outputs": [
    {
     "data": {
      "text/html": [
       "<div>\n",
       "<style scoped>\n",
       "    .dataframe tbody tr th:only-of-type {\n",
       "        vertical-align: middle;\n",
       "    }\n",
       "\n",
       "    .dataframe tbody tr th {\n",
       "        vertical-align: top;\n",
       "    }\n",
       "\n",
       "    .dataframe thead th {\n",
       "        text-align: right;\n",
       "    }\n",
       "</style>\n",
       "<table border=\"1\" class=\"dataframe\">\n",
       "  <thead>\n",
       "    <tr style=\"text-align: right;\">\n",
       "      <th></th>\n",
       "      <th>상권_코드</th>\n",
       "      <th>서비스_업종_코드</th>\n",
       "      <th>분기당_매출_건수</th>\n",
       "      <th>남성_매출_건수</th>\n",
       "      <th>여성_매출_건수</th>\n",
       "    </tr>\n",
       "  </thead>\n",
       "  <tbody>\n",
       "    <tr>\n",
       "      <th>0</th>\n",
       "      <td>2110001</td>\n",
       "      <td>CS100001</td>\n",
       "      <td>113863</td>\n",
       "      <td>68698</td>\n",
       "      <td>33363</td>\n",
       "    </tr>\n",
       "    <tr>\n",
       "      <th>1</th>\n",
       "      <td>2110001</td>\n",
       "      <td>CS100008</td>\n",
       "      <td>52280</td>\n",
       "      <td>29790</td>\n",
       "      <td>18303</td>\n",
       "    </tr>\n",
       "    <tr>\n",
       "      <th>2</th>\n",
       "      <td>2110001</td>\n",
       "      <td>CS100009</td>\n",
       "      <td>1221</td>\n",
       "      <td>758</td>\n",
       "      <td>341</td>\n",
       "    </tr>\n",
       "    <tr>\n",
       "      <th>3</th>\n",
       "      <td>2110001</td>\n",
       "      <td>CS100010</td>\n",
       "      <td>6307</td>\n",
       "      <td>2145</td>\n",
       "      <td>3816</td>\n",
       "    </tr>\n",
       "    <tr>\n",
       "      <th>4</th>\n",
       "      <td>2110001</td>\n",
       "      <td>CS200001</td>\n",
       "      <td>552</td>\n",
       "      <td>296</td>\n",
       "      <td>256</td>\n",
       "    </tr>\n",
       "  </tbody>\n",
       "</table>\n",
       "</div>"
      ],
      "text/plain": [
       "     상권_코드 서비스_업종_코드  분기당_매출_건수  남성_매출_건수  여성_매출_건수\n",
       "0  2110001  CS100001     113863     68698     33363\n",
       "1  2110001  CS100008      52280     29790     18303\n",
       "2  2110001  CS100009       1221       758       341\n",
       "3  2110001  CS100010       6307      2145      3816\n",
       "4  2110001  CS200001        552       296       256"
      ]
     },
     "execution_count": 11,
     "metadata": {},
     "output_type": "execute_result"
    }
   ],
   "source": [
    "df_2.head()[['상권_코드','서비스_업종_코드', '분기당_매출_건수', '남성_매출_건수', '여성_매출_건수']]"
   ]
  },
  {
   "cell_type": "code",
   "execution_count": 12,
   "metadata": {
    "scrolled": true
   },
   "outputs": [],
   "source": [
    "# 원본데이터도 잘 맞지 않음...\n",
    "# df.loc[(df['상권_코드']==1001496)&(df['서비스_업종_코드']=='CS300043'), ['상권_코드','서비스_업종_코드', '분기당_매출_건수', '남성_매출_건수', '여성_매출_건수']]\n"
   ]
  },
  {
   "cell_type": "markdown",
   "metadata": {},
   "source": [
    "# 3. 파생변수 생성"
   ]
  },
  {
   "cell_type": "markdown",
   "metadata": {},
   "source": [
    ". 아래 매출건수를 비율 변환  (ex > 남성매출건수/분기당매출건수)  \n",
    "    ['분기당_매출_건수','남성_매출_건수', '여성_매출_건수',\n",
    "    '연령대_10_매출_건수', '연령대_20_매출_건수', '연령대_30_매출_건수', '연령대_40_매출_건수',\n",
    "     '연령대_50_매출_건수', '연령대_60_이상_매출_건수']\n"
   ]
  },
  {
   "cell_type": "code",
   "execution_count": 13,
   "metadata": {},
   "outputs": [],
   "source": [
    "# df_food2 = df_food_1.copy()\n",
    "df_3 = df_2.copy()"
   ]
  },
  {
   "cell_type": "code",
   "execution_count": 14,
   "metadata": {
    "scrolled": true
   },
   "outputs": [
    {
     "data": {
      "text/html": [
       "<div>\n",
       "<style scoped>\n",
       "    .dataframe tbody tr th:only-of-type {\n",
       "        vertical-align: middle;\n",
       "    }\n",
       "\n",
       "    .dataframe tbody tr th {\n",
       "        vertical-align: top;\n",
       "    }\n",
       "\n",
       "    .dataframe thead th {\n",
       "        text-align: right;\n",
       "    }\n",
       "</style>\n",
       "<table border=\"1\" class=\"dataframe\">\n",
       "  <thead>\n",
       "    <tr style=\"text-align: right;\">\n",
       "      <th></th>\n",
       "      <th>기준_년_코드</th>\n",
       "      <th>상권_구분_코드</th>\n",
       "      <th>상권_구분_코드_명</th>\n",
       "      <th>상권_코드</th>\n",
       "      <th>상권_코드_명</th>\n",
       "      <th>서비스_업종_코드</th>\n",
       "      <th>서비스_업종_코드_명</th>\n",
       "      <th>분기당_매출_금액</th>\n",
       "      <th>분기당_매출_건수</th>\n",
       "      <th>주중_매출_건수</th>\n",
       "      <th>...</th>\n",
       "      <th>시간대_건수~24_매출_건수</th>\n",
       "      <th>남성_매출_건수</th>\n",
       "      <th>여성_매출_건수</th>\n",
       "      <th>연령대_10_매출_건수</th>\n",
       "      <th>연령대_20_매출_건수</th>\n",
       "      <th>연령대_30_매출_건수</th>\n",
       "      <th>연령대_40_매출_건수</th>\n",
       "      <th>연령대_50_매출_건수</th>\n",
       "      <th>연령대_60_이상_매출_건수</th>\n",
       "      <th>점포수</th>\n",
       "    </tr>\n",
       "  </thead>\n",
       "  <tbody>\n",
       "    <tr>\n",
       "      <th>0</th>\n",
       "      <td>2021</td>\n",
       "      <td>A</td>\n",
       "      <td>골목상권</td>\n",
       "      <td>2110001</td>\n",
       "      <td>이북5도청사</td>\n",
       "      <td>CS100001</td>\n",
       "      <td>한식음식점</td>\n",
       "      <td>6.897200e+08</td>\n",
       "      <td>113863</td>\n",
       "      <td>74390</td>\n",
       "      <td>...</td>\n",
       "      <td>1106</td>\n",
       "      <td>68698</td>\n",
       "      <td>33363</td>\n",
       "      <td>465</td>\n",
       "      <td>5287</td>\n",
       "      <td>9693</td>\n",
       "      <td>19026</td>\n",
       "      <td>33649</td>\n",
       "      <td>33939</td>\n",
       "      <td>108</td>\n",
       "    </tr>\n",
       "    <tr>\n",
       "      <th>1</th>\n",
       "      <td>2021</td>\n",
       "      <td>A</td>\n",
       "      <td>골목상권</td>\n",
       "      <td>2110001</td>\n",
       "      <td>이북5도청사</td>\n",
       "      <td>CS100008</td>\n",
       "      <td>분식전문점</td>\n",
       "      <td>1.217034e+08</td>\n",
       "      <td>52280</td>\n",
       "      <td>29058</td>\n",
       "      <td>...</td>\n",
       "      <td>0</td>\n",
       "      <td>29790</td>\n",
       "      <td>18303</td>\n",
       "      <td>227</td>\n",
       "      <td>3535</td>\n",
       "      <td>5583</td>\n",
       "      <td>11318</td>\n",
       "      <td>15482</td>\n",
       "      <td>11951</td>\n",
       "      <td>35</td>\n",
       "    </tr>\n",
       "    <tr>\n",
       "      <th>2</th>\n",
       "      <td>2021</td>\n",
       "      <td>A</td>\n",
       "      <td>골목상권</td>\n",
       "      <td>2110001</td>\n",
       "      <td>이북5도청사</td>\n",
       "      <td>CS100009</td>\n",
       "      <td>호프-간이주점</td>\n",
       "      <td>9.493560e+06</td>\n",
       "      <td>1221</td>\n",
       "      <td>598</td>\n",
       "      <td>...</td>\n",
       "      <td>187</td>\n",
       "      <td>758</td>\n",
       "      <td>341</td>\n",
       "      <td>0</td>\n",
       "      <td>64</td>\n",
       "      <td>99</td>\n",
       "      <td>198</td>\n",
       "      <td>403</td>\n",
       "      <td>337</td>\n",
       "      <td>12</td>\n",
       "    </tr>\n",
       "    <tr>\n",
       "      <th>3</th>\n",
       "      <td>2021</td>\n",
       "      <td>A</td>\n",
       "      <td>골목상권</td>\n",
       "      <td>2110001</td>\n",
       "      <td>이북5도청사</td>\n",
       "      <td>CS100010</td>\n",
       "      <td>커피-음료</td>\n",
       "      <td>1.905703e+07</td>\n",
       "      <td>6307</td>\n",
       "      <td>4191</td>\n",
       "      <td>...</td>\n",
       "      <td>44</td>\n",
       "      <td>2145</td>\n",
       "      <td>3816</td>\n",
       "      <td>24</td>\n",
       "      <td>933</td>\n",
       "      <td>1296</td>\n",
       "      <td>1277</td>\n",
       "      <td>1174</td>\n",
       "      <td>1259</td>\n",
       "      <td>22</td>\n",
       "    </tr>\n",
       "    <tr>\n",
       "      <th>4</th>\n",
       "      <td>2021</td>\n",
       "      <td>A</td>\n",
       "      <td>골목상권</td>\n",
       "      <td>2110001</td>\n",
       "      <td>이북5도청사</td>\n",
       "      <td>CS200001</td>\n",
       "      <td>일반교습학원</td>\n",
       "      <td>4.620523e+07</td>\n",
       "      <td>552</td>\n",
       "      <td>544</td>\n",
       "      <td>...</td>\n",
       "      <td>0</td>\n",
       "      <td>296</td>\n",
       "      <td>256</td>\n",
       "      <td>0</td>\n",
       "      <td>0</td>\n",
       "      <td>104</td>\n",
       "      <td>408</td>\n",
       "      <td>24</td>\n",
       "      <td>16</td>\n",
       "      <td>14</td>\n",
       "    </tr>\n",
       "  </tbody>\n",
       "</table>\n",
       "<p>5 rows × 33 columns</p>\n",
       "</div>"
      ],
      "text/plain": [
       "   기준_년_코드 상권_구분_코드 상권_구분_코드_명    상권_코드 상권_코드_명 서비스_업종_코드 서비스_업종_코드_명  \\\n",
       "0     2021        A       골목상권  2110001  이북5도청사  CS100001       한식음식점   \n",
       "1     2021        A       골목상권  2110001  이북5도청사  CS100008       분식전문점   \n",
       "2     2021        A       골목상권  2110001  이북5도청사  CS100009     호프-간이주점   \n",
       "3     2021        A       골목상권  2110001  이북5도청사  CS100010       커피-음료   \n",
       "4     2021        A       골목상권  2110001  이북5도청사  CS200001      일반교습학원   \n",
       "\n",
       "      분기당_매출_금액  분기당_매출_건수  주중_매출_건수  ...  시간대_건수~24_매출_건수  남성_매출_건수  \\\n",
       "0  6.897200e+08     113863     74390  ...             1106     68698   \n",
       "1  1.217034e+08      52280     29058  ...                0     29790   \n",
       "2  9.493560e+06       1221       598  ...              187       758   \n",
       "3  1.905703e+07       6307      4191  ...               44      2145   \n",
       "4  4.620523e+07        552       544  ...                0       296   \n",
       "\n",
       "   여성_매출_건수  연령대_10_매출_건수  연령대_20_매출_건수  연령대_30_매출_건수  연령대_40_매출_건수  \\\n",
       "0     33363           465          5287          9693         19026   \n",
       "1     18303           227          3535          5583         11318   \n",
       "2       341             0            64            99           198   \n",
       "3      3816            24           933          1296          1277   \n",
       "4       256             0             0           104           408   \n",
       "\n",
       "   연령대_50_매출_건수  연령대_60_이상_매출_건수  점포수  \n",
       "0         33649            33939  108  \n",
       "1         15482            11951   35  \n",
       "2           403              337   12  \n",
       "3          1174             1259   22  \n",
       "4            24               16   14  \n",
       "\n",
       "[5 rows x 33 columns]"
      ]
     },
     "execution_count": 14,
     "metadata": {},
     "output_type": "execute_result"
    }
   ],
   "source": [
    "df_3.head()"
   ]
  },
  {
   "cell_type": "code",
   "execution_count": 15,
   "metadata": {},
   "outputs": [],
   "source": [
    "case_col = ['남성_매출_건수', '여성_매출_건수',\n",
    "    '연령대_10_매출_건수', '연령대_20_매출_건수', '연령대_30_매출_건수', '연령대_40_매출_건수',\n",
    "     '연령대_50_매출_건수', '연령대_60_이상_매출_건수']\n",
    "rate_col = ['남성_매출_건수_비율', '여성_매출_건수_비율',\n",
    "    '연령대_10_매출_건수_비율', '연령대_20_매출_건수_비율', '연령대_30_매출_건수_비율', '연령대_40_매출_건수_비율',\n",
    "     '연령대_50_매출_건수_비율', '연령대_60_이상_매출_건수_비율']"
   ]
  },
  {
   "cell_type": "code",
   "execution_count": 16,
   "metadata": {},
   "outputs": [],
   "source": [
    "df_3[rate_col] = df_3[case_col].div(df_3['분기당_매출_건수'], axis=0)"
   ]
  },
  {
   "cell_type": "code",
   "execution_count": 17,
   "metadata": {
    "scrolled": false
   },
   "outputs": [
    {
     "data": {
      "text/html": [
       "<div>\n",
       "<style scoped>\n",
       "    .dataframe tbody tr th:only-of-type {\n",
       "        vertical-align: middle;\n",
       "    }\n",
       "\n",
       "    .dataframe tbody tr th {\n",
       "        vertical-align: top;\n",
       "    }\n",
       "\n",
       "    .dataframe thead th {\n",
       "        text-align: right;\n",
       "    }\n",
       "</style>\n",
       "<table border=\"1\" class=\"dataframe\">\n",
       "  <thead>\n",
       "    <tr style=\"text-align: right;\">\n",
       "      <th></th>\n",
       "      <th>분기당_매출_건수</th>\n",
       "      <th>남성_매출_건수</th>\n",
       "      <th>여성_매출_건수</th>\n",
       "      <th>남성_매출_건수_비율</th>\n",
       "      <th>여성_매출_건수_비율</th>\n",
       "    </tr>\n",
       "  </thead>\n",
       "  <tbody>\n",
       "    <tr>\n",
       "      <th>0</th>\n",
       "      <td>113863</td>\n",
       "      <td>68698</td>\n",
       "      <td>33363</td>\n",
       "      <td>0.603339</td>\n",
       "      <td>0.293010</td>\n",
       "    </tr>\n",
       "    <tr>\n",
       "      <th>1</th>\n",
       "      <td>52280</td>\n",
       "      <td>29790</td>\n",
       "      <td>18303</td>\n",
       "      <td>0.569816</td>\n",
       "      <td>0.350096</td>\n",
       "    </tr>\n",
       "    <tr>\n",
       "      <th>2</th>\n",
       "      <td>1221</td>\n",
       "      <td>758</td>\n",
       "      <td>341</td>\n",
       "      <td>0.620803</td>\n",
       "      <td>0.279279</td>\n",
       "    </tr>\n",
       "    <tr>\n",
       "      <th>3</th>\n",
       "      <td>6307</td>\n",
       "      <td>2145</td>\n",
       "      <td>3816</td>\n",
       "      <td>0.340098</td>\n",
       "      <td>0.605042</td>\n",
       "    </tr>\n",
       "    <tr>\n",
       "      <th>4</th>\n",
       "      <td>552</td>\n",
       "      <td>296</td>\n",
       "      <td>256</td>\n",
       "      <td>0.536232</td>\n",
       "      <td>0.463768</td>\n",
       "    </tr>\n",
       "  </tbody>\n",
       "</table>\n",
       "</div>"
      ],
      "text/plain": [
       "   분기당_매출_건수  남성_매출_건수  여성_매출_건수  남성_매출_건수_비율  여성_매출_건수_비율\n",
       "0     113863     68698     33363     0.603339     0.293010\n",
       "1      52280     29790     18303     0.569816     0.350096\n",
       "2       1221       758       341     0.620803     0.279279\n",
       "3       6307      2145      3816     0.340098     0.605042\n",
       "4        552       296       256     0.536232     0.463768"
      ]
     },
     "execution_count": 17,
     "metadata": {},
     "output_type": "execute_result"
    }
   ],
   "source": [
    "df_3[['분기당_매출_건수', '남성_매출_건수', '여성_매출_건수', '남성_매출_건수_비율', '여성_매출_건수_비율']].head()\n",
    "# 남성매출건수와 여성매출건수의 합이 전체 분기당 매출건수의 합과 일치하지 않음"
   ]
  },
  {
   "cell_type": "code",
   "execution_count": 22,
   "metadata": {},
   "outputs": [],
   "source": [
    "df_3.to_csv('./data/1.추정매출_전처리완료.csv' , encoding='cp949')"
   ]
  },
  {
   "cell_type": "code",
   "execution_count": null,
   "metadata": {},
   "outputs": [],
   "source": []
  }
 ],
 "metadata": {
  "kernelspec": {
   "display_name": "Python 3",
   "language": "python",
   "name": "python3"
  },
  "language_info": {
   "codemirror_mode": {
    "name": "ipython",
    "version": 3
   },
   "file_extension": ".py",
   "mimetype": "text/x-python",
   "name": "python",
   "nbconvert_exporter": "python",
   "pygments_lexer": "ipython3",
   "version": "3.7.6"
  }
 },
 "nbformat": 4,
 "nbformat_minor": 4
}
