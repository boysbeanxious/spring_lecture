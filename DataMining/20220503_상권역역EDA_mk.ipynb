{
 "cells": [
  {
   "cell_type": "markdown",
   "metadata": {},
   "source": [
    "https://eenymeeniminimo.notion.site/20220503_EDA-baa8813ed1c4401a97697f47806b5bcd\n",
    "\n",
    "EDA상세내역 링크 참조"
   ]
  },
  {
   "cell_type": "code",
   "execution_count": 1,
   "metadata": {},
   "outputs": [],
   "source": [
    "import pandas as pd\n",
    "import numpy as np"
   ]
  },
  {
   "cell_type": "code",
   "execution_count": 2,
   "metadata": {},
   "outputs": [],
   "source": [
    "sg_df = pd.read_csv('./data/서울시 우리마을가게 상권분석서비스(상권영역).csv', encoding='cp949')"
   ]
  },
  {
   "cell_type": "code",
   "execution_count": 3,
   "metadata": {
    "scrolled": true
   },
   "outputs": [
    {
     "data": {
      "text/html": [
       "<div>\n",
       "<style scoped>\n",
       "    .dataframe tbody tr th:only-of-type {\n",
       "        vertical-align: middle;\n",
       "    }\n",
       "\n",
       "    .dataframe tbody tr th {\n",
       "        vertical-align: top;\n",
       "    }\n",
       "\n",
       "    .dataframe thead th {\n",
       "        text-align: right;\n",
       "    }\n",
       "</style>\n",
       "<table border=\"1\" class=\"dataframe\">\n",
       "  <thead>\n",
       "    <tr style=\"text-align: right;\">\n",
       "      <th></th>\n",
       "      <th>기준_년월_코드</th>\n",
       "      <th>상권_구분_코드</th>\n",
       "      <th>상권_구분_코드_명</th>\n",
       "      <th>상권_코드</th>\n",
       "      <th>상권_코드_명</th>\n",
       "      <th>엑스좌표_값</th>\n",
       "      <th>와이좌표_값</th>\n",
       "      <th>시군구_코드</th>\n",
       "      <th>행정동_코드</th>\n",
       "      <th>형태정보</th>\n",
       "    </tr>\n",
       "  </thead>\n",
       "  <tbody>\n",
       "    <tr>\n",
       "      <th>0</th>\n",
       "      <td>202112</td>\n",
       "      <td>A</td>\n",
       "      <td>골목상권</td>\n",
       "      <td>2110753</td>\n",
       "      <td>시흥동 은행나무사거리</td>\n",
       "      <td>191934</td>\n",
       "      <td>438813</td>\n",
       "      <td>11545</td>\n",
       "      <td>11545710</td>\n",
       "      <td>NaN</td>\n",
       "    </tr>\n",
       "    <tr>\n",
       "      <th>1</th>\n",
       "      <td>202112</td>\n",
       "      <td>A</td>\n",
       "      <td>골목상권</td>\n",
       "      <td>2110427</td>\n",
       "      <td>노원 을지대학교병원</td>\n",
       "      <td>206265</td>\n",
       "      <td>459431</td>\n",
       "      <td>11350</td>\n",
       "      <td>11350611</td>\n",
       "      <td>NaN</td>\n",
       "    </tr>\n",
       "    <tr>\n",
       "      <th>2</th>\n",
       "      <td>202112</td>\n",
       "      <td>A</td>\n",
       "      <td>골목상권</td>\n",
       "      <td>2110755</td>\n",
       "      <td>동일여자고등학교</td>\n",
       "      <td>192300</td>\n",
       "      <td>439070</td>\n",
       "      <td>11545</td>\n",
       "      <td>11545680</td>\n",
       "      <td>NaN</td>\n",
       "    </tr>\n",
       "    <tr>\n",
       "      <th>3</th>\n",
       "      <td>202112</td>\n",
       "      <td>A</td>\n",
       "      <td>골목상권</td>\n",
       "      <td>2110739</td>\n",
       "      <td>시흥3동 우편취급국</td>\n",
       "      <td>191289</td>\n",
       "      <td>438014</td>\n",
       "      <td>11545</td>\n",
       "      <td>11545690</td>\n",
       "      <td>NaN</td>\n",
       "    </tr>\n",
       "    <tr>\n",
       "      <th>4</th>\n",
       "      <td>202112</td>\n",
       "      <td>A</td>\n",
       "      <td>골목상권</td>\n",
       "      <td>2111017</td>\n",
       "      <td>송파나루역 3번</td>\n",
       "      <td>210222</td>\n",
       "      <td>445516</td>\n",
       "      <td>11710</td>\n",
       "      <td>11710562</td>\n",
       "      <td>NaN</td>\n",
       "    </tr>\n",
       "  </tbody>\n",
       "</table>\n",
       "</div>"
      ],
      "text/plain": [
       "   기준_년월_코드 상권_구분_코드 상권_구분_코드_명    상권_코드      상권_코드_명  엑스좌표_값  와이좌표_값  시군구_코드  \\\n",
       "0    202112        A       골목상권  2110753  시흥동 은행나무사거리  191934  438813   11545   \n",
       "1    202112        A       골목상권  2110427   노원 을지대학교병원  206265  459431   11350   \n",
       "2    202112        A       골목상권  2110755     동일여자고등학교  192300  439070   11545   \n",
       "3    202112        A       골목상권  2110739   시흥3동 우편취급국  191289  438014   11545   \n",
       "4    202112        A       골목상권  2111017     송파나루역 3번  210222  445516   11710   \n",
       "\n",
       "     행정동_코드  형태정보  \n",
       "0  11545710   NaN  \n",
       "1  11350611   NaN  \n",
       "2  11545680   NaN  \n",
       "3  11545690   NaN  \n",
       "4  11710562   NaN  "
      ]
     },
     "execution_count": 3,
     "metadata": {},
     "output_type": "execute_result"
    }
   ],
   "source": [
    "sg_df.head()"
   ]
  },
  {
   "cell_type": "code",
   "execution_count": 5,
   "metadata": {},
   "outputs": [],
   "source": [
    "sg_chk_df =sg_df.groupby( ['기준_년월_코드', '상권_구분_코드', '상권_코드'])['상권_코드_명'].count().reset_index()"
   ]
  },
  {
   "cell_type": "code",
   "execution_count": 7,
   "metadata": {},
   "outputs": [
    {
     "data": {
      "text/plain": [
       "1671"
      ]
     },
     "execution_count": 7,
     "metadata": {},
     "output_type": "execute_result"
    }
   ],
   "source": [
    "sg_chk_df['상권_코드_명'].sum()"
   ]
  },
  {
   "cell_type": "code",
   "execution_count": 8,
   "metadata": {},
   "outputs": [
    {
     "data": {
      "text/plain": [
       "(1671, 4)"
      ]
     },
     "execution_count": 8,
     "metadata": {},
     "output_type": "execute_result"
    }
   ],
   "source": [
    "sg_chk_df.shape"
   ]
  },
  {
   "cell_type": "code",
   "execution_count": 9,
   "metadata": {},
   "outputs": [
    {
     "name": "stdout",
     "output_type": "stream",
     "text": [
      "<class 'pandas.core.frame.DataFrame'>\n",
      "RangeIndex: 1671 entries, 0 to 1670\n",
      "Data columns (total 10 columns):\n",
      " #   Column      Non-Null Count  Dtype  \n",
      "---  ------      --------------  -----  \n",
      " 0   기준_년월_코드    1671 non-null   int64  \n",
      " 1   상권_구분_코드    1671 non-null   object \n",
      " 2   상권_구분_코드_명  1671 non-null   object \n",
      " 3   상권_코드       1671 non-null   int64  \n",
      " 4   상권_코드_명     1671 non-null   object \n",
      " 5   엑스좌표_값      1671 non-null   int64  \n",
      " 6   와이좌표_값      1671 non-null   int64  \n",
      " 7   시군구_코드      1671 non-null   int64  \n",
      " 8   행정동_코드      1671 non-null   int64  \n",
      " 9   형태정보        0 non-null      float64\n",
      "dtypes: float64(1), int64(6), object(3)\n",
      "memory usage: 130.7+ KB\n"
     ]
    }
   ],
   "source": [
    "sg_df.info()"
   ]
  },
  {
   "cell_type": "code",
   "execution_count": 10,
   "metadata": {},
   "outputs": [
    {
     "data": {
      "text/plain": [
       "array([202112])"
      ]
     },
     "execution_count": 10,
     "metadata": {},
     "output_type": "execute_result"
    }
   ],
   "source": [
    "sg_df['기준_년월_코드'].unique()"
   ]
  },
  {
   "cell_type": "code",
   "execution_count": 11,
   "metadata": {},
   "outputs": [
    {
     "data": {
      "text/plain": [
       "array(['A', 'D', 'R', 'U'], dtype=object)"
      ]
     },
     "execution_count": 11,
     "metadata": {},
     "output_type": "execute_result"
    }
   ],
   "source": [
    "sg_df['상권_구분_코드'].unique()"
   ]
  },
  {
   "cell_type": "code",
   "execution_count": 12,
   "metadata": {},
   "outputs": [
    {
     "data": {
      "text/plain": [
       "array([2110, 2111])"
      ]
     },
     "execution_count": 12,
     "metadata": {},
     "output_type": "execute_result"
    }
   ],
   "source": [
    "np.unique(list(sg_df.loc[sg_df['상권_구분_코드']=='A', '상권_코드']//1000))"
   ]
  },
  {
   "cell_type": "code",
   "execution_count": 13,
   "metadata": {},
   "outputs": [
    {
     "data": {
      "text/plain": [
       "1090"
      ]
     },
     "execution_count": 13,
     "metadata": {},
     "output_type": "execute_result"
    }
   ],
   "source": [
    "len(sg_df.loc[sg_df['상권_구분_코드']=='A', '상권_코드'].unique())"
   ]
  },
  {
   "cell_type": "code",
   "execution_count": 14,
   "metadata": {},
   "outputs": [
    {
     "data": {
      "text/plain": [
       "0       2110753\n",
       "1       2110427\n",
       "2       2110755\n",
       "3       2110739\n",
       "4       2111017\n",
       "         ...   \n",
       "1085    2110881\n",
       "1086    2110874\n",
       "1087    2110887\n",
       "1088    2110944\n",
       "1089    2110870\n",
       "Name: 상권_코드, Length: 1090, dtype: int64"
      ]
     },
     "execution_count": 14,
     "metadata": {},
     "output_type": "execute_result"
    }
   ],
   "source": [
    "sg_df.loc[sg_df['상권_구분_코드']=='A', '상권_코드']\n",
    "# .str.slice(0, 4)"
   ]
  },
  {
   "cell_type": "code",
   "execution_count": 15,
   "metadata": {},
   "outputs": [
    {
     "data": {
      "text/plain": [
       "182574"
      ]
     },
     "execution_count": 15,
     "metadata": {},
     "output_type": "execute_result"
    }
   ],
   "source": [
    "sg_df['엑스좌표_값'].min()"
   ]
  },
  {
   "cell_type": "code",
   "execution_count": 16,
   "metadata": {},
   "outputs": [
    {
     "data": {
      "text/plain": [
       "215356"
      ]
     },
     "execution_count": 16,
     "metadata": {},
     "output_type": "execute_result"
    }
   ],
   "source": [
    "sg_df['엑스좌표_값'].max()"
   ]
  },
  {
   "cell_type": "code",
   "execution_count": 17,
   "metadata": {},
   "outputs": [
    {
     "data": {
      "text/plain": [
       "0       11545\n",
       "1       11350\n",
       "2       11545\n",
       "3       11545\n",
       "4       11710\n",
       "        ...  \n",
       "1666    11140\n",
       "1667    11110\n",
       "1668    11710\n",
       "1669    11680\n",
       "1670    11170\n",
       "Name: 시군구_코드, Length: 1671, dtype: int64"
      ]
     },
     "execution_count": 17,
     "metadata": {},
     "output_type": "execute_result"
    }
   ],
   "source": [
    "sg_df['시군구_코드']"
   ]
  },
  {
   "cell_type": "code",
   "execution_count": 18,
   "metadata": {},
   "outputs": [
    {
     "data": {
      "text/html": [
       "<div>\n",
       "<style scoped>\n",
       "    .dataframe tbody tr th:only-of-type {\n",
       "        vertical-align: middle;\n",
       "    }\n",
       "\n",
       "    .dataframe tbody tr th {\n",
       "        vertical-align: top;\n",
       "    }\n",
       "\n",
       "    .dataframe thead th {\n",
       "        text-align: right;\n",
       "    }\n",
       "</style>\n",
       "<table border=\"1\" class=\"dataframe\">\n",
       "  <thead>\n",
       "    <tr style=\"text-align: right;\">\n",
       "      <th></th>\n",
       "      <th>기준_년월_코드</th>\n",
       "      <th>상권_구분_코드</th>\n",
       "      <th>상권_구분_코드_명</th>\n",
       "      <th>상권_코드</th>\n",
       "      <th>상권_코드_명</th>\n",
       "      <th>엑스좌표_값</th>\n",
       "      <th>와이좌표_값</th>\n",
       "      <th>시군구_코드</th>\n",
       "      <th>행정동_코드</th>\n",
       "      <th>형태정보</th>\n",
       "    </tr>\n",
       "  </thead>\n",
       "  <tbody>\n",
       "    <tr>\n",
       "      <th>0</th>\n",
       "      <td>202112</td>\n",
       "      <td>A</td>\n",
       "      <td>골목상권</td>\n",
       "      <td>2110753</td>\n",
       "      <td>시흥동 은행나무사거리</td>\n",
       "      <td>191934</td>\n",
       "      <td>438813</td>\n",
       "      <td>11545</td>\n",
       "      <td>11545710</td>\n",
       "      <td>NaN</td>\n",
       "    </tr>\n",
       "    <tr>\n",
       "      <th>1</th>\n",
       "      <td>202112</td>\n",
       "      <td>A</td>\n",
       "      <td>골목상권</td>\n",
       "      <td>2110427</td>\n",
       "      <td>노원 을지대학교병원</td>\n",
       "      <td>206265</td>\n",
       "      <td>459431</td>\n",
       "      <td>11350</td>\n",
       "      <td>11350611</td>\n",
       "      <td>NaN</td>\n",
       "    </tr>\n",
       "    <tr>\n",
       "      <th>2</th>\n",
       "      <td>202112</td>\n",
       "      <td>A</td>\n",
       "      <td>골목상권</td>\n",
       "      <td>2110755</td>\n",
       "      <td>동일여자고등학교</td>\n",
       "      <td>192300</td>\n",
       "      <td>439070</td>\n",
       "      <td>11545</td>\n",
       "      <td>11545680</td>\n",
       "      <td>NaN</td>\n",
       "    </tr>\n",
       "    <tr>\n",
       "      <th>3</th>\n",
       "      <td>202112</td>\n",
       "      <td>A</td>\n",
       "      <td>골목상권</td>\n",
       "      <td>2110739</td>\n",
       "      <td>시흥3동 우편취급국</td>\n",
       "      <td>191289</td>\n",
       "      <td>438014</td>\n",
       "      <td>11545</td>\n",
       "      <td>11545690</td>\n",
       "      <td>NaN</td>\n",
       "    </tr>\n",
       "    <tr>\n",
       "      <th>4</th>\n",
       "      <td>202112</td>\n",
       "      <td>A</td>\n",
       "      <td>골목상권</td>\n",
       "      <td>2111017</td>\n",
       "      <td>송파나루역 3번</td>\n",
       "      <td>210222</td>\n",
       "      <td>445516</td>\n",
       "      <td>11710</td>\n",
       "      <td>11710562</td>\n",
       "      <td>NaN</td>\n",
       "    </tr>\n",
       "    <tr>\n",
       "      <th>...</th>\n",
       "      <td>...</td>\n",
       "      <td>...</td>\n",
       "      <td>...</td>\n",
       "      <td>...</td>\n",
       "      <td>...</td>\n",
       "      <td>...</td>\n",
       "      <td>...</td>\n",
       "      <td>...</td>\n",
       "      <td>...</td>\n",
       "      <td>...</td>\n",
       "    </tr>\n",
       "    <tr>\n",
       "      <th>1666</th>\n",
       "      <td>202112</td>\n",
       "      <td>U</td>\n",
       "      <td>관광특구</td>\n",
       "      <td>1001493</td>\n",
       "      <td>동대문패션타운 관광특구</td>\n",
       "      <td>200974</td>\n",
       "      <td>451975</td>\n",
       "      <td>11140</td>\n",
       "      <td>11140590</td>\n",
       "      <td>NaN</td>\n",
       "    </tr>\n",
       "    <tr>\n",
       "      <th>1667</th>\n",
       "      <td>202112</td>\n",
       "      <td>U</td>\n",
       "      <td>관광특구</td>\n",
       "      <td>1001494</td>\n",
       "      <td>종로?청계 관광특구</td>\n",
       "      <td>199768</td>\n",
       "      <td>452273</td>\n",
       "      <td>11110</td>\n",
       "      <td>11110615</td>\n",
       "      <td>NaN</td>\n",
       "    </tr>\n",
       "    <tr>\n",
       "      <th>1668</th>\n",
       "      <td>202112</td>\n",
       "      <td>U</td>\n",
       "      <td>관광특구</td>\n",
       "      <td>1001495</td>\n",
       "      <td>잠실 관광특구</td>\n",
       "      <td>210191</td>\n",
       "      <td>446339</td>\n",
       "      <td>11710</td>\n",
       "      <td>11710566</td>\n",
       "      <td>NaN</td>\n",
       "    </tr>\n",
       "    <tr>\n",
       "      <th>1669</th>\n",
       "      <td>202112</td>\n",
       "      <td>U</td>\n",
       "      <td>관광특구</td>\n",
       "      <td>1001496</td>\n",
       "      <td>강남 마이스 관광특구</td>\n",
       "      <td>205310</td>\n",
       "      <td>445727</td>\n",
       "      <td>11680</td>\n",
       "      <td>11680580</td>\n",
       "      <td>NaN</td>\n",
       "    </tr>\n",
       "    <tr>\n",
       "      <th>1670</th>\n",
       "      <td>202112</td>\n",
       "      <td>U</td>\n",
       "      <td>관광특구</td>\n",
       "      <td>1001491</td>\n",
       "      <td>이태원 관광특구</td>\n",
       "      <td>199503</td>\n",
       "      <td>448326</td>\n",
       "      <td>11170</td>\n",
       "      <td>11170650</td>\n",
       "      <td>NaN</td>\n",
       "    </tr>\n",
       "  </tbody>\n",
       "</table>\n",
       "<p>1671 rows × 10 columns</p>\n",
       "</div>"
      ],
      "text/plain": [
       "      기준_년월_코드 상권_구분_코드 상권_구분_코드_명    상권_코드       상권_코드_명  엑스좌표_값  와이좌표_값  \\\n",
       "0       202112        A       골목상권  2110753   시흥동 은행나무사거리  191934  438813   \n",
       "1       202112        A       골목상권  2110427    노원 을지대학교병원  206265  459431   \n",
       "2       202112        A       골목상권  2110755      동일여자고등학교  192300  439070   \n",
       "3       202112        A       골목상권  2110739    시흥3동 우편취급국  191289  438014   \n",
       "4       202112        A       골목상권  2111017      송파나루역 3번  210222  445516   \n",
       "...        ...      ...        ...      ...           ...     ...     ...   \n",
       "1666    202112        U       관광특구  1001493  동대문패션타운 관광특구  200974  451975   \n",
       "1667    202112        U       관광특구  1001494    종로?청계 관광특구  199768  452273   \n",
       "1668    202112        U       관광특구  1001495       잠실 관광특구  210191  446339   \n",
       "1669    202112        U       관광특구  1001496   강남 마이스 관광특구  205310  445727   \n",
       "1670    202112        U       관광특구  1001491      이태원 관광특구  199503  448326   \n",
       "\n",
       "      시군구_코드    행정동_코드  형태정보  \n",
       "0      11545  11545710   NaN  \n",
       "1      11350  11350611   NaN  \n",
       "2      11545  11545680   NaN  \n",
       "3      11545  11545690   NaN  \n",
       "4      11710  11710562   NaN  \n",
       "...      ...       ...   ...  \n",
       "1666   11140  11140590   NaN  \n",
       "1667   11110  11110615   NaN  \n",
       "1668   11710  11710566   NaN  \n",
       "1669   11680  11680580   NaN  \n",
       "1670   11170  11170650   NaN  \n",
       "\n",
       "[1671 rows x 10 columns]"
      ]
     },
     "execution_count": 18,
     "metadata": {},
     "output_type": "execute_result"
    }
   ],
   "source": [
    "sg_df[sg_df['시군구_코드']==sg_df['행정동_코드']//1000]"
   ]
  },
  {
   "cell_type": "code",
   "execution_count": 19,
   "metadata": {},
   "outputs": [
    {
     "data": {
      "text/plain": [
       "array([nan])"
      ]
     },
     "execution_count": 19,
     "metadata": {},
     "output_type": "execute_result"
    }
   ],
   "source": [
    "sg_df['형태정보'].unique()"
   ]
  },
  {
   "cell_type": "code",
   "execution_count": 20,
   "metadata": {},
   "outputs": [],
   "source": [
    "jg_df = pd.read_csv('./data/서울시 우리마을가게 상권분석서비스(상권-집객시설).csv', encoding='cp949')"
   ]
  },
  {
   "cell_type": "code",
   "execution_count": 21,
   "metadata": {},
   "outputs": [
    {
     "name": "stdout",
     "output_type": "stream",
     "text": [
      "<class 'pandas.core.frame.DataFrame'>\n",
      "RangeIndex: 31722 entries, 0 to 31721\n",
      "Data columns (total 26 columns):\n",
      " #   Column      Non-Null Count  Dtype  \n",
      "---  ------      --------------  -----  \n",
      " 0   기준_년_코드     31722 non-null  int64  \n",
      " 1   기준_분기_코드    31722 non-null  int64  \n",
      " 2   상권_구분_코드    31722 non-null  object \n",
      " 3   상권_구분_코드_명  31722 non-null  object \n",
      " 4   상권_코드       31722 non-null  int64  \n",
      " 5   상권_코드_명     31722 non-null  object \n",
      " 6   집객시설_수      31722 non-null  int64  \n",
      " 7   관공서_수       12080 non-null  float64\n",
      " 8   은행_수        10651 non-null  float64\n",
      " 9   종합병원_수      511 non-null    float64\n",
      " 10  일반_병원_수     3435 non-null   float64\n",
      " 11  약국_수        20900 non-null  float64\n",
      " 12  유치원_수       4385 non-null   float64\n",
      " 13  초등학교_수      163 non-null    float64\n",
      " 14  중학교_수       35 non-null     float64\n",
      " 15  고등학교_수      104 non-null    float64\n",
      " 16  대학교_수       715 non-null    float64\n",
      " 17  백화점_수       292 non-null    float64\n",
      " 18  슈퍼마켓_수      2830 non-null   float64\n",
      " 19  극장_수        2542 non-null   float64\n",
      " 20  숙박_시설_수     12339 non-null  float64\n",
      " 21  공항_수        0 non-null      float64\n",
      " 22  철도_역_수      92 non-null     float64\n",
      " 23  버스_터미널_수    106 non-null    float64\n",
      " 24  지하철_역_수     3947 non-null   float64\n",
      " 25  버스_정거장_수    25840 non-null  float64\n",
      "dtypes: float64(19), int64(4), object(3)\n",
      "memory usage: 6.3+ MB\n"
     ]
    }
   ],
   "source": [
    "jg_df.info()"
   ]
  },
  {
   "cell_type": "code",
   "execution_count": 22,
   "metadata": {},
   "outputs": [
    {
     "data": {
      "text/plain": [
       "array([2021, 2020, 2019, 2018, 2017])"
      ]
     },
     "execution_count": 22,
     "metadata": {},
     "output_type": "execute_result"
    }
   ],
   "source": [
    "jg_df['기준_년_코드'].unique()"
   ]
  },
  {
   "cell_type": "code",
   "execution_count": 23,
   "metadata": {},
   "outputs": [
    {
     "data": {
      "text/plain": [
       "array([4, 3, 2, 1])"
      ]
     },
     "execution_count": 23,
     "metadata": {},
     "output_type": "execute_result"
    }
   ],
   "source": [
    "jg_df['기준_분기_코드'].unique()"
   ]
  },
  {
   "cell_type": "code",
   "execution_count": 24,
   "metadata": {},
   "outputs": [
    {
     "data": {
      "text/plain": [
       "array(['A', 'R', 'D', 'U'], dtype=object)"
      ]
     },
     "execution_count": 24,
     "metadata": {},
     "output_type": "execute_result"
    }
   ],
   "source": [
    "jg_df['상권_구분_코드'].unique()"
   ]
  },
  {
   "cell_type": "code",
   "execution_count": 25,
   "metadata": {},
   "outputs": [
    {
     "data": {
      "text/plain": [
       "array(['골목상권', '전통시장', '발달상권', '관광특구'], dtype=object)"
      ]
     },
     "execution_count": 25,
     "metadata": {},
     "output_type": "execute_result"
    }
   ],
   "source": [
    "jg_df['상권_구분_코드_명'].unique()"
   ]
  },
  {
   "cell_type": "code",
   "execution_count": 26,
   "metadata": {},
   "outputs": [
    {
     "data": {
      "text/plain": [
       "array([2110939, 2110148, 2130039, ..., 2111045, 2130247, 2110987])"
      ]
     },
     "execution_count": 26,
     "metadata": {},
     "output_type": "execute_result"
    }
   ],
   "source": [
    "jg_df['상권_코드'].unique()"
   ]
  },
  {
   "cell_type": "code",
   "execution_count": 27,
   "metadata": {},
   "outputs": [
    {
     "data": {
      "text/html": [
       "<div>\n",
       "<style scoped>\n",
       "    .dataframe tbody tr th:only-of-type {\n",
       "        vertical-align: middle;\n",
       "    }\n",
       "\n",
       "    .dataframe tbody tr th {\n",
       "        vertical-align: top;\n",
       "    }\n",
       "\n",
       "    .dataframe thead th {\n",
       "        text-align: right;\n",
       "    }\n",
       "</style>\n",
       "<table border=\"1\" class=\"dataframe\">\n",
       "  <thead>\n",
       "    <tr style=\"text-align: right;\">\n",
       "      <th></th>\n",
       "      <th>기준_년_코드</th>\n",
       "      <th>기준_분기_코드</th>\n",
       "      <th>상권_구분_코드</th>\n",
       "      <th>상권_구분_코드_명</th>\n",
       "      <th>상권_코드</th>\n",
       "      <th>상권_코드_명</th>\n",
       "      <th>집객시설_수</th>\n",
       "      <th>관공서_수</th>\n",
       "      <th>은행_수</th>\n",
       "      <th>종합병원_수</th>\n",
       "      <th>...</th>\n",
       "      <th>대학교_수</th>\n",
       "      <th>백화점_수</th>\n",
       "      <th>슈퍼마켓_수</th>\n",
       "      <th>극장_수</th>\n",
       "      <th>숙박_시설_수</th>\n",
       "      <th>공항_수</th>\n",
       "      <th>철도_역_수</th>\n",
       "      <th>버스_터미널_수</th>\n",
       "      <th>지하철_역_수</th>\n",
       "      <th>버스_정거장_수</th>\n",
       "    </tr>\n",
       "  </thead>\n",
       "  <tbody>\n",
       "    <tr>\n",
       "      <th>0</th>\n",
       "      <td>2021</td>\n",
       "      <td>4</td>\n",
       "      <td>A</td>\n",
       "      <td>골목상권</td>\n",
       "      <td>2110939</td>\n",
       "      <td>양재역 8번(양재동우체국)</td>\n",
       "      <td>23</td>\n",
       "      <td>NaN</td>\n",
       "      <td>NaN</td>\n",
       "      <td>NaN</td>\n",
       "      <td>...</td>\n",
       "      <td>1.0</td>\n",
       "      <td>NaN</td>\n",
       "      <td>NaN</td>\n",
       "      <td>NaN</td>\n",
       "      <td>NaN</td>\n",
       "      <td>NaN</td>\n",
       "      <td>NaN</td>\n",
       "      <td>NaN</td>\n",
       "      <td>NaN</td>\n",
       "      <td>5.0</td>\n",
       "    </tr>\n",
       "    <tr>\n",
       "      <th>1</th>\n",
       "      <td>2021</td>\n",
       "      <td>4</td>\n",
       "      <td>A</td>\n",
       "      <td>골목상권</td>\n",
       "      <td>2110148</td>\n",
       "      <td>어린이대공원역 3번</td>\n",
       "      <td>1</td>\n",
       "      <td>NaN</td>\n",
       "      <td>NaN</td>\n",
       "      <td>NaN</td>\n",
       "      <td>...</td>\n",
       "      <td>NaN</td>\n",
       "      <td>NaN</td>\n",
       "      <td>NaN</td>\n",
       "      <td>NaN</td>\n",
       "      <td>NaN</td>\n",
       "      <td>NaN</td>\n",
       "      <td>NaN</td>\n",
       "      <td>NaN</td>\n",
       "      <td>NaN</td>\n",
       "      <td>NaN</td>\n",
       "    </tr>\n",
       "    <tr>\n",
       "      <th>2</th>\n",
       "      <td>2021</td>\n",
       "      <td>4</td>\n",
       "      <td>R</td>\n",
       "      <td>전통시장</td>\n",
       "      <td>2130039</td>\n",
       "      <td>청계6가 지하도상가</td>\n",
       "      <td>1</td>\n",
       "      <td>NaN</td>\n",
       "      <td>NaN</td>\n",
       "      <td>NaN</td>\n",
       "      <td>...</td>\n",
       "      <td>NaN</td>\n",
       "      <td>NaN</td>\n",
       "      <td>NaN</td>\n",
       "      <td>NaN</td>\n",
       "      <td>NaN</td>\n",
       "      <td>NaN</td>\n",
       "      <td>NaN</td>\n",
       "      <td>NaN</td>\n",
       "      <td>NaN</td>\n",
       "      <td>NaN</td>\n",
       "    </tr>\n",
       "    <tr>\n",
       "      <th>3</th>\n",
       "      <td>2021</td>\n",
       "      <td>4</td>\n",
       "      <td>R</td>\n",
       "      <td>전통시장</td>\n",
       "      <td>2130028</td>\n",
       "      <td>을지입구지하상가(을지로지하보도쇼핑센터)</td>\n",
       "      <td>1</td>\n",
       "      <td>NaN</td>\n",
       "      <td>NaN</td>\n",
       "      <td>NaN</td>\n",
       "      <td>...</td>\n",
       "      <td>NaN</td>\n",
       "      <td>NaN</td>\n",
       "      <td>NaN</td>\n",
       "      <td>NaN</td>\n",
       "      <td>NaN</td>\n",
       "      <td>NaN</td>\n",
       "      <td>NaN</td>\n",
       "      <td>NaN</td>\n",
       "      <td>1.0</td>\n",
       "      <td>NaN</td>\n",
       "    </tr>\n",
       "    <tr>\n",
       "      <th>4</th>\n",
       "      <td>2021</td>\n",
       "      <td>4</td>\n",
       "      <td>A</td>\n",
       "      <td>골목상권</td>\n",
       "      <td>2110231</td>\n",
       "      <td>장안교</td>\n",
       "      <td>2</td>\n",
       "      <td>NaN</td>\n",
       "      <td>NaN</td>\n",
       "      <td>NaN</td>\n",
       "      <td>...</td>\n",
       "      <td>NaN</td>\n",
       "      <td>NaN</td>\n",
       "      <td>NaN</td>\n",
       "      <td>NaN</td>\n",
       "      <td>NaN</td>\n",
       "      <td>NaN</td>\n",
       "      <td>NaN</td>\n",
       "      <td>NaN</td>\n",
       "      <td>NaN</td>\n",
       "      <td>NaN</td>\n",
       "    </tr>\n",
       "  </tbody>\n",
       "</table>\n",
       "<p>5 rows × 26 columns</p>\n",
       "</div>"
      ],
      "text/plain": [
       "   기준_년_코드  기준_분기_코드 상권_구분_코드 상권_구분_코드_명    상권_코드                상권_코드_명  \\\n",
       "0     2021         4        A       골목상권  2110939         양재역 8번(양재동우체국)   \n",
       "1     2021         4        A       골목상권  2110148             어린이대공원역 3번   \n",
       "2     2021         4        R       전통시장  2130039             청계6가 지하도상가   \n",
       "3     2021         4        R       전통시장  2130028  을지입구지하상가(을지로지하보도쇼핑센터)   \n",
       "4     2021         4        A       골목상권  2110231                    장안교   \n",
       "\n",
       "   집객시설_수  관공서_수  은행_수  종합병원_수  ...  대학교_수  백화점_수  슈퍼마켓_수  극장_수  숙박_시설_수  \\\n",
       "0      23    NaN   NaN     NaN  ...    1.0    NaN     NaN   NaN      NaN   \n",
       "1       1    NaN   NaN     NaN  ...    NaN    NaN     NaN   NaN      NaN   \n",
       "2       1    NaN   NaN     NaN  ...    NaN    NaN     NaN   NaN      NaN   \n",
       "3       1    NaN   NaN     NaN  ...    NaN    NaN     NaN   NaN      NaN   \n",
       "4       2    NaN   NaN     NaN  ...    NaN    NaN     NaN   NaN      NaN   \n",
       "\n",
       "   공항_수  철도_역_수  버스_터미널_수  지하철_역_수  버스_정거장_수  \n",
       "0   NaN     NaN       NaN      NaN       5.0  \n",
       "1   NaN     NaN       NaN      NaN       NaN  \n",
       "2   NaN     NaN       NaN      NaN       NaN  \n",
       "3   NaN     NaN       NaN      1.0       NaN  \n",
       "4   NaN     NaN       NaN      NaN       NaN  \n",
       "\n",
       "[5 rows x 26 columns]"
      ]
     },
     "execution_count": 27,
     "metadata": {},
     "output_type": "execute_result"
    }
   ],
   "source": [
    "jg_df.head()"
   ]
  },
  {
   "cell_type": "code",
   "execution_count": 28,
   "metadata": {},
   "outputs": [],
   "source": [
    "jg_chk_df =jg_df.groupby( ['기준_년_코드', '기준_분기_코드', '상권_코드'])['상권_구분_코드'].count().reset_index()"
   ]
  },
  {
   "cell_type": "code",
   "execution_count": 29,
   "metadata": {},
   "outputs": [
    {
     "data": {
      "text/plain": [
       "31722"
      ]
     },
     "execution_count": 29,
     "metadata": {},
     "output_type": "execute_result"
    }
   ],
   "source": [
    "jg_chk_df['상권_구분_코드'].sum()"
   ]
  },
  {
   "cell_type": "code",
   "execution_count": 30,
   "metadata": {},
   "outputs": [
    {
     "data": {
      "text/plain": [
       "(31722, 4)"
      ]
     },
     "execution_count": 30,
     "metadata": {},
     "output_type": "execute_result"
    }
   ],
   "source": [
    "jg_chk_df.shape"
   ]
  },
  {
   "cell_type": "code",
   "execution_count": 32,
   "metadata": {},
   "outputs": [
    {
     "data": {
      "text/plain": [
       "Index(['기준_년_코드', '기준_분기_코드', '상권_구분_코드', '상권_구분_코드_명', '상권_코드', '상권_코드_명',\n",
       "       '집객시설_수', '관공서_수', '은행_수', '종합병원_수', '일반_병원_수', '약국_수', '유치원_수',\n",
       "       '초등학교_수', '중학교_수', '고등학교_수', '대학교_수', '백화점_수', '슈퍼마켓_수', '극장_수',\n",
       "       '숙박_시설_수', '공항_수', '철도_역_수', '버스_터미널_수', '지하철_역_수', '버스_정거장_수'],\n",
       "      dtype='object')"
      ]
     },
     "execution_count": 32,
     "metadata": {},
     "output_type": "execute_result"
    }
   ],
   "source": [
    "jg_df.columns"
   ]
  },
  {
   "cell_type": "code",
   "execution_count": 33,
   "metadata": {},
   "outputs": [],
   "source": [
    "jp_df = pd.read_csv('./data/서울시 우리마을가게 상권분석서비스(상권-점포).csv', encoding='cp949')"
   ]
  },
  {
   "cell_type": "code",
   "execution_count": 34,
   "metadata": {},
   "outputs": [
    {
     "name": "stdout",
     "output_type": "stream",
     "text": [
      "<class 'pandas.core.frame.DataFrame'>\n",
      "RangeIndex: 598403 entries, 0 to 598402\n",
      "Data columns (total 15 columns):\n",
      " #   Column       Non-Null Count   Dtype \n",
      "---  ------       --------------   ----- \n",
      " 0   기준_년_코드      598403 non-null  int64 \n",
      " 1   기준_분기_코드     598403 non-null  int64 \n",
      " 2   상권_구분_코드     598403 non-null  object\n",
      " 3   상권_구분_코드_명   598403 non-null  object\n",
      " 4   상권_코드        598403 non-null  int64 \n",
      " 5   상권_코드_명      598403 non-null  object\n",
      " 6   서비스_업종_코드    598403 non-null  object\n",
      " 7   서비스_업종_코드_명  598403 non-null  object\n",
      " 8   점포_수         598403 non-null  int64 \n",
      " 9   유사_업종_점포_수   598403 non-null  int64 \n",
      " 10  개업_율         598403 non-null  int64 \n",
      " 11  개업_점포_수      598403 non-null  int64 \n",
      " 12  폐업_률         598403 non-null  int64 \n",
      " 13  폐업_점포_수      598403 non-null  int64 \n",
      " 14  프랜차이즈_점포_수   598403 non-null  int64 \n",
      "dtypes: int64(10), object(5)\n",
      "memory usage: 68.5+ MB\n"
     ]
    }
   ],
   "source": [
    "jp_df.info()"
   ]
  },
  {
   "cell_type": "code",
   "execution_count": 38,
   "metadata": {},
   "outputs": [],
   "source": [
    "jp_chk_df =jp_df.groupby( ['기준_년_코드', '기준_분기_코드', '상권_구분_코드', '상권_코드', '서비스_업종_코드'])['점포_수'].count().reset_index()"
   ]
  },
  {
   "cell_type": "code",
   "execution_count": 41,
   "metadata": {},
   "outputs": [
    {
     "data": {
      "text/plain": [
       "598403"
      ]
     },
     "execution_count": 41,
     "metadata": {},
     "output_type": "execute_result"
    }
   ],
   "source": [
    "jp_chk_df['점포_수'].sum()"
   ]
  },
  {
   "cell_type": "code",
   "execution_count": 42,
   "metadata": {},
   "outputs": [
    {
     "data": {
      "text/plain": [
       "(598403, 6)"
      ]
     },
     "execution_count": 42,
     "metadata": {},
     "output_type": "execute_result"
    }
   ],
   "source": [
    "jp_chk_df.shape"
   ]
  },
  {
   "cell_type": "code",
   "execution_count": 44,
   "metadata": {},
   "outputs": [
    {
     "data": {
      "text/plain": [
       "array([2021, 2020])"
      ]
     },
     "execution_count": 44,
     "metadata": {},
     "output_type": "execute_result"
    }
   ],
   "source": [
    "jp_df['기준_년_코드'].unique()"
   ]
  },
  {
   "cell_type": "code",
   "execution_count": 45,
   "metadata": {},
   "outputs": [
    {
     "data": {
      "text/plain": [
       "array([4, 3, 2, 1])"
      ]
     },
     "execution_count": 45,
     "metadata": {},
     "output_type": "execute_result"
    }
   ],
   "source": [
    "jp_df['기준_분기_코드'].unique()"
   ]
  },
  {
   "cell_type": "code",
   "execution_count": 48,
   "metadata": {},
   "outputs": [
    {
     "data": {
      "text/plain": [
       "100"
      ]
     },
     "execution_count": 48,
     "metadata": {},
     "output_type": "execute_result"
    }
   ],
   "source": [
    "len(jp_df['서비스_업종_코드'].unique())"
   ]
  },
  {
   "cell_type": "code",
   "execution_count": 47,
   "metadata": {},
   "outputs": [
    {
     "data": {
      "text/plain": [
       "array(['전자상거래업', '주유소', '예술품', '자동차부품', '조명용품', '인테리어', '악기', '철물점',\n",
       "       '가전제품', '가구', '애완동물', '화초', '섬유제품', '완구', '운동/경기용품', '미용재료', '화장품',\n",
       "       '문구', '서적', '의료기기', '의약품', '시계및귀금속', '안경', '가방', '신발', '유아의류',\n",
       "       '일반의류', '반찬가게', '청과상', '육류판매', '미곡판매', '주류도매', '핸드폰', '컴퓨터및주변장치판매',\n",
       "       '편의점', '슈퍼마켓', '여행사', '건축물청소', '통번역서비스', '사진관', '부동산중개업', '세탁소',\n",
       "       '피부관리실', '네일숍', '미용실', '자동차미용', '스포츠클럽', 'PC방', '세무사사무소',\n",
       "       '기타법무서비스', '법무사사무소', '변호사사무소', '치과의원', '일반의원', '외국어학원', '일반교습학원',\n",
       "       '커피-음료', '분식전문점', '패스트푸드점', '제과점', '양식음식점', '일식음식점', '중식음식점',\n",
       "       '한식음식점', '재생용품 판매점', '중고차판매', '자전거 및 기타운송장비', '수산물판매', '의류임대',\n",
       "       '비디오/서적임대', '녹음실', 'DVD방', '노래방', '고시원', '여관', '가전제품수리', '자동차수리',\n",
       "       '통신기기수리', '복권방', '기타오락장', '볼링장', '골프연습장', '당구장', '회계사사무소',\n",
       "       '변리사사무소', '동물병원', '한의원', '스포츠 강습', '컴퓨터학원', '예술학원', '호프-간이주점',\n",
       "       '치킨전문점', '한복점', '가정용품임대', '독서실', '게스트하우스', '모터사이클수리', '전자게임장',\n",
       "       '모터사이클및부품', '중고가구'], dtype=object)"
      ]
     },
     "execution_count": 47,
     "metadata": {},
     "output_type": "execute_result"
    }
   ],
   "source": [
    "jp_df['서비스_업종_코드_명'].unique()"
   ]
  },
  {
   "cell_type": "code",
   "execution_count": 49,
   "metadata": {},
   "outputs": [
    {
     "data": {
      "text/plain": [
       "Index(['기준_년_코드', '기준_분기_코드', '상권_구분_코드', '상권_구분_코드_명', '상권_코드', '상권_코드_명',\n",
       "       '서비스_업종_코드', '서비스_업종_코드_명', '점포_수', '유사_업종_점포_수', '개업_율', '개업_점포_수',\n",
       "       '폐업_률', '폐업_점포_수', '프랜차이즈_점포_수'],\n",
       "      dtype='object')"
      ]
     },
     "execution_count": 49,
     "metadata": {},
     "output_type": "execute_result"
    }
   ],
   "source": [
    "jp_df.columns"
   ]
  },
  {
   "cell_type": "code",
   "execution_count": null,
   "metadata": {},
   "outputs": [],
   "source": []
  }
 ],
 "metadata": {
  "kernelspec": {
   "display_name": "Python 3",
   "language": "python",
   "name": "python3"
  },
  "language_info": {
   "codemirror_mode": {
    "name": "ipython",
    "version": 3
   },
   "file_extension": ".py",
   "mimetype": "text/x-python",
   "name": "python",
   "nbconvert_exporter": "python",
   "pygments_lexer": "ipython3",
   "version": "3.7.6"
  }
 },
 "nbformat": 4,
 "nbformat_minor": 4
}
