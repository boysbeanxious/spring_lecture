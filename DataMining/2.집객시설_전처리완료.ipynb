{
 "cells": [
  {
   "cell_type": "markdown",
   "metadata": {},
   "source": [
    "# 1. 집객시설 데이터 전처리 "
   ]
  },
  {
   "cell_type": "markdown",
   "metadata": {},
   "source": [
    ". 기준년, 분기, 상권코드 기준으로 주변 집객시설에 대한 데이터  \n",
    ". 상권에대한 집객시설 데이터 상세  "
   ]
  },
  {
   "cell_type": "markdown",
   "metadata": {},
   "source": [
    "1. 해당 지역 주변에 집객시설이 없는경우 null처리 해두어 데이터 분석 전 전처리 필요(0으로 치환)  \n",
    "2. 2017년부터 2021년까지의 데이터를 가지고 있으므로 최종 데이터인 2021년 데이터 선택  \n",
    "3. 계절성을 없애고 기준년, 상권구분, 상권코드, 서비스 업종 기반으로 분석하기 위해 데이터 전처리 "
   ]
  },
  {
   "cell_type": "code",
   "execution_count": 4,
   "metadata": {},
   "outputs": [],
   "source": [
    "import pandas as pd\n",
    "import numpy as np"
   ]
  },
  {
   "cell_type": "code",
   "execution_count": 5,
   "metadata": {},
   "outputs": [],
   "source": [
    "df_jg = pd.read_csv('./data/서울시 우리마을가게 상권분석서비스(상권-집객시설).csv', encoding='cp949')"
   ]
  },
  {
   "cell_type": "code",
   "execution_count": 6,
   "metadata": {},
   "outputs": [
    {
     "data": {
      "text/html": [
       "<div>\n",
       "<style scoped>\n",
       "    .dataframe tbody tr th:only-of-type {\n",
       "        vertical-align: middle;\n",
       "    }\n",
       "\n",
       "    .dataframe tbody tr th {\n",
       "        vertical-align: top;\n",
       "    }\n",
       "\n",
       "    .dataframe thead th {\n",
       "        text-align: right;\n",
       "    }\n",
       "</style>\n",
       "<table border=\"1\" class=\"dataframe\">\n",
       "  <thead>\n",
       "    <tr style=\"text-align: right;\">\n",
       "      <th></th>\n",
       "      <th>기준_년_코드</th>\n",
       "      <th>기준_분기_코드</th>\n",
       "      <th>상권_구분_코드</th>\n",
       "      <th>상권_구분_코드_명</th>\n",
       "      <th>상권_코드</th>\n",
       "      <th>상권_코드_명</th>\n",
       "      <th>집객시설_수</th>\n",
       "      <th>관공서_수</th>\n",
       "      <th>은행_수</th>\n",
       "      <th>종합병원_수</th>\n",
       "      <th>...</th>\n",
       "      <th>대학교_수</th>\n",
       "      <th>백화점_수</th>\n",
       "      <th>슈퍼마켓_수</th>\n",
       "      <th>극장_수</th>\n",
       "      <th>숙박_시설_수</th>\n",
       "      <th>공항_수</th>\n",
       "      <th>철도_역_수</th>\n",
       "      <th>버스_터미널_수</th>\n",
       "      <th>지하철_역_수</th>\n",
       "      <th>버스_정거장_수</th>\n",
       "    </tr>\n",
       "  </thead>\n",
       "  <tbody>\n",
       "    <tr>\n",
       "      <th>0</th>\n",
       "      <td>2021</td>\n",
       "      <td>4</td>\n",
       "      <td>A</td>\n",
       "      <td>골목상권</td>\n",
       "      <td>2110939</td>\n",
       "      <td>양재역 8번(양재동우체국)</td>\n",
       "      <td>23</td>\n",
       "      <td>NaN</td>\n",
       "      <td>NaN</td>\n",
       "      <td>NaN</td>\n",
       "      <td>...</td>\n",
       "      <td>1.0</td>\n",
       "      <td>NaN</td>\n",
       "      <td>NaN</td>\n",
       "      <td>NaN</td>\n",
       "      <td>NaN</td>\n",
       "      <td>NaN</td>\n",
       "      <td>NaN</td>\n",
       "      <td>NaN</td>\n",
       "      <td>NaN</td>\n",
       "      <td>5.0</td>\n",
       "    </tr>\n",
       "    <tr>\n",
       "      <th>1</th>\n",
       "      <td>2021</td>\n",
       "      <td>4</td>\n",
       "      <td>A</td>\n",
       "      <td>골목상권</td>\n",
       "      <td>2110148</td>\n",
       "      <td>어린이대공원역 3번</td>\n",
       "      <td>1</td>\n",
       "      <td>NaN</td>\n",
       "      <td>NaN</td>\n",
       "      <td>NaN</td>\n",
       "      <td>...</td>\n",
       "      <td>NaN</td>\n",
       "      <td>NaN</td>\n",
       "      <td>NaN</td>\n",
       "      <td>NaN</td>\n",
       "      <td>NaN</td>\n",
       "      <td>NaN</td>\n",
       "      <td>NaN</td>\n",
       "      <td>NaN</td>\n",
       "      <td>NaN</td>\n",
       "      <td>NaN</td>\n",
       "    </tr>\n",
       "    <tr>\n",
       "      <th>2</th>\n",
       "      <td>2021</td>\n",
       "      <td>4</td>\n",
       "      <td>R</td>\n",
       "      <td>전통시장</td>\n",
       "      <td>2130039</td>\n",
       "      <td>청계6가 지하도상가</td>\n",
       "      <td>1</td>\n",
       "      <td>NaN</td>\n",
       "      <td>NaN</td>\n",
       "      <td>NaN</td>\n",
       "      <td>...</td>\n",
       "      <td>NaN</td>\n",
       "      <td>NaN</td>\n",
       "      <td>NaN</td>\n",
       "      <td>NaN</td>\n",
       "      <td>NaN</td>\n",
       "      <td>NaN</td>\n",
       "      <td>NaN</td>\n",
       "      <td>NaN</td>\n",
       "      <td>NaN</td>\n",
       "      <td>NaN</td>\n",
       "    </tr>\n",
       "    <tr>\n",
       "      <th>3</th>\n",
       "      <td>2021</td>\n",
       "      <td>4</td>\n",
       "      <td>R</td>\n",
       "      <td>전통시장</td>\n",
       "      <td>2130028</td>\n",
       "      <td>을지입구지하상가(을지로지하보도쇼핑센터)</td>\n",
       "      <td>1</td>\n",
       "      <td>NaN</td>\n",
       "      <td>NaN</td>\n",
       "      <td>NaN</td>\n",
       "      <td>...</td>\n",
       "      <td>NaN</td>\n",
       "      <td>NaN</td>\n",
       "      <td>NaN</td>\n",
       "      <td>NaN</td>\n",
       "      <td>NaN</td>\n",
       "      <td>NaN</td>\n",
       "      <td>NaN</td>\n",
       "      <td>NaN</td>\n",
       "      <td>1.0</td>\n",
       "      <td>NaN</td>\n",
       "    </tr>\n",
       "    <tr>\n",
       "      <th>4</th>\n",
       "      <td>2021</td>\n",
       "      <td>4</td>\n",
       "      <td>A</td>\n",
       "      <td>골목상권</td>\n",
       "      <td>2110231</td>\n",
       "      <td>장안교</td>\n",
       "      <td>2</td>\n",
       "      <td>NaN</td>\n",
       "      <td>NaN</td>\n",
       "      <td>NaN</td>\n",
       "      <td>...</td>\n",
       "      <td>NaN</td>\n",
       "      <td>NaN</td>\n",
       "      <td>NaN</td>\n",
       "      <td>NaN</td>\n",
       "      <td>NaN</td>\n",
       "      <td>NaN</td>\n",
       "      <td>NaN</td>\n",
       "      <td>NaN</td>\n",
       "      <td>NaN</td>\n",
       "      <td>NaN</td>\n",
       "    </tr>\n",
       "  </tbody>\n",
       "</table>\n",
       "<p>5 rows × 26 columns</p>\n",
       "</div>"
      ],
      "text/plain": [
       "   기준_년_코드  기준_분기_코드 상권_구분_코드 상권_구분_코드_명    상권_코드                상권_코드_명  \\\n",
       "0     2021         4        A       골목상권  2110939         양재역 8번(양재동우체국)   \n",
       "1     2021         4        A       골목상권  2110148             어린이대공원역 3번   \n",
       "2     2021         4        R       전통시장  2130039             청계6가 지하도상가   \n",
       "3     2021         4        R       전통시장  2130028  을지입구지하상가(을지로지하보도쇼핑센터)   \n",
       "4     2021         4        A       골목상권  2110231                    장안교   \n",
       "\n",
       "   집객시설_수  관공서_수  은행_수  종합병원_수  ...  대학교_수  백화점_수  슈퍼마켓_수  극장_수  숙박_시설_수  \\\n",
       "0      23    NaN   NaN     NaN  ...    1.0    NaN     NaN   NaN      NaN   \n",
       "1       1    NaN   NaN     NaN  ...    NaN    NaN     NaN   NaN      NaN   \n",
       "2       1    NaN   NaN     NaN  ...    NaN    NaN     NaN   NaN      NaN   \n",
       "3       1    NaN   NaN     NaN  ...    NaN    NaN     NaN   NaN      NaN   \n",
       "4       2    NaN   NaN     NaN  ...    NaN    NaN     NaN   NaN      NaN   \n",
       "\n",
       "   공항_수  철도_역_수  버스_터미널_수  지하철_역_수  버스_정거장_수  \n",
       "0   NaN     NaN       NaN      NaN       5.0  \n",
       "1   NaN     NaN       NaN      NaN       NaN  \n",
       "2   NaN     NaN       NaN      NaN       NaN  \n",
       "3   NaN     NaN       NaN      1.0       NaN  \n",
       "4   NaN     NaN       NaN      NaN       NaN  \n",
       "\n",
       "[5 rows x 26 columns]"
      ]
     },
     "execution_count": 6,
     "metadata": {},
     "output_type": "execute_result"
    }
   ],
   "source": [
    "df_jg.head()"
   ]
  },
  {
   "cell_type": "code",
   "execution_count": 7,
   "metadata": {
    "scrolled": true
   },
   "outputs": [
    {
     "name": "stdout",
     "output_type": "stream",
     "text": [
      "<class 'pandas.core.frame.DataFrame'>\n",
      "RangeIndex: 31722 entries, 0 to 31721\n",
      "Data columns (total 26 columns):\n",
      " #   Column      Non-Null Count  Dtype  \n",
      "---  ------      --------------  -----  \n",
      " 0   기준_년_코드     31722 non-null  int64  \n",
      " 1   기준_분기_코드    31722 non-null  int64  \n",
      " 2   상권_구분_코드    31722 non-null  object \n",
      " 3   상권_구분_코드_명  31722 non-null  object \n",
      " 4   상권_코드       31722 non-null  int64  \n",
      " 5   상권_코드_명     31722 non-null  object \n",
      " 6   집객시설_수      31722 non-null  int64  \n",
      " 7   관공서_수       12080 non-null  float64\n",
      " 8   은행_수        10651 non-null  float64\n",
      " 9   종합병원_수      511 non-null    float64\n",
      " 10  일반_병원_수     3435 non-null   float64\n",
      " 11  약국_수        20900 non-null  float64\n",
      " 12  유치원_수       4385 non-null   float64\n",
      " 13  초등학교_수      163 non-null    float64\n",
      " 14  중학교_수       35 non-null     float64\n",
      " 15  고등학교_수      104 non-null    float64\n",
      " 16  대학교_수       715 non-null    float64\n",
      " 17  백화점_수       292 non-null    float64\n",
      " 18  슈퍼마켓_수      2830 non-null   float64\n",
      " 19  극장_수        2542 non-null   float64\n",
      " 20  숙박_시설_수     12339 non-null  float64\n",
      " 21  공항_수        0 non-null      float64\n",
      " 22  철도_역_수      92 non-null     float64\n",
      " 23  버스_터미널_수    106 non-null    float64\n",
      " 24  지하철_역_수     3947 non-null   float64\n",
      " 25  버스_정거장_수    25840 non-null  float64\n",
      "dtypes: float64(19), int64(4), object(3)\n",
      "memory usage: 6.3+ MB\n"
     ]
    }
   ],
   "source": [
    "df_jg.info()"
   ]
  },
  {
   "cell_type": "markdown",
   "metadata": {},
   "source": [
    "### 3.1 해당 지역 주변에 집객시설이 없는경우 null처리 해두어 데이터 분석 전 전처리 필요\n",
    "0으로 치환"
   ]
  },
  {
   "cell_type": "code",
   "execution_count": 8,
   "metadata": {},
   "outputs": [],
   "source": [
    "# 3.1 해당 지역 주변에 집객시설이 없는경우 null처리 해두어 데이터 분석 전 전처리 필요(0으로 치환)  \n",
    "df_jg_1 = df_jg.fillna(0)"
   ]
  },
  {
   "cell_type": "markdown",
   "metadata": {},
   "source": [
    "### 3.2 2017년부터 2021년까지의 데이터를 가지고 있으므로 최종 데이터인 2021년 데이터 선택  "
   ]
  },
  {
   "cell_type": "code",
   "execution_count": 9,
   "metadata": {},
   "outputs": [],
   "source": [
    "### 3.2 2017년부터 2021년까지의 데이터를 가지고 있으므로 최종 데이터인 2021년 데이터 선택  \n",
    "df_jg_2 = df_jg_1.loc[df_jg_1['기준_년_코드']==2021]"
   ]
  },
  {
   "cell_type": "markdown",
   "metadata": {},
   "source": [
    "### 3.3 계절성을 없애고 기준년, 상권구분, 상권코드, 서비스 업종 기반으로 분석하기 위해 데이터 전처리 "
   ]
  },
  {
   "cell_type": "code",
   "execution_count": 10,
   "metadata": {},
   "outputs": [],
   "source": [
    "# 3.3 계절성을 없애고 기준년, 상권구분, 상권코드, 서비스 업종 기반으로 분석하기 위해 데이터 전처리 \n",
    "jg_groupby_col = ['집객시설_수', '관공서_수', '은행_수', '종합병원_수', '일반_병원_수', '약국_수', '유치원_수',\n",
    "       '초등학교_수', '중학교_수', '고등학교_수', '대학교_수', '백화점_수', '슈퍼마켓_수', '극장_수',\n",
    "       '숙박_시설_수', '공항_수', '철도_역_수', '버스_터미널_수', '지하철_역_수', '버스_정거장_수']\n",
    "\n",
    "df_jg_3 = df_jg_2.groupby(['기준_년_코드','상권_구분_코드', '상권_구분_코드_명', '상권_코드', '상권_코드_명']).mean()[jg_groupby_col].reset_index()"
   ]
  },
  {
   "cell_type": "code",
   "execution_count": 11,
   "metadata": {},
   "outputs": [],
   "source": [
    "######### mean이 맞는건지..?"
   ]
  },
  {
   "cell_type": "code",
   "execution_count": 14,
   "metadata": {},
   "outputs": [],
   "source": [
    "df_jg_2.to_csv('./data/2.집객시설_전처리완료.csv' , encoding='cp949')"
   ]
  },
  {
   "cell_type": "code",
   "execution_count": null,
   "metadata": {},
   "outputs": [],
   "source": []
  }
 ],
 "metadata": {
  "kernelspec": {
   "display_name": "Python 3",
   "language": "python",
   "name": "python3"
  },
  "language_info": {
   "codemirror_mode": {
    "name": "ipython",
    "version": 3
   },
   "file_extension": ".py",
   "mimetype": "text/x-python",
   "name": "python",
   "nbconvert_exporter": "python",
   "pygments_lexer": "ipython3",
   "version": "3.7.6"
  }
 },
 "nbformat": 4,
 "nbformat_minor": 4
}
