{
 "cells": [
  {
   "cell_type": "markdown",
   "metadata": {},
   "source": [
    "# Chapter 9: Classification and Regression Trees (revised by Kang)\n",
    "\n",
    "> (c) 2019 Galit Shmueli, Peter C. Bruce, Peter Gedeck \n",
    ">\n",
    "> Code included in\n",
    ">\n",
    "> _Data Mining for Business Analytics: Concepts, Techniques, and Applications in Python_ (First Edition) \n",
    "> Galit Shmueli, Peter C. Bruce, Peter Gedeck, and Nitin R. Patel. 2019.\n",
    "\n",
    "## Import required packages"
   ]
  },
  {
   "cell_type": "code",
   "execution_count": 1,
   "metadata": {},
   "outputs": [
    {
     "name": "stdout",
     "output_type": "stream",
     "text": [
      "no display found. Using non-interactive Agg backend\n"
     ]
    }
   ],
   "source": [
    "import dmba\n",
    "from dmba import plotDecisionTree, classificationSummary, regressionSummary"
   ]
  },
  {
   "cell_type": "code",
   "execution_count": 2,
   "metadata": {
    "execution": {
     "iopub.execute_input": "2022-02-05T23:03:50.053106Z",
     "iopub.status.busy": "2022-02-05T23:03:50.052584Z",
     "iopub.status.idle": "2022-02-05T23:03:52.036351Z",
     "shell.execute_reply": "2022-02-05T23:03:52.036728Z"
    }
   },
   "outputs": [],
   "source": [
    "\n",
    "\n",
    "from pathlib import Path\n",
    "\n",
    "import pandas as pd\n",
    "import numpy as np\n",
    "from sklearn.tree import DecisionTreeClassifier, DecisionTreeRegressor\n",
    "from sklearn.ensemble import RandomForestClassifier, GradientBoostingClassifier\n",
    "from sklearn.model_selection import train_test_split, cross_val_score, GridSearchCV\n",
    "import matplotlib.pylab as plt\n",
    "\n",
    "%matplotlib inline"
   ]
  },
  {
   "cell_type": "code",
   "execution_count": 3,
   "metadata": {},
   "outputs": [],
   "source": [
    "# If you have the error related to \"graphviz\", please install \"graphviz\" using this information: \n",
    "# https://graphviz.org/download/"
   ]
  },
  {
   "cell_type": "markdown",
   "metadata": {},
   "source": [
    "## Figure 9.7"
   ]
  },
  {
   "cell_type": "code",
   "execution_count": 5,
   "metadata": {
    "execution": {
     "iopub.execute_input": "2022-02-05T23:03:52.041303Z",
     "iopub.status.busy": "2022-02-05T23:03:52.040891Z",
     "iopub.status.idle": "2022-02-05T23:03:52.136152Z",
     "shell.execute_reply": "2022-02-05T23:03:52.136471Z"
    }
   },
   "outputs": [
    {
     "name": "stdout",
     "output_type": "stream",
     "text": [
      "Classes: Nonowner, Owner\n"
     ]
    },
    {
     "data": {
      "image/png": "[encoded data removed]",
      "text/plain": [
       "<IPython.core.display.Image object>"
      ]
     },
     "execution_count": 5,
     "metadata": {},
     "output_type": "execute_result"
    }
   ],
   "source": [
    "mower_df = dmba.load_data('RidingMowers.csv')\n",
    "\n",
    "classTree = DecisionTreeClassifier(random_state=0, max_depth=1)\n",
    "classTree.fit(mower_df.drop(columns=['Ownership']), mower_df['Ownership'])\n",
    "\n",
    "print(\"Classes: {}\".format(', '.join(classTree.classes_)))\n",
    "plotDecisionTree(classTree, feature_names=mower_df.columns[:2], class_names=classTree.classes_)"
   ]
  },
  {
   "cell_type": "code",
   "execution_count": null,
   "metadata": {},
   "outputs": [],
   "source": [
    "# mower_df = pd.read_csv('./data/RidingMowers.csv')"
   ]
  },
  {
   "cell_type": "code",
   "execution_count": null,
   "metadata": {},
   "outputs": [],
   "source": [
    "# mower_df = dmba.load_data('RidingMowers.csv')"
   ]
  },
  {
   "cell_type": "code",
   "execution_count": null,
   "metadata": {},
   "outputs": [],
   "source": [
    "# mower_df.head()"
   ]
  },
  {
   "cell_type": "markdown",
   "metadata": {},
   "source": [
    "The order of the `values` vector in the boxes is the same as `classTree.classes_`."
   ]
  },
  {
   "cell_type": "markdown",
   "metadata": {},
   "source": [
    "## Figure 9.8\n",
    "Grow tree fully"
   ]
  },
  {
   "cell_type": "code",
   "execution_count": null,
   "metadata": {
    "execution": {
     "iopub.execute_input": "2022-02-05T23:03:52.145329Z",
     "iopub.status.busy": "2022-02-05T23:03:52.144931Z",
     "iopub.status.idle": "2022-02-05T23:03:52.333491Z",
     "shell.execute_reply": "2022-02-05T23:03:52.333831Z"
    }
   },
   "outputs": [],
   "source": [
    "classTree = DecisionTreeClassifier(random_state=0)\n",
    "classTree.fit(mower_df.drop(columns=['Ownership']), mower_df['Ownership'])\n",
    "\n",
    "print(\"Classes: {}\".format(', '.join(classTree.classes_)))\n",
    "plotDecisionTree(classTree, feature_names=mower_df.columns[:2], class_names=classTree.classes_)"
   ]
  },
  {
   "cell_type": "markdown",
   "metadata": {},
   "source": [
    "## Figure 9.10"
   ]
  },
  {
   "cell_type": "code",
   "execution_count": null,
   "metadata": {
    "execution": {
     "iopub.execute_input": "2022-02-05T23:03:52.340477Z",
     "iopub.status.busy": "2022-02-05T23:03:52.340071Z",
     "iopub.status.idle": "2022-02-05T23:03:53.307989Z",
     "shell.execute_reply": "2022-02-05T23:03:53.308279Z"
    }
   },
   "outputs": [],
   "source": [
    "bank_df = dmba.load_data('UniversalBank.csv')\n",
    "bank_df = bank_df.drop(columns=['ID', 'ZIP Code'])\n",
    "\n",
    "X = bank_df.drop(columns=['Personal Loan'])\n",
    "y = bank_df['Personal Loan']\n",
    "train_X, valid_X, train_y, valid_y = train_test_split(X, y, test_size=0.4, random_state=1)\n",
    "\n",
    "fullClassTree = DecisionTreeClassifier()\n",
    "fullClassTree.fit(train_X, train_y)\n",
    "\n",
    "plotDecisionTree(fullClassTree, feature_names=train_X.columns)"
   ]
  },
  {
   "cell_type": "markdown",
   "metadata": {},
   "source": [
    "## Table 9.3\n",
    "<!-- <div class='alert alert-danger'>R output for reference - remove once missing metrics are available.\n",
    "```\n",
    "> confusionMatrix(default.ct.point.pred.train, train.df$Personal.Loan)\n",
    "Confusion Matrix and Statistics\n",
    "\n",
    "          Reference\n",
    "Prediction    0    1\n",
    "         0 2696   26\n",
    "         1   13  265\n",
    "                                          \n",
    "               Accuracy : 0.987           \n",
    "                 95% CI : (0.9823, 0.9907)\n",
    "    No Information Rate : 0.903           \n",
    "    P-Value [Acc > NIR] : < 2e-16         \n",
    "                                          \n",
    "                  Kappa : 0.9243          \n",
    " Mcnemar's Test P-Value : 0.05466         \n",
    "                                          \n",
    "            Sensitivity : 0.9952          \n",
    "            Specificity : 0.9107          \n",
    "         Pos Pred Value : 0.9904          \n",
    "         Neg Pred Value : 0.9532          \n",
    "             Prevalence : 0.9030          \n",
    "         Detection Rate : 0.8987          \n",
    "   Detection Prevalence : 0.9073          \n",
    "      Balanced Accuracy : 0.9529          \n",
    "                                          \n",
    "       'Positive' Class : 0               \n",
    "```\n",
    "</div>-->"
   ]
  },
  {
   "cell_type": "code",
   "execution_count": null,
   "metadata": {
    "execution": {
     "iopub.execute_input": "2022-02-05T23:03:53.310673Z",
     "iopub.status.busy": "2022-02-05T23:03:53.310102Z",
     "iopub.status.idle": "2022-02-05T23:03:53.320053Z",
     "shell.execute_reply": "2022-02-05T23:03:53.320342Z"
    }
   },
   "outputs": [],
   "source": [
    "classificationSummary(train_y, fullClassTree.predict(train_X))\n",
    "classificationSummary(valid_y, fullClassTree.predict(valid_X))"
   ]
  },
  {
   "cell_type": "markdown",
   "metadata": {},
   "source": [
    "## Table 9.4"
   ]
  },
  {
   "cell_type": "code",
   "execution_count": null,
   "metadata": {
    "execution": {
     "iopub.execute_input": "2022-02-05T23:03:53.323041Z",
     "iopub.status.busy": "2022-02-05T23:03:53.322657Z",
     "iopub.status.idle": "2022-02-05T23:03:53.353825Z",
     "shell.execute_reply": "2022-02-05T23:03:53.353400Z"
    }
   },
   "outputs": [],
   "source": [
    "# Five-fold cross-validation of the full decision tree classifier\n",
    "treeClassifier = DecisionTreeClassifier()\n",
    "\n",
    "scores = cross_val_score(treeClassifier, train_X, train_y, cv=5)\n",
    "print('Accuracy scores of each fold: ', [f'{acc:.3f}' for acc in scores])\n",
    "print(f'Accuracy: {scores.mean():.3f} (+/- {scores.std() * 2:.3f})')\n",
    "print(f'Accuracy: {scores.mean():.3f} (+/- {scores.std():.3f})')"
   ]
  },
  {
   "cell_type": "markdown",
   "metadata": {},
   "source": [
    "## Figure 9.12"
   ]
  },
  {
   "cell_type": "code",
   "execution_count": null,
   "metadata": {
    "execution": {
     "iopub.execute_input": "2022-02-05T23:03:53.359134Z",
     "iopub.status.busy": "2022-02-05T23:03:53.358736Z",
     "iopub.status.idle": "2022-02-05T23:03:53.480558Z",
     "shell.execute_reply": "2022-02-05T23:03:53.480240Z"
    }
   },
   "outputs": [],
   "source": [
    "smallClassTree = DecisionTreeClassifier(max_depth=30, min_samples_split=20, min_impurity_decrease=0.01)\n",
    "smallClassTree.fit(train_X, train_y)\n",
    "\n",
    "plotDecisionTree(smallClassTree, feature_names=train_X.columns)"
   ]
  },
  {
   "cell_type": "markdown",
   "metadata": {},
   "source": [
    "## Table 9.5"
   ]
  },
  {
   "cell_type": "code",
   "execution_count": null,
   "metadata": {
    "execution": {
     "iopub.execute_input": "2022-02-05T23:03:53.486400Z",
     "iopub.status.busy": "2022-02-05T23:03:53.486018Z",
     "iopub.status.idle": "2022-02-05T23:03:53.496324Z",
     "shell.execute_reply": "2022-02-05T23:03:53.496698Z"
    }
   },
   "outputs": [],
   "source": [
    "classificationSummary(train_y, smallClassTree.predict(train_X))\n",
    "classificationSummary(valid_y, smallClassTree.predict(valid_X))"
   ]
  },
  {
   "cell_type": "code",
   "execution_count": null,
   "metadata": {},
   "outputs": [],
   "source": [
    "conda install -c conda-forge python-graphviz"
   ]
  },
  {
   "cell_type": "code",
   "execution_count": null,
   "metadata": {},
   "outputs": [],
   "source": [
    "!pip install dmba -U"
   ]
  },
  {
   "cell_type": "code",
   "execution_count": null,
   "metadata": {},
   "outputs": [],
   "source": []
  }
 ],
 "metadata": {
  "kernelspec": {
   "display_name": "Python 3",
   "language": "python",
   "name": "python3"
  },
  "language_info": {
   "codemirror_mode": {
    "name": "ipython",
    "version": 3
   },
   "file_extension": ".py",
   "mimetype": "text/x-python",
   "name": "python",
   "nbconvert_exporter": "python",
   "pygments_lexer": "ipython3",
   "version": "3.7.6"
  }
 },
 "nbformat": 4,
 "nbformat_minor": 2
}
