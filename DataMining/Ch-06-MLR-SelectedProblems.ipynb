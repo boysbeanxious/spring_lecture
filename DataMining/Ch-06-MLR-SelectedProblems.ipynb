{
 "cells": [
  {
   "cell_type": "markdown",
   "metadata": {},
   "source": [
    "# Chapter 6: Multiple Linear Regression - Solution\n",
    "\n",
    "> (c) 2019 Galit Shmueli, Peter C. Bruce, Peter Gedeck \n",
    ">\n",
    "> _Data Mining for Business Analytics: Concepts, Techniques, and Applications in Python_ (First Edition) \n",
    "> Galit Shmueli, Peter C. Bruce, Peter Gedeck, and Nitin R. Patel. 2019."
   ]
  },
  {
   "cell_type": "code",
   "execution_count": 3,
   "metadata": {},
   "outputs": [
    {
     "name": "stdout",
     "output_type": "stream",
     "text": [
      "Collecting dmba\n",
      "  Downloading dmba-0.1.0-py3-none-any.whl (11.8 MB)\n",
      "\u001b[K     |████████████████████████████████| 11.8 MB 9.1 MB/s eta 0:00:01\n",
      "\u001b[?25hInstalling collected packages: dmba\n",
      "Successfully installed dmba-0.1.0\n"
     ]
    }
   ],
   "source": [
    "# !pip install dmba"
   ]
  },
  {
   "cell_type": "code",
   "execution_count": 4,
   "metadata": {},
   "outputs": [
    {
     "name": "stdout",
     "output_type": "stream",
     "text": [
      "no display found. Using non-interactive Agg backend\n"
     ]
    },
    {
     "name": "stderr",
     "output_type": "stream",
     "text": [
      "/Users/boysbeanxious/opt/anaconda3/lib/python3.7/importlib/_bootstrap.py:219: RuntimeWarning: numpy.ufunc size changed, may indicate binary incompatibility. Expected 192 from C header, got 216 from PyObject\n",
      "  return f(*args, **kwds)\n",
      "/Users/boysbeanxious/opt/anaconda3/lib/python3.7/importlib/_bootstrap.py:219: RuntimeWarning: numpy.ufunc size changed, may indicate binary incompatibility. Expected 192 from C header, got 216 from PyObject\n",
      "  return f(*args, **kwds)\n"
     ]
    }
   ],
   "source": [
    "import dmba"
   ]
  },
  {
   "cell_type": "code",
   "execution_count": 5,
   "metadata": {},
   "outputs": [],
   "source": [
    "# import required functionality for this chapter\n",
    "\n",
    "\n",
    "\n",
    "import matplotlib as mlt\n",
    "%matplotlib inline\n",
    "from pathlib import Path\n",
    "\n",
    "import pandas as pd\n",
    "import numpy as np\n",
    "from sklearn.model_selection import train_test_split\n",
    "from sklearn.linear_model import LinearRegression, Lasso, Ridge, LassoCV, BayesianRidge\n",
    "from sklearn.preprocessing import StandardScaler\n",
    "import statsmodels.formula.api as sm\n",
    "import matplotlib.pylab as plt\n",
    "# sometimes matplotlib chooses an x-using backend by default. \n",
    "plt.switch_backend('agg') \n",
    "mlt.use('agg')\n",
    "import seaborn as sns\n",
    "\n",
    "from dmba import regressionSummary, exhaustive_search\n",
    "from dmba import backward_elimination, forward_selection, stepwise_selection\n",
    "from dmba import adjusted_r2_score, AIC_score, BIC_score"
   ]
  },
  {
   "cell_type": "code",
   "execution_count": 12,
   "metadata": {},
   "outputs": [],
   "source": [
    "# working directory\n",
    "# We assume that data are kept in the same directory as the notebook. If you keep your data in a different folder, replace the \n",
    "# argument of the `Path`\n",
    "# DATA = Path('./data')\n",
    "# and then load data using \n",
    "DATA = pd.read_csv(\"./data/BostonHousing.csv\") "
   ]
  },
  {
   "cell_type": "markdown",
   "metadata": {},
   "source": [
    "# Problem 6.1 Predicting Bostom Housing Prices "
   ]
  },
  {
   "cell_type": "markdown",
   "metadata": {},
   "source": [
    "The file _BostonHousing.csv_ contains information collected by the US Bureau of the Census concerning housing in the area of\n",
    "Boston, Massachusetts. The dataset includes information on 506 census housing tracts in the Boston area. The goal is to predict the median house price in new tracts based on information such as crime rate, pollution, and number of rooms. The dataset contains 13 predictors, and the outcome variable is the median house price (MEDV). Table 6.11 describes each of the predictors and the outcome variable.\n",
    "\n",
    "![TABLE_6.11](TABLE6.11.PNG)\n"
   ]
  },
  {
   "cell_type": "code",
   "execution_count": 13,
   "metadata": {},
   "outputs": [],
   "source": [
    "y = DATA['MEDV']\n",
    "X = DATA.drop(columns=['MEDV'])\n"
   ]
  },
  {
   "cell_type": "code",
   "execution_count": 16,
   "metadata": {},
   "outputs": [
    {
     "data": {
      "text/plain": [
       "13"
      ]
     },
     "execution_count": 16,
     "metadata": {},
     "output_type": "execute_result"
    }
   ],
   "source": [
    "len(X.columns)"
   ]
  },
  {
   "cell_type": "code",
   "execution_count": 17,
   "metadata": {},
   "outputs": [],
   "source": [
    "# Your answer here\n",
    "from sklearn.model_selection import train_test_split\n",
    "\n",
    "X_train, X_test, y_train, y_test = train_test_split(X, y, test_size = 0.2, random_state = 42)\n",
    "\n"
   ]
  },
  {
   "cell_type": "markdown",
   "metadata": {},
   "source": [
    "__6.1.a.__ Why should the data be partitioned into training and validation sets? What will the training set be used for? What will the validation set be used for?\n",
    "\n",
    "__Answer:__ "
   ]
  },
  {
   "cell_type": "code",
   "execution_count": null,
   "metadata": {},
   "outputs": [],
   "source": [
    "# Your answer here"
   ]
  },
  {
   "cell_type": "markdown",
   "metadata": {},
   "source": [
    "__6.1.b.__ Fit a multiple linear regression model to the median house price (MEDV) as a function of CRIM, CHAS, and RM. Write the equation for predicting the median house price from the predictors in the model.\n",
    "\n",
    "__Answer:__\n"
   ]
  },
  {
   "cell_type": "code",
   "execution_count": 19,
   "metadata": {},
   "outputs": [],
   "source": [
    "# Your answer here\n",
    "\n",
    "predict_col = ['CRIM', 'CHAS', 'RM']\n",
    "from sklearn.linear_model import LinearRegression\n",
    "lr = LinearRegression()\n",
    "\n",
    "model = lr.fit(X_train[predict_col], y_train)\n",
    "result = model.predict(X_test[predict_col])"
   ]
  },
  {
   "cell_type": "markdown",
   "metadata": {},
   "source": [
    "__6.1.c.__ Using the estimated regression model, what median house price is predicted for a tract in the Boston area that does not bound the Charles River, has a crime rate of 0.1, and where the average number of rooms per house is 6?"
   ]
  },
  {
   "cell_type": "markdown",
   "metadata": {},
   "source": [
    "__Answer:__ "
   ]
  },
  {
   "cell_type": "code",
   "execution_count": null,
   "metadata": {},
   "outputs": [],
   "source": [
    "# Your answer here\n",
    "model.predict([[0.1, 0, 6]])"
   ]
  },
  {
   "cell_type": "markdown",
   "metadata": {},
   "source": [
    "__6.1.d.i.__ Reduce the number of predictors:\n",
    "Which predictors are likely to be measuring the same thing among the 13 predictors? Discuss the relationships among INDUS, NOX, and TAX.\n",
    "\n",
    "__Answer:__ "
   ]
  },
  {
   "cell_type": "code",
   "execution_count": 23,
   "metadata": {},
   "outputs": [
    {
     "data": {
      "text/html": [
       "<div>\n",
       "<style scoped>\n",
       "    .dataframe tbody tr th:only-of-type {\n",
       "        vertical-align: middle;\n",
       "    }\n",
       "\n",
       "    .dataframe tbody tr th {\n",
       "        vertical-align: top;\n",
       "    }\n",
       "\n",
       "    .dataframe thead th {\n",
       "        text-align: right;\n",
       "    }\n",
       "</style>\n",
       "<table border=\"1\" class=\"dataframe\">\n",
       "  <thead>\n",
       "    <tr style=\"text-align: right;\">\n",
       "      <th></th>\n",
       "      <th>CRIM</th>\n",
       "      <th>ZN</th>\n",
       "      <th>INDUS</th>\n",
       "      <th>CHAS</th>\n",
       "      <th>NOX</th>\n",
       "      <th>RM</th>\n",
       "      <th>AGE</th>\n",
       "      <th>DIS</th>\n",
       "      <th>RAD</th>\n",
       "      <th>TAX</th>\n",
       "      <th>PTRATIO</th>\n",
       "      <th>LSTAT</th>\n",
       "      <th>CAT. MEDV</th>\n",
       "    </tr>\n",
       "  </thead>\n",
       "  <tbody>\n",
       "    <tr>\n",
       "      <th>CRIM</th>\n",
       "      <td>1.000000</td>\n",
       "      <td>-0.198855</td>\n",
       "      <td>0.400198</td>\n",
       "      <td>-0.044589</td>\n",
       "      <td>0.396406</td>\n",
       "      <td>-0.200303</td>\n",
       "      <td>0.334090</td>\n",
       "      <td>-0.366487</td>\n",
       "      <td>0.615947</td>\n",
       "      <td>0.576894</td>\n",
       "      <td>0.288970</td>\n",
       "      <td>0.414142</td>\n",
       "      <td>-0.156959</td>\n",
       "    </tr>\n",
       "    <tr>\n",
       "      <th>ZN</th>\n",
       "      <td>-0.198855</td>\n",
       "      <td>1.000000</td>\n",
       "      <td>-0.533489</td>\n",
       "      <td>-0.043754</td>\n",
       "      <td>-0.526414</td>\n",
       "      <td>0.274661</td>\n",
       "      <td>-0.575078</td>\n",
       "      <td>0.681817</td>\n",
       "      <td>-0.313790</td>\n",
       "      <td>-0.294267</td>\n",
       "      <td>-0.389163</td>\n",
       "      <td>-0.396572</td>\n",
       "      <td>0.333134</td>\n",
       "    </tr>\n",
       "    <tr>\n",
       "      <th>INDUS</th>\n",
       "      <td>0.400198</td>\n",
       "      <td>-0.533489</td>\n",
       "      <td>1.000000</td>\n",
       "      <td>0.095158</td>\n",
       "      <td>0.770957</td>\n",
       "      <td>-0.398690</td>\n",
       "      <td>0.636569</td>\n",
       "      <td>-0.707566</td>\n",
       "      <td>0.588952</td>\n",
       "      <td>0.702353</td>\n",
       "      <td>0.348303</td>\n",
       "      <td>0.603644</td>\n",
       "      <td>-0.368196</td>\n",
       "    </tr>\n",
       "    <tr>\n",
       "      <th>CHAS</th>\n",
       "      <td>-0.044589</td>\n",
       "      <td>-0.043754</td>\n",
       "      <td>0.095158</td>\n",
       "      <td>1.000000</td>\n",
       "      <td>0.135476</td>\n",
       "      <td>0.111272</td>\n",
       "      <td>0.096016</td>\n",
       "      <td>-0.121671</td>\n",
       "      <td>0.028685</td>\n",
       "      <td>0.007746</td>\n",
       "      <td>-0.113003</td>\n",
       "      <td>-0.070652</td>\n",
       "      <td>0.118629</td>\n",
       "    </tr>\n",
       "    <tr>\n",
       "      <th>NOX</th>\n",
       "      <td>0.396406</td>\n",
       "      <td>-0.526414</td>\n",
       "      <td>0.770957</td>\n",
       "      <td>0.135476</td>\n",
       "      <td>1.000000</td>\n",
       "      <td>-0.299615</td>\n",
       "      <td>0.720417</td>\n",
       "      <td>-0.772330</td>\n",
       "      <td>0.589061</td>\n",
       "      <td>0.650247</td>\n",
       "      <td>0.161253</td>\n",
       "      <td>0.593862</td>\n",
       "      <td>-0.232602</td>\n",
       "    </tr>\n",
       "    <tr>\n",
       "      <th>RM</th>\n",
       "      <td>-0.200303</td>\n",
       "      <td>0.274661</td>\n",
       "      <td>-0.398690</td>\n",
       "      <td>0.111272</td>\n",
       "      <td>-0.299615</td>\n",
       "      <td>1.000000</td>\n",
       "      <td>-0.210863</td>\n",
       "      <td>0.198299</td>\n",
       "      <td>-0.199738</td>\n",
       "      <td>-0.281127</td>\n",
       "      <td>-0.342643</td>\n",
       "      <td>-0.612577</td>\n",
       "      <td>0.661326</td>\n",
       "    </tr>\n",
       "    <tr>\n",
       "      <th>AGE</th>\n",
       "      <td>0.334090</td>\n",
       "      <td>-0.575078</td>\n",
       "      <td>0.636569</td>\n",
       "      <td>0.096016</td>\n",
       "      <td>0.720417</td>\n",
       "      <td>-0.210863</td>\n",
       "      <td>1.000000</td>\n",
       "      <td>-0.756589</td>\n",
       "      <td>0.430321</td>\n",
       "      <td>0.471670</td>\n",
       "      <td>0.240841</td>\n",
       "      <td>0.571051</td>\n",
       "      <td>-0.161660</td>\n",
       "    </tr>\n",
       "    <tr>\n",
       "      <th>DIS</th>\n",
       "      <td>-0.366487</td>\n",
       "      <td>0.681817</td>\n",
       "      <td>-0.707566</td>\n",
       "      <td>-0.121671</td>\n",
       "      <td>-0.772330</td>\n",
       "      <td>0.198299</td>\n",
       "      <td>-0.756589</td>\n",
       "      <td>1.000000</td>\n",
       "      <td>-0.483329</td>\n",
       "      <td>-0.523577</td>\n",
       "      <td>-0.217588</td>\n",
       "      <td>-0.494921</td>\n",
       "      <td>0.109359</td>\n",
       "    </tr>\n",
       "    <tr>\n",
       "      <th>RAD</th>\n",
       "      <td>0.615947</td>\n",
       "      <td>-0.313790</td>\n",
       "      <td>0.588952</td>\n",
       "      <td>0.028685</td>\n",
       "      <td>0.589061</td>\n",
       "      <td>-0.199738</td>\n",
       "      <td>0.430321</td>\n",
       "      <td>-0.483329</td>\n",
       "      <td>1.000000</td>\n",
       "      <td>0.912527</td>\n",
       "      <td>0.472257</td>\n",
       "      <td>0.480301</td>\n",
       "      <td>-0.204728</td>\n",
       "    </tr>\n",
       "    <tr>\n",
       "      <th>TAX</th>\n",
       "      <td>0.576894</td>\n",
       "      <td>-0.294267</td>\n",
       "      <td>0.702353</td>\n",
       "      <td>0.007746</td>\n",
       "      <td>0.650247</td>\n",
       "      <td>-0.281127</td>\n",
       "      <td>0.471670</td>\n",
       "      <td>-0.523577</td>\n",
       "      <td>0.912527</td>\n",
       "      <td>1.000000</td>\n",
       "      <td>0.444836</td>\n",
       "      <td>0.530632</td>\n",
       "      <td>-0.271656</td>\n",
       "    </tr>\n",
       "    <tr>\n",
       "      <th>PTRATIO</th>\n",
       "      <td>0.288970</td>\n",
       "      <td>-0.389163</td>\n",
       "      <td>0.348303</td>\n",
       "      <td>-0.113003</td>\n",
       "      <td>0.161253</td>\n",
       "      <td>-0.342643</td>\n",
       "      <td>0.240841</td>\n",
       "      <td>-0.217588</td>\n",
       "      <td>0.472257</td>\n",
       "      <td>0.444836</td>\n",
       "      <td>1.000000</td>\n",
       "      <td>0.360167</td>\n",
       "      <td>-0.428996</td>\n",
       "    </tr>\n",
       "    <tr>\n",
       "      <th>LSTAT</th>\n",
       "      <td>0.414142</td>\n",
       "      <td>-0.396572</td>\n",
       "      <td>0.603644</td>\n",
       "      <td>-0.070652</td>\n",
       "      <td>0.593862</td>\n",
       "      <td>-0.612577</td>\n",
       "      <td>0.571051</td>\n",
       "      <td>-0.494921</td>\n",
       "      <td>0.480301</td>\n",
       "      <td>0.530632</td>\n",
       "      <td>0.360167</td>\n",
       "      <td>1.000000</td>\n",
       "      <td>-0.475665</td>\n",
       "    </tr>\n",
       "    <tr>\n",
       "      <th>CAT. MEDV</th>\n",
       "      <td>-0.156959</td>\n",
       "      <td>0.333134</td>\n",
       "      <td>-0.368196</td>\n",
       "      <td>0.118629</td>\n",
       "      <td>-0.232602</td>\n",
       "      <td>0.661326</td>\n",
       "      <td>-0.161660</td>\n",
       "      <td>0.109359</td>\n",
       "      <td>-0.204728</td>\n",
       "      <td>-0.271656</td>\n",
       "      <td>-0.428996</td>\n",
       "      <td>-0.475665</td>\n",
       "      <td>1.000000</td>\n",
       "    </tr>\n",
       "  </tbody>\n",
       "</table>\n",
       "</div>"
      ],
      "text/plain": [
       "               CRIM        ZN     INDUS      CHAS       NOX        RM  \\\n",
       "CRIM       1.000000 -0.198855  0.400198 -0.044589  0.396406 -0.200303   \n",
       "ZN        -0.198855  1.000000 -0.533489 -0.043754 -0.526414  0.274661   \n",
       "INDUS      0.400198 -0.533489  1.000000  0.095158  0.770957 -0.398690   \n",
       "CHAS      -0.044589 -0.043754  0.095158  1.000000  0.135476  0.111272   \n",
       "NOX        0.396406 -0.526414  0.770957  0.135476  1.000000 -0.299615   \n",
       "RM        -0.200303  0.274661 -0.398690  0.111272 -0.299615  1.000000   \n",
       "AGE        0.334090 -0.575078  0.636569  0.096016  0.720417 -0.210863   \n",
       "DIS       -0.366487  0.681817 -0.707566 -0.121671 -0.772330  0.198299   \n",
       "RAD        0.615947 -0.313790  0.588952  0.028685  0.589061 -0.199738   \n",
       "TAX        0.576894 -0.294267  0.702353  0.007746  0.650247 -0.281127   \n",
       "PTRATIO    0.288970 -0.389163  0.348303 -0.113003  0.161253 -0.342643   \n",
       "LSTAT      0.414142 -0.396572  0.603644 -0.070652  0.593862 -0.612577   \n",
       "CAT. MEDV -0.156959  0.333134 -0.368196  0.118629 -0.232602  0.661326   \n",
       "\n",
       "                AGE       DIS       RAD       TAX   PTRATIO     LSTAT  \\\n",
       "CRIM       0.334090 -0.366487  0.615947  0.576894  0.288970  0.414142   \n",
       "ZN        -0.575078  0.681817 -0.313790 -0.294267 -0.389163 -0.396572   \n",
       "INDUS      0.636569 -0.707566  0.588952  0.702353  0.348303  0.603644   \n",
       "CHAS       0.096016 -0.121671  0.028685  0.007746 -0.113003 -0.070652   \n",
       "NOX        0.720417 -0.772330  0.589061  0.650247  0.161253  0.593862   \n",
       "RM        -0.210863  0.198299 -0.199738 -0.281127 -0.342643 -0.612577   \n",
       "AGE        1.000000 -0.756589  0.430321  0.471670  0.240841  0.571051   \n",
       "DIS       -0.756589  1.000000 -0.483329 -0.523577 -0.217588 -0.494921   \n",
       "RAD        0.430321 -0.483329  1.000000  0.912527  0.472257  0.480301   \n",
       "TAX        0.471670 -0.523577  0.912527  1.000000  0.444836  0.530632   \n",
       "PTRATIO    0.240841 -0.217588  0.472257  0.444836  1.000000  0.360167   \n",
       "LSTAT      0.571051 -0.494921  0.480301  0.530632  0.360167  1.000000   \n",
       "CAT. MEDV -0.161660  0.109359 -0.204728 -0.271656 -0.428996 -0.475665   \n",
       "\n",
       "           CAT. MEDV  \n",
       "CRIM       -0.156959  \n",
       "ZN          0.333134  \n",
       "INDUS      -0.368196  \n",
       "CHAS        0.118629  \n",
       "NOX        -0.232602  \n",
       "RM          0.661326  \n",
       "AGE        -0.161660  \n",
       "DIS         0.109359  \n",
       "RAD        -0.204728  \n",
       "TAX        -0.271656  \n",
       "PTRATIO    -0.428996  \n",
       "LSTAT      -0.475665  \n",
       "CAT. MEDV   1.000000  "
      ]
     },
     "execution_count": 23,
     "metadata": {},
     "output_type": "execute_result"
    }
   ],
   "source": [
    "# Your answer here\n",
    "X_train.corr()"
   ]
  },
  {
   "cell_type": "markdown",
   "metadata": {},
   "source": [
    "__6.1.d.ii.__ Compute the correlation table for the 11 numerical predictors and search for highly correlated pairs. These have potential redundancy and can cause multicollinearity. Choose which ones to remove based on this table.\n",
    "\n",
    "__Answer:__"
   ]
  },
  {
   "cell_type": "code",
   "execution_count": null,
   "metadata": {},
   "outputs": [],
   "source": [
    "# Your answer here"
   ]
  },
  {
   "cell_type": "markdown",
   "metadata": {},
   "source": [
    "__6.1.d.iii.__ Use stepwise regression with the three options (backward, forward, both) to reduce the remaining predictors as follows: Run stepwise on the training set. Choose the top model from each stepwise run. Then use each of these models separately to predict the validation set. Compare RMSE, MAPE, and mean error, as well as lift charts. Finally, describe the best model.\n",
    "\n",
    "__Answer:__"
   ]
  },
  {
   "cell_type": "code",
   "execution_count": null,
   "metadata": {},
   "outputs": [],
   "source": [
    "# Your answer here"
   ]
  }
 ],
 "metadata": {
  "kernelspec": {
   "display_name": "Python 3",
   "language": "python",
   "name": "python3"
  },
  "language_info": {
   "codemirror_mode": {
    "name": "ipython",
    "version": 3
   },
   "file_extension": ".py",
   "mimetype": "text/x-python",
   "name": "python",
   "nbconvert_exporter": "python",
   "pygments_lexer": "ipython3",
   "version": "3.7.6"
  }
 },
 "nbformat": 4,
 "nbformat_minor": 4
}
