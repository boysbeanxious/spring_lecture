{
 "cells": [
  {
   "cell_type": "markdown",
   "metadata": {},
   "source": [
    "# Chapter 6: Multiple Linear Regression - Solution\n",
    "\n",
    "> (c) 2019 Galit Shmueli, Peter C. Bruce, Peter Gedeck \n",
    ">\n",
    "> _Data Mining for Business Analytics: Concepts, Techniques, and Applications in Python_ (First Edition) \n",
    "> Galit Shmueli, Peter C. Bruce, Peter Gedeck, and Nitin R. Patel. 2019."
   ]
  },
  {
   "cell_type": "code",
   "execution_count": 1,
   "metadata": {},
   "outputs": [],
   "source": [
    "# !pip install dmba"
   ]
  },
  {
   "cell_type": "code",
   "execution_count": 2,
   "metadata": {},
   "outputs": [
    {
     "name": "stdout",
     "output_type": "stream",
     "text": [
      "no display found. Using non-interactive Agg backend\n"
     ]
    }
   ],
   "source": [
    "import dmba"
   ]
  },
  {
   "cell_type": "code",
   "execution_count": 3,
   "metadata": {},
   "outputs": [],
   "source": [
    "# import required functionality for this chapter\n",
    "\n",
    "\n",
    "\n",
    "import matplotlib as mlt\n",
    "%matplotlib inline\n",
    "from pathlib import Path\n",
    "\n",
    "import pandas as pd\n",
    "import numpy as np\n",
    "from sklearn.model_selection import train_test_split\n",
    "from sklearn.linear_model import LinearRegression, Lasso, Ridge, LassoCV, BayesianRidge\n",
    "from sklearn.preprocessing import StandardScaler\n",
    "import statsmodels.formula.api as sm\n",
    "import matplotlib.pylab as plt\n",
    "# sometimes matplotlib chooses an x-using backend by default. \n",
    "plt.switch_backend('agg') \n",
    "mlt.use('agg')\n",
    "import seaborn as sns\n",
    "\n",
    "from dmba import regressionSummary, exhaustive_search\n",
    "from dmba import backward_elimination, forward_selection, stepwise_selection\n",
    "from dmba import adjusted_r2_score, AIC_score, BIC_score\n",
    "%matplotlib inline"
   ]
  },
  {
   "cell_type": "code",
   "execution_count": 4,
   "metadata": {},
   "outputs": [],
   "source": [
    "# working directory\n",
    "# We assume that data are kept in the same directory as the notebook. If you keep your data in a different folder, replace the \n",
    "# argument of the `Path`\n",
    "# DATA = Path('./data')\n",
    "# and then load data using \n",
    "DATA = pd.read_csv(\"./data/BostonHousing.csv\") "
   ]
  },
  {
   "cell_type": "markdown",
   "metadata": {},
   "source": [
    "# Problem 6.1 Predicting Bostom Housing Prices "
   ]
  },
  {
   "cell_type": "markdown",
   "metadata": {},
   "source": [
    "The file _BostonHousing.csv_ contains information collected by the US Bureau of the Census concerning housing in the area of\n",
    "Boston, Massachusetts. The dataset includes information on 506 census housing tracts in the Boston area. The goal is to predict the median house price in new tracts based on information such as crime rate, pollution, and number of rooms. The dataset contains 13 predictors, and the outcome variable is the median house price (MEDV). Table 6.11 describes each of the predictors and the outcome variable.\n",
    "\n",
    "![TABLE_6.11](TABLE6.11.PNG)\n"
   ]
  },
  {
   "cell_type": "code",
   "execution_count": 5,
   "metadata": {},
   "outputs": [],
   "source": [
    "y = DATA['MEDV']\n",
    "X = DATA.drop(columns=['MEDV'])\n"
   ]
  },
  {
   "cell_type": "code",
   "execution_count": 6,
   "metadata": {},
   "outputs": [
    {
     "data": {
      "text/plain": [
       "13"
      ]
     },
     "execution_count": 6,
     "metadata": {},
     "output_type": "execute_result"
    }
   ],
   "source": [
    "len(X.columns)"
   ]
  },
  {
   "cell_type": "code",
   "execution_count": 7,
   "metadata": {},
   "outputs": [],
   "source": [
    "# Your answer here\n",
    "from sklearn.model_selection import train_test_split\n",
    "\n",
    "X_train, X_test, y_train, y_test = train_test_split(X, y, test_size = 0.2, random_state = 42)\n",
    "\n"
   ]
  },
  {
   "cell_type": "markdown",
   "metadata": {},
   "source": [
    "__6.1.a.__ Why should the data be partitioned into training and validation sets? What will the training set be used for? What will the validation set be used for?\n",
    "\n",
    "__Answer:__ "
   ]
  },
  {
   "cell_type": "markdown",
   "metadata": {},
   "source": [
    "train data로는 머신 러닝 모델 작성을, validation data로는 머신러닝 모델에 대한 평가를 진행해야함.  \n",
    "때문에 model작업 전 데이터 셋을 분리해두어 train과정과 test과정이 서로 독립적으로 수행될 수 있도록 함."
   ]
  },
  {
   "cell_type": "markdown",
   "metadata": {},
   "source": [
    "__6.1.b.__ Fit a multiple linear regression model to the median house price (MEDV) as a function of CRIM, CHAS, and RM. Write the equation for predicting the median house price from the predictors in the model.\n",
    "\n",
    "__Answer:__\n"
   ]
  },
  {
   "cell_type": "code",
   "execution_count": 8,
   "metadata": {},
   "outputs": [],
   "source": [
    "# Your answer here\n",
    "\n",
    "predict_col = ['CRIM', 'CHAS', 'RM']\n",
    "from sklearn.linear_model import LinearRegression\n",
    "lr = LinearRegression()\n",
    "\n",
    "model = lr.fit(X_train[predict_col], y_train)\n",
    "result = model.predict(X_test[predict_col])"
   ]
  },
  {
   "cell_type": "markdown",
   "metadata": {},
   "source": [
    "__6.1.c.__ Using the estimated regression model, what median house price is predicted for a tract in the Boston area that does not bound the Charles River, has a crime rate of 0.1, and where the average number of rooms per house is 6?"
   ]
  },
  {
   "cell_type": "markdown",
   "metadata": {},
   "source": [
    "__Answer:__ "
   ]
  },
  {
   "cell_type": "code",
   "execution_count": 9,
   "metadata": {
    "scrolled": true
   },
   "outputs": [
    {
     "data": {
      "text/plain": [
       "array([20.72346535])"
      ]
     },
     "execution_count": 9,
     "metadata": {},
     "output_type": "execute_result"
    }
   ],
   "source": [
    "# Your answer here\n",
    "# CHAS >> 0 \n",
    "# CRIM >> 0.1\n",
    "# RM >> 6\n",
    "model.predict([[0.1, 0, 6]])"
   ]
  },
  {
   "cell_type": "markdown",
   "metadata": {},
   "source": [
    "__6.1.d.i.__ Reduce the number of predictors:\n",
    "Which predictors are likely to be measuring the same thing among the 13 predictors? Discuss the relationships among INDUS, NOX, and TAX.\n",
    "\n",
    "__Answer:__ "
   ]
  },
  {
   "cell_type": "code",
   "execution_count": 10,
   "metadata": {},
   "outputs": [
    {
     "data": {
      "text/html": [
       "<div>\n",
       "<style scoped>\n",
       "    .dataframe tbody tr th:only-of-type {\n",
       "        vertical-align: middle;\n",
       "    }\n",
       "\n",
       "    .dataframe tbody tr th {\n",
       "        vertical-align: top;\n",
       "    }\n",
       "\n",
       "    .dataframe thead th {\n",
       "        text-align: right;\n",
       "    }\n",
       "</style>\n",
       "<table border=\"1\" class=\"dataframe\">\n",
       "  <thead>\n",
       "    <tr style=\"text-align: right;\">\n",
       "      <th></th>\n",
       "      <th>INDUS</th>\n",
       "      <th>NOX</th>\n",
       "      <th>TAX</th>\n",
       "    </tr>\n",
       "  </thead>\n",
       "  <tbody>\n",
       "    <tr>\n",
       "      <th>INDUS</th>\n",
       "      <td>1.000000</td>\n",
       "      <td>0.770957</td>\n",
       "      <td>0.702353</td>\n",
       "    </tr>\n",
       "    <tr>\n",
       "      <th>NOX</th>\n",
       "      <td>0.770957</td>\n",
       "      <td>1.000000</td>\n",
       "      <td>0.650247</td>\n",
       "    </tr>\n",
       "    <tr>\n",
       "      <th>TAX</th>\n",
       "      <td>0.702353</td>\n",
       "      <td>0.650247</td>\n",
       "      <td>1.000000</td>\n",
       "    </tr>\n",
       "  </tbody>\n",
       "</table>\n",
       "</div>"
      ],
      "text/plain": [
       "          INDUS       NOX       TAX\n",
       "INDUS  1.000000  0.770957  0.702353\n",
       "NOX    0.770957  1.000000  0.650247\n",
       "TAX    0.702353  0.650247  1.000000"
      ]
     },
     "execution_count": 10,
     "metadata": {},
     "output_type": "execute_result"
    }
   ],
   "source": [
    "# Your answer here\n",
    "X_train.corr().loc[['INDUS', 'NOX', 'TAX'], ['INDUS', 'NOX', 'TAX']]"
   ]
  },
  {
   "cell_type": "markdown",
   "metadata": {},
   "source": [
    "세 변수가 서로 어느정도의 상관관계를 가지고 있어 이는 보스톤이 non-retail 비즈니스가 성행함에 따라 높은 세율과 오염이 진행되었다고 해석할 수 있다."
   ]
  },
  {
   "cell_type": "markdown",
   "metadata": {},
   "source": [
    "__6.1.d.ii.__ Compute the correlation table for the 11 numerical predictors and search for highly correlated pairs. These have potential redundancy and can cause multicollinearity. Choose which ones to remove based on this table.\n",
    "\n",
    "__Answer:__"
   ]
  },
  {
   "cell_type": "code",
   "execution_count": 11,
   "metadata": {},
   "outputs": [],
   "source": [
    "# Your answer here\n",
    "df_corr = X_train.corr()"
   ]
  },
  {
   "cell_type": "code",
   "execution_count": 12,
   "metadata": {},
   "outputs": [],
   "source": [
    "def onetozero(x):\n",
    "#     print(x)\n",
    "    return np.where(x==1, 0, x)"
   ]
  },
  {
   "cell_type": "code",
   "execution_count": 13,
   "metadata": {},
   "outputs": [],
   "source": [
    "df_corr = df_corr.apply(lambda x: onetozero(x))"
   ]
  },
  {
   "cell_type": "code",
   "execution_count": 14,
   "metadata": {},
   "outputs": [
    {
     "data": {
      "text/plain": [
       "(13, 13)"
      ]
     },
     "execution_count": 14,
     "metadata": {},
     "output_type": "execute_result"
    }
   ],
   "source": [
    "df_corr.shape"
   ]
  },
  {
   "cell_type": "code",
   "execution_count": 15,
   "metadata": {},
   "outputs": [
    {
     "name": "stdout",
     "output_type": "stream",
     "text": [
      "RAD\n",
      "TAX\n"
     ]
    }
   ],
   "source": [
    "print(df_corr.max().sort_values(ascending=False).index[0])\n",
    "print(df_corr[df_corr.max().sort_values(ascending=False).index[0]].idxmax())"
   ]
  },
  {
   "cell_type": "code",
   "execution_count": 16,
   "metadata": {},
   "outputs": [
    {
     "name": "stdout",
     "output_type": "stream",
     "text": [
      "TAX\n",
      "RAD\n"
     ]
    }
   ],
   "source": [
    "print(df_corr.max().sort_values(ascending=False).index[1])\n",
    "print(df_corr[df_corr.max().sort_values(ascending=False).index[1]].idxmax())"
   ]
  },
  {
   "cell_type": "code",
   "execution_count": 17,
   "metadata": {},
   "outputs": [
    {
     "name": "stdout",
     "output_type": "stream",
     "text": [
      "INDUS\n",
      "NOX\n"
     ]
    }
   ],
   "source": [
    "print(df_corr.max().sort_values(ascending=False).index[2])\n",
    "print(df_corr[df_corr.max().sort_values(ascending=False).index[2]].idxmax())"
   ]
  },
  {
   "cell_type": "markdown",
   "metadata": {},
   "source": [
    "__6.1.d.iii.__ Use stepwise regression with the three options (backward, forward, both) to reduce the remaining predictors as follows: Run stepwise on the training set. Choose the top model from each stepwise run. Then use each of these models separately to predict the validation set. Compare RMSE, MAPE, and mean error, as well as lift charts. Finally, describe the best model.\n",
    "\n",
    "__Answer:__"
   ]
  },
  {
   "cell_type": "code",
   "execution_count": 18,
   "metadata": {},
   "outputs": [],
   "source": [
    "# Your answer here\n",
    "\n",
    "import pandas as pd\n",
    "from sklearn.model_selection import train_test_split\n",
    "from sklearn.linear_model import LinearRegression, Lasso, Ridge, LassoCV, BayesianRidge\n",
    "import statsmodels.formula.api as sm \n",
    "import matplotlib.pylab as plt\n",
    "from dmba import regressionSummary, exhaustive_search\n",
    "from dmba import backward_elimination, forward_selection, stepwise_selection \n",
    "from dmba import adjusted_r2_score, AIC_score, BIC_score\n",
    "from dmba import liftChart, gainsChart\n"
   ]
  },
  {
   "cell_type": "code",
   "execution_count": 19,
   "metadata": {
    "scrolled": false
   },
   "outputs": [
    {
     "name": "stdout",
     "output_type": "stream",
     "text": [
      "Variables: CRIM, ZN, INDUS, CHAS, NOX, RM, AGE, DIS, RAD, TAX, PTRATIO, LSTAT, CAT. MEDV\n",
      "Start: score=2219.72\n",
      "Step: score=2219.28, remove AGE\n",
      "Step: score=2219.28, remove None\n",
      "\n",
      "Regression statistics\n",
      "\n",
      "                      Mean Error (ME) : 0.3417\n",
      "       Root Mean Squared Error (RMSE) : 3.8180\n",
      "            Mean Absolute Error (MAE) : 2.6696\n",
      "          Mean Percentage Error (MPE) : -0.8003\n",
      "Mean Absolute Percentage Error (MAPE) : 13.5194\n"
     ]
    }
   ],
   "source": [
    "def train_model(variables):\n",
    "    model = LinearRegression() \n",
    "    model.fit(X_train[variables], y_train) \n",
    "    return model\n",
    "\n",
    "def score_model(model, variables):\n",
    "    return AIC_score(y_train, model.predict(X_train[variables]), model)\n",
    "\n",
    "allVariables = X_train.columns\n",
    "backward_best_model, backward_best_variables = backward_elimination(allVariables, train_model,score_model, verbose=True) \n",
    "regressionSummary(y_test, backward_best_model.predict(X_test[backward_best_variables]))"
   ]
  },
  {
   "cell_type": "code",
   "execution_count": 20,
   "metadata": {},
   "outputs": [
    {
     "data": {
      "image/png": "[encoded data removed]",
      "text/plain": [
       "<Figure size 432x288 with 1 Axes>"
      ]
     },
     "metadata": {
      "needs_background": "light"
     },
     "output_type": "display_data"
    }
   ],
   "source": [
    "pred_v = pd.Series(backward_best_model.predict(X_test[backward_best_variables])) \n",
    "pred_v = pred_v.sort_values(ascending=False)\n",
    "\n",
    "ax = liftChart(pred_v) \n",
    "ax.set_ylabel('Lift')\n",
    "plt.tight_layout() \n",
    "plt.show()\n",
    "     "
   ]
  },
  {
   "cell_type": "code",
   "execution_count": 21,
   "metadata": {},
   "outputs": [
    {
     "name": "stdout",
     "output_type": "stream",
     "text": [
      "Variables: CRIM, ZN, INDUS, CHAS, NOX, RM, AGE, DIS, RAD, TAX, PTRATIO, LSTAT, CAT. MEDV\n",
      "Start: score=2954.14, constant\n",
      "Step: score=2551.24, add CAT. MEDV\n",
      "Step: score=2310.80, add LSTAT\n",
      "Step: score=2288.72, add CRIM\n",
      "Step: score=2273.27, add DIS\n",
      "Step: score=2262.55, add PTRATIO\n",
      "Step: score=2250.04, add NOX\n",
      "Step: score=2236.90, add CHAS\n",
      "Step: score=2227.06, add RM\n",
      "Step: score=2223.91, add ZN\n",
      "Step: score=2221.86, add INDUS\n",
      "Step: score=2221.71, add RAD\n",
      "Step: score=2219.28, add TAX\n",
      "Step: score=2219.28, add None\n",
      "\n",
      "Regression statistics\n",
      "\n",
      "                      Mean Error (ME) : 0.3417\n",
      "       Root Mean Squared Error (RMSE) : 3.8180\n",
      "            Mean Absolute Error (MAE) : 2.6696\n",
      "          Mean Percentage Error (MPE) : -0.8003\n",
      "Mean Absolute Percentage Error (MAPE) : 13.5194\n"
     ]
    }
   ],
   "source": [
    "def train_model(variables):\n",
    "    if len(variables) == 0: \n",
    "        return None\n",
    "    model = LinearRegression() \n",
    "    model.fit(X_train[variables], y_train) \n",
    "    return model\n",
    "\n",
    "def score_model(model, variables): \n",
    "    if len(variables) == 0:\n",
    "        return AIC_score(y_train, [y_train.mean()] * len(y_train), model, df=1)\n",
    "    return AIC_score(y_train, model.predict(X_train[variables]), model)\n",
    "\n",
    "foward_best_model, foward_best_variables = forward_selection(X_train.columns, train_model,score_model, verbose=True)\n",
    "regressionSummary(y_test, foward_best_model.predict(X_test[foward_best_variables]))\n"
   ]
  },
  {
   "cell_type": "code",
   "execution_count": 22,
   "metadata": {},
   "outputs": [
    {
     "data": {
      "image/png": "[encoded data removed]",
      "text/plain": [
       "<Figure size 432x288 with 1 Axes>"
      ]
     },
     "metadata": {
      "needs_background": "light"
     },
     "output_type": "display_data"
    }
   ],
   "source": [
    "pred_v = pd.Series(foward_best_model.predict(X_test[foward_best_variables])) \n",
    "pred_v = pred_v.sort_values(ascending=False)\n",
    "\n",
    "ax = liftChart(pred_v) \n",
    "ax.set_ylabel('Lift')\n",
    "plt.tight_layout() \n",
    "plt.show()\n",
    "     "
   ]
  },
  {
   "cell_type": "code",
   "execution_count": 23,
   "metadata": {},
   "outputs": [
    {
     "name": "stdout",
     "output_type": "stream",
     "text": [
      "Variables: CRIM, ZN, INDUS, CHAS, NOX, RM, AGE, DIS, RAD, TAX, PTRATIO, LSTAT, CAT. MEDV\n",
      "Start: score=2954.14, constant\n",
      "Step: score=2551.24, add CAT. MEDV\n",
      "Step: score=2310.80, add LSTAT\n",
      "Step: score=2288.72, add CRIM\n",
      "Step: score=2273.27, add DIS\n",
      "Step: score=2262.55, add PTRATIO\n",
      "Step: score=2250.04, add NOX\n",
      "Step: score=2236.90, add CHAS\n",
      "Step: score=2227.06, add RM\n",
      "Step: score=2223.91, add ZN\n",
      "Step: score=2221.86, add INDUS\n",
      "Step: score=2221.71, add RAD\n",
      "Step: score=2219.28, add TAX\n",
      "Step: score=2219.28, unchanged None\n",
      "\n",
      "Regression statistics\n",
      "\n",
      "                      Mean Error (ME) : 0.3417\n",
      "       Root Mean Squared Error (RMSE) : 3.8180\n",
      "            Mean Absolute Error (MAE) : 2.6696\n",
      "          Mean Percentage Error (MPE) : -0.8003\n",
      "Mean Absolute Percentage Error (MAPE) : 13.5194\n"
     ]
    }
   ],
   "source": [
    "stepwise_best_model, stepwise_best_variables = stepwise_selection(X_train.columns, train_model,score_model, verbose=True)\n",
    "regressionSummary(y_test, stepwise_best_model.predict(X_test[stepwise_best_variables]))"
   ]
  },
  {
   "cell_type": "code",
   "execution_count": 24,
   "metadata": {},
   "outputs": [
    {
     "data": {
      "image/png": "[encoded data removed]",
      "text/plain": [
       "<Figure size 432x288 with 1 Axes>"
      ]
     },
     "metadata": {
      "needs_background": "light"
     },
     "output_type": "display_data"
    }
   ],
   "source": [
    "pred_v = pd.Series(stepwise_best_model.predict(X_test[stepwise_best_variables])) \n",
    "pred_v = pred_v.sort_values(ascending=False)\n",
    "\n",
    "ax = liftChart(pred_v) \n",
    "ax.set_ylabel('Lift')\n",
    "plt.tight_layout() \n",
    "plt.show()\n",
    "     "
   ]
  },
  {
   "cell_type": "code",
   "execution_count": null,
   "metadata": {},
   "outputs": [],
   "source": []
  }
 ],
 "metadata": {
  "kernelspec": {
   "display_name": "Python 3",
   "language": "python",
   "name": "python3"
  },
  "language_info": {
   "codemirror_mode": {
    "name": "ipython",
    "version": 3
   },
   "file_extension": ".py",
   "mimetype": "text/x-python",
   "name": "python",
   "nbconvert_exporter": "python",
   "pygments_lexer": "ipython3",
   "version": "3.7.6"
  }
 },
 "nbformat": 4,
 "nbformat_minor": 4
}
