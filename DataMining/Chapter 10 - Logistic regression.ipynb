{
 "cells": [
  {
   "cell_type": "markdown",
   "metadata": {},
   "source": [
    "# Chapter 10: Logistic Regression\n",
    "\n",
    "> (c) 2019 Galit Shmueli, Peter C. Bruce, Peter Gedeck \n",
    ">\n",
    "> Code included in\n",
    ">\n",
    "> _Data Mining for Business Analytics: Concepts, Techniques, and Applications in Python_ (First Edition) \n",
    "> Galit Shmueli, Peter C. Bruce, Peter Gedeck, and Nitin R. Patel. 2019.\n",
    "\n",
    "## Import required packages"
   ]
  },
  {
   "cell_type": "code",
   "execution_count": 1,
   "metadata": {
    "execution": {
     "iopub.execute_input": "2022-02-05T23:04:05.117357Z",
     "iopub.status.busy": "2022-02-05T23:04:05.111412Z",
     "iopub.status.idle": "2022-02-05T23:04:06.295120Z",
     "shell.execute_reply": "2022-02-05T23:04:06.295431Z"
    }
   },
   "outputs": [
    {
     "ename": "ModuleNotFoundError",
     "evalue": "No module named 'mord'",
     "output_type": "error",
     "traceback": [
      "\u001b[0;31m---------------------------------------------------------------------------\u001b[0m",
      "\u001b[0;31mModuleNotFoundError\u001b[0m                       Traceback (most recent call last)",
      "\u001b[0;32m<ipython-input-1-3a5cbdb6010b>\u001b[0m in \u001b[0;36m<module>\u001b[0;34m\u001b[0m\n\u001b[1;32m      8\u001b[0m \u001b[0;32mfrom\u001b[0m \u001b[0msklearn\u001b[0m\u001b[0;34m.\u001b[0m\u001b[0mmodel_selection\u001b[0m \u001b[0;32mimport\u001b[0m \u001b[0mtrain_test_split\u001b[0m\u001b[0;34m\u001b[0m\u001b[0;34m\u001b[0m\u001b[0m\n\u001b[1;32m      9\u001b[0m \u001b[0;32mimport\u001b[0m \u001b[0mstatsmodels\u001b[0m\u001b[0;34m.\u001b[0m\u001b[0mapi\u001b[0m \u001b[0;32mas\u001b[0m \u001b[0msm\u001b[0m\u001b[0;34m\u001b[0m\u001b[0;34m\u001b[0m\u001b[0m\n\u001b[0;32m---> 10\u001b[0;31m \u001b[0;32mfrom\u001b[0m \u001b[0mmord\u001b[0m \u001b[0;32mimport\u001b[0m \u001b[0mLogisticIT\u001b[0m\u001b[0;34m\u001b[0m\u001b[0;34m\u001b[0m\u001b[0m\n\u001b[0m\u001b[1;32m     11\u001b[0m \u001b[0;32mimport\u001b[0m \u001b[0mmatplotlib\u001b[0m\u001b[0;34m.\u001b[0m\u001b[0mpylab\u001b[0m \u001b[0;32mas\u001b[0m \u001b[0mplt\u001b[0m\u001b[0;34m\u001b[0m\u001b[0;34m\u001b[0m\u001b[0m\n\u001b[1;32m     12\u001b[0m \u001b[0;32mimport\u001b[0m \u001b[0mseaborn\u001b[0m \u001b[0;32mas\u001b[0m \u001b[0msns\u001b[0m\u001b[0;34m\u001b[0m\u001b[0;34m\u001b[0m\u001b[0m\n",
      "\u001b[0;31mModuleNotFoundError\u001b[0m: No module named 'mord'"
     ]
    }
   ],
   "source": [
    "%matplotlib inline\n",
    "\n",
    "from pathlib import Path\n",
    "\n",
    "import numpy as np\n",
    "import pandas as pd\n",
    "from sklearn.linear_model import LogisticRegression, LogisticRegressionCV\n",
    "from sklearn.model_selection import train_test_split\n",
    "import statsmodels.api as sm\n",
    "from mord import LogisticIT\n",
    "import matplotlib.pylab as plt\n",
    "import seaborn as sns\n",
    "import dmba\n",
    "from dmba import classificationSummary, gainsChart, liftChart\n",
    "from dmba.metric import AIC_score\n"
   ]
  },
  {
   "cell_type": "markdown",
   "metadata": {},
   "source": [
    "## Table 10.2\n",
    "Load the `UniversalBank.csv` dataset. The columns `ID` and `ZIP Code` are not relevant for model building and therefore removed. Treat Education as categorical"
   ]
  },
  {
   "cell_type": "code",
   "execution_count": null,
   "metadata": {
    "execution": {
     "iopub.execute_input": "2022-02-05T23:04:06.302724Z",
     "iopub.status.busy": "2022-02-05T23:04:06.302336Z",
     "iopub.status.idle": "2022-02-05T23:04:06.450640Z",
     "shell.execute_reply": "2022-02-05T23:04:06.450214Z"
    }
   },
   "outputs": [],
   "source": [
    "bank_df = dmba.load_data('UniversalBank.csv')\n",
    "bank_df.drop(columns=['ID', 'ZIP Code'], inplace=True)\n",
    "bank_df.columns = [c.replace(' ', '_') for c in bank_df.columns]\n",
    "\n",
    "# Treat education as categorical, convert to dummy variables\n",
    "bank_df['Education'] = bank_df['Education'].astype('category')\n",
    "new_categories = {1: 'Undergrad', 2: 'Graduate', 3: 'Advanced/Professional'}\n",
    "bank_df.Education.cat.rename_categories(new_categories, inplace=True)\n",
    "bank_df = pd.get_dummies(bank_df, prefix_sep='_', drop_first=True)\n",
    "\n",
    "y = bank_df['Personal_Loan']\n",
    "X = bank_df.drop(columns=['Personal_Loan'])\n",
    "\n",
    "# partition data\n",
    "train_X, valid_X, train_y, valid_y = train_test_split(X, y, test_size=0.4, random_state=1)\n",
    "\n",
    "# fit a logistic regression (set penalty=l2 and C=1e42 to avoid regularization)\n",
    "logit_reg = LogisticRegression(penalty=\"l2\", C=1e42, solver='liblinear')\n",
    "\n",
    "logit_reg.fit(train_X, train_y)\n",
    "\n",
    "print('intercept ', logit_reg.intercept_[0])\n",
    "print(pd.DataFrame({'coeff': logit_reg.coef_[0]}, index=X.columns).transpose())\n",
    "print()\n",
    "print('AIC', AIC_score(valid_y, logit_reg.predict(valid_X), df = len(train_X.columns) + 1))"
   ]
  },
  {
   "cell_type": "code",
   "execution_count": null,
   "metadata": {
    "execution": {
     "iopub.execute_input": "2022-02-05T23:04:06.455834Z",
     "iopub.status.busy": "2022-02-05T23:04:06.455369Z",
     "iopub.status.idle": "2022-02-05T23:04:06.457277Z",
     "shell.execute_reply": "2022-02-05T23:04:06.457633Z"
    }
   },
   "outputs": [],
   "source": [
    "# Set to True to calculate logistic regression using Income only\n",
    "if False:\n",
    "    predictors = ['Income']\n",
    "    outcome = 'Personal_Loan'\n",
    "\n",
    "    y = bank_df[outcome]\n",
    "    X = bank_df[predictors]\n",
    "\n",
    "    # partition data\n",
    "    train_X, valid_X, train_y, valid_y = train_test_split(X, y, test_size=0.4, random_state=1)\n",
    "\n",
    "    # fit a logistic regression (set penalty=l2 and C=1e42 to avoid regularization)\n",
    "    logit_reg_income = LogisticRegression(penalty=\"l2\", C=1e42, solver='liblinear')\n",
    "    logit_reg_income.fit(train_X, train_y)\n",
    "\n",
    "    print('intercept ', logit_reg_income.intercept_[0])\n",
    "    print(pd.DataFrame({'coefficient': logit_reg_income.coef_[0]}, index=X.columns).transpose())\n",
    "    print()\n",
    "    print('AIC', AIC_score(valid_y, logit_reg_income.predict(valid_X), df = len(train_X.columns) + 1))"
   ]
  },
  {
   "cell_type": "markdown",
   "metadata": {},
   "source": [
    "## Table 10.3\n",
    "Predict to get the probabilities"
   ]
  },
  {
   "cell_type": "code",
   "execution_count": null,
   "metadata": {
    "execution": {
     "iopub.execute_input": "2022-02-05T23:04:06.462136Z",
     "iopub.status.busy": "2022-02-05T23:04:06.459579Z",
     "iopub.status.idle": "2022-02-05T23:04:06.470937Z",
     "shell.execute_reply": "2022-02-05T23:04:06.470621Z"
    }
   },
   "outputs": [],
   "source": [
    "logit_reg_pred = logit_reg.predict(valid_X)\n",
    "logit_reg_proba = logit_reg.predict_proba(valid_X)\n",
    "logit_result = pd.DataFrame({'actual': valid_y, \n",
    "                             'p(0)': [p[0] for p in logit_reg_proba],\n",
    "                             'p(1)': [p[1] for p in logit_reg_proba],\n",
    "                             'predicted': logit_reg_pred })\n",
    "\n",
    "# display four different cases\n",
    "interestingCases = [2764, 932, 2721, 702]\n",
    "print(logit_result.loc[interestingCases])"
   ]
  },
  {
   "cell_type": "markdown",
   "metadata": {},
   "source": [
    "## Table 10.4"
   ]
  },
  {
   "cell_type": "code",
   "execution_count": null,
   "metadata": {
    "execution": {
     "iopub.execute_input": "2022-02-05T23:04:06.475005Z",
     "iopub.status.busy": "2022-02-05T23:04:06.472946Z",
     "iopub.status.idle": "2022-02-05T23:04:06.484664Z",
     "shell.execute_reply": "2022-02-05T23:04:06.484228Z"
    }
   },
   "outputs": [],
   "source": [
    "classificationSummary(train_y, logit_reg.predict(train_X))\n",
    "classificationSummary(valid_y, logit_reg.predict(valid_X))"
   ]
  },
  {
   "cell_type": "markdown",
   "metadata": {},
   "source": [
    "## Figure 10.3"
   ]
  },
  {
   "cell_type": "code",
   "execution_count": null,
   "metadata": {
    "execution": {
     "iopub.execute_input": "2022-02-05T23:04:06.488611Z",
     "iopub.status.busy": "2022-02-05T23:04:06.486527Z",
     "iopub.status.idle": "2022-02-05T23:04:06.816580Z",
     "shell.execute_reply": "2022-02-05T23:04:06.816931Z"
    }
   },
   "outputs": [],
   "source": [
    "df = logit_result.sort_values(by=['p(1)'], ascending=False)\n",
    "fig, axes = plt.subplots(nrows=1, ncols=2, figsize=(10, 4))\n",
    "\n",
    "gainsChart(df.actual, ax=axes[0])\n",
    "liftChart(df.actual, title=False, ax=axes[1])\n",
    "    \n",
    "plt.tight_layout()\n",
    "plt.show()"
   ]
  },
  {
   "cell_type": "markdown",
   "metadata": {},
   "source": [
    "## Figure 10.4"
   ]
  },
  {
   "cell_type": "code",
   "execution_count": null,
   "metadata": {
    "execution": {
     "iopub.execute_input": "2022-02-05T23:04:06.819070Z",
     "iopub.status.busy": "2022-02-05T23:04:06.818583Z",
     "iopub.status.idle": "2022-02-05T23:04:06.874140Z",
     "shell.execute_reply": "2022-02-05T23:04:06.874394Z"
    }
   },
   "outputs": [],
   "source": [
    "delays_df = dmba.load_data('FlightDelays.csv')\n",
    "# Create an indicator variable\n",
    "delays_df['isDelayed'] = [1 if status == 'delayed' else 0 for status in delays_df['Flight Status']]\n",
    "\n",
    "# group information by day of week and determine the average delay\n",
    "averageDelay = delays_df.groupby(['DAY_WEEK'])['isDelayed'].mean()\n",
    "\n",
    "# create a bar chart\n",
    "ax = averageDelay.plot.bar(color='C0')\n",
    "ax.set_xlabel('Day of week')\n",
    "ax.set_ylabel('Average Delay')\n",
    "_ = ax.set_xticklabels(['Mon', 'Tue', 'Wed', 'Thu', 'Fri', 'Sat', 'Sun'])"
   ]
  },
  {
   "cell_type": "code",
   "execution_count": null,
   "metadata": {
    "execution": {
     "iopub.execute_input": "2022-02-05T23:04:06.876695Z",
     "iopub.status.busy": "2022-02-05T23:04:06.876345Z",
     "iopub.status.idle": "2022-02-05T23:04:07.319498Z",
     "shell.execute_reply": "2022-02-05T23:04:07.319788Z"
    },
    "scrolled": false
   },
   "outputs": [],
   "source": [
    "delays_df = dmba.load_data('FlightDelays.csv')\n",
    "# Create an indicator variable\n",
    "delays_df['isDelayed'] = [1 if status == 'delayed' else 0 \n",
    "                          for status in delays_df['Flight Status']]\n",
    "\n",
    "def createGraph(group, xlabel, axis):\n",
    "    groupAverage = delays_df.groupby([group])['isDelayed'].mean()\n",
    "    if group == 'DAY_WEEK': # rotate so that display starts on Sunday\n",
    "        groupAverage = groupAverage.reindex(index=np.roll(groupAverage.index,1))\n",
    "        groupAverage.index = ['Sun', 'Mon', 'Tue', 'Wed', 'Thu', 'Fri', 'Sat']\n",
    "    ax = groupAverage.plot.bar(color='C0', ax=axis)\n",
    "    ax.set_ylabel('Average Delay')\n",
    "    ax.set_xlabel(xlabel)\n",
    "    return ax\n",
    "\n",
    "def graphDepartureTime(xlabel, axis):\n",
    "    temp_df = pd.DataFrame({'CRS_DEP_TIME': delays_df['CRS_DEP_TIME'] // 100, \n",
    "                            'isDelayed': delays_df['isDelayed']})\n",
    "    groupAverage = temp_df.groupby(['CRS_DEP_TIME'])['isDelayed'].mean()\n",
    "    ax = groupAverage.plot.bar(color='C0', ax=axis)\n",
    "    ax.set_xlabel(xlabel); ax.set_ylabel('Average Delay')\n",
    "    \n",
    "fig, axes = plt.subplots(nrows=3, ncols=2, figsize=(10, 9))\n",
    "\n",
    "createGraph('DAY_WEEK', 'Day of week', axis=axes[0][0])\n",
    "createGraph('DEST', 'Destination', axis=axes[0][1])\n",
    "graphDepartureTime('Departure time', axis=axes[1][0])\n",
    "createGraph('CARRIER', 'Carrier', axis=axes[1][1])\n",
    "createGraph('ORIGIN', 'Origin', axis=axes[2][0])\n",
    "createGraph('Weather', 'Weather', axis=axes[2][1])\n",
    "plt.tight_layout()\n",
    "\n",
    "plt.show()"
   ]
  },
  {
   "cell_type": "markdown",
   "metadata": {},
   "source": [
    "## Figure 10.5"
   ]
  },
  {
   "cell_type": "code",
   "execution_count": null,
   "metadata": {
    "execution": {
     "iopub.execute_input": "2022-02-05T23:04:07.321959Z",
     "iopub.status.busy": "2022-02-05T23:04:07.321497Z",
     "iopub.status.idle": "2022-02-05T23:04:07.630749Z",
     "shell.execute_reply": "2022-02-05T23:04:07.631889Z"
    }
   },
   "outputs": [],
   "source": [
    "agg = delays_df.groupby(['ORIGIN', 'DAY_WEEK', 'CARRIER']).isDelayed.mean()\n",
    "agg = agg.reset_index()\n",
    "\n",
    "# Define the layout of the graph\n",
    "height_ratios = []\n",
    "for i, origin in enumerate(sorted(delays_df.ORIGIN.unique())):\n",
    "    height_ratios.append(len(agg[agg.ORIGIN == origin].CARRIER.unique()))\n",
    "gridspec_kw = {'height_ratios': height_ratios, 'width_ratios': [15, 1]}\n",
    "fig, axes = plt.subplots(nrows=3, ncols=2, figsize=(10, 6), \n",
    "                         gridspec_kw = gridspec_kw)\n",
    "axes[0, 1].axis('off')\n",
    "axes[2, 1].axis('off')\n",
    "\n",
    "maxIsDelay = agg.isDelayed.max()\n",
    "for i, origin in enumerate(sorted(delays_df.ORIGIN.unique())):\n",
    "    data = pd.pivot_table(agg[agg.ORIGIN == origin], values='isDelayed', aggfunc=np.sum, \n",
    "                          index=['CARRIER'], columns=['DAY_WEEK'])\n",
    "    data = data[[7, 1, 2, 3, 4, 5, 6]]  # Shift last columns to first\n",
    "    ax = sns.heatmap(data, ax=axes[i][0], vmin=0, vmax=maxIsDelay, \n",
    "                     cbar_ax=axes[1][1], cmap=sns.light_palette(\"navy\"))\n",
    "    ax.set_xticklabels(['Sun', 'Mon', 'Tue', 'Wed', 'Thu', 'Fri', 'Sat'])\n",
    "    if i != 2: \n",
    "        ax.get_xaxis().set_visible(False)\n",
    "    ax.set_ylabel('Airport ' + origin)\n",
    "    \n",
    "\n",
    "plt.show()"
   ]
  },
  {
   "cell_type": "markdown",
   "metadata": {},
   "source": [
    "## Table 10.7"
   ]
  },
  {
   "cell_type": "code",
   "execution_count": null,
   "metadata": {
    "execution": {
     "iopub.execute_input": "2022-02-05T23:04:07.634827Z",
     "iopub.status.busy": "2022-02-05T23:04:07.634494Z",
     "iopub.status.idle": "2022-02-05T23:04:07.668342Z",
     "shell.execute_reply": "2022-02-05T23:04:07.668037Z"
    }
   },
   "outputs": [],
   "source": [
    "delays_df = dmba.load_data('FlightDelays.csv')\n",
    "# Create an indicator variable\n",
    "delays_df['isDelayed'] = [1 if status == 'delayed' else 0 \n",
    "                          for status in delays_df['Flight Status']]\n",
    "\n",
    "# convert to categorical\n",
    "delays_df.DAY_WEEK = delays_df.DAY_WEEK.astype('category')\n",
    "\n",
    "# create hourly bins departure time \n",
    "delays_df.CRS_DEP_TIME = [round(t / 100) for t in delays_df.CRS_DEP_TIME]\n",
    "delays_df.CRS_DEP_TIME = delays_df.CRS_DEP_TIME.astype('category')\n",
    "\n",
    "predictors = ['DAY_WEEK', 'CRS_DEP_TIME', 'ORIGIN', 'DEST', 'CARRIER', 'Weather']\n",
    "outcome = 'isDelayed'\n",
    "\n",
    "X = pd.get_dummies(delays_df[predictors], drop_first=True)\n",
    "y = delays_df[outcome]\n",
    "classes = ['ontime', 'delayed']\n",
    "\n",
    "# split into training and validation\n",
    "train_X, valid_X, train_y, valid_y = train_test_split(X, y, test_size=0.4, \n",
    "                                                      random_state=1)\n",
    "\n",
    "logit_full = LogisticRegression(penalty=\"l2\", C=1e42, solver='liblinear')\n",
    "logit_full.fit(train_X, train_y)\n",
    "\n",
    "pd.set_option('display.width', 95)\n",
    "pd.set_option('display.precision',3)\n",
    "pd.set_option('display.max_columns', 33)\n",
    "print('intercept ', logit_full.intercept_[0])\n",
    "\n",
    "print(pd.DataFrame({'coeff': logit_full.coef_[0]}, index=X.columns).transpose())\n",
    "print()\n",
    "print('AIC', AIC_score(valid_y, logit_full.predict(valid_X), df=len(train_X.columns) + 1))\n",
    "pd.reset_option('display.width')\n",
    "pd.reset_option('display.precision')\n",
    "pd.reset_option('display.max_columns')"
   ]
  },
  {
   "cell_type": "markdown",
   "metadata": {},
   "source": [
    "## Figure 10.6"
   ]
  },
  {
   "cell_type": "code",
   "execution_count": null,
   "metadata": {
    "execution": {
     "iopub.execute_input": "2022-02-05T23:04:07.673316Z",
     "iopub.status.busy": "2022-02-05T23:04:07.672952Z",
     "iopub.status.idle": "2022-02-05T23:04:07.771417Z",
     "shell.execute_reply": "2022-02-05T23:04:07.771958Z"
    }
   },
   "outputs": [],
   "source": [
    "logit_reg_pred = logit_full.predict_proba(valid_X)\n",
    "full_result = pd.DataFrame({'actual': valid_y, \n",
    "                            'p(0)': [p[0] for p in logit_reg_pred],\n",
    "                            'p(1)': [p[1] for p in logit_reg_pred],\n",
    "                            'predicted': logit_full.predict(valid_X)})\n",
    "full_result = full_result.sort_values(by=['p(1)'], ascending=False)\n",
    "\n",
    "# confusion matrix\n",
    "classificationSummary(full_result.actual, full_result.predicted, class_names=classes)\n",
    "\n",
    "gainsChart(full_result.actual, figsize=[5, 5])\n",
    "\n",
    "plt.show()"
   ]
  },
  {
   "cell_type": "markdown",
   "metadata": {},
   "source": [
    "## Table 10.9"
   ]
  },
  {
   "cell_type": "code",
   "execution_count": null,
   "metadata": {
    "execution": {
     "iopub.execute_input": "2022-02-05T23:04:07.779588Z",
     "iopub.status.busy": "2022-02-05T23:04:07.779210Z",
     "iopub.status.idle": "2022-02-05T23:04:07.872247Z",
     "shell.execute_reply": "2022-02-05T23:04:07.871984Z"
    },
    "scrolled": false
   },
   "outputs": [],
   "source": [
    "delays_df = dmba.load_data('FlightDelays.csv')\n",
    "delays_df['isDelayed'] = [1 if status == 'delayed' else 0 \n",
    "                          for status in delays_df['Flight Status']]\n",
    "delays_df['CRS_DEP_TIME'] = [round(t / 100) for t in delays_df['CRS_DEP_TIME']]\n",
    "delays_red_df = pd.DataFrame({\n",
    "    'Sun_Mon' : [1 if d in (1, 7) else 0 for d in delays_df.DAY_WEEK],\n",
    "    'Weather' : delays_df.Weather,\n",
    "    'CARRIER_CO_MQ_DH_RU' : [1 if d in (\"CO\", \"MQ\", \"DH\", \"RU\") else 0 \n",
    "                             for d in delays_df.CARRIER],\n",
    "    'MORNING' : [1 if d in (6, 7, 8, 9) else 0 for d in delays_df.CRS_DEP_TIME],\n",
    "    'NOON' : [1 if d in (10, 11, 12, 13) else 0 for d in delays_df.CRS_DEP_TIME],\n",
    "    'AFTER2P' : [1 if d in (14, 15, 16, 17, 18) else 0 for d in delays_df.CRS_DEP_TIME],\n",
    "    'EVENING' : [1 if d in (19, 20) else 0 for d in delays_df.CRS_DEP_TIME],\n",
    "    'isDelayed' : [1 if status == 'delayed' else 0 for status in delays_df['Flight Status']],\n",
    "})\n",
    "\n",
    "X = delays_red_df.drop(columns=['isDelayed'])\n",
    "y = delays_red_df['isDelayed']\n",
    "classes = ['ontime', 'delayed']\n",
    "\n",
    "# split into training and validation\n",
    "train_X, valid_X, train_y, valid_y = train_test_split(X, y, test_size=0.4, \n",
    "                                                      random_state=1)\n",
    "\n",
    "logit_red = LogisticRegressionCV(penalty=\"l1\", solver='liblinear', cv=5)\n",
    "logit_red.fit(train_X, train_y)\n",
    "\n",
    "pd.set_option('display.width', 100)\n",
    "print('regularization', logit_red.C_)\n",
    "print('intercept ', logit_red.intercept_[0])\n",
    "print(pd.DataFrame({'coeff': logit_red.coef_[0]}, index=X.columns).transpose())\n",
    "pd.reset_option('display.width')\n",
    "print('AIC', AIC_score(valid_y, logit_red.predict(valid_X), df=len(train_X.columns) + 1))\n",
    "\n",
    "\n",
    "# confusion matrix\n",
    "classificationSummary(valid_y, logit_red.predict(valid_X), class_names=classes)"
   ]
  },
  {
   "cell_type": "code",
   "execution_count": null,
   "metadata": {
    "execution": {
     "iopub.execute_input": "2022-02-05T23:04:07.876908Z",
     "iopub.status.busy": "2022-02-05T23:04:07.876584Z",
     "iopub.status.idle": "2022-02-05T23:04:07.966855Z",
     "shell.execute_reply": "2022-02-05T23:04:07.966549Z"
    }
   },
   "outputs": [],
   "source": [
    "logit_reg_proba = logit_red.predict_proba(valid_X)\n",
    "red_result = pd.DataFrame({'actual': valid_y, \n",
    "                            'p(0)': [p[0] for p in logit_reg_proba],\n",
    "                            'p(1)': [p[1] for p in logit_reg_proba],\n",
    "                            'predicted': logit_red.predict(valid_X),\n",
    "                          })\n",
    "red_result = red_result.sort_values(by=['p(1)'], ascending=False)\n",
    "\n",
    "ax = gainsChart(full_result.actual, label='Full model', color='C1', figsize=[5, 5])\n",
    "ax = gainsChart(red_result.actual, label='Reduced model', color='C0', ax=ax)\n",
    "ax.legend()\n",
    "\n",
    "plt.show()"
   ]
  },
  {
   "cell_type": "markdown",
   "metadata": {},
   "source": [
    "## Table 10.9"
   ]
  },
  {
   "cell_type": "code",
   "execution_count": null,
   "metadata": {
    "execution": {
     "iopub.execute_input": "2022-02-05T23:04:07.970421Z",
     "iopub.status.busy": "2022-02-05T23:04:07.970060Z",
     "iopub.status.idle": "2022-02-05T23:04:07.997448Z",
     "shell.execute_reply": "2022-02-05T23:04:07.997788Z"
    }
   },
   "outputs": [],
   "source": [
    "# same initial preprocessing and creating dummies\n",
    "\n",
    "# add constant column\n",
    "bank_df = sm.add_constant(bank_df, prepend=True)\n",
    "\n",
    "y = bank_df['Personal_Loan']\n",
    "X = bank_df.drop(columns=['Personal_Loan'])\n",
    "\n",
    "# partition data\n",
    "train_X, valid_X, train_y, valid_y = train_test_split(X, y, test_size=0.4, random_state=1)\n",
    "\n",
    "# use GLM (general linear model) with the binomial family to fit a logistic regression\n",
    "logit_reg = sm.GLM(train_y, train_X, family=sm.families.Binomial())\n",
    "logit_result = logit_reg.fit()\n",
    "print(logit_result.summary())"
   ]
  },
  {
   "cell_type": "code",
   "execution_count": null,
   "metadata": {
    "execution": {
     "iopub.execute_input": "2022-02-05T23:04:08.003530Z",
     "iopub.status.busy": "2022-02-05T23:04:08.003135Z",
     "iopub.status.idle": "2022-02-05T23:04:08.479953Z",
     "shell.execute_reply": "2022-02-05T23:04:08.479662Z"
    }
   },
   "outputs": [],
   "source": [
    "data = dmba.load_data('accidentsFull.csv')\n",
    "outcome = 'MAX_SEV_IR'\n",
    "predictors = ['ALCHL_I', 'WEATHER_R']\n",
    "\n",
    "y = data[outcome]\n",
    "X = data[predictors]\n",
    "train_X, train_y = X, y\n",
    "classes = sorted(y.unique())\n",
    "\n",
    "print('Nominal logistic regression')\n",
    "logit = LogisticRegression(penalty=\"l2\", solver='lbfgs', C=1e24, multi_class='multinomial')\n",
    "logit.fit(X, y)\n",
    "print('  intercept', logit.intercept_)\n",
    "print('  coefficients', logit.coef_)\n",
    "print()\n",
    "probs = logit.predict_proba(X)\n",
    "results = pd.DataFrame({\n",
    "    'actual': y, 'predicted': logit.predict(X),\n",
    "    'P(0)': [p[0] for p in probs],\n",
    "    'P(1)': [p[1] for p in probs],\n",
    "    'P(2)': [p[2] for p in probs],\n",
    "})\n",
    "print(results.head())\n",
    "print()\n",
    "\n",
    "\n",
    "print('Ordinal logistic regression')\n",
    "logit = LogisticIT(alpha=0)\n",
    "logit.fit(X, y)\n",
    "print('  theta', logit.theta_)\n",
    "print('  coefficients', logit.coef_)\n",
    "print()\n",
    "probs = logit.predict_proba(X)\n",
    "results = pd.DataFrame({\n",
    "    'actual': y, 'predicted': logit.predict(X),\n",
    "    'P(0)': [p[0] for p in probs],\n",
    "    'P(1)': [p[1] for p in probs],\n",
    "    'P(2)': [p[2] for p in probs],\n",
    "})\n",
    "print(results.head())\n",
    "\n"
   ]
  },
  {
   "cell_type": "markdown",
   "metadata": {},
   "source": [
    "## Nominal logistic regression"
   ]
  },
  {
   "cell_type": "code",
   "execution_count": null,
   "metadata": {
    "execution": {
     "iopub.execute_input": "2022-02-05T23:04:08.484641Z",
     "iopub.status.busy": "2022-02-05T23:04:08.484279Z",
     "iopub.status.idle": "2022-02-05T23:04:08.806404Z",
     "shell.execute_reply": "2022-02-05T23:04:08.806042Z"
    }
   },
   "outputs": [],
   "source": [
    "data = dmba.load_data('accidentsFull.csv')\n",
    "outcome = 'MAX_SEV_IR'\n",
    "predictors = ['ALCHL_I', 'WEATHER_R']\n",
    "print('predictors', predictors)\n",
    "print()\n",
    "y = data[outcome]\n",
    "X = data[predictors]\n",
    "train_X, train_y = X, y\n",
    "classes = sorted(y.unique())\n",
    "\n",
    "logit = LogisticRegression(penalty=\"l2\", solver='lbfgs', C=1e24, multi_class='multinomial')\n",
    "logit.fit(X, y)\n",
    "\n",
    "print('intercept', logit.intercept_)\n",
    "print('coef', logit.coef_)\n",
    "print('classes', logit.classes_)\n",
    "\n",
    "probs = logit.predict_proba(X)\n",
    "results = pd.DataFrame({\n",
    "    'actual': y,\n",
    "    'predicted': logit.predict(X),\n",
    "    'P(a)': [p[0] for p in probs],\n",
    "    'P(b)': [p[1] for p in probs],\n",
    "    'P(c)': [p[2] for p in probs],\n",
    "})\n",
    "print(results.head())\n",
    "# classificationSummary(y, results.predicted, class_names=classes)"
   ]
  },
  {
   "cell_type": "code",
   "execution_count": null,
   "metadata": {
    "execution": {
     "iopub.execute_input": "2022-02-05T23:04:08.814066Z",
     "iopub.status.busy": "2022-02-05T23:04:08.813675Z",
     "iopub.status.idle": "2022-02-05T23:04:09.282956Z",
     "shell.execute_reply": "2022-02-05T23:04:09.282652Z"
    }
   },
   "outputs": [],
   "source": [
    "def plotProbabilities(model):\n",
    "    n = 100\n",
    "    Xtest = pd.DataFrame({\n",
    "        'ALCHL_I': [(i % n) * 0.1 + (j // n) * 0.1 - 5 for i in range(n) for j in range(n)],\n",
    "        'WEATHER_R': [(i // n) * 0.1 + (j % n) * 0.1 - 5 for i in range(n) for j in range(n)],\n",
    "    })\n",
    "    probs = logit.predict_proba(Xtest[predictors])\n",
    "\n",
    "    results = pd.DataFrame({\n",
    "        'predicted': logit.predict(Xtest[predictors]),\n",
    "        'P(a)': [round(10 * p[0]) / 10 for p in probs],\n",
    "        'P(b)': [round(10 * p[1]) / 10 for p in probs],\n",
    "        'P(c)': [round(10 * p[2]) / 10 for p in probs],\n",
    "    })\n",
    "    mapped = pd.concat([results, Xtest], axis=1, sort=False)\n",
    "\n",
    "    fig, axes = plt.subplots(nrows=1, ncols=3, figsize=(10, 3))\n",
    "    for i, c in enumerate(['P(a)', 'P(b)', 'P(c)']):\n",
    "        ax = mapped.plot.scatter(x='ALCHL_I', y='WEATHER_R', c=c, title=c, colormap='cividis', ax=axes[i])\n",
    "        if i > 0: ax.set_ylabel('')\n",
    "plotProbabilities(logit)"
   ]
  },
  {
   "cell_type": "markdown",
   "metadata": {},
   "source": [
    "## Ordinal logistic regression"
   ]
  },
  {
   "cell_type": "code",
   "execution_count": null,
   "metadata": {
    "execution": {
     "iopub.execute_input": "2022-02-05T23:04:09.288367Z",
     "iopub.status.busy": "2022-02-05T23:04:09.287987Z",
     "iopub.status.idle": "2022-02-05T23:04:09.598942Z",
     "shell.execute_reply": "2022-02-05T23:04:09.598665Z"
    }
   },
   "outputs": [],
   "source": [
    "import random\n",
    "from mord import LogisticIT\n",
    "\n",
    "data = dmba.load_data('accidentsFull.csv')\n",
    "outcome = 'MAX_SEV_IR'\n",
    "predictors = ['ALCHL_I', 'WEATHER_R']\n",
    "y = data[outcome]\n",
    "X = data[predictors]\n",
    "X['ALCHL_I']\n",
    "train_X, train_y = X, y\n",
    "classes = sorted(y.unique())\n",
    "\n",
    "logit = LogisticIT(alpha=0)\n",
    "logit.fit(X, y)\n",
    "\n",
    "print('theta', logit.theta_)\n",
    "print('coef', logit.coef_)\n",
    "print('classes', logit.classes_)\n",
    "print()\n",
    "\n",
    "\n",
    "probs = logit.predict_proba(X)\n",
    "\n",
    "results = pd.DataFrame({\n",
    "    'actual': [yi + random.gauss(0, 0.001) for yi in y],\n",
    "    'predicted': logit.predict(X),\n",
    "    'P(a)': [p[0] + random.gauss(0, 0.001) for p in probs],\n",
    "    'P(b)': [p[1] + random.gauss(0, 0.001) for p in probs],\n",
    "    'P(c)': [p[2] + random.gauss(0, 0.001) for p in probs],\n",
    "})\n",
    "print(results.head())\n",
    "\n",
    "# classificationSummary(y, results.predicted, class_names=classes)"
   ]
  },
  {
   "cell_type": "code",
   "execution_count": null,
   "metadata": {
    "execution": {
     "iopub.execute_input": "2022-02-05T23:04:09.606123Z",
     "iopub.status.busy": "2022-02-05T23:04:09.605708Z",
     "iopub.status.idle": "2022-02-05T23:04:10.121869Z",
     "shell.execute_reply": "2022-02-05T23:04:10.121586Z"
    }
   },
   "outputs": [],
   "source": [
    "plotProbabilities(logit)"
   ]
  },
  {
   "cell_type": "code",
   "execution_count": null,
   "metadata": {},
   "outputs": [],
   "source": []
  }
 ],
 "metadata": {
  "kernelspec": {
   "display_name": "Python 3",
   "language": "python",
   "name": "python3"
  },
  "language_info": {
   "codemirror_mode": {
    "name": "ipython",
    "version": 3
   },
   "file_extension": ".py",
   "mimetype": "text/x-python",
   "name": "python",
   "nbconvert_exporter": "python",
   "pygments_lexer": "ipython3",
   "version": "3.7.6"
  }
 },
 "nbformat": 4,
 "nbformat_minor": 2
}
