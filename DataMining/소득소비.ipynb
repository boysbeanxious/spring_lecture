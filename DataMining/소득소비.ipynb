{
 "cells": [
  {
   "cell_type": "code",
   "execution_count": 1,
   "metadata": {},
   "outputs": [],
   "source": [
    "import pandas as pd"
   ]
  },
  {
   "cell_type": "code",
   "execution_count": 2,
   "metadata": {},
   "outputs": [],
   "source": [
    "df = pd.read_csv('./data/서울시 우리마을가게 상권분석서비스(상권-추정매출).csv', encoding='cp949')"
   ]
  },
  {
   "cell_type": "code",
   "execution_count": 3,
   "metadata": {
    "scrolled": true
   },
   "outputs": [
    {
     "data": {
      "text/plain": [
       "array(['전자상거래업', '인테리어', '가전제품', '가구', '화초', '섬유제품', '완구', '운동/경기용품',\n",
       "       '화장품', '문구', '의약품', '시계및귀금속', '안경', '가방', '신발', '일반의류', '반찬가게',\n",
       "       '핸드폰', '컴퓨터및주변장치판매', '편의점', '슈퍼마켓', '피부관리실', '네일숍', '미용실', '스포츠클럽',\n",
       "       '치과의원', '일반의원', '커피-음료', '분식전문점', '패스트푸드점', '제과점', '양식음식점',\n",
       "       '일식음식점', '중식음식점', '한식음식점', '의료기기', '노래방', '고시원', '여관', '세탁소',\n",
       "       '자동차수리', '골프연습장', '당구장', '한의원', '스포츠 강습', '호프-간이주점', '치킨전문점',\n",
       "       '조명용품', '철물점', '애완동물', '서적', '청과상', '수산물판매', '육류판매', '미곡판매',\n",
       "       '가전제품수리', 'PC방', '예술학원', '외국어학원', '일반교습학원', '자동차미용', '부동산중개업',\n",
       "       '자전거 및 기타운송장비'], dtype=object)"
      ]
     },
     "execution_count": 3,
     "metadata": {},
     "output_type": "execute_result"
    }
   ],
   "source": [
    "df['서비스_업종_코드_명'].unique()"
   ]
  },
  {
   "cell_type": "markdown",
   "metadata": {},
   "source": [
    "# 1. 데이터 셋 기준 요식업 정의"
   ]
  },
  {
   "cell_type": "code",
   "execution_count": 4,
   "metadata": {},
   "outputs": [],
   "source": [
    "food = ['커피-음료', '분식전문점', '패스트푸드점', '제과점', '양식음식점','일식음식점', '중식음식점', '한식음식점', '호프-간이주점', '치킨전문점']"
   ]
  },
  {
   "cell_type": "code",
   "execution_count": 5,
   "metadata": {},
   "outputs": [],
   "source": [
    "df_food_1 = df[df['서비스_업종_코드_명'].isin(food)]"
   ]
  },
  {
   "cell_type": "markdown",
   "metadata": {},
   "source": [
    "# 2. 파생변수 생성"
   ]
  },
  {
   "cell_type": "markdown",
   "metadata": {},
   "source": [
    ". 아래 매출건수를 비율 변환  (ex > 남성매출건수/분기당매출건수)  \n",
    "    ['분기당_매출_건수','남성_매출_건수', '여성_매출_건수',\n",
    "    '연령대_10_매출_건수', '연령대_20_매출_건수', '연령대_30_매출_건수', '연령대_40_매출_건수',\n",
    "     '연령대_50_매출_건수', '연령대_60_이상_매출_건수']\n"
   ]
  },
  {
   "cell_type": "code",
   "execution_count": 6,
   "metadata": {},
   "outputs": [],
   "source": [
    "df_food2 = df_food_1.copy()"
   ]
  },
  {
   "cell_type": "code",
   "execution_count": 7,
   "metadata": {},
   "outputs": [],
   "source": [
    "df_food2[['남성_매출_건수_비율', '여성_매출_건수_비율',\n",
    "    '연령대_10_매출_건수_비율', '연령대_20_매출_건수_비율', '연령대_30_매출_건수_비율', '연령대_40_매출_건수_비율',\n",
    "     '연령대_50_매출_건수_비율', '연령대_60_이상_매출_건수_비율']] = df_food2[['남성_매출_건수', '여성_매출_건수',\n",
    "    '연령대_10_매출_건수', '연령대_20_매출_건수', '연령대_30_매출_건수', '연령대_40_매출_건수',\n",
    "     '연령대_50_매출_건수', '연령대_60_이상_매출_건수']].div(df_food2['분기당_매출_건수'], axis=0)"
   ]
  },
  {
   "cell_type": "code",
   "execution_count": 10,
   "metadata": {},
   "outputs": [
    {
     "data": {
      "text/html": [
       "<div>\n",
       "<style scoped>\n",
       "    .dataframe tbody tr th:only-of-type {\n",
       "        vertical-align: middle;\n",
       "    }\n",
       "\n",
       "    .dataframe tbody tr th {\n",
       "        vertical-align: top;\n",
       "    }\n",
       "\n",
       "    .dataframe thead th {\n",
       "        text-align: right;\n",
       "    }\n",
       "</style>\n",
       "<table border=\"1\" class=\"dataframe\">\n",
       "  <thead>\n",
       "    <tr style=\"text-align: right;\">\n",
       "      <th></th>\n",
       "      <th>분기당_매출_건수</th>\n",
       "      <th>남성_매출_건수</th>\n",
       "      <th>여성_매출_건수</th>\n",
       "      <th>남성_매출_건수_비율</th>\n",
       "      <th>여성_매출_건수_비율</th>\n",
       "    </tr>\n",
       "  </thead>\n",
       "  <tbody>\n",
       "    <tr>\n",
       "      <th>27</th>\n",
       "      <td>316414</td>\n",
       "      <td>103413</td>\n",
       "      <td>184276</td>\n",
       "      <td>0.326828</td>\n",
       "      <td>0.582389</td>\n",
       "    </tr>\n",
       "    <tr>\n",
       "      <th>28</th>\n",
       "      <td>190416</td>\n",
       "      <td>72871</td>\n",
       "      <td>91185</td>\n",
       "      <td>0.382694</td>\n",
       "      <td>0.478873</td>\n",
       "    </tr>\n",
       "    <tr>\n",
       "      <th>29</th>\n",
       "      <td>146500</td>\n",
       "      <td>71117</td>\n",
       "      <td>65160</td>\n",
       "      <td>0.485440</td>\n",
       "      <td>0.444778</td>\n",
       "    </tr>\n",
       "    <tr>\n",
       "      <th>30</th>\n",
       "      <td>256055</td>\n",
       "      <td>91218</td>\n",
       "      <td>149959</td>\n",
       "      <td>0.356244</td>\n",
       "      <td>0.585652</td>\n",
       "    </tr>\n",
       "    <tr>\n",
       "      <th>31</th>\n",
       "      <td>127362</td>\n",
       "      <td>45079</td>\n",
       "      <td>59846</td>\n",
       "      <td>0.353944</td>\n",
       "      <td>0.469889</td>\n",
       "    </tr>\n",
       "  </tbody>\n",
       "</table>\n",
       "</div>"
      ],
      "text/plain": [
       "    분기당_매출_건수  남성_매출_건수  여성_매출_건수  남성_매출_건수_비율  여성_매출_건수_비율\n",
       "27     316414    103413    184276     0.326828     0.582389\n",
       "28     190416     72871     91185     0.382694     0.478873\n",
       "29     146500     71117     65160     0.485440     0.444778\n",
       "30     256055     91218    149959     0.356244     0.585652\n",
       "31     127362     45079     59846     0.353944     0.469889"
      ]
     },
     "execution_count": 10,
     "metadata": {},
     "output_type": "execute_result"
    }
   ],
   "source": [
    "df_food2[['분기당_매출_건수', '남성_매출_건수', '여성_매출_건수', '남성_매출_건수_비율', '여성_매출_건수_비율']].head()\n",
    "# 남성매출건수와 여성매출건수의 합이 전체 분기당 매출건수의 합과 일치하지 않음 "
   ]
  }
 ],
 "metadata": {
  "kernelspec": {
   "display_name": "Python 3",
   "language": "python",
   "name": "python3"
  },
  "language_info": {
   "codemirror_mode": {
    "name": "ipython",
    "version": 3
   },
   "file_extension": ".py",
   "mimetype": "text/x-python",
   "name": "python",
   "nbconvert_exporter": "python",
   "pygments_lexer": "ipython3",
   "version": "3.7.6"
  }
 },
 "nbformat": 4,
 "nbformat_minor": 4
}
