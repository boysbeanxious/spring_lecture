{
 "cells": [
  {
   "cell_type": "markdown",
   "metadata": {},
   "source": [
    "# Chapter 3: Data Visualization\n",
    "\n",
    "> (c) 2019 Galit Shmueli, Peter C. Bruce, Peter Gedeck \n",
    ">\n",
    "> Code included in\n",
    ">\n",
    "> _Data Mining for Business Analytics: Concepts, Techniques, and Applications in Python_ (First Edition) \n",
    "> Galit Shmueli, Peter C. Bruce, Peter Gedeck, and Nitin R. Patel. 2019.\n",
    "\n",
    "Pandas provides a number of basic plotting capabilities. Matplotlib however gives you more control over details of the visualisation. The Pandas plot methods return an axes object, which can also be used to modify the visualisation using basic matplotlib commands.\n",
    "\n",
    "## Import required packages"
   ]
  },
  {
   "cell_type": "code",
   "execution_count": 1,
   "metadata": {},
   "outputs": [
    {
     "name": "stdout",
     "output_type": "stream",
     "text": [
      "no display found. Using non-interactive Agg backend\n"
     ]
    }
   ],
   "source": [
    "import dmba"
   ]
  },
  {
   "cell_type": "code",
   "execution_count": 2,
   "metadata": {
    "execution": {
     "iopub.execute_input": "2021-05-27T20:01:26.112951Z",
     "iopub.status.busy": "2021-05-27T20:01:26.112441Z",
     "iopub.status.idle": "2021-05-27T20:01:27.140335Z",
     "shell.execute_reply": "2021-05-27T20:01:27.139827Z"
    }
   },
   "outputs": [],
   "source": [
    "import os\n",
    "import calendar\n",
    "from pathlib import Path\n",
    "import numpy as np\n",
    "import networkx as nx\n",
    "import pandas as pd\n",
    "from pandas.plotting import scatter_matrix, parallel_coordinates\n",
    "import seaborn as sns\n",
    "from sklearn import preprocessing\n",
    "import matplotlib.pylab as plt\n",
    "\n",
    "\n",
    "%matplotlib inline\n"
   ]
  },
  {
   "cell_type": "markdown",
   "metadata": {},
   "source": [
    "## Table 3.2"
   ]
  },
  {
   "cell_type": "code",
   "execution_count": 3,
   "metadata": {
    "execution": {
     "iopub.execute_input": "2021-05-27T20:01:27.144343Z",
     "iopub.status.busy": "2021-05-27T20:01:27.143477Z",
     "iopub.status.idle": "2021-05-27T20:01:27.173931Z",
     "shell.execute_reply": "2021-05-27T20:01:27.173282Z"
    }
   },
   "outputs": [
    {
     "name": "stdout",
     "output_type": "stream",
     "text": [
      "      CRIM    ZN  INDUS  CHAS    NOX     RM    AGE     DIS  RAD  TAX  PTRATIO  \\\n",
      "0  0.00632  18.0   2.31     0  0.538  6.575   65.2  4.0900    1  296     15.3   \n",
      "1  0.02731   0.0   7.07     0  0.469  6.421   78.9  4.9671    2  242     17.8   \n",
      "2  0.02729   0.0   7.07     0  0.469  7.185   61.1  4.9671    2  242     17.8   \n",
      "3  0.03237   0.0   2.18     0  0.458  6.998   45.8  6.0622    3  222     18.7   \n",
      "4  0.06905   0.0   2.18     0  0.458  7.147   54.2  6.0622    3  222     18.7   \n",
      "5  0.02985   0.0   2.18     0  0.458  6.430   58.7  6.0622    3  222     18.7   \n",
      "6  0.08829  12.5   7.87     0  0.524  6.012   66.6  5.5605    5  311     15.2   \n",
      "7  0.14455  12.5   7.87     0  0.524  6.172   96.1  5.9505    5  311     15.2   \n",
      "8  0.21124  12.5   7.87     0  0.524  5.631  100.0  6.0821    5  311     15.2   \n",
      "\n",
      "   LSTAT  MEDV  CAT_MEDV  \n",
      "0   4.98  24.0         0  \n",
      "1   9.14  21.6         0  \n",
      "2   4.03  34.7         1  \n",
      "3   2.94  33.4         1  \n",
      "4   5.33  36.2         1  \n",
      "5   5.21  28.7         0  \n",
      "6  12.43  22.9         0  \n",
      "7  19.15  27.1         0  \n",
      "8  29.93  16.5         0  \n"
     ]
    },
    {
     "data": {
      "text/html": [
       "<div>\n",
       "<style scoped>\n",
       "    .dataframe tbody tr th:only-of-type {\n",
       "        vertical-align: middle;\n",
       "    }\n",
       "\n",
       "    .dataframe tbody tr th {\n",
       "        vertical-align: top;\n",
       "    }\n",
       "\n",
       "    .dataframe thead th {\n",
       "        text-align: right;\n",
       "    }\n",
       "</style>\n",
       "<table border=\"1\" class=\"dataframe\">\n",
       "  <thead>\n",
       "    <tr style=\"text-align: right;\">\n",
       "      <th></th>\n",
       "      <th>CRIM</th>\n",
       "      <th>ZN</th>\n",
       "      <th>INDUS</th>\n",
       "      <th>CHAS</th>\n",
       "      <th>NOX</th>\n",
       "      <th>RM</th>\n",
       "      <th>AGE</th>\n",
       "      <th>DIS</th>\n",
       "      <th>RAD</th>\n",
       "      <th>TAX</th>\n",
       "      <th>PTRATIO</th>\n",
       "      <th>LSTAT</th>\n",
       "      <th>MEDV</th>\n",
       "      <th>CAT_MEDV</th>\n",
       "    </tr>\n",
       "  </thead>\n",
       "  <tbody>\n",
       "    <tr>\n",
       "      <th>0</th>\n",
       "      <td>0.00632</td>\n",
       "      <td>18.0</td>\n",
       "      <td>2.31</td>\n",
       "      <td>0</td>\n",
       "      <td>0.538</td>\n",
       "      <td>6.575</td>\n",
       "      <td>65.2</td>\n",
       "      <td>4.0900</td>\n",
       "      <td>1</td>\n",
       "      <td>296</td>\n",
       "      <td>15.3</td>\n",
       "      <td>4.98</td>\n",
       "      <td>24.0</td>\n",
       "      <td>0</td>\n",
       "    </tr>\n",
       "    <tr>\n",
       "      <th>1</th>\n",
       "      <td>0.02731</td>\n",
       "      <td>0.0</td>\n",
       "      <td>7.07</td>\n",
       "      <td>0</td>\n",
       "      <td>0.469</td>\n",
       "      <td>6.421</td>\n",
       "      <td>78.9</td>\n",
       "      <td>4.9671</td>\n",
       "      <td>2</td>\n",
       "      <td>242</td>\n",
       "      <td>17.8</td>\n",
       "      <td>9.14</td>\n",
       "      <td>21.6</td>\n",
       "      <td>0</td>\n",
       "    </tr>\n",
       "    <tr>\n",
       "      <th>2</th>\n",
       "      <td>0.02729</td>\n",
       "      <td>0.0</td>\n",
       "      <td>7.07</td>\n",
       "      <td>0</td>\n",
       "      <td>0.469</td>\n",
       "      <td>7.185</td>\n",
       "      <td>61.1</td>\n",
       "      <td>4.9671</td>\n",
       "      <td>2</td>\n",
       "      <td>242</td>\n",
       "      <td>17.8</td>\n",
       "      <td>4.03</td>\n",
       "      <td>34.7</td>\n",
       "      <td>1</td>\n",
       "    </tr>\n",
       "    <tr>\n",
       "      <th>3</th>\n",
       "      <td>0.03237</td>\n",
       "      <td>0.0</td>\n",
       "      <td>2.18</td>\n",
       "      <td>0</td>\n",
       "      <td>0.458</td>\n",
       "      <td>6.998</td>\n",
       "      <td>45.8</td>\n",
       "      <td>6.0622</td>\n",
       "      <td>3</td>\n",
       "      <td>222</td>\n",
       "      <td>18.7</td>\n",
       "      <td>2.94</td>\n",
       "      <td>33.4</td>\n",
       "      <td>1</td>\n",
       "    </tr>\n",
       "    <tr>\n",
       "      <th>4</th>\n",
       "      <td>0.06905</td>\n",
       "      <td>0.0</td>\n",
       "      <td>2.18</td>\n",
       "      <td>0</td>\n",
       "      <td>0.458</td>\n",
       "      <td>7.147</td>\n",
       "      <td>54.2</td>\n",
       "      <td>6.0622</td>\n",
       "      <td>3</td>\n",
       "      <td>222</td>\n",
       "      <td>18.7</td>\n",
       "      <td>5.33</td>\n",
       "      <td>36.2</td>\n",
       "      <td>1</td>\n",
       "    </tr>\n",
       "    <tr>\n",
       "      <th>5</th>\n",
       "      <td>0.02985</td>\n",
       "      <td>0.0</td>\n",
       "      <td>2.18</td>\n",
       "      <td>0</td>\n",
       "      <td>0.458</td>\n",
       "      <td>6.430</td>\n",
       "      <td>58.7</td>\n",
       "      <td>6.0622</td>\n",
       "      <td>3</td>\n",
       "      <td>222</td>\n",
       "      <td>18.7</td>\n",
       "      <td>5.21</td>\n",
       "      <td>28.7</td>\n",
       "      <td>0</td>\n",
       "    </tr>\n",
       "    <tr>\n",
       "      <th>6</th>\n",
       "      <td>0.08829</td>\n",
       "      <td>12.5</td>\n",
       "      <td>7.87</td>\n",
       "      <td>0</td>\n",
       "      <td>0.524</td>\n",
       "      <td>6.012</td>\n",
       "      <td>66.6</td>\n",
       "      <td>5.5605</td>\n",
       "      <td>5</td>\n",
       "      <td>311</td>\n",
       "      <td>15.2</td>\n",
       "      <td>12.43</td>\n",
       "      <td>22.9</td>\n",
       "      <td>0</td>\n",
       "    </tr>\n",
       "    <tr>\n",
       "      <th>7</th>\n",
       "      <td>0.14455</td>\n",
       "      <td>12.5</td>\n",
       "      <td>7.87</td>\n",
       "      <td>0</td>\n",
       "      <td>0.524</td>\n",
       "      <td>6.172</td>\n",
       "      <td>96.1</td>\n",
       "      <td>5.9505</td>\n",
       "      <td>5</td>\n",
       "      <td>311</td>\n",
       "      <td>15.2</td>\n",
       "      <td>19.15</td>\n",
       "      <td>27.1</td>\n",
       "      <td>0</td>\n",
       "    </tr>\n",
       "    <tr>\n",
       "      <th>8</th>\n",
       "      <td>0.21124</td>\n",
       "      <td>12.5</td>\n",
       "      <td>7.87</td>\n",
       "      <td>0</td>\n",
       "      <td>0.524</td>\n",
       "      <td>5.631</td>\n",
       "      <td>100.0</td>\n",
       "      <td>6.0821</td>\n",
       "      <td>5</td>\n",
       "      <td>311</td>\n",
       "      <td>15.2</td>\n",
       "      <td>29.93</td>\n",
       "      <td>16.5</td>\n",
       "      <td>0</td>\n",
       "    </tr>\n",
       "  </tbody>\n",
       "</table>\n",
       "</div>"
      ],
      "text/plain": [
       "      CRIM    ZN  INDUS  CHAS    NOX     RM    AGE     DIS  RAD  TAX  PTRATIO  \\\n",
       "0  0.00632  18.0   2.31     0  0.538  6.575   65.2  4.0900    1  296     15.3   \n",
       "1  0.02731   0.0   7.07     0  0.469  6.421   78.9  4.9671    2  242     17.8   \n",
       "2  0.02729   0.0   7.07     0  0.469  7.185   61.1  4.9671    2  242     17.8   \n",
       "3  0.03237   0.0   2.18     0  0.458  6.998   45.8  6.0622    3  222     18.7   \n",
       "4  0.06905   0.0   2.18     0  0.458  7.147   54.2  6.0622    3  222     18.7   \n",
       "5  0.02985   0.0   2.18     0  0.458  6.430   58.7  6.0622    3  222     18.7   \n",
       "6  0.08829  12.5   7.87     0  0.524  6.012   66.6  5.5605    5  311     15.2   \n",
       "7  0.14455  12.5   7.87     0  0.524  6.172   96.1  5.9505    5  311     15.2   \n",
       "8  0.21124  12.5   7.87     0  0.524  5.631  100.0  6.0821    5  311     15.2   \n",
       "\n",
       "   LSTAT  MEDV  CAT_MEDV  \n",
       "0   4.98  24.0         0  \n",
       "1   9.14  21.6         0  \n",
       "2   4.03  34.7         1  \n",
       "3   2.94  33.4         1  \n",
       "4   5.33  36.2         1  \n",
       "5   5.21  28.7         0  \n",
       "6  12.43  22.9         0  \n",
       "7  19.15  27.1         0  \n",
       "8  29.93  16.5         0  "
      ]
     },
     "execution_count": 3,
     "metadata": {},
     "output_type": "execute_result"
    }
   ],
   "source": [
    "housing_df = dmba.load_data('BostonHousing.csv')\n",
    "# rename CAT. MEDV column for easier data handling\n",
    "housing_df = housing_df.rename(columns={'CAT. MEDV': 'CAT_MEDV'})\n",
    "print(housing_df.head(9))\n",
    "housing_df.head(9)"
   ]
  },
  {
   "cell_type": "markdown",
   "metadata": {},
   "source": [
    "## Figure 3.1\n",
    "Load the Amtrak data and convert them to be suitable for time series analysis"
   ]
  },
  {
   "cell_type": "code",
   "execution_count": 4,
   "metadata": {
    "execution": {
     "iopub.execute_input": "2021-05-27T20:01:27.177661Z",
     "iopub.status.busy": "2021-05-27T20:01:27.177215Z",
     "iopub.status.idle": "2021-05-27T20:01:27.185369Z",
     "shell.execute_reply": "2021-05-27T20:01:27.184911Z"
    }
   },
   "outputs": [],
   "source": [
    "Amtrak_df = dmba.load_data('Amtrak.csv')\n",
    "Amtrak_df['Date'] = pd.to_datetime(Amtrak_df.Month, format='%d/%m/%Y')\n",
    "ridership_ts = pd.Series(Amtrak_df.Ridership.values, index=Amtrak_df.Date)"
   ]
  },
  {
   "cell_type": "code",
   "execution_count": 5,
   "metadata": {
    "execution": {
     "iopub.execute_input": "2021-05-27T20:01:27.189424Z",
     "iopub.status.busy": "2021-05-27T20:01:27.188998Z",
     "iopub.status.idle": "2021-05-27T20:01:27.408010Z",
     "shell.execute_reply": "2021-05-27T20:01:27.407533Z"
    }
   },
   "outputs": [
    {
     "data": {
      "image/png": "[encoded data removed]",
      "text/plain": [
       "<Figure size 360x216 with 1 Axes>"
      ]
     },
     "metadata": {
      "needs_background": "light"
     },
     "output_type": "display_data"
    }
   ],
   "source": [
    "ridership_ts.plot(ylim=[1300, 2300], legend=False, figsize=[5, 3])\n",
    "plt.xlabel('Year')  # set x-axis label\n",
    "plt.ylabel('Ridership (in 000s)')  # set y-axis label\n",
    "\n",
    "plt.tight_layout()\n",
    "plt.show()"
   ]
  },
  {
   "cell_type": "code",
   "execution_count": 6,
   "metadata": {
    "execution": {
     "iopub.execute_input": "2021-05-27T20:01:27.430438Z",
     "iopub.status.busy": "2021-05-27T20:01:27.411473Z",
     "iopub.status.idle": "2021-05-27T20:01:27.524141Z",
     "shell.execute_reply": "2021-05-27T20:01:27.523647Z"
    }
   },
   "outputs": [
    {
     "data": {
      "image/png": "[encoded data removed]",
      "text/plain": [
       "<Figure size 432x288 with 1 Axes>"
      ]
     },
     "metadata": {
      "needs_background": "light"
     },
     "output_type": "display_data"
    }
   ],
   "source": [
    "# alternative plot with matplotlib\n",
    "plt.plot(ridership_ts.index, ridership_ts)\n",
    "plt.xlabel('Year')  # set x-axis label\n",
    "plt.ylabel('Ridership (in 000s)')  # set y-axis label\n",
    "plt.show()"
   ]
  },
  {
   "cell_type": "code",
   "execution_count": 7,
   "metadata": {
    "execution": {
     "iopub.execute_input": "2021-05-27T20:01:27.528000Z",
     "iopub.status.busy": "2021-05-27T20:01:27.527557Z",
     "iopub.status.idle": "2021-05-27T20:01:27.678458Z",
     "shell.execute_reply": "2021-05-27T20:01:27.678028Z"
    }
   },
   "outputs": [
    {
     "data": {
      "image/png": "[encoded data removed]",
      "text/plain": [
       "<Figure size 432x288 with 1 Axes>"
      ]
     },
     "metadata": {
      "needs_background": "light"
     },
     "output_type": "display_data"
    }
   ],
   "source": [
    "housing_df = dmba.load_data('BostonHousing.csv')\n",
    "# rename CAT. MEDV column for easier data handling\n",
    "housing_df = housing_df.rename(columns={'CAT. MEDV': 'CAT_MEDV'})\n",
    "housing_df.plot.scatter(x='LSTAT', y='MEDV', legend=False)\n",
    "plt.show()"
   ]
  },
  {
   "cell_type": "code",
   "execution_count": 8,
   "metadata": {
    "execution": {
     "iopub.execute_input": "2021-05-27T20:01:27.696645Z",
     "iopub.status.busy": "2021-05-27T20:01:27.694712Z",
     "iopub.status.idle": "2021-05-27T20:01:27.876472Z",
     "shell.execute_reply": "2021-05-27T20:01:27.876050Z"
    }
   },
   "outputs": [
    {
     "data": {
      "image/png": "[encoded data removed]",
      "text/plain": [
       "<Figure size 360x216 with 1 Axes>"
      ]
     },
     "metadata": {
      "needs_background": "light"
     },
     "output_type": "display_data"
    }
   ],
   "source": [
    "# Set the color of the points in the scatterplot and draw as open circles.\n",
    "fig, ax = plt.subplots()\n",
    "# fig : 그래프 사이즈\n",
    "# ax : 그래프 내 프로퍼티 \n",
    "fig.set_size_inches(5, 3)\n",
    "\n",
    "# 컬러도 원하는대로 지정할 수 있다 \n",
    "# ax.scatter(housing_df.LSTAT, housing_df.MEDV, color='C2', facecolor='none')\n",
    "ax.scatter(housing_df.LSTAT, housing_df.MEDV, color='r', facecolor='r')\n",
    "plt.xlabel('LSTAT')\n",
    "plt.ylabel('MEDV')\n",
    "\n",
    "plt.tight_layout()\n",
    "plt.show()"
   ]
  },
  {
   "cell_type": "code",
   "execution_count": 9,
   "metadata": {
    "execution": {
     "iopub.execute_input": "2021-05-27T20:01:27.882032Z",
     "iopub.status.busy": "2021-05-27T20:01:27.881493Z",
     "iopub.status.idle": "2021-05-27T20:01:28.009626Z",
     "shell.execute_reply": "2021-05-27T20:01:28.009188Z"
    },
    "scrolled": true
   },
   "outputs": [
    {
     "data": {
      "image/png": "[encoded data removed]",
      "text/plain": [
       "<Figure size 360x216 with 1 Axes>"
      ]
     },
     "metadata": {
      "needs_background": "light"
     },
     "output_type": "display_data"
    }
   ],
   "source": [
    "# \n",
    "ax = housing_df.groupby('CHAS').mean().MEDV.plot(kind='bar', figsize=[5, 3])\n",
    "ax.set_ylabel('Avg. MEDV')\n",
    "\n",
    "plt.tight_layout()\n",
    "plt.show()"
   ]
  },
  {
   "cell_type": "code",
   "execution_count": 36,
   "metadata": {},
   "outputs": [
    {
     "data": {
      "image/png": "[encoded data removed]",
      "text/plain": [
       "<Figure size 432x288 with 1 Axes>"
      ]
     },
     "metadata": {
      "needs_background": "light"
     },
     "output_type": "display_data"
    }
   ],
   "source": [
    "# \n",
    "xx = housing_df.groupby('CHAS').mean().MEDV.reset_index()\n",
    "xx.CHAS = xx.CHAS.astype(str)\n",
    "\n",
    "plt.bar(xx.CHAS, xx.MEDV)\n",
    "# plt.bar(xx.index.values, xx.values)\n",
    "plt.show()"
   ]
  },
  {
   "cell_type": "code",
   "execution_count": 35,
   "metadata": {},
   "outputs": [
    {
     "data": {
      "text/plain": [
       "CHAS      int64\n",
       "MEDV    float64\n",
       "dtype: object"
      ]
     },
     "execution_count": 35,
     "metadata": {},
     "output_type": "execute_result"
    }
   ],
   "source": [
    "xx.dtypes"
   ]
  },
  {
   "cell_type": "code",
   "execution_count": 32,
   "metadata": {},
   "outputs": [],
   "source": []
  },
  {
   "cell_type": "code",
   "execution_count": 20,
   "metadata": {
    "scrolled": true
   },
   "outputs": [
    {
     "data": {
      "image/png": "[encoded data removed]",
      "text/plain": [
       "<Figure size 432x288 with 1 Axes>"
      ]
     },
     "metadata": {
      "needs_background": "light"
     },
     "output_type": "display_data"
    }
   ],
   "source": [
    "# \n",
    "xx = housing_df.groupby('CHAS').mean().MEDV\n",
    "\n",
    "\n",
    "# plt.bar(xx.index, xx.values)\n",
    "plt.bar(xx.index.values, xx.values)\n",
    "plt.show()"
   ]
  },
  {
   "cell_type": "code",
   "execution_count": 22,
   "metadata": {},
   "outputs": [
    {
     "name": "stdout",
     "output_type": "stream",
     "text": [
      "Help on function bar in module matplotlib.pyplot:\n",
      "\n",
      "bar(x, height, width=0.8, bottom=None, *, align='center', data=None, **kwargs)\n",
      "    Make a bar plot.\n",
      "    \n",
      "    The bars are positioned at *x* with the given *align*\\ment. Their\n",
      "    dimensions are given by *height* and *width*. The vertical baseline\n",
      "    is *bottom* (default 0).\n",
      "    \n",
      "    Many parameters can take either a single value applying to all bars\n",
      "    or a sequence of values, one for each bar.\n",
      "    \n",
      "    Parameters\n",
      "    ----------\n",
      "    x : float or array-like\n",
      "        The x coordinates of the bars. See also *align* for the\n",
      "        alignment of the bars to the coordinates.\n",
      "    \n",
      "    height : float or array-like\n",
      "        The height(s) of the bars.\n",
      "    \n",
      "    width : float or array-like, default: 0.8\n",
      "        The width(s) of the bars.\n",
      "    \n",
      "    bottom : float or array-like, default: 0\n",
      "        The y coordinate(s) of the bars bases.\n",
      "    \n",
      "    align : {'center', 'edge'}, default: 'center'\n",
      "        Alignment of the bars to the *x* coordinates:\n",
      "    \n",
      "        - 'center': Center the base on the *x* positions.\n",
      "        - 'edge': Align the left edges of the bars with the *x* positions.\n",
      "    \n",
      "        To align the bars on the right edge pass a negative *width* and\n",
      "        ``align='edge'``.\n",
      "    \n",
      "    Returns\n",
      "    -------\n",
      "    `.BarContainer`\n",
      "        Container with all the bars and optionally errorbars.\n",
      "    \n",
      "    Other Parameters\n",
      "    ----------------\n",
      "    color : color or list of color, optional\n",
      "        The colors of the bar faces.\n",
      "    \n",
      "    edgecolor : color or list of color, optional\n",
      "        The colors of the bar edges.\n",
      "    \n",
      "    linewidth : float or array-like, optional\n",
      "        Width of the bar edge(s). If 0, don't draw edges.\n",
      "    \n",
      "    tick_label : str or list of str, optional\n",
      "        The tick labels of the bars.\n",
      "        Default: None (Use default numeric labels.)\n",
      "    \n",
      "    xerr, yerr : float or array-like of shape(N,) or shape(2, N), optional\n",
      "        If not *None*, add horizontal / vertical errorbars to the bar tips.\n",
      "        The values are +/- sizes relative to the data:\n",
      "    \n",
      "        - scalar: symmetric +/- values for all bars\n",
      "        - shape(N,): symmetric +/- values for each bar\n",
      "        - shape(2, N): Separate - and + values for each bar. First row\n",
      "          contains the lower errors, the second row contains the upper\n",
      "          errors.\n",
      "        - *None*: No errorbar. (Default)\n",
      "    \n",
      "        See :doc:`/gallery/statistics/errorbar_features`\n",
      "        for an example on the usage of ``xerr`` and ``yerr``.\n",
      "    \n",
      "    ecolor : color or list of color, default: 'black'\n",
      "        The line color of the errorbars.\n",
      "    \n",
      "    capsize : float, default: :rc:`errorbar.capsize`\n",
      "       The length of the error bar caps in points.\n",
      "    \n",
      "    error_kw : dict, optional\n",
      "        Dictionary of kwargs to be passed to the `~.Axes.errorbar`\n",
      "        method. Values of *ecolor* or *capsize* defined here take\n",
      "        precedence over the independent kwargs.\n",
      "    \n",
      "    log : bool, default: False\n",
      "        If *True*, set the y-axis to be log scale.\n",
      "    \n",
      "    data : indexable object, optional\n",
      "        If given, all parameters also accept a string ``s``, which is\n",
      "        interpreted as ``data[s]`` (unless this raises an exception).\n",
      "    \n",
      "    **kwargs : `.Rectangle` properties\n",
      "    \n",
      "    Properties:\n",
      "        agg_filter: a filter function, which takes a (m, n, 3) float array and a dpi value, and returns a (m, n, 3) array\n",
      "        alpha: scalar or None\n",
      "        angle: unknown\n",
      "        animated: bool\n",
      "        antialiased or aa: bool or None\n",
      "        bounds: (left, bottom, width, height)\n",
      "        capstyle: `.CapStyle` or {'butt', 'projecting', 'round'}\n",
      "        clip_box: `.Bbox`\n",
      "        clip_on: bool\n",
      "        clip_path: Patch or (Path, Transform) or None\n",
      "        color: color\n",
      "        edgecolor or ec: color or None\n",
      "        facecolor or fc: color or None\n",
      "        figure: `.Figure`\n",
      "        fill: bool\n",
      "        gid: str\n",
      "        hatch: {'/', '\\\\', '|', '-', '+', 'x', 'o', 'O', '.', '*'}\n",
      "        height: unknown\n",
      "        in_layout: bool\n",
      "        joinstyle: `.JoinStyle` or {'miter', 'round', 'bevel'}\n",
      "        label: object\n",
      "        linestyle or ls: {'-', '--', '-.', ':', '', (offset, on-off-seq), ...}\n",
      "        linewidth or lw: float or None\n",
      "        path_effects: `.AbstractPathEffect`\n",
      "        picker: None or bool or float or callable\n",
      "        rasterized: bool\n",
      "        sketch_params: (scale: float, length: float, randomness: float)\n",
      "        snap: bool or None\n",
      "        transform: `.Transform`\n",
      "        url: str\n",
      "        visible: bool\n",
      "        width: unknown\n",
      "        x: unknown\n",
      "        xy: (float, float)\n",
      "        y: unknown\n",
      "        zorder: float\n",
      "    \n",
      "    See Also\n",
      "    --------\n",
      "    barh : Plot a horizontal bar plot.\n",
      "    \n",
      "    Notes\n",
      "    -----\n",
      "    Stacked bars can be achieved by passing individual *bottom* values per\n",
      "    bar. See :doc:`/gallery/lines_bars_and_markers/bar_stacked`.\n",
      "\n"
     ]
    }
   ],
   "source": [
    "help(plt.bar)"
   ]
  },
  {
   "cell_type": "code",
   "execution_count": 21,
   "metadata": {},
   "outputs": [
    {
     "ename": "AttributeError",
     "evalue": "'numpy.ndarray' object has no attribute 'text'",
     "output_type": "error",
     "traceback": [
      "\u001b[0;31m---------------------------------------------------------------------------\u001b[0m",
      "\u001b[0;31mAttributeError\u001b[0m                            Traceback (most recent call last)",
      "\u001b[0;32m<ipython-input-21-04b3154ce516>\u001b[0m in \u001b[0;36m<module>\u001b[0;34m\u001b[0m\n\u001b[0;32m----> 1\u001b[0;31m \u001b[0mxx\u001b[0m\u001b[0;34m.\u001b[0m\u001b[0mindex\u001b[0m\u001b[0;34m.\u001b[0m\u001b[0mvalues\u001b[0m\u001b[0;34m.\u001b[0m\u001b[0mtext\u001b[0m\u001b[0;34m\u001b[0m\u001b[0;34m\u001b[0m\u001b[0m\n\u001b[0m",
      "\u001b[0;31mAttributeError\u001b[0m: 'numpy.ndarray' object has no attribute 'text'"
     ]
    }
   ],
   "source": [
    "xx.index.values"
   ]
  },
  {
   "cell_type": "code",
   "execution_count": 18,
   "metadata": {},
   "outputs": [
    {
     "data": {
      "image/png": "[encoded data removed]",
      "text/plain": [
       "<Figure size 432x288 with 1 Axes>"
      ]
     },
     "metadata": {
      "needs_background": "light"
     },
     "output_type": "display_data"
    }
   ],
   "source": [
    "# \n",
    "xx = housing_df.groupby('CHAS').mean().MEDV\n",
    "\n",
    "\n",
    "plt.bar(xx.index.to_list(), xx.values)\n",
    "plt.show()"
   ]
  },
  {
   "cell_type": "code",
   "execution_count": null,
   "metadata": {},
   "outputs": [],
   "source": []
  },
  {
   "cell_type": "code",
   "execution_count": null,
   "metadata": {},
   "outputs": [],
   "source": [
    "type(housing_df.groupby('CHAS').mean().MEDV)"
   ]
  },
  {
   "cell_type": "code",
   "execution_count": null,
   "metadata": {
    "execution": {
     "iopub.execute_input": "2021-05-27T20:01:28.044211Z",
     "iopub.status.busy": "2021-05-27T20:01:28.026289Z",
     "iopub.status.idle": "2021-05-27T20:01:28.093730Z",
     "shell.execute_reply": "2021-05-27T20:01:28.093296Z"
    }
   },
   "outputs": [],
   "source": [
    "dataForPlot = housing_df.groupby('CHAS').mean().MEDV\n",
    "fig, ax = plt.subplots()\n",
    "ax.bar(dataForPlot.index, dataForPlot, color=['C5', 'C1'])\n",
    "ax.set_xticks([0, 1])\n",
    "ax.set_xlabel('CHAS')\n",
    "ax.set_ylabel('Avg. MEDV')\n",
    "plt.show()"
   ]
  },
  {
   "cell_type": "code",
   "execution_count": null,
   "metadata": {
    "execution": {
     "iopub.execute_input": "2021-05-27T20:01:28.108748Z",
     "iopub.status.busy": "2021-05-27T20:01:28.108275Z",
     "iopub.status.idle": "2021-05-27T20:01:28.112023Z",
     "shell.execute_reply": "2021-05-27T20:01:28.111619Z"
    }
   },
   "outputs": [],
   "source": [
    "housing_df.groupby('CHAS').mean()"
   ]
  },
  {
   "cell_type": "code",
   "execution_count": null,
   "metadata": {
    "execution": {
     "iopub.execute_input": "2021-05-27T20:01:28.118477Z",
     "iopub.status.busy": "2021-05-27T20:01:28.118061Z",
     "iopub.status.idle": "2021-05-27T20:01:28.254627Z",
     "shell.execute_reply": "2021-05-27T20:01:28.254253Z"
    }
   },
   "outputs": [],
   "source": [
    "dataForPlot = housing_df.groupby('CHAS').mean()['CAT_MEDV'] * 100\n",
    "ax = dataForPlot.plot(kind='bar', figsize=[5, 3])\n",
    "ax.set_ylabel('% of CAT.MEDV')\n",
    "\n",
    "plt.tight_layout()\n",
    "plt.show()"
   ]
  },
  {
   "cell_type": "code",
   "execution_count": null,
   "metadata": {},
   "outputs": [],
   "source": [
    "# ... 이변수가 뭐더라...\n",
    "housing_df.groupby('CHAS').mean()"
   ]
  },
  {
   "cell_type": "code",
   "execution_count": null,
   "metadata": {
    "execution": {
     "iopub.execute_input": "2021-05-27T20:01:28.279657Z",
     "iopub.status.busy": "2021-05-27T20:01:28.279228Z",
     "iopub.status.idle": "2021-05-27T20:01:28.356580Z",
     "shell.execute_reply": "2021-05-27T20:01:28.356105Z"
    }
   },
   "outputs": [],
   "source": [
    "fig, ax = plt.subplots()\n",
    "ax.bar(dataForPlot.index, dataForPlot, color=['C5', 'C1'])\n",
    "ax.set_xticks([0, 1])\n",
    "ax.set_xlabel('CHAS')\n",
    "ax.set_ylabel('% of CAT.MEDV')"
   ]
  },
  {
   "cell_type": "markdown",
   "metadata": {},
   "source": [
    "## Figure 3.2\n",
    "Histogram of MEDV"
   ]
  },
  {
   "cell_type": "code",
   "execution_count": null,
   "metadata": {
    "execution": {
     "iopub.execute_input": "2021-05-27T20:01:28.379060Z",
     "iopub.status.busy": "2021-05-27T20:01:28.378567Z",
     "iopub.status.idle": "2021-05-27T20:01:28.545261Z",
     "shell.execute_reply": "2021-05-27T20:01:28.544897Z"
    }
   },
   "outputs": [],
   "source": [
    "# 히스토그램 빈도수입니다\n",
    "ax = housing_df.MEDV.hist()\n",
    "ax.set_xlabel('MEDV')\n",
    "ax.set_ylabel('count')\n",
    "\n",
    "plt.show()"
   ]
  },
  {
   "cell_type": "code",
   "execution_count": null,
   "metadata": {
    "execution": {
     "iopub.execute_input": "2021-05-27T20:01:28.574999Z",
     "iopub.status.busy": "2021-05-27T20:01:28.567799Z",
     "iopub.status.idle": "2021-05-27T20:01:28.676165Z",
     "shell.execute_reply": "2021-05-27T20:01:28.675794Z"
    },
    "scrolled": true
   },
   "outputs": [],
   "source": [
    "fig, ax = plt.subplots()\n",
    "ax.hist(housing_df.MEDV)\n",
    "# Show the grid lines behind the histogram\n",
    "# ax.set_axisbelow(False)\n",
    "ax.set_axisbelow(True)  \n",
    "ax.grid(which='major', color='grey', linestyle='--')\n",
    "ax.set_xlabel('MEDV')\n",
    "ax.set_ylabel('count')\n",
    "plt.show()"
   ]
  },
  {
   "cell_type": "code",
   "execution_count": null,
   "metadata": {},
   "outputs": [],
   "source": [
    "help(pd.DataFrame.boxplot)"
   ]
  },
  {
   "cell_type": "code",
   "execution_count": null,
   "metadata": {
    "execution": {
     "iopub.execute_input": "2021-05-27T20:01:28.700230Z",
     "iopub.status.busy": "2021-05-27T20:01:28.698354Z",
     "iopub.status.idle": "2021-05-27T20:01:28.824714Z",
     "shell.execute_reply": "2021-05-27T20:01:28.824279Z"
    }
   },
   "outputs": [],
   "source": [
    "ax = housing_df.boxplot(column='MEDV', by='CHAS')\n",
    "ax.set_ylabel('MEDV')\n",
    "plt.suptitle('')  # Suppress the titles\n",
    "plt.title('')\n",
    "\n",
    "plt.show()"
   ]
  },
  {
   "cell_type": "code",
   "execution_count": null,
   "metadata": {
    "execution": {
     "iopub.execute_input": "2021-05-27T20:01:28.848457Z",
     "iopub.status.busy": "2021-05-27T20:01:28.844700Z",
     "iopub.status.idle": "2021-05-27T20:01:28.923734Z",
     "shell.execute_reply": "2021-05-27T20:01:28.923346Z"
    }
   },
   "outputs": [],
   "source": [
    "dataForPlot = [list(housing_df[housing_df.CHAS==0].MEDV), list(housing_df[housing_df.CHAS==1].MEDV)]\n",
    "fig, ax = plt.subplots()\n",
    "ax.boxplot(dataForPlot)\n",
    "ax.set_xticks([1, 2])\n",
    "ax.set_xticklabels([0, 1])\n",
    "ax.set_xlabel('CHAS')\n",
    "ax.set_ylabel('MEDV')\n",
    "plt.show()"
   ]
  },
  {
   "cell_type": "markdown",
   "metadata": {},
   "source": [
    "## Figure 3.3\n",
    "Side by side boxplots"
   ]
  },
  {
   "cell_type": "code",
   "execution_count": null,
   "metadata": {
    "execution": {
     "iopub.execute_input": "2021-05-27T20:01:28.955620Z",
     "iopub.status.busy": "2021-05-27T20:01:28.940926Z",
     "iopub.status.idle": "2021-05-27T20:01:29.521713Z",
     "shell.execute_reply": "2021-05-27T20:01:29.521280Z"
    }
   },
   "outputs": [],
   "source": [
    "fig, axes = plt.subplots(nrows=1, ncols=4)\n",
    "housing_df.boxplot(column='NOX', by='CAT_MEDV', ax=axes[0])\n",
    "housing_df.boxplot(column='LSTAT', by='CAT_MEDV', ax=axes[1])\n",
    "housing_df.boxplot(column='PTRATIO', by='CAT_MEDV', ax=axes[2])\n",
    "housing_df.boxplot(column='INDUS', by='CAT_MEDV', ax=axes[3])\n",
    "for ax in axes:\n",
    "    ax.set_xlabel('CAT.MEDV')\n",
    "plt.suptitle('')  # Suppress the overall title\n",
    "plt.tight_layout()  # Increase the separation between the plots\n",
    "\n",
    "plt.show()"
   ]
  },
  {
   "cell_type": "markdown",
   "metadata": {},
   "source": [
    "## Figure 3.4"
   ]
  },
  {
   "cell_type": "code",
   "execution_count": null,
   "metadata": {
    "execution": {
     "iopub.execute_input": "2021-05-27T20:01:29.525653Z",
     "iopub.status.busy": "2021-05-27T20:01:29.525200Z",
     "iopub.status.idle": "2021-05-27T20:01:29.765976Z",
     "shell.execute_reply": "2021-05-27T20:01:29.765531Z"
    }
   },
   "outputs": [],
   "source": [
    "# heatmap >> 3D를 표현하기 위해서 그리는것이다 corr을 위한것만은 아니다\n",
    "corr = housing_df.corr()\n",
    "sns.heatmap(corr, xticklabels=corr.columns, yticklabels=corr.columns)\n",
    "plt.show()"
   ]
  },
  {
   "cell_type": "code",
   "execution_count": null,
   "metadata": {
    "execution": {
     "iopub.execute_input": "2021-05-27T20:01:29.785876Z",
     "iopub.status.busy": "2021-05-27T20:01:29.781014Z",
     "iopub.status.idle": "2021-05-27T20:01:30.008472Z",
     "shell.execute_reply": "2021-05-27T20:01:30.008807Z"
    }
   },
   "outputs": [],
   "source": [
    "# Change the colormap to a divergent scale and fix the range of the colormap\n",
    "# cmap이 컬러다\n",
    "sns.heatmap(corr, xticklabels=corr.columns, yticklabels=corr.columns, vmin=-1, vmax=1, cmap=\"RdBu\")\n",
    "plt.show()"
   ]
  },
  {
   "cell_type": "code",
   "execution_count": null,
   "metadata": {
    "execution": {
     "iopub.execute_input": "2021-05-27T20:01:30.023358Z",
     "iopub.status.busy": "2021-05-27T20:01:30.022904Z",
     "iopub.status.idle": "2021-05-27T20:01:31.140754Z",
     "shell.execute_reply": "2021-05-27T20:01:31.141164Z"
    }
   },
   "outputs": [],
   "source": [
    "# Include information about values\n",
    "fig, ax = plt.subplots()\n",
    "fig.set_size_inches(11, 7)\n",
    "# annotation을 True로 하면 상관계수가 보인다\n",
    "sns.heatmap(corr, annot=True, fmt=\".1f\", cmap=\"RdBu\", center=0, ax=ax)\n",
    "\n",
    "plt.show()"
   ]
  },
  {
   "cell_type": "markdown",
   "metadata": {},
   "source": [
    "## Figure 3.5\n",
    "A heatmap can also be used to visualize missing values. Here, we use a sample of the NYPD Motor Vehicle Collisions Dataset. (https://data.cityofnewyork.us/Public-Safety/NYPD-Motor-Vehicle-Collisions/h9gi-nx95)"
   ]
  },
  {
   "cell_type": "code",
   "execution_count": null,
   "metadata": {
    "execution": {
     "iopub.execute_input": "2021-05-27T20:01:31.144496Z",
     "iopub.status.busy": "2021-05-27T20:01:31.144070Z",
     "iopub.status.idle": "2021-05-27T20:01:31.146845Z",
     "shell.execute_reply": "2021-05-27T20:01:31.146322Z"
    }
   },
   "outputs": [],
   "source": [
    "# df = pd.read_csv('NYPD_Motor_Vehicle_Collisions.csv')\n",
    "# df = df.sample(1000)\n",
    "# # df.head()\n",
    "# df.to_csv('NYPD_Motor_Vehicle_Collisions_1000.csv', index=False)"
   ]
  },
  {
   "cell_type": "code",
   "execution_count": null,
   "metadata": {},
   "outputs": [],
   "source": [
    "df = dmba.load_data('NYPD_Motor_Vehicle_Collisions_1000.csv').sort_values(['DATE'])\n",
    "df.head(10)"
   ]
  },
  {
   "cell_type": "code",
   "execution_count": null,
   "metadata": {
    "execution": {
     "iopub.execute_input": "2021-05-27T20:01:31.152570Z",
     "iopub.status.busy": "2021-05-27T20:01:31.152136Z",
     "iopub.status.idle": "2021-05-27T20:01:34.635498Z",
     "shell.execute_reply": "2021-05-27T20:01:34.635117Z"
    },
    "scrolled": false
   },
   "outputs": [],
   "source": [
    "# heatmap이 x축과 y축이 같을 필요는 없음 달라도 됨 \n",
    "\n",
    "df = dmba.load_data('NYPD_Motor_Vehicle_Collisions_1000.csv').sort_values(['DATE'])\n",
    "# Given a dataframe df create a copy of the array that is 0 if a field contains a value \n",
    "# and 1 for NaN\n",
    "naInfo = np.zeros(df.shape)\n",
    "naInfo[df.isna().values] = 1\n",
    "naInfo = pd.DataFrame(naInfo, columns=df.columns)\n",
    "\n",
    "fig, ax = plt.subplots()\n",
    "fig.set_size_inches(13, 9)\n",
    "ax = sns.heatmap(naInfo, vmin=0, vmax=1, cmap=[\"white\", \"red\"], cbar=False, ax=ax)\n",
    "ax.set_yticks([])\n",
    "\n",
    "rect = plt.Rectangle((0, 0), naInfo.shape[1], naInfo.shape[0], linewidth=1, \n",
    "                     edgecolor='lightgrey',facecolor='none')\n",
    "rect = ax.add_patch(rect)\n",
    "rect.set_clip_on(False)\n",
    "\n",
    "plt.xticks(rotation=80)\n",
    "plt.tight_layout()\n",
    "plt.show()"
   ]
  },
  {
   "cell_type": "code",
   "execution_count": null,
   "metadata": {},
   "outputs": [],
   "source": [
    "naInfo.head(10)"
   ]
  },
  {
   "cell_type": "code",
   "execution_count": null,
   "metadata": {
    "execution": {
     "iopub.execute_input": "2021-05-27T20:01:34.638764Z",
     "iopub.status.busy": "2021-05-27T20:01:34.638319Z",
     "iopub.status.idle": "2021-05-27T20:01:34.640648Z",
     "shell.execute_reply": "2021-05-27T20:01:34.641133Z"
    }
   },
   "outputs": [],
   "source": [
    "# # Create a dataframe with missing values\n",
    "# np.random.seed(12345)\n",
    "# df = pd.DataFrame(np.random.randint(50, size=(100, 10)))\n",
    "# df.where(df!=max(df), np.nan, inplace=True)\n",
    "\n",
    "# # Given a dataframe df create a copy of the array that is 0 if a field contains a value and 1 for NaN\n",
    "# naInfo = np.zeros(df.shape)\n",
    "# naInfo[df.isna().values] = 1\n",
    "# ax = sns.heatmap(naInfo, vmin=0, vmax=1, cmap=[\"white\", \"red\"], cbar=False)\n",
    "\n",
    "# plt.show()"
   ]
  },
  {
   "cell_type": "markdown",
   "metadata": {},
   "source": [
    "## Figure 3.6"
   ]
  },
  {
   "cell_type": "code",
   "execution_count": null,
   "metadata": {
    "execution": {
     "iopub.execute_input": "2021-05-27T20:01:34.662320Z",
     "iopub.status.busy": "2021-05-27T20:01:34.661863Z",
     "iopub.status.idle": "2021-05-27T20:01:34.768139Z",
     "shell.execute_reply": "2021-05-27T20:01:34.767704Z"
    }
   },
   "outputs": [],
   "source": [
    "# Color the points by the value of CAT.MEDV\n",
    "# c=['C0' if c == 1 else 'C2' for c in housing_df.CAT_MEDV]) 이 표현을 잘 못쓴다....ㅎㅎ\n",
    "\n",
    "housing_df.plot.scatter(x='LSTAT', y='NOX', \n",
    "                        c=['C0' if c == 1 else 'C2' for c in housing_df.CAT_MEDV])\n",
    "plt.show()"
   ]
  },
  {
   "cell_type": "code",
   "execution_count": null,
   "metadata": {
    "execution": {
     "iopub.execute_input": "2021-05-27T20:01:34.883648Z",
     "iopub.status.busy": "2021-05-27T20:01:34.883078Z",
     "iopub.status.idle": "2021-05-27T20:01:34.958590Z",
     "shell.execute_reply": "2021-05-27T20:01:34.958193Z"
    }
   },
   "outputs": [],
   "source": [
    "# Change the rendering of the points to open circles by controlling the color\n",
    "housing_df.plot.scatter(x='LSTAT', y='NOX', color='none',\n",
    "                        edgecolor=['C0' if c == 1 else 'C1' for c in housing_df.CAT_MEDV])\n",
    "plt.show()"
   ]
  },
  {
   "cell_type": "markdown",
   "metadata": {},
   "source": [
    "If the data points for `CAT_MEDV` of 1 should be emphasized, it's useful to draw them separately."
   ]
  },
  {
   "cell_type": "code",
   "execution_count": null,
   "metadata": {
    "execution": {
     "iopub.execute_input": "2021-05-27T20:01:34.990600Z",
     "iopub.status.busy": "2021-05-27T20:01:34.976581Z",
     "iopub.status.idle": "2021-05-27T20:01:35.260727Z",
     "shell.execute_reply": "2021-05-27T20:01:35.260270Z"
    }
   },
   "outputs": [],
   "source": [
    "# Plot first the data points for CAT.MEDV of 0 and then of 1\n",
    "_, ax = plt.subplots()\n",
    "for catValue, color in (0, 'C1'), (1, 'C0'):\n",
    "    subset_df = housing_df[housing_df.CAT_MEDV == catValue]\n",
    "    ax.scatter(subset_df.LSTAT, subset_df.NOX, color='none', edgecolor=color)\n",
    "ax.set_xlabel('LSTAT')\n",
    "ax.set_ylabel('NOX')\n",
    "ax.legend([\"CAT.MEDV 0\", \"CAT.MEDV 1\"])\n",
    "\n",
    "plt.show()"
   ]
  },
  {
   "cell_type": "markdown",
   "metadata": {},
   "source": [
    "## Panel plots\n",
    "\n",
    "Compute mean MEDV per RAD and CHAS and create two bar charts for each value of RAD"
   ]
  },
  {
   "cell_type": "code",
   "execution_count": null,
   "metadata": {
    "execution": {
     "iopub.execute_input": "2021-05-27T20:01:35.296621Z",
     "iopub.status.busy": "2021-05-27T20:01:35.274203Z",
     "iopub.status.idle": "2021-05-27T20:01:35.560996Z",
     "shell.execute_reply": "2021-05-27T20:01:35.560568Z"
    }
   },
   "outputs": [],
   "source": [
    "dataForPlot_df = housing_df.groupby(['CHAS','RAD']).mean()['MEDV']\n",
    "# We determine all possible RAD values to use as ticks\n",
    "ticks = set(housing_df.RAD)\n",
    "for i in range(2):\n",
    "    for t in ticks.difference(dataForPlot_df[i].index):\n",
    "        dataForPlot_df.loc[(i, t)] = 0\n",
    "# reorder to rows, so that the index is sorted\n",
    "dataForPlot_df = dataForPlot_df[sorted(dataForPlot_df.index)]\n",
    "\n",
    "# Determine a common range for the y axis\n",
    "yRange = [0, max(dataForPlot_df) * 1.1] \n",
    "\n",
    "fig, axes = plt.subplots(nrows=2, ncols=1)\n",
    "dataForPlot_df[0].plot.bar(x='RAD', ax=axes[0], ylim=yRange)\n",
    "dataForPlot_df[1].plot.bar(x='RAD', ax=axes[1], ylim=yRange)\n",
    "axes[0].annotate('CHAS = 0', xy=(3.5, 45))\n",
    "axes[1].annotate('CHAS = 1', xy=(3.5, 45))\n",
    "\n",
    "plt.show()"
   ]
  },
  {
   "cell_type": "code",
   "execution_count": null,
   "metadata": {},
   "outputs": [],
   "source": [
    "type(ticks.difference)"
   ]
  },
  {
   "cell_type": "code",
   "execution_count": null,
   "metadata": {},
   "outputs": [],
   "source": [
    "help(set.difference)"
   ]
  },
  {
   "cell_type": "markdown",
   "metadata": {},
   "source": [
    "## Figure 3.7\n",
    "Scatterplot matrix"
   ]
  },
  {
   "cell_type": "code",
   "execution_count": null,
   "metadata": {
    "execution": {
     "iopub.execute_input": "2021-05-27T20:01:35.578368Z",
     "iopub.status.busy": "2021-05-27T20:01:35.565380Z",
     "iopub.status.idle": "2021-05-27T20:01:36.379232Z",
     "shell.execute_reply": "2021-05-27T20:01:36.378754Z"
    }
   },
   "outputs": [],
   "source": [
    "_ = scatter_matrix(housing_df[['CRIM', 'INDUS', 'LSTAT', 'MEDV']], figsize=(6, 6), diagonal='kde')"
   ]
  },
  {
   "cell_type": "code",
   "execution_count": null,
   "metadata": {},
   "outputs": [],
   "source": [
    "a = scatter_matrix(housing_df[['CRIM', 'INDUS', 'LSTAT', 'MEDV']], figsize=(6, 6), diagonal='kde')"
   ]
  },
  {
   "cell_type": "code",
   "execution_count": null,
   "metadata": {
    "execution": {
     "iopub.execute_input": "2021-05-27T20:01:36.386035Z",
     "iopub.status.busy": "2021-05-27T20:01:36.385532Z",
     "iopub.status.idle": "2021-05-27T20:01:37.764209Z",
     "shell.execute_reply": "2021-05-27T20:01:37.763748Z"
    }
   },
   "outputs": [],
   "source": [
    "# Add the correlation coefficient to the scatterplots above the diagonal\n",
    "df = housing_df[['CRIM', 'INDUS', 'LSTAT', 'MEDV']]\n",
    "axes = scatter_matrix(df, alpha=0.5, figsize=(6, 6), diagonal='kde')\n",
    "corr = df.corr().values\n",
    "for i, j in zip(*plt.np.triu_indices_from(axes, k=1)):\n",
    "    axes[i, j].annotate(\"%.3f\" %corr[i,j], (0.8, 0.8), xycoords='axes fraction', ha='center', va='center')\n",
    "\n",
    "plt.show()"
   ]
  },
  {
   "cell_type": "markdown",
   "metadata": {},
   "source": [
    "## Figure 3.8 >> log 취하기... 머신러닝은 정규화가 중요하긴 하죠...."
   ]
  },
  {
   "cell_type": "code",
   "execution_count": null,
   "metadata": {
    "execution": {
     "iopub.execute_input": "2021-05-27T20:01:37.794227Z",
     "iopub.status.busy": "2021-05-27T20:01:37.793717Z",
     "iopub.status.idle": "2021-05-27T20:01:38.666879Z",
     "shell.execute_reply": "2021-05-27T20:01:38.667250Z"
    }
   },
   "outputs": [],
   "source": [
    "# Avoid the use of scientific notation for the log axis\n",
    "plt.rcParams['axes.formatter.min_exponent'] = 4\n",
    "\n",
    "fig, axes = plt.subplots(nrows=1, ncols=2, figsize=(7, 3))\n",
    "\n",
    "# Regular scale\n",
    "housing_df.plot.scatter(x='CRIM', y='MEDV', ax=axes[0])\n",
    "# log scale\n",
    "ax = housing_df.plot.scatter(x='CRIM', y='MEDV', logx=True, logy=True, ax=axes[1])\n",
    "ax.set_yticks([5, 10, 20, 50])\n",
    "ax.set_yticklabels([5, 10, 20, 50])\n",
    "plt.tight_layout()\n",
    "\n",
    "plt.show()"
   ]
  },
  {
   "cell_type": "code",
   "execution_count": null,
   "metadata": {
    "execution": {
     "iopub.execute_input": "2021-05-27T20:01:38.677742Z",
     "iopub.status.busy": "2021-05-27T20:01:38.677285Z",
     "iopub.status.idle": "2021-05-27T20:01:39.417541Z",
     "shell.execute_reply": "2021-05-27T20:01:39.417075Z"
    }
   },
   "outputs": [],
   "source": [
    "fig, axes = plt.subplots(nrows=1, ncols=2, figsize=(7, 3))\n",
    "\n",
    "# regular scale\n",
    "ax = housing_df.boxplot(column='CRIM', by='CAT_MEDV', ax=axes[0])\n",
    "ax.set_xlabel('CAT.MEDV')\n",
    "ax.set_ylabel('CRIM')\n",
    "\n",
    "# log scale\n",
    "ax = housing_df.boxplot(column='CRIM', by='CAT_MEDV', ax=axes[1])\n",
    "ax.set_xlabel('CAT.MEDV')\n",
    "ax.set_ylabel('CRIM')\n",
    "ax.set_yscale('log')\n",
    "\n",
    "# suppress the title\n",
    "axes[0].get_figure().suptitle('')\n",
    "plt.tight_layout()\n",
    "\n",
    "plt.show()"
   ]
  },
  {
   "cell_type": "markdown",
   "metadata": {},
   "source": [
    "## Figure 3.9"
   ]
  },
  {
   "cell_type": "code",
   "execution_count": null,
   "metadata": {
    "execution": {
     "iopub.execute_input": "2021-05-27T20:01:39.441316Z",
     "iopub.status.busy": "2021-05-27T20:01:39.425818Z",
     "iopub.status.idle": "2021-05-27T20:01:40.248174Z",
     "shell.execute_reply": "2021-05-27T20:01:40.247526Z"
    }
   },
   "outputs": [],
   "source": [
    "fig, axes = plt.subplots(nrows=2, ncols=2, figsize=(10, 7))\n",
    "\n",
    "\n",
    "Amtrak_df = dmba.load_data('Amtrak.csv')\n",
    "Amtrak_df['Month'] = pd.to_datetime(Amtrak_df.Month, format='%d/%m/%Y')\n",
    "Amtrak_df.set_index('Month', inplace=True)\n",
    "\n",
    "# fit quadratic curve and display \n",
    "quadraticFit = np.poly1d(np.polyfit(range(len(Amtrak_df)), Amtrak_df.Ridership, 2))\n",
    "Amtrak_fit = pd.DataFrame({'fit': [quadraticFit(t) for t in range(len(Amtrak_df))]})\n",
    "Amtrak_fit.index = Amtrak_df.index\n",
    "\n",
    "ax = Amtrak_df.plot(ylim=[1300, 2300], legend=False, ax=axes[0][0])\n",
    "Amtrak_fit.plot(ax=ax)\n",
    "ax.set_xlabel('Year')  # set x-axis label\n",
    "ax.set_ylabel('Ridership (in 000s)')  # set y-axis label\n",
    "\n",
    "# Zoom in 2-year period 1/1/1991 to 12/1/1992\n",
    "ridership_2yrs = Amtrak_df.loc['1991-01-01':'1992-12-01']\n",
    "ax = ridership_2yrs.plot(ylim=[1300, 2300], legend=False, ax=axes[1][0])\n",
    "ax.set_xlabel('Year')  # set x-axis label\n",
    "ax.set_ylabel('Ridership (in 000s)')  # set y-axis label\n",
    "\n",
    "# Average by month\n",
    "byMonth = Amtrak_df.groupby(by=[Amtrak_df.index.month]).mean()\n",
    "ax = byMonth.plot(ylim=[1300, 2300], legend=False, ax=axes[0][1])\n",
    "ax.set_xlabel('Month')  # set x-axis label\n",
    "ax.set_ylabel('Ridership (in 000s)')  # set y-axis label\n",
    "yticks = [-2.0,-1.75,-1.5,-1.25,-1.0,-0.75,-0.5,-0.25,0.0]\n",
    "ax.set_xticks(range(1, 13))\n",
    "ax.set_xticklabels([calendar.month_abbr[i] for i in range(1, 13)]);\n",
    "\n",
    "# Average by year (exclude data from 2004)\n",
    "byYear = Amtrak_df.loc['1991-01-01':'2003-12-01'].groupby(pd.Grouper(freq='A')).mean()\n",
    "ax = byYear.plot(ylim=[1300, 2300], legend=False, ax=axes[1][1])\n",
    "ax.set_xlabel('Year')  # set x-axis label\n",
    "ax.set_ylabel('Ridership (in 000s)')  # set y-axis label\n",
    "\n",
    "plt.tight_layout()\n",
    "\n",
    "plt.show()"
   ]
  },
  {
   "cell_type": "markdown",
   "metadata": {},
   "source": [
    "## Figure 3.10"
   ]
  },
  {
   "cell_type": "code",
   "execution_count": null,
   "metadata": {
    "execution": {
     "iopub.execute_input": "2021-05-27T20:01:40.252857Z",
     "iopub.status.busy": "2021-05-27T20:01:40.252332Z",
     "iopub.status.idle": "2021-05-27T20:01:40.541569Z",
     "shell.execute_reply": "2021-05-27T20:01:40.541159Z"
    }
   },
   "outputs": [],
   "source": [
    "utilities_df = dmba.load_data('Utilities.csv')\n",
    "\n",
    "ax = utilities_df.plot.scatter(x='Sales', y='Fuel_Cost', figsize=(6, 6))\n",
    "points = utilities_df[['Sales','Fuel_Cost','Company']]\n",
    "_ = points.apply(lambda x: \n",
    "             ax.text(*x, rotation=20, horizontalalignment='left',\n",
    "                     verticalalignment='bottom', fontsize=8), axis=1)\n",
    "\n",
    "plt.show()"
   ]
  },
  {
   "cell_type": "markdown",
   "metadata": {},
   "source": [
    "## Figure 3.11\n",
    "Use `alpha` to add transparent colors "
   ]
  },
  {
   "cell_type": "code",
   "execution_count": null,
   "metadata": {
    "execution": {
     "iopub.execute_input": "2021-05-27T20:01:40.546450Z",
     "iopub.status.busy": "2021-05-27T20:01:40.545995Z",
     "iopub.status.idle": "2021-05-27T20:01:41.009591Z",
     "shell.execute_reply": "2021-05-27T20:01:41.010092Z"
    }
   },
   "outputs": [],
   "source": [
    "universal_df = dmba.load_data('UniversalBank.csv')\n",
    "\n",
    "universal_df.plot.scatter(x='Income', y='CCAvg', \n",
    "                          c=['black' if c == 1 else 'grey' for c in universal_df['Securities Account']],\n",
    "                          ylim = (0.05, 10), alpha=0.2,\n",
    "                          logx=True, logy=True)\n",
    "plt.show()"
   ]
  },
  {
   "cell_type": "markdown",
   "metadata": {},
   "source": [
    "The pandas plot pandas has a number of problems that can be solved using matplotlib \n",
    "\n",
    "- overlapping points: add random jitter to the datapoints\n",
    "- distribution of securities account less obvious due to overplotting: separate plotting of the two sets of accounts"
   ]
  },
  {
   "cell_type": "code",
   "execution_count": null,
   "metadata": {
    "execution": {
     "iopub.execute_input": "2021-05-27T20:01:41.019073Z",
     "iopub.status.busy": "2021-05-27T20:01:41.017150Z",
     "iopub.status.idle": "2021-05-27T20:01:41.751516Z",
     "shell.execute_reply": "2021-05-27T20:01:41.751968Z"
    }
   },
   "outputs": [],
   "source": [
    "def jitter(x, factor=1):\n",
    "    \"\"\" Add random jitter to x values \"\"\"\n",
    "    sx = np.array(sorted(x))\n",
    "    delta = sx[1:] - sx[:-1]\n",
    "    minDelta = min(d for d in delta if d > 0)\n",
    "    a = factor * minDelta / 5\n",
    "    return x + np.random.uniform(-a, a, len(x))\n",
    "    \n",
    "    \n",
    "saIdx = universal_df[universal_df['Securities Account'] == 1].index\n",
    "\n",
    "plt.figure(figsize=(10,6))\n",
    "plt.scatter(jitter(universal_df.drop(saIdx).Income),\n",
    "            jitter(universal_df.drop(saIdx).CCAvg),\n",
    "            marker='o', color='grey', alpha=0.2)\n",
    "plt.scatter(jitter(universal_df.loc[saIdx].Income),\n",
    "            jitter(universal_df.loc[saIdx].CCAvg), \n",
    "            marker='o', color='red', alpha=0.2)\n",
    "plt.xlabel('Income')\n",
    "plt.ylabel('CCAvg')\n",
    "plt.ylim((0.05, 20))\n",
    "axes = plt.gca()\n",
    "axes.set_xscale(\"log\")\n",
    "axes.set_yscale(\"log\")\n",
    "\n",
    "plt.show()"
   ]
  },
  {
   "cell_type": "markdown",
   "metadata": {},
   "source": [
    "## Figure 3.12"
   ]
  },
  {
   "cell_type": "code",
   "execution_count": null,
   "metadata": {
    "execution": {
     "iopub.execute_input": "2021-05-27T20:01:41.760647Z",
     "iopub.status.busy": "2021-05-27T20:01:41.760176Z",
     "iopub.status.idle": "2021-05-27T20:01:43.325398Z",
     "shell.execute_reply": "2021-05-27T20:01:43.325813Z"
    }
   },
   "outputs": [],
   "source": [
    "# Transform the axes, so that they all have the same range\n",
    "min_max_scaler = preprocessing.MinMaxScaler()\n",
    "dataToPlot = pd.DataFrame(min_max_scaler.fit_transform(housing_df),\n",
    "                         columns=housing_df.columns)\n",
    "\n",
    "fig, axes = plt.subplots(nrows=2, ncols=1, figsize=[8, 6])\n",
    "for i in (0, 1):\n",
    "    parallel_coordinates(dataToPlot.loc[dataToPlot.CAT_MEDV == i], \n",
    "                         'CAT_MEDV', ax=axes[i], linewidth=0.5)\n",
    "    axes[i].set_title('CAT.MEDV = {}'.format(i))\n",
    "    axes[i].set_yticklabels([])\n",
    "    axes[i].legend().set_visible(False)\n",
    "\n",
    "plt.tight_layout()  # Increase the separation between the plots\n",
    "\n",
    "plt.show()"
   ]
  },
  {
   "cell_type": "markdown",
   "metadata": {},
   "source": [
    "## Figure 3.14"
   ]
  },
  {
   "cell_type": "code",
   "execution_count": null,
   "metadata": {
    "execution": {
     "iopub.execute_input": "2021-05-27T20:01:43.332022Z",
     "iopub.status.busy": "2021-05-27T20:01:43.331501Z",
     "iopub.status.idle": "2021-05-27T20:01:43.647920Z",
     "shell.execute_reply": "2021-05-27T20:01:43.648291Z"
    }
   },
   "outputs": [],
   "source": [
    "ebay_df = dmba.load_data('eBayNetwork.csv')\n",
    "\n",
    "G = nx.from_pandas_edgelist(ebay_df, source='Seller', target='Bidder')\n",
    "\n",
    "isBidder = [n in set(ebay_df.Bidder) for n in G.nodes()]\n",
    "pos = nx.spring_layout(G, k=0.13, iterations=60, scale=0.5)\n",
    "plt.figure(figsize=(10,10))\n",
    "nx.draw_networkx(G, pos=pos, with_labels=False,\n",
    "                 edge_color='lightgray',\n",
    "                 node_color=['gray' if bidder else 'black' for bidder in isBidder],\n",
    "                 node_size=[50 if bidder else 200 for bidder in isBidder])\n",
    "plt.axis('off')\n",
    "\n",
    "plt.show()"
   ]
  },
  {
   "cell_type": "markdown",
   "metadata": {},
   "source": [
    "## Figure 3.15\n",
    "There are currently no packages in Python that provide treemaps of the same quality and flexibility as R. "
   ]
  },
  {
   "cell_type": "markdown",
   "metadata": {},
   "source": [
    "Use example from here: https://python-graph-gallery.com/treemap/"
   ]
  },
  {
   "cell_type": "code",
   "execution_count": null,
   "metadata": {
    "execution": {
     "iopub.execute_input": "2021-05-27T20:01:43.655384Z",
     "iopub.status.busy": "2021-05-27T20:01:43.654899Z",
     "iopub.status.idle": "2021-05-27T20:01:43.820904Z",
     "shell.execute_reply": "2021-05-27T20:01:43.821304Z"
    }
   },
   "outputs": [],
   "source": [
    "import squarify\n",
    "import matplotlib\n",
    "\n",
    "ebayTreemap = dmba.load_data('EbayTreemap.csv')\n",
    "\n",
    "grouped = []\n",
    "for category, df in ebayTreemap.groupby(['Category']):\n",
    "    negativeFeedback = sum(df['Seller Feedback'] < 0) / len(df)\n",
    "    grouped.append({\n",
    "        'category': category, \n",
    "        'negativeFeedback': negativeFeedback, \n",
    "        'averageBid': df['High Bid'].mean()\n",
    "    })\n",
    "byCategory = pd.DataFrame(grouped)\n",
    "\n",
    "norm = matplotlib.colors.Normalize(vmin=byCategory.negativeFeedback.min(), vmax=byCategory.negativeFeedback.max())\n",
    "colors = [matplotlib.cm.Blues(norm(value)) for value in byCategory.negativeFeedback]\n",
    "\n",
    "fig, ax = plt.subplots()\n",
    "fig.set_size_inches(9, 5)\n",
    "\n",
    "renameCategories = {\n",
    "    'Business & Industrial': 'Business &\\nIndustrial',\n",
    "    'Health & Beauty': 'Health &\\nBeauty',\n",
    "    'Consumer Electronics': 'Consumer\\nElectronics',\n",
    "    'Clothing & accessories': 'Clothing &\\naccessories',\n",
    "    'Clothing shoes & accessories': 'Clothing shoes &\\naccessories'\n",
    "}\n",
    "labels = [renameCategories.get(c, c) for c in byCategory.category]\n",
    "\n",
    "squarify.plot(label=labels, sizes=byCategory.averageBid, color=colors, \n",
    "              ax=ax, alpha=0.6, edgecolor='grey', text_kwargs={'fontsize': 8.7})\n",
    "\n",
    "ax.get_xaxis().set_ticks([])\n",
    "ax.get_yaxis().set_ticks([])\n",
    "\n",
    "plt.subplots_adjust(left=0.1)\n",
    "plt.show()\n",
    "# labels"
   ]
  },
  {
   "cell_type": "markdown",
   "metadata": {},
   "source": [
    "## Figure 3.16\n",
    "To run this example you need an API key for Google maps. Go to https://cloud.google.com/maps-platform/ to find out how to get one."
   ]
  },
  {
   "cell_type": "code",
   "execution_count": null,
   "metadata": {
    "execution": {
     "iopub.execute_input": "2021-05-27T20:01:43.825834Z",
     "iopub.status.busy": "2021-05-27T20:01:43.825237Z",
     "iopub.status.idle": "2021-05-27T20:01:43.828162Z",
     "shell.execute_reply": "2021-05-27T20:01:43.827734Z"
    }
   },
   "outputs": [],
   "source": [
    "if 'GMAPS_API_KEY' in os.environ:\n",
    "    import gmaps\n",
    "    SCstudents = dmba.load_data('SC-US-students-GPS-data-2016.csv')\n",
    "\n",
    "    gmaps.configure(api_key=os.environ['GMAPS_API_KEY'])\n",
    "    fig = gmaps.figure(center=(39.7, -105), zoom_level=3)\n",
    "    fig.add_layer(gmaps.symbol_layer(SCstudents, scale=2, \n",
    "                                     fill_color='red', stroke_color='red'))\n",
    "    fig"
   ]
  },
  {
   "cell_type": "markdown",
   "metadata": {},
   "source": [
    "## Figure 3.17\n",
    "<div class=\"alert alert-info\">If you get an error message on MacOS about a missing library, set the environment variable `DYLD_FALLBACK_LIBRARY_PATH` before starting jupyter notebook.\n",
    "<br>\n",
    "```\n",
    "export DYLD_FALLBACK_LIBRARY_PATH=/usr/local/lib:/lib:/usr/lib\n",
    "```\n",
    "</div>"
   ]
  },
  {
   "cell_type": "code",
   "execution_count": null,
   "metadata": {
    "execution": {
     "iopub.execute_input": "2021-05-27T20:01:43.838947Z",
     "iopub.status.busy": "2021-05-27T20:01:43.835834Z",
     "iopub.status.idle": "2021-05-27T20:01:47.228083Z",
     "shell.execute_reply": "2021-05-27T20:01:47.227615Z"
    }
   },
   "outputs": [],
   "source": [
    "import matplotlib\n",
    "import matplotlib.pyplot as plt\n",
    "import cartopy\n",
    "import cartopy.io.shapereader as shpreader\n",
    "import cartopy.crs as ccrs\n",
    "\n",
    "gdp_df = dmba.load_data('gdp.csv', skiprows=4)\n",
    "\n",
    "gdp_df.rename(columns={'2015': 'GDP2015'}, inplace=True)\n",
    "gdp_df.set_index('Country Code', inplace=True)  # use the three letter country code to access rows\n",
    "\n",
    "# The file contains a column with two letter combinations, use na_filter to avoid converting\n",
    "# the combination NA into not-a-number\n",
    "happiness_df = dmba.load_data('Veerhoven.csv', na_filter = False)\n",
    "happiness_df.set_index('Code', inplace=True)  # use the country name to access rows\n",
    "\n",
    "\n",
    "fig = plt.figure(figsize=(7, 8))\n",
    "\n",
    "ax1 = plt.subplot(2, 1, 1, projection=ccrs.PlateCarree())\n",
    "ax1.set_extent([-150, 60, -25, 60])\n",
    "\n",
    "ax2 = plt.subplot(2, 1, 2, projection=ccrs.PlateCarree())\n",
    "ax2.set_extent([-150, 60, -25, 60])\n",
    "\n",
    "# Create a color mapper\n",
    "cmap = plt.cm.Blues_r\n",
    "norm1 = matplotlib.colors.Normalize(vmin=happiness_df.Score.dropna().min(), \n",
    "                                    vmax=happiness_df.Score.dropna().max())\n",
    "norm2 = matplotlib.colors.LogNorm(vmin=gdp_df.GDP2015.dropna().min(), \n",
    "                                  vmax=gdp_df.GDP2015.dropna().max())\n",
    "\n",
    "shpfilename = shpreader.natural_earth(resolution='110m',\n",
    "                                      category='cultural',\n",
    "                                      name='admin_0_countries')\n",
    "reader = shpreader.Reader(shpfilename)\n",
    "countries = reader.records()\n",
    "for country in countries:\n",
    "    countryCode = country.attributes['ADM0_A3']\n",
    "    if countryCode in gdp_df.index:\n",
    "        ax2.add_geometries([country.geometry], ccrs.PlateCarree(),\n",
    "                           facecolor=cmap(norm2(gdp_df.loc[countryCode].GDP2015)))\n",
    "    # check various attributes to find the matching two-letter combinations\n",
    "    nation = country.attributes['POSTAL'] \n",
    "    if nation not in happiness_df.index:\n",
    "        nation = country.attributes['ISO_A2']\n",
    "    if nation not in happiness_df.index:\n",
    "        nation = country.attributes['WB_A2']\n",
    "    if nation not in happiness_df.index and country.attributes['NAME'] == 'Norway':\n",
    "        nation = 'NO'\n",
    "    if nation in happiness_df.index:\n",
    "        ax1.add_geometries([country.geometry], ccrs.PlateCarree(),\n",
    "                           facecolor=cmap(norm1(happiness_df.loc[nation].Score)))\n",
    "        \n",
    "ax2.set_title(\"GDP 2015\")\n",
    "sm = plt.cm.ScalarMappable(norm=norm2, cmap=cmap)\n",
    "# sm._A = []\n",
    "sm._A = 5\n",
    "cb = plt.colorbar(sm, ax=ax2)\n",
    "cb.set_ticks([1e8, 1e9, 1e10, 1e11, 1e12, 1e13])\n",
    "\n",
    "ax1.set_title(\"Happiness\")\n",
    "sm = plt.cm.ScalarMappable(norm=norm1, cmap=cmap)\n",
    "# sm._A = []\n",
    "sm._A = 99999999\n",
    "\n",
    "\n",
    "cb = plt.colorbar(sm, ax=ax1)\n",
    "cb.set_ticks([3, 4, 5, 6, 7, 8])\n",
    "\n",
    "\n",
    "plt.show()"
   ]
  },
  {
   "cell_type": "code",
   "execution_count": null,
   "metadata": {},
   "outputs": [],
   "source": [
    "# # pip install cartopy\n",
    "# conda install cartopy\n",
    "# pip install cartopy"
   ]
  },
  {
   "cell_type": "code",
   "execution_count": null,
   "metadata": {},
   "outputs": [],
   "source": [
    "# pip install cartopy"
   ]
  },
  {
   "cell_type": "code",
   "execution_count": null,
   "metadata": {},
   "outputs": [],
   "source": [
    "# pip install libproj"
   ]
  },
  {
   "cell_type": "code",
   "execution_count": null,
   "metadata": {},
   "outputs": [],
   "source": [
    "# sm"
   ]
  },
  {
   "cell_type": "code",
   "execution_count": null,
   "metadata": {},
   "outputs": [],
   "source": [
    "type(ax2)"
   ]
  },
  {
   "cell_type": "code",
   "execution_count": null,
   "metadata": {},
   "outputs": [],
   "source": [
    "help(plt.colorbar)"
   ]
  },
  {
   "cell_type": "code",
   "execution_count": null,
   "metadata": {},
   "outputs": [],
   "source": []
  }
 ],
 "metadata": {
  "kernelspec": {
   "display_name": "Python 3",
   "language": "python",
   "name": "python3"
  },
  "language_info": {
   "codemirror_mode": {
    "name": "ipython",
    "version": 3
   },
   "file_extension": ".py",
   "mimetype": "text/x-python",
   "name": "python",
   "nbconvert_exporter": "python",
   "pygments_lexer": "ipython3",
   "version": "3.7.6"
  }
 },
 "nbformat": 4,
 "nbformat_minor": 2
}
