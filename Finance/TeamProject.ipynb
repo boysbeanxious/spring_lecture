{
 "cells": [
  {
   "cell_type": "markdown",
   "metadata": {},
   "source": [
    "## Myokyung Han (20224230)"
   ]
  },
  {
   "cell_type": "markdown",
   "metadata": {},
   "source": [
    "## 1. Download Data"
   ]
  },
  {
   "cell_type": "code",
   "execution_count": 1,
   "metadata": {},
   "outputs": [],
   "source": [
    "# https://ca.finance.yahoo.com/quote/CADUSD%3DX/history?period1=1063843200&period2=1649376000&interval=1d&filter=history&frequency=1d&includeAdjustedClose=true"
   ]
  },
  {
   "cell_type": "code",
   "execution_count": 2,
   "metadata": {},
   "outputs": [],
   "source": [
    "import pandas as pd\n",
    "from pandas.tseries.offsets import YearEnd"
   ]
  },
  {
   "cell_type": "code",
   "execution_count": 3,
   "metadata": {},
   "outputs": [],
   "source": [
    "def load_deepsearch_data(filepath, column):\n",
    "    df = pd.read_excel(filepath)\n",
    "    df['날짜'] = pd.to_datetime(df['날짜'])\n",
    "    df = df.set_index('날짜')\n",
    "    df.columns = [column]\n",
    "    \n",
    "    return df\n",
    "    "
   ]
  },
  {
   "cell_type": "code",
   "execution_count": 4,
   "metadata": {},
   "outputs": [],
   "source": [
    "# yahoo finance에서 받아온 데이터 로딩\n",
    "df_can_usd_xr = pd.read_csv('./data/usd_cad_xr.csv')\n",
    "df_krw_usd_xr = load_deepsearch_data('./data/krw_usd_xr.xlsx', 'KRW/USD')\n"
   ]
  },
  {
   "cell_type": "code",
   "execution_count": 5,
   "metadata": {},
   "outputs": [],
   "source": [
    "df_can_usd_xr['Date'] = pd.to_datetime(df_can_usd_xr['Date'])"
   ]
  },
  {
   "cell_type": "code",
   "execution_count": 6,
   "metadata": {},
   "outputs": [],
   "source": [
    "df_can_usd_xr.set_index('Date' , inplace=True)"
   ]
  },
  {
   "cell_type": "code",
   "execution_count": 7,
   "metadata": {},
   "outputs": [],
   "source": [
    "df_can_usd_xr = df_can_usd_xr['Close'].to_frame()"
   ]
  },
  {
   "cell_type": "code",
   "execution_count": 8,
   "metadata": {},
   "outputs": [],
   "source": [
    "df_can_usd_xr = df_can_usd_xr.rename(columns = {'Close':'USD/CAD'})"
   ]
  },
  {
   "cell_type": "code",
   "execution_count": 9,
   "metadata": {},
   "outputs": [],
   "source": [
    "df_xr_merged = df_can_usd_xr.join(df_krw_usd_xr)"
   ]
  },
  {
   "cell_type": "code",
   "execution_count": 10,
   "metadata": {},
   "outputs": [],
   "source": [
    "df_xr_merged['KRW/CAD'] = df_xr_merged['USD/CAD'] * df_xr_merged['KRW/USD']"
   ]
  },
  {
   "cell_type": "code",
   "execution_count": 11,
   "metadata": {},
   "outputs": [
    {
     "data": {
      "text/html": [
       "<div>\n",
       "<style scoped>\n",
       "    .dataframe tbody tr th:only-of-type {\n",
       "        vertical-align: middle;\n",
       "    }\n",
       "\n",
       "    .dataframe tbody tr th {\n",
       "        vertical-align: top;\n",
       "    }\n",
       "\n",
       "    .dataframe thead th {\n",
       "        text-align: right;\n",
       "    }\n",
       "</style>\n",
       "<table border=\"1\" class=\"dataframe\">\n",
       "  <thead>\n",
       "    <tr style=\"text-align: right;\">\n",
       "      <th></th>\n",
       "      <th>KRW/CAD</th>\n",
       "      <th>USD/CAD</th>\n",
       "      <th>KRW/USD</th>\n",
       "    </tr>\n",
       "    <tr>\n",
       "      <th>Date</th>\n",
       "      <th></th>\n",
       "      <th></th>\n",
       "      <th></th>\n",
       "    </tr>\n",
       "  </thead>\n",
       "  <tbody>\n",
       "    <tr>\n",
       "      <th>2022-03-28</th>\n",
       "      <td>975.646316</td>\n",
       "      <td>0.800826</td>\n",
       "      <td>1218.3</td>\n",
       "    </tr>\n",
       "    <tr>\n",
       "      <th>2022-03-29</th>\n",
       "      <td>979.134511</td>\n",
       "      <td>0.798837</td>\n",
       "      <td>1225.7</td>\n",
       "    </tr>\n",
       "    <tr>\n",
       "      <th>2022-03-30</th>\n",
       "      <td>976.563547</td>\n",
       "      <td>0.800134</td>\n",
       "      <td>1220.5</td>\n",
       "    </tr>\n",
       "    <tr>\n",
       "      <th>2022-03-31</th>\n",
       "      <td>970.013047</td>\n",
       "      <td>0.801134</td>\n",
       "      <td>1210.8</td>\n",
       "    </tr>\n",
       "    <tr>\n",
       "      <th>2022-04-01</th>\n",
       "      <td>968.676227</td>\n",
       "      <td>0.800096</td>\n",
       "      <td>1210.7</td>\n",
       "    </tr>\n",
       "    <tr>\n",
       "      <th>2022-04-04</th>\n",
       "      <td>970.822359</td>\n",
       "      <td>0.798308</td>\n",
       "      <td>1216.1</td>\n",
       "    </tr>\n",
       "    <tr>\n",
       "      <th>2022-04-05</th>\n",
       "      <td>974.435563</td>\n",
       "      <td>0.800884</td>\n",
       "      <td>1216.7</td>\n",
       "    </tr>\n",
       "    <tr>\n",
       "      <th>2022-04-06</th>\n",
       "      <td>NaN</td>\n",
       "      <td>0.801000</td>\n",
       "      <td>NaN</td>\n",
       "    </tr>\n",
       "    <tr>\n",
       "      <th>2022-04-07</th>\n",
       "      <td>NaN</td>\n",
       "      <td>0.795938</td>\n",
       "      <td>NaN</td>\n",
       "    </tr>\n",
       "    <tr>\n",
       "      <th>2022-04-08</th>\n",
       "      <td>NaN</td>\n",
       "      <td>0.794357</td>\n",
       "      <td>NaN</td>\n",
       "    </tr>\n",
       "  </tbody>\n",
       "</table>\n",
       "</div>"
      ],
      "text/plain": [
       "               KRW/CAD   USD/CAD  KRW/USD\n",
       "Date                                     \n",
       "2022-03-28  975.646316  0.800826   1218.3\n",
       "2022-03-29  979.134511  0.798837   1225.7\n",
       "2022-03-30  976.563547  0.800134   1220.5\n",
       "2022-03-31  970.013047  0.801134   1210.8\n",
       "2022-04-01  968.676227  0.800096   1210.7\n",
       "2022-04-04  970.822359  0.798308   1216.1\n",
       "2022-04-05  974.435563  0.800884   1216.7\n",
       "2022-04-06         NaN  0.801000      NaN\n",
       "2022-04-07         NaN  0.795938      NaN\n",
       "2022-04-08         NaN  0.794357      NaN"
      ]
     },
     "execution_count": 11,
     "metadata": {},
     "output_type": "execute_result"
    }
   ],
   "source": [
    "df_xr_merged[['KRW/CAD', 'USD/CAD', 'KRW/USD']].tail(10)"
   ]
  },
  {
   "cell_type": "code",
   "execution_count": 12,
   "metadata": {},
   "outputs": [],
   "source": [
    "df_xr_merged.dropna(inplace=True)"
   ]
  },
  {
   "cell_type": "code",
   "execution_count": 13,
   "metadata": {},
   "outputs": [],
   "source": [
    "df_monthly = df_xr_merged.resample('M').last()"
   ]
  },
  {
   "cell_type": "code",
   "execution_count": 14,
   "metadata": {},
   "outputs": [],
   "source": [
    "import matplotlib.pyplot as plt"
   ]
  },
  {
   "cell_type": "code",
   "execution_count": 15,
   "metadata": {},
   "outputs": [],
   "source": [
    "plt.rcParams['figure.figsize'] = (8,4)"
   ]
  },
  {
   "cell_type": "code",
   "execution_count": 16,
   "metadata": {},
   "outputs": [
    {
     "data": {
      "image/png": "[encoded data removed]",
      "text/plain": [
       "<Figure size 576x288 with 1 Axes>"
      ]
     },
     "metadata": {
      "needs_background": "light"
     },
     "output_type": "display_data"
    }
   ],
   "source": [
    "plt.plot(df_monthly)\n",
    "plt.show()"
   ]
  },
  {
   "cell_type": "code",
   "execution_count": 17,
   "metadata": {},
   "outputs": [],
   "source": [
    "# https://data.worldbank.org/indicator/PA.NUS.PPP?locations=CA"
   ]
  },
  {
   "cell_type": "code",
   "execution_count": 18,
   "metadata": {},
   "outputs": [],
   "source": [
    "def load_world_bank_data(filepath, column):\n",
    "    df = pd.read_excel(filepath, sheet_name = 'Data', skiprows = 3)\n",
    "    df = df.set_index('Country Code')\n",
    "    df = df.loc['KOR'].to_frame()\n",
    "    \n",
    "    df = df.iloc[3:]\n",
    "    df.dropna(inplace=True)\n",
    "    df['KOR'] = df['KOR'].astype(float)\n",
    "    df['date'] = pd.to_datetime(df.index)+YearEnd(0)\n",
    "    df.set_index('date', inplace=True)\n",
    "    df.columns = [column]\n",
    "    return df\n",
    "      \n",
    "    "
   ]
  },
  {
   "cell_type": "code",
   "execution_count": 19,
   "metadata": {},
   "outputs": [],
   "source": [
    "df_real_xr = load_world_bank_data('./data/world_can_real_xr.xls', 'Real XR')"
   ]
  },
  {
   "cell_type": "code",
   "execution_count": 20,
   "metadata": {},
   "outputs": [],
   "source": [
    "df_ppp_xr = load_world_bank_data('./data/world_ppp_xr.xls', 'PPP XR')"
   ]
  },
  {
   "cell_type": "code",
   "execution_count": 21,
   "metadata": {},
   "outputs": [],
   "source": [
    "df_can_ppp_xr = pd.read_csv('./data/world_can_ppp_xr.csv', skiprows = 3)\n",
    "\n",
    "df_can_ppp_xr = df_can_ppp_xr.set_index('Country Code')\n",
    "df_can_ppp_xr = df_can_ppp_xr.loc['CAN'].to_frame()\n",
    "\n",
    "df_can_ppp_xr = df_can_ppp_xr.iloc[3:]\n",
    "df_can_ppp_xr.dropna(inplace=True)\n",
    "df_can_ppp_xr['CAN'] = df_can_ppp_xr['CAN'].astype(float)\n",
    "df_can_ppp_xr['date'] = pd.to_datetime(df_can_ppp_xr.index)+YearEnd(0)\n",
    "df_can_ppp_xr.set_index('date', inplace=True)\n",
    "df_can_ppp_xr.columns = ['CAN PPP XR']\n"
   ]
  },
  {
   "cell_type": "code",
   "execution_count": 22,
   "metadata": {},
   "outputs": [],
   "source": [
    "df_ppp_merge = df_ppp_xr.join(df_can_ppp_xr)"
   ]
  },
  {
   "cell_type": "code",
   "execution_count": 23,
   "metadata": {},
   "outputs": [],
   "source": [
    "df_ppp_merge['CALC_PPP_XR'] = 1/(df_ppp_merge['PPP XR'] * (1/df_ppp_merge['CAN PPP XR']))\n"
   ]
  },
  {
   "cell_type": "code",
   "execution_count": 24,
   "metadata": {
    "scrolled": true
   },
   "outputs": [
    {
     "data": {
      "text/html": [
       "<div>\n",
       "<style scoped>\n",
       "    .dataframe tbody tr th:only-of-type {\n",
       "        vertical-align: middle;\n",
       "    }\n",
       "\n",
       "    .dataframe tbody tr th {\n",
       "        vertical-align: top;\n",
       "    }\n",
       "\n",
       "    .dataframe thead th {\n",
       "        text-align: right;\n",
       "    }\n",
       "</style>\n",
       "<table border=\"1\" class=\"dataframe\">\n",
       "  <thead>\n",
       "    <tr style=\"text-align: right;\">\n",
       "      <th></th>\n",
       "      <th>PPP XR</th>\n",
       "      <th>CAN PPP XR</th>\n",
       "      <th>CALC_PPP_XR</th>\n",
       "    </tr>\n",
       "    <tr>\n",
       "      <th>date</th>\n",
       "      <th></th>\n",
       "      <th></th>\n",
       "      <th></th>\n",
       "    </tr>\n",
       "  </thead>\n",
       "  <tbody>\n",
       "    <tr>\n",
       "      <th>2018-12-31</th>\n",
       "      <td>854.871397</td>\n",
       "      <td>0.931108</td>\n",
       "      <td>0.001089</td>\n",
       "    </tr>\n",
       "    <tr>\n",
       "      <th>2019-12-31</th>\n",
       "      <td>864.630567</td>\n",
       "      <td>0.939745</td>\n",
       "      <td>0.001087</td>\n",
       "    </tr>\n",
       "    <tr>\n",
       "      <th>2020-12-31</th>\n",
       "      <td>824.604924</td>\n",
       "      <td>0.928844</td>\n",
       "      <td>0.001126</td>\n",
       "    </tr>\n",
       "  </tbody>\n",
       "</table>\n",
       "</div>"
      ],
      "text/plain": [
       "                PPP XR  CAN PPP XR  CALC_PPP_XR\n",
       "date                                           \n",
       "2018-12-31  854.871397    0.931108     0.001089\n",
       "2019-12-31  864.630567    0.939745     0.001087\n",
       "2020-12-31  824.604924    0.928844     0.001126"
      ]
     },
     "execution_count": 24,
     "metadata": {},
     "output_type": "execute_result"
    }
   ],
   "source": [
    "df_ppp_merge.tail(3)"
   ]
  },
  {
   "cell_type": "markdown",
   "metadata": {},
   "source": [
    "## Merge dataframes"
   ]
  },
  {
   "cell_type": "code",
   "execution_count": 25,
   "metadata": {},
   "outputs": [],
   "source": [
    "df_merged = df_monthly.join(df_real_xr)"
   ]
  },
  {
   "cell_type": "code",
   "execution_count": 26,
   "metadata": {},
   "outputs": [],
   "source": [
    "df_merged= df_merged.join(df_ppp_merge['CALC_PPP_XR'])"
   ]
  },
  {
   "cell_type": "code",
   "execution_count": 27,
   "metadata": {},
   "outputs": [
    {
     "data": {
      "text/html": [
       "<div>\n",
       "<style scoped>\n",
       "    .dataframe tbody tr th:only-of-type {\n",
       "        vertical-align: middle;\n",
       "    }\n",
       "\n",
       "    .dataframe tbody tr th {\n",
       "        vertical-align: top;\n",
       "    }\n",
       "\n",
       "    .dataframe thead th {\n",
       "        text-align: right;\n",
       "    }\n",
       "</style>\n",
       "<table border=\"1\" class=\"dataframe\">\n",
       "  <thead>\n",
       "    <tr style=\"text-align: right;\">\n",
       "      <th></th>\n",
       "      <th>USD/CAD</th>\n",
       "      <th>KRW/USD</th>\n",
       "      <th>KRW/CAD</th>\n",
       "      <th>Real XR</th>\n",
       "      <th>CALC_PPP_XR</th>\n",
       "    </tr>\n",
       "    <tr>\n",
       "      <th>Date</th>\n",
       "      <th></th>\n",
       "      <th></th>\n",
       "      <th></th>\n",
       "      <th></th>\n",
       "      <th></th>\n",
       "    </tr>\n",
       "  </thead>\n",
       "  <tbody>\n",
       "    <tr>\n",
       "      <th>2003-09-30</th>\n",
       "      <td>0.740631</td>\n",
       "      <td>1150.2</td>\n",
       "      <td>851.873776</td>\n",
       "      <td>NaN</td>\n",
       "      <td>NaN</td>\n",
       "    </tr>\n",
       "    <tr>\n",
       "      <th>2003-10-31</th>\n",
       "      <td>0.759359</td>\n",
       "      <td>1177.3</td>\n",
       "      <td>893.993351</td>\n",
       "      <td>NaN</td>\n",
       "      <td>NaN</td>\n",
       "    </tr>\n",
       "    <tr>\n",
       "      <th>2003-11-30</th>\n",
       "      <td>0.768994</td>\n",
       "      <td>1202.6</td>\n",
       "      <td>924.792184</td>\n",
       "      <td>NaN</td>\n",
       "      <td>NaN</td>\n",
       "    </tr>\n",
       "    <tr>\n",
       "      <th>2003-12-31</th>\n",
       "      <td>0.770891</td>\n",
       "      <td>1197.8</td>\n",
       "      <td>923.373240</td>\n",
       "      <td>0.664054</td>\n",
       "      <td>0.001106</td>\n",
       "    </tr>\n",
       "    <tr>\n",
       "      <th>2004-01-31</th>\n",
       "      <td>0.755458</td>\n",
       "      <td>1173.6</td>\n",
       "      <td>886.605509</td>\n",
       "      <td>NaN</td>\n",
       "      <td>NaN</td>\n",
       "    </tr>\n",
       "  </tbody>\n",
       "</table>\n",
       "</div>"
      ],
      "text/plain": [
       "             USD/CAD  KRW/USD     KRW/CAD   Real XR  CALC_PPP_XR\n",
       "Date                                                            \n",
       "2003-09-30  0.740631   1150.2  851.873776       NaN          NaN\n",
       "2003-10-31  0.759359   1177.3  893.993351       NaN          NaN\n",
       "2003-11-30  0.768994   1202.6  924.792184       NaN          NaN\n",
       "2003-12-31  0.770891   1197.8  923.373240  0.664054     0.001106\n",
       "2004-01-31  0.755458   1173.6  886.605509       NaN          NaN"
      ]
     },
     "execution_count": 27,
     "metadata": {},
     "output_type": "execute_result"
    }
   ],
   "source": [
    "df_merged.head()"
   ]
  },
  {
   "cell_type": "code",
   "execution_count": 28,
   "metadata": {},
   "outputs": [],
   "source": [
    "import matplotlib.pyplot as plt"
   ]
  },
  {
   "cell_type": "code",
   "execution_count": 29,
   "metadata": {},
   "outputs": [],
   "source": [
    "plt.rcParams['figure.figsize'] = (10,4)"
   ]
  },
  {
   "cell_type": "code",
   "execution_count": 30,
   "metadata": {},
   "outputs": [
    {
     "data": {
      "image/png": "[encoded data removed]",
      "text/plain": [
       "<Figure size 720x288 with 1 Axes>"
      ]
     },
     "metadata": {
      "needs_background": "light"
     },
     "output_type": "display_data"
    }
   ],
   "source": [
    "plt.plot(df_merged['KRW/CAD'], label = 'Market XR')\n",
    "plt.plot(df_merged['CALC_PPP_XR'].dropna(), label = 'PPP XR')\n",
    "plt.legend()\n",
    "plt.show()\n"
   ]
  },
  {
   "cell_type": "code",
   "execution_count": 31,
   "metadata": {},
   "outputs": [],
   "source": [
    "df_merged['CALC_PPP_XR'] = df_merged['CALC_PPP_XR'].fillna(method='ffill')"
   ]
  },
  {
   "cell_type": "code",
   "execution_count": 32,
   "metadata": {},
   "outputs": [],
   "source": [
    "df_merged['New Real XR'] = \\\n",
    "    df_merged['KRW/CAD']/df_merged['CALC_PPP_XR']\n",
    "# 이렇게 하는게 맞음....\n",
    "#     df_merged['CAD/USD']/df_merged['PPP XR']>> 이게 맞음????아오"
   ]
  },
  {
   "cell_type": "code",
   "execution_count": 33,
   "metadata": {},
   "outputs": [
    {
     "data": {
      "text/html": [
       "<div>\n",
       "<style scoped>\n",
       "    .dataframe tbody tr th:only-of-type {\n",
       "        vertical-align: middle;\n",
       "    }\n",
       "\n",
       "    .dataframe tbody tr th {\n",
       "        vertical-align: top;\n",
       "    }\n",
       "\n",
       "    .dataframe thead th {\n",
       "        text-align: right;\n",
       "    }\n",
       "</style>\n",
       "<table border=\"1\" class=\"dataframe\">\n",
       "  <thead>\n",
       "    <tr style=\"text-align: right;\">\n",
       "      <th></th>\n",
       "      <th>USD/CAD</th>\n",
       "      <th>KRW/USD</th>\n",
       "      <th>KRW/CAD</th>\n",
       "      <th>Real XR</th>\n",
       "      <th>CALC_PPP_XR</th>\n",
       "      <th>New Real XR</th>\n",
       "    </tr>\n",
       "    <tr>\n",
       "      <th>Date</th>\n",
       "      <th></th>\n",
       "      <th></th>\n",
       "      <th></th>\n",
       "      <th></th>\n",
       "      <th></th>\n",
       "      <th></th>\n",
       "    </tr>\n",
       "  </thead>\n",
       "  <tbody>\n",
       "    <tr>\n",
       "      <th>2003-09-30</th>\n",
       "      <td>0.740631</td>\n",
       "      <td>1150.2</td>\n",
       "      <td>851.873776</td>\n",
       "      <td>NaN</td>\n",
       "      <td>NaN</td>\n",
       "      <td>NaN</td>\n",
       "    </tr>\n",
       "    <tr>\n",
       "      <th>2003-10-31</th>\n",
       "      <td>0.759359</td>\n",
       "      <td>1177.3</td>\n",
       "      <td>893.993351</td>\n",
       "      <td>NaN</td>\n",
       "      <td>NaN</td>\n",
       "      <td>NaN</td>\n",
       "    </tr>\n",
       "    <tr>\n",
       "      <th>2003-11-30</th>\n",
       "      <td>0.768994</td>\n",
       "      <td>1202.6</td>\n",
       "      <td>924.792184</td>\n",
       "      <td>NaN</td>\n",
       "      <td>NaN</td>\n",
       "      <td>NaN</td>\n",
       "    </tr>\n",
       "    <tr>\n",
       "      <th>2003-12-31</th>\n",
       "      <td>0.770891</td>\n",
       "      <td>1197.8</td>\n",
       "      <td>923.373240</td>\n",
       "      <td>0.664054</td>\n",
       "      <td>0.001106</td>\n",
       "      <td>835208.655401</td>\n",
       "    </tr>\n",
       "    <tr>\n",
       "      <th>2004-01-31</th>\n",
       "      <td>0.755458</td>\n",
       "      <td>1173.6</td>\n",
       "      <td>886.605509</td>\n",
       "      <td>NaN</td>\n",
       "      <td>0.001106</td>\n",
       "      <td>801951.543491</td>\n",
       "    </tr>\n",
       "  </tbody>\n",
       "</table>\n",
       "</div>"
      ],
      "text/plain": [
       "             USD/CAD  KRW/USD     KRW/CAD   Real XR  CALC_PPP_XR  \\\n",
       "Date                                                               \n",
       "2003-09-30  0.740631   1150.2  851.873776       NaN          NaN   \n",
       "2003-10-31  0.759359   1177.3  893.993351       NaN          NaN   \n",
       "2003-11-30  0.768994   1202.6  924.792184       NaN          NaN   \n",
       "2003-12-31  0.770891   1197.8  923.373240  0.664054     0.001106   \n",
       "2004-01-31  0.755458   1173.6  886.605509       NaN     0.001106   \n",
       "\n",
       "              New Real XR  \n",
       "Date                       \n",
       "2003-09-30            NaN  \n",
       "2003-10-31            NaN  \n",
       "2003-11-30            NaN  \n",
       "2003-12-31  835208.655401  \n",
       "2004-01-31  801951.543491  "
      ]
     },
     "execution_count": 33,
     "metadata": {},
     "output_type": "execute_result"
    }
   ],
   "source": [
    "df_merged.head()"
   ]
  },
  {
   "cell_type": "code",
   "execution_count": 34,
   "metadata": {},
   "outputs": [],
   "source": [
    "df_merged['Real XR'] = df_merged['Real XR'].fillna(method='ffill')"
   ]
  },
  {
   "cell_type": "code",
   "execution_count": 35,
   "metadata": {},
   "outputs": [
    {
     "data": {
      "image/png": "[encoded data removed]",
      "text/plain": [
       "<Figure size 720x288 with 1 Axes>"
      ]
     },
     "metadata": {
      "needs_background": "light"
     },
     "output_type": "display_data"
    }
   ],
   "source": [
    "plt.plot(df_merged['New Real XR'], label = 'New Real XR')\n",
    "# plt.plot(df_merged['Real XR'].shift(-12), label = 'Original World Bank')\n",
    "plt.plot(df_merged['Real XR'].shift(-12), label = 'Original World Bank')\n",
    "plt.legend()\n",
    "plt.show()"
   ]
  },
  {
   "cell_type": "markdown",
   "metadata": {},
   "source": [
    "### Compute annual returns in the currency market"
   ]
  },
  {
   "cell_type": "code",
   "execution_count": 36,
   "metadata": {},
   "outputs": [],
   "source": [
    "df_merged['ann_ret'] = \\\n",
    "    df_merged['KRW/USD'].pct_change(periods=12)*100"
   ]
  },
  {
   "cell_type": "code",
   "execution_count": 37,
   "metadata": {},
   "outputs": [],
   "source": [
    "df_merged['F12.ann_ret'] = \\\n",
    "    df_merged['ann_ret'].shift(-12)"
   ]
  },
  {
   "cell_type": "code",
   "execution_count": 38,
   "metadata": {},
   "outputs": [
    {
     "data": {
      "text/html": [
       "<div>\n",
       "<style scoped>\n",
       "    .dataframe tbody tr th:only-of-type {\n",
       "        vertical-align: middle;\n",
       "    }\n",
       "\n",
       "    .dataframe tbody tr th {\n",
       "        vertical-align: top;\n",
       "    }\n",
       "\n",
       "    .dataframe thead th {\n",
       "        text-align: right;\n",
       "    }\n",
       "</style>\n",
       "<table border=\"1\" class=\"dataframe\">\n",
       "  <thead>\n",
       "    <tr style=\"text-align: right;\">\n",
       "      <th></th>\n",
       "      <th>USD/CAD</th>\n",
       "      <th>KRW/USD</th>\n",
       "      <th>KRW/CAD</th>\n",
       "      <th>Real XR</th>\n",
       "      <th>CALC_PPP_XR</th>\n",
       "      <th>New Real XR</th>\n",
       "      <th>ann_ret</th>\n",
       "      <th>F12.ann_ret</th>\n",
       "    </tr>\n",
       "    <tr>\n",
       "      <th>Date</th>\n",
       "      <th></th>\n",
       "      <th></th>\n",
       "      <th></th>\n",
       "      <th></th>\n",
       "      <th></th>\n",
       "      <th></th>\n",
       "      <th></th>\n",
       "      <th></th>\n",
       "    </tr>\n",
       "  </thead>\n",
       "  <tbody>\n",
       "    <tr>\n",
       "      <th>2003-09-30</th>\n",
       "      <td>0.740631</td>\n",
       "      <td>1150.2</td>\n",
       "      <td>851.873776</td>\n",
       "      <td>NaN</td>\n",
       "      <td>NaN</td>\n",
       "      <td>NaN</td>\n",
       "      <td>NaN</td>\n",
       "      <td>-0.199965</td>\n",
       "    </tr>\n",
       "    <tr>\n",
       "      <th>2003-10-31</th>\n",
       "      <td>0.759359</td>\n",
       "      <td>1177.3</td>\n",
       "      <td>893.993351</td>\n",
       "      <td>NaN</td>\n",
       "      <td>NaN</td>\n",
       "      <td>NaN</td>\n",
       "      <td>NaN</td>\n",
       "      <td>-4.357428</td>\n",
       "    </tr>\n",
       "    <tr>\n",
       "      <th>2003-11-30</th>\n",
       "      <td>0.768994</td>\n",
       "      <td>1202.6</td>\n",
       "      <td>924.792184</td>\n",
       "      <td>NaN</td>\n",
       "      <td>NaN</td>\n",
       "      <td>NaN</td>\n",
       "      <td>NaN</td>\n",
       "      <td>-12.863795</td>\n",
       "    </tr>\n",
       "    <tr>\n",
       "      <th>2003-12-31</th>\n",
       "      <td>0.770891</td>\n",
       "      <td>1197.8</td>\n",
       "      <td>923.373240</td>\n",
       "      <td>0.664054</td>\n",
       "      <td>0.001106</td>\n",
       "      <td>835208.655401</td>\n",
       "      <td>NaN</td>\n",
       "      <td>-12.856904</td>\n",
       "    </tr>\n",
       "    <tr>\n",
       "      <th>2004-01-31</th>\n",
       "      <td>0.755458</td>\n",
       "      <td>1173.6</td>\n",
       "      <td>886.605509</td>\n",
       "      <td>0.664054</td>\n",
       "      <td>0.001106</td>\n",
       "      <td>801951.543491</td>\n",
       "      <td>NaN</td>\n",
       "      <td>-12.542604</td>\n",
       "    </tr>\n",
       "    <tr>\n",
       "      <th>2004-02-29</th>\n",
       "      <td>0.749232</td>\n",
       "      <td>1174.5</td>\n",
       "      <td>879.972984</td>\n",
       "      <td>0.664054</td>\n",
       "      <td>0.001106</td>\n",
       "      <td>795952.298677</td>\n",
       "      <td>NaN</td>\n",
       "      <td>-14.167731</td>\n",
       "    </tr>\n",
       "    <tr>\n",
       "      <th>2004-03-31</th>\n",
       "      <td>0.763592</td>\n",
       "      <td>1153.6</td>\n",
       "      <td>880.879731</td>\n",
       "      <td>0.664054</td>\n",
       "      <td>0.001106</td>\n",
       "      <td>796772.468763</td>\n",
       "      <td>NaN</td>\n",
       "      <td>-11.208391</td>\n",
       "    </tr>\n",
       "    <tr>\n",
       "      <th>2004-04-30</th>\n",
       "      <td>0.729501</td>\n",
       "      <td>1167.7</td>\n",
       "      <td>851.838318</td>\n",
       "      <td>0.664054</td>\n",
       "      <td>0.001106</td>\n",
       "      <td>770503.957965</td>\n",
       "      <td>NaN</td>\n",
       "      <td>-14.147469</td>\n",
       "    </tr>\n",
       "    <tr>\n",
       "      <th>2004-05-31</th>\n",
       "      <td>0.733945</td>\n",
       "      <td>1165.7</td>\n",
       "      <td>855.559686</td>\n",
       "      <td>0.664054</td>\n",
       "      <td>0.001106</td>\n",
       "      <td>773870.006815</td>\n",
       "      <td>NaN</td>\n",
       "      <td>-14.000172</td>\n",
       "    </tr>\n",
       "    <tr>\n",
       "      <th>2004-06-30</th>\n",
       "      <td>0.750019</td>\n",
       "      <td>1152.5</td>\n",
       "      <td>864.396898</td>\n",
       "      <td>0.664054</td>\n",
       "      <td>0.001106</td>\n",
       "      <td>781863.432224</td>\n",
       "      <td>NaN</td>\n",
       "      <td>-11.114967</td>\n",
       "    </tr>\n",
       "    <tr>\n",
       "      <th>2004-07-31</th>\n",
       "      <td>0.751089</td>\n",
       "      <td>1168.3</td>\n",
       "      <td>877.497279</td>\n",
       "      <td>0.664054</td>\n",
       "      <td>0.001106</td>\n",
       "      <td>793712.976152</td>\n",
       "      <td>NaN</td>\n",
       "      <td>-11.983223</td>\n",
       "    </tr>\n",
       "    <tr>\n",
       "      <th>2004-08-31</th>\n",
       "      <td>0.761963</td>\n",
       "      <td>1153.8</td>\n",
       "      <td>879.152909</td>\n",
       "      <td>0.664054</td>\n",
       "      <td>0.001106</td>\n",
       "      <td>795210.525606</td>\n",
       "      <td>NaN</td>\n",
       "      <td>-10.643092</td>\n",
       "    </tr>\n",
       "    <tr>\n",
       "      <th>2004-09-30</th>\n",
       "      <td>0.792707</td>\n",
       "      <td>1147.9</td>\n",
       "      <td>909.948365</td>\n",
       "      <td>0.664054</td>\n",
       "      <td>0.001106</td>\n",
       "      <td>823065.601111</td>\n",
       "      <td>-0.199965</td>\n",
       "      <td>-9.574005</td>\n",
       "    </tr>\n",
       "    <tr>\n",
       "      <th>2004-10-31</th>\n",
       "      <td>0.821558</td>\n",
       "      <td>1126.0</td>\n",
       "      <td>925.074308</td>\n",
       "      <td>0.664054</td>\n",
       "      <td>0.001106</td>\n",
       "      <td>836747.303937</td>\n",
       "      <td>-4.357428</td>\n",
       "      <td>-7.397869</td>\n",
       "    </tr>\n",
       "    <tr>\n",
       "      <th>2004-11-30</th>\n",
       "      <td>0.841963</td>\n",
       "      <td>1047.9</td>\n",
       "      <td>882.293028</td>\n",
       "      <td>0.664054</td>\n",
       "      <td>0.001106</td>\n",
       "      <td>798050.822324</td>\n",
       "      <td>-12.863795</td>\n",
       "      <td>-1.106976</td>\n",
       "    </tr>\n",
       "  </tbody>\n",
       "</table>\n",
       "</div>"
      ],
      "text/plain": [
       "             USD/CAD  KRW/USD     KRW/CAD   Real XR  CALC_PPP_XR  \\\n",
       "Date                                                               \n",
       "2003-09-30  0.740631   1150.2  851.873776       NaN          NaN   \n",
       "2003-10-31  0.759359   1177.3  893.993351       NaN          NaN   \n",
       "2003-11-30  0.768994   1202.6  924.792184       NaN          NaN   \n",
       "2003-12-31  0.770891   1197.8  923.373240  0.664054     0.001106   \n",
       "2004-01-31  0.755458   1173.6  886.605509  0.664054     0.001106   \n",
       "2004-02-29  0.749232   1174.5  879.972984  0.664054     0.001106   \n",
       "2004-03-31  0.763592   1153.6  880.879731  0.664054     0.001106   \n",
       "2004-04-30  0.729501   1167.7  851.838318  0.664054     0.001106   \n",
       "2004-05-31  0.733945   1165.7  855.559686  0.664054     0.001106   \n",
       "2004-06-30  0.750019   1152.5  864.396898  0.664054     0.001106   \n",
       "2004-07-31  0.751089   1168.3  877.497279  0.664054     0.001106   \n",
       "2004-08-31  0.761963   1153.8  879.152909  0.664054     0.001106   \n",
       "2004-09-30  0.792707   1147.9  909.948365  0.664054     0.001106   \n",
       "2004-10-31  0.821558   1126.0  925.074308  0.664054     0.001106   \n",
       "2004-11-30  0.841963   1047.9  882.293028  0.664054     0.001106   \n",
       "\n",
       "              New Real XR    ann_ret  F12.ann_ret  \n",
       "Date                                               \n",
       "2003-09-30            NaN        NaN    -0.199965  \n",
       "2003-10-31            NaN        NaN    -4.357428  \n",
       "2003-11-30            NaN        NaN   -12.863795  \n",
       "2003-12-31  835208.655401        NaN   -12.856904  \n",
       "2004-01-31  801951.543491        NaN   -12.542604  \n",
       "2004-02-29  795952.298677        NaN   -14.167731  \n",
       "2004-03-31  796772.468763        NaN   -11.208391  \n",
       "2004-04-30  770503.957965        NaN   -14.147469  \n",
       "2004-05-31  773870.006815        NaN   -14.000172  \n",
       "2004-06-30  781863.432224        NaN   -11.114967  \n",
       "2004-07-31  793712.976152        NaN   -11.983223  \n",
       "2004-08-31  795210.525606        NaN   -10.643092  \n",
       "2004-09-30  823065.601111  -0.199965    -9.574005  \n",
       "2004-10-31  836747.303937  -4.357428    -7.397869  \n",
       "2004-11-30  798050.822324 -12.863795    -1.106976  "
      ]
     },
     "execution_count": 38,
     "metadata": {},
     "output_type": "execute_result"
    }
   ],
   "source": [
    "df_merged.head(15)"
   ]
  },
  {
   "cell_type": "markdown",
   "metadata": {},
   "source": [
    "### Use OLS!!!"
   ]
  },
  {
   "cell_type": "code",
   "execution_count": 39,
   "metadata": {},
   "outputs": [],
   "source": [
    "import statsmodels.api as sm"
   ]
  },
  {
   "cell_type": "code",
   "execution_count": 40,
   "metadata": {},
   "outputs": [],
   "source": [
    "df = df_merged[['New Real XR', 'F12.ann_ret']]\n",
    "df = df.dropna()"
   ]
  },
  {
   "cell_type": "code",
   "execution_count": 41,
   "metadata": {},
   "outputs": [
    {
     "name": "stderr",
     "output_type": "stream",
     "text": [
      "/Users/boysbeanxious/opt/anaconda3/lib/python3.7/site-packages/statsmodels/tsa/tsatools.py:130: FutureWarning: In a future version of pandas all arguments of concat except for the argument 'objs' will be keyword-only\n",
      "  x = pd.concat(x[::order], 1)\n"
     ]
    }
   ],
   "source": [
    "X = df['New Real XR']\n",
    "X = sm.add_constant(X)"
   ]
  },
  {
   "cell_type": "code",
   "execution_count": 42,
   "metadata": {},
   "outputs": [],
   "source": [
    "Y = df['F12.ann_ret']"
   ]
  },
  {
   "cell_type": "code",
   "execution_count": 43,
   "metadata": {},
   "outputs": [],
   "source": [
    "model = sm.OLS(Y,X)"
   ]
  },
  {
   "cell_type": "code",
   "execution_count": 44,
   "metadata": {},
   "outputs": [],
   "source": [
    "results = model.fit()"
   ]
  },
  {
   "cell_type": "code",
   "execution_count": 45,
   "metadata": {},
   "outputs": [
    {
     "data": {
      "text/html": [
       "<table class=\"simpletable\">\n",
       "<caption>OLS Regression Results</caption>\n",
       "<tr>\n",
       "  <th>Dep. Variable:</th>       <td>F12.ann_ret</td>   <th>  R-squared:         </th> <td>   0.161</td>\n",
       "</tr>\n",
       "<tr>\n",
       "  <th>Model:</th>                   <td>OLS</td>       <th>  Adj. R-squared:    </th> <td>   0.157</td>\n",
       "</tr>\n",
       "<tr>\n",
       "  <th>Method:</th>             <td>Least Squares</td>  <th>  F-statistic:       </th> <td>   39.76</td>\n",
       "</tr>\n",
       "<tr>\n",
       "  <th>Date:</th>             <td>Fri, 08 Apr 2022</td> <th>  Prob (F-statistic):</th> <td>1.70e-09</td>\n",
       "</tr>\n",
       "<tr>\n",
       "  <th>Time:</th>                 <td>17:47:49</td>     <th>  Log-Likelihood:    </th> <td> -789.55</td>\n",
       "</tr>\n",
       "<tr>\n",
       "  <th>No. Observations:</th>      <td>   209</td>      <th>  AIC:               </th> <td>   1583.</td>\n",
       "</tr>\n",
       "<tr>\n",
       "  <th>Df Residuals:</th>          <td>   207</td>      <th>  BIC:               </th> <td>   1590.</td>\n",
       "</tr>\n",
       "<tr>\n",
       "  <th>Df Model:</th>              <td>     1</td>      <th>                     </th>     <td> </td>   \n",
       "</tr>\n",
       "<tr>\n",
       "  <th>Covariance Type:</th>      <td>nonrobust</td>    <th>                     </th>     <td> </td>   \n",
       "</tr>\n",
       "</table>\n",
       "<table class=\"simpletable\">\n",
       "<tr>\n",
       "       <td></td>          <th>coef</th>     <th>std err</th>      <th>t</th>      <th>P>|t|</th>  <th>[0.025</th>    <th>0.975]</th>  \n",
       "</tr>\n",
       "<tr>\n",
       "  <th>const</th>       <td>   53.1862</td> <td>    8.355</td> <td>    6.366</td> <td> 0.000</td> <td>   36.714</td> <td>   69.658</td>\n",
       "</tr>\n",
       "<tr>\n",
       "  <th>New Real XR</th> <td>-6.947e-05</td> <td>  1.1e-05</td> <td>   -6.306</td> <td> 0.000</td> <td>-9.12e-05</td> <td>-4.77e-05</td>\n",
       "</tr>\n",
       "</table>\n",
       "<table class=\"simpletable\">\n",
       "<tr>\n",
       "  <th>Omnibus:</th>       <td>96.487</td> <th>  Durbin-Watson:     </th> <td>   0.209</td>\n",
       "</tr>\n",
       "<tr>\n",
       "  <th>Prob(Omnibus):</th> <td> 0.000</td> <th>  Jarque-Bera (JB):  </th> <td> 451.006</td>\n",
       "</tr>\n",
       "<tr>\n",
       "  <th>Skew:</th>          <td> 1.790</td> <th>  Prob(JB):          </th> <td>1.16e-98</td>\n",
       "</tr>\n",
       "<tr>\n",
       "  <th>Kurtosis:</th>      <td> 9.242</td> <th>  Cond. No.          </th> <td>8.62e+06</td>\n",
       "</tr>\n",
       "</table><br/><br/>Warnings:<br/>[1] Standard Errors assume that the covariance matrix of the errors is correctly specified.<br/>[2] The condition number is large, 8.62e+06. This might indicate that there are<br/>strong multicollinearity or other numerical problems."
      ],
      "text/plain": [
       "<class 'statsmodels.iolib.summary.Summary'>\n",
       "\"\"\"\n",
       "                            OLS Regression Results                            \n",
       "==============================================================================\n",
       "Dep. Variable:            F12.ann_ret   R-squared:                       0.161\n",
       "Model:                            OLS   Adj. R-squared:                  0.157\n",
       "Method:                 Least Squares   F-statistic:                     39.76\n",
       "Date:                Fri, 08 Apr 2022   Prob (F-statistic):           1.70e-09\n",
       "Time:                        17:47:49   Log-Likelihood:                -789.55\n",
       "No. Observations:                 209   AIC:                             1583.\n",
       "Df Residuals:                     207   BIC:                             1590.\n",
       "Df Model:                           1                                         \n",
       "Covariance Type:            nonrobust                                         \n",
       "===============================================================================\n",
       "                  coef    std err          t      P>|t|      [0.025      0.975]\n",
       "-------------------------------------------------------------------------------\n",
       "const          53.1862      8.355      6.366      0.000      36.714      69.658\n",
       "New Real XR -6.947e-05    1.1e-05     -6.306      0.000   -9.12e-05   -4.77e-05\n",
       "==============================================================================\n",
       "Omnibus:                       96.487   Durbin-Watson:                   0.209\n",
       "Prob(Omnibus):                  0.000   Jarque-Bera (JB):              451.006\n",
       "Skew:                           1.790   Prob(JB):                     1.16e-98\n",
       "Kurtosis:                       9.242   Cond. No.                     8.62e+06\n",
       "==============================================================================\n",
       "\n",
       "Warnings:\n",
       "[1] Standard Errors assume that the covariance matrix of the errors is correctly specified.\n",
       "[2] The condition number is large, 8.62e+06. This might indicate that there are\n",
       "strong multicollinearity or other numerical problems.\n",
       "\"\"\""
      ]
     },
     "execution_count": 45,
     "metadata": {},
     "output_type": "execute_result"
    }
   ],
   "source": [
    "results.summary()"
   ]
  },
  {
   "cell_type": "markdown",
   "metadata": {},
   "source": [
    "## Forecast XR"
   ]
  },
  {
   "cell_type": "markdown",
   "metadata": {},
   "source": [
    "$$\n",
    "y = \\alpha + \\beta x\n",
    "$$"
   ]
  },
  {
   "cell_type": "markdown",
   "metadata": {},
   "source": [
    "$$\n",
    "\\text{ret}_{t, t+12} = \\alpha + \\beta \\, \\text{Real XR}_t +\\epsilon\n",
    "$$"
   ]
  },
  {
   "cell_type": "code",
   "execution_count": 46,
   "metadata": {},
   "outputs": [
    {
     "data": {
      "text/plain": [
       "const          53.186175\n",
       "New Real XR    -0.000069\n",
       "dtype: float64"
      ]
     },
     "execution_count": 46,
     "metadata": {},
     "output_type": "execute_result"
    }
   ],
   "source": [
    "results.params"
   ]
  },
  {
   "cell_type": "code",
   "execution_count": 47,
   "metadata": {},
   "outputs": [
    {
     "data": {
      "text/plain": [
       "['HC0_se',\n",
       " 'HC1_se',\n",
       " 'HC2_se',\n",
       " 'HC3_se',\n",
       " '_HCCM',\n",
       " '__class__',\n",
       " '__delattr__',\n",
       " '__dict__',\n",
       " '__dir__',\n",
       " '__doc__',\n",
       " '__eq__',\n",
       " '__format__',\n",
       " '__ge__',\n",
       " '__getattribute__',\n",
       " '__gt__',\n",
       " '__hash__',\n",
       " '__init__',\n",
       " '__init_subclass__',\n",
       " '__le__',\n",
       " '__lt__',\n",
       " '__module__',\n",
       " '__ne__',\n",
       " '__new__',\n",
       " '__reduce__',\n",
       " '__reduce_ex__',\n",
       " '__repr__',\n",
       " '__setattr__',\n",
       " '__sizeof__',\n",
       " '__str__',\n",
       " '__subclasshook__',\n",
       " '__weakref__',\n",
       " '_cache',\n",
       " '_data_attr',\n",
       " '_get_robustcov_results',\n",
       " '_is_nested',\n",
       " '_use_t',\n",
       " '_wexog_singular_values',\n",
       " 'aic',\n",
       " 'bic',\n",
       " 'bse',\n",
       " 'centered_tss',\n",
       " 'compare_f_test',\n",
       " 'compare_lm_test',\n",
       " 'compare_lr_test',\n",
       " 'condition_number',\n",
       " 'conf_int',\n",
       " 'conf_int_el',\n",
       " 'cov_HC0',\n",
       " 'cov_HC1',\n",
       " 'cov_HC2',\n",
       " 'cov_HC3',\n",
       " 'cov_kwds',\n",
       " 'cov_params',\n",
       " 'cov_type',\n",
       " 'df_model',\n",
       " 'df_resid',\n",
       " 'diagn',\n",
       " 'eigenvals',\n",
       " 'el_test',\n",
       " 'ess',\n",
       " 'f_pvalue',\n",
       " 'f_test',\n",
       " 'fittedvalues',\n",
       " 'fvalue',\n",
       " 'get_influence',\n",
       " 'get_prediction',\n",
       " 'get_robustcov_results',\n",
       " 'initialize',\n",
       " 'k_constant',\n",
       " 'llf',\n",
       " 'load',\n",
       " 'model',\n",
       " 'mse_model',\n",
       " 'mse_resid',\n",
       " 'mse_total',\n",
       " 'nobs',\n",
       " 'normalized_cov_params',\n",
       " 'outlier_test',\n",
       " 'params',\n",
       " 'predict',\n",
       " 'pvalues',\n",
       " 'remove_data',\n",
       " 'resid',\n",
       " 'resid_pearson',\n",
       " 'rsquared',\n",
       " 'rsquared_adj',\n",
       " 'save',\n",
       " 'scale',\n",
       " 'ssr',\n",
       " 'summary',\n",
       " 'summary2',\n",
       " 't_test',\n",
       " 't_test_pairwise',\n",
       " 'tvalues',\n",
       " 'uncentered_tss',\n",
       " 'use_t',\n",
       " 'wald_test',\n",
       " 'wald_test_terms',\n",
       " 'wresid']"
      ]
     },
     "execution_count": 47,
     "metadata": {},
     "output_type": "execute_result"
    }
   ],
   "source": [
    "dir(results)"
   ]
  },
  {
   "cell_type": "code",
   "execution_count": 48,
   "metadata": {},
   "outputs": [
    {
     "data": {
      "text/plain": [
       "const          53.186175\n",
       "New Real XR    -0.000069\n",
       "dtype: float64"
      ]
     },
     "execution_count": 48,
     "metadata": {},
     "output_type": "execute_result"
    }
   ],
   "source": [
    "results.params"
   ]
  },
  {
   "cell_type": "code",
   "execution_count": 49,
   "metadata": {},
   "outputs": [],
   "source": [
    "last_obs = df_merged.iloc[-1]"
   ]
  },
  {
   "cell_type": "code",
   "execution_count": 50,
   "metadata": {},
   "outputs": [],
   "source": [
    "last_xr = last_obs['KRW/CAD']\n",
    "last_year_xr = last_obs['New Real XR']"
   ]
  },
  {
   "cell_type": "code",
   "execution_count": 51,
   "metadata": {},
   "outputs": [
    {
     "data": {
      "text/plain": [
       "974.4355628000001"
      ]
     },
     "execution_count": 51,
     "metadata": {},
     "output_type": "execute_result"
    }
   ],
   "source": [
    "last_xr"
   ]
  },
  {
   "cell_type": "code",
   "execution_count": 52,
   "metadata": {},
   "outputs": [
    {
     "data": {
      "text/plain": [
       "865079.7263836993"
      ]
     },
     "execution_count": 52,
     "metadata": {},
     "output_type": "execute_result"
    }
   ],
   "source": [
    "last_year_xr"
   ]
  },
  {
   "cell_type": "code",
   "execution_count": null,
   "metadata": {},
   "outputs": [],
   "source": []
  },
  {
   "cell_type": "markdown",
   "metadata": {},
   "source": [
    "### method 1: simple , straightfoward, stupid"
   ]
  },
  {
   "cell_type": "code",
   "execution_count": 53,
   "metadata": {},
   "outputs": [],
   "source": [
    "alpha = results.params['const']\n",
    "beta = results.params['New Real XR']"
   ]
  },
  {
   "cell_type": "code",
   "execution_count": 54,
   "metadata": {},
   "outputs": [
    {
     "data": {
      "text/plain": [
       "-6.906974655760251"
      ]
     },
     "execution_count": 54,
     "metadata": {},
     "output_type": "execute_result"
    }
   ],
   "source": [
    "alpha+beta*last_year_xr"
   ]
  },
  {
   "cell_type": "markdown",
   "metadata": {},
   "source": [
    "### method 2: numpy "
   ]
  },
  {
   "cell_type": "code",
   "execution_count": 55,
   "metadata": {},
   "outputs": [],
   "source": [
    "import numpy as np"
   ]
  },
  {
   "cell_type": "code",
   "execution_count": 56,
   "metadata": {},
   "outputs": [],
   "source": [
    "exog = [1, last_year_xr]"
   ]
  },
  {
   "cell_type": "code",
   "execution_count": 57,
   "metadata": {},
   "outputs": [
    {
     "data": {
      "text/plain": [
       "-6.906974655760251"
      ]
     },
     "execution_count": 57,
     "metadata": {},
     "output_type": "execute_result"
    }
   ],
   "source": [
    "np.dot(results.params, exog)"
   ]
  },
  {
   "cell_type": "markdown",
   "metadata": {},
   "source": [
    "### method 3: predict"
   ]
  },
  {
   "cell_type": "code",
   "execution_count": 58,
   "metadata": {},
   "outputs": [
    {
     "data": {
      "text/plain": [
       "array([-6.90697466])"
      ]
     },
     "execution_count": 58,
     "metadata": {},
     "output_type": "execute_result"
    }
   ],
   "source": [
    "results.predict(exog = exog)"
   ]
  },
  {
   "cell_type": "code",
   "execution_count": 59,
   "metadata": {},
   "outputs": [
    {
     "name": "stdout",
     "output_type": "stream",
     "text": [
      "Help on method predict in module statsmodels.base.model:\n",
      "\n",
      "predict(exog=None, transform=True, *args, **kwargs) method of statsmodels.regression.linear_model.OLSResults instance\n",
      "    Call self.model.predict with self.params as the first argument.\n",
      "    \n",
      "    Parameters\n",
      "    ----------\n",
      "    exog : array_like, optional\n",
      "        The values for which you want to predict. see Notes below.\n",
      "    transform : bool, optional\n",
      "        If the model was fit via a formula, do you want to pass\n",
      "        exog through the formula. Default is True. E.g., if you fit\n",
      "        a model y ~ log(x1) + log(x2), and transform is True, then\n",
      "        you can pass a data structure that contains x1 and x2 in\n",
      "        their original form. Otherwise, you'd need to log the data\n",
      "        first.\n",
      "    *args\n",
      "        Additional arguments to pass to the model, see the\n",
      "        predict method of the model for the details.\n",
      "    **kwargs\n",
      "        Additional keywords arguments to pass to the model, see the\n",
      "        predict method of the model for the details.\n",
      "    \n",
      "    Returns\n",
      "    -------\n",
      "    array_like\n",
      "        See self.model.predict.\n",
      "    \n",
      "    Notes\n",
      "    -----\n",
      "    The types of exog that are supported depends on whether a formula\n",
      "    was used in the specification of the model.\n",
      "    \n",
      "    If a formula was used, then exog is processed in the same way as\n",
      "    the original data. This transformation needs to have key access to the\n",
      "    same variable names, and can be a pandas DataFrame or a dict like\n",
      "    object that contains numpy arrays.\n",
      "    \n",
      "    If no formula was used, then the provided exog needs to have the\n",
      "    same number of columns as the original exog in the model. No\n",
      "    transformation of the data is performed except converting it to\n",
      "    a numpy array.\n",
      "    \n",
      "    Row indices as in pandas data frames are supported, and added to the\n",
      "    returned prediction.\n",
      "\n"
     ]
    }
   ],
   "source": [
    "help(results.predict)"
   ]
  },
  {
   "cell_type": "code",
   "execution_count": null,
   "metadata": {},
   "outputs": [],
   "source": []
  },
  {
   "cell_type": "markdown",
   "metadata": {},
   "source": [
    "### confidence interval of our predictions"
   ]
  },
  {
   "cell_type": "code",
   "execution_count": 60,
   "metadata": {},
   "outputs": [],
   "source": [
    "from statsmodels.sandbox.regression.predstd import wls_prediction_std"
   ]
  },
  {
   "cell_type": "code",
   "execution_count": 61,
   "metadata": {},
   "outputs": [
    {
     "data": {
      "text/plain": [
       "(array([10.72278142]), array([-28.04683519]), array([14.23288588]))"
      ]
     },
     "execution_count": 61,
     "metadata": {},
     "output_type": "execute_result"
    }
   ],
   "source": [
    "wls_prediction_std(results, exog = exog, alpha=0.05)\n",
    "\n",
    "# alpha 0.05 >> 95% ...,,,,,,,,...\n",
    "\n",
    "# predicted stdev, interval - lower, interval - upper "
   ]
  },
  {
   "cell_type": "code",
   "execution_count": 62,
   "metadata": {},
   "outputs": [
    {
     "data": {
      "text/plain": [
       "list"
      ]
     },
     "execution_count": 62,
     "metadata": {},
     "output_type": "execute_result"
    }
   ],
   "source": [
    "type(exog)"
   ]
  },
  {
   "cell_type": "code",
   "execution_count": 63,
   "metadata": {},
   "outputs": [
    {
     "name": "stdout",
     "output_type": "stream",
     "text": [
      "Confidence interval at alpha 0.05 : -28.05 % ~ 14.23%\n",
      "Confidence interval at alpha 0.25 : -19.28 % ~ 5.46%\n",
      "Confidence interval at alpha 0.50 : -14.15 % ~ 0.34%\n"
     ]
    }
   ],
   "source": [
    "for alpha in [.05, .25, .50]:\n",
    "    prstd, iv_l, iv_u = wls_prediction_std(results, exog = exog, alpha=alpha)\n",
    "    \n",
    "    print('Confidence interval at alpha {:.2f} : {:.2f} % ~ {:.2f}%'.format( alpha, iv_l[0], iv_u[0]))"
   ]
  },
  {
   "cell_type": "code",
   "execution_count": 64,
   "metadata": {},
   "outputs": [],
   "source": [
    "pred_ret = results.predict(exog = exog )"
   ]
  },
  {
   "cell_type": "code",
   "execution_count": 65,
   "metadata": {},
   "outputs": [
    {
     "data": {
      "text/plain": [
       "907.1315454406894"
      ]
     },
     "execution_count": 65,
     "metadata": {},
     "output_type": "execute_result"
    }
   ],
   "source": [
    "last_xr * (1+pred_ret[0]/100)"
   ]
  },
  {
   "cell_type": "code",
   "execution_count": 66,
   "metadata": {},
   "outputs": [
    {
     "data": {
      "text/plain": [
       "974.4355628000001"
      ]
     },
     "execution_count": 66,
     "metadata": {},
     "output_type": "execute_result"
    }
   ],
   "source": [
    "last_xr"
   ]
  },
  {
   "cell_type": "code",
   "execution_count": 67,
   "metadata": {},
   "outputs": [
    {
     "name": "stdout",
     "output_type": "stream",
     "text": [
      "Confidence interval at alpha 0.05 : 701  ~ 1113\n",
      "Confidence interval at alpha 0.25 : 787  ~ 1028\n",
      "Confidence interval at alpha 0.50 : 837  ~ 978\n"
     ]
    }
   ],
   "source": [
    "for alpha in [.05, .25, .50]:\n",
    "    prstd, iv_l, iv_u = wls_prediction_std(results, exog = exog, alpha=alpha)\n",
    "    \n",
    "    print('Confidence interval at alpha {:.2f} : {:.0f}  ~ {:.0f}'.format( alpha, last_xr*(1+iv_l[0]/100), last_xr*(1+iv_u[0]/100)))"
   ]
  },
  {
   "cell_type": "code",
   "execution_count": null,
   "metadata": {},
   "outputs": [],
   "source": []
  }
 ],
 "metadata": {
  "kernelspec": {
   "display_name": "Python 3",
   "language": "python",
   "name": "python3"
  },
  "language_info": {
   "codemirror_mode": {
    "name": "ipython",
    "version": 3
   },
   "file_extension": ".py",
   "mimetype": "text/x-python",
   "name": "python",
   "nbconvert_exporter": "python",
   "pygments_lexer": "ipython3",
   "version": "3.7.6"
  }
 },
 "nbformat": 4,
 "nbformat_minor": 4
}
