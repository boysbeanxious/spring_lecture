{
 "cells": [
  {
   "cell_type": "markdown",
   "metadata": {},
   "source": [
    "# Excercise 2-2"
   ]
  },
  {
   "cell_type": "markdown",
   "metadata": {},
   "source": [
    "## Myokyung Han (20224230)"
   ]
  },
  {
   "cell_type": "code",
   "execution_count": 1,
   "metadata": {},
   "outputs": [],
   "source": [
    "import pandas as pd"
   ]
  },
  {
   "cell_type": "code",
   "execution_count": null,
   "metadata": {},
   "outputs": [],
   "source": []
  },
  {
   "cell_type": "markdown",
   "metadata": {},
   "source": [
    "## Write Math Equation - LaTeX"
   ]
  },
  {
   "cell_type": "markdown",
   "metadata": {},
   "source": [
    "$$\n",
    "    x+y = 3\n",
    "$$"
   ]
  },
  {
   "cell_type": "markdown",
   "metadata": {},
   "source": [
    "### 더블 달러 사인이면 끝이다!"
   ]
  },
  {
   "cell_type": "markdown",
   "metadata": {},
   "source": [
    "$$\n",
    "    x+y = 3\\\\\n",
    "    3y+z = 5\n",
    "$$"
   ]
  },
  {
   "cell_type": "markdown",
   "metadata": {},
   "source": [
    "\\begin{align}\n",
    "    x+y = 3\\\\\n",
    "    3x+y = 5\\\\\n",
    "    \\therefore x = 1 &, y = 2\n",
    "\\end{align}"
   ]
  },
  {
   "cell_type": "markdown",
   "metadata": {},
   "source": [
    "## align 하려면 &!!"
   ]
  },
  {
   "cell_type": "markdown",
   "metadata": {},
   "source": [
    "\\begin{align}\n",
    "    x+y &= 3\\\\\n",
    "    3y+z &= 5\\\\\n",
    "    \\therefore x = 1 &, y = 2\n",
    "\\end{align}"
   ]
  },
  {
   "cell_type": "markdown",
   "metadata": {},
   "source": [
    "$$\n",
    "    a x^2 + b x +c\n",
    "$$"
   ]
  },
  {
   "cell_type": "markdown",
   "metadata": {},
   "source": [
    "$$\n",
    "    a x^{t-1} + b x +c\n",
    "$$"
   ]
  },
  {
   "cell_type": "markdown",
   "metadata": {},
   "source": [
    "$$\n",
    "\\therefore x = \\frac{-b \\pm \\sqrt{b^2 -4ac}}{2a} \n",
    "$$"
   ]
  },
  {
   "cell_type": "code",
   "execution_count": null,
   "metadata": {},
   "outputs": [],
   "source": []
  },
  {
   "cell_type": "markdown",
   "metadata": {},
   "source": [
    "## Compute NPV by DCF"
   ]
  },
  {
   "cell_type": "markdown",
   "metadata": {},
   "source": [
    "* net present value\n",
    "* discounted cashflow"
   ]
  },
  {
   "cell_type": "markdown",
   "metadata": {},
   "source": [
    "$$\n",
    "    NPV = \\sum_{t=1}^T \\frac{CF_t}{(1+r)^t}\n",
    "$$"
   ]
  },
  {
   "cell_type": "markdown",
   "metadata": {},
   "source": [
    "$$\n",
    "    \\text{NPV} = \\sum_{t=1}^T \\frac{ \\text{CF}_t}{(1+r)^t}\n",
    "$$"
   ]
  },
  {
   "cell_type": "markdown",
   "metadata": {},
   "source": [
    "* Face value: $1,000\n",
    "* Maturity: 5 years\n",
    "* Coupon rate: 5\\% p.a. (per annum)\n",
    "* Coupon frequency: annual\n",
    "* Discount rate: 2\\%"
   ]
  },
  {
   "cell_type": "code",
   "execution_count": 2,
   "metadata": {},
   "outputs": [],
   "source": [
    "face = 1000\n",
    "T = 5\n",
    "c = 0.05\n",
    "r = 0.02"
   ]
  },
  {
   "cell_type": "markdown",
   "metadata": {},
   "source": [
    "### Method 1"
   ]
  },
  {
   "cell_type": "code",
   "execution_count": 3,
   "metadata": {},
   "outputs": [
    {
     "name": "stdout",
     "output_type": "stream",
     "text": [
      "1 50.0 49.01960784313725\n",
      "2 50.0 48.05843906189927\n",
      "3 50.0 47.11611672735222\n",
      "4 50.0 46.19227130132571\n",
      "5 50.0 45.28654049149579\n",
      "NPV : 1.1414e+03\n",
      "NPV : 1141.4038\n",
      "NPV : 1141.40\n"
     ]
    }
   ],
   "source": [
    "NPV = 0\n",
    "\n",
    "for t in range(1, T+1):\n",
    "    coupon = face *c\n",
    "    PV = coupon/(1+r)**t\n",
    "    print(t, coupon, PV)\n",
    "    \n",
    "    NPV = NPV+PV\n",
    "#     이렇게 처리해도 됨\n",
    "#     NPV += PV\n",
    "\n",
    "NPV+= face/(1+r)**T\n",
    "\n",
    "# f-floating number\n",
    "# e-scientic number\n",
    "\n",
    "print(\"NPV : {:.4e}\".format(NPV))\n",
    "print(\"NPV : {:.4f}\".format(NPV))\n",
    "print(\"NPV : {:.2f}\".format(NPV))"
   ]
  },
  {
   "cell_type": "markdown",
   "metadata": {},
   "source": [
    "### Method 2"
   ]
  },
  {
   "cell_type": "code",
   "execution_count": 4,
   "metadata": {},
   "outputs": [],
   "source": [
    "PVs = [face*c/(1+r)**t for t in range(1, T+1)]"
   ]
  },
  {
   "cell_type": "code",
   "execution_count": 5,
   "metadata": {},
   "outputs": [],
   "source": [
    "NPV_short = sum(PVs)+(face/(1+r)**T)"
   ]
  },
  {
   "cell_type": "code",
   "execution_count": 6,
   "metadata": {},
   "outputs": [
    {
     "name": "stdout",
     "output_type": "stream",
     "text": [
      "NPV_short : 1141.4038\n"
     ]
    }
   ],
   "source": [
    "print(\"NPV_short : {:.4f}\".format(NPV_short))"
   ]
  },
  {
   "cell_type": "markdown",
   "metadata": {},
   "source": [
    "* IRR  \n",
    "Internal rate in return "
   ]
  },
  {
   "cell_type": "markdown",
   "metadata": {},
   "source": [
    "### numerical solution??????????????????????????????????????\n",
    "* 답을 찾을때까지 수행한다"
   ]
  },
  {
   "cell_type": "markdown",
   "metadata": {},
   "source": [
    "### Find IRR"
   ]
  },
  {
   "cell_type": "markdown",
   "metadata": {},
   "source": [
    "* Face value: \\$1,000\n",
    "* Maturity: 5 years\n",
    "* Coupon rate: 5\\% p.a. (per annum)\n",
    "* Coupon frequency: annual\n",
    "* Market price: \\$1,130"
   ]
  },
  {
   "cell_type": "code",
   "execution_count": 7,
   "metadata": {},
   "outputs": [],
   "source": [
    "face = 1000\n",
    "T = 5\n",
    "c = 0.05\n",
    "price = 1130"
   ]
  },
  {
   "cell_type": "code",
   "execution_count": 8,
   "metadata": {},
   "outputs": [],
   "source": [
    "# define a funtino for reusability \n",
    "def compute_npv(r):\n",
    "    PVs = [face*c/(1+r)**t for t in range(1, T+1)]\n",
    "    NPV_short = sum(PVs)+(face/(1+r)**T)\n",
    "    return NPV_short"
   ]
  },
  {
   "cell_type": "code",
   "execution_count": 9,
   "metadata": {},
   "outputs": [
    {
     "data": {
      "text/plain": [
       "1141.4037852551262"
      ]
     },
     "execution_count": 9,
     "metadata": {},
     "output_type": "execute_result"
    }
   ],
   "source": [
    "compute_npv(0.02)"
   ]
  },
  {
   "cell_type": "code",
   "execution_count": 10,
   "metadata": {
    "scrolled": true
   },
   "outputs": [
    {
     "name": "stdout",
     "output_type": "stream",
     "text": [
      "NPV ar r = 2.0%:, 1141.40\n",
      "NPV ar r = 3.0%:, 1091.59\n",
      "NPV ar r = 5.0%:, 1000.00\n"
     ]
    }
   ],
   "source": [
    "for r in [.02, .03, .05]:\n",
    "    npv = compute_npv(r)\n",
    "    print(\"NPV ar r = {}%:, {:.2f}\".format(r *100, npv))\n",
    "\n",
    "# r과 npv는 역함수관계이다\n",
    "# NPV ar r = 2.0%:, 1141.40\n",
    "# NPV ar r = 3.0%:, 1091.59\n",
    "# 위 두개 사이에 r이 존재한다.... "
   ]
  },
  {
   "cell_type": "code",
   "execution_count": null,
   "metadata": {},
   "outputs": [],
   "source": []
  },
  {
   "cell_type": "code",
   "execution_count": 11,
   "metadata": {},
   "outputs": [],
   "source": [
    "from scipy import optimize"
   ]
  },
  {
   "cell_type": "code",
   "execution_count": 12,
   "metadata": {},
   "outputs": [],
   "source": [
    "def error(r):\n",
    "    return price-compute_npv(r)"
   ]
  },
  {
   "cell_type": "code",
   "execution_count": 14,
   "metadata": {},
   "outputs": [],
   "source": [
    "# https://scipy.github.io/devdocs/reference/generated/scipy.optimize.root_scalar.html?highlight=root_scalar#scipy.optimize.root_scalar\n",
    "sol = optimize.root_scalar(error, bracket=[0.02, 0.03])\n"
   ]
  },
  {
   "cell_type": "code",
   "execution_count": 18,
   "metadata": {},
   "outputs": [
    {
     "name": "stdout",
     "output_type": "stream",
     "text": [
      "Solution : 2.2240%\n"
     ]
    }
   ],
   "source": [
    "print(\"Solution : {:.4f}%\".format(sol.root*100))"
   ]
  },
  {
   "cell_type": "code",
   "execution_count": 21,
   "metadata": {},
   "outputs": [
    {
     "data": {
      "text/plain": [
       "1130.0000000017353"
      ]
     },
     "execution_count": 21,
     "metadata": {},
     "output_type": "execute_result"
    }
   ],
   "source": [
    "compute_npv(sol.root)"
   ]
  },
  {
   "cell_type": "code",
   "execution_count": 22,
   "metadata": {},
   "outputs": [
    {
     "data": {
      "text/plain": [
       "-1.735315890982747e-09"
      ]
     },
     "execution_count": 22,
     "metadata": {},
     "output_type": "execute_result"
    }
   ],
   "source": [
    "error(sol.root)"
   ]
  },
  {
   "cell_type": "code",
   "execution_count": 16,
   "metadata": {},
   "outputs": [
    {
     "data": {
      "text/plain": [
       "scipy.optimize.zeros.RootResults"
      ]
     },
     "execution_count": 16,
     "metadata": {},
     "output_type": "execute_result"
    }
   ],
   "source": [
    "type(sol)"
   ]
  },
  {
   "cell_type": "code",
   "execution_count": 20,
   "metadata": {},
   "outputs": [
    {
     "name": "stdout",
     "output_type": "stream",
     "text": [
      "Help on class RootResults in module scipy.optimize.zeros:\n",
      "\n",
      "class RootResults(builtins.object)\n",
      " |  RootResults(root, iterations, function_calls, flag)\n",
      " |  \n",
      " |  Represents the root finding result.\n",
      " |  \n",
      " |  Attributes\n",
      " |  ----------\n",
      " |  root : float\n",
      " |      Estimated root location.\n",
      " |  iterations : int\n",
      " |      Number of iterations needed to find the root.\n",
      " |  function_calls : int\n",
      " |      Number of times the function was called.\n",
      " |  converged : bool\n",
      " |      True if the routine converged.\n",
      " |  flag : str\n",
      " |      Description of the cause of termination.\n",
      " |  \n",
      " |  Methods defined here:\n",
      " |  \n",
      " |  __init__(self, root, iterations, function_calls, flag)\n",
      " |      Initialize self.  See help(type(self)) for accurate signature.\n",
      " |  \n",
      " |  __repr__(self)\n",
      " |      Return repr(self).\n",
      " |  \n",
      " |  ----------------------------------------------------------------------\n",
      " |  Data descriptors defined here:\n",
      " |  \n",
      " |  __dict__\n",
      " |      dictionary for instance variables (if defined)\n",
      " |  \n",
      " |  __weakref__\n",
      " |      list of weak references to the object (if defined)\n",
      "\n"
     ]
    }
   ],
   "source": [
    "help(optimize.zeros.RootResults)"
   ]
  },
  {
   "cell_type": "markdown",
   "metadata": {},
   "source": [
    "## Draw a graph about the relation between NPV and discount rate "
   ]
  },
  {
   "cell_type": "code",
   "execution_count": 23,
   "metadata": {},
   "outputs": [],
   "source": [
    "import matplotlib.pyplot as plt"
   ]
  },
  {
   "cell_type": "code",
   "execution_count": 35,
   "metadata": {},
   "outputs": [],
   "source": [
    "min_ytm = 0\n",
    "max_ytem = 0.10\n",
    "steps = 100"
   ]
  },
  {
   "cell_type": "code",
   "execution_count": 36,
   "metadata": {},
   "outputs": [],
   "source": [
    "incr = (max_ytem-min_ytm)/steps"
   ]
  },
  {
   "cell_type": "code",
   "execution_count": 37,
   "metadata": {},
   "outputs": [],
   "source": [
    "ytm = [min_ytm + incr * x for x in range(steps)]"
   ]
  },
  {
   "cell_type": "code",
   "execution_count": 38,
   "metadata": {},
   "outputs": [
    {
     "data": {
      "text/plain": [
       "[0.0,\n",
       " 0.001,\n",
       " 0.002,\n",
       " 0.003,\n",
       " 0.004,\n",
       " 0.005,\n",
       " 0.006,\n",
       " 0.007,\n",
       " 0.008,\n",
       " 0.009000000000000001,\n",
       " 0.01,\n",
       " 0.011,\n",
       " 0.012,\n",
       " 0.013000000000000001,\n",
       " 0.014,\n",
       " 0.015,\n",
       " 0.016,\n",
       " 0.017,\n",
       " 0.018000000000000002,\n",
       " 0.019,\n",
       " 0.02,\n",
       " 0.021,\n",
       " 0.022,\n",
       " 0.023,\n",
       " 0.024,\n",
       " 0.025,\n",
       " 0.026000000000000002,\n",
       " 0.027,\n",
       " 0.028,\n",
       " 0.029,\n",
       " 0.03,\n",
       " 0.031,\n",
       " 0.032,\n",
       " 0.033,\n",
       " 0.034,\n",
       " 0.035,\n",
       " 0.036000000000000004,\n",
       " 0.037,\n",
       " 0.038,\n",
       " 0.039,\n",
       " 0.04,\n",
       " 0.041,\n",
       " 0.042,\n",
       " 0.043000000000000003,\n",
       " 0.044,\n",
       " 0.045,\n",
       " 0.046,\n",
       " 0.047,\n",
       " 0.048,\n",
       " 0.049,\n",
       " 0.05,\n",
       " 0.051000000000000004,\n",
       " 0.052000000000000005,\n",
       " 0.053,\n",
       " 0.054,\n",
       " 0.055,\n",
       " 0.056,\n",
       " 0.057,\n",
       " 0.058,\n",
       " 0.059000000000000004,\n",
       " 0.06,\n",
       " 0.061,\n",
       " 0.062,\n",
       " 0.063,\n",
       " 0.064,\n",
       " 0.065,\n",
       " 0.066,\n",
       " 0.067,\n",
       " 0.068,\n",
       " 0.069,\n",
       " 0.07,\n",
       " 0.07100000000000001,\n",
       " 0.07200000000000001,\n",
       " 0.073,\n",
       " 0.074,\n",
       " 0.075,\n",
       " 0.076,\n",
       " 0.077,\n",
       " 0.078,\n",
       " 0.079,\n",
       " 0.08,\n",
       " 0.081,\n",
       " 0.082,\n",
       " 0.083,\n",
       " 0.084,\n",
       " 0.085,\n",
       " 0.08600000000000001,\n",
       " 0.08700000000000001,\n",
       " 0.088,\n",
       " 0.089,\n",
       " 0.09,\n",
       " 0.091,\n",
       " 0.092,\n",
       " 0.093,\n",
       " 0.094,\n",
       " 0.095,\n",
       " 0.096,\n",
       " 0.097,\n",
       " 0.098,\n",
       " 0.099]"
      ]
     },
     "execution_count": 38,
     "metadata": {},
     "output_type": "execute_result"
    }
   ],
   "source": [
    "# ytm"
   ]
  },
  {
   "cell_type": "code",
   "execution_count": 39,
   "metadata": {},
   "outputs": [],
   "source": [
    "import numpy as np"
   ]
  },
  {
   "cell_type": "code",
   "execution_count": 41,
   "metadata": {},
   "outputs": [],
   "source": [
    "ytm = np.arange(min_ytm, max_ytem, incr)"
   ]
  },
  {
   "cell_type": "code",
   "execution_count": 42,
   "metadata": {},
   "outputs": [],
   "source": [
    "npv = [compute_npv(x) for x in ytm]"
   ]
  },
  {
   "cell_type": "code",
   "execution_count": 44,
   "metadata": {},
   "outputs": [
    {
     "data": {
      "text/plain": [
       "[1250.0,\n",
       " 1244.2667115761644,\n",
       " 1238.5666932164465,\n",
       " 1232.8997166472955,\n",
       " 1227.265555393946,\n",
       " 1221.6639847644497,\n",
       " 1216.0947818338452,\n",
       " 1210.5577254285035,\n",
       " 1205.0525961106082,\n",
       " 1199.5791761628093,\n",
       " 1194.1372495730047,\n",
       " 1188.7266020192967,\n",
       " 1183.3470208550702,\n",
       " 1177.9982950942433,\n",
       " 1172.6802153966362,\n",
       " 1167.3925740535087,\n",
       " 1162.135164973216,\n",
       " 1156.9077836670256,\n",
       " 1151.7102272350523,\n",
       " 1146.5422943523517,\n",
       " 1141.4037852551262,\n",
       " 1136.2945017270883,\n",
       " 1131.2142470859362,\n",
       " 1126.1628261699766,\n",
       " 1121.1400453248643,\n",
       " 1116.1457123904836,\n",
       " 1111.1796366879414,\n",
       " 1106.2416290067033,\n",
       " 1101.3315015918356,\n",
       " 1096.4490681313905,\n",
       " 1091.5941437438908,\n",
       " 1086.766544965958,\n",
       " 1081.9660897400393,\n",
       " 1077.1925974022697,\n",
       " 1072.4458886704338,\n",
       " 1067.7257856320616,\n",
       " 1063.0321117326198,\n",
       " 1058.3646917638341,\n",
       " 1053.7233518521055,\n",
       " 1049.107919447055,\n",
       " 1044.5182233101618,\n",
       " 1039.9540935035236,\n",
       " 1035.415361378711,\n",
       " 1030.9018595657415,\n",
       " 1026.4134219621446,\n",
       " 1021.9498837221465,\n",
       " 1017.5110812459388,\n",
       " 1013.0968521690688,\n",
       " 1008.7070353519123,\n",
       " 1004.3414708692621,\n",
       " 999.9999999999998,\n",
       " 995.6824652168806,\n",
       " 991.3887101763987,\n",
       " 987.1185797087646,\n",
       " 982.8719198079605,\n",
       " 978.6485776219047,\n",
       " 974.448401442695,\n",
       " 970.2712406969558,\n",
       " 966.1169459362648,\n",
       " 961.9853688276793,\n",
       " 957.8763621443427,\n",
       " 953.7897797561875,\n",
       " 949.7254766207151,\n",
       " 945.6833087738739,\n",
       " 941.6631333210098,\n",
       " 937.6648084279129,\n",
       " 933.6881933119363,\n",
       " 929.7331482332103,\n",
       " 925.7995344859239,\n",
       " 921.8872143897017,\n",
       " 917.9960512810479,\n",
       " 914.1259095048811,\n",
       " 910.2766544061367,\n",
       " 906.448152321458,\n",
       " 902.640270570953,\n",
       " 898.8528774500388,\n",
       " 895.0858422213491,\n",
       " 891.339035106729,\n",
       " 887.6123272792911,\n",
       " 883.9055908555565,\n",
       " 880.2186988876571,\n",
       " 876.5515253556205,\n",
       " 872.9039451597138,\n",
       " 869.2758341128699,\n",
       " 865.6670689331712,\n",
       " 862.0775272364151,\n",
       " 858.5070875287322,\n",
       " 854.9556291992885,\n",
       " 851.4230325130385,\n",
       " 847.9091786035583,\n",
       " 844.4139494659311,\n",
       " 840.9372279497104,\n",
       " 837.4788977519345,\n",
       " 834.0388434102163,\n",
       " 830.6169502958842,\n",
       " 827.2131046071975,\n",
       " 823.827193362611,\n",
       " 820.4591043941114,\n",
       " 817.1087263406047,\n",
       " 813.7759486413726]"
      ]
     },
     "execution_count": 44,
     "metadata": {},
     "output_type": "execute_result"
    }
   ],
   "source": [
    "npv"
   ]
  },
  {
   "cell_type": "code",
   "execution_count": 46,
   "metadata": {},
   "outputs": [
    {
     "data": {
      "image/png": "[encoded data removed]",
      "text/plain": [
       "<Figure size 432x288 with 1 Axes>"
      ]
     },
     "metadata": {
      "needs_background": "light"
     },
     "output_type": "display_data"
    }
   ],
   "source": [
    "plt.plot(ytm, npv)\n",
    "plt.xlabel('YTM')\n",
    "plt.ylabel('NPV')\n",
    "plt.show()"
   ]
  },
  {
   "cell_type": "code",
   "execution_count": 53,
   "metadata": {},
   "outputs": [
    {
     "data": {
      "image/png": "[encoded data removed]",
      "text/plain": [
       "<Figure size 432x288 with 1 Axes>"
      ]
     },
     "metadata": {
      "needs_background": "light"
     },
     "output_type": "display_data"
    }
   ],
   "source": [
    "plt.plot(ytm, npv)\n",
    "plt.plot([0,.1], [1000, 1000], linestyle='dashed', label='NPV = face value')\n",
    "plt.plot([0.05, 0.05], [800, 1300], linestyle='dashed', label='YTM = cupon rate')\n",
    "plt.xlabel('YTM')\n",
    "plt.ylabel('NPV')\n",
    "plt.legend()\n",
    "plt.show()"
   ]
  },
  {
   "cell_type": "code",
   "execution_count": null,
   "metadata": {},
   "outputs": [],
   "source": []
  }
 ],
 "metadata": {
  "kernelspec": {
   "display_name": "Python 3",
   "language": "python",
   "name": "python3"
  },
  "language_info": {
   "codemirror_mode": {
    "name": "ipython",
    "version": 3
   },
   "file_extension": ".py",
   "mimetype": "text/x-python",
   "name": "python",
   "nbconvert_exporter": "python",
   "pygments_lexer": "ipython3",
   "version": "3.7.6"
  }
 },
 "nbformat": 4,
 "nbformat_minor": 4
}
