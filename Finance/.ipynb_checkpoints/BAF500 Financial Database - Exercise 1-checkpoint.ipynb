{
 "cells": [
  {
   "cell_type": "markdown",
   "metadata": {},
   "source": [
    "# BAF500 Financial Database - Exercise 1"
   ]
  },
  {
   "cell_type": "markdown",
   "metadata": {},
   "source": [
    "## Myokyung Han(Student ID : 20224230)"
   ]
  },
  {
   "cell_type": "markdown",
   "metadata": {},
   "source": [
    "### 1. Data Download"
   ]
  },
  {
   "cell_type": "markdown",
   "metadata": {},
   "source": [
    "### 2. Data Loading"
   ]
  },
  {
   "cell_type": "code",
   "execution_count": 1,
   "metadata": {},
   "outputs": [],
   "source": [
    "import pandas as pd"
   ]
  },
  {
   "cell_type": "code",
   "execution_count": 2,
   "metadata": {},
   "outputs": [
    {
     "data": {
      "text/html": [
       "<div>\n",
       "<style scoped>\n",
       "    .dataframe tbody tr th:only-of-type {\n",
       "        vertical-align: middle;\n",
       "    }\n",
       "\n",
       "    .dataframe tbody tr th {\n",
       "        vertical-align: top;\n",
       "    }\n",
       "\n",
       "    .dataframe thead th {\n",
       "        text-align: right;\n",
       "    }\n",
       "</style>\n",
       "<table border=\"1\" class=\"dataframe\">\n",
       "  <thead>\n",
       "    <tr style=\"text-align: right;\">\n",
       "      <th></th>\n",
       "      <th>Unnamed: 0</th>\n",
       "      <th>Unnamed: 1</th>\n",
       "      <th>Unnamed: 2</th>\n",
       "      <th>Unnamed: 3</th>\n",
       "    </tr>\n",
       "  </thead>\n",
       "  <tbody>\n",
       "    <tr>\n",
       "      <th>0</th>\n",
       "      <td>날짜</td>\n",
       "      <td>종목코드</td>\n",
       "      <td>기업명</td>\n",
       "      <td>주가 2000-2022</td>\n",
       "    </tr>\n",
       "    <tr>\n",
       "      <th>1</th>\n",
       "      <td>2000-01-04T00:00:00</td>\n",
       "      <td>KRX:005930</td>\n",
       "      <td>삼성전자</td>\n",
       "      <td>6110</td>\n",
       "    </tr>\n",
       "    <tr>\n",
       "      <th>2</th>\n",
       "      <td>2000-01-05T00:00:00</td>\n",
       "      <td>KRX:005930</td>\n",
       "      <td>삼성전자</td>\n",
       "      <td>5580</td>\n",
       "    </tr>\n",
       "    <tr>\n",
       "      <th>3</th>\n",
       "      <td>2000-01-06T00:00:00</td>\n",
       "      <td>KRX:005930</td>\n",
       "      <td>삼성전자</td>\n",
       "      <td>5620</td>\n",
       "    </tr>\n",
       "    <tr>\n",
       "      <th>4</th>\n",
       "      <td>2000-01-07T00:00:00</td>\n",
       "      <td>KRX:005930</td>\n",
       "      <td>삼성전자</td>\n",
       "      <td>5540</td>\n",
       "    </tr>\n",
       "    <tr>\n",
       "      <th>...</th>\n",
       "      <td>...</td>\n",
       "      <td>...</td>\n",
       "      <td>...</td>\n",
       "      <td>...</td>\n",
       "    </tr>\n",
       "    <tr>\n",
       "      <th>5468</th>\n",
       "      <td>2022-02-24T00:00:00</td>\n",
       "      <td>KRX:005930</td>\n",
       "      <td>삼성전자</td>\n",
       "      <td>71500</td>\n",
       "    </tr>\n",
       "    <tr>\n",
       "      <th>5469</th>\n",
       "      <td>2022-02-25T00:00:00</td>\n",
       "      <td>KRX:005930</td>\n",
       "      <td>삼성전자</td>\n",
       "      <td>71900</td>\n",
       "    </tr>\n",
       "    <tr>\n",
       "      <th>5470</th>\n",
       "      <td>2022-02-28T00:00:00</td>\n",
       "      <td>KRX:005930</td>\n",
       "      <td>삼성전자</td>\n",
       "      <td>72100</td>\n",
       "    </tr>\n",
       "    <tr>\n",
       "      <th>5471</th>\n",
       "      <td>2022-03-02T00:00:00</td>\n",
       "      <td>KRX:005930</td>\n",
       "      <td>삼성전자</td>\n",
       "      <td>72000</td>\n",
       "    </tr>\n",
       "    <tr>\n",
       "      <th>5472</th>\n",
       "      <td>2022-03-03T00:00:00</td>\n",
       "      <td>KRX:005930</td>\n",
       "      <td>삼성전자</td>\n",
       "      <td>72800</td>\n",
       "    </tr>\n",
       "  </tbody>\n",
       "</table>\n",
       "<p>5473 rows × 4 columns</p>\n",
       "</div>"
      ],
      "text/plain": [
       "               Unnamed: 0  Unnamed: 1 Unnamed: 2    Unnamed: 3\n",
       "0                      날짜        종목코드        기업명  주가 2000-2022\n",
       "1     2000-01-04T00:00:00  KRX:005930       삼성전자          6110\n",
       "2     2000-01-05T00:00:00  KRX:005930       삼성전자          5580\n",
       "3     2000-01-06T00:00:00  KRX:005930       삼성전자          5620\n",
       "4     2000-01-07T00:00:00  KRX:005930       삼성전자          5540\n",
       "...                   ...         ...        ...           ...\n",
       "5468  2022-02-24T00:00:00  KRX:005930       삼성전자         71500\n",
       "5469  2022-02-25T00:00:00  KRX:005930       삼성전자         71900\n",
       "5470  2022-02-28T00:00:00  KRX:005930       삼성전자         72100\n",
       "5471  2022-03-02T00:00:00  KRX:005930       삼성전자         72000\n",
       "5472  2022-03-03T00:00:00  KRX:005930       삼성전자         72800\n",
       "\n",
       "[5473 rows x 4 columns]"
      ]
     },
     "execution_count": 2,
     "metadata": {},
     "output_type": "execute_result"
    }
   ],
   "source": [
    "pd.read_excel('./data/samsung_stock_price.xlsx')"
   ]
  },
  {
   "cell_type": "code",
   "execution_count": 3,
   "metadata": {},
   "outputs": [
    {
     "data": {
      "text/html": [
       "<div>\n",
       "<style scoped>\n",
       "    .dataframe tbody tr th:only-of-type {\n",
       "        vertical-align: middle;\n",
       "    }\n",
       "\n",
       "    .dataframe tbody tr th {\n",
       "        vertical-align: top;\n",
       "    }\n",
       "\n",
       "    .dataframe thead th {\n",
       "        text-align: right;\n",
       "    }\n",
       "</style>\n",
       "<table border=\"1\" class=\"dataframe\">\n",
       "  <thead>\n",
       "    <tr style=\"text-align: right;\">\n",
       "      <th></th>\n",
       "      <th>날짜</th>\n",
       "      <th>종목코드</th>\n",
       "      <th>기업명</th>\n",
       "      <th>주가 2000-2022</th>\n",
       "    </tr>\n",
       "  </thead>\n",
       "  <tbody>\n",
       "    <tr>\n",
       "      <th>0</th>\n",
       "      <td>2000-01-04T00:00:00</td>\n",
       "      <td>KRX:005930</td>\n",
       "      <td>삼성전자</td>\n",
       "      <td>6110</td>\n",
       "    </tr>\n",
       "    <tr>\n",
       "      <th>1</th>\n",
       "      <td>2000-01-05T00:00:00</td>\n",
       "      <td>KRX:005930</td>\n",
       "      <td>삼성전자</td>\n",
       "      <td>5580</td>\n",
       "    </tr>\n",
       "    <tr>\n",
       "      <th>2</th>\n",
       "      <td>2000-01-06T00:00:00</td>\n",
       "      <td>KRX:005930</td>\n",
       "      <td>삼성전자</td>\n",
       "      <td>5620</td>\n",
       "    </tr>\n",
       "    <tr>\n",
       "      <th>3</th>\n",
       "      <td>2000-01-07T00:00:00</td>\n",
       "      <td>KRX:005930</td>\n",
       "      <td>삼성전자</td>\n",
       "      <td>5540</td>\n",
       "    </tr>\n",
       "    <tr>\n",
       "      <th>4</th>\n",
       "      <td>2000-01-10T00:00:00</td>\n",
       "      <td>KRX:005930</td>\n",
       "      <td>삼성전자</td>\n",
       "      <td>5770</td>\n",
       "    </tr>\n",
       "    <tr>\n",
       "      <th>...</th>\n",
       "      <td>...</td>\n",
       "      <td>...</td>\n",
       "      <td>...</td>\n",
       "      <td>...</td>\n",
       "    </tr>\n",
       "    <tr>\n",
       "      <th>5467</th>\n",
       "      <td>2022-02-24T00:00:00</td>\n",
       "      <td>KRX:005930</td>\n",
       "      <td>삼성전자</td>\n",
       "      <td>71500</td>\n",
       "    </tr>\n",
       "    <tr>\n",
       "      <th>5468</th>\n",
       "      <td>2022-02-25T00:00:00</td>\n",
       "      <td>KRX:005930</td>\n",
       "      <td>삼성전자</td>\n",
       "      <td>71900</td>\n",
       "    </tr>\n",
       "    <tr>\n",
       "      <th>5469</th>\n",
       "      <td>2022-02-28T00:00:00</td>\n",
       "      <td>KRX:005930</td>\n",
       "      <td>삼성전자</td>\n",
       "      <td>72100</td>\n",
       "    </tr>\n",
       "    <tr>\n",
       "      <th>5470</th>\n",
       "      <td>2022-03-02T00:00:00</td>\n",
       "      <td>KRX:005930</td>\n",
       "      <td>삼성전자</td>\n",
       "      <td>72000</td>\n",
       "    </tr>\n",
       "    <tr>\n",
       "      <th>5471</th>\n",
       "      <td>2022-03-03T00:00:00</td>\n",
       "      <td>KRX:005930</td>\n",
       "      <td>삼성전자</td>\n",
       "      <td>72800</td>\n",
       "    </tr>\n",
       "  </tbody>\n",
       "</table>\n",
       "<p>5472 rows × 4 columns</p>\n",
       "</div>"
      ],
      "text/plain": [
       "                       날짜        종목코드   기업명  주가 2000-2022\n",
       "0     2000-01-04T00:00:00  KRX:005930  삼성전자          6110\n",
       "1     2000-01-05T00:00:00  KRX:005930  삼성전자          5580\n",
       "2     2000-01-06T00:00:00  KRX:005930  삼성전자          5620\n",
       "3     2000-01-07T00:00:00  KRX:005930  삼성전자          5540\n",
       "4     2000-01-10T00:00:00  KRX:005930  삼성전자          5770\n",
       "...                   ...         ...   ...           ...\n",
       "5467  2022-02-24T00:00:00  KRX:005930  삼성전자         71500\n",
       "5468  2022-02-25T00:00:00  KRX:005930  삼성전자         71900\n",
       "5469  2022-02-28T00:00:00  KRX:005930  삼성전자         72100\n",
       "5470  2022-03-02T00:00:00  KRX:005930  삼성전자         72000\n",
       "5471  2022-03-03T00:00:00  KRX:005930  삼성전자         72800\n",
       "\n",
       "[5472 rows x 4 columns]"
      ]
     },
     "execution_count": 3,
     "metadata": {},
     "output_type": "execute_result"
    }
   ],
   "source": [
    "pd.read_excel('./data/samsung_stock_price.xlsx', skiprows=1)"
   ]
  },
  {
   "cell_type": "code",
   "execution_count": 4,
   "metadata": {},
   "outputs": [],
   "source": [
    "df_samsung = pd.read_excel('./data/samsung_stock_price.xlsx', skiprows=1)"
   ]
  },
  {
   "cell_type": "code",
   "execution_count": 5,
   "metadata": {},
   "outputs": [
    {
     "data": {
      "text/html": [
       "<div>\n",
       "<style scoped>\n",
       "    .dataframe tbody tr th:only-of-type {\n",
       "        vertical-align: middle;\n",
       "    }\n",
       "\n",
       "    .dataframe tbody tr th {\n",
       "        vertical-align: top;\n",
       "    }\n",
       "\n",
       "    .dataframe thead th {\n",
       "        text-align: right;\n",
       "    }\n",
       "</style>\n",
       "<table border=\"1\" class=\"dataframe\">\n",
       "  <thead>\n",
       "    <tr style=\"text-align: right;\">\n",
       "      <th></th>\n",
       "      <th>날짜</th>\n",
       "      <th>종목코드</th>\n",
       "      <th>기업명</th>\n",
       "      <th>주가 2000-2022</th>\n",
       "    </tr>\n",
       "  </thead>\n",
       "  <tbody>\n",
       "    <tr>\n",
       "      <th>0</th>\n",
       "      <td>2000-01-04T00:00:00</td>\n",
       "      <td>KRX:005930</td>\n",
       "      <td>삼성전자</td>\n",
       "      <td>6110</td>\n",
       "    </tr>\n",
       "    <tr>\n",
       "      <th>1</th>\n",
       "      <td>2000-01-05T00:00:00</td>\n",
       "      <td>KRX:005930</td>\n",
       "      <td>삼성전자</td>\n",
       "      <td>5580</td>\n",
       "    </tr>\n",
       "    <tr>\n",
       "      <th>2</th>\n",
       "      <td>2000-01-06T00:00:00</td>\n",
       "      <td>KRX:005930</td>\n",
       "      <td>삼성전자</td>\n",
       "      <td>5620</td>\n",
       "    </tr>\n",
       "    <tr>\n",
       "      <th>3</th>\n",
       "      <td>2000-01-07T00:00:00</td>\n",
       "      <td>KRX:005930</td>\n",
       "      <td>삼성전자</td>\n",
       "      <td>5540</td>\n",
       "    </tr>\n",
       "    <tr>\n",
       "      <th>4</th>\n",
       "      <td>2000-01-10T00:00:00</td>\n",
       "      <td>KRX:005930</td>\n",
       "      <td>삼성전자</td>\n",
       "      <td>5770</td>\n",
       "    </tr>\n",
       "  </tbody>\n",
       "</table>\n",
       "</div>"
      ],
      "text/plain": [
       "                    날짜        종목코드   기업명  주가 2000-2022\n",
       "0  2000-01-04T00:00:00  KRX:005930  삼성전자          6110\n",
       "1  2000-01-05T00:00:00  KRX:005930  삼성전자          5580\n",
       "2  2000-01-06T00:00:00  KRX:005930  삼성전자          5620\n",
       "3  2000-01-07T00:00:00  KRX:005930  삼성전자          5540\n",
       "4  2000-01-10T00:00:00  KRX:005930  삼성전자          5770"
      ]
     },
     "execution_count": 5,
     "metadata": {},
     "output_type": "execute_result"
    }
   ],
   "source": [
    "df_samsung.head()"
   ]
  },
  {
   "cell_type": "code",
   "execution_count": 6,
   "metadata": {},
   "outputs": [
    {
     "data": {
      "text/html": [
       "<div>\n",
       "<style scoped>\n",
       "    .dataframe tbody tr th:only-of-type {\n",
       "        vertical-align: middle;\n",
       "    }\n",
       "\n",
       "    .dataframe tbody tr th {\n",
       "        vertical-align: top;\n",
       "    }\n",
       "\n",
       "    .dataframe thead th {\n",
       "        text-align: right;\n",
       "    }\n",
       "</style>\n",
       "<table border=\"1\" class=\"dataframe\">\n",
       "  <thead>\n",
       "    <tr style=\"text-align: right;\">\n",
       "      <th></th>\n",
       "      <th>날짜</th>\n",
       "      <th>종목코드</th>\n",
       "      <th>기업명</th>\n",
       "      <th>주가 2000-2022</th>\n",
       "    </tr>\n",
       "  </thead>\n",
       "  <tbody>\n",
       "    <tr>\n",
       "      <th>5467</th>\n",
       "      <td>2022-02-24T00:00:00</td>\n",
       "      <td>KRX:005930</td>\n",
       "      <td>삼성전자</td>\n",
       "      <td>71500</td>\n",
       "    </tr>\n",
       "    <tr>\n",
       "      <th>5468</th>\n",
       "      <td>2022-02-25T00:00:00</td>\n",
       "      <td>KRX:005930</td>\n",
       "      <td>삼성전자</td>\n",
       "      <td>71900</td>\n",
       "    </tr>\n",
       "    <tr>\n",
       "      <th>5469</th>\n",
       "      <td>2022-02-28T00:00:00</td>\n",
       "      <td>KRX:005930</td>\n",
       "      <td>삼성전자</td>\n",
       "      <td>72100</td>\n",
       "    </tr>\n",
       "    <tr>\n",
       "      <th>5470</th>\n",
       "      <td>2022-03-02T00:00:00</td>\n",
       "      <td>KRX:005930</td>\n",
       "      <td>삼성전자</td>\n",
       "      <td>72000</td>\n",
       "    </tr>\n",
       "    <tr>\n",
       "      <th>5471</th>\n",
       "      <td>2022-03-03T00:00:00</td>\n",
       "      <td>KRX:005930</td>\n",
       "      <td>삼성전자</td>\n",
       "      <td>72800</td>\n",
       "    </tr>\n",
       "  </tbody>\n",
       "</table>\n",
       "</div>"
      ],
      "text/plain": [
       "                       날짜        종목코드   기업명  주가 2000-2022\n",
       "5467  2022-02-24T00:00:00  KRX:005930  삼성전자         71500\n",
       "5468  2022-02-25T00:00:00  KRX:005930  삼성전자         71900\n",
       "5469  2022-02-28T00:00:00  KRX:005930  삼성전자         72100\n",
       "5470  2022-03-02T00:00:00  KRX:005930  삼성전자         72000\n",
       "5471  2022-03-03T00:00:00  KRX:005930  삼성전자         72800"
      ]
     },
     "execution_count": 6,
     "metadata": {},
     "output_type": "execute_result"
    }
   ],
   "source": [
    "df_samsung.tail()"
   ]
  },
  {
   "cell_type": "code",
   "execution_count": 7,
   "metadata": {},
   "outputs": [
    {
     "name": "stdout",
     "output_type": "stream",
     "text": [
      "<class 'pandas.core.frame.DataFrame'>\n",
      "RangeIndex: 5472 entries, 0 to 5471\n",
      "Data columns (total 4 columns):\n",
      " #   Column        Non-Null Count  Dtype \n",
      "---  ------        --------------  ----- \n",
      " 0   날짜            5472 non-null   object\n",
      " 1   종목코드          5472 non-null   object\n",
      " 2   기업명           5472 non-null   object\n",
      " 3   주가 2000-2022  5472 non-null   int64 \n",
      "dtypes: int64(1), object(3)\n",
      "memory usage: 171.1+ KB\n"
     ]
    }
   ],
   "source": [
    "df_samsung.info()"
   ]
  },
  {
   "cell_type": "code",
   "execution_count": 8,
   "metadata": {},
   "outputs": [
    {
     "data": {
      "text/html": [
       "<div>\n",
       "<style scoped>\n",
       "    .dataframe tbody tr th:only-of-type {\n",
       "        vertical-align: middle;\n",
       "    }\n",
       "\n",
       "    .dataframe tbody tr th {\n",
       "        vertical-align: top;\n",
       "    }\n",
       "\n",
       "    .dataframe thead th {\n",
       "        text-align: right;\n",
       "    }\n",
       "</style>\n",
       "<table border=\"1\" class=\"dataframe\">\n",
       "  <thead>\n",
       "    <tr style=\"text-align: right;\">\n",
       "      <th></th>\n",
       "      <th>주가 2000-2022</th>\n",
       "    </tr>\n",
       "  </thead>\n",
       "  <tbody>\n",
       "    <tr>\n",
       "      <th>count</th>\n",
       "      <td>5472.000000</td>\n",
       "    </tr>\n",
       "    <tr>\n",
       "      <th>mean</th>\n",
       "      <td>24776.999269</td>\n",
       "    </tr>\n",
       "    <tr>\n",
       "      <th>std</th>\n",
       "      <td>19784.415029</td>\n",
       "    </tr>\n",
       "    <tr>\n",
       "      <th>min</th>\n",
       "      <td>2730.000000</td>\n",
       "    </tr>\n",
       "    <tr>\n",
       "      <th>25%</th>\n",
       "      <td>10340.000000</td>\n",
       "    </tr>\n",
       "    <tr>\n",
       "      <th>50%</th>\n",
       "      <td>16830.000000</td>\n",
       "    </tr>\n",
       "    <tr>\n",
       "      <th>75%</th>\n",
       "      <td>30970.000000</td>\n",
       "    </tr>\n",
       "    <tr>\n",
       "      <th>max</th>\n",
       "      <td>91000.000000</td>\n",
       "    </tr>\n",
       "  </tbody>\n",
       "</table>\n",
       "</div>"
      ],
      "text/plain": [
       "       주가 2000-2022\n",
       "count   5472.000000\n",
       "mean   24776.999269\n",
       "std    19784.415029\n",
       "min     2730.000000\n",
       "25%    10340.000000\n",
       "50%    16830.000000\n",
       "75%    30970.000000\n",
       "max    91000.000000"
      ]
     },
     "execution_count": 8,
     "metadata": {},
     "output_type": "execute_result"
    }
   ],
   "source": [
    "df_samsung.describe()"
   ]
  },
  {
   "cell_type": "markdown",
   "metadata": {},
   "source": [
    "## 3. Conert date-string to a legitmate date type"
   ]
  },
  {
   "cell_type": "code",
   "execution_count": 9,
   "metadata": {},
   "outputs": [
    {
     "data": {
      "text/plain": [
       "날짜              2000-01-04T00:00:00\n",
       "종목코드                     KRX:005930\n",
       "기업명                            삼성전자\n",
       "주가 2000-2022                   6110\n",
       "Name: 0, dtype: object"
      ]
     },
     "execution_count": 9,
     "metadata": {},
     "output_type": "execute_result"
    }
   ],
   "source": [
    "df_samsung.loc[0]"
   ]
  },
  {
   "cell_type": "code",
   "execution_count": 10,
   "metadata": {},
   "outputs": [
    {
     "data": {
      "text/plain": [
       "'2000-01-04T00:00:00'"
      ]
     },
     "execution_count": 10,
     "metadata": {},
     "output_type": "execute_result"
    }
   ],
   "source": [
    "df_samsung.loc[0]['날짜']"
   ]
  },
  {
   "cell_type": "code",
   "execution_count": 11,
   "metadata": {},
   "outputs": [
    {
     "data": {
      "text/plain": [
       "'2000-01-04T00:00:00'"
      ]
     },
     "execution_count": 11,
     "metadata": {},
     "output_type": "execute_result"
    }
   ],
   "source": [
    "df_samsung.loc[0, '날짜']\n",
    "# It's String!"
   ]
  },
  {
   "cell_type": "code",
   "execution_count": 12,
   "metadata": {},
   "outputs": [
    {
     "data": {
      "text/plain": [
       "str"
      ]
     },
     "execution_count": 12,
     "metadata": {},
     "output_type": "execute_result"
    }
   ],
   "source": [
    "type(df_samsung.loc[0, '날짜'])"
   ]
  },
  {
   "cell_type": "code",
   "execution_count": 13,
   "metadata": {},
   "outputs": [],
   "source": [
    "df_samsung['날짜'] = pd.to_datetime(df_samsung['날짜'])"
   ]
  },
  {
   "cell_type": "code",
   "execution_count": 14,
   "metadata": {},
   "outputs": [
    {
     "data": {
      "text/html": [
       "<div>\n",
       "<style scoped>\n",
       "    .dataframe tbody tr th:only-of-type {\n",
       "        vertical-align: middle;\n",
       "    }\n",
       "\n",
       "    .dataframe tbody tr th {\n",
       "        vertical-align: top;\n",
       "    }\n",
       "\n",
       "    .dataframe thead th {\n",
       "        text-align: right;\n",
       "    }\n",
       "</style>\n",
       "<table border=\"1\" class=\"dataframe\">\n",
       "  <thead>\n",
       "    <tr style=\"text-align: right;\">\n",
       "      <th></th>\n",
       "      <th>날짜</th>\n",
       "      <th>종목코드</th>\n",
       "      <th>기업명</th>\n",
       "      <th>주가 2000-2022</th>\n",
       "    </tr>\n",
       "  </thead>\n",
       "  <tbody>\n",
       "    <tr>\n",
       "      <th>0</th>\n",
       "      <td>2000-01-04</td>\n",
       "      <td>KRX:005930</td>\n",
       "      <td>삼성전자</td>\n",
       "      <td>6110</td>\n",
       "    </tr>\n",
       "    <tr>\n",
       "      <th>1</th>\n",
       "      <td>2000-01-05</td>\n",
       "      <td>KRX:005930</td>\n",
       "      <td>삼성전자</td>\n",
       "      <td>5580</td>\n",
       "    </tr>\n",
       "    <tr>\n",
       "      <th>2</th>\n",
       "      <td>2000-01-06</td>\n",
       "      <td>KRX:005930</td>\n",
       "      <td>삼성전자</td>\n",
       "      <td>5620</td>\n",
       "    </tr>\n",
       "    <tr>\n",
       "      <th>3</th>\n",
       "      <td>2000-01-07</td>\n",
       "      <td>KRX:005930</td>\n",
       "      <td>삼성전자</td>\n",
       "      <td>5540</td>\n",
       "    </tr>\n",
       "    <tr>\n",
       "      <th>4</th>\n",
       "      <td>2000-01-10</td>\n",
       "      <td>KRX:005930</td>\n",
       "      <td>삼성전자</td>\n",
       "      <td>5770</td>\n",
       "    </tr>\n",
       "  </tbody>\n",
       "</table>\n",
       "</div>"
      ],
      "text/plain": [
       "          날짜        종목코드   기업명  주가 2000-2022\n",
       "0 2000-01-04  KRX:005930  삼성전자          6110\n",
       "1 2000-01-05  KRX:005930  삼성전자          5580\n",
       "2 2000-01-06  KRX:005930  삼성전자          5620\n",
       "3 2000-01-07  KRX:005930  삼성전자          5540\n",
       "4 2000-01-10  KRX:005930  삼성전자          5770"
      ]
     },
     "execution_count": 14,
     "metadata": {},
     "output_type": "execute_result"
    }
   ],
   "source": [
    "df_samsung.head()"
   ]
  },
  {
   "cell_type": "code",
   "execution_count": 15,
   "metadata": {},
   "outputs": [
    {
     "name": "stdout",
     "output_type": "stream",
     "text": [
      "<class 'pandas.core.frame.DataFrame'>\n",
      "RangeIndex: 5472 entries, 0 to 5471\n",
      "Data columns (total 4 columns):\n",
      " #   Column        Non-Null Count  Dtype         \n",
      "---  ------        --------------  -----         \n",
      " 0   날짜            5472 non-null   datetime64[ns]\n",
      " 1   종목코드          5472 non-null   object        \n",
      " 2   기업명           5472 non-null   object        \n",
      " 3   주가 2000-2022  5472 non-null   int64         \n",
      "dtypes: datetime64[ns](1), int64(1), object(2)\n",
      "memory usage: 171.1+ KB\n"
     ]
    }
   ],
   "source": [
    "df_samsung.info()"
   ]
  },
  {
   "cell_type": "markdown",
   "metadata": {},
   "source": [
    "# Difficulty: moderate!"
   ]
  },
  {
   "cell_type": "code",
   "execution_count": null,
   "metadata": {},
   "outputs": [],
   "source": []
  }
 ],
 "metadata": {
  "kernelspec": {
   "display_name": "Python 3",
   "language": "python",
   "name": "python3"
  },
  "language_info": {
   "codemirror_mode": {
    "name": "ipython",
    "version": 3
   },
   "file_extension": ".py",
   "mimetype": "text/x-python",
   "name": "python",
   "nbconvert_exporter": "python",
   "pygments_lexer": "ipython3",
   "version": "3.7.6"
  }
 },
 "nbformat": 4,
 "nbformat_minor": 4
}
