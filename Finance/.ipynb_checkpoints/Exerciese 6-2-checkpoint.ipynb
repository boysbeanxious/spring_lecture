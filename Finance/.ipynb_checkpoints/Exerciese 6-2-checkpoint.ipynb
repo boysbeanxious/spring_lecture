{
 "cells": [
  {
   "cell_type": "markdown",
   "metadata": {},
   "source": [
    "#  Exerciese 6-2"
   ]
  },
  {
   "cell_type": "markdown",
   "metadata": {},
   "source": [
    "## Myokyung Han (20224230)"
   ]
  },
  {
   "cell_type": "code",
   "execution_count": null,
   "metadata": {},
   "outputs": [],
   "source": []
  },
  {
   "cell_type": "markdown",
   "metadata": {},
   "source": [
    "# Data Downloading"
   ]
  },
  {
   "cell_type": "markdown",
   "metadata": {},
   "source": [
    "### Exchange Rate - krw_usd_xr.xlsx\n",
    "https://www.deepsearch.com/analytics/economic-indicator?pageView=1&symbol=BOK%3A036Y001.0000001\n",
    "\n",
    "### Current Account - Korea - current_account_korea.xlsx\n",
    "https://www.deepsearch.com/analytics/economic-indicator?pageView=1&symbol=BOK%3A022Y013.000000\n",
    "\n",
    "### Current Account - US - current_account_us.xlsx\n",
    "https://www.deepsearch.com/analytics/economic-indicator?pageView=1&symbol=BOK%3AI10Y031.US\n",
    "\n",
    "### GDP: Korea - gdp_korea.xlsx\n",
    "https://www.deepsearch.com/analytics/economic-indicator?pageView=1&symbol=BOK%3AI10Y042.KOR\n",
    "\n",
    "### GDP Growth korea - gdp_growth_korea.xlsx \n",
    "https://www.deepsearch.com/analytics/economic-indicator?pageView=1&symbol=BOK%3A901Y001.AI1AA\n",
    "    \n",
    "### GDP: US - gdp_us.xlsx\n",
    "https://www.deepsearch.com/analytics/economic-indicator?pageView=1&symbol=BOK%3AI10Y042.USA\n",
    "\n",
    "### GDP Growth US - gdp_growth_us.xlsx\n",
    "https://www.deepsearch.com/analytics/economic-indicator?pageView=1&symbol=BOK%3AI10Y041.USA\n",
    "\n",
    "### Consumer Price Index: Korea - cpi_korea.xlsx >> non stationary\n",
    "https://www.deepsearch.com/analytics/economic-indicator?pageView=1&symbol=BOK%3AI10Y022.KR\n",
    "\n",
    "### Consumer Price Index: US - cpi_us.xlsx >> non stationary\n",
    "https://www.deepsearch.com/analytics/economic-indicator?pageView=1&symbol=BOK%3AI10Y022.US\n",
    "\n",
    "### 1-year Interest Rate: Korea - int_rate_korea.xlsx\n",
    "https://www.deepsearch.com/analytics/economic-indicator?pageView=1&symbol=BOK%3A060Y001.010190000\n",
    "m\n",
    "### 1-year Interest Rate: US - int_rate_us.xlsx\n",
    "\n",
    "https://www.deepsearch.com/analytics/economic-indicator?pageView=1&symbol=FRED%3ADGS1\n",
    "\n",
    "### Foreign Reserves at Bank of Korea - foreign_reserves.xlsx >> non stationary\n",
    "https://www.deepsearch.com/analytics/economic-indicator?pageView=1&symbol=BOK%3A901Y001.AI1DC"
   ]
  },
  {
   "cell_type": "markdown",
   "metadata": {},
   "source": [
    "## Data Loading"
   ]
  },
  {
   "cell_type": "code",
   "execution_count": 1,
   "metadata": {},
   "outputs": [],
   "source": [
    "import pandas as pd"
   ]
  },
  {
   "cell_type": "code",
   "execution_count": 2,
   "metadata": {},
   "outputs": [],
   "source": [
    "def load_deepsearch_data(filepath, column):\n",
    "    df = pd.read_excel(filepath)\n",
    "    df['날짜'] = pd.to_datetime(df['날짜'])\n",
    "    df = df.set_index('날짜')\n",
    "    df.columns = [column]\n",
    "    \n",
    "    return df"
   ]
  },
  {
   "cell_type": "code",
   "execution_count": 3,
   "metadata": {},
   "outputs": [],
   "source": [
    "filenames = [\n",
    "    'krw_usd_xr',\n",
    "    'current_account_korea', 'current_account_us',\n",
    "    'gdp_korea', 'gdp_us',\n",
    "    'gdp_growth_korea', 'gdp_growth_us',\n",
    "    'cpi_korea', 'cpi_us',\n",
    "    'int_rate_korea', 'int_rate_us',\n",
    "    'foreign_reserves',\n",
    "]"
   ]
  },
  {
   "cell_type": "code",
   "execution_count": 4,
   "metadata": {
    "scrolled": true
   },
   "outputs": [
    {
     "name": "stdout",
     "output_type": "stream",
     "text": [
      "Loading krw_usd_xr...\n",
      "Loading current_account_korea...\n",
      "Loading current_account_us...\n",
      "Loading gdp_korea...\n",
      "Loading gdp_us...\n",
      "Loading gdp_growth_korea...\n",
      "Loading gdp_growth_us...\n",
      "Loading cpi_korea...\n",
      "Loading cpi_us...\n",
      "Loading int_rate_korea...\n",
      "Loading int_rate_us...\n",
      "Loading foreign_reserves...\n",
      "Data loading is completed\n"
     ]
    }
   ],
   "source": [
    "dfs = []\n",
    "for fname in filenames:\n",
    "    print('Loading {}...'.format(fname))\n",
    "    # 짱신기해...\n",
    "    # filepath = './data/{}.xlxs'.format(fname)와 동일\n",
    "    filepath = f'./data/{fname}.xlsx'\n",
    "    \n",
    "    df = load_deepsearch_data(filepath, fname)\n",
    "    \n",
    "    if fname in ['gdp_growth_korea', 'gdp_growth_us', 'current_account_us']:\n",
    "        df[fname] = df[fname].rolling(4).sum()\n",
    "    elif fname in ['current_account_korea']:\n",
    "        df[fname] = df[fname].rolling(12).sum()\n",
    "        \n",
    "    \n",
    "    dfs.append(df)\n",
    "    \n",
    "print('Data loading is completed')"
   ]
  },
  {
   "cell_type": "code",
   "execution_count": 5,
   "metadata": {},
   "outputs": [],
   "source": [
    "from pandas.tseries.offsets import YearEnd"
   ]
  },
  {
   "cell_type": "code",
   "execution_count": 6,
   "metadata": {},
   "outputs": [],
   "source": [
    "def load_world_bank_data(filepath, column):\n",
    "    df = pd.read_excel(filepath, sheet_name = 'Data', skiprows = 3)\n",
    "    \n",
    "    df = df.set_index('Country Code')\n",
    "    df = df.loc['KOR'].to_frame()\n",
    "    \n",
    "    df = df.iloc[3:]\n",
    "    df.dropna(inplace=True)\n",
    "    df['KOR'] = df['KOR'].astype(float)\n",
    "    df['date'] = pd.to_datetime(df.index)+YearEnd(0)\n",
    "    df.set_index('date', inplace=True)\n",
    "    df.columns = [column]\n",
    "    return df\n",
    "      \n",
    "    "
   ]
  },
  {
   "cell_type": "code",
   "execution_count": 7,
   "metadata": {},
   "outputs": [],
   "source": [
    "df_ppp_xr = load_world_bank_data('./data/world_ppp_xr.xls', 'krw_usd_ppp_xr')"
   ]
  },
  {
   "cell_type": "code",
   "execution_count": 8,
   "metadata": {},
   "outputs": [],
   "source": [
    "dfs.append(df_ppp_xr)"
   ]
  },
  {
   "cell_type": "code",
   "execution_count": 9,
   "metadata": {},
   "outputs": [
    {
     "data": {
      "text/plain": [
       "13"
      ]
     },
     "execution_count": 9,
     "metadata": {},
     "output_type": "execute_result"
    }
   ],
   "source": [
    "len(dfs)"
   ]
  },
  {
   "cell_type": "code",
   "execution_count": 10,
   "metadata": {},
   "outputs": [],
   "source": [
    "df_merged = pd.concat(dfs, axis = 1)"
   ]
  },
  {
   "cell_type": "code",
   "execution_count": 11,
   "metadata": {},
   "outputs": [],
   "source": [
    "df_merged = df_merged.resample('M').last()"
   ]
  },
  {
   "cell_type": "code",
   "execution_count": 12,
   "metadata": {},
   "outputs": [],
   "source": [
    "df_merged = df_merged.fillna(method='ffill')"
   ]
  },
  {
   "cell_type": "code",
   "execution_count": 13,
   "metadata": {},
   "outputs": [
    {
     "data": {
      "text/html": [
       "<div>\n",
       "<style scoped>\n",
       "    .dataframe tbody tr th:only-of-type {\n",
       "        vertical-align: middle;\n",
       "    }\n",
       "\n",
       "    .dataframe tbody tr th {\n",
       "        vertical-align: top;\n",
       "    }\n",
       "\n",
       "    .dataframe thead th {\n",
       "        text-align: right;\n",
       "    }\n",
       "</style>\n",
       "<table border=\"1\" class=\"dataframe\">\n",
       "  <thead>\n",
       "    <tr style=\"text-align: right;\">\n",
       "      <th></th>\n",
       "      <th>krw_usd_xr</th>\n",
       "      <th>current_account_korea</th>\n",
       "      <th>current_account_us</th>\n",
       "      <th>gdp_korea</th>\n",
       "      <th>gdp_us</th>\n",
       "      <th>gdp_growth_korea</th>\n",
       "      <th>gdp_growth_us</th>\n",
       "      <th>cpi_korea</th>\n",
       "      <th>cpi_us</th>\n",
       "      <th>int_rate_korea</th>\n",
       "      <th>int_rate_us</th>\n",
       "      <th>foreign_reserves</th>\n",
       "      <th>krw_usd_ppp_xr</th>\n",
       "    </tr>\n",
       "  </thead>\n",
       "  <tbody>\n",
       "    <tr>\n",
       "      <th>2010-01-31</th>\n",
       "      <td>1156.5</td>\n",
       "      <td>31135.4</td>\n",
       "      <td>-372522.0</td>\n",
       "      <td>943941.9</td>\n",
       "      <td>14448932.0</td>\n",
       "      <td>5.1</td>\n",
       "      <td>0.3</td>\n",
       "      <td>98.82</td>\n",
       "      <td>99.37</td>\n",
       "      <td>3.22</td>\n",
       "      <td>0.30</td>\n",
       "      <td>273693584.0</td>\n",
       "      <td>828.420848</td>\n",
       "    </tr>\n",
       "    <tr>\n",
       "      <th>2010-02-28</th>\n",
       "      <td>1158.4</td>\n",
       "      <td>25800.0</td>\n",
       "      <td>-372522.0</td>\n",
       "      <td>943941.9</td>\n",
       "      <td>14448932.0</td>\n",
       "      <td>7.0</td>\n",
       "      <td>0.3</td>\n",
       "      <td>99.02</td>\n",
       "      <td>99.40</td>\n",
       "      <td>3.07</td>\n",
       "      <td>0.32</td>\n",
       "      <td>270659721.0</td>\n",
       "      <td>828.420848</td>\n",
       "    </tr>\n",
       "    <tr>\n",
       "      <th>2010-03-31</th>\n",
       "      <td>1130.8</td>\n",
       "      <td>20931.1</td>\n",
       "      <td>-382165.0</td>\n",
       "      <td>943941.9</td>\n",
       "      <td>14448932.0</td>\n",
       "      <td>7.0</td>\n",
       "      <td>1.8</td>\n",
       "      <td>99.22</td>\n",
       "      <td>99.81</td>\n",
       "      <td>2.70</td>\n",
       "      <td>0.41</td>\n",
       "      <td>272331061.0</td>\n",
       "      <td>828.420848</td>\n",
       "    </tr>\n",
       "    <tr>\n",
       "      <th>2010-04-30</th>\n",
       "      <td>1115.5</td>\n",
       "      <td>18588.8</td>\n",
       "      <td>-382165.0</td>\n",
       "      <td>943941.9</td>\n",
       "      <td>14448932.0</td>\n",
       "      <td>7.0</td>\n",
       "      <td>1.8</td>\n",
       "      <td>99.62</td>\n",
       "      <td>99.98</td>\n",
       "      <td>2.65</td>\n",
       "      <td>0.41</td>\n",
       "      <td>278873477.0</td>\n",
       "      <td>828.420848</td>\n",
       "    </tr>\n",
       "    <tr>\n",
       "      <th>2010-05-31</th>\n",
       "      <td>1200.2</td>\n",
       "      <td>22909.8</td>\n",
       "      <td>-382165.0</td>\n",
       "      <td>943941.9</td>\n",
       "      <td>14448932.0</td>\n",
       "      <td>7.6</td>\n",
       "      <td>1.8</td>\n",
       "      <td>99.72</td>\n",
       "      <td>100.06</td>\n",
       "      <td>2.75</td>\n",
       "      <td>0.34</td>\n",
       "      <td>270221038.0</td>\n",
       "      <td>828.420848</td>\n",
       "    </tr>\n",
       "  </tbody>\n",
       "</table>\n",
       "</div>"
      ],
      "text/plain": [
       "            krw_usd_xr  current_account_korea  current_account_us  gdp_korea  \\\n",
       "2010-01-31      1156.5                31135.4           -372522.0   943941.9   \n",
       "2010-02-28      1158.4                25800.0           -372522.0   943941.9   \n",
       "2010-03-31      1130.8                20931.1           -382165.0   943941.9   \n",
       "2010-04-30      1115.5                18588.8           -382165.0   943941.9   \n",
       "2010-05-31      1200.2                22909.8           -382165.0   943941.9   \n",
       "\n",
       "                gdp_us  gdp_growth_korea  gdp_growth_us  cpi_korea  cpi_us  \\\n",
       "2010-01-31  14448932.0               5.1            0.3      98.82   99.37   \n",
       "2010-02-28  14448932.0               7.0            0.3      99.02   99.40   \n",
       "2010-03-31  14448932.0               7.0            1.8      99.22   99.81   \n",
       "2010-04-30  14448932.0               7.0            1.8      99.62   99.98   \n",
       "2010-05-31  14448932.0               7.6            1.8      99.72  100.06   \n",
       "\n",
       "            int_rate_korea  int_rate_us  foreign_reserves  krw_usd_ppp_xr  \n",
       "2010-01-31            3.22         0.30       273693584.0      828.420848  \n",
       "2010-02-28            3.07         0.32       270659721.0      828.420848  \n",
       "2010-03-31            2.70         0.41       272331061.0      828.420848  \n",
       "2010-04-30            2.65         0.41       278873477.0      828.420848  \n",
       "2010-05-31            2.75         0.34       270221038.0      828.420848  "
      ]
     },
     "execution_count": 13,
     "metadata": {},
     "output_type": "execute_result"
    }
   ],
   "source": [
    "df_merged['2010-01-01':].head()"
   ]
  },
  {
   "cell_type": "code",
   "execution_count": 14,
   "metadata": {},
   "outputs": [
    {
     "data": {
      "text/html": [
       "<div>\n",
       "<style scoped>\n",
       "    .dataframe tbody tr th:only-of-type {\n",
       "        vertical-align: middle;\n",
       "    }\n",
       "\n",
       "    .dataframe tbody tr th {\n",
       "        vertical-align: top;\n",
       "    }\n",
       "\n",
       "    .dataframe thead th {\n",
       "        text-align: right;\n",
       "    }\n",
       "</style>\n",
       "<table border=\"1\" class=\"dataframe\">\n",
       "  <thead>\n",
       "    <tr style=\"text-align: right;\">\n",
       "      <th></th>\n",
       "      <th>krw_usd_xr</th>\n",
       "      <th>current_account_korea</th>\n",
       "      <th>current_account_us</th>\n",
       "      <th>gdp_korea</th>\n",
       "      <th>gdp_us</th>\n",
       "      <th>gdp_growth_korea</th>\n",
       "      <th>gdp_growth_us</th>\n",
       "      <th>cpi_korea</th>\n",
       "      <th>cpi_us</th>\n",
       "      <th>int_rate_korea</th>\n",
       "      <th>int_rate_us</th>\n",
       "      <th>foreign_reserves</th>\n",
       "      <th>krw_usd_ppp_xr</th>\n",
       "    </tr>\n",
       "  </thead>\n",
       "  <tbody>\n",
       "    <tr>\n",
       "      <th>2021-12-31</th>\n",
       "      <td>1185.5</td>\n",
       "      <td>90382.5</td>\n",
       "      <td>-783982.0</td>\n",
       "      <td>1637895.8</td>\n",
       "      <td>20893746.0</td>\n",
       "      <td>3.7</td>\n",
       "      <td>4.8</td>\n",
       "      <td>120.45</td>\n",
       "      <td>127.86</td>\n",
       "      <td>1.350</td>\n",
       "      <td>0.39</td>\n",
       "      <td>463118362.0</td>\n",
       "      <td>824.604924</td>\n",
       "    </tr>\n",
       "    <tr>\n",
       "      <th>2022-01-31</th>\n",
       "      <td>1202.4</td>\n",
       "      <td>85133.4</td>\n",
       "      <td>-783982.0</td>\n",
       "      <td>1637895.8</td>\n",
       "      <td>20893746.0</td>\n",
       "      <td>3.7</td>\n",
       "      <td>4.8</td>\n",
       "      <td>121.21</td>\n",
       "      <td>128.93</td>\n",
       "      <td>1.463</td>\n",
       "      <td>0.78</td>\n",
       "      <td>461526656.0</td>\n",
       "      <td>824.604924</td>\n",
       "    </tr>\n",
       "    <tr>\n",
       "      <th>2022-02-28</th>\n",
       "      <td>1202.7</td>\n",
       "      <td>85133.4</td>\n",
       "      <td>-783982.0</td>\n",
       "      <td>1637895.8</td>\n",
       "      <td>20893746.0</td>\n",
       "      <td>3.7</td>\n",
       "      <td>4.8</td>\n",
       "      <td>121.21</td>\n",
       "      <td>128.93</td>\n",
       "      <td>1.503</td>\n",
       "      <td>1.01</td>\n",
       "      <td>461766293.0</td>\n",
       "      <td>824.604924</td>\n",
       "    </tr>\n",
       "    <tr>\n",
       "      <th>2022-03-31</th>\n",
       "      <td>1210.8</td>\n",
       "      <td>85133.4</td>\n",
       "      <td>-783982.0</td>\n",
       "      <td>1637895.8</td>\n",
       "      <td>20893746.0</td>\n",
       "      <td>3.7</td>\n",
       "      <td>4.8</td>\n",
       "      <td>121.21</td>\n",
       "      <td>128.93</td>\n",
       "      <td>1.815</td>\n",
       "      <td>1.63</td>\n",
       "      <td>461766293.0</td>\n",
       "      <td>824.604924</td>\n",
       "    </tr>\n",
       "    <tr>\n",
       "      <th>2022-04-30</th>\n",
       "      <td>1216.7</td>\n",
       "      <td>85133.4</td>\n",
       "      <td>-783982.0</td>\n",
       "      <td>1637895.8</td>\n",
       "      <td>20893746.0</td>\n",
       "      <td>3.7</td>\n",
       "      <td>4.8</td>\n",
       "      <td>121.21</td>\n",
       "      <td>128.93</td>\n",
       "      <td>1.852</td>\n",
       "      <td>1.63</td>\n",
       "      <td>461766293.0</td>\n",
       "      <td>824.604924</td>\n",
       "    </tr>\n",
       "  </tbody>\n",
       "</table>\n",
       "</div>"
      ],
      "text/plain": [
       "            krw_usd_xr  current_account_korea  current_account_us  gdp_korea  \\\n",
       "2021-12-31      1185.5                90382.5           -783982.0  1637895.8   \n",
       "2022-01-31      1202.4                85133.4           -783982.0  1637895.8   \n",
       "2022-02-28      1202.7                85133.4           -783982.0  1637895.8   \n",
       "2022-03-31      1210.8                85133.4           -783982.0  1637895.8   \n",
       "2022-04-30      1216.7                85133.4           -783982.0  1637895.8   \n",
       "\n",
       "                gdp_us  gdp_growth_korea  gdp_growth_us  cpi_korea  cpi_us  \\\n",
       "2021-12-31  20893746.0               3.7            4.8     120.45  127.86   \n",
       "2022-01-31  20893746.0               3.7            4.8     121.21  128.93   \n",
       "2022-02-28  20893746.0               3.7            4.8     121.21  128.93   \n",
       "2022-03-31  20893746.0               3.7            4.8     121.21  128.93   \n",
       "2022-04-30  20893746.0               3.7            4.8     121.21  128.93   \n",
       "\n",
       "            int_rate_korea  int_rate_us  foreign_reserves  krw_usd_ppp_xr  \n",
       "2021-12-31           1.350         0.39       463118362.0      824.604924  \n",
       "2022-01-31           1.463         0.78       461526656.0      824.604924  \n",
       "2022-02-28           1.503         1.01       461766293.0      824.604924  \n",
       "2022-03-31           1.815         1.63       461766293.0      824.604924  \n",
       "2022-04-30           1.852         1.63       461766293.0      824.604924  "
      ]
     },
     "execution_count": 14,
     "metadata": {},
     "output_type": "execute_result"
    }
   ],
   "source": [
    "df_merged['2010-01-01':].tail()"
   ]
  },
  {
   "cell_type": "code",
   "execution_count": null,
   "metadata": {},
   "outputs": [],
   "source": []
  },
  {
   "cell_type": "code",
   "execution_count": null,
   "metadata": {},
   "outputs": [],
   "source": []
  },
  {
   "cell_type": "markdown",
   "metadata": {},
   "source": [
    "## Compute new variables"
   ]
  },
  {
   "cell_type": "markdown",
   "metadata": {},
   "source": [
    "### Currency returens"
   ]
  },
  {
   "cell_type": "code",
   "execution_count": 15,
   "metadata": {},
   "outputs": [],
   "source": [
    "df_merged['ann_ret']  = df_merged['krw_usd_xr'] .pct_change(periods=12)*100"
   ]
  },
  {
   "cell_type": "code",
   "execution_count": 16,
   "metadata": {},
   "outputs": [],
   "source": [
    "df_merged['F12.ann_ret'] = df_merged['ann_ret'].shift(-12)"
   ]
  },
  {
   "cell_type": "markdown",
   "metadata": {},
   "source": [
    "### Real XR"
   ]
  },
  {
   "cell_type": "code",
   "execution_count": 17,
   "metadata": {},
   "outputs": [],
   "source": [
    "df_merged['real_xr'] = df_merged['krw_usd_ppp_xr']  /df_merged['krw_usd_xr']  "
   ]
  },
  {
   "cell_type": "markdown",
   "metadata": {},
   "source": [
    "### current account relative to GDP\n",
    "non_stationary!!"
   ]
  },
  {
   "cell_type": "code",
   "execution_count": 18,
   "metadata": {},
   "outputs": [],
   "source": [
    "df_merged['ca_gdp_korea'] = df_merged['current_account_korea']/df_merged['gdp_korea']*100"
   ]
  },
  {
   "cell_type": "code",
   "execution_count": 19,
   "metadata": {},
   "outputs": [],
   "source": [
    "df_merged['ca_gdp_us'] = df_merged['current_account_us']/df_merged['gdp_us']*100"
   ]
  },
  {
   "cell_type": "code",
   "execution_count": 20,
   "metadata": {},
   "outputs": [
    {
     "data": {
      "text/html": [
       "<div>\n",
       "<style scoped>\n",
       "    .dataframe tbody tr th:only-of-type {\n",
       "        vertical-align: middle;\n",
       "    }\n",
       "\n",
       "    .dataframe tbody tr th {\n",
       "        vertical-align: top;\n",
       "    }\n",
       "\n",
       "    .dataframe thead th {\n",
       "        text-align: right;\n",
       "    }\n",
       "</style>\n",
       "<table border=\"1\" class=\"dataframe\">\n",
       "  <thead>\n",
       "    <tr style=\"text-align: right;\">\n",
       "      <th></th>\n",
       "      <th>ca_gdp_korea</th>\n",
       "      <th>ca_gdp_us</th>\n",
       "    </tr>\n",
       "  </thead>\n",
       "  <tbody>\n",
       "    <tr>\n",
       "      <th>2019-10-31</th>\n",
       "      <td>3.470373</td>\n",
       "      <td>-2.601153</td>\n",
       "    </tr>\n",
       "    <tr>\n",
       "      <th>2019-11-30</th>\n",
       "      <td>3.519438</td>\n",
       "      <td>-2.601153</td>\n",
       "    </tr>\n",
       "    <tr>\n",
       "      <th>2019-12-31</th>\n",
       "      <td>3.651917</td>\n",
       "      <td>-2.325728</td>\n",
       "    </tr>\n",
       "    <tr>\n",
       "      <th>2020-01-31</th>\n",
       "      <td>3.512475</td>\n",
       "      <td>-2.325728</td>\n",
       "    </tr>\n",
       "    <tr>\n",
       "      <th>2020-02-29</th>\n",
       "      <td>3.665722</td>\n",
       "      <td>-2.325728</td>\n",
       "    </tr>\n",
       "  </tbody>\n",
       "</table>\n",
       "</div>"
      ],
      "text/plain": [
       "            ca_gdp_korea  ca_gdp_us\n",
       "2019-10-31      3.470373  -2.601153\n",
       "2019-11-30      3.519438  -2.601153\n",
       "2019-12-31      3.651917  -2.325728\n",
       "2020-01-31      3.512475  -2.325728\n",
       "2020-02-29      3.665722  -2.325728"
      ]
     },
     "execution_count": 20,
     "metadata": {},
     "output_type": "execute_result"
    }
   ],
   "source": [
    "df_merged.loc['2019-10-01':][['ca_gdp_korea', 'ca_gdp_us']].head()"
   ]
  },
  {
   "cell_type": "code",
   "execution_count": null,
   "metadata": {},
   "outputs": [],
   "source": []
  },
  {
   "cell_type": "markdown",
   "metadata": {},
   "source": [
    "### GDP Growth"
   ]
  },
  {
   "cell_type": "code",
   "execution_count": 21,
   "metadata": {},
   "outputs": [],
   "source": [
    "df_merged['gdp_growth_korea2'] = df_merged['gdp_korea'].pct_change(periods=12)*100"
   ]
  },
  {
   "cell_type": "code",
   "execution_count": 22,
   "metadata": {},
   "outputs": [],
   "source": [
    "df_merged['gdp_growth_us2'] = df_merged['gdp_us'].pct_change(periods=12)*100"
   ]
  },
  {
   "cell_type": "code",
   "execution_count": 26,
   "metadata": {},
   "outputs": [
    {
     "data": {
      "text/html": [
       "<div>\n",
       "<style scoped>\n",
       "    .dataframe tbody tr th:only-of-type {\n",
       "        vertical-align: middle;\n",
       "    }\n",
       "\n",
       "    .dataframe tbody tr th {\n",
       "        vertical-align: top;\n",
       "    }\n",
       "\n",
       "    .dataframe thead th {\n",
       "        text-align: right;\n",
       "    }\n",
       "</style>\n",
       "<table border=\"1\" class=\"dataframe\">\n",
       "  <thead>\n",
       "    <tr style=\"text-align: right;\">\n",
       "      <th></th>\n",
       "      <th>gdp_us</th>\n",
       "      <th>gdp_growth_us</th>\n",
       "      <th>gdp_growth_us2</th>\n",
       "    </tr>\n",
       "  </thead>\n",
       "  <tbody>\n",
       "    <tr>\n",
       "      <th>2018-12-31</th>\n",
       "      <td>20580223.0</td>\n",
       "      <td>2.5</td>\n",
       "      <td>5.434581</td>\n",
       "    </tr>\n",
       "    <tr>\n",
       "      <th>2019-12-31</th>\n",
       "      <td>21427700.0</td>\n",
       "      <td>2.3</td>\n",
       "      <td>4.117919</td>\n",
       "    </tr>\n",
       "  </tbody>\n",
       "</table>\n",
       "</div>"
      ],
      "text/plain": [
       "                gdp_us  gdp_growth_us  gdp_growth_us2\n",
       "2018-12-31  20580223.0            2.5        5.434581\n",
       "2019-12-31  21427700.0            2.3        4.117919"
      ]
     },
     "execution_count": 26,
     "metadata": {},
     "output_type": "execute_result"
    }
   ],
   "source": [
    "df_merged.loc[['2018-12-31', '2019-12-31']][['gdp_us', 'gdp_growth_us','gdp_growth_us2']]"
   ]
  },
  {
   "cell_type": "code",
   "execution_count": 27,
   "metadata": {},
   "outputs": [],
   "source": [
    "# why is it differnece!!!!\n",
    "# https://data.worldbank.org/indicator/NY.GDP.MKTP.CD?locations=US\n",
    "# Current US 달러이냐 constant us dollar이냐에 따라 달라진다. \n",
    "# Current US>> market\n",
    "# constant us dollar >> inflation.... 2015년 기준으로 보았을때 2.5가 된다.."
   ]
  },
  {
   "cell_type": "markdown",
   "metadata": {},
   "source": [
    "### Inflation"
   ]
  },
  {
   "cell_type": "code",
   "execution_count": 30,
   "metadata": {},
   "outputs": [],
   "source": [
    "df_merged['infl_korea'] = df_merged['cpi_korea'].pct_change(periods=12)*100"
   ]
  },
  {
   "cell_type": "code",
   "execution_count": 31,
   "metadata": {},
   "outputs": [],
   "source": [
    "df_merged['infl_us'] = df_merged['cpi_us'].pct_change(periods=12)*100"
   ]
  },
  {
   "cell_type": "markdown",
   "metadata": {},
   "source": [
    "### Inflation Interest rate differential"
   ]
  },
  {
   "cell_type": "code",
   "execution_count": 32,
   "metadata": {},
   "outputs": [],
   "source": [
    "df_merged['infl_diff'] = df_merged['infl_korea']- df_merged['infl_us']"
   ]
  },
  {
   "cell_type": "code",
   "execution_count": 33,
   "metadata": {},
   "outputs": [],
   "source": [
    "df_merged['int_rate_diff'] = df_merged['int_rate_korea']- df_merged['int_rate_us']"
   ]
  },
  {
   "cell_type": "markdown",
   "metadata": {},
   "source": [
    "### Foreign Reserves"
   ]
  },
  {
   "cell_type": "code",
   "execution_count": 35,
   "metadata": {},
   "outputs": [],
   "source": [
    "df_merged['reserves_to_gdp'] = df_merged['foreign_reserves']/df_merged['gdp_korea']/1000*100\n",
    "# 1000 >>단위때문에 곱하고"
   ]
  },
  {
   "cell_type": "code",
   "execution_count": 36,
   "metadata": {},
   "outputs": [],
   "source": [
    "df_merged['reserves_growth'] = df_merged['foreign_reserves'].pct_change(periods=12)*100\n",
    "# 다시 들어야겠따...\n",
    "# trand how it is changing ......"
   ]
  },
  {
   "cell_type": "code",
   "execution_count": null,
   "metadata": {},
   "outputs": [],
   "source": []
  }
 ],
 "metadata": {
  "kernelspec": {
   "display_name": "Python 3",
   "language": "python",
   "name": "python3"
  },
  "language_info": {
   "codemirror_mode": {
    "name": "ipython",
    "version": 3
   },
   "file_extension": ".py",
   "mimetype": "text/x-python",
   "name": "python",
   "nbconvert_exporter": "python",
   "pygments_lexer": "ipython3",
   "version": "3.7.6"
  }
 },
 "nbformat": 4,
 "nbformat_minor": 4
}
