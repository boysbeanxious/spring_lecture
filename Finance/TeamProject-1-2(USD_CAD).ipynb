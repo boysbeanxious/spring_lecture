{
 "cells": [
  {
   "cell_type": "markdown",
   "metadata": {},
   "source": [
    "## Myokyung Han (20224230)"
   ]
  },
  {
   "cell_type": "markdown",
   "metadata": {},
   "source": [
    "## 1. Download Data"
   ]
  },
  {
   "cell_type": "code",
   "execution_count": 1,
   "metadata": {},
   "outputs": [],
   "source": [
    "# https://ca.finance.yahoo.com/quote/CADUSD%3DX/h|istory?period1=1063843200&period2=1649376000&interval=1d&filter=history&frequency=1d&includeAdjustedClose=true"
   ]
  },
  {
   "cell_type": "code",
   "execution_count": 2,
   "metadata": {},
   "outputs": [],
   "source": [
    "import pandas as pd\n",
    "from pandas.tseries.offsets import YearEnd"
   ]
  },
  {
   "cell_type": "code",
   "execution_count": 3,
   "metadata": {},
   "outputs": [],
   "source": [
    "def load_deepsearch_data(filepath, column):\n",
    "    df = pd.read_excel(filepath)\n",
    "    df['날짜'] = pd.to_datetime(df['날짜'])\n",
    "    df = df.set_index('날짜')\n",
    "    df.columns = [column]\n",
    "    \n",
    "    return df\n",
    "    "
   ]
  },
  {
   "cell_type": "code",
   "execution_count": 4,
   "metadata": {},
   "outputs": [],
   "source": [
    "# yahoo finance에서 받아온 데이터 로딩\n",
    "df_can_usd_xr = pd.read_csv('./data/usd_cad_xr.csv')\n",
    "df_krw_usd_xr = load_deepsearch_data('./data/krw_usd_xr.xlsx', 'KRW/USD')\n"
   ]
  },
  {
   "cell_type": "code",
   "execution_count": 5,
   "metadata": {},
   "outputs": [
    {
     "data": {
      "text/html": [
       "<div>\n",
       "<style scoped>\n",
       "    .dataframe tbody tr th:only-of-type {\n",
       "        vertical-align: middle;\n",
       "    }\n",
       "\n",
       "    .dataframe tbody tr th {\n",
       "        vertical-align: top;\n",
       "    }\n",
       "\n",
       "    .dataframe thead th {\n",
       "        text-align: right;\n",
       "    }\n",
       "</style>\n",
       "<table border=\"1\" class=\"dataframe\">\n",
       "  <thead>\n",
       "    <tr style=\"text-align: right;\">\n",
       "      <th></th>\n",
       "      <th>KRW/CAD</th>\n",
       "      <th>USD/CAD</th>\n",
       "      <th>KRW/USD</th>\n",
       "    </tr>\n",
       "    <tr>\n",
       "      <th>Date</th>\n",
       "      <th></th>\n",
       "      <th></th>\n",
       "      <th></th>\n",
       "    </tr>\n",
       "  </thead>\n",
       "  <tbody>\n",
       "    <tr>\n",
       "      <th>2022-03-28</th>\n",
       "      <td>975.646316</td>\n",
       "      <td>0.800826</td>\n",
       "      <td>1218.3</td>\n",
       "    </tr>\n",
       "    <tr>\n",
       "      <th>2022-03-29</th>\n",
       "      <td>979.134511</td>\n",
       "      <td>0.798837</td>\n",
       "      <td>1225.7</td>\n",
       "    </tr>\n",
       "    <tr>\n",
       "      <th>2022-03-30</th>\n",
       "      <td>976.563547</td>\n",
       "      <td>0.800134</td>\n",
       "      <td>1220.5</td>\n",
       "    </tr>\n",
       "    <tr>\n",
       "      <th>2022-03-31</th>\n",
       "      <td>970.013047</td>\n",
       "      <td>0.801134</td>\n",
       "      <td>1210.8</td>\n",
       "    </tr>\n",
       "    <tr>\n",
       "      <th>2022-04-01</th>\n",
       "      <td>968.676227</td>\n",
       "      <td>0.800096</td>\n",
       "      <td>1210.7</td>\n",
       "    </tr>\n",
       "    <tr>\n",
       "      <th>2022-04-04</th>\n",
       "      <td>970.822359</td>\n",
       "      <td>0.798308</td>\n",
       "      <td>1216.1</td>\n",
       "    </tr>\n",
       "    <tr>\n",
       "      <th>2022-04-05</th>\n",
       "      <td>974.435563</td>\n",
       "      <td>0.800884</td>\n",
       "      <td>1216.7</td>\n",
       "    </tr>\n",
       "    <tr>\n",
       "      <th>2022-04-06</th>\n",
       "      <td>NaN</td>\n",
       "      <td>0.801000</td>\n",
       "      <td>NaN</td>\n",
       "    </tr>\n",
       "    <tr>\n",
       "      <th>2022-04-07</th>\n",
       "      <td>NaN</td>\n",
       "      <td>0.795938</td>\n",
       "      <td>NaN</td>\n",
       "    </tr>\n",
       "    <tr>\n",
       "      <th>2022-04-08</th>\n",
       "      <td>NaN</td>\n",
       "      <td>0.794357</td>\n",
       "      <td>NaN</td>\n",
       "    </tr>\n",
       "  </tbody>\n",
       "</table>\n",
       "</div>"
      ],
      "text/plain": [
       "               KRW/CAD   USD/CAD  KRW/USD\n",
       "Date                                     \n",
       "2022-03-28  975.646316  0.800826   1218.3\n",
       "2022-03-29  979.134511  0.798837   1225.7\n",
       "2022-03-30  976.563547  0.800134   1220.5\n",
       "2022-03-31  970.013047  0.801134   1210.8\n",
       "2022-04-01  968.676227  0.800096   1210.7\n",
       "2022-04-04  970.822359  0.798308   1216.1\n",
       "2022-04-05  974.435563  0.800884   1216.7\n",
       "2022-04-06         NaN  0.801000      NaN\n",
       "2022-04-07         NaN  0.795938      NaN\n",
       "2022-04-08         NaN  0.794357      NaN"
      ]
     },
     "execution_count": 5,
     "metadata": {},
     "output_type": "execute_result"
    }
   ],
   "source": [
    "df_can_usd_xr['Date'] = pd.to_datetime(df_can_usd_xr['Date'])\n",
    "df_can_usd_xr.set_index('Date' , inplace=True)\n",
    "df_can_usd_xr = df_can_usd_xr['Close'].to_frame()\n",
    "df_can_usd_xr = df_can_usd_xr.rename(columns = {'Close':'USD/CAD'})\n",
    "df_xr_merged = df_can_usd_xr.join(df_krw_usd_xr)\n",
    "df_xr_merged['KRW/CAD'] = df_xr_merged['USD/CAD'] * df_xr_merged['KRW/USD']\n",
    "df_xr_merged[['KRW/CAD', 'USD/CAD', 'KRW/USD']].tail(10)"
   ]
  },
  {
   "cell_type": "code",
   "execution_count": 6,
   "metadata": {},
   "outputs": [],
   "source": [
    "df_xr_merged.dropna(inplace=True)"
   ]
  },
  {
   "cell_type": "code",
   "execution_count": 7,
   "metadata": {},
   "outputs": [],
   "source": [
    "df_monthly = df_xr_merged.resample('M').last()[['USD/CAD']]"
   ]
  },
  {
   "cell_type": "code",
   "execution_count": 8,
   "metadata": {},
   "outputs": [
    {
     "data": {
      "text/html": [
       "<div>\n",
       "<style scoped>\n",
       "    .dataframe tbody tr th:only-of-type {\n",
       "        vertical-align: middle;\n",
       "    }\n",
       "\n",
       "    .dataframe tbody tr th {\n",
       "        vertical-align: top;\n",
       "    }\n",
       "\n",
       "    .dataframe thead th {\n",
       "        text-align: right;\n",
       "    }\n",
       "</style>\n",
       "<table border=\"1\" class=\"dataframe\">\n",
       "  <thead>\n",
       "    <tr style=\"text-align: right;\">\n",
       "      <th></th>\n",
       "      <th>USD/CAD</th>\n",
       "    </tr>\n",
       "    <tr>\n",
       "      <th>Date</th>\n",
       "      <th></th>\n",
       "    </tr>\n",
       "  </thead>\n",
       "  <tbody>\n",
       "    <tr>\n",
       "      <th>2021-12-31</th>\n",
       "      <td>0.784658</td>\n",
       "    </tr>\n",
       "    <tr>\n",
       "      <th>2022-01-31</th>\n",
       "      <td>0.784578</td>\n",
       "    </tr>\n",
       "    <tr>\n",
       "      <th>2022-02-28</th>\n",
       "      <td>0.783994</td>\n",
       "    </tr>\n",
       "    <tr>\n",
       "      <th>2022-03-31</th>\n",
       "      <td>0.801134</td>\n",
       "    </tr>\n",
       "    <tr>\n",
       "      <th>2022-04-30</th>\n",
       "      <td>0.800884</td>\n",
       "    </tr>\n",
       "  </tbody>\n",
       "</table>\n",
       "</div>"
      ],
      "text/plain": [
       "             USD/CAD\n",
       "Date                \n",
       "2021-12-31  0.784658\n",
       "2022-01-31  0.784578\n",
       "2022-02-28  0.783994\n",
       "2022-03-31  0.801134\n",
       "2022-04-30  0.800884"
      ]
     },
     "execution_count": 8,
     "metadata": {},
     "output_type": "execute_result"
    }
   ],
   "source": [
    "df_monthly.tail()"
   ]
  },
  {
   "cell_type": "code",
   "execution_count": 9,
   "metadata": {},
   "outputs": [],
   "source": [
    "import matplotlib.pyplot as plt"
   ]
  },
  {
   "cell_type": "code",
   "execution_count": 10,
   "metadata": {},
   "outputs": [],
   "source": [
    "plt.rcParams['figure.figsize'] = (8,4)"
   ]
  },
  {
   "cell_type": "code",
   "execution_count": 11,
   "metadata": {},
   "outputs": [
    {
     "data": {
      "image/png": "[encoded data removed]",
      "text/plain": [
       "<Figure size 576x288 with 1 Axes>"
      ]
     },
     "metadata": {
      "needs_background": "light"
     },
     "output_type": "display_data"
    }
   ],
   "source": [
    "plt.plot(df_monthly)\n",
    "plt.show()"
   ]
  },
  {
   "cell_type": "code",
   "execution_count": 12,
   "metadata": {},
   "outputs": [],
   "source": [
    "# https://data.worldbank.org/indicator/PA.NUS.PPP?locations=CA"
   ]
  },
  {
   "cell_type": "code",
   "execution_count": 13,
   "metadata": {},
   "outputs": [],
   "source": [
    "def load_world_bank_data(filepath, column):\n",
    "    df = pd.read_excel(filepath, sheet_name = 'Data', skiprows = 3)\n",
    "    df = df.set_index('Country Code')\n",
    "    df = df.loc['CAN'].to_frame()\n",
    "    \n",
    "    df = df.iloc[3:]\n",
    "    df.dropna(inplace=True)\n",
    "    df['CAN'] = df['CAN'].astype(float)\n",
    "    df['date'] = pd.to_datetime(df.index)+YearEnd(0)\n",
    "    df.set_index('date', inplace=True)\n",
    "    df.columns = [column]\n",
    "    return df\n",
    "      \n",
    "    "
   ]
  },
  {
   "cell_type": "code",
   "execution_count": 14,
   "metadata": {},
   "outputs": [],
   "source": [
    "# https://data.worldbank.org/indicator/PA.NUS.PPPC.RF?locations=CA\n",
    "# Price level ratio of PPP conversion factor (GDP) to market exchange rate/ CANADA\n",
    "    \n",
    "df_real_xr = pd.read_excel('./data/world_can_real_xr_1.xlsx')"
   ]
  },
  {
   "cell_type": "code",
   "execution_count": 15,
   "metadata": {},
   "outputs": [],
   "source": [
    "df_real_xr = df_real_xr.iloc[0].to_frame()"
   ]
  },
  {
   "cell_type": "code",
   "execution_count": 16,
   "metadata": {},
   "outputs": [],
   "source": [
    "df_real_xr = df_real_xr.iloc[5:]"
   ]
  },
  {
   "cell_type": "code",
   "execution_count": 17,
   "metadata": {},
   "outputs": [],
   "source": [
    "df_real_xr['date'] = pd.to_datetime(df_real_xr.index, format='%Y')+YearEnd(0)"
   ]
  },
  {
   "cell_type": "code",
   "execution_count": 18,
   "metadata": {},
   "outputs": [],
   "source": [
    "df_real_xr.set_index('date', inplace=True)"
   ]
  },
  {
   "cell_type": "code",
   "execution_count": 19,
   "metadata": {},
   "outputs": [],
   "source": [
    "df_real_xr.columns = ['CAN REAL XR']"
   ]
  },
  {
   "cell_type": "code",
   "execution_count": 20,
   "metadata": {},
   "outputs": [],
   "source": [
    "df_ppp_xr = load_world_bank_data('./data/world_ppp_xr.xls', 'PPP XR')"
   ]
  },
  {
   "cell_type": "code",
   "execution_count": 21,
   "metadata": {},
   "outputs": [],
   "source": [
    "# https://data.worldbank.org/indicator/PA.NUS.PPP?locations=CA\n",
    "# PPP Conversion factor\n",
    "df_can_ppp_xr = load_world_bank_data('./data/world_can_ppp_xr_1.xls', 'CAN PPP XR')\n",
    "\n",
    "# df_can_ppp_xr = df_can_ppp_xr.set_index('Country Code')\n",
    "# df_can_ppp_xr = df_can_ppp_xr.loc['CAN'].to_frame()\n",
    "\n",
    "# df_can_ppp_xr = df_can_ppp_xr.iloc[3:]\n",
    "# df_can_ppp_xr.dropna(inplace=True)\n",
    "# df_can_ppp_xr['CAN'] = df_can_ppp_xr['CAN'].astype(float)\n",
    "# df_can_ppp_xr['date'] = pd.to_datetime(df_can_ppp_xr.index)+YearEnd(0)\n",
    "# df_can_ppp_xr.set_index('date', inplace=True)\n",
    "# df_can_ppp_xr.columns = ['CAN PPP XR']\n"
   ]
  },
  {
   "cell_type": "code",
   "execution_count": 22,
   "metadata": {},
   "outputs": [],
   "source": [
    "df_ppp_merge = df_ppp_xr.join(df_can_ppp_xr)"
   ]
  },
  {
   "cell_type": "code",
   "execution_count": 74,
   "metadata": {},
   "outputs": [
    {
     "data": {
      "text/html": [
       "<div>\n",
       "<style scoped>\n",
       "    .dataframe tbody tr th:only-of-type {\n",
       "        vertical-align: middle;\n",
       "    }\n",
       "\n",
       "    .dataframe tbody tr th {\n",
       "        vertical-align: top;\n",
       "    }\n",
       "\n",
       "    .dataframe thead th {\n",
       "        text-align: right;\n",
       "    }\n",
       "</style>\n",
       "<table border=\"1\" class=\"dataframe\">\n",
       "  <thead>\n",
       "    <tr style=\"text-align: right;\">\n",
       "      <th></th>\n",
       "      <th>CAN PPP XR</th>\n",
       "    </tr>\n",
       "    <tr>\n",
       "      <th>date</th>\n",
       "      <th></th>\n",
       "    </tr>\n",
       "  </thead>\n",
       "  <tbody>\n",
       "    <tr>\n",
       "      <th>2016-12-31</th>\n",
       "      <td>1.207045</td>\n",
       "    </tr>\n",
       "    <tr>\n",
       "      <th>2017-12-31</th>\n",
       "      <td>1.212304</td>\n",
       "    </tr>\n",
       "    <tr>\n",
       "      <th>2018-12-31</th>\n",
       "      <td>1.206524</td>\n",
       "    </tr>\n",
       "    <tr>\n",
       "      <th>2019-12-31</th>\n",
       "      <td>1.246847</td>\n",
       "    </tr>\n",
       "    <tr>\n",
       "      <th>2020-12-31</th>\n",
       "      <td>1.245722</td>\n",
       "    </tr>\n",
       "  </tbody>\n",
       "</table>\n",
       "</div>"
      ],
      "text/plain": [
       "            CAN PPP XR\n",
       "date                  \n",
       "2016-12-31    1.207045\n",
       "2017-12-31    1.212304\n",
       "2018-12-31    1.206524\n",
       "2019-12-31    1.246847\n",
       "2020-12-31    1.245722"
      ]
     },
     "execution_count": 74,
     "metadata": {},
     "output_type": "execute_result"
    }
   ],
   "source": [
    "df_can_ppp_xr.tail()"
   ]
  },
  {
   "cell_type": "code",
   "execution_count": 24,
   "metadata": {
    "scrolled": true
   },
   "outputs": [
    {
     "data": {
      "text/html": [
       "<div>\n",
       "<style scoped>\n",
       "    .dataframe tbody tr th:only-of-type {\n",
       "        vertical-align: middle;\n",
       "    }\n",
       "\n",
       "    .dataframe tbody tr th {\n",
       "        vertical-align: top;\n",
       "    }\n",
       "\n",
       "    .dataframe thead th {\n",
       "        text-align: right;\n",
       "    }\n",
       "</style>\n",
       "<table border=\"1\" class=\"dataframe\">\n",
       "  <thead>\n",
       "    <tr style=\"text-align: right;\">\n",
       "      <th></th>\n",
       "      <th>CAN REAL XR</th>\n",
       "    </tr>\n",
       "    <tr>\n",
       "      <th>date</th>\n",
       "      <th></th>\n",
       "    </tr>\n",
       "  </thead>\n",
       "  <tbody>\n",
       "    <tr>\n",
       "      <th>2016-12-31</th>\n",
       "      <td>0.910555</td>\n",
       "    </tr>\n",
       "    <tr>\n",
       "      <th>2017-12-31</th>\n",
       "      <td>0.934025</td>\n",
       "    </tr>\n",
       "    <tr>\n",
       "      <th>2018-12-31</th>\n",
       "      <td>0.931108</td>\n",
       "    </tr>\n",
       "    <tr>\n",
       "      <th>2019-12-31</th>\n",
       "      <td>0.939745</td>\n",
       "    </tr>\n",
       "    <tr>\n",
       "      <th>2020-12-31</th>\n",
       "      <td>0.928844</td>\n",
       "    </tr>\n",
       "  </tbody>\n",
       "</table>\n",
       "</div>"
      ],
      "text/plain": [
       "           CAN REAL XR\n",
       "date                  \n",
       "2016-12-31    0.910555\n",
       "2017-12-31    0.934025\n",
       "2018-12-31    0.931108\n",
       "2019-12-31    0.939745\n",
       "2020-12-31    0.928844"
      ]
     },
     "execution_count": 24,
     "metadata": {},
     "output_type": "execute_result"
    }
   ],
   "source": [
    "df_real_xr.tail()"
   ]
  },
  {
   "cell_type": "markdown",
   "metadata": {},
   "source": [
    "## Merge dataframes"
   ]
  },
  {
   "cell_type": "code",
   "execution_count": 25,
   "metadata": {},
   "outputs": [],
   "source": [
    "df_merged = df_monthly.join(df_real_xr)"
   ]
  },
  {
   "cell_type": "code",
   "execution_count": 26,
   "metadata": {},
   "outputs": [],
   "source": [
    "df_merged= df_merged.join(df_ppp_merge['CAN PPP XR'])"
   ]
  },
  {
   "cell_type": "code",
   "execution_count": 27,
   "metadata": {},
   "outputs": [
    {
     "data": {
      "text/plain": [
       "USD/CAD        0.765662\n",
       "CAN REAL XR    0.939745\n",
       "CAN PPP XR     1.246847\n",
       "Name: 2019-12-31 00:00:00, dtype: object"
      ]
     },
     "execution_count": 27,
     "metadata": {},
     "output_type": "execute_result"
    }
   ],
   "source": [
    "df_merged.loc['2019-12-31']"
   ]
  },
  {
   "cell_type": "code",
   "execution_count": 28,
   "metadata": {},
   "outputs": [
    {
     "data": {
      "text/plain": [
       "0.6140785517389061"
      ]
     },
     "execution_count": 28,
     "metadata": {},
     "output_type": "execute_result"
    }
   ],
   "source": [
    "0.765662/1.246847"
   ]
  },
  {
   "cell_type": "code",
   "execution_count": 29,
   "metadata": {},
   "outputs": [],
   "source": [
    "import matplotlib.pyplot as plt"
   ]
  },
  {
   "cell_type": "code",
   "execution_count": 30,
   "metadata": {},
   "outputs": [],
   "source": [
    "plt.rcParams['figure.figsize'] = (10,4)"
   ]
  },
  {
   "cell_type": "code",
   "execution_count": 31,
   "metadata": {
    "scrolled": true
   },
   "outputs": [
    {
     "data": {
      "image/png": "[encoded data removed]",
      "text/plain": [
       "<Figure size 720x288 with 1 Axes>"
      ]
     },
     "metadata": {
      "needs_background": "light"
     },
     "output_type": "display_data"
    }
   ],
   "source": [
    "plt.plot(df_merged['USD/CAD'], label = 'Market XR')\n",
    "plt.plot(df_merged['CAN PPP XR'].dropna(), label = 'PPP XR')\n",
    "plt.legend()\n",
    "plt.show()\n"
   ]
  },
  {
   "cell_type": "code",
   "execution_count": 32,
   "metadata": {},
   "outputs": [],
   "source": [
    "df_merged['CAN PPP XR'] = df_merged['CAN PPP XR'].fillna(method='ffill')"
   ]
  },
  {
   "cell_type": "code",
   "execution_count": 33,
   "metadata": {},
   "outputs": [],
   "source": [
    "df_merged['New Real XR'] = \\\n",
    "    df_merged['USD/CAD']/df_merged['CAN PPP XR']\n",
    "# 이렇게 하는게 맞음....\n",
    "#     df_merged['CAD/USD']/df_merged['PPP XR']>> 이게 맞음????아오"
   ]
  },
  {
   "cell_type": "code",
   "execution_count": 34,
   "metadata": {},
   "outputs": [
    {
     "data": {
      "text/html": [
       "<div>\n",
       "<style scoped>\n",
       "    .dataframe tbody tr th:only-of-type {\n",
       "        vertical-align: middle;\n",
       "    }\n",
       "\n",
       "    .dataframe tbody tr th {\n",
       "        vertical-align: top;\n",
       "    }\n",
       "\n",
       "    .dataframe thead th {\n",
       "        text-align: right;\n",
       "    }\n",
       "</style>\n",
       "<table border=\"1\" class=\"dataframe\">\n",
       "  <thead>\n",
       "    <tr style=\"text-align: right;\">\n",
       "      <th></th>\n",
       "      <th>USD/CAD</th>\n",
       "      <th>CAN REAL XR</th>\n",
       "      <th>CAN PPP XR</th>\n",
       "      <th>New Real XR</th>\n",
       "    </tr>\n",
       "    <tr>\n",
       "      <th>Date</th>\n",
       "      <th></th>\n",
       "      <th></th>\n",
       "      <th></th>\n",
       "      <th></th>\n",
       "    </tr>\n",
       "  </thead>\n",
       "  <tbody>\n",
       "    <tr>\n",
       "      <th>2003-09-30</th>\n",
       "      <td>0.740631</td>\n",
       "      <td>NaN</td>\n",
       "      <td>NaN</td>\n",
       "      <td>NaN</td>\n",
       "    </tr>\n",
       "    <tr>\n",
       "      <th>2003-10-31</th>\n",
       "      <td>0.759359</td>\n",
       "      <td>NaN</td>\n",
       "      <td>NaN</td>\n",
       "      <td>NaN</td>\n",
       "    </tr>\n",
       "    <tr>\n",
       "      <th>2003-11-30</th>\n",
       "      <td>0.768994</td>\n",
       "      <td>NaN</td>\n",
       "      <td>NaN</td>\n",
       "      <td>NaN</td>\n",
       "    </tr>\n",
       "    <tr>\n",
       "      <th>2003-12-31</th>\n",
       "      <td>0.770891</td>\n",
       "      <td>0.874823</td>\n",
       "      <td>1.225714</td>\n",
       "      <td>0.628932</td>\n",
       "    </tr>\n",
       "    <tr>\n",
       "      <th>2004-01-31</th>\n",
       "      <td>0.755458</td>\n",
       "      <td>NaN</td>\n",
       "      <td>1.225714</td>\n",
       "      <td>0.616341</td>\n",
       "    </tr>\n",
       "  </tbody>\n",
       "</table>\n",
       "</div>"
      ],
      "text/plain": [
       "             USD/CAD CAN REAL XR  CAN PPP XR  New Real XR\n",
       "Date                                                     \n",
       "2003-09-30  0.740631         NaN         NaN          NaN\n",
       "2003-10-31  0.759359         NaN         NaN          NaN\n",
       "2003-11-30  0.768994         NaN         NaN          NaN\n",
       "2003-12-31  0.770891    0.874823    1.225714     0.628932\n",
       "2004-01-31  0.755458         NaN    1.225714     0.616341"
      ]
     },
     "execution_count": 34,
     "metadata": {},
     "output_type": "execute_result"
    }
   ],
   "source": [
    "df_merged.head()"
   ]
  },
  {
   "cell_type": "code",
   "execution_count": 36,
   "metadata": {},
   "outputs": [],
   "source": [
    "df_merged['CAN REAL XR'] = df_merged['CAN REAL XR'].fillna(method='ffill')"
   ]
  },
  {
   "cell_type": "code",
   "execution_count": 73,
   "metadata": {
    "scrolled": true
   },
   "outputs": [
    {
     "data": {
      "image/png": "[encoded data removed]",
      "text/plain": [
       "<Figure size 720x288 with 1 Axes>"
      ]
     },
     "metadata": {
      "needs_background": "light"
     },
     "output_type": "display_data"
    }
   ],
   "source": [
    "plt.plot(df_merged['New Real XR'], label = 'New Real XR')\n",
    "# plt.plot(df_merged['Real XR'].shift(-12), label = 'Original World Bank')\n",
    "plt.plot(df_merged['CAN REAL XR'].shift(-12), label = 'Original World Bank')\n",
    "plt.legend()\n",
    "plt.show()"
   ]
  },
  {
   "cell_type": "code",
   "execution_count": 39,
   "metadata": {},
   "outputs": [
    {
     "data": {
      "text/html": [
       "<div>\n",
       "<style scoped>\n",
       "    .dataframe tbody tr th:only-of-type {\n",
       "        vertical-align: middle;\n",
       "    }\n",
       "\n",
       "    .dataframe tbody tr th {\n",
       "        vertical-align: top;\n",
       "    }\n",
       "\n",
       "    .dataframe thead th {\n",
       "        text-align: right;\n",
       "    }\n",
       "</style>\n",
       "<table border=\"1\" class=\"dataframe\">\n",
       "  <thead>\n",
       "    <tr style=\"text-align: right;\">\n",
       "      <th></th>\n",
       "      <th>New Real XR</th>\n",
       "      <th>CAN REAL XR</th>\n",
       "    </tr>\n",
       "    <tr>\n",
       "      <th>Date</th>\n",
       "      <th></th>\n",
       "      <th></th>\n",
       "    </tr>\n",
       "  </thead>\n",
       "  <tbody>\n",
       "    <tr>\n",
       "      <th>2003-09-30</th>\n",
       "      <td>NaN</td>\n",
       "      <td>NaN</td>\n",
       "    </tr>\n",
       "    <tr>\n",
       "      <th>2003-10-31</th>\n",
       "      <td>NaN</td>\n",
       "      <td>NaN</td>\n",
       "    </tr>\n",
       "    <tr>\n",
       "      <th>2003-11-30</th>\n",
       "      <td>NaN</td>\n",
       "      <td>NaN</td>\n",
       "    </tr>\n",
       "    <tr>\n",
       "      <th>2003-12-31</th>\n",
       "      <td>0.628932</td>\n",
       "      <td>0.874823</td>\n",
       "    </tr>\n",
       "    <tr>\n",
       "      <th>2004-01-31</th>\n",
       "      <td>0.616341</td>\n",
       "      <td>0.874823</td>\n",
       "    </tr>\n",
       "    <tr>\n",
       "      <th>...</th>\n",
       "      <td>...</td>\n",
       "      <td>...</td>\n",
       "    </tr>\n",
       "    <tr>\n",
       "      <th>2021-12-31</th>\n",
       "      <td>0.629882</td>\n",
       "      <td>0.928844</td>\n",
       "    </tr>\n",
       "    <tr>\n",
       "      <th>2022-01-31</th>\n",
       "      <td>0.629818</td>\n",
       "      <td>0.928844</td>\n",
       "    </tr>\n",
       "    <tr>\n",
       "      <th>2022-02-28</th>\n",
       "      <td>0.629349</td>\n",
       "      <td>0.928844</td>\n",
       "    </tr>\n",
       "    <tr>\n",
       "      <th>2022-03-31</th>\n",
       "      <td>0.643108</td>\n",
       "      <td>0.928844</td>\n",
       "    </tr>\n",
       "    <tr>\n",
       "      <th>2022-04-30</th>\n",
       "      <td>0.642907</td>\n",
       "      <td>0.928844</td>\n",
       "    </tr>\n",
       "  </tbody>\n",
       "</table>\n",
       "<p>224 rows × 2 columns</p>\n",
       "</div>"
      ],
      "text/plain": [
       "            New Real XR  CAN REAL XR\n",
       "Date                                \n",
       "2003-09-30          NaN          NaN\n",
       "2003-10-31          NaN          NaN\n",
       "2003-11-30          NaN          NaN\n",
       "2003-12-31     0.628932     0.874823\n",
       "2004-01-31     0.616341     0.874823\n",
       "...                 ...          ...\n",
       "2021-12-31     0.629882     0.928844\n",
       "2022-01-31     0.629818     0.928844\n",
       "2022-02-28     0.629349     0.928844\n",
       "2022-03-31     0.643108     0.928844\n",
       "2022-04-30     0.642907     0.928844\n",
       "\n",
       "[224 rows x 2 columns]"
      ]
     },
     "execution_count": 39,
     "metadata": {},
     "output_type": "execute_result"
    }
   ],
   "source": [
    "df_merged[['New Real XR', 'CAN REAL XR']]"
   ]
  },
  {
   "cell_type": "markdown",
   "metadata": {},
   "source": [
    "### Compute annual returns in the currency market"
   ]
  },
  {
   "cell_type": "code",
   "execution_count": 40,
   "metadata": {},
   "outputs": [],
   "source": [
    "df_merged['ann_ret'] = \\\n",
    "    df_merged['USD/CAD'].pct_change(periods=12)*100"
   ]
  },
  {
   "cell_type": "code",
   "execution_count": 41,
   "metadata": {},
   "outputs": [],
   "source": [
    "df_merged['F12.ann_ret'] = \\\n",
    "    df_merged['ann_ret'].shift(-12)"
   ]
  },
  {
   "cell_type": "code",
   "execution_count": 42,
   "metadata": {},
   "outputs": [
    {
     "data": {
      "text/html": [
       "<div>\n",
       "<style scoped>\n",
       "    .dataframe tbody tr th:only-of-type {\n",
       "        vertical-align: middle;\n",
       "    }\n",
       "\n",
       "    .dataframe tbody tr th {\n",
       "        vertical-align: top;\n",
       "    }\n",
       "\n",
       "    .dataframe thead th {\n",
       "        text-align: right;\n",
       "    }\n",
       "</style>\n",
       "<table border=\"1\" class=\"dataframe\">\n",
       "  <thead>\n",
       "    <tr style=\"text-align: right;\">\n",
       "      <th></th>\n",
       "      <th>USD/CAD</th>\n",
       "      <th>CAN REAL XR</th>\n",
       "      <th>CAN PPP XR</th>\n",
       "      <th>New Real XR</th>\n",
       "      <th>ann_ret</th>\n",
       "      <th>F12.ann_ret</th>\n",
       "    </tr>\n",
       "    <tr>\n",
       "      <th>Date</th>\n",
       "      <th></th>\n",
       "      <th></th>\n",
       "      <th></th>\n",
       "      <th></th>\n",
       "      <th></th>\n",
       "      <th></th>\n",
       "    </tr>\n",
       "  </thead>\n",
       "  <tbody>\n",
       "    <tr>\n",
       "      <th>2003-09-30</th>\n",
       "      <td>0.740631</td>\n",
       "      <td>NaN</td>\n",
       "      <td>NaN</td>\n",
       "      <td>NaN</td>\n",
       "      <td>NaN</td>\n",
       "      <td>7.031302</td>\n",
       "    </tr>\n",
       "    <tr>\n",
       "      <th>2003-10-31</th>\n",
       "      <td>0.759359</td>\n",
       "      <td>NaN</td>\n",
       "      <td>NaN</td>\n",
       "      <td>NaN</td>\n",
       "      <td>NaN</td>\n",
       "      <td>8.190987</td>\n",
       "    </tr>\n",
       "    <tr>\n",
       "      <th>2003-11-30</th>\n",
       "      <td>0.768994</td>\n",
       "      <td>NaN</td>\n",
       "      <td>NaN</td>\n",
       "      <td>NaN</td>\n",
       "      <td>NaN</td>\n",
       "      <td>9.488891</td>\n",
       "    </tr>\n",
       "    <tr>\n",
       "      <th>2003-12-31</th>\n",
       "      <td>0.770891</td>\n",
       "      <td>0.874823</td>\n",
       "      <td>1.225714</td>\n",
       "      <td>0.628932</td>\n",
       "      <td>NaN</td>\n",
       "      <td>8.001001</td>\n",
       "    </tr>\n",
       "    <tr>\n",
       "      <th>2004-01-31</th>\n",
       "      <td>0.755458</td>\n",
       "      <td>0.874823</td>\n",
       "      <td>1.225714</td>\n",
       "      <td>0.616341</td>\n",
       "      <td>NaN</td>\n",
       "      <td>6.732869</td>\n",
       "    </tr>\n",
       "    <tr>\n",
       "      <th>2004-02-29</th>\n",
       "      <td>0.749232</td>\n",
       "      <td>0.874823</td>\n",
       "      <td>1.225714</td>\n",
       "      <td>0.611262</td>\n",
       "      <td>NaN</td>\n",
       "      <td>8.134196</td>\n",
       "    </tr>\n",
       "    <tr>\n",
       "      <th>2004-03-31</th>\n",
       "      <td>0.763592</td>\n",
       "      <td>0.874823</td>\n",
       "      <td>1.225714</td>\n",
       "      <td>0.622977</td>\n",
       "      <td>NaN</td>\n",
       "      <td>8.267242</td>\n",
       "    </tr>\n",
       "    <tr>\n",
       "      <th>2004-04-30</th>\n",
       "      <td>0.729501</td>\n",
       "      <td>0.874823</td>\n",
       "      <td>1.225714</td>\n",
       "      <td>0.595164</td>\n",
       "      <td>NaN</td>\n",
       "      <td>8.983949</td>\n",
       "    </tr>\n",
       "    <tr>\n",
       "      <th>2004-05-31</th>\n",
       "      <td>0.733945</td>\n",
       "      <td>0.874823</td>\n",
       "      <td>1.225714</td>\n",
       "      <td>0.598790</td>\n",
       "      <td>NaN</td>\n",
       "      <td>8.678307</td>\n",
       "    </tr>\n",
       "    <tr>\n",
       "      <th>2004-06-30</th>\n",
       "      <td>0.750019</td>\n",
       "      <td>0.874823</td>\n",
       "      <td>1.225714</td>\n",
       "      <td>0.611904</td>\n",
       "      <td>NaN</td>\n",
       "      <td>8.867509</td>\n",
       "    </tr>\n",
       "    <tr>\n",
       "      <th>2004-07-31</th>\n",
       "      <td>0.751089</td>\n",
       "      <td>0.874823</td>\n",
       "      <td>1.225714</td>\n",
       "      <td>0.612777</td>\n",
       "      <td>NaN</td>\n",
       "      <td>10.242594</td>\n",
       "    </tr>\n",
       "    <tr>\n",
       "      <th>2004-08-31</th>\n",
       "      <td>0.761963</td>\n",
       "      <td>0.874823</td>\n",
       "      <td>1.225714</td>\n",
       "      <td>0.621648</td>\n",
       "      <td>NaN</td>\n",
       "      <td>10.415598</td>\n",
       "    </tr>\n",
       "    <tr>\n",
       "      <th>2004-09-30</th>\n",
       "      <td>0.792707</td>\n",
       "      <td>0.874823</td>\n",
       "      <td>1.225714</td>\n",
       "      <td>0.646731</td>\n",
       "      <td>7.031302</td>\n",
       "      <td>8.488130</td>\n",
       "    </tr>\n",
       "    <tr>\n",
       "      <th>2004-10-31</th>\n",
       "      <td>0.821558</td>\n",
       "      <td>0.874823</td>\n",
       "      <td>1.225714</td>\n",
       "      <td>0.670269</td>\n",
       "      <td>8.190987</td>\n",
       "      <td>2.969236</td>\n",
       "    </tr>\n",
       "    <tr>\n",
       "      <th>2004-11-30</th>\n",
       "      <td>0.841963</td>\n",
       "      <td>0.874823</td>\n",
       "      <td>1.225714</td>\n",
       "      <td>0.686916</td>\n",
       "      <td>9.488891</td>\n",
       "      <td>1.852338</td>\n",
       "    </tr>\n",
       "  </tbody>\n",
       "</table>\n",
       "</div>"
      ],
      "text/plain": [
       "             USD/CAD  CAN REAL XR  CAN PPP XR  New Real XR   ann_ret  \\\n",
       "Date                                                                   \n",
       "2003-09-30  0.740631          NaN         NaN          NaN       NaN   \n",
       "2003-10-31  0.759359          NaN         NaN          NaN       NaN   \n",
       "2003-11-30  0.768994          NaN         NaN          NaN       NaN   \n",
       "2003-12-31  0.770891     0.874823    1.225714     0.628932       NaN   \n",
       "2004-01-31  0.755458     0.874823    1.225714     0.616341       NaN   \n",
       "2004-02-29  0.749232     0.874823    1.225714     0.611262       NaN   \n",
       "2004-03-31  0.763592     0.874823    1.225714     0.622977       NaN   \n",
       "2004-04-30  0.729501     0.874823    1.225714     0.595164       NaN   \n",
       "2004-05-31  0.733945     0.874823    1.225714     0.598790       NaN   \n",
       "2004-06-30  0.750019     0.874823    1.225714     0.611904       NaN   \n",
       "2004-07-31  0.751089     0.874823    1.225714     0.612777       NaN   \n",
       "2004-08-31  0.761963     0.874823    1.225714     0.621648       NaN   \n",
       "2004-09-30  0.792707     0.874823    1.225714     0.646731  7.031302   \n",
       "2004-10-31  0.821558     0.874823    1.225714     0.670269  8.190987   \n",
       "2004-11-30  0.841963     0.874823    1.225714     0.686916  9.488891   \n",
       "\n",
       "            F12.ann_ret  \n",
       "Date                     \n",
       "2003-09-30     7.031302  \n",
       "2003-10-31     8.190987  \n",
       "2003-11-30     9.488891  \n",
       "2003-12-31     8.001001  \n",
       "2004-01-31     6.732869  \n",
       "2004-02-29     8.134196  \n",
       "2004-03-31     8.267242  \n",
       "2004-04-30     8.983949  \n",
       "2004-05-31     8.678307  \n",
       "2004-06-30     8.867509  \n",
       "2004-07-31    10.242594  \n",
       "2004-08-31    10.415598  \n",
       "2004-09-30     8.488130  \n",
       "2004-10-31     2.969236  \n",
       "2004-11-30     1.852338  "
      ]
     },
     "execution_count": 42,
     "metadata": {},
     "output_type": "execute_result"
    }
   ],
   "source": [
    "df_merged.head(15)"
   ]
  },
  {
   "cell_type": "markdown",
   "metadata": {},
   "source": [
    "### Use OLS!!!"
   ]
  },
  {
   "cell_type": "code",
   "execution_count": 43,
   "metadata": {},
   "outputs": [],
   "source": [
    "import statsmodels.api as sm"
   ]
  },
  {
   "cell_type": "code",
   "execution_count": 44,
   "metadata": {},
   "outputs": [],
   "source": [
    "df = df_merged[['New Real XR', 'F12.ann_ret']]\n",
    "df = df.dropna()"
   ]
  },
  {
   "cell_type": "code",
   "execution_count": 45,
   "metadata": {},
   "outputs": [
    {
     "name": "stderr",
     "output_type": "stream",
     "text": [
      "/Users/boysbeanxious/opt/anaconda3/lib/python3.7/site-packages/statsmodels/tsa/tsatools.py:130: FutureWarning: In a future version of pandas all arguments of concat except for the argument 'objs' will be keyword-only\n",
      "  x = pd.concat(x[::order], 1)\n"
     ]
    }
   ],
   "source": [
    "X = df['New Real XR']\n",
    "X = sm.add_constant(X)"
   ]
  },
  {
   "cell_type": "code",
   "execution_count": 46,
   "metadata": {},
   "outputs": [],
   "source": [
    "Y = df['F12.ann_ret']"
   ]
  },
  {
   "cell_type": "code",
   "execution_count": 47,
   "metadata": {},
   "outputs": [],
   "source": [
    "model = sm.OLS(Y,X)"
   ]
  },
  {
   "cell_type": "code",
   "execution_count": 48,
   "metadata": {},
   "outputs": [],
   "source": [
    "results = model.fit()"
   ]
  },
  {
   "cell_type": "code",
   "execution_count": 49,
   "metadata": {},
   "outputs": [
    {
     "data": {
      "text/html": [
       "<table class=\"simpletable\">\n",
       "<caption>OLS Regression Results</caption>\n",
       "<tr>\n",
       "  <th>Dep. Variable:</th>       <td>F12.ann_ret</td>   <th>  R-squared:         </th> <td>   0.152</td>\n",
       "</tr>\n",
       "<tr>\n",
       "  <th>Model:</th>                   <td>OLS</td>       <th>  Adj. R-squared:    </th> <td>   0.148</td>\n",
       "</tr>\n",
       "<tr>\n",
       "  <th>Method:</th>             <td>Least Squares</td>  <th>  F-statistic:       </th> <td>   37.18</td>\n",
       "</tr>\n",
       "<tr>\n",
       "  <th>Date:</th>             <td>Sun, 10 Apr 2022</td> <th>  Prob (F-statistic):</th> <td>5.20e-09</td>\n",
       "</tr>\n",
       "<tr>\n",
       "  <th>Time:</th>                 <td>13:34:08</td>     <th>  Log-Likelihood:    </th> <td> -723.28</td>\n",
       "</tr>\n",
       "<tr>\n",
       "  <th>No. Observations:</th>      <td>   209</td>      <th>  AIC:               </th> <td>   1451.</td>\n",
       "</tr>\n",
       "<tr>\n",
       "  <th>Df Residuals:</th>          <td>   207</td>      <th>  BIC:               </th> <td>   1457.</td>\n",
       "</tr>\n",
       "<tr>\n",
       "  <th>Df Model:</th>              <td>     1</td>      <th>                     </th>     <td> </td>   \n",
       "</tr>\n",
       "<tr>\n",
       "  <th>Covariance Type:</th>      <td>nonrobust</td>    <th>                     </th>     <td> </td>   \n",
       "</tr>\n",
       "</table>\n",
       "<table class=\"simpletable\">\n",
       "<tr>\n",
       "       <td></td>          <th>coef</th>     <th>std err</th>      <th>t</th>      <th>P>|t|</th>  <th>[0.025</th>    <th>0.975]</th>  \n",
       "</tr>\n",
       "<tr>\n",
       "  <th>const</th>       <td>   28.6053</td> <td>    4.629</td> <td>    6.179</td> <td> 0.000</td> <td>   19.479</td> <td>   37.732</td>\n",
       "</tr>\n",
       "<tr>\n",
       "  <th>New Real XR</th> <td>  -39.8285</td> <td>    6.532</td> <td>   -6.097</td> <td> 0.000</td> <td>  -52.706</td> <td>  -26.951</td>\n",
       "</tr>\n",
       "</table>\n",
       "<table class=\"simpletable\">\n",
       "<tr>\n",
       "  <th>Omnibus:</th>       <td> 0.439</td> <th>  Durbin-Watson:     </th> <td>   0.159</td>\n",
       "</tr>\n",
       "<tr>\n",
       "  <th>Prob(Omnibus):</th> <td> 0.803</td> <th>  Jarque-Bera (JB):  </th> <td>   0.459</td>\n",
       "</tr>\n",
       "<tr>\n",
       "  <th>Skew:</th>          <td> 0.109</td> <th>  Prob(JB):          </th> <td>   0.795</td>\n",
       "</tr>\n",
       "<tr>\n",
       "  <th>Kurtosis:</th>      <td> 2.928</td> <th>  Cond. No.          </th> <td>    18.3</td>\n",
       "</tr>\n",
       "</table><br/><br/>Warnings:<br/>[1] Standard Errors assume that the covariance matrix of the errors is correctly specified."
      ],
      "text/plain": [
       "<class 'statsmodels.iolib.summary.Summary'>\n",
       "\"\"\"\n",
       "                            OLS Regression Results                            \n",
       "==============================================================================\n",
       "Dep. Variable:            F12.ann_ret   R-squared:                       0.152\n",
       "Model:                            OLS   Adj. R-squared:                  0.148\n",
       "Method:                 Least Squares   F-statistic:                     37.18\n",
       "Date:                Sun, 10 Apr 2022   Prob (F-statistic):           5.20e-09\n",
       "Time:                        13:34:08   Log-Likelihood:                -723.28\n",
       "No. Observations:                 209   AIC:                             1451.\n",
       "Df Residuals:                     207   BIC:                             1457.\n",
       "Df Model:                           1                                         \n",
       "Covariance Type:            nonrobust                                         \n",
       "===============================================================================\n",
       "                  coef    std err          t      P>|t|      [0.025      0.975]\n",
       "-------------------------------------------------------------------------------\n",
       "const          28.6053      4.629      6.179      0.000      19.479      37.732\n",
       "New Real XR   -39.8285      6.532     -6.097      0.000     -52.706     -26.951\n",
       "==============================================================================\n",
       "Omnibus:                        0.439   Durbin-Watson:                   0.159\n",
       "Prob(Omnibus):                  0.803   Jarque-Bera (JB):                0.459\n",
       "Skew:                           0.109   Prob(JB):                        0.795\n",
       "Kurtosis:                       2.928   Cond. No.                         18.3\n",
       "==============================================================================\n",
       "\n",
       "Warnings:\n",
       "[1] Standard Errors assume that the covariance matrix of the errors is correctly specified.\n",
       "\"\"\""
      ]
     },
     "execution_count": 49,
     "metadata": {},
     "output_type": "execute_result"
    }
   ],
   "source": [
    "results.summary()"
   ]
  },
  {
   "cell_type": "markdown",
   "metadata": {},
   "source": [
    "## Forecast XR"
   ]
  },
  {
   "cell_type": "markdown",
   "metadata": {},
   "source": [
    "$$\n",
    "y = \\alpha + \\beta x\n",
    "$$"
   ]
  },
  {
   "cell_type": "markdown",
   "metadata": {},
   "source": [
    "$$\n",
    "\\text{ret}_{t, t+12} = \\alpha + \\beta \\, \\text{Real XR}_t +\\epsilon\n",
    "$$"
   ]
  },
  {
   "cell_type": "code",
   "execution_count": 50,
   "metadata": {},
   "outputs": [
    {
     "data": {
      "text/plain": [
       "const          28.605334\n",
       "New Real XR   -39.828474\n",
       "dtype: float64"
      ]
     },
     "execution_count": 50,
     "metadata": {},
     "output_type": "execute_result"
    }
   ],
   "source": [
    "results.params"
   ]
  },
  {
   "cell_type": "code",
   "execution_count": 51,
   "metadata": {},
   "outputs": [
    {
     "data": {
      "text/plain": [
       "['HC0_se',\n",
       " 'HC1_se',\n",
       " 'HC2_se',\n",
       " 'HC3_se',\n",
       " '_HCCM',\n",
       " '__class__',\n",
       " '__delattr__',\n",
       " '__dict__',\n",
       " '__dir__',\n",
       " '__doc__',\n",
       " '__eq__',\n",
       " '__format__',\n",
       " '__ge__',\n",
       " '__getattribute__',\n",
       " '__gt__',\n",
       " '__hash__',\n",
       " '__init__',\n",
       " '__init_subclass__',\n",
       " '__le__',\n",
       " '__lt__',\n",
       " '__module__',\n",
       " '__ne__',\n",
       " '__new__',\n",
       " '__reduce__',\n",
       " '__reduce_ex__',\n",
       " '__repr__',\n",
       " '__setattr__',\n",
       " '__sizeof__',\n",
       " '__str__',\n",
       " '__subclasshook__',\n",
       " '__weakref__',\n",
       " '_cache',\n",
       " '_data_attr',\n",
       " '_get_robustcov_results',\n",
       " '_is_nested',\n",
       " '_use_t',\n",
       " '_wexog_singular_values',\n",
       " 'aic',\n",
       " 'bic',\n",
       " 'bse',\n",
       " 'centered_tss',\n",
       " 'compare_f_test',\n",
       " 'compare_lm_test',\n",
       " 'compare_lr_test',\n",
       " 'condition_number',\n",
       " 'conf_int',\n",
       " 'conf_int_el',\n",
       " 'cov_HC0',\n",
       " 'cov_HC1',\n",
       " 'cov_HC2',\n",
       " 'cov_HC3',\n",
       " 'cov_kwds',\n",
       " 'cov_params',\n",
       " 'cov_type',\n",
       " 'df_model',\n",
       " 'df_resid',\n",
       " 'diagn',\n",
       " 'eigenvals',\n",
       " 'el_test',\n",
       " 'ess',\n",
       " 'f_pvalue',\n",
       " 'f_test',\n",
       " 'fittedvalues',\n",
       " 'fvalue',\n",
       " 'get_influence',\n",
       " 'get_prediction',\n",
       " 'get_robustcov_results',\n",
       " 'initialize',\n",
       " 'k_constant',\n",
       " 'llf',\n",
       " 'load',\n",
       " 'model',\n",
       " 'mse_model',\n",
       " 'mse_resid',\n",
       " 'mse_total',\n",
       " 'nobs',\n",
       " 'normalized_cov_params',\n",
       " 'outlier_test',\n",
       " 'params',\n",
       " 'predict',\n",
       " 'pvalues',\n",
       " 'remove_data',\n",
       " 'resid',\n",
       " 'resid_pearson',\n",
       " 'rsquared',\n",
       " 'rsquared_adj',\n",
       " 'save',\n",
       " 'scale',\n",
       " 'ssr',\n",
       " 'summary',\n",
       " 'summary2',\n",
       " 't_test',\n",
       " 't_test_pairwise',\n",
       " 'tvalues',\n",
       " 'uncentered_tss',\n",
       " 'use_t',\n",
       " 'wald_test',\n",
       " 'wald_test_terms',\n",
       " 'wresid']"
      ]
     },
     "execution_count": 51,
     "metadata": {},
     "output_type": "execute_result"
    }
   ],
   "source": [
    "dir(results)"
   ]
  },
  {
   "cell_type": "code",
   "execution_count": 52,
   "metadata": {},
   "outputs": [
    {
     "data": {
      "text/plain": [
       "const          28.605334\n",
       "New Real XR   -39.828474\n",
       "dtype: float64"
      ]
     },
     "execution_count": 52,
     "metadata": {},
     "output_type": "execute_result"
    }
   ],
   "source": [
    "results.params"
   ]
  },
  {
   "cell_type": "code",
   "execution_count": 53,
   "metadata": {},
   "outputs": [],
   "source": [
    "last_obs = df_merged.iloc[-1]"
   ]
  },
  {
   "cell_type": "code",
   "execution_count": 54,
   "metadata": {},
   "outputs": [],
   "source": [
    "last_xr = last_obs['USD/CAD']\n",
    "last_year_xr = last_obs['New Real XR']"
   ]
  },
  {
   "cell_type": "code",
   "execution_count": 55,
   "metadata": {},
   "outputs": [
    {
     "data": {
      "text/plain": [
       "0.800884"
      ]
     },
     "execution_count": 55,
     "metadata": {},
     "output_type": "execute_result"
    }
   ],
   "source": [
    "last_xr"
   ]
  },
  {
   "cell_type": "code",
   "execution_count": 56,
   "metadata": {},
   "outputs": [
    {
     "data": {
      "text/plain": [
       "0.6429074865820785"
      ]
     },
     "execution_count": 56,
     "metadata": {},
     "output_type": "execute_result"
    }
   ],
   "source": [
    "last_year_xr"
   ]
  },
  {
   "cell_type": "code",
   "execution_count": null,
   "metadata": {},
   "outputs": [],
   "source": []
  },
  {
   "cell_type": "markdown",
   "metadata": {},
   "source": [
    "### method 1: simple , straightfoward, stupid"
   ]
  },
  {
   "cell_type": "code",
   "execution_count": 57,
   "metadata": {},
   "outputs": [],
   "source": [
    "alpha = results.params['const']\n",
    "beta = results.params['New Real XR']"
   ]
  },
  {
   "cell_type": "code",
   "execution_count": 58,
   "metadata": {},
   "outputs": [
    {
     "data": {
      "text/plain": [
       "2.9993102600201986"
      ]
     },
     "execution_count": 58,
     "metadata": {},
     "output_type": "execute_result"
    }
   ],
   "source": [
    "alpha+beta*last_year_xr"
   ]
  },
  {
   "cell_type": "markdown",
   "metadata": {},
   "source": [
    "### method 2: numpy "
   ]
  },
  {
   "cell_type": "code",
   "execution_count": 59,
   "metadata": {},
   "outputs": [],
   "source": [
    "import numpy as np"
   ]
  },
  {
   "cell_type": "code",
   "execution_count": 60,
   "metadata": {},
   "outputs": [],
   "source": [
    "exog = [1, last_year_xr]"
   ]
  },
  {
   "cell_type": "code",
   "execution_count": 61,
   "metadata": {},
   "outputs": [
    {
     "data": {
      "text/plain": [
       "2.9993102600201986"
      ]
     },
     "execution_count": 61,
     "metadata": {},
     "output_type": "execute_result"
    }
   ],
   "source": [
    "np.dot(results.params, exog)"
   ]
  },
  {
   "cell_type": "markdown",
   "metadata": {},
   "source": [
    "### method 3: predict"
   ]
  },
  {
   "cell_type": "code",
   "execution_count": 62,
   "metadata": {},
   "outputs": [
    {
     "data": {
      "text/plain": [
       "array([2.99931026])"
      ]
     },
     "execution_count": 62,
     "metadata": {},
     "output_type": "execute_result"
    }
   ],
   "source": [
    "results.predict(exog = exog)"
   ]
  },
  {
   "cell_type": "code",
   "execution_count": 63,
   "metadata": {},
   "outputs": [
    {
     "name": "stdout",
     "output_type": "stream",
     "text": [
      "Help on method predict in module statsmodels.base.model:\n",
      "\n",
      "predict(exog=None, transform=True, *args, **kwargs) method of statsmodels.regression.linear_model.OLSResults instance\n",
      "    Call self.model.predict with self.params as the first argument.\n",
      "    \n",
      "    Parameters\n",
      "    ----------\n",
      "    exog : array_like, optional\n",
      "        The values for which you want to predict. see Notes below.\n",
      "    transform : bool, optional\n",
      "        If the model was fit via a formula, do you want to pass\n",
      "        exog through the formula. Default is True. E.g., if you fit\n",
      "        a model y ~ log(x1) + log(x2), and transform is True, then\n",
      "        you can pass a data structure that contains x1 and x2 in\n",
      "        their original form. Otherwise, you'd need to log the data\n",
      "        first.\n",
      "    *args\n",
      "        Additional arguments to pass to the model, see the\n",
      "        predict method of the model for the details.\n",
      "    **kwargs\n",
      "        Additional keywords arguments to pass to the model, see the\n",
      "        predict method of the model for the details.\n",
      "    \n",
      "    Returns\n",
      "    -------\n",
      "    array_like\n",
      "        See self.model.predict.\n",
      "    \n",
      "    Notes\n",
      "    -----\n",
      "    The types of exog that are supported depends on whether a formula\n",
      "    was used in the specification of the model.\n",
      "    \n",
      "    If a formula was used, then exog is processed in the same way as\n",
      "    the original data. This transformation needs to have key access to the\n",
      "    same variable names, and can be a pandas DataFrame or a dict like\n",
      "    object that contains numpy arrays.\n",
      "    \n",
      "    If no formula was used, then the provided exog needs to have the\n",
      "    same number of columns as the original exog in the model. No\n",
      "    transformation of the data is performed except converting it to\n",
      "    a numpy array.\n",
      "    \n",
      "    Row indices as in pandas data frames are supported, and added to the\n",
      "    returned prediction.\n",
      "\n"
     ]
    }
   ],
   "source": [
    "help(results.predict)"
   ]
  },
  {
   "cell_type": "code",
   "execution_count": null,
   "metadata": {},
   "outputs": [],
   "source": []
  },
  {
   "cell_type": "markdown",
   "metadata": {},
   "source": [
    "### confidence interval of our predictions"
   ]
  },
  {
   "cell_type": "code",
   "execution_count": 64,
   "metadata": {},
   "outputs": [],
   "source": [
    "from statsmodels.sandbox.regression.predstd import wls_prediction_std"
   ]
  },
  {
   "cell_type": "code",
   "execution_count": 65,
   "metadata": {},
   "outputs": [
    {
     "data": {
      "text/plain": [
       "(array([7.76978698]), array([-12.31875012]), array([18.31737064]))"
      ]
     },
     "execution_count": 65,
     "metadata": {},
     "output_type": "execute_result"
    }
   ],
   "source": [
    "wls_prediction_std(results, exog = exog, alpha=0.05)\n",
    "\n",
    "# alpha 0.05 >> 95% ...,,,,,,,,...\n",
    "\n",
    "# predicted stdev, interval - lower, interval - upper "
   ]
  },
  {
   "cell_type": "code",
   "execution_count": 66,
   "metadata": {},
   "outputs": [
    {
     "data": {
      "text/plain": [
       "list"
      ]
     },
     "execution_count": 66,
     "metadata": {},
     "output_type": "execute_result"
    }
   ],
   "source": [
    "type(exog)"
   ]
  },
  {
   "cell_type": "code",
   "execution_count": 67,
   "metadata": {},
   "outputs": [
    {
     "name": "stdout",
     "output_type": "stream",
     "text": [
      "Confidence interval at alpha 0.05 : -12.32 % ~ 18.32%\n",
      "Confidence interval at alpha 0.25 : -5.96 % ~ 11.96%\n",
      "Confidence interval at alpha 0.50 : -2.25 % ~ 8.25%\n"
     ]
    }
   ],
   "source": [
    "for alpha in [.05, .25, .50]:\n",
    "    prstd, iv_l, iv_u = wls_prediction_std(results, exog = exog, alpha=alpha)\n",
    "    \n",
    "    print('Confidence interval at alpha {:.2f} : {:.2f} % ~ {:.2f}%'.format( alpha, iv_l[0], iv_u[0]))"
   ]
  },
  {
   "cell_type": "code",
   "execution_count": 68,
   "metadata": {},
   "outputs": [],
   "source": [
    "pred_ret = results.predict(exog = exog )"
   ]
  },
  {
   "cell_type": "code",
   "execution_count": 69,
   "metadata": {},
   "outputs": [
    {
     "data": {
      "text/plain": [
       "0.8249049959828603"
      ]
     },
     "execution_count": 69,
     "metadata": {},
     "output_type": "execute_result"
    }
   ],
   "source": [
    "last_xr * (1+pred_ret[0]/100)"
   ]
  },
  {
   "cell_type": "code",
   "execution_count": 70,
   "metadata": {},
   "outputs": [
    {
     "data": {
      "text/plain": [
       "0.800884"
      ]
     },
     "execution_count": 70,
     "metadata": {},
     "output_type": "execute_result"
    }
   ],
   "source": [
    "last_xr"
   ]
  },
  {
   "cell_type": "code",
   "execution_count": 76,
   "metadata": {
    "scrolled": true
   },
   "outputs": [
    {
     "name": "stdout",
     "output_type": "stream",
     "text": [
      "Confidence interval at alpha 0.05000 : 0.70223  ~ 0.94758\n",
      "Confidence interval at alpha 0.25000 : 0.75312  ~ 0.89669\n",
      "Confidence interval at alpha 0.50000 : 0.78286  ~ 0.86695\n"
     ]
    }
   ],
   "source": [
    "for alpha in [.05, .25, .50]:\n",
    "    prstd, iv_l, iv_u = wls_prediction_std(results, exog = exog, alpha=alpha)\n",
    "    \n",
    "    print('Confidence interval at alpha {:.5f} : {:.5f}  ~ {:.5f}'.format( alpha, last_xr*(1+iv_l[0]/100), last_xr*(1+iv_u[0]/100)))"
   ]
  },
  {
   "cell_type": "code",
   "execution_count": null,
   "metadata": {},
   "outputs": [],
   "source": []
  },
  {
   "cell_type": "code",
   "execution_count": null,
   "metadata": {},
   "outputs": [],
   "source": []
  }
 ],
 "metadata": {
  "kernelspec": {
   "display_name": "Python 3",
   "language": "python",
   "name": "python3"
  },
  "language_info": {
   "codemirror_mode": {
    "name": "ipython",
    "version": 3
   },
   "file_extension": ".py",
   "mimetype": "text/x-python",
   "name": "python",
   "nbconvert_exporter": "python",
   "pygments_lexer": "ipython3",
   "version": "3.7.6"
  }
 },
 "nbformat": 4,
 "nbformat_minor": 4
}
