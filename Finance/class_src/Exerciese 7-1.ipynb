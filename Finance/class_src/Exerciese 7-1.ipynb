{
 "cells": [
  {
   "cell_type": "markdown",
   "metadata": {},
   "source": [
    "#  Exerciese 7-1"
   ]
  },
  {
   "cell_type": "markdown",
   "metadata": {},
   "source": [
    "## Myokyung Han (20224230)"
   ]
  },
  {
   "cell_type": "code",
   "execution_count": null,
   "metadata": {},
   "outputs": [],
   "source": []
  },
  {
   "cell_type": "markdown",
   "metadata": {},
   "source": [
    "# Data Downloading"
   ]
  },
  {
   "cell_type": "markdown",
   "metadata": {},
   "source": [
    "### Exchange Rate - krw_usd_xr.xlsx\n",
    "https://www.deepsearch.com/analytics/economic-indicator?pageView=1&symbol=BOK%3A036Y001.0000001\n",
    "\n",
    "### Current Account - Korea - current_account_korea.xlsx\n",
    "https://www.deepsearch.com/analytics/economic-indicator?pageView=1&symbol=BOK%3A022Y013.000000\n",
    "\n",
    "### Current Account - US - current_account_us.xlsx\n",
    "https://www.deepsearch.com/analytics/economic-indicator?pageView=1&symbol=BOK%3AI10Y031.US\n",
    "\n",
    "### GDP: Korea - gdp_korea.xlsx\n",
    "https://www.deepsearch.com/analytics/economic-indicator?pageView=1&symbol=BOK%3AI10Y042.KOR\n",
    "\n",
    "### GDP Growth korea - gdp_growth_korea.xlsx \n",
    "https://www.deepsearch.com/analytics/economic-indicator?pageView=1&symbol=BOK%3A901Y001.AI1AA\n",
    "    \n",
    "### GDP: US - gdp_us.xlsx\n",
    "https://www.deepsearch.com/analytics/economic-indicator?pageView=1&symbol=BOK%3AI10Y042.USA\n",
    "\n",
    "### GDP Growth US - gdp_growth_us.xlsx\n",
    "https://www.deepsearch.com/analytics/economic-indicator?pageView=1&symbol=BOK%3AI10Y041.USA\n",
    "\n",
    "### Consumer Price Index: Korea - cpi_korea.xlsx >> non stationary\n",
    "https://www.deepsearch.com/analytics/economic-indicator?pageView=1&symbol=BOK%3AI10Y022.KR\n",
    "\n",
    "### Consumer Price Index: US - cpi_us.xlsx >> non stationary\n",
    "https://www.deepsearch.com/analytics/economic-indicator?pageView=1&symbol=BOK%3AI10Y022.US\n",
    "\n",
    "### 1-year Interest Rate: Korea - int_rate_korea.xlsx\n",
    "https://www.deepsearch.com/analytics/economic-indicator?pageView=1&symbol=BOK%3A060Y001.010190000\n",
    "m\n",
    "### 1-year Interest Rate: US - int_rate_us.xlsx\n",
    "\n",
    "https://www.deepsearch.com/analytics/economic-indicator?pageView=1&symbol=FRED%3ADGS1\n",
    "\n",
    "### Foreign Reserves at Bank of Korea - foreign_reserves.xlsx >> non stationary\n",
    "https://www.deepsearch.com/analytics/economic-indicator?pageView=1&symbol=BOK%3A901Y001.AI1DC"
   ]
  },
  {
   "cell_type": "markdown",
   "metadata": {},
   "source": [
    "## Data Loading"
   ]
  },
  {
   "cell_type": "code",
   "execution_count": 1,
   "metadata": {},
   "outputs": [],
   "source": [
    "import pandas as pd"
   ]
  },
  {
   "cell_type": "code",
   "execution_count": 2,
   "metadata": {},
   "outputs": [],
   "source": [
    "def load_deepsearch_data(filepath, column):\n",
    "    df = pd.read_excel(filepath)\n",
    "    df['날짜'] = pd.to_datetime(df['날짜'])\n",
    "    df = df.set_index('날짜')\n",
    "    df.columns = [column]\n",
    "    \n",
    "    return df"
   ]
  },
  {
   "cell_type": "code",
   "execution_count": 3,
   "metadata": {},
   "outputs": [],
   "source": [
    "filenames = [\n",
    "    'krw_usd_xr',\n",
    "    'current_account_korea', 'current_account_us',\n",
    "    'gdp_korea', 'gdp_us',\n",
    "    'gdp_growth_korea', 'gdp_growth_us',\n",
    "    'cpi_korea', 'cpi_us',\n",
    "    'int_rate_korea', 'int_rate_us',\n",
    "    'foreign_reserves',\n",
    "]"
   ]
  },
  {
   "cell_type": "code",
   "execution_count": 4,
   "metadata": {
    "scrolled": true
   },
   "outputs": [
    {
     "name": "stdout",
     "output_type": "stream",
     "text": [
      "Loading krw_usd_xr...\n",
      "Loading current_account_korea...\n",
      "Loading current_account_us...\n",
      "Loading gdp_korea...\n",
      "Loading gdp_us...\n",
      "Loading gdp_growth_korea...\n",
      "Loading gdp_growth_us...\n",
      "Loading cpi_korea...\n",
      "Loading cpi_us...\n",
      "Loading int_rate_korea...\n",
      "Loading int_rate_us...\n",
      "Loading foreign_reserves...\n",
      "Data loading is completed\n"
     ]
    }
   ],
   "source": [
    "dfs = []\n",
    "for fname in filenames:\n",
    "    print('Loading {}...'.format(fname))\n",
    "    # 짱신기해...\n",
    "    # filepath = './data/{}.xlxs'.format(fname)와 동일\n",
    "    filepath = f'./data/{fname}.xlsx'\n",
    "    \n",
    "    df = load_deepsearch_data(filepath, fname)\n",
    "    \n",
    "    if fname in ['gdp_growth_korea', 'gdp_growth_us', 'current_account_us']:\n",
    "        df[fname] = df[fname].rolling(4).sum()\n",
    "    elif fname in ['current_account_korea']:\n",
    "        df[fname] = df[fname].rolling(12).sum()\n",
    "        \n",
    "    \n",
    "    dfs.append(df)\n",
    "    \n",
    "print('Data loading is completed')"
   ]
  },
  {
   "cell_type": "code",
   "execution_count": 5,
   "metadata": {},
   "outputs": [],
   "source": [
    "from pandas.tseries.offsets import YearEnd"
   ]
  },
  {
   "cell_type": "code",
   "execution_count": 6,
   "metadata": {},
   "outputs": [],
   "source": [
    "def load_world_bank_data(filepath, column):\n",
    "    df = pd.read_excel(filepath, sheet_name = 'Data', skiprows = 3)\n",
    "    \n",
    "    df = df.set_index('Country Code')\n",
    "    df = df.loc['KOR'].to_frame()\n",
    "    \n",
    "    df = df.iloc[3:]\n",
    "    df.dropna(inplace=True)\n",
    "    df['KOR'] = df['KOR'].astype(float)\n",
    "    df['date'] = pd.to_datetime(df.index)+YearEnd(0)\n",
    "    df.set_index('date', inplace=True)\n",
    "    df.columns = [column]\n",
    "    return df\n",
    "      \n",
    "    "
   ]
  },
  {
   "cell_type": "code",
   "execution_count": 7,
   "metadata": {},
   "outputs": [],
   "source": [
    "df_ppp_xr = load_world_bank_data('./data/world_ppp_xr.xls', 'krw_usd_ppp_xr')"
   ]
  },
  {
   "cell_type": "code",
   "execution_count": 8,
   "metadata": {},
   "outputs": [],
   "source": [
    "dfs.append(df_ppp_xr)"
   ]
  },
  {
   "cell_type": "code",
   "execution_count": 9,
   "metadata": {},
   "outputs": [
    {
     "data": {
      "text/plain": [
       "13"
      ]
     },
     "execution_count": 9,
     "metadata": {},
     "output_type": "execute_result"
    }
   ],
   "source": [
    "len(dfs)"
   ]
  },
  {
   "cell_type": "code",
   "execution_count": 10,
   "metadata": {},
   "outputs": [],
   "source": [
    "df_merged = pd.concat(dfs, axis = 1)"
   ]
  },
  {
   "cell_type": "code",
   "execution_count": 11,
   "metadata": {},
   "outputs": [],
   "source": [
    "df_merged = df_merged.resample('M').last()"
   ]
  },
  {
   "cell_type": "code",
   "execution_count": 12,
   "metadata": {},
   "outputs": [],
   "source": [
    "df_merged = df_merged.fillna(method='ffill')"
   ]
  },
  {
   "cell_type": "code",
   "execution_count": 13,
   "metadata": {},
   "outputs": [
    {
     "data": {
      "text/html": [
       "<div>\n",
       "<style scoped>\n",
       "    .dataframe tbody tr th:only-of-type {\n",
       "        vertical-align: middle;\n",
       "    }\n",
       "\n",
       "    .dataframe tbody tr th {\n",
       "        vertical-align: top;\n",
       "    }\n",
       "\n",
       "    .dataframe thead th {\n",
       "        text-align: right;\n",
       "    }\n",
       "</style>\n",
       "<table border=\"1\" class=\"dataframe\">\n",
       "  <thead>\n",
       "    <tr style=\"text-align: right;\">\n",
       "      <th></th>\n",
       "      <th>krw_usd_xr</th>\n",
       "      <th>current_account_korea</th>\n",
       "      <th>current_account_us</th>\n",
       "      <th>gdp_korea</th>\n",
       "      <th>gdp_us</th>\n",
       "      <th>gdp_growth_korea</th>\n",
       "      <th>gdp_growth_us</th>\n",
       "      <th>cpi_korea</th>\n",
       "      <th>cpi_us</th>\n",
       "      <th>int_rate_korea</th>\n",
       "      <th>int_rate_us</th>\n",
       "      <th>foreign_reserves</th>\n",
       "      <th>krw_usd_ppp_xr</th>\n",
       "    </tr>\n",
       "  </thead>\n",
       "  <tbody>\n",
       "    <tr>\n",
       "      <th>2010-01-31</th>\n",
       "      <td>1156.5</td>\n",
       "      <td>31135.4</td>\n",
       "      <td>-372522.0</td>\n",
       "      <td>943941.9</td>\n",
       "      <td>14448932.0</td>\n",
       "      <td>5.1</td>\n",
       "      <td>0.3</td>\n",
       "      <td>98.82</td>\n",
       "      <td>99.37</td>\n",
       "      <td>3.22</td>\n",
       "      <td>0.30</td>\n",
       "      <td>273693584.0</td>\n",
       "      <td>828.420848</td>\n",
       "    </tr>\n",
       "    <tr>\n",
       "      <th>2010-02-28</th>\n",
       "      <td>1158.4</td>\n",
       "      <td>25800.0</td>\n",
       "      <td>-372522.0</td>\n",
       "      <td>943941.9</td>\n",
       "      <td>14448932.0</td>\n",
       "      <td>7.0</td>\n",
       "      <td>0.3</td>\n",
       "      <td>99.02</td>\n",
       "      <td>99.40</td>\n",
       "      <td>3.07</td>\n",
       "      <td>0.32</td>\n",
       "      <td>270659721.0</td>\n",
       "      <td>828.420848</td>\n",
       "    </tr>\n",
       "    <tr>\n",
       "      <th>2010-03-31</th>\n",
       "      <td>1130.8</td>\n",
       "      <td>20931.1</td>\n",
       "      <td>-382165.0</td>\n",
       "      <td>943941.9</td>\n",
       "      <td>14448932.0</td>\n",
       "      <td>7.0</td>\n",
       "      <td>1.8</td>\n",
       "      <td>99.22</td>\n",
       "      <td>99.81</td>\n",
       "      <td>2.70</td>\n",
       "      <td>0.41</td>\n",
       "      <td>272331061.0</td>\n",
       "      <td>828.420848</td>\n",
       "    </tr>\n",
       "    <tr>\n",
       "      <th>2010-04-30</th>\n",
       "      <td>1115.5</td>\n",
       "      <td>18588.8</td>\n",
       "      <td>-382165.0</td>\n",
       "      <td>943941.9</td>\n",
       "      <td>14448932.0</td>\n",
       "      <td>7.0</td>\n",
       "      <td>1.8</td>\n",
       "      <td>99.62</td>\n",
       "      <td>99.98</td>\n",
       "      <td>2.65</td>\n",
       "      <td>0.41</td>\n",
       "      <td>278873477.0</td>\n",
       "      <td>828.420848</td>\n",
       "    </tr>\n",
       "    <tr>\n",
       "      <th>2010-05-31</th>\n",
       "      <td>1200.2</td>\n",
       "      <td>22909.8</td>\n",
       "      <td>-382165.0</td>\n",
       "      <td>943941.9</td>\n",
       "      <td>14448932.0</td>\n",
       "      <td>7.6</td>\n",
       "      <td>1.8</td>\n",
       "      <td>99.72</td>\n",
       "      <td>100.06</td>\n",
       "      <td>2.75</td>\n",
       "      <td>0.34</td>\n",
       "      <td>270221038.0</td>\n",
       "      <td>828.420848</td>\n",
       "    </tr>\n",
       "  </tbody>\n",
       "</table>\n",
       "</div>"
      ],
      "text/plain": [
       "            krw_usd_xr  current_account_korea  current_account_us  gdp_korea  \\\n",
       "2010-01-31      1156.5                31135.4           -372522.0   943941.9   \n",
       "2010-02-28      1158.4                25800.0           -372522.0   943941.9   \n",
       "2010-03-31      1130.8                20931.1           -382165.0   943941.9   \n",
       "2010-04-30      1115.5                18588.8           -382165.0   943941.9   \n",
       "2010-05-31      1200.2                22909.8           -382165.0   943941.9   \n",
       "\n",
       "                gdp_us  gdp_growth_korea  gdp_growth_us  cpi_korea  cpi_us  \\\n",
       "2010-01-31  14448932.0               5.1            0.3      98.82   99.37   \n",
       "2010-02-28  14448932.0               7.0            0.3      99.02   99.40   \n",
       "2010-03-31  14448932.0               7.0            1.8      99.22   99.81   \n",
       "2010-04-30  14448932.0               7.0            1.8      99.62   99.98   \n",
       "2010-05-31  14448932.0               7.6            1.8      99.72  100.06   \n",
       "\n",
       "            int_rate_korea  int_rate_us  foreign_reserves  krw_usd_ppp_xr  \n",
       "2010-01-31            3.22         0.30       273693584.0      828.420848  \n",
       "2010-02-28            3.07         0.32       270659721.0      828.420848  \n",
       "2010-03-31            2.70         0.41       272331061.0      828.420848  \n",
       "2010-04-30            2.65         0.41       278873477.0      828.420848  \n",
       "2010-05-31            2.75         0.34       270221038.0      828.420848  "
      ]
     },
     "execution_count": 13,
     "metadata": {},
     "output_type": "execute_result"
    }
   ],
   "source": [
    "df_merged['2010-01-01':].head()"
   ]
  },
  {
   "cell_type": "code",
   "execution_count": 14,
   "metadata": {},
   "outputs": [
    {
     "data": {
      "text/html": [
       "<div>\n",
       "<style scoped>\n",
       "    .dataframe tbody tr th:only-of-type {\n",
       "        vertical-align: middle;\n",
       "    }\n",
       "\n",
       "    .dataframe tbody tr th {\n",
       "        vertical-align: top;\n",
       "    }\n",
       "\n",
       "    .dataframe thead th {\n",
       "        text-align: right;\n",
       "    }\n",
       "</style>\n",
       "<table border=\"1\" class=\"dataframe\">\n",
       "  <thead>\n",
       "    <tr style=\"text-align: right;\">\n",
       "      <th></th>\n",
       "      <th>krw_usd_xr</th>\n",
       "      <th>current_account_korea</th>\n",
       "      <th>current_account_us</th>\n",
       "      <th>gdp_korea</th>\n",
       "      <th>gdp_us</th>\n",
       "      <th>gdp_growth_korea</th>\n",
       "      <th>gdp_growth_us</th>\n",
       "      <th>cpi_korea</th>\n",
       "      <th>cpi_us</th>\n",
       "      <th>int_rate_korea</th>\n",
       "      <th>int_rate_us</th>\n",
       "      <th>foreign_reserves</th>\n",
       "      <th>krw_usd_ppp_xr</th>\n",
       "    </tr>\n",
       "  </thead>\n",
       "  <tbody>\n",
       "    <tr>\n",
       "      <th>2021-12-31</th>\n",
       "      <td>1185.5</td>\n",
       "      <td>90382.5</td>\n",
       "      <td>-783982.0</td>\n",
       "      <td>1637895.8</td>\n",
       "      <td>20893746.0</td>\n",
       "      <td>3.7</td>\n",
       "      <td>4.8</td>\n",
       "      <td>120.45</td>\n",
       "      <td>127.86</td>\n",
       "      <td>1.350</td>\n",
       "      <td>0.39</td>\n",
       "      <td>463118362.0</td>\n",
       "      <td>824.604924</td>\n",
       "    </tr>\n",
       "    <tr>\n",
       "      <th>2022-01-31</th>\n",
       "      <td>1202.4</td>\n",
       "      <td>85133.4</td>\n",
       "      <td>-783982.0</td>\n",
       "      <td>1637895.8</td>\n",
       "      <td>20893746.0</td>\n",
       "      <td>3.7</td>\n",
       "      <td>4.8</td>\n",
       "      <td>121.21</td>\n",
       "      <td>128.93</td>\n",
       "      <td>1.463</td>\n",
       "      <td>0.78</td>\n",
       "      <td>461526656.0</td>\n",
       "      <td>824.604924</td>\n",
       "    </tr>\n",
       "    <tr>\n",
       "      <th>2022-02-28</th>\n",
       "      <td>1202.7</td>\n",
       "      <td>85133.4</td>\n",
       "      <td>-783982.0</td>\n",
       "      <td>1637895.8</td>\n",
       "      <td>20893746.0</td>\n",
       "      <td>3.7</td>\n",
       "      <td>4.8</td>\n",
       "      <td>121.21</td>\n",
       "      <td>128.93</td>\n",
       "      <td>1.503</td>\n",
       "      <td>1.01</td>\n",
       "      <td>461766293.0</td>\n",
       "      <td>824.604924</td>\n",
       "    </tr>\n",
       "    <tr>\n",
       "      <th>2022-03-31</th>\n",
       "      <td>1210.8</td>\n",
       "      <td>85133.4</td>\n",
       "      <td>-783982.0</td>\n",
       "      <td>1637895.8</td>\n",
       "      <td>20893746.0</td>\n",
       "      <td>3.7</td>\n",
       "      <td>4.8</td>\n",
       "      <td>121.21</td>\n",
       "      <td>128.93</td>\n",
       "      <td>1.815</td>\n",
       "      <td>1.63</td>\n",
       "      <td>461766293.0</td>\n",
       "      <td>824.604924</td>\n",
       "    </tr>\n",
       "    <tr>\n",
       "      <th>2022-04-30</th>\n",
       "      <td>1216.7</td>\n",
       "      <td>85133.4</td>\n",
       "      <td>-783982.0</td>\n",
       "      <td>1637895.8</td>\n",
       "      <td>20893746.0</td>\n",
       "      <td>3.7</td>\n",
       "      <td>4.8</td>\n",
       "      <td>121.21</td>\n",
       "      <td>128.93</td>\n",
       "      <td>1.852</td>\n",
       "      <td>1.63</td>\n",
       "      <td>461766293.0</td>\n",
       "      <td>824.604924</td>\n",
       "    </tr>\n",
       "  </tbody>\n",
       "</table>\n",
       "</div>"
      ],
      "text/plain": [
       "            krw_usd_xr  current_account_korea  current_account_us  gdp_korea  \\\n",
       "2021-12-31      1185.5                90382.5           -783982.0  1637895.8   \n",
       "2022-01-31      1202.4                85133.4           -783982.0  1637895.8   \n",
       "2022-02-28      1202.7                85133.4           -783982.0  1637895.8   \n",
       "2022-03-31      1210.8                85133.4           -783982.0  1637895.8   \n",
       "2022-04-30      1216.7                85133.4           -783982.0  1637895.8   \n",
       "\n",
       "                gdp_us  gdp_growth_korea  gdp_growth_us  cpi_korea  cpi_us  \\\n",
       "2021-12-31  20893746.0               3.7            4.8     120.45  127.86   \n",
       "2022-01-31  20893746.0               3.7            4.8     121.21  128.93   \n",
       "2022-02-28  20893746.0               3.7            4.8     121.21  128.93   \n",
       "2022-03-31  20893746.0               3.7            4.8     121.21  128.93   \n",
       "2022-04-30  20893746.0               3.7            4.8     121.21  128.93   \n",
       "\n",
       "            int_rate_korea  int_rate_us  foreign_reserves  krw_usd_ppp_xr  \n",
       "2021-12-31           1.350         0.39       463118362.0      824.604924  \n",
       "2022-01-31           1.463         0.78       461526656.0      824.604924  \n",
       "2022-02-28           1.503         1.01       461766293.0      824.604924  \n",
       "2022-03-31           1.815         1.63       461766293.0      824.604924  \n",
       "2022-04-30           1.852         1.63       461766293.0      824.604924  "
      ]
     },
     "execution_count": 14,
     "metadata": {},
     "output_type": "execute_result"
    }
   ],
   "source": [
    "df_merged['2010-01-01':].tail()"
   ]
  },
  {
   "cell_type": "code",
   "execution_count": null,
   "metadata": {},
   "outputs": [],
   "source": []
  },
  {
   "cell_type": "code",
   "execution_count": null,
   "metadata": {},
   "outputs": [],
   "source": []
  },
  {
   "cell_type": "markdown",
   "metadata": {},
   "source": [
    "## Compute new variables"
   ]
  },
  {
   "cell_type": "markdown",
   "metadata": {},
   "source": [
    "### Currency returens"
   ]
  },
  {
   "cell_type": "code",
   "execution_count": 15,
   "metadata": {},
   "outputs": [],
   "source": [
    "df_merged['ann_ret']  = df_merged['krw_usd_xr'] .pct_change(periods=12)*100"
   ]
  },
  {
   "cell_type": "code",
   "execution_count": 16,
   "metadata": {},
   "outputs": [],
   "source": [
    "df_merged['F12.ann_ret'] = df_merged['ann_ret'].shift(-12)"
   ]
  },
  {
   "cell_type": "markdown",
   "metadata": {},
   "source": [
    "### Real XR"
   ]
  },
  {
   "cell_type": "code",
   "execution_count": 17,
   "metadata": {},
   "outputs": [],
   "source": [
    "df_merged['real_xr'] = df_merged['krw_usd_ppp_xr']  /df_merged['krw_usd_xr']  "
   ]
  },
  {
   "cell_type": "markdown",
   "metadata": {},
   "source": [
    "### current account relative to GDP\n",
    "non_stationary!!"
   ]
  },
  {
   "cell_type": "code",
   "execution_count": 18,
   "metadata": {},
   "outputs": [],
   "source": [
    "df_merged['ca_gdp_korea'] = df_merged['current_account_korea']/df_merged['gdp_korea']*100"
   ]
  },
  {
   "cell_type": "code",
   "execution_count": 19,
   "metadata": {},
   "outputs": [],
   "source": [
    "df_merged['ca_gdp_us'] = df_merged['current_account_us']/df_merged['gdp_us']*100"
   ]
  },
  {
   "cell_type": "code",
   "execution_count": 20,
   "metadata": {},
   "outputs": [
    {
     "data": {
      "text/html": [
       "<div>\n",
       "<style scoped>\n",
       "    .dataframe tbody tr th:only-of-type {\n",
       "        vertical-align: middle;\n",
       "    }\n",
       "\n",
       "    .dataframe tbody tr th {\n",
       "        vertical-align: top;\n",
       "    }\n",
       "\n",
       "    .dataframe thead th {\n",
       "        text-align: right;\n",
       "    }\n",
       "</style>\n",
       "<table border=\"1\" class=\"dataframe\">\n",
       "  <thead>\n",
       "    <tr style=\"text-align: right;\">\n",
       "      <th></th>\n",
       "      <th>ca_gdp_korea</th>\n",
       "      <th>ca_gdp_us</th>\n",
       "    </tr>\n",
       "  </thead>\n",
       "  <tbody>\n",
       "    <tr>\n",
       "      <th>2019-10-31</th>\n",
       "      <td>3.470373</td>\n",
       "      <td>-2.601153</td>\n",
       "    </tr>\n",
       "    <tr>\n",
       "      <th>2019-11-30</th>\n",
       "      <td>3.519438</td>\n",
       "      <td>-2.601153</td>\n",
       "    </tr>\n",
       "    <tr>\n",
       "      <th>2019-12-31</th>\n",
       "      <td>3.651917</td>\n",
       "      <td>-2.325728</td>\n",
       "    </tr>\n",
       "    <tr>\n",
       "      <th>2020-01-31</th>\n",
       "      <td>3.512475</td>\n",
       "      <td>-2.325728</td>\n",
       "    </tr>\n",
       "    <tr>\n",
       "      <th>2020-02-29</th>\n",
       "      <td>3.665722</td>\n",
       "      <td>-2.325728</td>\n",
       "    </tr>\n",
       "  </tbody>\n",
       "</table>\n",
       "</div>"
      ],
      "text/plain": [
       "            ca_gdp_korea  ca_gdp_us\n",
       "2019-10-31      3.470373  -2.601153\n",
       "2019-11-30      3.519438  -2.601153\n",
       "2019-12-31      3.651917  -2.325728\n",
       "2020-01-31      3.512475  -2.325728\n",
       "2020-02-29      3.665722  -2.325728"
      ]
     },
     "execution_count": 20,
     "metadata": {},
     "output_type": "execute_result"
    }
   ],
   "source": [
    "df_merged.loc['2019-10-01':][['ca_gdp_korea', 'ca_gdp_us']].head()"
   ]
  },
  {
   "cell_type": "code",
   "execution_count": null,
   "metadata": {},
   "outputs": [],
   "source": []
  },
  {
   "cell_type": "markdown",
   "metadata": {},
   "source": [
    "### GDP Growth"
   ]
  },
  {
   "cell_type": "code",
   "execution_count": 21,
   "metadata": {},
   "outputs": [],
   "source": [
    "df_merged['gdp_growth_korea2'] = df_merged['gdp_korea'].pct_change(periods=12)*100"
   ]
  },
  {
   "cell_type": "code",
   "execution_count": 22,
   "metadata": {},
   "outputs": [],
   "source": [
    "df_merged['gdp_growth_us2'] = df_merged['gdp_us'].pct_change(periods=12)*100"
   ]
  },
  {
   "cell_type": "code",
   "execution_count": 23,
   "metadata": {},
   "outputs": [
    {
     "data": {
      "text/html": [
       "<div>\n",
       "<style scoped>\n",
       "    .dataframe tbody tr th:only-of-type {\n",
       "        vertical-align: middle;\n",
       "    }\n",
       "\n",
       "    .dataframe tbody tr th {\n",
       "        vertical-align: top;\n",
       "    }\n",
       "\n",
       "    .dataframe thead th {\n",
       "        text-align: right;\n",
       "    }\n",
       "</style>\n",
       "<table border=\"1\" class=\"dataframe\">\n",
       "  <thead>\n",
       "    <tr style=\"text-align: right;\">\n",
       "      <th></th>\n",
       "      <th>gdp_us</th>\n",
       "      <th>gdp_growth_us</th>\n",
       "      <th>gdp_growth_us2</th>\n",
       "    </tr>\n",
       "  </thead>\n",
       "  <tbody>\n",
       "    <tr>\n",
       "      <th>2018-12-31</th>\n",
       "      <td>20580223.0</td>\n",
       "      <td>2.5</td>\n",
       "      <td>5.434581</td>\n",
       "    </tr>\n",
       "    <tr>\n",
       "      <th>2019-12-31</th>\n",
       "      <td>21427700.0</td>\n",
       "      <td>2.3</td>\n",
       "      <td>4.117919</td>\n",
       "    </tr>\n",
       "  </tbody>\n",
       "</table>\n",
       "</div>"
      ],
      "text/plain": [
       "                gdp_us  gdp_growth_us  gdp_growth_us2\n",
       "2018-12-31  20580223.0            2.5        5.434581\n",
       "2019-12-31  21427700.0            2.3        4.117919"
      ]
     },
     "execution_count": 23,
     "metadata": {},
     "output_type": "execute_result"
    }
   ],
   "source": [
    "df_merged.loc[['2018-12-31', '2019-12-31']][['gdp_us', 'gdp_growth_us','gdp_growth_us2']]"
   ]
  },
  {
   "cell_type": "code",
   "execution_count": 24,
   "metadata": {},
   "outputs": [],
   "source": [
    "# why is it differnece!!!!\n",
    "# https://data.worldbank.org/indicator/NY.GDP.MKTP.CD?locations=US\n",
    "# Current US 달러이냐 constant us dollar이냐에 따라 달라진다. \n",
    "# Current US>> market\n",
    "# constant us dollar >> inflation.... 2015년 기준으로 보았을때 2.5가 된다.."
   ]
  },
  {
   "cell_type": "markdown",
   "metadata": {},
   "source": [
    "### Inflation"
   ]
  },
  {
   "cell_type": "code",
   "execution_count": 25,
   "metadata": {},
   "outputs": [],
   "source": [
    "df_merged['infl_korea'] = df_merged['cpi_korea'].pct_change(periods=12)*100"
   ]
  },
  {
   "cell_type": "code",
   "execution_count": 26,
   "metadata": {},
   "outputs": [],
   "source": [
    "df_merged['infl_us'] = df_merged['cpi_us'].pct_change(periods=12)*100"
   ]
  },
  {
   "cell_type": "markdown",
   "metadata": {},
   "source": [
    "### Inflation Interest rate differential"
   ]
  },
  {
   "cell_type": "code",
   "execution_count": 27,
   "metadata": {},
   "outputs": [],
   "source": [
    "df_merged['infl_diff'] = df_merged['infl_korea']- df_merged['infl_us']"
   ]
  },
  {
   "cell_type": "code",
   "execution_count": 28,
   "metadata": {},
   "outputs": [],
   "source": [
    "df_merged['int_rate_diff'] = df_merged['int_rate_korea']- df_merged['int_rate_us']"
   ]
  },
  {
   "cell_type": "markdown",
   "metadata": {},
   "source": [
    "### Foreign Reserves"
   ]
  },
  {
   "cell_type": "code",
   "execution_count": 29,
   "metadata": {},
   "outputs": [],
   "source": [
    "df_merged['reserves_to_gdp'] = df_merged['foreign_reserves']/df_merged['gdp_korea']/1000*100\n",
    "# 1000 >>단위때문에 곱하고"
   ]
  },
  {
   "cell_type": "code",
   "execution_count": 30,
   "metadata": {},
   "outputs": [],
   "source": [
    "df_merged['reserves_growth'] = df_merged['foreign_reserves'].pct_change(periods=12)*100\n",
    "# 다시 들어야겠따...\n",
    "# trand how it is changing ......"
   ]
  },
  {
   "cell_type": "code",
   "execution_count": 31,
   "metadata": {},
   "outputs": [
    {
     "data": {
      "text/plain": [
       "Index(['krw_usd_xr', 'current_account_korea', 'current_account_us',\n",
       "       'gdp_korea', 'gdp_us', 'gdp_growth_korea', 'gdp_growth_us', 'cpi_korea',\n",
       "       'cpi_us', 'int_rate_korea', 'int_rate_us', 'foreign_reserves',\n",
       "       'krw_usd_ppp_xr', 'ann_ret', 'F12.ann_ret', 'real_xr', 'ca_gdp_korea',\n",
       "       'ca_gdp_us', 'gdp_growth_korea2', 'gdp_growth_us2', 'infl_korea',\n",
       "       'infl_us', 'infl_diff', 'int_rate_diff', 'reserves_to_gdp',\n",
       "       'reserves_growth'],\n",
       "      dtype='object')"
      ]
     },
     "execution_count": 31,
     "metadata": {},
     "output_type": "execute_result"
    }
   ],
   "source": [
    "df_merged.columns"
   ]
  },
  {
   "cell_type": "code",
   "execution_count": 32,
   "metadata": {},
   "outputs": [],
   "source": [
    "df_sample = df_merged[['F12.ann_ret', 'real_xr', 'ca_gdp_korea', 'ca_gdp_us'\n",
    "                       , 'gdp_growth_korea', 'gdp_growth_us', \n",
    "                      'infl_diff', 'int_rate_diff', \n",
    "                      'reserves_to_gdp' , 'reserves_growth']]"
   ]
  },
  {
   "cell_type": "code",
   "execution_count": 33,
   "metadata": {},
   "outputs": [],
   "source": [
    "df_sample = df_sample.dropna()"
   ]
  },
  {
   "cell_type": "code",
   "execution_count": 34,
   "metadata": {},
   "outputs": [
    {
     "data": {
      "text/html": [
       "<div>\n",
       "<style scoped>\n",
       "    .dataframe tbody tr th:only-of-type {\n",
       "        vertical-align: middle;\n",
       "    }\n",
       "\n",
       "    .dataframe tbody tr th {\n",
       "        vertical-align: top;\n",
       "    }\n",
       "\n",
       "    .dataframe thead th {\n",
       "        text-align: right;\n",
       "    }\n",
       "</style>\n",
       "<table border=\"1\" class=\"dataframe\">\n",
       "  <thead>\n",
       "    <tr style=\"text-align: right;\">\n",
       "      <th></th>\n",
       "      <th>F12.ann_ret</th>\n",
       "      <th>real_xr</th>\n",
       "      <th>ca_gdp_korea</th>\n",
       "      <th>ca_gdp_us</th>\n",
       "      <th>gdp_growth_korea</th>\n",
       "      <th>gdp_growth_us</th>\n",
       "      <th>infl_diff</th>\n",
       "      <th>int_rate_diff</th>\n",
       "      <th>reserves_to_gdp</th>\n",
       "      <th>reserves_growth</th>\n",
       "    </tr>\n",
       "  </thead>\n",
       "  <tbody>\n",
       "    <tr>\n",
       "      <th>2000-02-29</th>\n",
       "      <td>10.063615</td>\n",
       "      <td>0.666984</td>\n",
       "      <td>3.573325</td>\n",
       "      <td>-2.994249</td>\n",
       "      <td>12.0</td>\n",
       "      <td>4.7</td>\n",
       "      <td>-1.453178</td>\n",
       "      <td>2.05</td>\n",
       "      <td>16.015309</td>\n",
       "      <td>43.763932</td>\n",
       "    </tr>\n",
       "    <tr>\n",
       "      <th>2000-03-31</th>\n",
       "      <td>19.823153</td>\n",
       "      <td>0.681127</td>\n",
       "      <td>3.230006</td>\n",
       "      <td>-3.326220</td>\n",
       "      <td>12.0</td>\n",
       "      <td>4.2</td>\n",
       "      <td>-1.637996</td>\n",
       "      <td>2.04</td>\n",
       "      <td>16.803024</td>\n",
       "      <td>45.599751</td>\n",
       "    </tr>\n",
       "    <tr>\n",
       "      <th>2000-04-30</th>\n",
       "      <td>19.310096</td>\n",
       "      <td>0.679900</td>\n",
       "      <td>2.742859</td>\n",
       "      <td>-3.326220</td>\n",
       "      <td>12.0</td>\n",
       "      <td>4.2</td>\n",
       "      <td>-1.630910</td>\n",
       "      <td>2.08</td>\n",
       "      <td>16.996802</td>\n",
       "      <td>42.773058</td>\n",
       "    </tr>\n",
       "    <tr>\n",
       "      <th>2000-05-31</th>\n",
       "      <td>14.032457</td>\n",
       "      <td>0.665808</td>\n",
       "      <td>2.664657</td>\n",
       "      <td>-3.326220</td>\n",
       "      <td>8.9</td>\n",
       "      <td>4.2</td>\n",
       "      <td>-2.082471</td>\n",
       "      <td>1.98</td>\n",
       "      <td>17.440132</td>\n",
       "      <td>41.378918</td>\n",
       "    </tr>\n",
       "    <tr>\n",
       "      <th>2000-06-30</th>\n",
       "      <td>16.675637</td>\n",
       "      <td>0.677156</td>\n",
       "      <td>2.589429</td>\n",
       "      <td>-3.624226</td>\n",
       "      <td>8.9</td>\n",
       "      <td>5.2</td>\n",
       "      <td>-1.515722</td>\n",
       "      <td>2.03</td>\n",
       "      <td>18.114831</td>\n",
       "      <td>45.479712</td>\n",
       "    </tr>\n",
       "  </tbody>\n",
       "</table>\n",
       "</div>"
      ],
      "text/plain": [
       "            F12.ann_ret   real_xr  ca_gdp_korea  ca_gdp_us  gdp_growth_korea  \\\n",
       "2000-02-29    10.063615  0.666984      3.573325  -2.994249              12.0   \n",
       "2000-03-31    19.823153  0.681127      3.230006  -3.326220              12.0   \n",
       "2000-04-30    19.310096  0.679900      2.742859  -3.326220              12.0   \n",
       "2000-05-31    14.032457  0.665808      2.664657  -3.326220               8.9   \n",
       "2000-06-30    16.675637  0.677156      2.589429  -3.624226               8.9   \n",
       "\n",
       "            gdp_growth_us  infl_diff  int_rate_diff  reserves_to_gdp  \\\n",
       "2000-02-29            4.7  -1.453178           2.05        16.015309   \n",
       "2000-03-31            4.2  -1.637996           2.04        16.803024   \n",
       "2000-04-30            4.2  -1.630910           2.08        16.996802   \n",
       "2000-05-31            4.2  -2.082471           1.98        17.440132   \n",
       "2000-06-30            5.2  -1.515722           2.03        18.114831   \n",
       "\n",
       "            reserves_growth  \n",
       "2000-02-29        43.763932  \n",
       "2000-03-31        45.599751  \n",
       "2000-04-30        42.773058  \n",
       "2000-05-31        41.378918  \n",
       "2000-06-30        45.479712  "
      ]
     },
     "execution_count": 34,
     "metadata": {},
     "output_type": "execute_result"
    }
   ],
   "source": [
    "df_sample.head()"
   ]
  },
  {
   "cell_type": "code",
   "execution_count": 35,
   "metadata": {},
   "outputs": [],
   "source": [
    "corr = df_sample.corr()"
   ]
  },
  {
   "cell_type": "code",
   "execution_count": null,
   "metadata": {},
   "outputs": [],
   "source": []
  },
  {
   "cell_type": "code",
   "execution_count": 36,
   "metadata": {},
   "outputs": [],
   "source": [
    "import seaborn as sns"
   ]
  },
  {
   "cell_type": "code",
   "execution_count": 37,
   "metadata": {
    "scrolled": false
   },
   "outputs": [
    {
     "data": {
      "text/plain": [
       "<AxesSubplot:>"
      ]
     },
     "execution_count": 37,
     "metadata": {},
     "output_type": "execute_result"
    },
    {
     "data": {
      "image/png": "[encoded data removed]",
      "text/plain": [
       "<Figure size 432x288 with 2 Axes>"
      ]
     },
     "metadata": {
      "needs_background": "light"
     },
     "output_type": "display_data"
    }
   ],
   "source": [
    "sns.heatmap(corr)"
   ]
  },
  {
   "cell_type": "code",
   "execution_count": 38,
   "metadata": {},
   "outputs": [],
   "source": [
    "import numpy as np"
   ]
  },
  {
   "cell_type": "code",
   "execution_count": 39,
   "metadata": {},
   "outputs": [],
   "source": [
    "# upper triangle 만 고르는 법  \n",
    "mask = np.triu(np.ones_like(corr, dtype=bool))"
   ]
  },
  {
   "cell_type": "code",
   "execution_count": 40,
   "metadata": {},
   "outputs": [
    {
     "data": {
      "text/plain": [
       "(10, 10)"
      ]
     },
     "execution_count": 40,
     "metadata": {},
     "output_type": "execute_result"
    }
   ],
   "source": [
    "corr.shape"
   ]
  },
  {
   "cell_type": "code",
   "execution_count": null,
   "metadata": {},
   "outputs": [],
   "source": []
  },
  {
   "cell_type": "code",
   "execution_count": 41,
   "metadata": {},
   "outputs": [],
   "source": [
    "cmap = sns.diverging_palette(230, 30, as_cmap=True)"
   ]
  },
  {
   "cell_type": "code",
   "execution_count": 42,
   "metadata": {},
   "outputs": [
    {
     "data": {
      "text/plain": [
       "<AxesSubplot:>"
      ]
     },
     "execution_count": 42,
     "metadata": {},
     "output_type": "execute_result"
    },
    {
     "data": {
      "image/png": "[encoded data removed]",
      "text/plain": [
       "<Figure size 432x288 with 2 Axes>"
      ]
     },
     "metadata": {
      "needs_background": "light"
     },
     "output_type": "display_data"
    }
   ],
   "source": [
    "sns.heatmap(corr, cmap=cmap, mask = mask, vmin=-1, vmax=1)"
   ]
  },
  {
   "cell_type": "code",
   "execution_count": null,
   "metadata": {},
   "outputs": [],
   "source": []
  },
  {
   "cell_type": "markdown",
   "metadata": {},
   "source": [
    "## OLS Regression"
   ]
  },
  {
   "cell_type": "code",
   "execution_count": 43,
   "metadata": {},
   "outputs": [],
   "source": [
    "import statsmodels.api as sm"
   ]
  },
  {
   "cell_type": "code",
   "execution_count": 44,
   "metadata": {},
   "outputs": [],
   "source": [
    "Y  = df_sample['F12.ann_ret']"
   ]
  },
  {
   "cell_type": "markdown",
   "metadata": {},
   "source": [
    "### Predict without foreign reserves"
   ]
  },
  {
   "cell_type": "code",
   "execution_count": 45,
   "metadata": {},
   "outputs": [],
   "source": [
    "X = df_sample.iloc[:, 1:-2]"
   ]
  },
  {
   "cell_type": "code",
   "execution_count": 46,
   "metadata": {},
   "outputs": [
    {
     "name": "stderr",
     "output_type": "stream",
     "text": [
      "/Users/boysbeanxious/opt/anaconda3/lib/python3.7/site-packages/statsmodels/tsa/tsatools.py:130: FutureWarning: In a future version of pandas all arguments of concat except for the argument 'objs' will be keyword-only\n",
      "  x = pd.concat(x[::order], 1)\n"
     ]
    }
   ],
   "source": [
    "X = sm.add_constant(X)"
   ]
  },
  {
   "cell_type": "code",
   "execution_count": 47,
   "metadata": {},
   "outputs": [
    {
     "data": {
      "text/html": [
       "<div>\n",
       "<style scoped>\n",
       "    .dataframe tbody tr th:only-of-type {\n",
       "        vertical-align: middle;\n",
       "    }\n",
       "\n",
       "    .dataframe tbody tr th {\n",
       "        vertical-align: top;\n",
       "    }\n",
       "\n",
       "    .dataframe thead th {\n",
       "        text-align: right;\n",
       "    }\n",
       "</style>\n",
       "<table border=\"1\" class=\"dataframe\">\n",
       "  <thead>\n",
       "    <tr style=\"text-align: right;\">\n",
       "      <th></th>\n",
       "      <th>const</th>\n",
       "      <th>real_xr</th>\n",
       "      <th>ca_gdp_korea</th>\n",
       "      <th>ca_gdp_us</th>\n",
       "      <th>gdp_growth_korea</th>\n",
       "      <th>gdp_growth_us</th>\n",
       "      <th>infl_diff</th>\n",
       "      <th>int_rate_diff</th>\n",
       "    </tr>\n",
       "  </thead>\n",
       "  <tbody>\n",
       "    <tr>\n",
       "      <th>2000-02-29</th>\n",
       "      <td>1.0</td>\n",
       "      <td>0.666984</td>\n",
       "      <td>3.573325</td>\n",
       "      <td>-2.994249</td>\n",
       "      <td>12.0</td>\n",
       "      <td>4.7</td>\n",
       "      <td>-1.453178</td>\n",
       "      <td>2.05</td>\n",
       "    </tr>\n",
       "    <tr>\n",
       "      <th>2000-03-31</th>\n",
       "      <td>1.0</td>\n",
       "      <td>0.681127</td>\n",
       "      <td>3.230006</td>\n",
       "      <td>-3.326220</td>\n",
       "      <td>12.0</td>\n",
       "      <td>4.2</td>\n",
       "      <td>-1.637996</td>\n",
       "      <td>2.04</td>\n",
       "    </tr>\n",
       "    <tr>\n",
       "      <th>2000-04-30</th>\n",
       "      <td>1.0</td>\n",
       "      <td>0.679900</td>\n",
       "      <td>2.742859</td>\n",
       "      <td>-3.326220</td>\n",
       "      <td>12.0</td>\n",
       "      <td>4.2</td>\n",
       "      <td>-1.630910</td>\n",
       "      <td>2.08</td>\n",
       "    </tr>\n",
       "    <tr>\n",
       "      <th>2000-05-31</th>\n",
       "      <td>1.0</td>\n",
       "      <td>0.665808</td>\n",
       "      <td>2.664657</td>\n",
       "      <td>-3.326220</td>\n",
       "      <td>8.9</td>\n",
       "      <td>4.2</td>\n",
       "      <td>-2.082471</td>\n",
       "      <td>1.98</td>\n",
       "    </tr>\n",
       "    <tr>\n",
       "      <th>2000-06-30</th>\n",
       "      <td>1.0</td>\n",
       "      <td>0.677156</td>\n",
       "      <td>2.589429</td>\n",
       "      <td>-3.624226</td>\n",
       "      <td>8.9</td>\n",
       "      <td>5.2</td>\n",
       "      <td>-1.515722</td>\n",
       "      <td>2.03</td>\n",
       "    </tr>\n",
       "  </tbody>\n",
       "</table>\n",
       "</div>"
      ],
      "text/plain": [
       "            const   real_xr  ca_gdp_korea  ca_gdp_us  gdp_growth_korea  \\\n",
       "2000-02-29    1.0  0.666984      3.573325  -2.994249              12.0   \n",
       "2000-03-31    1.0  0.681127      3.230006  -3.326220              12.0   \n",
       "2000-04-30    1.0  0.679900      2.742859  -3.326220              12.0   \n",
       "2000-05-31    1.0  0.665808      2.664657  -3.326220               8.9   \n",
       "2000-06-30    1.0  0.677156      2.589429  -3.624226               8.9   \n",
       "\n",
       "            gdp_growth_us  infl_diff  int_rate_diff  \n",
       "2000-02-29            4.7  -1.453178           2.05  \n",
       "2000-03-31            4.2  -1.637996           2.04  \n",
       "2000-04-30            4.2  -1.630910           2.08  \n",
       "2000-05-31            4.2  -2.082471           1.98  \n",
       "2000-06-30            5.2  -1.515722           2.03  "
      ]
     },
     "execution_count": 47,
     "metadata": {},
     "output_type": "execute_result"
    }
   ],
   "source": [
    "X.head()"
   ]
  },
  {
   "cell_type": "code",
   "execution_count": 48,
   "metadata": {},
   "outputs": [],
   "source": [
    "results = sm.OLS(Y,X).fit()"
   ]
  },
  {
   "cell_type": "code",
   "execution_count": 49,
   "metadata": {},
   "outputs": [
    {
     "data": {
      "text/html": [
       "<table class=\"simpletable\">\n",
       "<caption>OLS Regression Results</caption>\n",
       "<tr>\n",
       "  <th>Dep. Variable:</th>       <td>F12.ann_ret</td>   <th>  R-squared:         </th> <td>   0.331</td>\n",
       "</tr>\n",
       "<tr>\n",
       "  <th>Model:</th>                   <td>OLS</td>       <th>  Adj. R-squared:    </th> <td>   0.312</td>\n",
       "</tr>\n",
       "<tr>\n",
       "  <th>Method:</th>             <td>Least Squares</td>  <th>  F-statistic:       </th> <td>   17.46</td>\n",
       "</tr>\n",
       "<tr>\n",
       "  <th>Date:</th>             <td>Tue, 12 Apr 2022</td> <th>  Prob (F-statistic):</th> <td>9.58e-19</td>\n",
       "</tr>\n",
       "<tr>\n",
       "  <th>Time:</th>                 <td>16:32:00</td>     <th>  Log-Likelihood:    </th> <td> -924.34</td>\n",
       "</tr>\n",
       "<tr>\n",
       "  <th>No. Observations:</th>      <td>   255</td>      <th>  AIC:               </th> <td>   1865.</td>\n",
       "</tr>\n",
       "<tr>\n",
       "  <th>Df Residuals:</th>          <td>   247</td>      <th>  BIC:               </th> <td>   1893.</td>\n",
       "</tr>\n",
       "<tr>\n",
       "  <th>Df Model:</th>              <td>     7</td>      <th>                     </th>     <td> </td>   \n",
       "</tr>\n",
       "<tr>\n",
       "  <th>Covariance Type:</th>      <td>nonrobust</td>    <th>                     </th>     <td> </td>   \n",
       "</tr>\n",
       "</table>\n",
       "<table class=\"simpletable\">\n",
       "<tr>\n",
       "          <td></td>            <th>coef</th>     <th>std err</th>      <th>t</th>      <th>P>|t|</th>  <th>[0.025</th>    <th>0.975]</th>  \n",
       "</tr>\n",
       "<tr>\n",
       "  <th>const</th>            <td>  -49.8745</td> <td>    7.760</td> <td>   -6.428</td> <td> 0.000</td> <td>  -65.158</td> <td>  -34.591</td>\n",
       "</tr>\n",
       "<tr>\n",
       "  <th>real_xr</th>          <td>   68.3125</td> <td>    9.968</td> <td>    6.853</td> <td> 0.000</td> <td>   48.680</td> <td>   87.945</td>\n",
       "</tr>\n",
       "<tr>\n",
       "  <th>ca_gdp_korea</th>     <td>   -0.7798</td> <td>    0.482</td> <td>   -1.618</td> <td> 0.107</td> <td>   -1.729</td> <td>    0.170</td>\n",
       "</tr>\n",
       "<tr>\n",
       "  <th>ca_gdp_us</th>        <td>    0.6364</td> <td>    0.789</td> <td>    0.807</td> <td> 0.421</td> <td>   -0.918</td> <td>    2.191</td>\n",
       "</tr>\n",
       "<tr>\n",
       "  <th>gdp_growth_korea</th> <td>    1.3737</td> <td>    0.338</td> <td>    4.061</td> <td> 0.000</td> <td>    0.708</td> <td>    2.040</td>\n",
       "</tr>\n",
       "<tr>\n",
       "  <th>gdp_growth_us</th>    <td>   -1.0810</td> <td>    0.385</td> <td>   -2.809</td> <td> 0.005</td> <td>   -1.839</td> <td>   -0.323</td>\n",
       "</tr>\n",
       "<tr>\n",
       "  <th>infl_diff</th>        <td>   -2.1054</td> <td>    0.717</td> <td>   -2.935</td> <td> 0.004</td> <td>   -3.518</td> <td>   -0.693</td>\n",
       "</tr>\n",
       "<tr>\n",
       "  <th>int_rate_diff</th>    <td>    1.5021</td> <td>    0.648</td> <td>    2.318</td> <td> 0.021</td> <td>    0.226</td> <td>    2.778</td>\n",
       "</tr>\n",
       "</table>\n",
       "<table class=\"simpletable\">\n",
       "<tr>\n",
       "  <th>Omnibus:</th>       <td>96.060</td> <th>  Durbin-Watson:     </th> <td>   0.215</td>\n",
       "</tr>\n",
       "<tr>\n",
       "  <th>Prob(Omnibus):</th> <td> 0.000</td> <th>  Jarque-Bera (JB):  </th> <td> 366.240</td>\n",
       "</tr>\n",
       "<tr>\n",
       "  <th>Skew:</th>          <td> 1.551</td> <th>  Prob(JB):          </th> <td>2.96e-80</td>\n",
       "</tr>\n",
       "<tr>\n",
       "  <th>Kurtosis:</th>      <td> 7.984</td> <th>  Cond. No.          </th> <td>    145.</td>\n",
       "</tr>\n",
       "</table><br/><br/>Warnings:<br/>[1] Standard Errors assume that the covariance matrix of the errors is correctly specified."
      ],
      "text/plain": [
       "<class 'statsmodels.iolib.summary.Summary'>\n",
       "\"\"\"\n",
       "                            OLS Regression Results                            \n",
       "==============================================================================\n",
       "Dep. Variable:            F12.ann_ret   R-squared:                       0.331\n",
       "Model:                            OLS   Adj. R-squared:                  0.312\n",
       "Method:                 Least Squares   F-statistic:                     17.46\n",
       "Date:                Tue, 12 Apr 2022   Prob (F-statistic):           9.58e-19\n",
       "Time:                        16:32:00   Log-Likelihood:                -924.34\n",
       "No. Observations:                 255   AIC:                             1865.\n",
       "Df Residuals:                     247   BIC:                             1893.\n",
       "Df Model:                           7                                         \n",
       "Covariance Type:            nonrobust                                         \n",
       "====================================================================================\n",
       "                       coef    std err          t      P>|t|      [0.025      0.975]\n",
       "------------------------------------------------------------------------------------\n",
       "const              -49.8745      7.760     -6.428      0.000     -65.158     -34.591\n",
       "real_xr             68.3125      9.968      6.853      0.000      48.680      87.945\n",
       "ca_gdp_korea        -0.7798      0.482     -1.618      0.107      -1.729       0.170\n",
       "ca_gdp_us            0.6364      0.789      0.807      0.421      -0.918       2.191\n",
       "gdp_growth_korea     1.3737      0.338      4.061      0.000       0.708       2.040\n",
       "gdp_growth_us       -1.0810      0.385     -2.809      0.005      -1.839      -0.323\n",
       "infl_diff           -2.1054      0.717     -2.935      0.004      -3.518      -0.693\n",
       "int_rate_diff        1.5021      0.648      2.318      0.021       0.226       2.778\n",
       "==============================================================================\n",
       "Omnibus:                       96.060   Durbin-Watson:                   0.215\n",
       "Prob(Omnibus):                  0.000   Jarque-Bera (JB):              366.240\n",
       "Skew:                           1.551   Prob(JB):                     2.96e-80\n",
       "Kurtosis:                       7.984   Cond. No.                         145.\n",
       "==============================================================================\n",
       "\n",
       "Warnings:\n",
       "[1] Standard Errors assume that the covariance matrix of the errors is correctly specified.\n",
       "\"\"\""
      ]
     },
     "execution_count": 49,
     "metadata": {},
     "output_type": "execute_result"
    }
   ],
   "source": [
    "results.summary()"
   ]
  },
  {
   "cell_type": "markdown",
   "metadata": {},
   "source": [
    "real_xr/gdp_growth_korea\n",
    "gdp_growth_korea 가 오르면 환율은 내려가지 않나....  \n",
    "..... 배운대로 이론대로 되진 않는다.....\n",
    "ca_gdp_korea는 생각보다 정보를 주지 못한다"
   ]
  },
  {
   "cell_type": "markdown",
   "metadata": {},
   "source": [
    "### (2) Predict with foreign reserves  \n",
    "> exchange rate policy is important by comparing two model  \n",
    "> infl_diff is now insignificant(t-statistics) because of correlation"
   ]
  },
  {
   "cell_type": "code",
   "execution_count": 50,
   "metadata": {},
   "outputs": [],
   "source": [
    "X = df_sample.iloc[:, 1:]"
   ]
  },
  {
   "cell_type": "code",
   "execution_count": 51,
   "metadata": {},
   "outputs": [
    {
     "name": "stderr",
     "output_type": "stream",
     "text": [
      "/Users/boysbeanxious/opt/anaconda3/lib/python3.7/site-packages/statsmodels/tsa/tsatools.py:130: FutureWarning: In a future version of pandas all arguments of concat except for the argument 'objs' will be keyword-only\n",
      "  x = pd.concat(x[::order], 1)\n"
     ]
    }
   ],
   "source": [
    "X = sm.add_constant(X)"
   ]
  },
  {
   "cell_type": "code",
   "execution_count": 52,
   "metadata": {},
   "outputs": [
    {
     "data": {
      "text/html": [
       "<div>\n",
       "<style scoped>\n",
       "    .dataframe tbody tr th:only-of-type {\n",
       "        vertical-align: middle;\n",
       "    }\n",
       "\n",
       "    .dataframe tbody tr th {\n",
       "        vertical-align: top;\n",
       "    }\n",
       "\n",
       "    .dataframe thead th {\n",
       "        text-align: right;\n",
       "    }\n",
       "</style>\n",
       "<table border=\"1\" class=\"dataframe\">\n",
       "  <thead>\n",
       "    <tr style=\"text-align: right;\">\n",
       "      <th></th>\n",
       "      <th>const</th>\n",
       "      <th>real_xr</th>\n",
       "      <th>ca_gdp_korea</th>\n",
       "      <th>ca_gdp_us</th>\n",
       "      <th>gdp_growth_korea</th>\n",
       "      <th>gdp_growth_us</th>\n",
       "      <th>infl_diff</th>\n",
       "      <th>int_rate_diff</th>\n",
       "      <th>reserves_to_gdp</th>\n",
       "      <th>reserves_growth</th>\n",
       "    </tr>\n",
       "  </thead>\n",
       "  <tbody>\n",
       "    <tr>\n",
       "      <th>2000-02-29</th>\n",
       "      <td>1.0</td>\n",
       "      <td>0.666984</td>\n",
       "      <td>3.573325</td>\n",
       "      <td>-2.994249</td>\n",
       "      <td>12.0</td>\n",
       "      <td>4.7</td>\n",
       "      <td>-1.453178</td>\n",
       "      <td>2.05</td>\n",
       "      <td>16.015309</td>\n",
       "      <td>43.763932</td>\n",
       "    </tr>\n",
       "    <tr>\n",
       "      <th>2000-03-31</th>\n",
       "      <td>1.0</td>\n",
       "      <td>0.681127</td>\n",
       "      <td>3.230006</td>\n",
       "      <td>-3.326220</td>\n",
       "      <td>12.0</td>\n",
       "      <td>4.2</td>\n",
       "      <td>-1.637996</td>\n",
       "      <td>2.04</td>\n",
       "      <td>16.803024</td>\n",
       "      <td>45.599751</td>\n",
       "    </tr>\n",
       "    <tr>\n",
       "      <th>2000-04-30</th>\n",
       "      <td>1.0</td>\n",
       "      <td>0.679900</td>\n",
       "      <td>2.742859</td>\n",
       "      <td>-3.326220</td>\n",
       "      <td>12.0</td>\n",
       "      <td>4.2</td>\n",
       "      <td>-1.630910</td>\n",
       "      <td>2.08</td>\n",
       "      <td>16.996802</td>\n",
       "      <td>42.773058</td>\n",
       "    </tr>\n",
       "    <tr>\n",
       "      <th>2000-05-31</th>\n",
       "      <td>1.0</td>\n",
       "      <td>0.665808</td>\n",
       "      <td>2.664657</td>\n",
       "      <td>-3.326220</td>\n",
       "      <td>8.9</td>\n",
       "      <td>4.2</td>\n",
       "      <td>-2.082471</td>\n",
       "      <td>1.98</td>\n",
       "      <td>17.440132</td>\n",
       "      <td>41.378918</td>\n",
       "    </tr>\n",
       "    <tr>\n",
       "      <th>2000-06-30</th>\n",
       "      <td>1.0</td>\n",
       "      <td>0.677156</td>\n",
       "      <td>2.589429</td>\n",
       "      <td>-3.624226</td>\n",
       "      <td>8.9</td>\n",
       "      <td>5.2</td>\n",
       "      <td>-1.515722</td>\n",
       "      <td>2.03</td>\n",
       "      <td>18.114831</td>\n",
       "      <td>45.479712</td>\n",
       "    </tr>\n",
       "  </tbody>\n",
       "</table>\n",
       "</div>"
      ],
      "text/plain": [
       "            const   real_xr  ca_gdp_korea  ca_gdp_us  gdp_growth_korea  \\\n",
       "2000-02-29    1.0  0.666984      3.573325  -2.994249              12.0   \n",
       "2000-03-31    1.0  0.681127      3.230006  -3.326220              12.0   \n",
       "2000-04-30    1.0  0.679900      2.742859  -3.326220              12.0   \n",
       "2000-05-31    1.0  0.665808      2.664657  -3.326220               8.9   \n",
       "2000-06-30    1.0  0.677156      2.589429  -3.624226               8.9   \n",
       "\n",
       "            gdp_growth_us  infl_diff  int_rate_diff  reserves_to_gdp  \\\n",
       "2000-02-29            4.7  -1.453178           2.05        16.015309   \n",
       "2000-03-31            4.2  -1.637996           2.04        16.803024   \n",
       "2000-04-30            4.2  -1.630910           2.08        16.996802   \n",
       "2000-05-31            4.2  -2.082471           1.98        17.440132   \n",
       "2000-06-30            5.2  -1.515722           2.03        18.114831   \n",
       "\n",
       "            reserves_growth  \n",
       "2000-02-29        43.763932  \n",
       "2000-03-31        45.599751  \n",
       "2000-04-30        42.773058  \n",
       "2000-05-31        41.378918  \n",
       "2000-06-30        45.479712  "
      ]
     },
     "execution_count": 52,
     "metadata": {},
     "output_type": "execute_result"
    }
   ],
   "source": [
    "X.head()"
   ]
  },
  {
   "cell_type": "code",
   "execution_count": 53,
   "metadata": {},
   "outputs": [],
   "source": [
    "results = sm.OLS(Y,X).fit()"
   ]
  },
  {
   "cell_type": "code",
   "execution_count": 54,
   "metadata": {},
   "outputs": [
    {
     "data": {
      "text/html": [
       "<table class=\"simpletable\">\n",
       "<caption>OLS Regression Results</caption>\n",
       "<tr>\n",
       "  <th>Dep. Variable:</th>       <td>F12.ann_ret</td>   <th>  R-squared:         </th> <td>   0.481</td>\n",
       "</tr>\n",
       "<tr>\n",
       "  <th>Model:</th>                   <td>OLS</td>       <th>  Adj. R-squared:    </th> <td>   0.462</td>\n",
       "</tr>\n",
       "<tr>\n",
       "  <th>Method:</th>             <td>Least Squares</td>  <th>  F-statistic:       </th> <td>   25.26</td>\n",
       "</tr>\n",
       "<tr>\n",
       "  <th>Date:</th>             <td>Tue, 12 Apr 2022</td> <th>  Prob (F-statistic):</th> <td>1.76e-30</td>\n",
       "</tr>\n",
       "<tr>\n",
       "  <th>Time:</th>                 <td>16:32:00</td>     <th>  Log-Likelihood:    </th> <td> -891.89</td>\n",
       "</tr>\n",
       "<tr>\n",
       "  <th>No. Observations:</th>      <td>   255</td>      <th>  AIC:               </th> <td>   1804.</td>\n",
       "</tr>\n",
       "<tr>\n",
       "  <th>Df Residuals:</th>          <td>   245</td>      <th>  BIC:               </th> <td>   1839.</td>\n",
       "</tr>\n",
       "<tr>\n",
       "  <th>Df Model:</th>              <td>     9</td>      <th>                     </th>     <td> </td>   \n",
       "</tr>\n",
       "<tr>\n",
       "  <th>Covariance Type:</th>      <td>nonrobust</td>    <th>                     </th>     <td> </td>   \n",
       "</tr>\n",
       "</table>\n",
       "<table class=\"simpletable\">\n",
       "<tr>\n",
       "          <td></td>            <th>coef</th>     <th>std err</th>      <th>t</th>      <th>P>|t|</th>  <th>[0.025</th>    <th>0.975]</th>  \n",
       "</tr>\n",
       "<tr>\n",
       "  <th>const</th>            <td>  -45.6835</td> <td>    6.882</td> <td>   -6.639</td> <td> 0.000</td> <td>  -59.238</td> <td>  -32.129</td>\n",
       "</tr>\n",
       "<tr>\n",
       "  <th>real_xr</th>          <td>  139.8352</td> <td>   12.555</td> <td>   11.138</td> <td> 0.000</td> <td>  115.107</td> <td>  164.564</td>\n",
       "</tr>\n",
       "<tr>\n",
       "  <th>ca_gdp_korea</th>     <td>   -0.3536</td> <td>    0.438</td> <td>   -0.808</td> <td> 0.420</td> <td>   -1.216</td> <td>    0.509</td>\n",
       "</tr>\n",
       "<tr>\n",
       "  <th>ca_gdp_us</th>        <td>    1.6802</td> <td>    0.735</td> <td>    2.285</td> <td> 0.023</td> <td>    0.232</td> <td>    3.128</td>\n",
       "</tr>\n",
       "<tr>\n",
       "  <th>gdp_growth_korea</th> <td>    0.9455</td> <td>    0.348</td> <td>    2.714</td> <td> 0.007</td> <td>    0.259</td> <td>    1.632</td>\n",
       "</tr>\n",
       "<tr>\n",
       "  <th>gdp_growth_us</th>    <td>   -1.3338</td> <td>    0.342</td> <td>   -3.899</td> <td> 0.000</td> <td>   -2.008</td> <td>   -0.660</td>\n",
       "</tr>\n",
       "<tr>\n",
       "  <th>infl_diff</th>        <td>   -0.6662</td> <td>    0.683</td> <td>   -0.976</td> <td> 0.330</td> <td>   -2.011</td> <td>    0.679</td>\n",
       "</tr>\n",
       "<tr>\n",
       "  <th>int_rate_diff</th>    <td>    1.8244</td> <td>    0.584</td> <td>    3.122</td> <td> 0.002</td> <td>    0.673</td> <td>    2.976</td>\n",
       "</tr>\n",
       "<tr>\n",
       "  <th>reserves_to_gdp</th>  <td>   -2.2560</td> <td>    0.269</td> <td>   -8.379</td> <td> 0.000</td> <td>   -2.786</td> <td>   -1.726</td>\n",
       "</tr>\n",
       "<tr>\n",
       "  <th>reserves_growth</th>  <td>    0.0988</td> <td>    0.064</td> <td>    1.541</td> <td> 0.125</td> <td>   -0.027</td> <td>    0.225</td>\n",
       "</tr>\n",
       "</table>\n",
       "<table class=\"simpletable\">\n",
       "<tr>\n",
       "  <th>Omnibus:</th>       <td>117.502</td> <th>  Durbin-Watson:     </th> <td>   0.304</td> \n",
       "</tr>\n",
       "<tr>\n",
       "  <th>Prob(Omnibus):</th> <td> 0.000</td>  <th>  Jarque-Bera (JB):  </th> <td> 615.466</td> \n",
       "</tr>\n",
       "<tr>\n",
       "  <th>Skew:</th>          <td> 1.812</td>  <th>  Prob(JB):          </th> <td>2.26e-134</td>\n",
       "</tr>\n",
       "<tr>\n",
       "  <th>Kurtosis:</th>      <td> 9.693</td>  <th>  Cond. No.          </th> <td>    706.</td> \n",
       "</tr>\n",
       "</table><br/><br/>Warnings:<br/>[1] Standard Errors assume that the covariance matrix of the errors is correctly specified."
      ],
      "text/plain": [
       "<class 'statsmodels.iolib.summary.Summary'>\n",
       "\"\"\"\n",
       "                            OLS Regression Results                            \n",
       "==============================================================================\n",
       "Dep. Variable:            F12.ann_ret   R-squared:                       0.481\n",
       "Model:                            OLS   Adj. R-squared:                  0.462\n",
       "Method:                 Least Squares   F-statistic:                     25.26\n",
       "Date:                Tue, 12 Apr 2022   Prob (F-statistic):           1.76e-30\n",
       "Time:                        16:32:00   Log-Likelihood:                -891.89\n",
       "No. Observations:                 255   AIC:                             1804.\n",
       "Df Residuals:                     245   BIC:                             1839.\n",
       "Df Model:                           9                                         \n",
       "Covariance Type:            nonrobust                                         \n",
       "====================================================================================\n",
       "                       coef    std err          t      P>|t|      [0.025      0.975]\n",
       "------------------------------------------------------------------------------------\n",
       "const              -45.6835      6.882     -6.639      0.000     -59.238     -32.129\n",
       "real_xr            139.8352     12.555     11.138      0.000     115.107     164.564\n",
       "ca_gdp_korea        -0.3536      0.438     -0.808      0.420      -1.216       0.509\n",
       "ca_gdp_us            1.6802      0.735      2.285      0.023       0.232       3.128\n",
       "gdp_growth_korea     0.9455      0.348      2.714      0.007       0.259       1.632\n",
       "gdp_growth_us       -1.3338      0.342     -3.899      0.000      -2.008      -0.660\n",
       "infl_diff           -0.6662      0.683     -0.976      0.330      -2.011       0.679\n",
       "int_rate_diff        1.8244      0.584      3.122      0.002       0.673       2.976\n",
       "reserves_to_gdp     -2.2560      0.269     -8.379      0.000      -2.786      -1.726\n",
       "reserves_growth      0.0988      0.064      1.541      0.125      -0.027       0.225\n",
       "==============================================================================\n",
       "Omnibus:                      117.502   Durbin-Watson:                   0.304\n",
       "Prob(Omnibus):                  0.000   Jarque-Bera (JB):              615.466\n",
       "Skew:                           1.812   Prob(JB):                    2.26e-134\n",
       "Kurtosis:                       9.693   Cond. No.                         706.\n",
       "==============================================================================\n",
       "\n",
       "Warnings:\n",
       "[1] Standard Errors assume that the covariance matrix of the errors is correctly specified.\n",
       "\"\"\""
      ]
     },
     "execution_count": 54,
     "metadata": {},
     "output_type": "execute_result"
    }
   ],
   "source": [
    "results.summary()"
   ]
  },
  {
   "cell_type": "code",
   "execution_count": 79,
   "metadata": {},
   "outputs": [
    {
     "data": {
      "text/html": [
       "<div>\n",
       "<style scoped>\n",
       "    .dataframe tbody tr th:only-of-type {\n",
       "        vertical-align: middle;\n",
       "    }\n",
       "\n",
       "    .dataframe tbody tr th {\n",
       "        vertical-align: top;\n",
       "    }\n",
       "\n",
       "    .dataframe thead th {\n",
       "        text-align: right;\n",
       "    }\n",
       "</style>\n",
       "<table border=\"1\" class=\"dataframe\">\n",
       "  <thead>\n",
       "    <tr style=\"text-align: right;\">\n",
       "      <th></th>\n",
       "      <th>const</th>\n",
       "      <th>real_xr</th>\n",
       "      <th>ca_gdp_korea</th>\n",
       "      <th>ca_gdp_us</th>\n",
       "      <th>gdp_growth_korea</th>\n",
       "      <th>gdp_growth_us</th>\n",
       "      <th>infl_diff</th>\n",
       "      <th>int_rate_diff</th>\n",
       "      <th>reserves_to_gdp</th>\n",
       "      <th>reserves_growth</th>\n",
       "    </tr>\n",
       "  </thead>\n",
       "  <tbody>\n",
       "    <tr>\n",
       "      <th>2000-02-29</th>\n",
       "      <td>1.0</td>\n",
       "      <td>0.666984</td>\n",
       "      <td>3.573325</td>\n",
       "      <td>-2.994249</td>\n",
       "      <td>12.0</td>\n",
       "      <td>4.7</td>\n",
       "      <td>-1.453178</td>\n",
       "      <td>2.050</td>\n",
       "      <td>16.015309</td>\n",
       "      <td>43.763932</td>\n",
       "    </tr>\n",
       "    <tr>\n",
       "      <th>2000-03-31</th>\n",
       "      <td>1.0</td>\n",
       "      <td>0.681127</td>\n",
       "      <td>3.230006</td>\n",
       "      <td>-3.326220</td>\n",
       "      <td>12.0</td>\n",
       "      <td>4.2</td>\n",
       "      <td>-1.637996</td>\n",
       "      <td>2.040</td>\n",
       "      <td>16.803024</td>\n",
       "      <td>45.599751</td>\n",
       "    </tr>\n",
       "    <tr>\n",
       "      <th>2000-04-30</th>\n",
       "      <td>1.0</td>\n",
       "      <td>0.679900</td>\n",
       "      <td>2.742859</td>\n",
       "      <td>-3.326220</td>\n",
       "      <td>12.0</td>\n",
       "      <td>4.2</td>\n",
       "      <td>-1.630910</td>\n",
       "      <td>2.080</td>\n",
       "      <td>16.996802</td>\n",
       "      <td>42.773058</td>\n",
       "    </tr>\n",
       "    <tr>\n",
       "      <th>2000-05-31</th>\n",
       "      <td>1.0</td>\n",
       "      <td>0.665808</td>\n",
       "      <td>2.664657</td>\n",
       "      <td>-3.326220</td>\n",
       "      <td>8.9</td>\n",
       "      <td>4.2</td>\n",
       "      <td>-2.082471</td>\n",
       "      <td>1.980</td>\n",
       "      <td>17.440132</td>\n",
       "      <td>41.378918</td>\n",
       "    </tr>\n",
       "    <tr>\n",
       "      <th>2000-06-30</th>\n",
       "      <td>1.0</td>\n",
       "      <td>0.677156</td>\n",
       "      <td>2.589429</td>\n",
       "      <td>-3.624226</td>\n",
       "      <td>8.9</td>\n",
       "      <td>5.2</td>\n",
       "      <td>-1.515722</td>\n",
       "      <td>2.030</td>\n",
       "      <td>18.114831</td>\n",
       "      <td>45.479712</td>\n",
       "    </tr>\n",
       "    <tr>\n",
       "      <th>...</th>\n",
       "      <td>...</td>\n",
       "      <td>...</td>\n",
       "      <td>...</td>\n",
       "      <td>...</td>\n",
       "      <td>...</td>\n",
       "      <td>...</td>\n",
       "      <td>...</td>\n",
       "      <td>...</td>\n",
       "      <td>...</td>\n",
       "      <td>...</td>\n",
       "    </tr>\n",
       "    <tr>\n",
       "      <th>2020-12-31</th>\n",
       "      <td>1.0</td>\n",
       "      <td>0.757909</td>\n",
       "      <td>4.611527</td>\n",
       "      <td>-3.102101</td>\n",
       "      <td>-1.6</td>\n",
       "      <td>-1.7</td>\n",
       "      <td>-0.829291</td>\n",
       "      <td>0.641</td>\n",
       "      <td>27.052888</td>\n",
       "      <td>8.385671</td>\n",
       "    </tr>\n",
       "    <tr>\n",
       "      <th>2021-01-31</th>\n",
       "      <td>1.0</td>\n",
       "      <td>0.739821</td>\n",
       "      <td>4.981117</td>\n",
       "      <td>-3.102101</td>\n",
       "      <td>-1.6</td>\n",
       "      <td>-1.7</td>\n",
       "      <td>-0.757753</td>\n",
       "      <td>0.570</td>\n",
       "      <td>27.030273</td>\n",
       "      <td>8.073945</td>\n",
       "    </tr>\n",
       "    <tr>\n",
       "      <th>2021-02-28</th>\n",
       "      <td>1.0</td>\n",
       "      <td>0.743960</td>\n",
       "      <td>5.082912</td>\n",
       "      <td>-3.102101</td>\n",
       "      <td>1.3</td>\n",
       "      <td>-1.7</td>\n",
       "      <td>-0.541512</td>\n",
       "      <td>0.593</td>\n",
       "      <td>27.325150</td>\n",
       "      <td>9.381409</td>\n",
       "    </tr>\n",
       "    <tr>\n",
       "      <th>2021-03-31</th>\n",
       "      <td>1.0</td>\n",
       "      <td>0.727486</td>\n",
       "      <td>5.196197</td>\n",
       "      <td>-3.462878</td>\n",
       "      <td>1.3</td>\n",
       "      <td>1.2</td>\n",
       "      <td>-1.083233</td>\n",
       "      <td>0.620</td>\n",
       "      <td>27.237837</td>\n",
       "      <td>11.472098</td>\n",
       "    </tr>\n",
       "    <tr>\n",
       "      <th>2021-04-30</th>\n",
       "      <td>1.0</td>\n",
       "      <td>0.744632</td>\n",
       "      <td>5.516181</td>\n",
       "      <td>-3.462878</td>\n",
       "      <td>1.3</td>\n",
       "      <td>1.2</td>\n",
       "      <td>-1.833693</td>\n",
       "      <td>0.592</td>\n",
       "      <td>27.615289</td>\n",
       "      <td>11.962732</td>\n",
       "    </tr>\n",
       "  </tbody>\n",
       "</table>\n",
       "<p>255 rows × 10 columns</p>\n",
       "</div>"
      ],
      "text/plain": [
       "            const   real_xr  ca_gdp_korea  ca_gdp_us  gdp_growth_korea  \\\n",
       "2000-02-29    1.0  0.666984      3.573325  -2.994249              12.0   \n",
       "2000-03-31    1.0  0.681127      3.230006  -3.326220              12.0   \n",
       "2000-04-30    1.0  0.679900      2.742859  -3.326220              12.0   \n",
       "2000-05-31    1.0  0.665808      2.664657  -3.326220               8.9   \n",
       "2000-06-30    1.0  0.677156      2.589429  -3.624226               8.9   \n",
       "...           ...       ...           ...        ...               ...   \n",
       "2020-12-31    1.0  0.757909      4.611527  -3.102101              -1.6   \n",
       "2021-01-31    1.0  0.739821      4.981117  -3.102101              -1.6   \n",
       "2021-02-28    1.0  0.743960      5.082912  -3.102101               1.3   \n",
       "2021-03-31    1.0  0.727486      5.196197  -3.462878               1.3   \n",
       "2021-04-30    1.0  0.744632      5.516181  -3.462878               1.3   \n",
       "\n",
       "            gdp_growth_us  infl_diff  int_rate_diff  reserves_to_gdp  \\\n",
       "2000-02-29            4.7  -1.453178          2.050        16.015309   \n",
       "2000-03-31            4.2  -1.637996          2.040        16.803024   \n",
       "2000-04-30            4.2  -1.630910          2.080        16.996802   \n",
       "2000-05-31            4.2  -2.082471          1.980        17.440132   \n",
       "2000-06-30            5.2  -1.515722          2.030        18.114831   \n",
       "...                   ...        ...            ...              ...   \n",
       "2020-12-31           -1.7  -0.829291          0.641        27.052888   \n",
       "2021-01-31           -1.7  -0.757753          0.570        27.030273   \n",
       "2021-02-28           -1.7  -0.541512          0.593        27.325150   \n",
       "2021-03-31            1.2  -1.083233          0.620        27.237837   \n",
       "2021-04-30            1.2  -1.833693          0.592        27.615289   \n",
       "\n",
       "            reserves_growth  \n",
       "2000-02-29        43.763932  \n",
       "2000-03-31        45.599751  \n",
       "2000-04-30        42.773058  \n",
       "2000-05-31        41.378918  \n",
       "2000-06-30        45.479712  \n",
       "...                     ...  \n",
       "2020-12-31         8.385671  \n",
       "2021-01-31         8.073945  \n",
       "2021-02-28         9.381409  \n",
       "2021-03-31        11.472098  \n",
       "2021-04-30        11.962732  \n",
       "\n",
       "[255 rows x 10 columns]"
      ]
     },
     "execution_count": 79,
     "metadata": {},
     "output_type": "execute_result"
    }
   ],
   "source": [
    "X"
   ]
  },
  {
   "cell_type": "code",
   "execution_count": 55,
   "metadata": {},
   "outputs": [],
   "source": [
    "columns = ['real_xr', 'ca_gdp_us', 'gdp_growth_korea', 'gdp_growth_us', 'int_rate_diff', 'reserves_to_gdp']"
   ]
  },
  {
   "cell_type": "code",
   "execution_count": 56,
   "metadata": {},
   "outputs": [
    {
     "data": {
      "text/plain": [
       "6"
      ]
     },
     "execution_count": 56,
     "metadata": {},
     "output_type": "execute_result"
    }
   ],
   "source": [
    "len(columns)"
   ]
  },
  {
   "cell_type": "code",
   "execution_count": 57,
   "metadata": {},
   "outputs": [],
   "source": [
    "X2 = X[['const', *columns]]"
   ]
  },
  {
   "cell_type": "code",
   "execution_count": 58,
   "metadata": {},
   "outputs": [],
   "source": [
    "results = sm.OLS(Y, X2).fit()"
   ]
  },
  {
   "cell_type": "code",
   "execution_count": 59,
   "metadata": {},
   "outputs": [
    {
     "data": {
      "text/html": [
       "<table class=\"simpletable\">\n",
       "<caption>OLS Regression Results</caption>\n",
       "<tr>\n",
       "  <th>Dep. Variable:</th>       <td>F12.ann_ret</td>   <th>  R-squared:         </th> <td>   0.470</td>\n",
       "</tr>\n",
       "<tr>\n",
       "  <th>Model:</th>                   <td>OLS</td>       <th>  Adj. R-squared:    </th> <td>   0.457</td>\n",
       "</tr>\n",
       "<tr>\n",
       "  <th>Method:</th>             <td>Least Squares</td>  <th>  F-statistic:       </th> <td>   36.66</td>\n",
       "</tr>\n",
       "<tr>\n",
       "  <th>Date:</th>             <td>Tue, 12 Apr 2022</td> <th>  Prob (F-statistic):</th> <td>1.13e-31</td>\n",
       "</tr>\n",
       "<tr>\n",
       "  <th>Time:</th>                 <td>16:32:00</td>     <th>  Log-Likelihood:    </th> <td> -894.63</td>\n",
       "</tr>\n",
       "<tr>\n",
       "  <th>No. Observations:</th>      <td>   255</td>      <th>  AIC:               </th> <td>   1803.</td>\n",
       "</tr>\n",
       "<tr>\n",
       "  <th>Df Residuals:</th>          <td>   248</td>      <th>  BIC:               </th> <td>   1828.</td>\n",
       "</tr>\n",
       "<tr>\n",
       "  <th>Df Model:</th>              <td>     6</td>      <th>                     </th>     <td> </td>   \n",
       "</tr>\n",
       "<tr>\n",
       "  <th>Covariance Type:</th>      <td>nonrobust</td>    <th>                     </th>     <td> </td>   \n",
       "</tr>\n",
       "</table>\n",
       "<table class=\"simpletable\">\n",
       "<tr>\n",
       "          <td></td>            <th>coef</th>     <th>std err</th>      <th>t</th>      <th>P>|t|</th>  <th>[0.025</th>    <th>0.975]</th>  \n",
       "</tr>\n",
       "<tr>\n",
       "  <th>const</th>            <td>  -49.8831</td> <td>    6.343</td> <td>   -7.864</td> <td> 0.000</td> <td>  -62.376</td> <td>  -37.390</td>\n",
       "</tr>\n",
       "<tr>\n",
       "  <th>real_xr</th>          <td>  141.5675</td> <td>   10.414</td> <td>   13.594</td> <td> 0.000</td> <td>  121.056</td> <td>  162.079</td>\n",
       "</tr>\n",
       "<tr>\n",
       "  <th>ca_gdp_us</th>        <td>    1.2988</td> <td>    0.455</td> <td>    2.854</td> <td> 0.005</td> <td>    0.402</td> <td>    2.195</td>\n",
       "</tr>\n",
       "<tr>\n",
       "  <th>gdp_growth_korea</th> <td>    1.3728</td> <td>    0.287</td> <td>    4.779</td> <td> 0.000</td> <td>    0.807</td> <td>    1.939</td>\n",
       "</tr>\n",
       "<tr>\n",
       "  <th>gdp_growth_us</th>    <td>   -1.3238</td> <td>    0.333</td> <td>   -3.975</td> <td> 0.000</td> <td>   -1.980</td> <td>   -0.668</td>\n",
       "</tr>\n",
       "<tr>\n",
       "  <th>int_rate_diff</th>    <td>    1.6435</td> <td>    0.452</td> <td>    3.637</td> <td> 0.000</td> <td>    0.754</td> <td>    2.533</td>\n",
       "</tr>\n",
       "<tr>\n",
       "  <th>reserves_to_gdp</th>  <td>   -2.2548</td> <td>    0.249</td> <td>   -9.052</td> <td> 0.000</td> <td>   -2.745</td> <td>   -1.764</td>\n",
       "</tr>\n",
       "</table>\n",
       "<table class=\"simpletable\">\n",
       "<tr>\n",
       "  <th>Omnibus:</th>       <td>111.392</td> <th>  Durbin-Watson:     </th> <td>   0.308</td> \n",
       "</tr>\n",
       "<tr>\n",
       "  <th>Prob(Omnibus):</th> <td> 0.000</td>  <th>  Jarque-Bera (JB):  </th> <td> 528.157</td> \n",
       "</tr>\n",
       "<tr>\n",
       "  <th>Skew:</th>          <td> 1.740</td>  <th>  Prob(JB):          </th> <td>2.05e-115</td>\n",
       "</tr>\n",
       "<tr>\n",
       "  <th>Kurtosis:</th>      <td> 9.131</td>  <th>  Cond. No.          </th> <td>    537.</td> \n",
       "</tr>\n",
       "</table><br/><br/>Warnings:<br/>[1] Standard Errors assume that the covariance matrix of the errors is correctly specified."
      ],
      "text/plain": [
       "<class 'statsmodels.iolib.summary.Summary'>\n",
       "\"\"\"\n",
       "                            OLS Regression Results                            \n",
       "==============================================================================\n",
       "Dep. Variable:            F12.ann_ret   R-squared:                       0.470\n",
       "Model:                            OLS   Adj. R-squared:                  0.457\n",
       "Method:                 Least Squares   F-statistic:                     36.66\n",
       "Date:                Tue, 12 Apr 2022   Prob (F-statistic):           1.13e-31\n",
       "Time:                        16:32:00   Log-Likelihood:                -894.63\n",
       "No. Observations:                 255   AIC:                             1803.\n",
       "Df Residuals:                     248   BIC:                             1828.\n",
       "Df Model:                           6                                         \n",
       "Covariance Type:            nonrobust                                         \n",
       "====================================================================================\n",
       "                       coef    std err          t      P>|t|      [0.025      0.975]\n",
       "------------------------------------------------------------------------------------\n",
       "const              -49.8831      6.343     -7.864      0.000     -62.376     -37.390\n",
       "real_xr            141.5675     10.414     13.594      0.000     121.056     162.079\n",
       "ca_gdp_us            1.2988      0.455      2.854      0.005       0.402       2.195\n",
       "gdp_growth_korea     1.3728      0.287      4.779      0.000       0.807       1.939\n",
       "gdp_growth_us       -1.3238      0.333     -3.975      0.000      -1.980      -0.668\n",
       "int_rate_diff        1.6435      0.452      3.637      0.000       0.754       2.533\n",
       "reserves_to_gdp     -2.2548      0.249     -9.052      0.000      -2.745      -1.764\n",
       "==============================================================================\n",
       "Omnibus:                      111.392   Durbin-Watson:                   0.308\n",
       "Prob(Omnibus):                  0.000   Jarque-Bera (JB):              528.157\n",
       "Skew:                           1.740   Prob(JB):                    2.05e-115\n",
       "Kurtosis:                       9.131   Cond. No.                         537.\n",
       "==============================================================================\n",
       "\n",
       "Warnings:\n",
       "[1] Standard Errors assume that the covariance matrix of the errors is correctly specified.\n",
       "\"\"\""
      ]
     },
     "execution_count": 59,
     "metadata": {},
     "output_type": "execute_result"
    }
   ],
   "source": [
    "results.summary()"
   ]
  },
  {
   "cell_type": "code",
   "execution_count": null,
   "metadata": {},
   "outputs": [],
   "source": []
  },
  {
   "cell_type": "code",
   "execution_count": null,
   "metadata": {},
   "outputs": [],
   "source": []
  },
  {
   "cell_type": "code",
   "execution_count": 60,
   "metadata": {},
   "outputs": [],
   "source": [
    "import matplotlib.pyplot as plt"
   ]
  },
  {
   "cell_type": "code",
   "execution_count": 61,
   "metadata": {},
   "outputs": [],
   "source": [
    "plt.rcParams['figure.figsize']  = (10, 4)"
   ]
  },
  {
   "cell_type": "code",
   "execution_count": 62,
   "metadata": {
    "scrolled": true
   },
   "outputs": [
    {
     "data": {
      "image/png": "[encoded data removed]",
      "text/plain": [
       "<Figure size 720x288 with 1 Axes>"
      ]
     },
     "metadata": {
      "needs_background": "light"
     },
     "output_type": "display_data"
    }
   ],
   "source": [
    "plt.plot(Y, label = 'Realized XR return')\n",
    "plt.plot(Y.index, results.predict(), label='Predicted Return')\n",
    "plt.legend()\n",
    "plt.show()"
   ]
  },
  {
   "cell_type": "code",
   "execution_count": 63,
   "metadata": {},
   "outputs": [],
   "source": [
    "plt.rcParams['figure.figsize']  = (6, 6)"
   ]
  },
  {
   "cell_type": "code",
   "execution_count": 64,
   "metadata": {},
   "outputs": [
    {
     "data": {
      "image/png": "[encoded data removed]",
      "text/plain": [
       "<Figure size 432x432 with 1 Axes>"
      ]
     },
     "metadata": {
      "needs_background": "light"
     },
     "output_type": "display_data"
    }
   ],
   "source": [
    "plt.scatter(results.predict(), Y)\n",
    "plt.xlabel('Predicted XR return')\n",
    "plt.ylabel('Realized XR return')\n",
    "plt.show()"
   ]
  },
  {
   "cell_type": "markdown",
   "metadata": {},
   "source": [
    "X축에는 예측, y축에는 실제값  \n",
    "만약 잘 예측했다면 45도의 그래프를 그리게 되겠죠  \n",
    "but error 가 존재함...  \n",
    "bigger size of the period > crisis...\n"
   ]
  },
  {
   "cell_type": "markdown",
   "metadata": {},
   "source": [
    "## XR Forecast"
   ]
  },
  {
   "cell_type": "code",
   "execution_count": 65,
   "metadata": {},
   "outputs": [
    {
     "data": {
      "text/html": [
       "<div>\n",
       "<style scoped>\n",
       "    .dataframe tbody tr th:only-of-type {\n",
       "        vertical-align: middle;\n",
       "    }\n",
       "\n",
       "    .dataframe tbody tr th {\n",
       "        vertical-align: top;\n",
       "    }\n",
       "\n",
       "    .dataframe thead th {\n",
       "        text-align: right;\n",
       "    }\n",
       "</style>\n",
       "<table border=\"1\" class=\"dataframe\">\n",
       "  <thead>\n",
       "    <tr style=\"text-align: right;\">\n",
       "      <th></th>\n",
       "      <th>krw_usd_xr</th>\n",
       "      <th>current_account_korea</th>\n",
       "      <th>current_account_us</th>\n",
       "      <th>gdp_korea</th>\n",
       "      <th>gdp_us</th>\n",
       "      <th>gdp_growth_korea</th>\n",
       "      <th>gdp_growth_us</th>\n",
       "      <th>cpi_korea</th>\n",
       "      <th>cpi_us</th>\n",
       "      <th>int_rate_korea</th>\n",
       "      <th>...</th>\n",
       "      <th>ca_gdp_korea</th>\n",
       "      <th>ca_gdp_us</th>\n",
       "      <th>gdp_growth_korea2</th>\n",
       "      <th>gdp_growth_us2</th>\n",
       "      <th>infl_korea</th>\n",
       "      <th>infl_us</th>\n",
       "      <th>infl_diff</th>\n",
       "      <th>int_rate_diff</th>\n",
       "      <th>reserves_to_gdp</th>\n",
       "      <th>reserves_growth</th>\n",
       "    </tr>\n",
       "  </thead>\n",
       "  <tbody>\n",
       "    <tr>\n",
       "      <th>2022-02-28</th>\n",
       "      <td>1202.7</td>\n",
       "      <td>85133.4</td>\n",
       "      <td>-783982.0</td>\n",
       "      <td>1637895.8</td>\n",
       "      <td>20893746.0</td>\n",
       "      <td>3.7</td>\n",
       "      <td>4.8</td>\n",
       "      <td>121.21</td>\n",
       "      <td>128.93</td>\n",
       "      <td>1.503</td>\n",
       "      <td>...</td>\n",
       "      <td>5.19773</td>\n",
       "      <td>-3.752233</td>\n",
       "      <td>0.0</td>\n",
       "      <td>0.0</td>\n",
       "      <td>3.139891</td>\n",
       "      <td>6.889405</td>\n",
       "      <td>-3.749514</td>\n",
       "      <td>0.493</td>\n",
       "      <td>28.192654</td>\n",
       "      <td>3.174745</td>\n",
       "    </tr>\n",
       "    <tr>\n",
       "      <th>2022-03-31</th>\n",
       "      <td>1210.8</td>\n",
       "      <td>85133.4</td>\n",
       "      <td>-783982.0</td>\n",
       "      <td>1637895.8</td>\n",
       "      <td>20893746.0</td>\n",
       "      <td>3.7</td>\n",
       "      <td>4.8</td>\n",
       "      <td>121.21</td>\n",
       "      <td>128.93</td>\n",
       "      <td>1.815</td>\n",
       "      <td>...</td>\n",
       "      <td>5.19773</td>\n",
       "      <td>-3.752233</td>\n",
       "      <td>0.0</td>\n",
       "      <td>0.0</td>\n",
       "      <td>2.990908</td>\n",
       "      <td>6.141434</td>\n",
       "      <td>-3.150526</td>\n",
       "      <td>0.185</td>\n",
       "      <td>28.192654</td>\n",
       "      <td>3.505480</td>\n",
       "    </tr>\n",
       "    <tr>\n",
       "      <th>2022-04-30</th>\n",
       "      <td>1216.7</td>\n",
       "      <td>85133.4</td>\n",
       "      <td>-783982.0</td>\n",
       "      <td>1637895.8</td>\n",
       "      <td>20893746.0</td>\n",
       "      <td>3.7</td>\n",
       "      <td>4.8</td>\n",
       "      <td>121.21</td>\n",
       "      <td>128.93</td>\n",
       "      <td>1.852</td>\n",
       "      <td>...</td>\n",
       "      <td>5.19773</td>\n",
       "      <td>-3.752233</td>\n",
       "      <td>0.0</td>\n",
       "      <td>0.0</td>\n",
       "      <td>2.772596</td>\n",
       "      <td>5.274761</td>\n",
       "      <td>-2.502165</td>\n",
       "      <td>0.222</td>\n",
       "      <td>28.192654</td>\n",
       "      <td>2.090744</td>\n",
       "    </tr>\n",
       "  </tbody>\n",
       "</table>\n",
       "<p>3 rows × 26 columns</p>\n",
       "</div>"
      ],
      "text/plain": [
       "            krw_usd_xr  current_account_korea  current_account_us  gdp_korea  \\\n",
       "2022-02-28      1202.7                85133.4           -783982.0  1637895.8   \n",
       "2022-03-31      1210.8                85133.4           -783982.0  1637895.8   \n",
       "2022-04-30      1216.7                85133.4           -783982.0  1637895.8   \n",
       "\n",
       "                gdp_us  gdp_growth_korea  gdp_growth_us  cpi_korea  cpi_us  \\\n",
       "2022-02-28  20893746.0               3.7            4.8     121.21  128.93   \n",
       "2022-03-31  20893746.0               3.7            4.8     121.21  128.93   \n",
       "2022-04-30  20893746.0               3.7            4.8     121.21  128.93   \n",
       "\n",
       "            int_rate_korea  ...  ca_gdp_korea  ca_gdp_us  gdp_growth_korea2  \\\n",
       "2022-02-28           1.503  ...       5.19773  -3.752233                0.0   \n",
       "2022-03-31           1.815  ...       5.19773  -3.752233                0.0   \n",
       "2022-04-30           1.852  ...       5.19773  -3.752233                0.0   \n",
       "\n",
       "            gdp_growth_us2  infl_korea   infl_us  infl_diff  int_rate_diff  \\\n",
       "2022-02-28             0.0    3.139891  6.889405  -3.749514          0.493   \n",
       "2022-03-31             0.0    2.990908  6.141434  -3.150526          0.185   \n",
       "2022-04-30             0.0    2.772596  5.274761  -2.502165          0.222   \n",
       "\n",
       "            reserves_to_gdp  reserves_growth  \n",
       "2022-02-28        28.192654         3.174745  \n",
       "2022-03-31        28.192654         3.505480  \n",
       "2022-04-30        28.192654         2.090744  \n",
       "\n",
       "[3 rows x 26 columns]"
      ]
     },
     "execution_count": 65,
     "metadata": {},
     "output_type": "execute_result"
    }
   ],
   "source": [
    "df_merged.tail(3)"
   ]
  },
  {
   "cell_type": "code",
   "execution_count": 66,
   "metadata": {},
   "outputs": [],
   "source": [
    "last_obs = df_merged.iloc[-1]"
   ]
  },
  {
   "cell_type": "code",
   "execution_count": 67,
   "metadata": {},
   "outputs": [],
   "source": [
    "last_xr = last_obs['krw_usd_xr']"
   ]
  },
  {
   "cell_type": "code",
   "execution_count": 68,
   "metadata": {},
   "outputs": [
    {
     "data": {
      "text/plain": [
       "1216.7"
      ]
     },
     "execution_count": 68,
     "metadata": {},
     "output_type": "execute_result"
    }
   ],
   "source": [
    "last_xr"
   ]
  },
  {
   "cell_type": "code",
   "execution_count": 69,
   "metadata": {},
   "outputs": [],
   "source": [
    "# exog = exogeneous variables\n",
    "exog = last_obs[columns]"
   ]
  },
  {
   "cell_type": "code",
   "execution_count": 70,
   "metadata": {},
   "outputs": [
    {
     "data": {
      "text/plain": [
       "real_xr              0.677739\n",
       "ca_gdp_us           -3.752233\n",
       "gdp_growth_korea     3.700000\n",
       "gdp_growth_us        4.800000\n",
       "int_rate_diff        0.222000\n",
       "reserves_to_gdp     28.192654\n",
       "Name: 2022-04-30 00:00:00, dtype: float64"
      ]
     },
     "execution_count": 70,
     "metadata": {},
     "output_type": "execute_result"
    }
   ],
   "source": [
    "exog"
   ]
  },
  {
   "cell_type": "code",
   "execution_count": 71,
   "metadata": {},
   "outputs": [],
   "source": [
    "exog = [1, *exog]"
   ]
  },
  {
   "cell_type": "code",
   "execution_count": 72,
   "metadata": {},
   "outputs": [
    {
     "data": {
      "text/plain": [
       "[1,\n",
       " 0.6777389035916824,\n",
       " -3.7522328451776907,\n",
       " 3.7000000000000015,\n",
       " 4.799999999999999,\n",
       " 0.2220000000000002,\n",
       " 28.192653830603874]"
      ]
     },
     "execution_count": 72,
     "metadata": {},
     "output_type": "execute_result"
    }
   ],
   "source": [
    "exog"
   ]
  },
  {
   "cell_type": "code",
   "execution_count": 73,
   "metadata": {},
   "outputs": [],
   "source": [
    "pred_ret = results.predict(exog=exog)"
   ]
  },
  {
   "cell_type": "code",
   "execution_count": 74,
   "metadata": {},
   "outputs": [],
   "source": [
    "pred_xr = last_xr*(1+pred_ret[0]/100)"
   ]
  },
  {
   "cell_type": "code",
   "execution_count": 75,
   "metadata": {},
   "outputs": [
    {
     "name": "stdout",
     "output_type": "stream",
     "text": [
      "Predicted XR return : -23.29%\n"
     ]
    }
   ],
   "source": [
    "print('Predicted XR return : {:.2f}%'.format(pred_ret[0]))"
   ]
  },
  {
   "cell_type": "code",
   "execution_count": 76,
   "metadata": {},
   "outputs": [
    {
     "name": "stdout",
     "output_type": "stream",
     "text": [
      "Predicted XR 1216.70 to : 933.34\n"
     ]
    }
   ],
   "source": [
    "print('Predicted XR {:.2f} to : {:.2f}'.format(last_xr, pred_xr))"
   ]
  },
  {
   "cell_type": "code",
   "execution_count": null,
   "metadata": {},
   "outputs": [],
   "source": []
  },
  {
   "cell_type": "code",
   "execution_count": 77,
   "metadata": {},
   "outputs": [],
   "source": [
    "from statsmodels.sandbox.regression.predstd import wls_prediction_std"
   ]
  },
  {
   "cell_type": "code",
   "execution_count": 78,
   "metadata": {},
   "outputs": [
    {
     "name": "stdout",
     "output_type": "stream",
     "text": [
      "Confidence interval at alpha 0.05 : 730.20  ~ 1136.47\n",
      "Confidence interval at alpha 0.25 : 814.42  ~ 1052.26\n",
      "Confidence interval at alpha 0.50 : 863.67  ~ 1003.00\n"
     ]
    }
   ],
   "source": [
    "for alpha in [.05, .25, .50]:\n",
    "    prstd, iv_l, iv_u = wls_prediction_std(results, exog = exog, alpha=alpha)\n",
    "    \n",
    "    print('Confidence interval at alpha {:.2f} : {:.2f}  ~ {:.2f}'.format( \n",
    "        alpha, \n",
    "        last_xr*(1+iv_l[0]/100), \n",
    "        last_xr*(1+iv_u[0]/100)))"
   ]
  },
  {
   "cell_type": "code",
   "execution_count": null,
   "metadata": {},
   "outputs": [],
   "source": []
  }
 ],
 "metadata": {
  "kernelspec": {
   "display_name": "Python 3",
   "language": "python",
   "name": "python3"
  },
  "language_info": {
   "codemirror_mode": {
    "name": "ipython",
    "version": 3
   },
   "file_extension": ".py",
   "mimetype": "text/x-python",
   "name": "python",
   "nbconvert_exporter": "python",
   "pygments_lexer": "ipython3",
   "version": "3.7.6"
  }
 },
 "nbformat": 4,
 "nbformat_minor": 4
}
