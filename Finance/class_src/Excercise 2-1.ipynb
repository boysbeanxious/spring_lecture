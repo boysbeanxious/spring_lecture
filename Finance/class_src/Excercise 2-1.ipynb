{
 "cells": [
  {
   "cell_type": "markdown",
   "metadata": {},
   "source": [
    "# BAR507 Excersize 2-1"
   ]
  },
  {
   "cell_type": "markdown",
   "metadata": {},
   "source": [
    "## Myokyung Han(20224230)"
   ]
  },
  {
   "cell_type": "code",
   "execution_count": null,
   "metadata": {},
   "outputs": [],
   "source": []
  },
  {
   "cell_type": "markdown",
   "metadata": {},
   "source": [
    "## Data Loading "
   ]
  },
  {
   "cell_type": "code",
   "execution_count": 1,
   "metadata": {},
   "outputs": [],
   "source": [
    "import pandas as pd"
   ]
  },
  {
   "cell_type": "code",
   "execution_count": 2,
   "metadata": {},
   "outputs": [],
   "source": [
    "df_samsung = pd.read_excel('./data/samsung_stock_price.xlsx', skiprows = 1)"
   ]
  },
  {
   "cell_type": "code",
   "execution_count": 3,
   "metadata": {},
   "outputs": [
    {
     "data": {
      "text/html": [
       "<div>\n",
       "<style scoped>\n",
       "    .dataframe tbody tr th:only-of-type {\n",
       "        vertical-align: middle;\n",
       "    }\n",
       "\n",
       "    .dataframe tbody tr th {\n",
       "        vertical-align: top;\n",
       "    }\n",
       "\n",
       "    .dataframe thead th {\n",
       "        text-align: right;\n",
       "    }\n",
       "</style>\n",
       "<table border=\"1\" class=\"dataframe\">\n",
       "  <thead>\n",
       "    <tr style=\"text-align: right;\">\n",
       "      <th></th>\n",
       "      <th>날짜</th>\n",
       "      <th>종목코드</th>\n",
       "      <th>기업명</th>\n",
       "      <th>주가 2000-2022</th>\n",
       "    </tr>\n",
       "  </thead>\n",
       "  <tbody>\n",
       "    <tr>\n",
       "      <th>0</th>\n",
       "      <td>2000-01-04T00:00:00</td>\n",
       "      <td>KRX:005930</td>\n",
       "      <td>삼성전자</td>\n",
       "      <td>6110</td>\n",
       "    </tr>\n",
       "    <tr>\n",
       "      <th>1</th>\n",
       "      <td>2000-01-05T00:00:00</td>\n",
       "      <td>KRX:005930</td>\n",
       "      <td>삼성전자</td>\n",
       "      <td>5580</td>\n",
       "    </tr>\n",
       "    <tr>\n",
       "      <th>2</th>\n",
       "      <td>2000-01-06T00:00:00</td>\n",
       "      <td>KRX:005930</td>\n",
       "      <td>삼성전자</td>\n",
       "      <td>5620</td>\n",
       "    </tr>\n",
       "    <tr>\n",
       "      <th>3</th>\n",
       "      <td>2000-01-07T00:00:00</td>\n",
       "      <td>KRX:005930</td>\n",
       "      <td>삼성전자</td>\n",
       "      <td>5540</td>\n",
       "    </tr>\n",
       "    <tr>\n",
       "      <th>4</th>\n",
       "      <td>2000-01-10T00:00:00</td>\n",
       "      <td>KRX:005930</td>\n",
       "      <td>삼성전자</td>\n",
       "      <td>5770</td>\n",
       "    </tr>\n",
       "  </tbody>\n",
       "</table>\n",
       "</div>"
      ],
      "text/plain": [
       "                    날짜        종목코드   기업명  주가 2000-2022\n",
       "0  2000-01-04T00:00:00  KRX:005930  삼성전자          6110\n",
       "1  2000-01-05T00:00:00  KRX:005930  삼성전자          5580\n",
       "2  2000-01-06T00:00:00  KRX:005930  삼성전자          5620\n",
       "3  2000-01-07T00:00:00  KRX:005930  삼성전자          5540\n",
       "4  2000-01-10T00:00:00  KRX:005930  삼성전자          5770"
      ]
     },
     "execution_count": 3,
     "metadata": {},
     "output_type": "execute_result"
    }
   ],
   "source": [
    "df_samsung.head(5)"
   ]
  },
  {
   "cell_type": "code",
   "execution_count": 4,
   "metadata": {},
   "outputs": [],
   "source": [
    "# 8byte to save the timestamp\n",
    "df_samsung['날짜'] = pd.to_datetime(df_samsung['날짜'])"
   ]
  },
  {
   "cell_type": "code",
   "execution_count": 5,
   "metadata": {},
   "outputs": [
    {
     "data": {
      "text/html": [
       "<div>\n",
       "<style scoped>\n",
       "    .dataframe tbody tr th:only-of-type {\n",
       "        vertical-align: middle;\n",
       "    }\n",
       "\n",
       "    .dataframe tbody tr th {\n",
       "        vertical-align: top;\n",
       "    }\n",
       "\n",
       "    .dataframe thead th {\n",
       "        text-align: right;\n",
       "    }\n",
       "</style>\n",
       "<table border=\"1\" class=\"dataframe\">\n",
       "  <thead>\n",
       "    <tr style=\"text-align: right;\">\n",
       "      <th></th>\n",
       "      <th>날짜</th>\n",
       "      <th>종목코드</th>\n",
       "      <th>기업명</th>\n",
       "      <th>주가 2000-2022</th>\n",
       "    </tr>\n",
       "  </thead>\n",
       "  <tbody>\n",
       "    <tr>\n",
       "      <th>0</th>\n",
       "      <td>2000-01-04</td>\n",
       "      <td>KRX:005930</td>\n",
       "      <td>삼성전자</td>\n",
       "      <td>6110</td>\n",
       "    </tr>\n",
       "    <tr>\n",
       "      <th>1</th>\n",
       "      <td>2000-01-05</td>\n",
       "      <td>KRX:005930</td>\n",
       "      <td>삼성전자</td>\n",
       "      <td>5580</td>\n",
       "    </tr>\n",
       "    <tr>\n",
       "      <th>2</th>\n",
       "      <td>2000-01-06</td>\n",
       "      <td>KRX:005930</td>\n",
       "      <td>삼성전자</td>\n",
       "      <td>5620</td>\n",
       "    </tr>\n",
       "  </tbody>\n",
       "</table>\n",
       "</div>"
      ],
      "text/plain": [
       "          날짜        종목코드   기업명  주가 2000-2022\n",
       "0 2000-01-04  KRX:005930  삼성전자          6110\n",
       "1 2000-01-05  KRX:005930  삼성전자          5580\n",
       "2 2000-01-06  KRX:005930  삼성전자          5620"
      ]
     },
     "execution_count": 5,
     "metadata": {},
     "output_type": "execute_result"
    }
   ],
   "source": [
    "df_samsung.head(3)"
   ]
  },
  {
   "cell_type": "code",
   "execution_count": 6,
   "metadata": {},
   "outputs": [],
   "source": [
    "# 시계열 분석을 위해 날짜 컬럼을 인덱스로 바꾸자 \n",
    "df_samsung.set_index('날짜', inplace=True)\n",
    "# df_samsung = df_samsung.set_index('날짜')"
   ]
  },
  {
   "cell_type": "code",
   "execution_count": 7,
   "metadata": {},
   "outputs": [
    {
     "data": {
      "text/html": [
       "<div>\n",
       "<style scoped>\n",
       "    .dataframe tbody tr th:only-of-type {\n",
       "        vertical-align: middle;\n",
       "    }\n",
       "\n",
       "    .dataframe tbody tr th {\n",
       "        vertical-align: top;\n",
       "    }\n",
       "\n",
       "    .dataframe thead th {\n",
       "        text-align: right;\n",
       "    }\n",
       "</style>\n",
       "<table border=\"1\" class=\"dataframe\">\n",
       "  <thead>\n",
       "    <tr style=\"text-align: right;\">\n",
       "      <th></th>\n",
       "      <th>종목코드</th>\n",
       "      <th>기업명</th>\n",
       "      <th>주가 2000-2022</th>\n",
       "    </tr>\n",
       "    <tr>\n",
       "      <th>날짜</th>\n",
       "      <th></th>\n",
       "      <th></th>\n",
       "      <th></th>\n",
       "    </tr>\n",
       "  </thead>\n",
       "  <tbody>\n",
       "    <tr>\n",
       "      <th>2000-01-04</th>\n",
       "      <td>KRX:005930</td>\n",
       "      <td>삼성전자</td>\n",
       "      <td>6110</td>\n",
       "    </tr>\n",
       "    <tr>\n",
       "      <th>2000-01-05</th>\n",
       "      <td>KRX:005930</td>\n",
       "      <td>삼성전자</td>\n",
       "      <td>5580</td>\n",
       "    </tr>\n",
       "    <tr>\n",
       "      <th>2000-01-06</th>\n",
       "      <td>KRX:005930</td>\n",
       "      <td>삼성전자</td>\n",
       "      <td>5620</td>\n",
       "    </tr>\n",
       "    <tr>\n",
       "      <th>2000-01-07</th>\n",
       "      <td>KRX:005930</td>\n",
       "      <td>삼성전자</td>\n",
       "      <td>5540</td>\n",
       "    </tr>\n",
       "    <tr>\n",
       "      <th>2000-01-10</th>\n",
       "      <td>KRX:005930</td>\n",
       "      <td>삼성전자</td>\n",
       "      <td>5770</td>\n",
       "    </tr>\n",
       "  </tbody>\n",
       "</table>\n",
       "</div>"
      ],
      "text/plain": [
       "                  종목코드   기업명  주가 2000-2022\n",
       "날짜                                        \n",
       "2000-01-04  KRX:005930  삼성전자          6110\n",
       "2000-01-05  KRX:005930  삼성전자          5580\n",
       "2000-01-06  KRX:005930  삼성전자          5620\n",
       "2000-01-07  KRX:005930  삼성전자          5540\n",
       "2000-01-10  KRX:005930  삼성전자          5770"
      ]
     },
     "execution_count": 7,
     "metadata": {},
     "output_type": "execute_result"
    }
   ],
   "source": [
    "df_samsung.head()"
   ]
  },
  {
   "cell_type": "code",
   "execution_count": 8,
   "metadata": {},
   "outputs": [],
   "source": [
    "# df_samsung.loc[0]\n",
    "# 인덱스가 날짜로 바뀌었기 때문에 숫자를 넣으면 에러남 "
   ]
  },
  {
   "cell_type": "code",
   "execution_count": 9,
   "metadata": {
    "scrolled": true
   },
   "outputs": [
    {
     "data": {
      "text/plain": [
       "종목코드            KRX:005930\n",
       "기업명                   삼성전자\n",
       "주가 2000-2022         59500\n",
       "Name: 2020-01-10 00:00:00, dtype: object"
      ]
     },
     "execution_count": 9,
     "metadata": {},
     "output_type": "execute_result"
    }
   ],
   "source": [
    "df_samsung.loc['2020-01-10']"
   ]
  },
  {
   "cell_type": "markdown",
   "metadata": {},
   "source": [
    "## Splicing the dataframe for a range of dates"
   ]
  },
  {
   "cell_type": "code",
   "execution_count": 10,
   "metadata": {},
   "outputs": [
    {
     "data": {
      "text/html": [
       "<div>\n",
       "<style scoped>\n",
       "    .dataframe tbody tr th:only-of-type {\n",
       "        vertical-align: middle;\n",
       "    }\n",
       "\n",
       "    .dataframe tbody tr th {\n",
       "        vertical-align: top;\n",
       "    }\n",
       "\n",
       "    .dataframe thead th {\n",
       "        text-align: right;\n",
       "    }\n",
       "</style>\n",
       "<table border=\"1\" class=\"dataframe\">\n",
       "  <thead>\n",
       "    <tr style=\"text-align: right;\">\n",
       "      <th></th>\n",
       "      <th>종목코드</th>\n",
       "      <th>기업명</th>\n",
       "      <th>주가 2000-2022</th>\n",
       "    </tr>\n",
       "    <tr>\n",
       "      <th>날짜</th>\n",
       "      <th></th>\n",
       "      <th></th>\n",
       "      <th></th>\n",
       "    </tr>\n",
       "  </thead>\n",
       "  <tbody>\n",
       "    <tr>\n",
       "      <th>2010-03-02</th>\n",
       "      <td>KRX:005930</td>\n",
       "      <td>삼성전자</td>\n",
       "      <td>15400</td>\n",
       "    </tr>\n",
       "    <tr>\n",
       "      <th>2010-03-03</th>\n",
       "      <td>KRX:005930</td>\n",
       "      <td>삼성전자</td>\n",
       "      <td>15420</td>\n",
       "    </tr>\n",
       "    <tr>\n",
       "      <th>2010-03-04</th>\n",
       "      <td>KRX:005930</td>\n",
       "      <td>삼성전자</td>\n",
       "      <td>15220</td>\n",
       "    </tr>\n",
       "    <tr>\n",
       "      <th>2010-03-05</th>\n",
       "      <td>KRX:005930</td>\n",
       "      <td>삼성전자</td>\n",
       "      <td>15500</td>\n",
       "    </tr>\n",
       "    <tr>\n",
       "      <th>2010-03-08</th>\n",
       "      <td>KRX:005930</td>\n",
       "      <td>삼성전자</td>\n",
       "      <td>15720</td>\n",
       "    </tr>\n",
       "    <tr>\n",
       "      <th>2010-03-09</th>\n",
       "      <td>KRX:005930</td>\n",
       "      <td>삼성전자</td>\n",
       "      <td>15720</td>\n",
       "    </tr>\n",
       "    <tr>\n",
       "      <th>2010-03-10</th>\n",
       "      <td>KRX:005930</td>\n",
       "      <td>삼성전자</td>\n",
       "      <td>15680</td>\n",
       "    </tr>\n",
       "  </tbody>\n",
       "</table>\n",
       "</div>"
      ],
      "text/plain": [
       "                  종목코드   기업명  주가 2000-2022\n",
       "날짜                                        \n",
       "2010-03-02  KRX:005930  삼성전자         15400\n",
       "2010-03-03  KRX:005930  삼성전자         15420\n",
       "2010-03-04  KRX:005930  삼성전자         15220\n",
       "2010-03-05  KRX:005930  삼성전자         15500\n",
       "2010-03-08  KRX:005930  삼성전자         15720\n",
       "2010-03-09  KRX:005930  삼성전자         15720\n",
       "2010-03-10  KRX:005930  삼성전자         15680"
      ]
     },
     "execution_count": 10,
     "metadata": {},
     "output_type": "execute_result"
    }
   ],
   "source": [
    "df_samsung.loc['2010-03-01': '2010-03-10']\n",
    "# missing dates 는 빼고 조회됨"
   ]
  },
  {
   "cell_type": "code",
   "execution_count": null,
   "metadata": {},
   "outputs": [],
   "source": []
  },
  {
   "cell_type": "markdown",
   "metadata": {},
   "source": [
    "## Plot a time-series chart"
   ]
  },
  {
   "cell_type": "code",
   "execution_count": 11,
   "metadata": {},
   "outputs": [],
   "source": [
    "import matplotlib.pyplot as plt"
   ]
  },
  {
   "cell_type": "code",
   "execution_count": 12,
   "metadata": {},
   "outputs": [
    {
     "data": {
      "image/png": "[encoded data removed]",
      "text/plain": [
       "<Figure size 432x288 with 1 Axes>"
      ]
     },
     "metadata": {
      "needs_background": "light"
     },
     "output_type": "display_data"
    }
   ],
   "source": [
    "plt.plot(df_samsung['주가 2000-2022'])\n",
    "plt.show()"
   ]
  },
  {
   "cell_type": "markdown",
   "metadata": {},
   "source": [
    "## Japan imposed an export ban on June 30, 2019\n",
    "### what would have happend on the stock price of the event?"
   ]
  },
  {
   "cell_type": "code",
   "execution_count": 13,
   "metadata": {},
   "outputs": [],
   "source": [
    "df_sub = df_samsung.loc['2019-06-20': '2019-07-30']"
   ]
  },
  {
   "cell_type": "code",
   "execution_count": 14,
   "metadata": {},
   "outputs": [
    {
     "data": {
      "image/png": "[encoded data removed]",
      "text/plain": [
       "<Figure size 432x288 with 1 Axes>"
      ]
     },
     "metadata": {
      "needs_background": "light"
     },
     "output_type": "display_data"
    }
   ],
   "source": [
    "plt.plot(df_sub['주가 2000-2022'])\n",
    "plt.xticks(rotation=30)\n",
    "plt.show()"
   ]
  },
  {
   "cell_type": "code",
   "execution_count": 15,
   "metadata": {},
   "outputs": [],
   "source": [
    "# df_sub.loc['2019-06-30']\n",
    "# 해당 날짜에 데이터가 없어서 조회 시 에러남 "
   ]
  },
  {
   "cell_type": "code",
   "execution_count": 16,
   "metadata": {},
   "outputs": [],
   "source": [
    "# 이벤트 발생 후 3일을 보여줌\n",
    "# df_sub.loc['2019-06-30':].head(3)"
   ]
  },
  {
   "cell_type": "code",
   "execution_count": 17,
   "metadata": {},
   "outputs": [],
   "source": [
    "# iloc : use integer number\n",
    "event = df_sub.loc['2019-06-30':].iloc[0]"
   ]
  },
  {
   "cell_type": "code",
   "execution_count": 18,
   "metadata": {},
   "outputs": [
    {
     "data": {
      "text/plain": [
       "종목코드            KRX:005930\n",
       "기업명                   삼성전자\n",
       "주가 2000-2022         46600\n",
       "Name: 2019-07-01 00:00:00, dtype: object"
      ]
     },
     "execution_count": 18,
     "metadata": {},
     "output_type": "execute_result"
    }
   ],
   "source": [
    "event"
   ]
  },
  {
   "cell_type": "code",
   "execution_count": 19,
   "metadata": {},
   "outputs": [],
   "source": [
    "bbox = dict(boxstyle=\"round\",  fc=\"0.8\")"
   ]
  },
  {
   "cell_type": "code",
   "execution_count": 20,
   "metadata": {},
   "outputs": [],
   "source": [
    "arrowprops = dict(\n",
    "    arrowstyle=\"->\",\n",
    "    connectionstyle=\"angle,angleA=0,angleB=90,rad=10\")"
   ]
  },
  {
   "cell_type": "code",
   "execution_count": 21,
   "metadata": {},
   "outputs": [
    {
     "data": {
      "image/png": "[encoded data removed]",
      "text/plain": [
       "<Figure size 432x288 with 1 Axes>"
      ]
     },
     "metadata": {
      "needs_background": "light"
     },
     "output_type": "display_data"
    }
   ],
   "source": [
    "plt.plot(df_sub['주가 2000-2022'])\n",
    "plt.xticks(rotation=30)\n",
    "plt.annotate(\n",
    "    \"Japan's export ban\", \n",
    "    xy = (event.name, event['주가 2000-2022']),\n",
    "    xytext = (30,50),\n",
    "    textcoords = 'offset points',\n",
    "    arrowprops = arrowprops,\n",
    "    bbox = bbox\n",
    "    \n",
    ")\n",
    "plt.show()\n",
    "\n",
    "#데이터를 볼때 앞뒤로 봐야 한다\n",
    "# 생각보다 오래가지 않은것을 확인 할 수 있다 "
   ]
  },
  {
   "cell_type": "code",
   "execution_count": 22,
   "metadata": {},
   "outputs": [
    {
     "data": {
      "text/plain": [
       "46600"
      ]
     },
     "execution_count": 22,
     "metadata": {},
     "output_type": "execute_result"
    }
   ],
   "source": [
    "event['주가 2000-2022']"
   ]
  },
  {
   "cell_type": "code",
   "execution_count": 23,
   "metadata": {},
   "outputs": [
    {
     "data": {
      "text/plain": [
       "Index(['종목코드', '기업명', '주가 2000-2022'], dtype='object')"
      ]
     },
     "execution_count": 23,
     "metadata": {},
     "output_type": "execute_result"
    }
   ],
   "source": [
    "event.index"
   ]
  },
  {
   "cell_type": "code",
   "execution_count": null,
   "metadata": {},
   "outputs": [],
   "source": []
  },
  {
   "cell_type": "markdown",
   "metadata": {},
   "source": [
    "## Merge Samsung and LG stock price together"
   ]
  },
  {
   "cell_type": "code",
   "execution_count": 24,
   "metadata": {},
   "outputs": [],
   "source": [
    "df_lg = pd.read_excel('./data/lg_stock_price.xlsx', skiprows = 1)"
   ]
  },
  {
   "cell_type": "code",
   "execution_count": 25,
   "metadata": {},
   "outputs": [],
   "source": [
    "df_lg['날짜'] = pd.to_datetime(df_lg['날짜'])"
   ]
  },
  {
   "cell_type": "code",
   "execution_count": 26,
   "metadata": {},
   "outputs": [],
   "source": [
    "df_lg.set_index('날짜', inplace=True)"
   ]
  },
  {
   "cell_type": "code",
   "execution_count": 27,
   "metadata": {},
   "outputs": [
    {
     "data": {
      "text/html": [
       "<div>\n",
       "<style scoped>\n",
       "    .dataframe tbody tr th:only-of-type {\n",
       "        vertical-align: middle;\n",
       "    }\n",
       "\n",
       "    .dataframe tbody tr th {\n",
       "        vertical-align: top;\n",
       "    }\n",
       "\n",
       "    .dataframe thead th {\n",
       "        text-align: right;\n",
       "    }\n",
       "</style>\n",
       "<table border=\"1\" class=\"dataframe\">\n",
       "  <thead>\n",
       "    <tr style=\"text-align: right;\">\n",
       "      <th></th>\n",
       "      <th>종목코드</th>\n",
       "      <th>기업명</th>\n",
       "      <th>주가 2000-2022</th>\n",
       "    </tr>\n",
       "    <tr>\n",
       "      <th>날짜</th>\n",
       "      <th></th>\n",
       "      <th></th>\n",
       "      <th></th>\n",
       "    </tr>\n",
       "  </thead>\n",
       "  <tbody>\n",
       "    <tr>\n",
       "      <th>2002-04-22</th>\n",
       "      <td>KRX:066570</td>\n",
       "      <td>LG전자</td>\n",
       "      <td>62936</td>\n",
       "    </tr>\n",
       "    <tr>\n",
       "      <th>2002-04-23</th>\n",
       "      <td>KRX:066570</td>\n",
       "      <td>LG전자</td>\n",
       "      <td>57463</td>\n",
       "    </tr>\n",
       "    <tr>\n",
       "      <th>2002-04-24</th>\n",
       "      <td>KRX:066570</td>\n",
       "      <td>LG전자</td>\n",
       "      <td>55704</td>\n",
       "    </tr>\n",
       "    <tr>\n",
       "      <th>2002-04-25</th>\n",
       "      <td>KRX:066570</td>\n",
       "      <td>LG전자</td>\n",
       "      <td>51209</td>\n",
       "    </tr>\n",
       "    <tr>\n",
       "      <th>2002-04-26</th>\n",
       "      <td>KRX:066570</td>\n",
       "      <td>LG전자</td>\n",
       "      <td>53554</td>\n",
       "    </tr>\n",
       "  </tbody>\n",
       "</table>\n",
       "</div>"
      ],
      "text/plain": [
       "                  종목코드   기업명  주가 2000-2022\n",
       "날짜                                        \n",
       "2002-04-22  KRX:066570  LG전자         62936\n",
       "2002-04-23  KRX:066570  LG전자         57463\n",
       "2002-04-24  KRX:066570  LG전자         55704\n",
       "2002-04-25  KRX:066570  LG전자         51209\n",
       "2002-04-26  KRX:066570  LG전자         53554"
      ]
     },
     "execution_count": 27,
     "metadata": {},
     "output_type": "execute_result"
    }
   ],
   "source": [
    "df_lg.head()"
   ]
  },
  {
   "cell_type": "code",
   "execution_count": 28,
   "metadata": {},
   "outputs": [],
   "source": [
    "df_test = pd.concat([df_lg, df_lg])"
   ]
  },
  {
   "cell_type": "code",
   "execution_count": 29,
   "metadata": {},
   "outputs": [
    {
     "data": {
      "text/html": [
       "<div>\n",
       "<style scoped>\n",
       "    .dataframe tbody tr th:only-of-type {\n",
       "        vertical-align: middle;\n",
       "    }\n",
       "\n",
       "    .dataframe tbody tr th {\n",
       "        vertical-align: top;\n",
       "    }\n",
       "\n",
       "    .dataframe thead th {\n",
       "        text-align: right;\n",
       "    }\n",
       "</style>\n",
       "<table border=\"1\" class=\"dataframe\">\n",
       "  <thead>\n",
       "    <tr style=\"text-align: right;\">\n",
       "      <th></th>\n",
       "      <th>종목코드</th>\n",
       "      <th>기업명</th>\n",
       "      <th>주가 2000-2022</th>\n",
       "    </tr>\n",
       "    <tr>\n",
       "      <th>날짜</th>\n",
       "      <th></th>\n",
       "      <th></th>\n",
       "      <th></th>\n",
       "    </tr>\n",
       "  </thead>\n",
       "  <tbody>\n",
       "    <tr>\n",
       "      <th>2019-07-01</th>\n",
       "      <td>KRX:066570</td>\n",
       "      <td>LG전자</td>\n",
       "      <td>76700</td>\n",
       "    </tr>\n",
       "    <tr>\n",
       "      <th>2019-07-01</th>\n",
       "      <td>KRX:066570</td>\n",
       "      <td>LG전자</td>\n",
       "      <td>76700</td>\n",
       "    </tr>\n",
       "  </tbody>\n",
       "</table>\n",
       "</div>"
      ],
      "text/plain": [
       "                  종목코드   기업명  주가 2000-2022\n",
       "날짜                                        \n",
       "2019-07-01  KRX:066570  LG전자         76700\n",
       "2019-07-01  KRX:066570  LG전자         76700"
      ]
     },
     "execution_count": 29,
     "metadata": {},
     "output_type": "execute_result"
    }
   ],
   "source": [
    "df_test.loc['2019-07-01']\n",
    "# 인덱스 중복이 됩니다. "
   ]
  },
  {
   "cell_type": "code",
   "execution_count": 30,
   "metadata": {},
   "outputs": [
    {
     "data": {
      "text/html": [
       "<div>\n",
       "<style scoped>\n",
       "    .dataframe tbody tr th:only-of-type {\n",
       "        vertical-align: middle;\n",
       "    }\n",
       "\n",
       "    .dataframe tbody tr th {\n",
       "        vertical-align: top;\n",
       "    }\n",
       "\n",
       "    .dataframe thead th {\n",
       "        text-align: right;\n",
       "    }\n",
       "</style>\n",
       "<table border=\"1\" class=\"dataframe\">\n",
       "  <thead>\n",
       "    <tr style=\"text-align: right;\">\n",
       "      <th></th>\n",
       "      <th></th>\n",
       "      <th>주가 2000-2022</th>\n",
       "    </tr>\n",
       "    <tr>\n",
       "      <th>종목코드</th>\n",
       "      <th>기업명</th>\n",
       "      <th></th>\n",
       "    </tr>\n",
       "  </thead>\n",
       "  <tbody>\n",
       "    <tr>\n",
       "      <th rowspan=\"11\" valign=\"top\">KRX:066570</th>\n",
       "      <th>LG전자</th>\n",
       "      <td>62936</td>\n",
       "    </tr>\n",
       "    <tr>\n",
       "      <th>LG전자</th>\n",
       "      <td>57463</td>\n",
       "    </tr>\n",
       "    <tr>\n",
       "      <th>LG전자</th>\n",
       "      <td>55704</td>\n",
       "    </tr>\n",
       "    <tr>\n",
       "      <th>LG전자</th>\n",
       "      <td>51209</td>\n",
       "    </tr>\n",
       "    <tr>\n",
       "      <th>LG전자</th>\n",
       "      <td>53554</td>\n",
       "    </tr>\n",
       "    <tr>\n",
       "      <th>...</th>\n",
       "      <td>...</td>\n",
       "    </tr>\n",
       "    <tr>\n",
       "      <th>LG전자</th>\n",
       "      <td>124000</td>\n",
       "    </tr>\n",
       "    <tr>\n",
       "      <th>LG전자</th>\n",
       "      <td>124000</td>\n",
       "    </tr>\n",
       "    <tr>\n",
       "      <th>LG전자</th>\n",
       "      <td>123500</td>\n",
       "    </tr>\n",
       "    <tr>\n",
       "      <th>LG전자</th>\n",
       "      <td>124000</td>\n",
       "    </tr>\n",
       "    <tr>\n",
       "      <th>LG전자</th>\n",
       "      <td>127000</td>\n",
       "    </tr>\n",
       "  </tbody>\n",
       "</table>\n",
       "<p>9824 rows × 1 columns</p>\n",
       "</div>"
      ],
      "text/plain": [
       "                 주가 2000-2022\n",
       "종목코드       기업명               \n",
       "KRX:066570 LG전자         62936\n",
       "           LG전자         57463\n",
       "           LG전자         55704\n",
       "           LG전자         51209\n",
       "           LG전자         53554\n",
       "...                       ...\n",
       "           LG전자        124000\n",
       "           LG전자        124000\n",
       "           LG전자        123500\n",
       "           LG전자        124000\n",
       "           LG전자        127000\n",
       "\n",
       "[9824 rows x 1 columns]"
      ]
     },
     "execution_count": 30,
     "metadata": {},
     "output_type": "execute_result"
    }
   ],
   "source": [
    "df_test.set_index(['종목코드', '기업명'])\n",
    "# .loc 두번으로 접근 "
   ]
  },
  {
   "cell_type": "code",
   "execution_count": 31,
   "metadata": {},
   "outputs": [
    {
     "data": {
      "text/html": [
       "<div>\n",
       "<style scoped>\n",
       "    .dataframe tbody tr th:only-of-type {\n",
       "        vertical-align: middle;\n",
       "    }\n",
       "\n",
       "    .dataframe tbody tr th {\n",
       "        vertical-align: top;\n",
       "    }\n",
       "\n",
       "    .dataframe thead th {\n",
       "        text-align: right;\n",
       "    }\n",
       "</style>\n",
       "<table border=\"1\" class=\"dataframe\">\n",
       "  <thead>\n",
       "    <tr style=\"text-align: right;\">\n",
       "      <th></th>\n",
       "      <th>종목코드</th>\n",
       "      <th>기업명</th>\n",
       "      <th>주가 2000-2022</th>\n",
       "    </tr>\n",
       "    <tr>\n",
       "      <th>날짜</th>\n",
       "      <th></th>\n",
       "      <th></th>\n",
       "      <th></th>\n",
       "    </tr>\n",
       "  </thead>\n",
       "  <tbody>\n",
       "    <tr>\n",
       "      <th>2000-01-04</th>\n",
       "      <td>KRX:005930</td>\n",
       "      <td>삼성전자</td>\n",
       "      <td>6110</td>\n",
       "    </tr>\n",
       "    <tr>\n",
       "      <th>2000-01-05</th>\n",
       "      <td>KRX:005930</td>\n",
       "      <td>삼성전자</td>\n",
       "      <td>5580</td>\n",
       "    </tr>\n",
       "    <tr>\n",
       "      <th>2000-01-06</th>\n",
       "      <td>KRX:005930</td>\n",
       "      <td>삼성전자</td>\n",
       "      <td>5620</td>\n",
       "    </tr>\n",
       "  </tbody>\n",
       "</table>\n",
       "</div>"
      ],
      "text/plain": [
       "                  종목코드   기업명  주가 2000-2022\n",
       "날짜                                        \n",
       "2000-01-04  KRX:005930  삼성전자          6110\n",
       "2000-01-05  KRX:005930  삼성전자          5580\n",
       "2000-01-06  KRX:005930  삼성전자          5620"
      ]
     },
     "execution_count": 31,
     "metadata": {},
     "output_type": "execute_result"
    }
   ],
   "source": [
    "df_samsung.head(3)"
   ]
  },
  {
   "cell_type": "code",
   "execution_count": 32,
   "metadata": {},
   "outputs": [
    {
     "data": {
      "text/html": [
       "<div>\n",
       "<style scoped>\n",
       "    .dataframe tbody tr th:only-of-type {\n",
       "        vertical-align: middle;\n",
       "    }\n",
       "\n",
       "    .dataframe tbody tr th {\n",
       "        vertical-align: top;\n",
       "    }\n",
       "\n",
       "    .dataframe thead th {\n",
       "        text-align: right;\n",
       "    }\n",
       "</style>\n",
       "<table border=\"1\" class=\"dataframe\">\n",
       "  <thead>\n",
       "    <tr style=\"text-align: right;\">\n",
       "      <th></th>\n",
       "      <th>종목코드</th>\n",
       "      <th>기업명</th>\n",
       "      <th>주가 2000-2022</th>\n",
       "    </tr>\n",
       "    <tr>\n",
       "      <th>날짜</th>\n",
       "      <th></th>\n",
       "      <th></th>\n",
       "      <th></th>\n",
       "    </tr>\n",
       "  </thead>\n",
       "  <tbody>\n",
       "    <tr>\n",
       "      <th>2002-04-22</th>\n",
       "      <td>KRX:066570</td>\n",
       "      <td>LG전자</td>\n",
       "      <td>62936</td>\n",
       "    </tr>\n",
       "    <tr>\n",
       "      <th>2002-04-23</th>\n",
       "      <td>KRX:066570</td>\n",
       "      <td>LG전자</td>\n",
       "      <td>57463</td>\n",
       "    </tr>\n",
       "    <tr>\n",
       "      <th>2002-04-24</th>\n",
       "      <td>KRX:066570</td>\n",
       "      <td>LG전자</td>\n",
       "      <td>55704</td>\n",
       "    </tr>\n",
       "  </tbody>\n",
       "</table>\n",
       "</div>"
      ],
      "text/plain": [
       "                  종목코드   기업명  주가 2000-2022\n",
       "날짜                                        \n",
       "2002-04-22  KRX:066570  LG전자         62936\n",
       "2002-04-23  KRX:066570  LG전자         57463\n",
       "2002-04-24  KRX:066570  LG전자         55704"
      ]
     },
     "execution_count": 32,
     "metadata": {},
     "output_type": "execute_result"
    }
   ],
   "source": [
    "df_lg.head(3)"
   ]
  },
  {
   "cell_type": "markdown",
   "metadata": {},
   "source": [
    "## Rename Columns"
   ]
  },
  {
   "cell_type": "code",
   "execution_count": 33,
   "metadata": {},
   "outputs": [],
   "source": [
    "df_samsung = df_samsung.rename(\n",
    "    columns = {'주가 2000-2022':'samsung'}\n",
    ")"
   ]
  },
  {
   "cell_type": "code",
   "execution_count": 34,
   "metadata": {},
   "outputs": [
    {
     "data": {
      "text/html": [
       "<div>\n",
       "<style scoped>\n",
       "    .dataframe tbody tr th:only-of-type {\n",
       "        vertical-align: middle;\n",
       "    }\n",
       "\n",
       "    .dataframe tbody tr th {\n",
       "        vertical-align: top;\n",
       "    }\n",
       "\n",
       "    .dataframe thead th {\n",
       "        text-align: right;\n",
       "    }\n",
       "</style>\n",
       "<table border=\"1\" class=\"dataframe\">\n",
       "  <thead>\n",
       "    <tr style=\"text-align: right;\">\n",
       "      <th></th>\n",
       "      <th>samsung</th>\n",
       "    </tr>\n",
       "    <tr>\n",
       "      <th>날짜</th>\n",
       "      <th></th>\n",
       "    </tr>\n",
       "  </thead>\n",
       "  <tbody>\n",
       "    <tr>\n",
       "      <th>2000-01-04</th>\n",
       "      <td>6110</td>\n",
       "    </tr>\n",
       "    <tr>\n",
       "      <th>2000-01-05</th>\n",
       "      <td>5580</td>\n",
       "    </tr>\n",
       "    <tr>\n",
       "      <th>2000-01-06</th>\n",
       "      <td>5620</td>\n",
       "    </tr>\n",
       "    <tr>\n",
       "      <th>2000-01-07</th>\n",
       "      <td>5540</td>\n",
       "    </tr>\n",
       "    <tr>\n",
       "      <th>2000-01-10</th>\n",
       "      <td>5770</td>\n",
       "    </tr>\n",
       "    <tr>\n",
       "      <th>...</th>\n",
       "      <td>...</td>\n",
       "    </tr>\n",
       "    <tr>\n",
       "      <th>2022-02-24</th>\n",
       "      <td>71500</td>\n",
       "    </tr>\n",
       "    <tr>\n",
       "      <th>2022-02-25</th>\n",
       "      <td>71900</td>\n",
       "    </tr>\n",
       "    <tr>\n",
       "      <th>2022-02-28</th>\n",
       "      <td>72100</td>\n",
       "    </tr>\n",
       "    <tr>\n",
       "      <th>2022-03-02</th>\n",
       "      <td>72000</td>\n",
       "    </tr>\n",
       "    <tr>\n",
       "      <th>2022-03-03</th>\n",
       "      <td>72800</td>\n",
       "    </tr>\n",
       "  </tbody>\n",
       "</table>\n",
       "<p>5472 rows × 1 columns</p>\n",
       "</div>"
      ],
      "text/plain": [
       "            samsung\n",
       "날짜                 \n",
       "2000-01-04     6110\n",
       "2000-01-05     5580\n",
       "2000-01-06     5620\n",
       "2000-01-07     5540\n",
       "2000-01-10     5770\n",
       "...             ...\n",
       "2022-02-24    71500\n",
       "2022-02-25    71900\n",
       "2022-02-28    72100\n",
       "2022-03-02    72000\n",
       "2022-03-03    72800\n",
       "\n",
       "[5472 rows x 1 columns]"
      ]
     },
     "execution_count": 34,
     "metadata": {},
     "output_type": "execute_result"
    }
   ],
   "source": [
    "df_samsung[['samsung']]"
   ]
  },
  {
   "cell_type": "code",
   "execution_count": 35,
   "metadata": {},
   "outputs": [],
   "source": [
    "df_samsung = df_samsung['samsung'].to_frame()"
   ]
  },
  {
   "cell_type": "code",
   "execution_count": 36,
   "metadata": {},
   "outputs": [
    {
     "data": {
      "text/html": [
       "<div>\n",
       "<style scoped>\n",
       "    .dataframe tbody tr th:only-of-type {\n",
       "        vertical-align: middle;\n",
       "    }\n",
       "\n",
       "    .dataframe tbody tr th {\n",
       "        vertical-align: top;\n",
       "    }\n",
       "\n",
       "    .dataframe thead th {\n",
       "        text-align: right;\n",
       "    }\n",
       "</style>\n",
       "<table border=\"1\" class=\"dataframe\">\n",
       "  <thead>\n",
       "    <tr style=\"text-align: right;\">\n",
       "      <th></th>\n",
       "      <th>samsung</th>\n",
       "    </tr>\n",
       "    <tr>\n",
       "      <th>날짜</th>\n",
       "      <th></th>\n",
       "    </tr>\n",
       "  </thead>\n",
       "  <tbody>\n",
       "    <tr>\n",
       "      <th>2000-01-04</th>\n",
       "      <td>6110</td>\n",
       "    </tr>\n",
       "    <tr>\n",
       "      <th>2000-01-05</th>\n",
       "      <td>5580</td>\n",
       "    </tr>\n",
       "    <tr>\n",
       "      <th>2000-01-06</th>\n",
       "      <td>5620</td>\n",
       "    </tr>\n",
       "    <tr>\n",
       "      <th>2000-01-07</th>\n",
       "      <td>5540</td>\n",
       "    </tr>\n",
       "    <tr>\n",
       "      <th>2000-01-10</th>\n",
       "      <td>5770</td>\n",
       "    </tr>\n",
       "  </tbody>\n",
       "</table>\n",
       "</div>"
      ],
      "text/plain": [
       "            samsung\n",
       "날짜                 \n",
       "2000-01-04     6110\n",
       "2000-01-05     5580\n",
       "2000-01-06     5620\n",
       "2000-01-07     5540\n",
       "2000-01-10     5770"
      ]
     },
     "execution_count": 36,
     "metadata": {},
     "output_type": "execute_result"
    }
   ],
   "source": [
    "df_samsung.head()"
   ]
  },
  {
   "cell_type": "code",
   "execution_count": 37,
   "metadata": {},
   "outputs": [],
   "source": [
    "df_lg = df_lg.rename(\n",
    "    columns = {'주가 2000-2022':'lg'}\n",
    ")"
   ]
  },
  {
   "cell_type": "code",
   "execution_count": 38,
   "metadata": {},
   "outputs": [],
   "source": [
    "df_lg = df_lg['lg'].to_frame()"
   ]
  },
  {
   "cell_type": "code",
   "execution_count": 39,
   "metadata": {},
   "outputs": [
    {
     "data": {
      "text/html": [
       "<div>\n",
       "<style scoped>\n",
       "    .dataframe tbody tr th:only-of-type {\n",
       "        vertical-align: middle;\n",
       "    }\n",
       "\n",
       "    .dataframe tbody tr th {\n",
       "        vertical-align: top;\n",
       "    }\n",
       "\n",
       "    .dataframe thead th {\n",
       "        text-align: right;\n",
       "    }\n",
       "</style>\n",
       "<table border=\"1\" class=\"dataframe\">\n",
       "  <thead>\n",
       "    <tr style=\"text-align: right;\">\n",
       "      <th></th>\n",
       "      <th>lg</th>\n",
       "    </tr>\n",
       "    <tr>\n",
       "      <th>날짜</th>\n",
       "      <th></th>\n",
       "    </tr>\n",
       "  </thead>\n",
       "  <tbody>\n",
       "    <tr>\n",
       "      <th>2002-04-22</th>\n",
       "      <td>62936</td>\n",
       "    </tr>\n",
       "    <tr>\n",
       "      <th>2002-04-23</th>\n",
       "      <td>57463</td>\n",
       "    </tr>\n",
       "    <tr>\n",
       "      <th>2002-04-24</th>\n",
       "      <td>55704</td>\n",
       "    </tr>\n",
       "    <tr>\n",
       "      <th>2002-04-25</th>\n",
       "      <td>51209</td>\n",
       "    </tr>\n",
       "    <tr>\n",
       "      <th>2002-04-26</th>\n",
       "      <td>53554</td>\n",
       "    </tr>\n",
       "  </tbody>\n",
       "</table>\n",
       "</div>"
      ],
      "text/plain": [
       "               lg\n",
       "날짜               \n",
       "2002-04-22  62936\n",
       "2002-04-23  57463\n",
       "2002-04-24  55704\n",
       "2002-04-25  51209\n",
       "2002-04-26  53554"
      ]
     },
     "execution_count": 39,
     "metadata": {},
     "output_type": "execute_result"
    }
   ],
   "source": [
    "df_lg.head()"
   ]
  },
  {
   "cell_type": "markdown",
   "metadata": {},
   "source": [
    "### Merge the two dataframes"
   ]
  },
  {
   "cell_type": "markdown",
   "metadata": {},
   "source": [
    "NaN = Not a Number "
   ]
  },
  {
   "cell_type": "markdown",
   "metadata": {},
   "source": [
    "### Merge/join method\n",
    "* inner join (intersection)\n",
    "* left join (default)\n",
    "* right join\n",
    "* outer join (union)"
   ]
  },
  {
   "cell_type": "code",
   "execution_count": 40,
   "metadata": {},
   "outputs": [
    {
     "data": {
      "text/html": [
       "<div>\n",
       "<style scoped>\n",
       "    .dataframe tbody tr th:only-of-type {\n",
       "        vertical-align: middle;\n",
       "    }\n",
       "\n",
       "    .dataframe tbody tr th {\n",
       "        vertical-align: top;\n",
       "    }\n",
       "\n",
       "    .dataframe thead th {\n",
       "        text-align: right;\n",
       "    }\n",
       "</style>\n",
       "<table border=\"1\" class=\"dataframe\">\n",
       "  <thead>\n",
       "    <tr style=\"text-align: right;\">\n",
       "      <th></th>\n",
       "      <th>samsung</th>\n",
       "      <th>lg</th>\n",
       "    </tr>\n",
       "    <tr>\n",
       "      <th>날짜</th>\n",
       "      <th></th>\n",
       "      <th></th>\n",
       "    </tr>\n",
       "  </thead>\n",
       "  <tbody>\n",
       "    <tr>\n",
       "      <th>2000-01-04</th>\n",
       "      <td>6110</td>\n",
       "      <td>NaN</td>\n",
       "    </tr>\n",
       "    <tr>\n",
       "      <th>2000-01-05</th>\n",
       "      <td>5580</td>\n",
       "      <td>NaN</td>\n",
       "    </tr>\n",
       "    <tr>\n",
       "      <th>2000-01-06</th>\n",
       "      <td>5620</td>\n",
       "      <td>NaN</td>\n",
       "    </tr>\n",
       "    <tr>\n",
       "      <th>2000-01-07</th>\n",
       "      <td>5540</td>\n",
       "      <td>NaN</td>\n",
       "    </tr>\n",
       "    <tr>\n",
       "      <th>2000-01-10</th>\n",
       "      <td>5770</td>\n",
       "      <td>NaN</td>\n",
       "    </tr>\n",
       "    <tr>\n",
       "      <th>...</th>\n",
       "      <td>...</td>\n",
       "      <td>...</td>\n",
       "    </tr>\n",
       "    <tr>\n",
       "      <th>2022-02-24</th>\n",
       "      <td>71500</td>\n",
       "      <td>124000.0</td>\n",
       "    </tr>\n",
       "    <tr>\n",
       "      <th>2022-02-25</th>\n",
       "      <td>71900</td>\n",
       "      <td>124000.0</td>\n",
       "    </tr>\n",
       "    <tr>\n",
       "      <th>2022-02-28</th>\n",
       "      <td>72100</td>\n",
       "      <td>123500.0</td>\n",
       "    </tr>\n",
       "    <tr>\n",
       "      <th>2022-03-02</th>\n",
       "      <td>72000</td>\n",
       "      <td>124000.0</td>\n",
       "    </tr>\n",
       "    <tr>\n",
       "      <th>2022-03-03</th>\n",
       "      <td>72800</td>\n",
       "      <td>127000.0</td>\n",
       "    </tr>\n",
       "  </tbody>\n",
       "</table>\n",
       "<p>5472 rows × 2 columns</p>\n",
       "</div>"
      ],
      "text/plain": [
       "            samsung        lg\n",
       "날짜                           \n",
       "2000-01-04     6110       NaN\n",
       "2000-01-05     5580       NaN\n",
       "2000-01-06     5620       NaN\n",
       "2000-01-07     5540       NaN\n",
       "2000-01-10     5770       NaN\n",
       "...             ...       ...\n",
       "2022-02-24    71500  124000.0\n",
       "2022-02-25    71900  124000.0\n",
       "2022-02-28    72100  123500.0\n",
       "2022-03-02    72000  124000.0\n",
       "2022-03-03    72800  127000.0\n",
       "\n",
       "[5472 rows x 2 columns]"
      ]
     },
     "execution_count": 40,
     "metadata": {},
     "output_type": "execute_result"
    }
   ],
   "source": [
    "df_samsung.join(df_lg)"
   ]
  },
  {
   "cell_type": "code",
   "execution_count": null,
   "metadata": {},
   "outputs": [],
   "source": []
  },
  {
   "cell_type": "code",
   "execution_count": 41,
   "metadata": {},
   "outputs": [],
   "source": [
    "# index를 활용해서 조인하는 방법\n",
    "# 기본이 left join이므로 반대로 join할 시 2022-04-22 부터 조회됨\n",
    "df_merged = df_samsung.join(df_lg)"
   ]
  },
  {
   "cell_type": "code",
   "execution_count": 42,
   "metadata": {},
   "outputs": [
    {
     "data": {
      "text/html": [
       "<div>\n",
       "<style scoped>\n",
       "    .dataframe tbody tr th:only-of-type {\n",
       "        vertical-align: middle;\n",
       "    }\n",
       "\n",
       "    .dataframe tbody tr th {\n",
       "        vertical-align: top;\n",
       "    }\n",
       "\n",
       "    .dataframe thead th {\n",
       "        text-align: right;\n",
       "    }\n",
       "</style>\n",
       "<table border=\"1\" class=\"dataframe\">\n",
       "  <thead>\n",
       "    <tr style=\"text-align: right;\">\n",
       "      <th></th>\n",
       "      <th>lg</th>\n",
       "      <th>samsung</th>\n",
       "    </tr>\n",
       "    <tr>\n",
       "      <th>날짜</th>\n",
       "      <th></th>\n",
       "      <th></th>\n",
       "    </tr>\n",
       "  </thead>\n",
       "  <tbody>\n",
       "    <tr>\n",
       "      <th>2002-04-22</th>\n",
       "      <td>62936</td>\n",
       "      <td>8200</td>\n",
       "    </tr>\n",
       "    <tr>\n",
       "      <th>2002-04-23</th>\n",
       "      <td>57463</td>\n",
       "      <td>8540</td>\n",
       "    </tr>\n",
       "    <tr>\n",
       "      <th>2002-04-24</th>\n",
       "      <td>55704</td>\n",
       "      <td>8640</td>\n",
       "    </tr>\n",
       "    <tr>\n",
       "      <th>2002-04-25</th>\n",
       "      <td>51209</td>\n",
       "      <td>8260</td>\n",
       "    </tr>\n",
       "    <tr>\n",
       "      <th>2002-04-26</th>\n",
       "      <td>53554</td>\n",
       "      <td>8000</td>\n",
       "    </tr>\n",
       "    <tr>\n",
       "      <th>...</th>\n",
       "      <td>...</td>\n",
       "      <td>...</td>\n",
       "    </tr>\n",
       "    <tr>\n",
       "      <th>2022-02-24</th>\n",
       "      <td>124000</td>\n",
       "      <td>71500</td>\n",
       "    </tr>\n",
       "    <tr>\n",
       "      <th>2022-02-25</th>\n",
       "      <td>124000</td>\n",
       "      <td>71900</td>\n",
       "    </tr>\n",
       "    <tr>\n",
       "      <th>2022-02-28</th>\n",
       "      <td>123500</td>\n",
       "      <td>72100</td>\n",
       "    </tr>\n",
       "    <tr>\n",
       "      <th>2022-03-02</th>\n",
       "      <td>124000</td>\n",
       "      <td>72000</td>\n",
       "    </tr>\n",
       "    <tr>\n",
       "      <th>2022-03-03</th>\n",
       "      <td>127000</td>\n",
       "      <td>72800</td>\n",
       "    </tr>\n",
       "  </tbody>\n",
       "</table>\n",
       "<p>4912 rows × 2 columns</p>\n",
       "</div>"
      ],
      "text/plain": [
       "                lg  samsung\n",
       "날짜                         \n",
       "2002-04-22   62936     8200\n",
       "2002-04-23   57463     8540\n",
       "2002-04-24   55704     8640\n",
       "2002-04-25   51209     8260\n",
       "2002-04-26   53554     8000\n",
       "...            ...      ...\n",
       "2022-02-24  124000    71500\n",
       "2022-02-25  124000    71900\n",
       "2022-02-28  123500    72100\n",
       "2022-03-02  124000    72000\n",
       "2022-03-03  127000    72800\n",
       "\n",
       "[4912 rows x 2 columns]"
      ]
     },
     "execution_count": 42,
     "metadata": {},
     "output_type": "execute_result"
    }
   ],
   "source": [
    "df_lg.join( df_samsung)"
   ]
  },
  {
   "cell_type": "markdown",
   "metadata": {},
   "source": [
    "### Drop null values"
   ]
  },
  {
   "cell_type": "code",
   "execution_count": 43,
   "metadata": {},
   "outputs": [],
   "source": [
    "df_merged = df_merged.dropna()"
   ]
  },
  {
   "cell_type": "code",
   "execution_count": 44,
   "metadata": {},
   "outputs": [
    {
     "data": {
      "text/html": [
       "<div>\n",
       "<style scoped>\n",
       "    .dataframe tbody tr th:only-of-type {\n",
       "        vertical-align: middle;\n",
       "    }\n",
       "\n",
       "    .dataframe tbody tr th {\n",
       "        vertical-align: top;\n",
       "    }\n",
       "\n",
       "    .dataframe thead th {\n",
       "        text-align: right;\n",
       "    }\n",
       "</style>\n",
       "<table border=\"1\" class=\"dataframe\">\n",
       "  <thead>\n",
       "    <tr style=\"text-align: right;\">\n",
       "      <th></th>\n",
       "      <th>samsung</th>\n",
       "      <th>lg</th>\n",
       "    </tr>\n",
       "    <tr>\n",
       "      <th>날짜</th>\n",
       "      <th></th>\n",
       "      <th></th>\n",
       "    </tr>\n",
       "  </thead>\n",
       "  <tbody>\n",
       "    <tr>\n",
       "      <th>2002-04-22</th>\n",
       "      <td>8200</td>\n",
       "      <td>62936.0</td>\n",
       "    </tr>\n",
       "    <tr>\n",
       "      <th>2002-04-23</th>\n",
       "      <td>8540</td>\n",
       "      <td>57463.0</td>\n",
       "    </tr>\n",
       "    <tr>\n",
       "      <th>2002-04-24</th>\n",
       "      <td>8640</td>\n",
       "      <td>55704.0</td>\n",
       "    </tr>\n",
       "    <tr>\n",
       "      <th>2002-04-25</th>\n",
       "      <td>8260</td>\n",
       "      <td>51209.0</td>\n",
       "    </tr>\n",
       "    <tr>\n",
       "      <th>2002-04-26</th>\n",
       "      <td>8000</td>\n",
       "      <td>53554.0</td>\n",
       "    </tr>\n",
       "    <tr>\n",
       "      <th>...</th>\n",
       "      <td>...</td>\n",
       "      <td>...</td>\n",
       "    </tr>\n",
       "    <tr>\n",
       "      <th>2022-02-24</th>\n",
       "      <td>71500</td>\n",
       "      <td>124000.0</td>\n",
       "    </tr>\n",
       "    <tr>\n",
       "      <th>2022-02-25</th>\n",
       "      <td>71900</td>\n",
       "      <td>124000.0</td>\n",
       "    </tr>\n",
       "    <tr>\n",
       "      <th>2022-02-28</th>\n",
       "      <td>72100</td>\n",
       "      <td>123500.0</td>\n",
       "    </tr>\n",
       "    <tr>\n",
       "      <th>2022-03-02</th>\n",
       "      <td>72000</td>\n",
       "      <td>124000.0</td>\n",
       "    </tr>\n",
       "    <tr>\n",
       "      <th>2022-03-03</th>\n",
       "      <td>72800</td>\n",
       "      <td>127000.0</td>\n",
       "    </tr>\n",
       "  </tbody>\n",
       "</table>\n",
       "<p>4912 rows × 2 columns</p>\n",
       "</div>"
      ],
      "text/plain": [
       "            samsung        lg\n",
       "날짜                           \n",
       "2002-04-22     8200   62936.0\n",
       "2002-04-23     8540   57463.0\n",
       "2002-04-24     8640   55704.0\n",
       "2002-04-25     8260   51209.0\n",
       "2002-04-26     8000   53554.0\n",
       "...             ...       ...\n",
       "2022-02-24    71500  124000.0\n",
       "2022-02-25    71900  124000.0\n",
       "2022-02-28    72100  123500.0\n",
       "2022-03-02    72000  124000.0\n",
       "2022-03-03    72800  127000.0\n",
       "\n",
       "[4912 rows x 2 columns]"
      ]
     },
     "execution_count": 44,
     "metadata": {},
     "output_type": "execute_result"
    }
   ],
   "source": [
    "df_merged"
   ]
  },
  {
   "cell_type": "markdown",
   "metadata": {},
   "source": [
    "### Plot a time-series chart"
   ]
  },
  {
   "cell_type": "code",
   "execution_count": 45,
   "metadata": {},
   "outputs": [
    {
     "data": {
      "image/png": "[encoded data removed]",
      "text/plain": [
       "<Figure size 432x288 with 1 Axes>"
      ]
     },
     "metadata": {
      "needs_background": "light"
     },
     "output_type": "display_data"
    }
   ],
   "source": [
    "plt.plot(df_merged['samsung'], label='samsung')\n",
    "plt.plot(df_merged['lg'], label = 'LG')\n",
    "plt.legend()\n",
    "plt.show()"
   ]
  },
  {
   "cell_type": "code",
   "execution_count": 46,
   "metadata": {},
   "outputs": [],
   "source": [
    "init_prices = df_merged.iloc[0]"
   ]
  },
  {
   "cell_type": "code",
   "execution_count": 48,
   "metadata": {},
   "outputs": [],
   "source": [
    "df_merged['samsung_norm']\\\n",
    "=df_merged['samsung']/init_prices.samsung*100"
   ]
  },
  {
   "cell_type": "code",
   "execution_count": 49,
   "metadata": {},
   "outputs": [],
   "source": [
    "df_merged['lg_norm']\\\n",
    "=df_merged['lg']/init_prices.lg*100"
   ]
  },
  {
   "cell_type": "code",
   "execution_count": 50,
   "metadata": {},
   "outputs": [
    {
     "data": {
      "text/html": [
       "<div>\n",
       "<style scoped>\n",
       "    .dataframe tbody tr th:only-of-type {\n",
       "        vertical-align: middle;\n",
       "    }\n",
       "\n",
       "    .dataframe tbody tr th {\n",
       "        vertical-align: top;\n",
       "    }\n",
       "\n",
       "    .dataframe thead th {\n",
       "        text-align: right;\n",
       "    }\n",
       "</style>\n",
       "<table border=\"1\" class=\"dataframe\">\n",
       "  <thead>\n",
       "    <tr style=\"text-align: right;\">\n",
       "      <th></th>\n",
       "      <th>samsung</th>\n",
       "      <th>lg</th>\n",
       "      <th>samsung_norm</th>\n",
       "      <th>lg_norm</th>\n",
       "    </tr>\n",
       "    <tr>\n",
       "      <th>날짜</th>\n",
       "      <th></th>\n",
       "      <th></th>\n",
       "      <th></th>\n",
       "      <th></th>\n",
       "    </tr>\n",
       "  </thead>\n",
       "  <tbody>\n",
       "    <tr>\n",
       "      <th>2002-04-22</th>\n",
       "      <td>8200</td>\n",
       "      <td>62936.0</td>\n",
       "      <td>100.000000</td>\n",
       "      <td>100.000000</td>\n",
       "    </tr>\n",
       "    <tr>\n",
       "      <th>2002-04-23</th>\n",
       "      <td>8540</td>\n",
       "      <td>57463.0</td>\n",
       "      <td>104.146341</td>\n",
       "      <td>91.303864</td>\n",
       "    </tr>\n",
       "    <tr>\n",
       "      <th>2002-04-24</th>\n",
       "      <td>8640</td>\n",
       "      <td>55704.0</td>\n",
       "      <td>105.365854</td>\n",
       "      <td>88.508961</td>\n",
       "    </tr>\n",
       "    <tr>\n",
       "      <th>2002-04-25</th>\n",
       "      <td>8260</td>\n",
       "      <td>51209.0</td>\n",
       "      <td>100.731707</td>\n",
       "      <td>81.366785</td>\n",
       "    </tr>\n",
       "    <tr>\n",
       "      <th>2002-04-26</th>\n",
       "      <td>8000</td>\n",
       "      <td>53554.0</td>\n",
       "      <td>97.560976</td>\n",
       "      <td>85.092793</td>\n",
       "    </tr>\n",
       "  </tbody>\n",
       "</table>\n",
       "</div>"
      ],
      "text/plain": [
       "            samsung       lg  samsung_norm     lg_norm\n",
       "날짜                                                    \n",
       "2002-04-22     8200  62936.0    100.000000  100.000000\n",
       "2002-04-23     8540  57463.0    104.146341   91.303864\n",
       "2002-04-24     8640  55704.0    105.365854   88.508961\n",
       "2002-04-25     8260  51209.0    100.731707   81.366785\n",
       "2002-04-26     8000  53554.0     97.560976   85.092793"
      ]
     },
     "execution_count": 50,
     "metadata": {},
     "output_type": "execute_result"
    }
   ],
   "source": [
    "df_merged.head()"
   ]
  },
  {
   "cell_type": "code",
   "execution_count": 51,
   "metadata": {},
   "outputs": [
    {
     "data": {
      "text/html": [
       "<div>\n",
       "<style scoped>\n",
       "    .dataframe tbody tr th:only-of-type {\n",
       "        vertical-align: middle;\n",
       "    }\n",
       "\n",
       "    .dataframe tbody tr th {\n",
       "        vertical-align: top;\n",
       "    }\n",
       "\n",
       "    .dataframe thead th {\n",
       "        text-align: right;\n",
       "    }\n",
       "</style>\n",
       "<table border=\"1\" class=\"dataframe\">\n",
       "  <thead>\n",
       "    <tr style=\"text-align: right;\">\n",
       "      <th></th>\n",
       "      <th>samsung</th>\n",
       "      <th>lg</th>\n",
       "      <th>samsung_norm</th>\n",
       "      <th>lg_norm</th>\n",
       "    </tr>\n",
       "    <tr>\n",
       "      <th>날짜</th>\n",
       "      <th></th>\n",
       "      <th></th>\n",
       "      <th></th>\n",
       "      <th></th>\n",
       "    </tr>\n",
       "  </thead>\n",
       "  <tbody>\n",
       "    <tr>\n",
       "      <th>2022-02-28</th>\n",
       "      <td>72100</td>\n",
       "      <td>123500.0</td>\n",
       "      <td>879.268293</td>\n",
       "      <td>196.231092</td>\n",
       "    </tr>\n",
       "    <tr>\n",
       "      <th>2022-03-02</th>\n",
       "      <td>72000</td>\n",
       "      <td>124000.0</td>\n",
       "      <td>878.048780</td>\n",
       "      <td>197.025550</td>\n",
       "    </tr>\n",
       "    <tr>\n",
       "      <th>2022-03-03</th>\n",
       "      <td>72800</td>\n",
       "      <td>127000.0</td>\n",
       "      <td>887.804878</td>\n",
       "      <td>201.792297</td>\n",
       "    </tr>\n",
       "  </tbody>\n",
       "</table>\n",
       "</div>"
      ],
      "text/plain": [
       "            samsung        lg  samsung_norm     lg_norm\n",
       "날짜                                                     \n",
       "2022-02-28    72100  123500.0    879.268293  196.231092\n",
       "2022-03-02    72000  124000.0    878.048780  197.025550\n",
       "2022-03-03    72800  127000.0    887.804878  201.792297"
      ]
     },
     "execution_count": 51,
     "metadata": {},
     "output_type": "execute_result"
    }
   ],
   "source": [
    "df_merged.tail(3)"
   ]
  },
  {
   "cell_type": "code",
   "execution_count": 52,
   "metadata": {},
   "outputs": [
    {
     "data": {
      "image/png": "[encoded data removed]",
      "text/plain": [
       "<Figure size 432x288 with 1 Axes>"
      ]
     },
     "metadata": {
      "needs_background": "light"
     },
     "output_type": "display_data"
    }
   ],
   "source": [
    "plt.plot(df_merged['samsung_norm'], label='samsung')\n",
    "plt.plot(df_merged['lg_norm'], label = 'LG')\n",
    "plt.legend()\n",
    "plt.show()\n",
    "# 정규화가 필요한 이유"
   ]
  },
  {
   "cell_type": "code",
   "execution_count": null,
   "metadata": {},
   "outputs": [],
   "source": []
  }
 ],
 "metadata": {
  "kernelspec": {
   "display_name": "Python 3",
   "language": "python",
   "name": "python3"
  },
  "language_info": {
   "codemirror_mode": {
    "name": "ipython",
    "version": 3
   },
   "file_extension": ".py",
   "mimetype": "text/x-python",
   "name": "python",
   "nbconvert_exporter": "python",
   "pygments_lexer": "ipython3",
   "version": "3.7.6"
  }
 },
 "nbformat": 4,
 "nbformat_minor": 4
}
