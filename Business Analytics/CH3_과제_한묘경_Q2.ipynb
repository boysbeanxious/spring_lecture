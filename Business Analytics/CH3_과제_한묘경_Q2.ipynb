{
 "cells": [
  {
   "cell_type": "markdown",
   "metadata": {},
   "source": [
    "### 0. 필요 패키지 import"
   ]
  },
  {
   "cell_type": "code",
   "execution_count": 1,
   "metadata": {},
   "outputs": [],
   "source": [
    "# Python ≥3.5 is required\n",
    "import sys\n",
    "assert sys.version_info >= (3, 5)\n",
    "\n",
    "# Is this notebook running on Colab or Kaggle?\n",
    "IS_COLAB = \"google.colab\" in sys.modules\n",
    "IS_KAGGLE = \"kaggle_secrets\" in sys.modules\n",
    "\n",
    "# Scikit-Learn ≥0.20 is required\n",
    "import sklearn\n",
    "assert sklearn.__version__ >= \"0.20\"\n",
    "\n",
    "# Common imports\n",
    "import numpy as np\n",
    "import os\n",
    "\n",
    "# to make this notebook's output stable across runs\n",
    "np.random.seed(42)\n",
    "\n",
    "# To plot pretty figures\n",
    "%matplotlib inline\n",
    "import matplotlib as mpl\n",
    "import matplotlib.pyplot as plt\n",
    "mpl.rc('axes', labelsize=14)\n",
    "mpl.rc('xtick', labelsize=12)\n",
    "mpl.rc('ytick', labelsize=12)\n",
    "\n",
    "# Where to save the figures\n",
    "PROJECT_ROOT_DIR = \".\"\n",
    "CHAPTER_ID = \"classification\"\n",
    "IMAGES_PATH = os.path.join(PROJECT_ROOT_DIR, \"images\", CHAPTER_ID)\n",
    "os.makedirs(IMAGES_PATH, exist_ok=True)\n",
    "\n",
    "def save_fig(fig_id, tight_layout=True, fig_extension=\"png\", resolution=300):\n",
    "    path = os.path.join(IMAGES_PATH, fig_id + \".\" + fig_extension)\n",
    "    print(\"Saving figure\", fig_id)\n",
    "    if tight_layout:\n",
    "        plt.tight_layout()\n",
    "    plt.savefig(path, format=fig_extension, dpi=resolution)"
   ]
  },
  {
   "cell_type": "code",
   "execution_count": 2,
   "metadata": {},
   "outputs": [
    {
     "data": {
      "text/plain": [
       "dict_keys(['data', 'target', 'frame', 'categories', 'feature_names', 'target_names', 'DESCR', 'details', 'url'])"
      ]
     },
     "execution_count": 2,
     "metadata": {},
     "output_type": "execute_result"
    }
   ],
   "source": [
    "from sklearn.datasets import fetch_openml\n",
    "mnist = fetch_openml('mnist_784', version=1, as_frame=False)\n",
    "mnist.keys()"
   ]
  },
  {
   "cell_type": "markdown",
   "metadata": {},
   "source": [
    "### 1. 데이터 셋 불러오기"
   ]
  },
  {
   "cell_type": "code",
   "execution_count": 3,
   "metadata": {},
   "outputs": [
    {
     "data": {
      "text/plain": [
       "(70000, 784)"
      ]
     },
     "execution_count": 3,
     "metadata": {},
     "output_type": "execute_result"
    }
   ],
   "source": [
    "X, y = mnist[\"data\"], mnist[\"target\"]\n",
    "X.shape"
   ]
  },
  {
   "cell_type": "code",
   "execution_count": 4,
   "metadata": {},
   "outputs": [],
   "source": [
    "### 데이터 셋 분할 \n",
    "\n",
    "from sklearn.model_selection import train_test_split\n",
    "\n",
    "X_train, X_test, y_train, y_test = train_test_split(X,y, test_size = 0.2, random_state = 42)"
   ]
  },
  {
   "cell_type": "code",
   "execution_count": 5,
   "metadata": {},
   "outputs": [
    {
     "name": "stdout",
     "output_type": "stream",
     "text": [
      "(56000, 784)\n",
      "(56000,)\n"
     ]
    }
   ],
   "source": [
    "print(X_train.shape)\n",
    "print(y_train.shape)"
   ]
  },
  {
   "cell_type": "markdown",
   "metadata": {},
   "source": [
    "### 2. 모델 선정"
   ]
  },
  {
   "cell_type": "code",
   "execution_count": 6,
   "metadata": {},
   "outputs": [],
   "source": [
    "from sklearn.neighbors import KNeighborsClassifier\n",
    "from sklearn.model_selection import GridSearchCV"
   ]
  },
  {
   "cell_type": "code",
   "execution_count": 7,
   "metadata": {},
   "outputs": [],
   "source": [
    "# help(KNeighborsClassifier)\n",
    "# 사용 가능한 파라미터 \n",
    "\n",
    "# n_neighbors : int, default=5\n",
    "# Number of neighbors to use by default for :meth:`kneighbors` queries.\n",
    "  \n",
    "# weights : {'uniform', 'distance'} or callable, default='uniform'\n",
    "#       weight function used in prediction.  Possible values:\n",
    "  \n",
    "# algorithm : {'auto', 'ball_tree', 'kd_tree', 'brute'}, default='auto'\n",
    "\n",
    "  \n",
    "# leaf_size : int, default=30\n",
    "#       Leaf size passed to BallTree or KDTree.  This can affect the\n",
    "#       speed of the construction and query, as well as the memory\n",
    "#       required to store the tree.  The optimal value depends on the\n",
    "#       nature of the problem.\n",
    "  \n",
    "# p : int, default=2\n",
    "#       Power parameter for the Minkowski metric. When p = 1, this is\n",
    "#       equivalent to using manhattan_distance (l1), and euclidean_distance\n",
    "#       (l2) for p = 2. For arbitrary p, minkowski_distance (l_p) is used.\n",
    "\n",
    "  \n",
    "    \n",
    "    "
   ]
  },
  {
   "cell_type": "code",
   "execution_count": 8,
   "metadata": {},
   "outputs": [],
   "source": [
    "# # GridSearchCV를 통해 교차검증(Cross-validation) 대상 모델에 전달할 하이퍼 파라미터 값을 정의.\n",
    "# # RandomForestRegressor의 하이퍼 파라미터 목록을 아래의 이름과 비교하여 확인해보기!\n",
    "# param_grid = [\n",
    "# #     {'n_neighbors': [3, 5, 7 , 9], 'weights': ['uniform', 'distance'], 'p': [1, 2]},             \n",
    "#     {'n_neighbors': [5, 7], 'weights': ['uniform', 'distance'], 'p': [1, 2]},            \n",
    "#   ]\n",
    "\n",
    "# knn = KNeighborsClassifier()\n",
    "\n",
    "# grid_search = GridSearchCV(knn, param_grid,\n",
    "#                            cv=2,\n",
    "#                            scoring='accuracy',\n",
    "#                            return_train_score=True, verbose=2)\n",
    "# grid_search.fit(X_train, y_train)"
   ]
  },
  {
   "cell_type": "markdown",
   "metadata": {},
   "source": [
    "# Q2\n",
    "Write a function that can shift an MNIST image in any direction (left, right, up, or down) by one pixel. \n",
    "Then, for each image in the training set, create four shifted copies (one per direction) \n",
    "and add them to the training set. \n",
    "Finally, train your best model on this expanded training set and measure its accuracy on the test set. \n",
    "You should observe that your model performs even better now! \n",
    "This technique of artificially growing the training set is called data augmentation or training set expansion."
   ]
  },
  {
   "cell_type": "code",
   "execution_count": 9,
   "metadata": {},
   "outputs": [
    {
     "data": {
      "text/plain": [
       "numpy.ndarray"
      ]
     },
     "execution_count": 9,
     "metadata": {},
     "output_type": "execute_result"
    }
   ],
   "source": [
    "type(X_train)"
   ]
  },
  {
   "cell_type": "code",
   "execution_count": 10,
   "metadata": {},
   "outputs": [
    {
     "data": {
      "text/plain": [
       "2"
      ]
     },
     "execution_count": 10,
     "metadata": {},
     "output_type": "execute_result"
    }
   ],
   "source": [
    "X_train.ndim"
   ]
  },
  {
   "cell_type": "code",
   "execution_count": 11,
   "metadata": {},
   "outputs": [
    {
     "data": {
      "text/plain": [
       "(56000, 784)"
      ]
     },
     "execution_count": 11,
     "metadata": {},
     "output_type": "execute_result"
    }
   ],
   "source": [
    "X_train.shape"
   ]
  },
  {
   "cell_type": "code",
   "execution_count": 12,
   "metadata": {},
   "outputs": [],
   "source": [
    "X_train_copy = X_train.copy()\n",
    "y_train_copy = y_train.copy()"
   ]
  },
  {
   "cell_type": "code",
   "execution_count": 13,
   "metadata": {},
   "outputs": [],
   "source": [
    "from tqdm import tqdm"
   ]
  },
  {
   "cell_type": "code",
   "execution_count": 14,
   "metadata": {},
   "outputs": [],
   "source": [
    "def leftshift(data):    \n",
    "    shiftX = np.empty((0,784), int)\n",
    "    for i in tqdm(range(len(data))):\n",
    "#     for i in range(2):\n",
    "        arr = data[i].reshape(28, 28)\n",
    "        arr = np.delete(arr, 0, axis = 1)\n",
    "        arr = np.append(arr,  np.zeros((1,28)).reshape(-1, 1), axis = 1)\n",
    "        arr = arr.reshape(1, -1)\n",
    "        shiftX = np.append(shiftX, np.array(arr), axis = 0)\n",
    "        \n",
    "    return shiftX"
   ]
  },
  {
   "cell_type": "code",
   "execution_count": 15,
   "metadata": {},
   "outputs": [
    {
     "name": "stderr",
     "output_type": "stream",
     "text": [
      "100%|██████████| 56000/56000 [50:55<00:00, 18.33it/s] \n"
     ]
    }
   ],
   "source": [
    "X_leftshift_data = leftshift(X_train)"
   ]
  },
  {
   "cell_type": "code",
   "execution_count": 16,
   "metadata": {},
   "outputs": [],
   "source": [
    "X_train_copy = np.append(X_train, X_leftshift_data, axis = 0)\n",
    "y_train_copy = np.append(y_train, y_train, axis = 0)"
   ]
  },
  {
   "cell_type": "code",
   "execution_count": 17,
   "metadata": {},
   "outputs": [
    {
     "data": {
      "text/plain": [
       "(56000, 784)"
      ]
     },
     "execution_count": 17,
     "metadata": {},
     "output_type": "execute_result"
    }
   ],
   "source": [
    "X_train.shape"
   ]
  },
  {
   "cell_type": "code",
   "execution_count": 18,
   "metadata": {},
   "outputs": [],
   "source": [
    "def rightshift(data):    \n",
    "    shiftX = np.empty((0,784), int)\n",
    "    for i in tqdm(range(len(data))):\n",
    "#     for i in range(2):\n",
    "        arr = data[i].reshape(28, 28)\n",
    "        arr = np.delete(arr, len(arr)-1, axis = 1)\n",
    "        arr = np.insert(arr, 0, 0, axis = 1)\n",
    "        arr = arr.reshape(1, -1)\n",
    "        shiftX = np.append(shiftX, np.array(arr), axis = 0)\n",
    "        \n",
    "    return shiftX"
   ]
  },
  {
   "cell_type": "code",
   "execution_count": 19,
   "metadata": {},
   "outputs": [
    {
     "name": "stderr",
     "output_type": "stream",
     "text": [
      "100%|██████████| 56000/56000 [3:23:31<00:00,  4.59it/s]      \n"
     ]
    }
   ],
   "source": [
    "X_rightshift_data = rightshift(X_train)"
   ]
  },
  {
   "cell_type": "code",
   "execution_count": 20,
   "metadata": {},
   "outputs": [],
   "source": [
    "X_train_copy = np.append(X_train, X_rightshift_data, axis = 0)\n",
    "y_train_copy = np.append(y_train, y_train, axis = 0)"
   ]
  },
  {
   "cell_type": "code",
   "execution_count": 21,
   "metadata": {},
   "outputs": [],
   "source": [
    "def upshift(data):    \n",
    "    shiftX = np.empty((0,784), int)\n",
    "    for i in tqdm(range(len(data))):\n",
    "#     for i in range(2):\n",
    "        arr = data[i].reshape(28, 28)\n",
    "        arr = np.delete(arr, 0, axis = 0)\n",
    "        arr = np.append(arr,  np.zeros((1,28)).reshape(1, -1), axis = 0)\n",
    "        arr = arr.reshape(1, -1)\n",
    "        shiftX = np.append(shiftX, np.array(arr), axis = 0)\n",
    "        \n",
    "    return shiftX"
   ]
  },
  {
   "cell_type": "code",
   "execution_count": 22,
   "metadata": {},
   "outputs": [
    {
     "name": "stderr",
     "output_type": "stream",
     "text": [
      "100%|██████████| 56000/56000 [3:26:19<00:00,  4.52it/s]     \n"
     ]
    }
   ],
   "source": [
    "X_upshift_data = upshift(X_train)"
   ]
  },
  {
   "cell_type": "code",
   "execution_count": 23,
   "metadata": {},
   "outputs": [],
   "source": [
    "X_train_copy = np.append(X_train, X_upshift_data, axis = 0)\n",
    "y_train_copy = np.append(y_train, y_train, axis = 0)"
   ]
  },
  {
   "cell_type": "code",
   "execution_count": 24,
   "metadata": {},
   "outputs": [],
   "source": [
    "def downshift(data):    \n",
    "    shiftX = np.empty((0,784), int)\n",
    "    for i in tqdm(range(len(data))):\n",
    "#     for i in range(2):\n",
    "        arr = data[i].reshape(28, 28)\n",
    "        arr = np.delete(arr, len(arr)-1, axis = 0)\n",
    "        arr = np.insert(arr, 0, 0, axis = 0)\n",
    "        arr = arr.reshape(1, -1)\n",
    "        shiftX = np.append(shiftX, np.array(arr), axis = 0)\n",
    "        \n",
    "    return shiftX"
   ]
  },
  {
   "cell_type": "code",
   "execution_count": 25,
   "metadata": {},
   "outputs": [
    {
     "name": "stderr",
     "output_type": "stream",
     "text": [
      "100%|██████████| 56000/56000 [1:16:54<00:00, 12.14it/s]    \n"
     ]
    }
   ],
   "source": [
    "X_downshift_data = downshift(X_train)"
   ]
  },
  {
   "cell_type": "code",
   "execution_count": 26,
   "metadata": {},
   "outputs": [],
   "source": [
    "X_train_copy = np.append(X_train, X_downshift_data, axis = 0)\n",
    "y_train_copy = np.append(y_train, y_train, axis = 0)"
   ]
  },
  {
   "cell_type": "code",
   "execution_count": 27,
   "metadata": {},
   "outputs": [
    {
     "data": {
      "text/plain": [
       "(56000, 784)"
      ]
     },
     "execution_count": 27,
     "metadata": {},
     "output_type": "execute_result"
    }
   ],
   "source": [
    "X_train.shape"
   ]
  },
  {
   "cell_type": "code",
   "execution_count": 28,
   "metadata": {},
   "outputs": [
    {
     "data": {
      "text/plain": [
       "array([[0., 0., 0., ..., 0., 0., 0.],\n",
       "       [0., 0., 0., ..., 0., 0., 0.],\n",
       "       [0., 0., 0., ..., 0., 0., 0.],\n",
       "       ...,\n",
       "       [0., 0., 0., ..., 0., 0., 0.],\n",
       "       [0., 0., 0., ..., 0., 0., 0.],\n",
       "       [0., 0., 0., ..., 0., 0., 0.]])"
      ]
     },
     "execution_count": 28,
     "metadata": {},
     "output_type": "execute_result"
    }
   ],
   "source": [
    "X_leftshift_data"
   ]
  },
  {
   "cell_type": "code",
   "execution_count": 29,
   "metadata": {},
   "outputs": [
    {
     "name": "stdout",
     "output_type": "stream",
     "text": [
      "Saving figure some_digit_plot\n"
     ]
    },
    {
     "data": {
      "image/png": "[encoded data removed]",
      "text/plain": [
       "<Figure size 432x288 with 1 Axes>"
      ]
     },
     "metadata": {
      "needs_background": "light"
     },
     "output_type": "display_data"
    }
   ],
   "source": [
    "%matplotlib inline\n",
    "import matplotlib as mpl\n",
    "import matplotlib.pyplot as plt\n",
    "\n",
    "some_digit = X_train[0]\n",
    "some_digit_image = some_digit.reshape(28, 28)\n",
    "plt.imshow(some_digit_image, cmap=mpl.cm.binary)\n",
    "plt.axis(\"off\")                                   # 'off': Turn off axis lines and labels. Same as False.\n",
    "\n",
    "save_fig(\"some_digit_plot\")\n",
    "plt.show()\n",
    "# 0: complete white, 255: complete black"
   ]
  },
  {
   "cell_type": "code",
   "execution_count": 31,
   "metadata": {},
   "outputs": [],
   "source": [
    "knn_best = KNeighborsClassifier(n_neighbors = 5, p =  2, weights= 'distance')"
   ]
  },
  {
   "cell_type": "code",
   "execution_count": 32,
   "metadata": {},
   "outputs": [
    {
     "data": {
      "text/plain": [
       "KNeighborsClassifier(weights='distance')"
      ]
     },
     "execution_count": 32,
     "metadata": {},
     "output_type": "execute_result"
    }
   ],
   "source": [
    "knn_best.fit(X_train_copy, y_train_copy)"
   ]
  },
  {
   "cell_type": "code",
   "execution_count": 33,
   "metadata": {},
   "outputs": [],
   "source": [
    "y_pred = knn_best.predict(X_test)"
   ]
  },
  {
   "cell_type": "code",
   "execution_count": 34,
   "metadata": {},
   "outputs": [],
   "source": [
    "from sklearn.metrics import accuracy_score"
   ]
  },
  {
   "cell_type": "code",
   "execution_count": 35,
   "metadata": {},
   "outputs": [
    {
     "data": {
      "text/plain": [
       "0.9728571428571429"
      ]
     },
     "execution_count": 35,
     "metadata": {},
     "output_type": "execute_result"
    }
   ],
   "source": [
    "accuracy_score(y_test, y_pred)"
   ]
  },
  {
   "cell_type": "code",
   "execution_count": null,
   "metadata": {},
   "outputs": [],
   "source": []
  }
 ],
 "metadata": {
  "kernelspec": {
   "display_name": "Python 3",
   "language": "python",
   "name": "python3"
  }
 },
 "nbformat": 4,
 "nbformat_minor": 4
}
