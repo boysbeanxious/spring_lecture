{
 "cells": [
  {
   "cell_type": "markdown",
   "metadata": {
    "id": "FuoCYvFP3rz2"
   },
   "source": [
    "# 인공 신경망"
   ]
  },
  {
   "cell_type": "markdown",
   "metadata": {
    "id": "Abp3s6mi3rz9"
   },
   "source": [
    "<table align=\"left\">\n",
    "  <td>\n",
    "    <a target=\"_blank\" href=\"https://colab.research.google.com/github/rickiepark/hg-mldl/blob/master/7-1.ipynb\"><img src=\"https://www.tensorflow.org/images/colab_logo_32px.png\" />구글 코랩에서 실행하기</a>\n",
    "  </td>\n",
    "</table>"
   ]
  },
  {
   "cell_type": "markdown",
   "metadata": {
    "id": "u5msa4prlifV"
   },
   "source": [
    "## 패션 MNIST"
   ]
  },
  {
   "cell_type": "code",
   "execution_count": 1,
   "metadata": {
    "ExecuteTime": {
     "end_time": "2022-05-16T16:04:46.035177Z",
     "start_time": "2022-05-16T16:04:43.366178Z"
    },
    "colab": {
     "base_uri": "https://localhost:8080/"
    },
    "id": "fMTyGYIMqUE9",
    "outputId": "c13d68c4-da50-4311-df22-8dc83a6512c2"
   },
   "outputs": [],
   "source": [
    "####################################################################################################\n",
    "# 패션 MNIST 데이터셋을 읽어 훈련셋과 테스트셋에 저장합니다.\n",
    "# --------------------------------------------------------------------------------------------------\n",
    "# load_data() 메서드는 두 종류의 데이터셋을 한번에 반환하므로 분할 절차를 생략할 수 있어 편리합니다.\n",
    "####################################################################################################\n",
    "from tensorflow import keras\n",
    "\n",
    "(train_input, train_target), (test_input, test_target) = keras.datasets.fashion_mnist.load_data()"
   ]
  },
  {
   "cell_type": "code",
   "execution_count": 2,
   "metadata": {
    "ExecuteTime": {
     "end_time": "2022-05-16T16:04:46.050191Z",
     "start_time": "2022-05-16T16:04:46.037178Z"
    },
    "colab": {
     "base_uri": "https://localhost:8080/"
    },
    "id": "2-r-EgKgqYkK",
    "outputId": "184cbfa6-a701-4696-f932-56b420445ee4"
   },
   "outputs": [
    {
     "name": "stdout",
     "output_type": "stream",
     "text": [
      "(60000, 28, 28) (60000,)\n"
     ]
    }
   ],
   "source": [
    "####################################################################################################\n",
    "# 훈련셋의 형태를 확인합니다.\n",
    "# --------------------------------------------------------------------------------------------------\n",
    "# 가로, 세로 각각 28개씩의 픽셀로 구성되어 있고, 6만개의 데이터를 갖고 있습니다.\n",
    "####################################################################################################\n",
    "print(train_input.shape, train_target.shape)"
   ]
  },
  {
   "cell_type": "code",
   "execution_count": 3,
   "metadata": {
    "ExecuteTime": {
     "end_time": "2022-05-16T16:04:46.065191Z",
     "start_time": "2022-05-16T16:04:46.051190Z"
    },
    "colab": {
     "base_uri": "https://localhost:8080/"
    },
    "id": "LAJGYTkFrS6p",
    "outputId": "d4065852-9dcb-4cd7-bc7e-bde6f4960927"
   },
   "outputs": [
    {
     "name": "stdout",
     "output_type": "stream",
     "text": [
      "(10000, 28, 28) (10000,)\n"
     ]
    }
   ],
   "source": [
    "####################################################################################################\n",
    "# 테스트셋의 형태를 확인합니다.\n",
    "# --------------------------------------------------------------------------------------------------\n",
    "# 가로, 세로 각각 28개씩의 픽셀로 구성되어 있고, 1만개의 데이터를 갖고 있습니다.\n",
    "####################################################################################################\n",
    "print(test_input.shape, test_target.shape)"
   ]
  },
  {
   "cell_type": "code",
   "execution_count": 4,
   "metadata": {
    "ExecuteTime": {
     "end_time": "2022-05-16T16:04:46.845369Z",
     "start_time": "2022-05-16T16:04:46.067191Z"
    },
    "colab": {
     "base_uri": "https://localhost:8080/",
     "height": 78
    },
    "id": "lAYiLboglZIz",
    "outputId": "da996da2-584f-4a29-bd2c-1f9189686ddb"
   },
   "outputs": [
    {
     "data": {
      "image/png": "[encoded data removed]",
      "text/plain": [
       "<Figure size 720x720 with 10 Axes>"
      ]
     },
     "metadata": {
      "needs_background": "light"
     },
     "output_type": "display_data"
    }
   ],
   "source": [
    "####################################################################################################\n",
    "# 훈련셋의 각 샘플에 담긴 이미지(입력 데이터)를 확인합니다.\n",
    "####################################################################################################\n",
    "import matplotlib.pyplot as plt\n",
    "\n",
    "fig, axes = plt.subplots(1, 10, figsize=(10, 10))\n",
    "for i in range(10):\n",
    "    axes[i].imshow(train_input[i], cmap='gray_r')\n",
    "    axes[i].axis('off')\n",
    "plt.show()"
   ]
  },
  {
   "cell_type": "code",
   "execution_count": 5,
   "metadata": {
    "ExecuteTime": {
     "end_time": "2022-05-16T16:04:46.860370Z",
     "start_time": "2022-05-16T16:04:46.846369Z"
    }
   },
   "outputs": [
    {
     "data": {
      "text/plain": [
       "array([[  0,   0,   0,   0,   0,   0,   0,   0,   0,   0,   0,   0,   0,\n",
       "          0,   0,   0,   0,   0,   0,   0,   0,   0,   0,   0,   0,   0,\n",
       "          0,   0],\n",
       "       [  0,   0,   0,   0,   0,   0,   0,   0,   0,   0,   0,   0,   0,\n",
       "          0,   0,   0,   0,   0,   0,   0,   0,   0,   0,   0,   0,   0,\n",
       "          0,   0],\n",
       "       [  0,   0,   0,   0,   0,   0,   0,   0,   0,   0,   0,   0,   0,\n",
       "          0,   0,   0,   0,   0,   0,   0,   0,   0,   0,   0,   0,   0,\n",
       "          0,   0],\n",
       "       [  0,   0,   0,   0,   0,   0,   0,   0,   0,   0,   0,   0,   1,\n",
       "          0,   0,  13,  73,   0,   0,   1,   4,   0,   0,   0,   0,   1,\n",
       "          1,   0],\n",
       "       [  0,   0,   0,   0,   0,   0,   0,   0,   0,   0,   0,   0,   3,\n",
       "          0,  36, 136, 127,  62,  54,   0,   0,   0,   1,   3,   4,   0,\n",
       "          0,   3],\n",
       "       [  0,   0,   0,   0,   0,   0,   0,   0,   0,   0,   0,   0,   6,\n",
       "          0, 102, 204, 176, 134, 144, 123,  23,   0,   0,   0,   0,  12,\n",
       "         10,   0],\n",
       "       [  0,   0,   0,   0,   0,   0,   0,   0,   0,   0,   0,   0,   0,\n",
       "          0, 155, 236, 207, 178, 107, 156, 161, 109,  64,  23,  77, 130,\n",
       "         72,  15],\n",
       "       [  0,   0,   0,   0,   0,   0,   0,   0,   0,   0,   0,   1,   0,\n",
       "         69, 207, 223, 218, 216, 216, 163, 127, 121, 122, 146, 141,  88,\n",
       "        172,  66],\n",
       "       [  0,   0,   0,   0,   0,   0,   0,   0,   0,   1,   1,   1,   0,\n",
       "        200, 232, 232, 233, 229, 223, 223, 215, 213, 164, 127, 123, 196,\n",
       "        229,   0],\n",
       "       [  0,   0,   0,   0,   0,   0,   0,   0,   0,   0,   0,   0,   0,\n",
       "        183, 225, 216, 223, 228, 235, 227, 224, 222, 224, 221, 223, 245,\n",
       "        173,   0],\n",
       "       [  0,   0,   0,   0,   0,   0,   0,   0,   0,   0,   0,   0,   0,\n",
       "        193, 228, 218, 213, 198, 180, 212, 210, 211, 213, 223, 220, 243,\n",
       "        202,   0],\n",
       "       [  0,   0,   0,   0,   0,   0,   0,   0,   0,   1,   3,   0,  12,\n",
       "        219, 220, 212, 218, 192, 169, 227, 208, 218, 224, 212, 226, 197,\n",
       "        209,  52],\n",
       "       [  0,   0,   0,   0,   0,   0,   0,   0,   0,   0,   6,   0,  99,\n",
       "        244, 222, 220, 218, 203, 198, 221, 215, 213, 222, 220, 245, 119,\n",
       "        167,  56],\n",
       "       [  0,   0,   0,   0,   0,   0,   0,   0,   0,   4,   0,   0,  55,\n",
       "        236, 228, 230, 228, 240, 232, 213, 218, 223, 234, 217, 217, 209,\n",
       "         92,   0],\n",
       "       [  0,   0,   1,   4,   6,   7,   2,   0,   0,   0,   0,   0, 237,\n",
       "        226, 217, 223, 222, 219, 222, 221, 216, 223, 229, 215, 218, 255,\n",
       "         77,   0],\n",
       "       [  0,   3,   0,   0,   0,   0,   0,   0,   0,  62, 145, 204, 228,\n",
       "        207, 213, 221, 218, 208, 211, 218, 224, 223, 219, 215, 224, 244,\n",
       "        159,   0],\n",
       "       [  0,   0,   0,   0,  18,  44,  82, 107, 189, 228, 220, 222, 217,\n",
       "        226, 200, 205, 211, 230, 224, 234, 176, 188, 250, 248, 233, 238,\n",
       "        215,   0],\n",
       "       [  0,  57, 187, 208, 224, 221, 224, 208, 204, 214, 208, 209, 200,\n",
       "        159, 245, 193, 206, 223, 255, 255, 221, 234, 221, 211, 220, 232,\n",
       "        246,   0],\n",
       "       [  3, 202, 228, 224, 221, 211, 211, 214, 205, 205, 205, 220, 240,\n",
       "         80, 150, 255, 229, 221, 188, 154, 191, 210, 204, 209, 222, 228,\n",
       "        225,   0],\n",
       "       [ 98, 233, 198, 210, 222, 229, 229, 234, 249, 220, 194, 215, 217,\n",
       "        241,  65,  73, 106, 117, 168, 219, 221, 215, 217, 223, 223, 224,\n",
       "        229,  29],\n",
       "       [ 75, 204, 212, 204, 193, 205, 211, 225, 216, 185, 197, 206, 198,\n",
       "        213, 240, 195, 227, 245, 239, 223, 218, 212, 209, 222, 220, 221,\n",
       "        230,  67],\n",
       "       [ 48, 203, 183, 194, 213, 197, 185, 190, 194, 192, 202, 214, 219,\n",
       "        221, 220, 236, 225, 216, 199, 206, 186, 181, 177, 172, 181, 205,\n",
       "        206, 115],\n",
       "       [  0, 122, 219, 193, 179, 171, 183, 196, 204, 210, 213, 207, 211,\n",
       "        210, 200, 196, 194, 191, 195, 191, 198, 192, 176, 156, 167, 177,\n",
       "        210,  92],\n",
       "       [  0,   0,  74, 189, 212, 191, 175, 172, 175, 181, 185, 188, 189,\n",
       "        188, 193, 198, 204, 209, 210, 210, 211, 188, 188, 194, 192, 216,\n",
       "        170,   0],\n",
       "       [  2,   0,   0,   0,  66, 200, 222, 237, 239, 242, 246, 243, 244,\n",
       "        221, 220, 193, 191, 179, 182, 182, 181, 176, 166, 168,  99,  58,\n",
       "          0,   0],\n",
       "       [  0,   0,   0,   0,   0,   0,   0,  40,  61,  44,  72,  41,  35,\n",
       "          0,   0,   0,   0,   0,   0,   0,   0,   0,   0,   0,   0,   0,\n",
       "          0,   0],\n",
       "       [  0,   0,   0,   0,   0,   0,   0,   0,   0,   0,   0,   0,   0,\n",
       "          0,   0,   0,   0,   0,   0,   0,   0,   0,   0,   0,   0,   0,\n",
       "          0,   0],\n",
       "       [  0,   0,   0,   0,   0,   0,   0,   0,   0,   0,   0,   0,   0,\n",
       "          0,   0,   0,   0,   0,   0,   0,   0,   0,   0,   0,   0,   0,\n",
       "          0,   0]], dtype=uint8)"
      ]
     },
     "execution_count": 5,
     "metadata": {},
     "output_type": "execute_result"
    }
   ],
   "source": [
    "####################################################################################################\n",
    "# 샘플 하나에 실제로 담긴 값은 아래와 같습니다.\n",
    "####################################################################################################\n",
    "train_input[0]"
   ]
  },
  {
   "cell_type": "code",
   "execution_count": 6,
   "metadata": {
    "ExecuteTime": {
     "end_time": "2022-05-16T16:04:46.875368Z",
     "start_time": "2022-05-16T16:04:46.862371Z"
    },
    "colab": {
     "base_uri": "https://localhost:8080/"
    },
    "id": "SZjVIoyqmVy-",
    "outputId": "f1ae2e96-83b4-420b-bacc-9acfcfa68555"
   },
   "outputs": [
    {
     "name": "stdout",
     "output_type": "stream",
     "text": [
      "[9, 0, 0, 3, 0, 2, 7, 2, 5, 5]\n"
     ]
    }
   ],
   "source": [
    "####################################################################################################\n",
    "# 훈련셋의 각 샘플에 담긴 이미지의 레이블을 확인합니다.\n",
    "# --------------------------------------------------------------------------------------------------\n",
    "# 훈련셋의 타깃에는 0~9까지의 레이블이 저장되어 있고, 각각에 대한 설명은 아래의 그림과 같습니다.\n",
    "####################################################################################################\n",
    "print([train_target[i] for i in range(10)])"
   ]
  },
  {
   "attachments": {
    "image.png": {
     "image/png": "[encoded data removed]"
    }
   },
   "cell_type": "markdown",
   "metadata": {},
   "source": [
    "![image.png](attachment:image.png)"
   ]
  },
  {
   "cell_type": "code",
   "execution_count": 7,
   "metadata": {
    "ExecuteTime": {
     "end_time": "2022-05-16T16:04:46.890370Z",
     "start_time": "2022-05-16T16:04:46.876372Z"
    },
    "colab": {
     "base_uri": "https://localhost:8080/"
    },
    "id": "Rx32OX7NqNnD",
    "outputId": "3801aaaf-eb46-4462-b162-8a59b88dbb43"
   },
   "outputs": [
    {
     "name": "stdout",
     "output_type": "stream",
     "text": [
      "(array([0, 1, 2, 3, 4, 5, 6, 7, 8, 9], dtype=uint8), array([6000, 6000, 6000, 6000, 6000, 6000, 6000, 6000, 6000, 6000],\n",
      "      dtype=int64))\n"
     ]
    }
   ],
   "source": [
    "####################################################################################################\n",
    "# 각 레이블 별 샘플의 수를 집계해봅니다.\n",
    "# --------------------------------------------------------------------------------------------------\n",
    "# 0~9 레이블에 대해 각각 6000개씩 샘플이 있는 것을 확인할 수 있습니다.\n",
    "# numpy.unique() 메서드에 return_counts=True을 설정하면 각 값 별로 몇 개씩이 있는지를 확인할 수 있습니다.\n",
    "####################################################################################################\n",
    "import numpy as np\n",
    "\n",
    "print(np.unique(train_target, return_counts=True))"
   ]
  },
  {
   "cell_type": "markdown",
   "metadata": {},
   "source": [
    "##### numpy.unique\n",
    "numpy.unique(ar, return_index=False, return_inverse=False, return_counts=False, axis=None)<br>\n",
    "Find the unique elements of an array.<br>\n",
    "https://numpy.org/doc/stable/reference/generated/numpy.unique.html?highlight=unique#numpy.unique<br>"
   ]
  },
  {
   "cell_type": "markdown",
   "metadata": {
    "id": "lrhnk0zXYj5e"
   },
   "source": [
    "## 로지스틱 회귀로 패션 아이템 분류하기"
   ]
  },
  {
   "cell_type": "code",
   "execution_count": 8,
   "metadata": {
    "ExecuteTime": {
     "end_time": "2022-05-16T16:04:46.980369Z",
     "start_time": "2022-05-16T16:04:46.891374Z"
    },
    "id": "2HSAg_UFNH52"
   },
   "outputs": [],
   "source": [
    "####################################################################################################\n",
    "# 데이터의 스케일을 조정하고 1차원 배열로 변환합니다.\n",
    "# --------------------------------------------------------------------------------------------------\n",
    "# 0~255의 값을 0~1로 조정합니다.\n",
    "# 이미지의 경우 255로 나눠주기만 하면 됩니다. MinMaxScaler()를 사용한 것과 동일한 결과입니다.\n",
    "# 2차원 배열의 형태를 가진 하나의 샘플을 1차원 배열로 변환해주면, 784개(28*28) 값이 1개 행으로 변환됩니다.\n",
    "####################################################################################################\n",
    "train_scaled = train_input / 255.0\n",
    "train_scaled = train_scaled.reshape(-1, 28*28)"
   ]
  },
  {
   "cell_type": "code",
   "execution_count": 9,
   "metadata": {
    "ExecuteTime": {
     "end_time": "2022-05-16T16:04:47.025368Z",
     "start_time": "2022-05-16T16:04:46.981372Z"
    }
   },
   "outputs": [
    {
     "data": {
      "text/html": [
       "<div>\n",
       "<style scoped>\n",
       "    .dataframe tbody tr th:only-of-type {\n",
       "        vertical-align: middle;\n",
       "    }\n",
       "\n",
       "    .dataframe tbody tr th {\n",
       "        vertical-align: top;\n",
       "    }\n",
       "\n",
       "    .dataframe thead th {\n",
       "        text-align: right;\n",
       "    }\n",
       "</style>\n",
       "<table border=\"1\" class=\"dataframe\">\n",
       "  <thead>\n",
       "    <tr style=\"text-align: right;\">\n",
       "      <th></th>\n",
       "      <th>0</th>\n",
       "      <th>1</th>\n",
       "      <th>2</th>\n",
       "      <th>3</th>\n",
       "      <th>4</th>\n",
       "      <th>5</th>\n",
       "      <th>6</th>\n",
       "      <th>7</th>\n",
       "      <th>8</th>\n",
       "      <th>9</th>\n",
       "      <th>...</th>\n",
       "      <th>774</th>\n",
       "      <th>775</th>\n",
       "      <th>776</th>\n",
       "      <th>777</th>\n",
       "      <th>778</th>\n",
       "      <th>779</th>\n",
       "      <th>780</th>\n",
       "      <th>781</th>\n",
       "      <th>782</th>\n",
       "      <th>783</th>\n",
       "    </tr>\n",
       "  </thead>\n",
       "  <tbody>\n",
       "    <tr>\n",
       "      <th>0</th>\n",
       "      <td>0</td>\n",
       "      <td>0</td>\n",
       "      <td>0</td>\n",
       "      <td>0</td>\n",
       "      <td>0</td>\n",
       "      <td>0</td>\n",
       "      <td>0</td>\n",
       "      <td>0</td>\n",
       "      <td>0</td>\n",
       "      <td>0</td>\n",
       "      <td>...</td>\n",
       "      <td>0</td>\n",
       "      <td>0</td>\n",
       "      <td>0</td>\n",
       "      <td>0</td>\n",
       "      <td>0</td>\n",
       "      <td>0</td>\n",
       "      <td>0</td>\n",
       "      <td>0</td>\n",
       "      <td>0</td>\n",
       "      <td>0</td>\n",
       "    </tr>\n",
       "    <tr>\n",
       "      <th>1</th>\n",
       "      <td>0</td>\n",
       "      <td>0</td>\n",
       "      <td>0</td>\n",
       "      <td>0</td>\n",
       "      <td>0</td>\n",
       "      <td>1</td>\n",
       "      <td>0</td>\n",
       "      <td>0</td>\n",
       "      <td>0</td>\n",
       "      <td>0</td>\n",
       "      <td>...</td>\n",
       "      <td>119</td>\n",
       "      <td>114</td>\n",
       "      <td>130</td>\n",
       "      <td>76</td>\n",
       "      <td>0</td>\n",
       "      <td>0</td>\n",
       "      <td>0</td>\n",
       "      <td>0</td>\n",
       "      <td>0</td>\n",
       "      <td>0</td>\n",
       "    </tr>\n",
       "    <tr>\n",
       "      <th>2</th>\n",
       "      <td>0</td>\n",
       "      <td>0</td>\n",
       "      <td>0</td>\n",
       "      <td>0</td>\n",
       "      <td>0</td>\n",
       "      <td>0</td>\n",
       "      <td>0</td>\n",
       "      <td>0</td>\n",
       "      <td>0</td>\n",
       "      <td>22</td>\n",
       "      <td>...</td>\n",
       "      <td>0</td>\n",
       "      <td>0</td>\n",
       "      <td>1</td>\n",
       "      <td>0</td>\n",
       "      <td>0</td>\n",
       "      <td>0</td>\n",
       "      <td>0</td>\n",
       "      <td>0</td>\n",
       "      <td>0</td>\n",
       "      <td>0</td>\n",
       "    </tr>\n",
       "    <tr>\n",
       "      <th>3</th>\n",
       "      <td>0</td>\n",
       "      <td>0</td>\n",
       "      <td>0</td>\n",
       "      <td>0</td>\n",
       "      <td>0</td>\n",
       "      <td>0</td>\n",
       "      <td>0</td>\n",
       "      <td>0</td>\n",
       "      <td>33</td>\n",
       "      <td>96</td>\n",
       "      <td>...</td>\n",
       "      <td>0</td>\n",
       "      <td>0</td>\n",
       "      <td>0</td>\n",
       "      <td>0</td>\n",
       "      <td>0</td>\n",
       "      <td>0</td>\n",
       "      <td>0</td>\n",
       "      <td>0</td>\n",
       "      <td>0</td>\n",
       "      <td>0</td>\n",
       "    </tr>\n",
       "    <tr>\n",
       "      <th>4</th>\n",
       "      <td>0</td>\n",
       "      <td>0</td>\n",
       "      <td>0</td>\n",
       "      <td>0</td>\n",
       "      <td>0</td>\n",
       "      <td>0</td>\n",
       "      <td>0</td>\n",
       "      <td>0</td>\n",
       "      <td>0</td>\n",
       "      <td>0</td>\n",
       "      <td>...</td>\n",
       "      <td>0</td>\n",
       "      <td>0</td>\n",
       "      <td>0</td>\n",
       "      <td>0</td>\n",
       "      <td>0</td>\n",
       "      <td>0</td>\n",
       "      <td>0</td>\n",
       "      <td>0</td>\n",
       "      <td>0</td>\n",
       "      <td>0</td>\n",
       "    </tr>\n",
       "    <tr>\n",
       "      <th>...</th>\n",
       "      <td>...</td>\n",
       "      <td>...</td>\n",
       "      <td>...</td>\n",
       "      <td>...</td>\n",
       "      <td>...</td>\n",
       "      <td>...</td>\n",
       "      <td>...</td>\n",
       "      <td>...</td>\n",
       "      <td>...</td>\n",
       "      <td>...</td>\n",
       "      <td>...</td>\n",
       "      <td>...</td>\n",
       "      <td>...</td>\n",
       "      <td>...</td>\n",
       "      <td>...</td>\n",
       "      <td>...</td>\n",
       "      <td>...</td>\n",
       "      <td>...</td>\n",
       "      <td>...</td>\n",
       "      <td>...</td>\n",
       "      <td>...</td>\n",
       "    </tr>\n",
       "    <tr>\n",
       "      <th>59995</th>\n",
       "      <td>0</td>\n",
       "      <td>0</td>\n",
       "      <td>0</td>\n",
       "      <td>0</td>\n",
       "      <td>0</td>\n",
       "      <td>0</td>\n",
       "      <td>0</td>\n",
       "      <td>0</td>\n",
       "      <td>0</td>\n",
       "      <td>0</td>\n",
       "      <td>...</td>\n",
       "      <td>0</td>\n",
       "      <td>0</td>\n",
       "      <td>0</td>\n",
       "      <td>0</td>\n",
       "      <td>0</td>\n",
       "      <td>0</td>\n",
       "      <td>0</td>\n",
       "      <td>0</td>\n",
       "      <td>0</td>\n",
       "      <td>0</td>\n",
       "    </tr>\n",
       "    <tr>\n",
       "      <th>59996</th>\n",
       "      <td>0</td>\n",
       "      <td>0</td>\n",
       "      <td>0</td>\n",
       "      <td>0</td>\n",
       "      <td>0</td>\n",
       "      <td>0</td>\n",
       "      <td>0</td>\n",
       "      <td>0</td>\n",
       "      <td>0</td>\n",
       "      <td>0</td>\n",
       "      <td>...</td>\n",
       "      <td>0</td>\n",
       "      <td>0</td>\n",
       "      <td>0</td>\n",
       "      <td>0</td>\n",
       "      <td>0</td>\n",
       "      <td>0</td>\n",
       "      <td>0</td>\n",
       "      <td>0</td>\n",
       "      <td>0</td>\n",
       "      <td>0</td>\n",
       "    </tr>\n",
       "    <tr>\n",
       "      <th>59997</th>\n",
       "      <td>0</td>\n",
       "      <td>0</td>\n",
       "      <td>0</td>\n",
       "      <td>0</td>\n",
       "      <td>0</td>\n",
       "      <td>0</td>\n",
       "      <td>0</td>\n",
       "      <td>0</td>\n",
       "      <td>0</td>\n",
       "      <td>5</td>\n",
       "      <td>...</td>\n",
       "      <td>0</td>\n",
       "      <td>0</td>\n",
       "      <td>0</td>\n",
       "      <td>0</td>\n",
       "      <td>0</td>\n",
       "      <td>0</td>\n",
       "      <td>0</td>\n",
       "      <td>0</td>\n",
       "      <td>0</td>\n",
       "      <td>0</td>\n",
       "    </tr>\n",
       "    <tr>\n",
       "      <th>59998</th>\n",
       "      <td>0</td>\n",
       "      <td>0</td>\n",
       "      <td>0</td>\n",
       "      <td>0</td>\n",
       "      <td>0</td>\n",
       "      <td>0</td>\n",
       "      <td>0</td>\n",
       "      <td>0</td>\n",
       "      <td>0</td>\n",
       "      <td>0</td>\n",
       "      <td>...</td>\n",
       "      <td>66</td>\n",
       "      <td>54</td>\n",
       "      <td>50</td>\n",
       "      <td>5</td>\n",
       "      <td>0</td>\n",
       "      <td>1</td>\n",
       "      <td>0</td>\n",
       "      <td>0</td>\n",
       "      <td>0</td>\n",
       "      <td>0</td>\n",
       "    </tr>\n",
       "    <tr>\n",
       "      <th>59999</th>\n",
       "      <td>0</td>\n",
       "      <td>0</td>\n",
       "      <td>0</td>\n",
       "      <td>0</td>\n",
       "      <td>0</td>\n",
       "      <td>0</td>\n",
       "      <td>0</td>\n",
       "      <td>0</td>\n",
       "      <td>0</td>\n",
       "      <td>0</td>\n",
       "      <td>...</td>\n",
       "      <td>0</td>\n",
       "      <td>0</td>\n",
       "      <td>0</td>\n",
       "      <td>0</td>\n",
       "      <td>0</td>\n",
       "      <td>0</td>\n",
       "      <td>0</td>\n",
       "      <td>0</td>\n",
       "      <td>0</td>\n",
       "      <td>0</td>\n",
       "    </tr>\n",
       "  </tbody>\n",
       "</table>\n",
       "<p>60000 rows × 784 columns</p>\n",
       "</div>"
      ],
      "text/plain": [
       "       0    1    2    3    4    5    6    7    8    9    ...  774  775  776  \\\n",
       "0        0    0    0    0    0    0    0    0    0    0  ...    0    0    0   \n",
       "1        0    0    0    0    0    1    0    0    0    0  ...  119  114  130   \n",
       "2        0    0    0    0    0    0    0    0    0   22  ...    0    0    1   \n",
       "3        0    0    0    0    0    0    0    0   33   96  ...    0    0    0   \n",
       "4        0    0    0    0    0    0    0    0    0    0  ...    0    0    0   \n",
       "...    ...  ...  ...  ...  ...  ...  ...  ...  ...  ...  ...  ...  ...  ...   \n",
       "59995    0    0    0    0    0    0    0    0    0    0  ...    0    0    0   \n",
       "59996    0    0    0    0    0    0    0    0    0    0  ...    0    0    0   \n",
       "59997    0    0    0    0    0    0    0    0    0    5  ...    0    0    0   \n",
       "59998    0    0    0    0    0    0    0    0    0    0  ...   66   54   50   \n",
       "59999    0    0    0    0    0    0    0    0    0    0  ...    0    0    0   \n",
       "\n",
       "       777  778  779  780  781  782  783  \n",
       "0        0    0    0    0    0    0    0  \n",
       "1       76    0    0    0    0    0    0  \n",
       "2        0    0    0    0    0    0    0  \n",
       "3        0    0    0    0    0    0    0  \n",
       "4        0    0    0    0    0    0    0  \n",
       "...    ...  ...  ...  ...  ...  ...  ...  \n",
       "59995    0    0    0    0    0    0    0  \n",
       "59996    0    0    0    0    0    0    0  \n",
       "59997    0    0    0    0    0    0    0  \n",
       "59998    5    0    1    0    0    0    0  \n",
       "59999    0    0    0    0    0    0    0  \n",
       "\n",
       "[60000 rows x 784 columns]"
      ]
     },
     "execution_count": 9,
     "metadata": {},
     "output_type": "execute_result"
    }
   ],
   "source": [
    "####################################################################################################\n",
    "# 위의 코드를 좀 더 이해하기 쉽도록, 먼저 각 샘플을 1차원으로 변환해보겠습니다.\n",
    "# --------------------------------------------------------------------------------------------------\n",
    "# 각 샘플에 대응하는 60000개의 행은 784개(가로 28픽셀*세로 28픽셀)의 값을 갖습니다. \n",
    "# 이는 각 샘플이 784개의 특성을 가진 데이터셋인 것으로 이해하시면 됩니다.\n",
    "####################################################################################################\n",
    "import pandas as pd\n",
    "train_reshaped = pd.DataFrame(train_input.reshape(-1, 28*28))\n",
    "train_reshaped"
   ]
  },
  {
   "cell_type": "code",
   "execution_count": 10,
   "metadata": {
    "ExecuteTime": {
     "end_time": "2022-05-16T16:04:47.160369Z",
     "start_time": "2022-05-16T16:04:47.027370Z"
    }
   },
   "outputs": [
    {
     "data": {
      "text/html": [
       "<div>\n",
       "<style scoped>\n",
       "    .dataframe tbody tr th:only-of-type {\n",
       "        vertical-align: middle;\n",
       "    }\n",
       "\n",
       "    .dataframe tbody tr th {\n",
       "        vertical-align: top;\n",
       "    }\n",
       "\n",
       "    .dataframe thead th {\n",
       "        text-align: right;\n",
       "    }\n",
       "</style>\n",
       "<table border=\"1\" class=\"dataframe\">\n",
       "  <thead>\n",
       "    <tr style=\"text-align: right;\">\n",
       "      <th></th>\n",
       "      <th>0</th>\n",
       "      <th>1</th>\n",
       "      <th>2</th>\n",
       "      <th>3</th>\n",
       "      <th>4</th>\n",
       "      <th>5</th>\n",
       "      <th>6</th>\n",
       "      <th>7</th>\n",
       "      <th>8</th>\n",
       "      <th>9</th>\n",
       "      <th>...</th>\n",
       "      <th>774</th>\n",
       "      <th>775</th>\n",
       "      <th>776</th>\n",
       "      <th>777</th>\n",
       "      <th>778</th>\n",
       "      <th>779</th>\n",
       "      <th>780</th>\n",
       "      <th>781</th>\n",
       "      <th>782</th>\n",
       "      <th>783</th>\n",
       "    </tr>\n",
       "  </thead>\n",
       "  <tbody>\n",
       "    <tr>\n",
       "      <th>0</th>\n",
       "      <td>0.0</td>\n",
       "      <td>0.0</td>\n",
       "      <td>0.0</td>\n",
       "      <td>0.0</td>\n",
       "      <td>0.0</td>\n",
       "      <td>0.000000</td>\n",
       "      <td>0.0</td>\n",
       "      <td>0.0</td>\n",
       "      <td>0.000000</td>\n",
       "      <td>0.000000</td>\n",
       "      <td>...</td>\n",
       "      <td>0.000000</td>\n",
       "      <td>0.000000</td>\n",
       "      <td>0.000000</td>\n",
       "      <td>0.000000</td>\n",
       "      <td>0.0</td>\n",
       "      <td>0.000000</td>\n",
       "      <td>0.0</td>\n",
       "      <td>0.0</td>\n",
       "      <td>0.0</td>\n",
       "      <td>0.0</td>\n",
       "    </tr>\n",
       "    <tr>\n",
       "      <th>1</th>\n",
       "      <td>0.0</td>\n",
       "      <td>0.0</td>\n",
       "      <td>0.0</td>\n",
       "      <td>0.0</td>\n",
       "      <td>0.0</td>\n",
       "      <td>0.003922</td>\n",
       "      <td>0.0</td>\n",
       "      <td>0.0</td>\n",
       "      <td>0.000000</td>\n",
       "      <td>0.000000</td>\n",
       "      <td>...</td>\n",
       "      <td>0.466667</td>\n",
       "      <td>0.447059</td>\n",
       "      <td>0.509804</td>\n",
       "      <td>0.298039</td>\n",
       "      <td>0.0</td>\n",
       "      <td>0.000000</td>\n",
       "      <td>0.0</td>\n",
       "      <td>0.0</td>\n",
       "      <td>0.0</td>\n",
       "      <td>0.0</td>\n",
       "    </tr>\n",
       "    <tr>\n",
       "      <th>2</th>\n",
       "      <td>0.0</td>\n",
       "      <td>0.0</td>\n",
       "      <td>0.0</td>\n",
       "      <td>0.0</td>\n",
       "      <td>0.0</td>\n",
       "      <td>0.000000</td>\n",
       "      <td>0.0</td>\n",
       "      <td>0.0</td>\n",
       "      <td>0.000000</td>\n",
       "      <td>0.086275</td>\n",
       "      <td>...</td>\n",
       "      <td>0.000000</td>\n",
       "      <td>0.000000</td>\n",
       "      <td>0.003922</td>\n",
       "      <td>0.000000</td>\n",
       "      <td>0.0</td>\n",
       "      <td>0.000000</td>\n",
       "      <td>0.0</td>\n",
       "      <td>0.0</td>\n",
       "      <td>0.0</td>\n",
       "      <td>0.0</td>\n",
       "    </tr>\n",
       "    <tr>\n",
       "      <th>3</th>\n",
       "      <td>0.0</td>\n",
       "      <td>0.0</td>\n",
       "      <td>0.0</td>\n",
       "      <td>0.0</td>\n",
       "      <td>0.0</td>\n",
       "      <td>0.000000</td>\n",
       "      <td>0.0</td>\n",
       "      <td>0.0</td>\n",
       "      <td>0.129412</td>\n",
       "      <td>0.376471</td>\n",
       "      <td>...</td>\n",
       "      <td>0.000000</td>\n",
       "      <td>0.000000</td>\n",
       "      <td>0.000000</td>\n",
       "      <td>0.000000</td>\n",
       "      <td>0.0</td>\n",
       "      <td>0.000000</td>\n",
       "      <td>0.0</td>\n",
       "      <td>0.0</td>\n",
       "      <td>0.0</td>\n",
       "      <td>0.0</td>\n",
       "    </tr>\n",
       "    <tr>\n",
       "      <th>4</th>\n",
       "      <td>0.0</td>\n",
       "      <td>0.0</td>\n",
       "      <td>0.0</td>\n",
       "      <td>0.0</td>\n",
       "      <td>0.0</td>\n",
       "      <td>0.000000</td>\n",
       "      <td>0.0</td>\n",
       "      <td>0.0</td>\n",
       "      <td>0.000000</td>\n",
       "      <td>0.000000</td>\n",
       "      <td>...</td>\n",
       "      <td>0.000000</td>\n",
       "      <td>0.000000</td>\n",
       "      <td>0.000000</td>\n",
       "      <td>0.000000</td>\n",
       "      <td>0.0</td>\n",
       "      <td>0.000000</td>\n",
       "      <td>0.0</td>\n",
       "      <td>0.0</td>\n",
       "      <td>0.0</td>\n",
       "      <td>0.0</td>\n",
       "    </tr>\n",
       "    <tr>\n",
       "      <th>...</th>\n",
       "      <td>...</td>\n",
       "      <td>...</td>\n",
       "      <td>...</td>\n",
       "      <td>...</td>\n",
       "      <td>...</td>\n",
       "      <td>...</td>\n",
       "      <td>...</td>\n",
       "      <td>...</td>\n",
       "      <td>...</td>\n",
       "      <td>...</td>\n",
       "      <td>...</td>\n",
       "      <td>...</td>\n",
       "      <td>...</td>\n",
       "      <td>...</td>\n",
       "      <td>...</td>\n",
       "      <td>...</td>\n",
       "      <td>...</td>\n",
       "      <td>...</td>\n",
       "      <td>...</td>\n",
       "      <td>...</td>\n",
       "      <td>...</td>\n",
       "    </tr>\n",
       "    <tr>\n",
       "      <th>59995</th>\n",
       "      <td>0.0</td>\n",
       "      <td>0.0</td>\n",
       "      <td>0.0</td>\n",
       "      <td>0.0</td>\n",
       "      <td>0.0</td>\n",
       "      <td>0.000000</td>\n",
       "      <td>0.0</td>\n",
       "      <td>0.0</td>\n",
       "      <td>0.000000</td>\n",
       "      <td>0.000000</td>\n",
       "      <td>...</td>\n",
       "      <td>0.000000</td>\n",
       "      <td>0.000000</td>\n",
       "      <td>0.000000</td>\n",
       "      <td>0.000000</td>\n",
       "      <td>0.0</td>\n",
       "      <td>0.000000</td>\n",
       "      <td>0.0</td>\n",
       "      <td>0.0</td>\n",
       "      <td>0.0</td>\n",
       "      <td>0.0</td>\n",
       "    </tr>\n",
       "    <tr>\n",
       "      <th>59996</th>\n",
       "      <td>0.0</td>\n",
       "      <td>0.0</td>\n",
       "      <td>0.0</td>\n",
       "      <td>0.0</td>\n",
       "      <td>0.0</td>\n",
       "      <td>0.000000</td>\n",
       "      <td>0.0</td>\n",
       "      <td>0.0</td>\n",
       "      <td>0.000000</td>\n",
       "      <td>0.000000</td>\n",
       "      <td>...</td>\n",
       "      <td>0.000000</td>\n",
       "      <td>0.000000</td>\n",
       "      <td>0.000000</td>\n",
       "      <td>0.000000</td>\n",
       "      <td>0.0</td>\n",
       "      <td>0.000000</td>\n",
       "      <td>0.0</td>\n",
       "      <td>0.0</td>\n",
       "      <td>0.0</td>\n",
       "      <td>0.0</td>\n",
       "    </tr>\n",
       "    <tr>\n",
       "      <th>59997</th>\n",
       "      <td>0.0</td>\n",
       "      <td>0.0</td>\n",
       "      <td>0.0</td>\n",
       "      <td>0.0</td>\n",
       "      <td>0.0</td>\n",
       "      <td>0.000000</td>\n",
       "      <td>0.0</td>\n",
       "      <td>0.0</td>\n",
       "      <td>0.000000</td>\n",
       "      <td>0.019608</td>\n",
       "      <td>...</td>\n",
       "      <td>0.000000</td>\n",
       "      <td>0.000000</td>\n",
       "      <td>0.000000</td>\n",
       "      <td>0.000000</td>\n",
       "      <td>0.0</td>\n",
       "      <td>0.000000</td>\n",
       "      <td>0.0</td>\n",
       "      <td>0.0</td>\n",
       "      <td>0.0</td>\n",
       "      <td>0.0</td>\n",
       "    </tr>\n",
       "    <tr>\n",
       "      <th>59998</th>\n",
       "      <td>0.0</td>\n",
       "      <td>0.0</td>\n",
       "      <td>0.0</td>\n",
       "      <td>0.0</td>\n",
       "      <td>0.0</td>\n",
       "      <td>0.000000</td>\n",
       "      <td>0.0</td>\n",
       "      <td>0.0</td>\n",
       "      <td>0.000000</td>\n",
       "      <td>0.000000</td>\n",
       "      <td>...</td>\n",
       "      <td>0.258824</td>\n",
       "      <td>0.211765</td>\n",
       "      <td>0.196078</td>\n",
       "      <td>0.019608</td>\n",
       "      <td>0.0</td>\n",
       "      <td>0.003922</td>\n",
       "      <td>0.0</td>\n",
       "      <td>0.0</td>\n",
       "      <td>0.0</td>\n",
       "      <td>0.0</td>\n",
       "    </tr>\n",
       "    <tr>\n",
       "      <th>59999</th>\n",
       "      <td>0.0</td>\n",
       "      <td>0.0</td>\n",
       "      <td>0.0</td>\n",
       "      <td>0.0</td>\n",
       "      <td>0.0</td>\n",
       "      <td>0.000000</td>\n",
       "      <td>0.0</td>\n",
       "      <td>0.0</td>\n",
       "      <td>0.000000</td>\n",
       "      <td>0.000000</td>\n",
       "      <td>...</td>\n",
       "      <td>0.000000</td>\n",
       "      <td>0.000000</td>\n",
       "      <td>0.000000</td>\n",
       "      <td>0.000000</td>\n",
       "      <td>0.0</td>\n",
       "      <td>0.000000</td>\n",
       "      <td>0.0</td>\n",
       "      <td>0.0</td>\n",
       "      <td>0.0</td>\n",
       "      <td>0.0</td>\n",
       "    </tr>\n",
       "  </tbody>\n",
       "</table>\n",
       "<p>60000 rows × 784 columns</p>\n",
       "</div>"
      ],
      "text/plain": [
       "       0    1    2    3    4         5    6    7         8         9    ...  \\\n",
       "0      0.0  0.0  0.0  0.0  0.0  0.000000  0.0  0.0  0.000000  0.000000  ...   \n",
       "1      0.0  0.0  0.0  0.0  0.0  0.003922  0.0  0.0  0.000000  0.000000  ...   \n",
       "2      0.0  0.0  0.0  0.0  0.0  0.000000  0.0  0.0  0.000000  0.086275  ...   \n",
       "3      0.0  0.0  0.0  0.0  0.0  0.000000  0.0  0.0  0.129412  0.376471  ...   \n",
       "4      0.0  0.0  0.0  0.0  0.0  0.000000  0.0  0.0  0.000000  0.000000  ...   \n",
       "...    ...  ...  ...  ...  ...       ...  ...  ...       ...       ...  ...   \n",
       "59995  0.0  0.0  0.0  0.0  0.0  0.000000  0.0  0.0  0.000000  0.000000  ...   \n",
       "59996  0.0  0.0  0.0  0.0  0.0  0.000000  0.0  0.0  0.000000  0.000000  ...   \n",
       "59997  0.0  0.0  0.0  0.0  0.0  0.000000  0.0  0.0  0.000000  0.019608  ...   \n",
       "59998  0.0  0.0  0.0  0.0  0.0  0.000000  0.0  0.0  0.000000  0.000000  ...   \n",
       "59999  0.0  0.0  0.0  0.0  0.0  0.000000  0.0  0.0  0.000000  0.000000  ...   \n",
       "\n",
       "            774       775       776       777  778       779  780  781  782  \\\n",
       "0      0.000000  0.000000  0.000000  0.000000  0.0  0.000000  0.0  0.0  0.0   \n",
       "1      0.466667  0.447059  0.509804  0.298039  0.0  0.000000  0.0  0.0  0.0   \n",
       "2      0.000000  0.000000  0.003922  0.000000  0.0  0.000000  0.0  0.0  0.0   \n",
       "3      0.000000  0.000000  0.000000  0.000000  0.0  0.000000  0.0  0.0  0.0   \n",
       "4      0.000000  0.000000  0.000000  0.000000  0.0  0.000000  0.0  0.0  0.0   \n",
       "...         ...       ...       ...       ...  ...       ...  ...  ...  ...   \n",
       "59995  0.000000  0.000000  0.000000  0.000000  0.0  0.000000  0.0  0.0  0.0   \n",
       "59996  0.000000  0.000000  0.000000  0.000000  0.0  0.000000  0.0  0.0  0.0   \n",
       "59997  0.000000  0.000000  0.000000  0.000000  0.0  0.000000  0.0  0.0  0.0   \n",
       "59998  0.258824  0.211765  0.196078  0.019608  0.0  0.003922  0.0  0.0  0.0   \n",
       "59999  0.000000  0.000000  0.000000  0.000000  0.0  0.000000  0.0  0.0  0.0   \n",
       "\n",
       "       783  \n",
       "0      0.0  \n",
       "1      0.0  \n",
       "2      0.0  \n",
       "3      0.0  \n",
       "4      0.0  \n",
       "...    ...  \n",
       "59995  0.0  \n",
       "59996  0.0  \n",
       "59997  0.0  \n",
       "59998  0.0  \n",
       "59999  0.0  \n",
       "\n",
       "[60000 rows x 784 columns]"
      ]
     },
     "execution_count": 10,
     "metadata": {},
     "output_type": "execute_result"
    }
   ],
   "source": [
    "####################################################################################################\n",
    "# 다음으로는, 데이터의 스케일을 조정해보겠습니다.\n",
    "# --------------------------------------------------------------------------------------------------\n",
    "# 0~255의 값을 0~1로 조정합니다.\n",
    "# 이미지의 경우 255로 나눠주기만 하면 됩니다. MinMaxScaler()를 사용한 것과 동일한 결과입니다.\n",
    "# 2차원 배열의 형태를 가진 하나의 샘플을 1차원 배열로 변환해주면, 784개(28*28) 값이 1개 행으로 변환됩니다.\n",
    "####################################################################################################\n",
    "import pandas as pd\n",
    "pd.DataFrame(train_reshaped/255.0)"
   ]
  },
  {
   "cell_type": "code",
   "execution_count": 11,
   "metadata": {
    "ExecuteTime": {
     "end_time": "2022-05-16T16:04:47.175368Z",
     "start_time": "2022-05-16T16:04:47.161370Z"
    },
    "colab": {
     "base_uri": "https://localhost:8080/"
    },
    "id": "kwOFVfpxxuLU",
    "outputId": "91887a4a-b5f4-4c47-8a51-83f451b44a7c"
   },
   "outputs": [
    {
     "name": "stdout",
     "output_type": "stream",
     "text": [
      "(60000, 28, 28)\n",
      "(60000, 784)\n"
     ]
    }
   ],
   "source": [
    "####################################################################################################\n",
    "# 변환 후 훈련셋의 형태를 살펴봅니다.\n",
    "# --------------------------------------------------------------------------------------------------\n",
    "# 변환 전 --> 변환 후, 두 데이터셋의 차이를 확인해보세요.\n",
    "####################################################################################################\n",
    "print(train_input.shape)\n",
    "print(train_scaled.shape)"
   ]
  },
  {
   "cell_type": "code",
   "execution_count": 12,
   "metadata": {
    "ExecuteTime": {
     "end_time": "2022-05-16T16:04:54.839370Z",
     "start_time": "2022-05-16T16:04:47.176370Z"
    },
    "colab": {
     "base_uri": "https://localhost:8080/"
    },
    "id": "Ui3iJlfLNLzr",
    "outputId": "f8bf95ec-ec60-4ca9-94a0-6185ec0fd293"
   },
   "outputs": [
    {
     "name": "stdout",
     "output_type": "stream",
     "text": [
      "0.8192833333333333\n"
     ]
    }
   ],
   "source": [
    "####################################################################################################\n",
    "# 로지스틱 회귀분석을 수행하되, 경사하강법을 적용합니다.\n",
    "# --------------------------------------------------------------------------------------------------\n",
    "# loss='log': 손실함수를 이렇게 지정하면 logistic regression 모델이 적용됩니다.\n",
    "# cross_validate() 함수를 통해 5-fold (default) 교차검증을 수행합니다. \n",
    "# 여기서 출력되는 'test_score'는 앞서 분리한 test set으로부터 구한 것이 아니고, train set에서 일부(1/5)를 \n",
    "# 검증용으로 사용했을 때 계산된 값이며, 5-fold에서 얻은 5개 값의 평균값을 출력하고 있습니다.\n",
    "####################################################################################################\n",
    "from sklearn.model_selection import cross_validate\n",
    "from sklearn.linear_model import SGDClassifier\n",
    "\n",
    "sc = SGDClassifier(loss='log', max_iter=5, random_state=42)\n",
    "scores = cross_validate(sc, train_scaled, train_target, n_jobs=-1)\n",
    "print(np.mean(scores['test_score']))"
   ]
  },
  {
   "cell_type": "markdown",
   "metadata": {},
   "source": [
    "##### sklearn.model_selection.cross_validate\n",
    "sklearn.model_selection.cross_validate(estimator, X, y=None, *, groups=None, scoring=None, cv=None, n_jobs=None, verbose=0, fit_params=None, pre_dispatch='2*n_jobs', return_train_score=False, return_estimator=False, error_score=nan)<br>\n",
    "Evaluate metric(s) by cross-validation and also record fit/score times.<br>\n",
    "https://scikit-learn.org/stable/modules/generated/sklearn.model_selection.cross_validate.html?highlight=cross_validate#sklearn.model_selection.cross_validate<br>"
   ]
  },
  {
   "cell_type": "markdown",
   "metadata": {
    "id": "Y0W7D4ED3r0B"
   },
   "source": [
    "## 인공신경망"
   ]
  },
  {
   "cell_type": "markdown",
   "metadata": {
    "id": "zaFtnKmzcQeJ"
   },
   "source": [
    "### 텐서플로와 케라스"
   ]
  },
  {
   "cell_type": "code",
   "execution_count": 13,
   "metadata": {
    "ExecuteTime": {
     "end_time": "2022-05-16T16:04:54.854370Z",
     "start_time": "2022-05-16T16:04:54.840369Z"
    },
    "id": "_WOZURhzcTAi"
   },
   "outputs": [],
   "source": [
    "import tensorflow as tf"
   ]
  },
  {
   "cell_type": "code",
   "execution_count": 14,
   "metadata": {
    "ExecuteTime": {
     "end_time": "2022-05-16T16:04:54.869370Z",
     "start_time": "2022-05-16T16:04:54.855371Z"
    },
    "id": "rbKFPAUucVkV"
   },
   "outputs": [],
   "source": [
    "from tensorflow import keras"
   ]
  },
  {
   "cell_type": "markdown",
   "metadata": {
    "id": "YdNdad0mcoGD"
   },
   "source": [
    "## 인공신경망으로 모델 만들기"
   ]
  },
  {
   "cell_type": "code",
   "execution_count": 15,
   "metadata": {
    "ExecuteTime": {
     "end_time": "2022-05-16T16:04:54.974368Z",
     "start_time": "2022-05-16T16:04:54.870370Z"
    },
    "id": "4smUJC1hOWTF"
   },
   "outputs": [],
   "source": [
    "####################################################################################################\n",
    "# 데이터셋을 학습용/검증용으로 분리합니다.\n",
    "# --------------------------------------------------------------------------------------------------\n",
    "# 딥러닝에서는 일반적으로 교차검증을 수행하지 않습니다.\n",
    "####################################################################################################\n",
    "from sklearn.model_selection import train_test_split\n",
    "\n",
    "train_scaled, val_scaled, train_target, val_target = train_test_split(\n",
    "    train_scaled, train_target, test_size=0.2, random_state=42)"
   ]
  },
  {
   "cell_type": "code",
   "execution_count": 16,
   "metadata": {
    "ExecuteTime": {
     "end_time": "2022-05-16T16:04:54.989368Z",
     "start_time": "2022-05-16T16:04:54.975373Z"
    },
    "colab": {
     "base_uri": "https://localhost:8080/"
    },
    "id": "G9OwZTRorHWQ",
    "outputId": "11727905-4886-41b1-a292-75c363ee97d5"
   },
   "outputs": [
    {
     "name": "stdout",
     "output_type": "stream",
     "text": [
      "(48000, 784) (48000,)\n"
     ]
    }
   ],
   "source": [
    "####################################################################################################\n",
    "# 학습용 데이터셋의 형태를 확인합니다.\n",
    "####################################################################################################\n",
    "print(train_scaled.shape, train_target.shape)"
   ]
  },
  {
   "cell_type": "code",
   "execution_count": 17,
   "metadata": {
    "ExecuteTime": {
     "end_time": "2022-05-16T16:04:55.004368Z",
     "start_time": "2022-05-16T16:04:54.990371Z"
    },
    "colab": {
     "base_uri": "https://localhost:8080/"
    },
    "id": "Van_eJ7BOo-y",
    "outputId": "628c14e9-69f2-4177-9018-02d28116bf0f"
   },
   "outputs": [
    {
     "name": "stdout",
     "output_type": "stream",
     "text": [
      "(12000, 784) (12000,)\n"
     ]
    }
   ],
   "source": [
    "####################################################################################################\n",
    "# 검증용 데이터셋의 형태를 확인합니다.\n",
    "####################################################################################################\n",
    "print(val_scaled.shape, val_target.shape)"
   ]
  },
  {
   "cell_type": "code",
   "execution_count": 18,
   "metadata": {
    "ExecuteTime": {
     "end_time": "2022-05-16T16:04:55.034370Z",
     "start_time": "2022-05-16T16:04:55.005369Z"
    },
    "id": "DEXlpF_8gmJv"
   },
   "outputs": [],
   "source": [
    "####################################################################################################\n",
    "# 출력층으로 사용할 객체를 생성합니다.\n",
    "# --------------------------------------------------------------------------------------------------\n",
    "# 다중 분류(multiclass classification)의 경우 활성화 함수를 softmax()로 지정합니다.\n",
    "# 이진 분류(binary classification)의 경우 활성화 함수를 sigmoid()로 지정합니다.\n",
    "####################################################################################################\n",
    "dense = keras.layers.Dense(10, activation='softmax', input_shape=(784,))"
   ]
  },
  {
   "cell_type": "code",
   "execution_count": 19,
   "metadata": {
    "ExecuteTime": {
     "end_time": "2022-05-16T16:04:55.304369Z",
     "start_time": "2022-05-16T16:04:55.035372Z"
    },
    "id": "k8mtAypNPIz7"
   },
   "outputs": [],
   "source": [
    "####################################################################################################\n",
    "# 출력층을 포함시켜 모델을 생성합니다.\n",
    "####################################################################################################\n",
    "model = keras.Sequential(dense)"
   ]
  },
  {
   "cell_type": "markdown",
   "metadata": {
    "id": "xPTmHpMe3r0D"
   },
   "source": [
    "## 인공신경망으로 패션 아이템 분류하기"
   ]
  },
  {
   "cell_type": "code",
   "execution_count": 20,
   "metadata": {
    "ExecuteTime": {
     "end_time": "2022-05-16T16:04:55.319369Z",
     "start_time": "2022-05-16T16:04:55.305370Z"
    },
    "id": "VqJ5dpwwPWPr"
   },
   "outputs": [],
   "source": [
    "####################################################################################################\n",
    "# 인공신경망 훈련을 위한 설정값(손실함수와 성능지표)을 입력합니다.\n",
    "# --------------------------------------------------------------------------------------------------\n",
    "# 이진 분류의 경우 손실함수를 'binary_crossentropy'로, 다중 분류의 경우 'categorical_crossentropy'로\n",
    "# 설정합니다.\n",
    "# 타깃 데이터의 레이블이 원-핫 인코딩된 경우 'sparse_'를 손실함수명 앞에 추가하면 됩니다.\n",
    "# 성능지표에 'accuracy'를 사용하면 정확도를 사용합니다.\n",
    "####################################################################################################\n",
    "model.compile(loss='sparse_categorical_crossentropy', metrics='accuracy')"
   ]
  },
  {
   "cell_type": "code",
   "execution_count": 21,
   "metadata": {
    "ExecuteTime": {
     "end_time": "2022-05-16T16:04:55.334368Z",
     "start_time": "2022-05-16T16:04:55.320370Z"
    },
    "colab": {
     "base_uri": "https://localhost:8080/"
    },
    "id": "JLLytXw7UcvB",
    "outputId": "cd94376c-a154-48e7-edbf-93e13ab6f384"
   },
   "outputs": [
    {
     "name": "stdout",
     "output_type": "stream",
     "text": [
      "[7 3 5 8 6 9 3 3 9 9]\n"
     ]
    }
   ],
   "source": [
    "####################################################################################################\n",
    "# 타깃 데이터의 레이블 값을 확인합니다.\n",
    "# --------------------------------------------------------------------------------------------------\n",
    "# 레이블이 0과 1로만 구성된 원-핫 인코딩이 아님도 확인됩니다.\n",
    "####################################################################################################\n",
    "print(train_target[:10])"
   ]
  },
  {
   "cell_type": "code",
   "execution_count": 22,
   "metadata": {
    "ExecuteTime": {
     "end_time": "2022-05-16T16:04:59.804370Z",
     "start_time": "2022-05-16T16:04:55.335371Z"
    },
    "colab": {
     "base_uri": "https://localhost:8080/"
    },
    "id": "KiZnrOgQP4ps",
    "outputId": "ae52e358-2af4-48bb-ce3b-ad24f17ac513"
   },
   "outputs": [
    {
     "name": "stdout",
     "output_type": "stream",
     "text": [
      "Epoch 1/5\n",
      "1500/1500 [==============================] - 1s 461us/step - loss: 0.6026 - accuracy: 0.7970\n",
      "Epoch 2/5\n",
      "1500/1500 [==============================] - 1s 483us/step - loss: 0.4773 - accuracy: 0.8392\n",
      "Epoch 3/5\n",
      "1500/1500 [==============================] - 1s 591us/step - loss: 0.4550 - accuracy: 0.8474\n",
      "Epoch 4/5\n",
      "1500/1500 [==============================] - 1s 605us/step - loss: 0.4428 - accuracy: 0.8522\n",
      "Epoch 5/5\n",
      "1500/1500 [==============================] - 1s 556us/step - loss: 0.4358 - accuracy: 0.8561\n"
     ]
    },
    {
     "data": {
      "text/plain": [
       "<tensorflow.python.keras.callbacks.History at 0x1cf36024b80>"
      ]
     },
     "execution_count": 22,
     "metadata": {},
     "output_type": "execute_result"
    }
   ],
   "source": [
    "####################################################################################################\n",
    "# 모델을 훈련합니다.\n",
    "# --------------------------------------------------------------------------------------------------\n",
    "# 에포크를 5로 지정했습니다.\n",
    "# 에포크가 증가하면 훈련셋에 대한 성능이 높아지는 반면, 과적합이 일어날 수 있습니다.\n",
    "####################################################################################################\n",
    "model.fit(train_scaled, train_target, epochs=5)"
   ]
  },
  {
   "cell_type": "code",
   "execution_count": 23,
   "metadata": {
    "ExecuteTime": {
     "end_time": "2022-05-16T16:05:00.254370Z",
     "start_time": "2022-05-16T16:04:59.806371Z"
    },
    "colab": {
     "base_uri": "https://localhost:8080/"
    },
    "id": "OdXPQEXOQIFm",
    "outputId": "95d43563-ca32-479e-82f6-fa4be4c5a0b2"
   },
   "outputs": [
    {
     "name": "stdout",
     "output_type": "stream",
     "text": [
      "375/375 [==============================] - 0s 520us/step - loss: 0.4575 - accuracy: 0.8430\n"
     ]
    },
    {
     "data": {
      "text/plain": [
       "[0.45746180415153503, 0.8429999947547913]"
      ]
     },
     "execution_count": 23,
     "metadata": {},
     "output_type": "execute_result"
    }
   ],
   "source": [
    "####################################################################################################\n",
    "# 모델의 성능을 검증합니다.\n",
    "# --------------------------------------------------------------------------------------------------\n",
    "# 모델이 과적합되었는지를 확인해야 하므로 검증 데이터를 활용합니다.\n",
    "####################################################################################################\n",
    "model.evaluate(val_scaled, val_target)"
   ]
  }
 ],
 "metadata": {
  "accelerator": "GPU",
  "colab": {
   "collapsed_sections": [],
   "name": "7-1 인공 신경망.ipynb",
   "provenance": []
  },
  "kernelspec": {
   "display_name": "Python 3",
   "language": "python",
   "name": "python3"
  },
  "language_info": {
   "codemirror_mode": {
    "name": "ipython",
    "version": 3
   },
   "file_extension": ".py",
   "mimetype": "text/x-python",
   "name": "python",
   "nbconvert_exporter": "python",
   "pygments_lexer": "ipython3",
   "version": "3.7.6"
  },
  "toc": {
   "base_numbering": 1,
   "nav_menu": {},
   "number_sections": true,
   "sideBar": true,
   "skip_h1_title": false,
   "title_cell": "Table of Contents",
   "title_sidebar": "Contents",
   "toc_cell": false,
   "toc_position": {},
   "toc_section_display": true,
   "toc_window_display": false
  },
  "varInspector": {
   "cols": {
    "lenName": 16,
    "lenType": 16,
    "lenVar": 40
   },
   "kernels_config": {
    "python": {
     "delete_cmd_postfix": "",
     "delete_cmd_prefix": "del ",
     "library": "var_list.py",
     "varRefreshCmd": "print(var_dic_list())"
    },
    "r": {
     "delete_cmd_postfix": ") ",
     "delete_cmd_prefix": "rm(",
     "library": "var_list.r",
     "varRefreshCmd": "cat(var_dic_list()) "
    }
   },
   "types_to_exclude": [
    "module",
    "function",
    "builtin_function_or_method",
    "instance",
    "_Feature"
   ],
   "window_display": false
  }
 },
 "nbformat": 4,
 "nbformat_minor": 1
}
