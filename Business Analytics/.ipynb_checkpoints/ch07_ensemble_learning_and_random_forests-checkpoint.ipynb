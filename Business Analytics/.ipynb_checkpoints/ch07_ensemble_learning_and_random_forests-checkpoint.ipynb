{
 "cells": [
  {
   "cell_type": "markdown",
   "metadata": {},
   "source": [
    "**Chapter 7 – Ensemble Learning and Random Forests**"
   ]
  },
  {
   "cell_type": "markdown",
   "metadata": {},
   "source": [
    "_This notebook contains all the sample code and solutions to the exercises in chapter 7._"
   ]
  },
  {
   "cell_type": "markdown",
   "metadata": {},
   "source": [
    "<table align=\"left\">\n",
    "  <td>\n",
    "    <a href=\"https://colab.research.google.com/github/ageron/handson-ml2/blob/master/07_ensemble_learning_and_random_forests.ipynb\" target=\"_parent\"><img src=\"https://colab.research.google.com/assets/colab-badge.svg\" alt=\"Open In Colab\"/></a>\n",
    "  </td>\n",
    "  <td>\n",
    "    <a target=\"_blank\" href=\"https://kaggle.com/kernels/welcome?src=https://github.com/ageron/handson-ml2/blob/master/07_ensemble_learning_and_random_forests.ipynb\"><img src=\"https://kaggle.com/static/images/open-in-kaggle.svg\" /></a>\n",
    "  </td>\n",
    "</table>"
   ]
  },
  {
   "cell_type": "markdown",
   "metadata": {},
   "source": [
    "# Setup"
   ]
  },
  {
   "cell_type": "markdown",
   "metadata": {},
   "source": [
    "First, let's import a few common modules, ensure MatplotLib plots figures inline and prepare a function to save the figures. We also check that Python 3.5 or later is installed (although Python 2.x may work, it is deprecated so we strongly recommend you use Python 3 instead), as well as Scikit-Learn ≥0.20."
   ]
  },
  {
   "cell_type": "code",
   "execution_count": 1,
   "metadata": {
    "ExecuteTime": {
     "end_time": "2022-05-02T12:35:04.506337Z",
     "start_time": "2022-05-02T12:35:02.230640Z"
    }
   },
   "outputs": [],
   "source": [
    "# Python ≥3.5 is required\n",
    "import sys\n",
    "assert sys.version_info >= (3, 5)\n",
    "\n",
    "# Scikit-Learn ≥0.20 is required\n",
    "import sklearn\n",
    "assert sklearn.__version__ >= \"0.20\"\n",
    "\n",
    "# Common imports\n",
    "import numpy as np\n",
    "import os\n",
    "\n",
    "# to make this notebook's output stable across runs\n",
    "np.random.seed(42)\n",
    "\n",
    "# To plot pretty figures\n",
    "%matplotlib inline\n",
    "import matplotlib as mpl\n",
    "import matplotlib.pyplot as plt\n",
    "mpl.rc('axes', labelsize=14)\n",
    "mpl.rc('xtick', labelsize=12)\n",
    "mpl.rc('ytick', labelsize=12)\n",
    "\n",
    "# Where to save the figures\n",
    "PROJECT_ROOT_DIR = \".\"\n",
    "CHAPTER_ID = \"ensembles\"\n",
    "IMAGES_PATH = os.path.join(PROJECT_ROOT_DIR, \"images\", CHAPTER_ID)\n",
    "os.makedirs(IMAGES_PATH, exist_ok=True)\n",
    "\n",
    "def save_fig(fig_id, tight_layout=True, fig_extension=\"png\", resolution=300):\n",
    "    path = os.path.join(IMAGES_PATH, fig_id + \".\" + fig_extension)\n",
    "    print(\"Saving figure\", fig_id)\n",
    "    if tight_layout:\n",
    "        plt.tight_layout()\n",
    "    plt.savefig(path, format=fig_extension, dpi=resolution)"
   ]
  },
  {
   "cell_type": "markdown",
   "metadata": {},
   "source": [
    "# Voting Classifiers (투표 기반 분류기)"
   ]
  },
  {
   "cell_type": "markdown",
   "metadata": {},
   "source": [
    "동일한 데이터셋으로 서로 다른 알고리즘을 훈련 후 예측(클래스 또는 확률)을 취합"
   ]
  },
  {
   "cell_type": "code",
   "execution_count": 2,
   "metadata": {
    "ExecuteTime": {
     "end_time": "2022-05-02T12:35:35.688100Z",
     "start_time": "2022-05-02T12:35:35.424527Z"
    }
   },
   "outputs": [],
   "source": [
    "from sklearn.model_selection import train_test_split\n",
    "from sklearn.datasets import make_moons\n",
    "\n",
    "X, y = make_moons(n_samples=500, noise=0.30, random_state=42)\n",
    "X_train, X_test, y_train, y_test = train_test_split(X, y, random_state=42)    # test_size = 0.25 by default"
   ]
  },
  {
   "cell_type": "markdown",
   "metadata": {},
   "source": [
    "**Note**: to be future-proof, we set `solver=\"lbfgs\"`, `n_estimators=100`, and `gamma=\"scale\"` since these will be the default values in upcoming Scikit-Learn versions."
   ]
  },
  {
   "cell_type": "markdown",
   "metadata": {},
   "source": [
    "Hard voting:"
   ]
  },
  {
   "cell_type": "code",
   "execution_count": 3,
   "metadata": {
    "ExecuteTime": {
     "end_time": "2022-05-02T12:42:47.669859Z",
     "start_time": "2022-05-02T12:42:47.249165Z"
    }
   },
   "outputs": [],
   "source": [
    "from sklearn.ensemble import RandomForestClassifier\n",
    "from sklearn.ensemble import VotingClassifier\n",
    "from sklearn.linear_model import LogisticRegression\n",
    "from sklearn.svm import SVC\n",
    "\n",
    "log_clf = LogisticRegression(solver=\"lbfgs\", random_state=42)\n",
    "rnd_clf = RandomForestClassifier(n_estimators=100, random_state=42)\n",
    "svm_clf = SVC(gamma=\"scale\", random_state=42)\n",
    "\n",
    "voting_clf = VotingClassifier(\n",
    "    estimators=[('lr', log_clf), ('rf', rnd_clf), ('svc', svm_clf)],\n",
    "    voting='hard')"
   ]
  },
  {
   "cell_type": "code",
   "execution_count": 4,
   "metadata": {
    "ExecuteTime": {
     "end_time": "2022-05-02T12:42:55.967790Z",
     "start_time": "2022-05-02T12:42:55.841791Z"
    }
   },
   "outputs": [
    {
     "data": {
      "text/plain": [
       "VotingClassifier(estimators=[('lr', LogisticRegression(random_state=42)),\n",
       "                             ('rf', RandomForestClassifier(random_state=42)),\n",
       "                             ('svc', SVC(random_state=42))])"
      ]
     },
     "execution_count": 4,
     "metadata": {},
     "output_type": "execute_result"
    }
   ],
   "source": [
    "voting_clf.fit(X_train, y_train)"
   ]
  },
  {
   "cell_type": "code",
   "execution_count": 5,
   "metadata": {
    "ExecuteTime": {
     "end_time": "2022-05-02T12:42:59.034447Z",
     "start_time": "2022-05-02T12:42:58.809448Z"
    }
   },
   "outputs": [
    {
     "name": "stdout",
     "output_type": "stream",
     "text": [
      "LogisticRegression 0.864\n",
      "RandomForestClassifier 0.896\n",
      "SVC 0.896\n",
      "VotingClassifier 0.912\n"
     ]
    }
   ],
   "source": [
    "from sklearn.metrics import accuracy_score\n",
    "\n",
    "for clf in (log_clf, rnd_clf, svm_clf, voting_clf):\n",
    "    clf.fit(X_train, y_train)\n",
    "    y_pred = clf.predict(X_test)\n",
    "    print(clf.__class__.__name__, accuracy_score(y_test, y_pred))"
   ]
  },
  {
   "cell_type": "markdown",
   "metadata": {},
   "source": [
    "Soft voting:"
   ]
  },
  {
   "cell_type": "code",
   "execution_count": null,
   "metadata": {
    "ExecuteTime": {
     "end_time": "2022-05-02T12:44:35.606708Z",
     "start_time": "2022-05-02T12:44:35.482707Z"
    }
   },
   "outputs": [],
   "source": [
    "log_clf = LogisticRegression(solver=\"lbfgs\", random_state=42)\n",
    "rnd_clf = RandomForestClassifier(n_estimators=100, random_state=42)\n",
    "svm_clf = SVC(gamma=\"scale\", probability=True, random_state=42) # \"probability=True\" is required to get probability\n",
    "#svm_clf = SVC(gamma=\"scale\", random_state=42)                  # if we omit the option an error occurs in the next cell\n",
    "\n",
    "voting_clf = VotingClassifier(\n",
    "    estimators=[('lr', log_clf), ('rf', rnd_clf), ('svc', svm_clf)],\n",
    "    voting='soft')\n",
    "voting_clf.fit(X_train, y_train)"
   ]
  },
  {
   "cell_type": "code",
   "execution_count": null,
   "metadata": {
    "ExecuteTime": {
     "end_time": "2022-05-02T12:44:36.855222Z",
     "start_time": "2022-05-02T12:44:36.604223Z"
    }
   },
   "outputs": [],
   "source": [
    "from sklearn.metrics import accuracy_score\n",
    "\n",
    "for clf in (log_clf, rnd_clf, svm_clf, voting_clf):\n",
    "    clf.fit(X_train, y_train)\n",
    "    y_pred = clf.predict(X_test)\n",
    "    print(clf.__class__.__name__, accuracy_score(y_test, y_pred))"
   ]
  },
  {
   "cell_type": "markdown",
   "metadata": {},
   "source": [
    "# Bagging and Pasting (배깅과 페이스팅)"
   ]
  },
  {
   "cell_type": "markdown",
   "metadata": {},
   "source": [
    "서로 다른 데이터셋으로 동일 알고리즘을 훈련 후 예측(클래스 또는 확률)을 취합<br>\n",
    "서로 다른 훈련 데이터셋은 랜덤 샘플링으로 생성<br>\n",
    "- 배깅: 복원 추출(sampling with replacement) --> 중복 샘플 허용<br>\n",
    "- 페이스팅: 비복원 추출(sampling without replacement) --> 중복 샘플 비허용<br>"
   ]
  },
  {
   "cell_type": "markdown",
   "metadata": {},
   "source": [
    "## Bagging and Pasting in Scikit-Learn"
   ]
  },
  {
   "cell_type": "code",
   "execution_count": null,
   "metadata": {
    "ExecuteTime": {
     "end_time": "2022-05-02T14:06:14.045730Z",
     "start_time": "2022-05-02T14:06:13.375732Z"
    }
   },
   "outputs": [],
   "source": [
    "####################################################################################################\n",
    "# 배깅으로 500개의 의사결정나무 분류기를 포함하는 앙상블 모델 훈련\n",
    "####################################################################################################\n",
    "from sklearn.ensemble import BaggingClassifier\n",
    "from sklearn.tree import DecisionTreeClassifier\n",
    "\n",
    "bag_clf = BaggingClassifier(\n",
    "    DecisionTreeClassifier(), n_estimators=500,         # All 500 estimators are the same algorithm (DecisionTreeClassifier)\n",
    "    max_samples=100, bootstrap=True, random_state=42,   # Sampling 100 instances with replacement (bootstrap=True)\n",
    "    #max_samples=100, bootstrap=False, random_state=42,   # Sampling 100 instances without replacement (bootstrap=False)\n",
    "    verbose=2)\n",
    "bag_clf.fit(X_train, y_train)"
   ]
  },
  {
   "cell_type": "markdown",
   "metadata": {},
   "source": [
    "##### sklearn.ensemble.BaggingClassifier\n",
    "class sklearn.ensemble.BaggingClassifier(base_estimator=None, n_estimators=10, *, max_samples=1.0, max_features=1.0, bootstrap=True, bootstrap_features=False, oob_score=False, warm_start=False, n_jobs=None, random_state=None, verbose=0)<br>\n",
    "A Bagging classifier.<br>\n",
    "https://scikit-learn.org/stable/modules/generated/sklearn.ensemble.BaggingClassifier.html?highlight=baggingclassifier#sklearn.ensemble.BaggingClassifier<br>"
   ]
  },
  {
   "cell_type": "code",
   "execution_count": null,
   "metadata": {
    "ExecuteTime": {
     "end_time": "2022-05-02T14:06:20.883421Z",
     "start_time": "2022-05-02T14:06:20.830421Z"
    }
   },
   "outputs": [],
   "source": [
    "####################################################################################################\n",
    "# 배깅으로 훈련한 앙상블 모델의 성능(정확도) 측정\n",
    "####################################################################################################\n",
    "from sklearn.metrics import accuracy_score\n",
    "y_pred = bag_clf.predict(X_test)\n",
    "print(accuracy_score(y_test, y_pred))"
   ]
  },
  {
   "cell_type": "code",
   "execution_count": null,
   "metadata": {
    "ExecuteTime": {
     "end_time": "2022-05-02T13:03:21.645127Z",
     "start_time": "2022-05-02T13:03:21.632127Z"
    }
   },
   "outputs": [],
   "source": [
    "####################################################################################################\n",
    "# 의사결정나무 1개를 훈련 후 성능 측정\n",
    "# --------------------------------------------------------------------------------------------------\n",
    "# 1개의 의사결정나무보다 500개의 의사결정나무를 포함하는 앙상블 모델의 성능이 우수\n",
    "####################################################################################################\n",
    "tree_clf = DecisionTreeClassifier(random_state=42)\n",
    "tree_clf.fit(X_train, y_train)\n",
    "y_pred_tree = tree_clf.predict(X_test)\n",
    "print(accuracy_score(y_test, y_pred_tree))"
   ]
  },
  {
   "cell_type": "code",
   "execution_count": null,
   "metadata": {
    "ExecuteTime": {
     "end_time": "2022-05-02T14:06:53.506580Z",
     "start_time": "2022-05-02T14:06:53.432580Z"
    }
   },
   "outputs": [],
   "source": [
    "####################################################################################################\n",
    "# 앙상블 모델에 포함된 500개의 의사결정나무 확인\n",
    "####################################################################################################\n",
    "bag_clf.estimators_"
   ]
  },
  {
   "cell_type": "code",
   "execution_count": null,
   "metadata": {
    "ExecuteTime": {
     "end_time": "2022-05-02T13:33:52.872393Z",
     "start_time": "2022-05-02T13:33:52.486393Z"
    }
   },
   "outputs": [],
   "source": [
    "####################################################################################################\n",
    "# 앙상블 모델 속 500개의 의사결정나무 각각에 대한 훈련 데이터 확인\n",
    "####################################################################################################\n",
    "bag_clf.estimators_samples_"
   ]
  },
  {
   "cell_type": "code",
   "execution_count": null,
   "metadata": {
    "ExecuteTime": {
     "end_time": "2022-05-02T13:34:38.853983Z",
     "start_time": "2022-05-02T13:34:38.755985Z"
    }
   },
   "outputs": [],
   "source": [
    "####################################################################################################\n",
    "# 앙상블 모델의 의사결정나무 훈련 데이터에는 중복 샘플이 존재함을 확인\n",
    "####################################################################################################\n",
    "import pandas as pd\n",
    "sample = bag_clf.estimators_samples_[0]\n",
    "pd.DataFrame(sample).value_counts()"
   ]
  },
  {
   "cell_type": "markdown",
   "metadata": {},
   "source": [
    "**Code to generate Figure 7–5. A single Decision Tree (left) versus a bagging ensemble of 500 trees (right):**"
   ]
  },
  {
   "cell_type": "code",
   "execution_count": null,
   "metadata": {
    "ExecuteTime": {
     "end_time": "2022-05-02T13:45:42.237684Z",
     "start_time": "2022-05-02T13:45:42.224684Z"
    }
   },
   "outputs": [],
   "source": [
    "####################################################################################################\n",
    "# 분류 모형의 결정경계를 plot하기 위한 사용자 정의 함수\n",
    "# --------------------------------------------------------------------------------------------------\n",
    "# 분류기(classifier), X/y와 이 분류기의 예측값을 표현할 영역(x, y축)을 전달하면, X/y와 함께 클래스 별로 영역을 표시\n",
    "# * 코드를 모두 이해하실 필요는 없으며, 함수로 전달되는 매개변수와 이 함수의 수행결과를 연계하여 \n",
    "#   함수가 수행하는 작업에 대해서만 이해하고, 추후에 코드를 재활용하실 수 있으면 됩니다.\n",
    "####################################################################################################\n",
    "from matplotlib.colors import ListedColormap\n",
    "def plot_decision_boundary(clf, X, y, axes=[-1.5, 2.45, -1, 1.5], alpha=0.5, contour=True):\n",
    "    x1s = np.linspace(axes[0], axes[1], 100)\n",
    "    x2s = np.linspace(axes[2], axes[3], 100)\n",
    "    x1, x2 = np.meshgrid(x1s, x2s)\n",
    "    X_new = np.c_[x1.ravel(), x2.ravel()]\n",
    "    y_pred = clf.predict(X_new).reshape(x1.shape)\n",
    "    custom_cmap = ListedColormap(['#fafab0','#9898ff','#a0faa0'])\n",
    "    plt.contourf(x1, x2, y_pred, alpha=0.3, cmap=custom_cmap)\n",
    "    if contour:\n",
    "        custom_cmap2 = ListedColormap(['#7d7d58','#4c4c7f','#507d50'])\n",
    "        plt.contour(x1, x2, y_pred, cmap=custom_cmap2, alpha=0.8)\n",
    "    plt.plot(X[:, 0][y==0], X[:, 1][y==0], \"yo\", alpha=alpha)\n",
    "    plt.plot(X[:, 0][y==1], X[:, 1][y==1], \"bs\", alpha=alpha)\n",
    "    plt.axis(axes)\n",
    "    plt.xlabel(r\"$x_1$\", fontsize=18)\n",
    "    plt.ylabel(r\"$x_2$\", fontsize=18, rotation=0)"
   ]
  },
  {
   "cell_type": "code",
   "execution_count": null,
   "metadata": {
    "ExecuteTime": {
     "end_time": "2022-05-02T13:45:43.965466Z",
     "start_time": "2022-05-02T13:45:43.256466Z"
    },
    "scrolled": true
   },
   "outputs": [],
   "source": [
    "####################################################################################################\n",
    "# 분류 모형의 결정경계를 plot\n",
    "# --------------------------------------------------------------------------------------------------\n",
    "# 의사결정나무 1개의 결정경계보다 의사결정나무 500개의 배깅 앙상블의 결정경계가 더 선명하게 나타남을 확인\n",
    "####################################################################################################\n",
    "fig, axes = plt.subplots(ncols=2, figsize=(10,4), sharey=True)\n",
    "plt.sca(axes[0])\n",
    "plot_decision_boundary(tree_clf, X, y)\n",
    "plt.title(\"Decision Tree\", fontsize=14)\n",
    "plt.sca(axes[1])\n",
    "plot_decision_boundary(bag_clf, X, y)\n",
    "plt.title(\"Decision Trees with Bagging\", fontsize=14)\n",
    "plt.ylabel(\"\")\n",
    "save_fig(\"decision_tree_without_and_with_bagging_plot\")\n",
    "plt.show()"
   ]
  },
  {
   "cell_type": "markdown",
   "metadata": {},
   "source": [
    "## Out-of-Bag evaluation (oob 평가)"
   ]
  },
  {
   "cell_type": "markdown",
   "metadata": {},
   "source": [
    "With bagging, some instances may be sampled several times for any given predictor, while others may not be sampled at all. By default a BaggingClassifier samples m training instances with replacement (bootstrap = True), where m is the size of the training set. This means that only about 63% of the training instances are sampled on average for each predictor. 6 The remaining 37% of the training instances that are not sampled are called out-of-bag (oob) instances. Note that they are not the same 37% for all predictors.\n",
    "\n",
    "Géron, Aurélien. Hands-On Machine Learning with Scikit-Learn, Keras, and TensorFlow (Kindle Locations 4149-4155). O'Reilly Media. Kindle Edition. "
   ]
  },
  {
   "cell_type": "markdown",
   "metadata": {},
   "source": [
    "배깅 사용 시, 중복 추출을 허용하면 단 한 번도 추출되지 않는 샘플이 존재.<br>\n",
    "이 샘플들을 oob(out of bag) 샘플이라 하며, 성능 평가에 사용할 수 있음.<br>\n",
    "이 때의 성능은 테스트셋과 유사한 수준으로 기대할 수 있음.<br>"
   ]
  },
  {
   "cell_type": "code",
   "execution_count": null,
   "metadata": {
    "ExecuteTime": {
     "end_time": "2022-05-02T14:13:12.343921Z",
     "start_time": "2022-05-02T14:13:11.624923Z"
    }
   },
   "outputs": [],
   "source": [
    "####################################################################################################\n",
    "# 의사결정나무 500개를 포함하는 배깅 앙상블 모델을 훈련 후 oob 평가\n",
    "# --------------------------------------------------------------------------------------------------\n",
    "# bootstrap=True: 배깅인 경우에만 oob 생성됨\n",
    "# oob_score=True: oob 성능을 확인하기 위해 설정 필요\n",
    "####################################################################################################\n",
    "bag_clf = BaggingClassifier(\n",
    "    DecisionTreeClassifier(), n_estimators=500,\n",
    "    bootstrap=True, oob_score=True, random_state=40)\n",
    "bag_clf.fit(X_train, y_train)\n",
    "bag_clf.oob_score_"
   ]
  },
  {
   "cell_type": "code",
   "execution_count": null,
   "metadata": {
    "ExecuteTime": {
     "end_time": "2022-05-02T14:01:07.503141Z",
     "start_time": "2022-05-02T14:01:07.487141Z"
    }
   },
   "outputs": [],
   "source": [
    "####################################################################################################\n",
    "# 의사결정나무 500개를 포함하는 배깅 앙상블 모델을 훈련 후 oob 샘플 각각에 대한 decision function 확인\n",
    "####################################################################################################\n",
    "bag_clf.oob_decision_function_"
   ]
  },
  {
   "cell_type": "code",
   "execution_count": null,
   "metadata": {
    "ExecuteTime": {
     "end_time": "2022-05-02T14:14:05.053633Z",
     "start_time": "2022-05-02T14:14:05.005634Z"
    },
    "scrolled": true
   },
   "outputs": [],
   "source": [
    "####################################################################################################\n",
    "# 의사결정나무 500개를 포함하는 배깅 앙상블 모델을 훈련 후, 테스트셋을 통한 성능 확인\n",
    "####################################################################################################\n",
    "y_pred = bag_clf.predict(X_test)\n",
    "accuracy_score(y_test, y_pred)"
   ]
  },
  {
   "cell_type": "markdown",
   "metadata": {},
   "source": [
    "# Random Forests (랜덤 포레스트)"
   ]
  },
  {
   "cell_type": "code",
   "execution_count": null,
   "metadata": {
    "ExecuteTime": {
     "end_time": "2022-05-02T14:20:33.030732Z",
     "start_time": "2022-05-02T14:20:32.529732Z"
    }
   },
   "outputs": [],
   "source": [
    "####################################################################################################\n",
    "# 의사결정나무 500개(최대 리프 노드 16개)를 포함하는 랜덤 포레스트 분류기 생성 및 훈련\n",
    "####################################################################################################\n",
    "from sklearn.ensemble import RandomForestClassifier\n",
    "\n",
    "rnd_clf = RandomForestClassifier(n_estimators=500, max_leaf_nodes=16, random_state=42)\n",
    "rnd_clf.fit(X_train, y_train)\n",
    "\n",
    "y_pred_rf = rnd_clf.predict(X_test)"
   ]
  },
  {
   "cell_type": "markdown",
   "metadata": {},
   "source": [
    "##### sklearn.ensemble.RandomForestClassifier\n",
    "class sklearn.ensemble.RandomForestClassifier(n_estimators=100, *, criterion='gini', max_depth=None, min_samples_split=2, min_samples_leaf=1, min_weight_fraction_leaf=0.0, max_features='auto', max_leaf_nodes=None, min_impurity_decrease=0.0, bootstrap=True, oob_score=False, n_jobs=None, random_state=None, verbose=0, warm_start=False, class_weight=None, ccp_alpha=0.0, max_samples=None)<br>\n",
    "A random forest classifier.<br>\n",
    "https://scikit-learn.org/stable/modules/generated/sklearn.ensemble.RandomForestClassifier.html?highlight=randomforestclassifier#sklearn.ensemble.RandomForestClassifier<br>"
   ]
  },
  {
   "cell_type": "markdown",
   "metadata": {},
   "source": [
    "A Random Forest is equivalent to a bag of decision trees:"
   ]
  },
  {
   "cell_type": "code",
   "execution_count": null,
   "metadata": {
    "ExecuteTime": {
     "end_time": "2022-05-02T14:21:18.096636Z",
     "start_time": "2022-05-02T14:21:17.526637Z"
    }
   },
   "outputs": [],
   "source": [
    "####################################################################################################\n",
    "# 의사결정나무 500개(최대 리프 노드 16개)를 포함하는 배깅 앙상블 모델을 생성\n",
    "####################################################################################################\n",
    "bag_clf = BaggingClassifier(\n",
    "    DecisionTreeClassifier(max_features=\"sqrt\", max_leaf_nodes=16),\n",
    "    n_estimators=500, random_state=42)\n",
    "bag_clf.fit(X_train, y_train)\n",
    "y_pred = bag_clf.predict(X_test)"
   ]
  },
  {
   "cell_type": "code",
   "execution_count": null,
   "metadata": {
    "ExecuteTime": {
     "end_time": "2022-05-02T14:21:20.571238Z",
     "start_time": "2022-05-02T14:21:20.566242Z"
    }
   },
   "outputs": [],
   "source": [
    "####################################################################################################\n",
    "# 두 모델의 예측 결과가 동일함을 확인\n",
    "####################################################################################################\n",
    "np.sum(y_pred == y_pred_rf) / len(y_pred)"
   ]
  },
  {
   "cell_type": "code",
   "execution_count": null,
   "metadata": {},
   "outputs": [],
   "source": [
    "####################################################################################################\n",
    "# 두 모델의 예측 결과가 동일함을 확인\n",
    "####################################################################################################\n",
    "np.c_[y_pred[:10], y_pred_rf[:10]]"
   ]
  },
  {
   "cell_type": "markdown",
   "metadata": {},
   "source": [
    "## Extra Tree (Extremely Randomized Trees, 엑스트라 트리)"
   ]
  },
  {
   "cell_type": "code",
   "execution_count": null,
   "metadata": {
    "ExecuteTime": {
     "end_time": "2022-05-02T14:40:40.231226Z",
     "start_time": "2022-05-02T14:40:39.861225Z"
    }
   },
   "outputs": [],
   "source": [
    "####################################################################################################\n",
    "# 의사결정나무 500개(최대 리프 노드 16개)를 포함하는 엑스트라 트리 분류기 생성 및 훈련\n",
    "####################################################################################################\n",
    "from sklearn.ensemble import ExtraTreesClassifier\n",
    "\n",
    "xt_clf = ExtraTreesClassifier(n_estimators=500, max_leaf_nodes=16, random_state=42)\n",
    "xt_clf.fit(X_train, y_train)\n",
    "\n",
    "y_pred_xt = xt_clf.predict(X_test)\n",
    "\n",
    "print(accuracy_score(y_test, y_pred_rf))\n",
    "print(accuracy_score(y_test, y_pred_xt))"
   ]
  },
  {
   "cell_type": "code",
   "execution_count": null,
   "metadata": {
    "ExecuteTime": {
     "end_time": "2022-05-02T14:41:08.697736Z",
     "start_time": "2022-05-02T14:41:08.677736Z"
    }
   },
   "outputs": [],
   "source": [
    "np.c_[y_pred_rf, y_pred_xt]"
   ]
  },
  {
   "cell_type": "markdown",
   "metadata": {},
   "source": [
    "## Feature Importance (특성 중요도)"
   ]
  },
  {
   "cell_type": "code",
   "execution_count": null,
   "metadata": {
    "ExecuteTime": {
     "end_time": "2022-05-02T14:35:27.921568Z",
     "start_time": "2022-05-02T14:35:27.450570Z"
    }
   },
   "outputs": [],
   "source": [
    "####################################################################################################\n",
    "# 랜덤 포레스트에서 각 특성의 중요도를 측정\n",
    "####################################################################################################\n",
    "from sklearn.datasets import load_iris\n",
    "iris = load_iris()\n",
    "rnd_clf = RandomForestClassifier(n_estimators=500, random_state=42)\n",
    "rnd_clf.fit(iris[\"data\"], iris[\"target\"])\n",
    "#for name, score in zip(iris[\"feature_names\"], rnd_clf.feature_importances_):\n",
    "#    print(name, score)\n",
    "zipped = zip(iris[\"feature_names\"], rnd_clf.feature_importances_)\n",
    "zipped = sorted(zipped, key=lambda x: x[1], reverse=True)\n",
    "for name, score in zipped:\n",
    "    print(name, score)"
   ]
  },
  {
   "cell_type": "markdown",
   "metadata": {},
   "source": [
    "The following figure overlays the decision boundaries of 15 decision trees. As you can see, even though each decision tree is imperfect, the ensemble defines a pretty good decision boundary:"
   ]
  },
  {
   "cell_type": "code",
   "execution_count": null,
   "metadata": {},
   "outputs": [],
   "source": [
    "####################################################################################################\n",
    "# 이 코드셀의 내용은 무시해도 됩니다.\n",
    "####################################################################################################\n",
    "plt.figure(figsize=(6, 4))\n",
    "\n",
    "for i in range(15):\n",
    "    tree_clf = DecisionTreeClassifier(max_leaf_nodes=16, random_state=42 + i)\n",
    "    indices_with_replacement = np.random.randint(0, len(X_train), len(X_train))\n",
    "    tree_clf.fit(X_train[indices_with_replacement], y_train[indices_with_replacement])\n",
    "    plot_decision_boundary(tree_clf, X, y, axes=[-1.5, 2.45, -1, 1.5], alpha=0.02, contour=False)\n",
    "\n",
    "plt.show()"
   ]
  },
  {
   "cell_type": "markdown",
   "metadata": {},
   "source": [
    "**Code to generate Figure 7–6. MNIST pixel importance (according to a Random Forest classifier):**"
   ]
  },
  {
   "cell_type": "code",
   "execution_count": null,
   "metadata": {},
   "outputs": [],
   "source": [
    "####################################################################################################\n",
    "# 이 코드셀의 내용은 무시해도 됩니다.\n",
    "####################################################################################################\n",
    "from sklearn.datasets import fetch_openml\n",
    "\n",
    "mnist = fetch_openml('mnist_784', version=1, as_frame=False)\n",
    "mnist.target = mnist.target.astype(np.uint8)"
   ]
  },
  {
   "cell_type": "code",
   "execution_count": null,
   "metadata": {},
   "outputs": [],
   "source": [
    "####################################################################################################\n",
    "# 이 코드셀의 내용은 무시해도 됩니다.\n",
    "####################################################################################################\n",
    "# Let's check the type of mnist and its contents\n",
    "type(mnist), mnist"
   ]
  },
  {
   "cell_type": "code",
   "execution_count": null,
   "metadata": {},
   "outputs": [],
   "source": [
    "####################################################################################################\n",
    "# 이 코드셀의 내용은 무시해도 됩니다.\n",
    "####################################################################################################\n",
    "rnd_clf = RandomForestClassifier(n_estimators=100, random_state=42)\n",
    "rnd_clf.fit(mnist[\"data\"], mnist[\"target\"])"
   ]
  },
  {
   "cell_type": "code",
   "execution_count": null,
   "metadata": {},
   "outputs": [],
   "source": [
    "####################################################################################################\n",
    "# 이 코드셀의 내용은 무시해도 됩니다.\n",
    "####################################################################################################\n",
    "def plot_digit(data):\n",
    "    image = data.reshape(28, 28)\n",
    "    plt.imshow(image, cmap = mpl.cm.hot,\n",
    "               interpolation=\"nearest\")\n",
    "    plt.axis(\"off\")"
   ]
  },
  {
   "cell_type": "code",
   "execution_count": null,
   "metadata": {},
   "outputs": [],
   "source": [
    "rnd_clf.feature_importances_.shape, rnd_clf.feature_importances_"
   ]
  },
  {
   "cell_type": "markdown",
   "metadata": {},
   "source": [
    "https://matplotlib.org/stable/api/colorbar_api.html?highlight=colorbar#module-matplotlib.colorbar\n",
    "https://matplotlib.org/stable/api/ticker_api.html#matplotlib.ticker.Locator"
   ]
  },
  {
   "cell_type": "code",
   "execution_count": null,
   "metadata": {},
   "outputs": [],
   "source": [
    "####################################################################################################\n",
    "# 이 코드셀의 내용은 무시해도 됩니다.\n",
    "####################################################################################################\n",
    "plot_digit(rnd_clf.feature_importances_)\n",
    "\n",
    "cbar = plt.colorbar(ticks=[rnd_clf.feature_importances_.min(), rnd_clf.feature_importances_.max()])\n",
    "cbar.ax.set_yticklabels(['Not important', 'Very important'])\n",
    "\n",
    "save_fig(\"mnist_feature_importance_plot\")\n",
    "plt.show()"
   ]
  },
  {
   "cell_type": "markdown",
   "metadata": {},
   "source": [
    " # Boosting (부스팅)"
   ]
  },
  {
   "cell_type": "markdown",
   "metadata": {},
   "source": [
    "약한 학습기 여러 개를 (직렬로) 연결하여 강한 학습기를 만드는 앙상블 방법<br>\n",
    "배깅이나 페이스팅처럼 병렬로 훈련할 수 없어 학습시간이 많이 소요되는 단점<br>"
   ]
  },
  {
   "cell_type": "markdown",
   "metadata": {},
   "source": [
    "## AdaBoost (에이다부스트)"
   ]
  },
  {
   "cell_type": "markdown",
   "metadata": {},
   "source": [
    "이전 분류기의 훈련 시 오분류된 샘플의 가중치를 상대적으로 높인 후 이후 분류기를 훈련하는 방식을 순차적으로 진행"
   ]
  },
  {
   "cell_type": "markdown",
   "metadata": {},
   "source": [
    "Figure 7-7. AdaBoost sequential training with instance weight updates"
   ]
  },
  {
   "attachments": {
    "Figure%2007-07.%20AdaBoost%20sequential%20training%20with%20instance%20weight%20updates.png": {
     "image/png": "[encoded data removed]"
    }
   },
   "cell_type": "markdown",
   "metadata": {},
   "source": [
    "![Figure%2007-07.%20AdaBoost%20sequential%20training%20with%20instance%20weight%20updates.png](attachment:Figure%2007-07.%20AdaBoost%20sequential%20training%20with%20instance%20weight%20updates.png)"
   ]
  },
  {
   "cell_type": "code",
   "execution_count": null,
   "metadata": {
    "ExecuteTime": {
     "end_time": "2022-05-02T15:09:14.628963Z",
     "start_time": "2022-05-02T15:09:14.414963Z"
    }
   },
   "outputs": [],
   "source": [
    "from sklearn.ensemble import AdaBoostClassifier\n",
    "\n",
    "ada_clf = AdaBoostClassifier(\n",
    "    DecisionTreeClassifier(max_depth=1), n_estimators=200,\n",
    "    algorithm=\"SAMME.R\", learning_rate=0.5, random_state=42)\n",
    "ada_clf.fit(X_train, y_train)"
   ]
  },
  {
   "cell_type": "markdown",
   "metadata": {},
   "source": [
    "##### sklearn.ensemble.AdaBoostClassifier\n",
    "class sklearn.ensemble.AdaBoostClassifier(base_estimator=None, *, n_estimators=50, learning_rate=1.0, algorithm='SAMME.R', random_state=None)<br>\n",
    "An AdaBoost classifier.<br>\n",
    "https://scikit-learn.org/stable/modules/generated/sklearn.ensemble.AdaBoostClassifier.html?highlight=adaboostclassifier<br>"
   ]
  },
  {
   "cell_type": "code",
   "execution_count": null,
   "metadata": {
    "ExecuteTime": {
     "end_time": "2022-05-02T15:09:17.270854Z",
     "start_time": "2022-05-02T15:09:16.972855Z"
    }
   },
   "outputs": [],
   "source": [
    "####################################################################################################\n",
    "# 학습된 모델로 결정경계를 그린다.\n",
    "####################################################################################################plot_decision_boundary(ada_clf, X, y)"
   ]
  },
  {
   "cell_type": "markdown",
   "metadata": {},
   "source": [
    "**Code to generate Figure 7–8. Decision boundaries of consecutive predictors:**"
   ]
  },
  {
   "cell_type": "code",
   "execution_count": null,
   "metadata": {},
   "outputs": [],
   "source": [
    "####################################################################################################\n",
    "# 이 코드셀의 내용은 무시해도 됩니다.\n",
    "####################################################################################################\n",
    "m = len(X_train)\n",
    "\n",
    "fix, axes = plt.subplots(ncols=2, figsize=(10,4), sharey=True)\n",
    "for subplot, learning_rate in ((0, 1), (1, 0.5)):\n",
    "    sample_weights = np.ones(m) / m\n",
    "    plt.sca(axes[subplot])\n",
    "    for i in range(5):\n",
    "        svm_clf = SVC(kernel=\"rbf\", C=0.2, gamma=0.6, random_state=42)\n",
    "        svm_clf.fit(X_train, y_train, sample_weight=sample_weights * m)\n",
    "        y_pred = svm_clf.predict(X_train)\n",
    "\n",
    "        r = sample_weights[y_pred != y_train].sum() / sample_weights.sum() # equation 7-1. Weighted error rate of the jth predictor\n",
    "        alpha = learning_rate * np.log((1 - r) / r)                        # equation 7-2. Predictor weight\n",
    "        sample_weights[y_pred != y_train] *= np.exp(alpha)                 # equation 7-3. Weight update rule\n",
    "        sample_weights /= sample_weights.sum()                             # normalization step\n",
    "\n",
    "        plot_decision_boundary(svm_clf, X, y, alpha=0.2)\n",
    "        plt.title(\"learning_rate = {}\".format(learning_rate), fontsize=16)\n",
    "    if subplot == 0:\n",
    "        plt.text(-0.75, -0.95, \"1\", fontsize=14)\n",
    "        plt.text(-1.05, -0.95, \"2\", fontsize=14)\n",
    "        plt.text(1.0, -0.95, \"3\", fontsize=14)\n",
    "        plt.text(-1.45, -0.5, \"4\", fontsize=14)\n",
    "        plt.text(1.36,  -0.95, \"5\", fontsize=14)\n",
    "    else:\n",
    "        plt.ylabel(\"\")\n",
    "\n",
    "save_fig(\"boosting_plot\")\n",
    "plt.show()"
   ]
  },
  {
   "cell_type": "markdown",
   "metadata": {},
   "source": [
    "Figure   7-8 shows the decision boundaries of five consecutive predictors on the moons dataset (in this example, each predictor is a highly regularized SVM classifier with an RBF kernel14). The first classifier gets many instances wrong, so their weights get boosted. The second classifier therefore does a better job on these instances, and so on. The plot on the right represents the same sequence of predictors, except that the learning rate is halved (i.e., the misclassified instance weights are boosted much less at every iteration). As you can see, this sequential learning technique has some similarities with Gradient Descent, except that instead of tweaking a single predictor’s parameters to minimize a cost function, AdaBoost adds predictors to the ensemble, gradually making it better.\n",
    "\n",
    "Géron, Aurélien. Hands-On Machine Learning with Scikit-Learn, Keras, and TensorFlow (Kindle Locations 4271-4277). O'Reilly Media. Kindle Edition. "
   ]
  },
  {
   "cell_type": "markdown",
   "metadata": {},
   "source": [
    "## Gradient Boosting (그레이디언트 부스팅)"
   ]
  },
  {
   "cell_type": "markdown",
   "metadata": {},
   "source": [
    "반복마다 샘플의 가중치를 수정하는 에이다부스트와는 달리 이전 예측기가 만든 잔여 오차에 새로운 예측기를 학습"
   ]
  },
  {
   "cell_type": "markdown",
   "metadata": {},
   "source": [
    "Let's create a simple quadratic dataset:"
   ]
  },
  {
   "cell_type": "code",
   "execution_count": null,
   "metadata": {
    "ExecuteTime": {
     "end_time": "2022-05-02T15:14:52.215420Z",
     "start_time": "2022-05-02T15:14:52.211419Z"
    }
   },
   "outputs": [],
   "source": [
    "####################################################################################################\n",
    "# 학습 데이터셋 생성\n",
    "####################################################################################################np.random.seed(42)\n",
    "X = np.random.rand(100, 1) - 0.5\n",
    "y = 3*X[:, 0]**2 + 0.05 * np.random.randn(100)"
   ]
  },
  {
   "cell_type": "markdown",
   "metadata": {},
   "source": [
    "Now let's train a decision tree regressor on this dataset:"
   ]
  },
  {
   "cell_type": "code",
   "execution_count": null,
   "metadata": {
    "ExecuteTime": {
     "end_time": "2022-05-02T15:14:53.370835Z",
     "start_time": "2022-05-02T15:14:53.354836Z"
    }
   },
   "outputs": [],
   "source": [
    "####################################################################################################\n",
    "# 의사결정나무 회귀 모델(1차) 생성 및 훈련: 이해를 위한 코드로서, 실제 구현용이 아님\n",
    "# --------------------------------------------------------------------------------------------------\n",
    "# 입력/타깃 데이터는 주어진 데이터셋 사용\n",
    "####################################################################################################\n",
    "from sklearn.tree import DecisionTreeRegressor\n",
    "\n",
    "tree_reg1 = DecisionTreeRegressor(max_depth=2, random_state=42)\n",
    "tree_reg1.fit(X, y)"
   ]
  },
  {
   "cell_type": "code",
   "execution_count": null,
   "metadata": {
    "ExecuteTime": {
     "end_time": "2022-05-02T15:14:53.985859Z",
     "start_time": "2022-05-02T15:14:53.979861Z"
    }
   },
   "outputs": [],
   "source": [
    "####################################################################################################\n",
    "# 의사결정나무 회귀 모델(2차) 생성 및 훈련: 이해를 위한 코드로서, 실제 구현용이 아님\n",
    "# --------------------------------------------------------------------------------------------------\n",
    "# 입력 데이터는 그대로. 타깃 데이터는 잔차 사용(y-1차 모델의 예측값)\n",
    "####################################################################################################\n",
    "y2 = y - tree_reg1.predict(X)\n",
    "tree_reg2 = DecisionTreeRegressor(max_depth=2, random_state=42)\n",
    "tree_reg2.fit(X, y2)"
   ]
  },
  {
   "cell_type": "code",
   "execution_count": null,
   "metadata": {
    "ExecuteTime": {
     "end_time": "2022-05-02T15:14:54.660860Z",
     "start_time": "2022-05-02T15:14:54.642861Z"
    }
   },
   "outputs": [],
   "source": [
    "####################################################################################################\n",
    "# 의사결정나무 회귀 모델(3차) 생성 및 훈련: 이해를 위한 코드로서, 실제 구현용이 아님\n",
    "# --------------------------------------------------------------------------------------------------\n",
    "# 입력 데이터는 그대로. 타깃 데이터는 잔차 사용(y-1차 모델의 예측값-2차 모델의 예측값)\n",
    "####################################################################################################\n",
    "y3 = y2 - tree_reg2.predict(X)\n",
    "tree_reg3 = DecisionTreeRegressor(max_depth=2, random_state=42)\n",
    "tree_reg3.fit(X, y3)"
   ]
  },
  {
   "cell_type": "code",
   "execution_count": null,
   "metadata": {
    "ExecuteTime": {
     "end_time": "2022-05-02T15:14:56.190859Z",
     "start_time": "2022-05-02T15:14:56.180860Z"
    }
   },
   "outputs": [],
   "source": [
    "X_new = np.array([[0.8]])"
   ]
  },
  {
   "cell_type": "code",
   "execution_count": null,
   "metadata": {
    "ExecuteTime": {
     "end_time": "2022-05-02T15:14:57.091490Z",
     "start_time": "2022-05-02T15:14:57.083492Z"
    }
   },
   "outputs": [],
   "source": [
    "y_pred = sum(tree.predict(X_new) for tree in (tree_reg1, tree_reg2, tree_reg3))"
   ]
  },
  {
   "cell_type": "code",
   "execution_count": null,
   "metadata": {
    "ExecuteTime": {
     "end_time": "2022-05-02T15:14:57.947043Z",
     "start_time": "2022-05-02T15:14:57.931044Z"
    }
   },
   "outputs": [],
   "source": [
    "y_pred"
   ]
  },
  {
   "cell_type": "markdown",
   "metadata": {},
   "source": [
    "**Code to generate Figure 7–9. In this depiction of Gradient Boosting, the first predictor (top left) is trained normally, then each consecutive predictor (middle left and lower left) is trained on the previous predictor’s residuals; the right column shows the resulting ensemble’s predictions:**"
   ]
  },
  {
   "cell_type": "code",
   "execution_count": null,
   "metadata": {
    "ExecuteTime": {
     "end_time": "2022-05-02T15:15:12.093421Z",
     "start_time": "2022-05-02T15:15:12.074426Z"
    }
   },
   "outputs": [],
   "source": [
    "####################################################################################################\n",
    "# 회귀 모형의 예측값을 plot하기 위한 사용자 정의 함수\n",
    "# --------------------------------------------------------------------------------------------------\n",
    "# 회귀 모형(regressor)와 이 분류기의 예측값을 표현할 영역(x, y축)을 전달하면 예측값을 표시\n",
    "# * 코드를 모두 이해하실 필요는 없으며, 함수로 전달되는 매개변수와 이 함수의 수행결과를 연계하여 \n",
    "#   함수가 수행하는 작업에 대해서만 이해하고, 추후에 코드를 재활용하실 수 있으면 됩니다.\n",
    "####################################################################################################\n",
    "def plot_predictions(regressors, X, y, axes, label=None, style=\"r-\", data_style=\"b.\", data_label=None):\n",
    "    x1 = np.linspace(axes[0], axes[1], 500)\n",
    "    y_pred = sum(regressor.predict(x1.reshape(-1, 1)) for regressor in regressors)\n",
    "    plt.plot(X[:, 0], y, data_style, label=data_label)\n",
    "    plt.plot(x1, y_pred, style, linewidth=2, label=label)\n",
    "    if label or data_label:\n",
    "        plt.legend(loc=\"upper center\", fontsize=16)\n",
    "    plt.axis(axes)"
   ]
  },
  {
   "cell_type": "code",
   "execution_count": null,
   "metadata": {
    "ExecuteTime": {
     "end_time": "2022-05-02T15:15:14.629422Z",
     "start_time": "2022-05-02T15:15:13.202423Z"
    }
   },
   "outputs": [],
   "source": [
    "####################################################################################################\n",
    "# 각 단계의 모델별로 예측값과 잔차를 보여주는 그래프를 그린다.\n",
    "####################################################################################################\n",
    "plt.figure(figsize=(11,11))\n",
    "\n",
    "plt.subplot(321)\n",
    "plot_predictions([tree_reg1], X, y, axes=[-0.5, 0.5, -0.1, 0.8], label=\"$h_1(x_1)$\", style=\"g-\", data_label=\"Training set\")\n",
    "plt.ylabel(\"$y$\", fontsize=16, rotation=0)\n",
    "plt.title(\"Residuals and tree predictions\", fontsize=16)\n",
    "\n",
    "plt.subplot(322)\n",
    "plot_predictions([tree_reg1], X, y, axes=[-0.5, 0.5, -0.1, 0.8], label=\"$h(x_1) = h_1(x_1)$\", data_label=\"Training set\")\n",
    "plt.ylabel(\"$y$\", fontsize=16, rotation=0)\n",
    "plt.title(\"Ensemble predictions\", fontsize=16)\n",
    "\n",
    "plt.subplot(323)\n",
    "plot_predictions([tree_reg2], X, y2, axes=[-0.5, 0.5, -0.5, 0.5], label=\"$h_2(x_1)$\", style=\"g-\", data_style=\"k+\", data_label=\"Residuals\")\n",
    "plt.ylabel(\"$y - h_1(x_1)$\", fontsize=16)\n",
    "\n",
    "plt.subplot(324)\n",
    "plot_predictions([tree_reg1, tree_reg2], X, y, axes=[-0.5, 0.5, -0.1, 0.8], label=\"$h(x_1) = h_1(x_1) + h_2(x_1)$\")\n",
    "plt.ylabel(\"$y$\", fontsize=16, rotation=0)\n",
    "\n",
    "plt.subplot(325)\n",
    "plot_predictions([tree_reg3], X, y3, axes=[-0.5, 0.5, -0.5, 0.5], label=\"$h_3(x_1)$\", style=\"g-\", data_style=\"k+\")\n",
    "plt.ylabel(\"$y - h_1(x_1) - h_2(x_1)$\", fontsize=16)\n",
    "plt.xlabel(\"$x_1$\", fontsize=16)\n",
    "\n",
    "plt.subplot(326)\n",
    "plot_predictions([tree_reg1, tree_reg2, tree_reg3], X, y, axes=[-0.5, 0.5, -0.1, 0.8], label=\"$h(x_1) = h_1(x_1) + h_2(x_1) + h_3(x_1)$\")\n",
    "plt.xlabel(\"$x_1$\", fontsize=16)\n",
    "plt.ylabel(\"$y$\", fontsize=16, rotation=0)\n",
    "\n",
    "save_fig(\"gradient_boosting_plot\")\n",
    "plt.show()"
   ]
  },
  {
   "cell_type": "markdown",
   "metadata": {},
   "source": [
    "Now let's try a gradient boosting regressor:"
   ]
  },
  {
   "cell_type": "code",
   "execution_count": null,
   "metadata": {
    "ExecuteTime": {
     "end_time": "2022-05-02T15:22:59.698393Z",
     "start_time": "2022-05-02T15:22:59.681395Z"
    }
   },
   "outputs": [],
   "source": [
    "####################################################################################################\n",
    "# 그레이디언트 부스팅의 실제 구현 코드 (예측기를 너무 적게 포함하여 과소적합된 모델)\n",
    "####################################################################################################\n",
    "from sklearn.ensemble import GradientBoostingRegressor\n",
    "\n",
    "gbrt = GradientBoostingRegressor(max_depth=2, n_estimators=3, learning_rate=1.0, random_state=42)\n",
    "gbrt.fit(X, y)"
   ]
  },
  {
   "cell_type": "markdown",
   "metadata": {},
   "source": [
    "**Code to generate Figure 7–10. GBRT ensembles with not enough predictors (left) and too many (right):**"
   ]
  },
  {
   "cell_type": "code",
   "execution_count": null,
   "metadata": {
    "ExecuteTime": {
     "end_time": "2022-05-02T15:23:11.083448Z",
     "start_time": "2022-05-02T15:23:11.040448Z"
    }
   },
   "outputs": [],
   "source": [
    "####################################################################################################\n",
    "# 그레이디언트 부스팅의 실제 구현 코드 (예측기를 너무 많이 포함하여 과대적합된 모델)\n",
    "####################################################################################################\n",
    "gbrt_slow = GradientBoostingRegressor(max_depth=2, n_estimators=200, learning_rate=0.1, random_state=42)\n",
    "gbrt_slow.fit(X, y)"
   ]
  },
  {
   "cell_type": "code",
   "execution_count": null,
   "metadata": {
    "ExecuteTime": {
     "end_time": "2022-05-02T15:23:15.090825Z",
     "start_time": "2022-05-02T15:23:14.675827Z"
    }
   },
   "outputs": [],
   "source": [
    "####################################################################################################\n",
    "# 두 개의 그레이디언트 부스팅 모델을 비교\n",
    "####################################################################################################\n",
    "fix, axes = plt.subplots(ncols=2, figsize=(10,4), sharey=True)\n",
    "\n",
    "plt.sca(axes[0])\n",
    "plot_predictions([gbrt], X, y, axes=[-0.5, 0.5, -0.1, 0.8], label=\"Ensemble predictions\")\n",
    "plt.title(\"learning_rate={}, n_estimators={}\".format(gbrt.learning_rate, gbrt.n_estimators), fontsize=14)\n",
    "plt.xlabel(\"$x_1$\", fontsize=16)\n",
    "plt.ylabel(\"$y$\", fontsize=16, rotation=0)\n",
    "\n",
    "plt.sca(axes[1])\n",
    "plot_predictions([gbrt_slow], X, y, axes=[-0.5, 0.5, -0.1, 0.8])\n",
    "plt.title(\"learning_rate={}, n_estimators={}\".format(gbrt_slow.learning_rate, gbrt_slow.n_estimators), fontsize=14)\n",
    "plt.xlabel(\"$x_1$\", fontsize=16)\n",
    "\n",
    "save_fig(\"gbrt_learning_rate_plot\")\n",
    "plt.show()"
   ]
  },
  {
   "cell_type": "markdown",
   "metadata": {},
   "source": [
    "**Gradient Boosting with Early stopping:**"
   ]
  },
  {
   "cell_type": "code",
   "execution_count": null,
   "metadata": {
    "ExecuteTime": {
     "end_time": "2022-05-02T15:29:49.080224Z",
     "start_time": "2022-05-02T15:29:49.020225Z"
    }
   },
   "outputs": [],
   "source": [
    "####################################################################################################\n",
    "# 그레이디언트 부스팅의 실제 구현 코드1 (최적의 예측기 수를 찾기 위한 방법)\n",
    "####################################################################################################\n",
    "import numpy as np\n",
    "from sklearn.model_selection import train_test_split\n",
    "from sklearn.metrics import mean_squared_error\n",
    "\n",
    "X_train, X_val, y_train, y_val = train_test_split(X, y, random_state=49)\n",
    "\n",
    "gbrt = GradientBoostingRegressor(max_depth=2, n_estimators=120, random_state=42)\n",
    "gbrt.fit(X_train, y_train)\n",
    "\n",
    "errors = [mean_squared_error(y_val, y_pred)\n",
    "          for y_pred in gbrt.staged_predict(X_val)]\n",
    "bst_n_estimators = np.argmin(errors) + 1               # optimal number of trees whose sum of errors is the minimum\n",
    "\n",
    "gbrt_best = GradientBoostingRegressor(max_depth=2, n_estimators=bst_n_estimators, random_state=42)\n",
    "gbrt_best.fit(X_train, y_train)"
   ]
  },
  {
   "cell_type": "code",
   "execution_count": null,
   "metadata": {
    "ExecuteTime": {
     "end_time": "2022-05-02T15:29:49.487000Z",
     "start_time": "2022-05-02T15:29:49.460002Z"
    }
   },
   "outputs": [],
   "source": [
    "####################################################################################################\n",
    "# 가장 작은 에러가 발견되는 위치를 보여주기 위한 코드\n",
    "####################################################################################################\n",
    "print(np.argmin(errors))\n",
    "for idx, error in enumerate(errors):\n",
    "    print(idx, error)"
   ]
  },
  {
   "cell_type": "markdown",
   "metadata": {},
   "source": [
    "**Code to generate Figure 7–11. Tuning the number of trees using early stopping:**"
   ]
  },
  {
   "cell_type": "code",
   "execution_count": null,
   "metadata": {
    "ExecuteTime": {
     "end_time": "2022-05-02T15:39:16.635618Z",
     "start_time": "2022-05-02T15:39:16.621619Z"
    }
   },
   "outputs": [],
   "source": [
    "####################################################################################################\n",
    "# 가장 작은 에러를 변수에 저장\n",
    "####################################################################################################\n",
    "min_error = np.min(errors)"
   ]
  },
  {
   "cell_type": "code",
   "execution_count": null,
   "metadata": {
    "ExecuteTime": {
     "end_time": "2022-05-02T15:39:17.431618Z",
     "start_time": "2022-05-02T15:39:16.981620Z"
    }
   },
   "outputs": [],
   "source": [
    "####################################################################################################\n",
    "# 가장 작은 에러가 발견되는 트리 수와 그 때의 모델을 그래프로 보여주기 위한 코드\n",
    "####################################################################################################\n",
    "plt.figure(figsize=(10, 4))\n",
    "\n",
    "plt.subplot(121)\n",
    "plt.plot(np.arange(1, len(errors) + 1), errors, \"b.-\")\n",
    "plt.plot([bst_n_estimators, bst_n_estimators], [0, min_error], \"k--\")\n",
    "plt.plot([0, 120], [min_error, min_error], \"k--\")\n",
    "plt.plot(bst_n_estimators, min_error, \"ko\")\n",
    "plt.text(bst_n_estimators, min_error*1.2, \"Minimum\", ha=\"center\", fontsize=14)\n",
    "plt.axis([0, 120, 0, 0.01])\n",
    "plt.xlabel(\"Number of trees\")\n",
    "plt.ylabel(\"Error\", fontsize=16)\n",
    "plt.title(\"Validation error\", fontsize=14)\n",
    "\n",
    "plt.subplot(122)\n",
    "plot_predictions([gbrt_best], X, y, axes=[-0.5, 0.5, -0.1, 0.8])\n",
    "plt.title(\"Best model (%d trees)\" % bst_n_estimators, fontsize=14)\n",
    "plt.ylabel(\"$y$\", fontsize=16, rotation=0)\n",
    "plt.xlabel(\"$x_1$\", fontsize=16)\n",
    "\n",
    "save_fig(\"early_stopping_gbrt_plot\")\n",
    "plt.show()"
   ]
  },
  {
   "cell_type": "markdown",
   "metadata": {},
   "source": [
    "Early stopping with some patience (interrupts training only after there's no improvement for 5 epochs):"
   ]
  },
  {
   "cell_type": "code",
   "execution_count": null,
   "metadata": {
    "ExecuteTime": {
     "end_time": "2022-05-02T15:39:20.446552Z",
     "start_time": "2022-05-02T15:39:20.396554Z"
    }
   },
   "outputs": [],
   "source": [
    "####################################################################################################\n",
    "# 그레이디언트 부스팅의 실제 구현 코드2 (최적의 예측기 수를 찾으면 조기 종료하기 위한 방법)\n",
    "####################################################################################################\n",
    "gbrt = GradientBoostingRegressor(max_depth=2, warm_start=True, random_state=42)\n",
    "\n",
    "min_val_error = float(\"inf\")\n",
    "error_going_up = 0\n",
    "for n_estimators in range(1, 120):\n",
    "    gbrt.n_estimators = n_estimators               # 모델에 포함될 예측기의 갯수를 점차 증가시키며\n",
    "    gbrt.fit(X_train, y_train)                     # 훈련하여\n",
    "    y_pred = gbrt.predict(X_val)                   # 예측값을 구하고\n",
    "    val_error = mean_squared_error(y_val, y_pred)  # 성능을 측정하여\n",
    "    if val_error < min_val_error:                  # 에러가 감소(성능이 향상)되었으면\n",
    "        min_val_error = val_error                  # 최소 에러값을 새로운 에러값으로 대체하고\n",
    "        error_going_up = 0                         # 에러가 감소했으므로 에러가 증가한 횟수를 0으로 초기화\n",
    "    else:                                          # 에러가 증가했으면(성능이 저하)\n",
    "        error_going_up += 1                        # 에러 증가 횟수를 1 증가\n",
    "        if error_going_up == 5:                    # 에러 증가 횟수가 5이면 (우연히 계속 증가하고 있다고 보기는 어렵다고 판단되는 횟수를 지정)\n",
    "            break  # early stopping                # 훈련을 중단"
   ]
  },
  {
   "cell_type": "code",
   "execution_count": null,
   "metadata": {
    "ExecuteTime": {
     "end_time": "2022-05-02T15:39:22.276448Z",
     "start_time": "2022-05-02T15:39:22.269451Z"
    }
   },
   "outputs": [],
   "source": [
    "####################################################################################################\n",
    "# 훈련이 중단된 위치로부터 5번 이전이 최저 에러일 것이므로 이를 반영하여 최소 위치 확인\n",
    "####################################################################################################\n",
    "#print(gbrt.n_estimators)\n",
    "print(gbrt.n_estimators - 5)    # the minum error reached 5 epochs earlier"
   ]
  },
  {
   "cell_type": "code",
   "execution_count": null,
   "metadata": {
    "ExecuteTime": {
     "end_time": "2022-05-02T15:39:27.677359Z",
     "start_time": "2022-05-02T15:39:27.668360Z"
    }
   },
   "outputs": [],
   "source": [
    "print(\"Minimum validation MSE:\", min_val_error)"
   ]
  },
  {
   "cell_type": "markdown",
   "metadata": {},
   "source": [
    "**Using XGBoost:**"
   ]
  },
  {
   "cell_type": "code",
   "execution_count": null,
   "metadata": {
    "ExecuteTime": {
     "end_time": "2022-05-02T15:39:43.117154Z",
     "start_time": "2022-05-02T15:39:43.029155Z"
    }
   },
   "outputs": [],
   "source": [
    "####################################################################################################\n",
    "# 이 코드셀의 내용은 무시해도 됩니다.\n",
    "####################################################################################################\n",
    "try:\n",
    "    import xgboost\n",
    "except ImportError as ex:\n",
    "    print(\"Error: the xgboost library is not installed.\")\n",
    "    xgboost = None"
   ]
  },
  {
   "cell_type": "code",
   "execution_count": null,
   "metadata": {
    "ExecuteTime": {
     "end_time": "2022-05-02T15:39:52.333869Z",
     "start_time": "2022-05-02T15:39:52.250868Z"
    }
   },
   "outputs": [],
   "source": [
    "####################################################################################################\n",
    "# 이 코드셀의 내용은 무시해도 됩니다.\n",
    "####################################################################################################\n",
    "if xgboost is not None:  # not shown in the book\n",
    "    xgb_reg = xgboost.XGBRegressor(random_state=42)\n",
    "    xgb_reg.fit(X_train, y_train)\n",
    "    y_pred = xgb_reg.predict(X_val)\n",
    "    val_error = mean_squared_error(y_val, y_pred) # Not shown\n",
    "    print(\"Validation MSE:\", val_error)           # Not shown"
   ]
  },
  {
   "cell_type": "code",
   "execution_count": null,
   "metadata": {
    "ExecuteTime": {
     "end_time": "2022-05-02T15:39:55.198797Z",
     "start_time": "2022-05-02T15:39:55.148798Z"
    }
   },
   "outputs": [],
   "source": [
    "####################################################################################################\n",
    "# 이 코드셀의 내용은 무시해도 됩니다.\n",
    "####################################################################################################\n",
    "if xgboost is not None:  # not shown in the book\n",
    "    xgb_reg.fit(X_train, y_train,\n",
    "                eval_set=[(X_val, y_val)], early_stopping_rounds=2)\n",
    "    y_pred = xgb_reg.predict(X_val)\n",
    "    val_error = mean_squared_error(y_val, y_pred)  # Not shown\n",
    "    print(\"Validation MSE:\", val_error)            # Not shown"
   ]
  },
  {
   "cell_type": "code",
   "execution_count": null,
   "metadata": {
    "ExecuteTime": {
     "end_time": "2022-05-02T15:40:45.221275Z",
     "start_time": "2022-05-02T15:40:41.434275Z"
    }
   },
   "outputs": [],
   "source": [
    "####################################################################################################\n",
    "# 이 코드셀의 내용은 무시해도 됩니다.\n",
    "####################################################################################################\n",
    "%timeit xgboost.XGBRegressor().fit(X_train, y_train) if xgboost is not None else None"
   ]
  },
  {
   "cell_type": "code",
   "execution_count": null,
   "metadata": {
    "ExecuteTime": {
     "end_time": "2022-05-02T15:40:58.383167Z",
     "start_time": "2022-05-02T15:40:46.584166Z"
    }
   },
   "outputs": [],
   "source": [
    "####################################################################################################\n",
    "# 이 코드셀의 내용은 무시해도 됩니다.\n",
    "####################################################################################################\n",
    "%timeit GradientBoostingRegressor().fit(X_train, y_train)"
   ]
  },
  {
   "cell_type": "markdown",
   "metadata": {},
   "source": [
    "# Exercise solutions"
   ]
  },
  {
   "cell_type": "markdown",
   "metadata": {},
   "source": [
    "## 1. to 7."
   ]
  },
  {
   "cell_type": "markdown",
   "metadata": {},
   "source": [
    "See Appendix A."
   ]
  },
  {
   "cell_type": "markdown",
   "metadata": {},
   "source": [
    "## 8. Voting Classifier"
   ]
  },
  {
   "cell_type": "markdown",
   "metadata": {},
   "source": [
    "Exercise: _Load the MNIST data and split it into a training set, a validation set, and a test set (e.g., use 50,000 instances for training, 10,000 for validation, and 10,000 for testing)._"
   ]
  },
  {
   "cell_type": "markdown",
   "metadata": {},
   "source": [
    "The MNIST dataset was loaded earlier."
   ]
  },
  {
   "cell_type": "code",
   "execution_count": null,
   "metadata": {
    "ExecuteTime": {
     "end_time": "2022-05-02T15:41:48.654216Z",
     "start_time": "2022-05-02T15:41:30.590215Z"
    },
    "solution2": "hidden",
    "solution2_first": true
   },
   "outputs": [],
   "source": [
    "####################################################################################################\n",
    "# mnist dataset을 mnist변수에 저장합니다.\n",
    "####################################################################################################\n",
    "\n",
    "# Write your code here."
   ]
  },
  {
   "cell_type": "code",
   "execution_count": null,
   "metadata": {
    "ExecuteTime": {
     "end_time": "2022-05-02T15:41:48.654216Z",
     "start_time": "2022-05-02T15:41:30.590215Z"
    },
    "solution2": "hidden"
   },
   "outputs": [],
   "source": [
    "####################################################################################################\n",
    "# mnist dataset을 mnist변수에 저장합니다.\n",
    "####################################################################################################\n",
    "from sklearn.datasets import fetch_openml\n",
    "from sklearn.model_selection import train_test_split\n",
    "import numpy as np\n",
    "\n",
    "mnist = fetch_openml('mnist_784', version=1, as_frame=False)\n",
    "mnist.target = mnist.target.astype(np.uint8)"
   ]
  },
  {
   "cell_type": "code",
   "execution_count": null,
   "metadata": {
    "ExecuteTime": {
     "end_time": "2022-05-02T15:42:23.764457Z",
     "start_time": "2022-05-02T15:42:22.355459Z"
    },
    "solution2": "hidden",
    "solution2_first": true
   },
   "outputs": [],
   "source": [
    "####################################################################################################\n",
    "# mnist dataset(입력, 타깃)을 학습/검증/테스트 데이터셋으로 분할합니다.\n",
    "# --------------------------------------------------------------------------------------------------\n",
    "# 1차 분할: 전체 --> 학습+검증/테스트\n",
    "# 2차 분할: 학습+검증 --> 학습/검증\n",
    "####################################################################################################\n",
    "\n",
    "# Write your code here."
   ]
  },
  {
   "cell_type": "code",
   "execution_count": null,
   "metadata": {
    "ExecuteTime": {
     "end_time": "2022-05-02T15:42:23.764457Z",
     "start_time": "2022-05-02T15:42:22.355459Z"
    },
    "solution2": "hidden"
   },
   "outputs": [],
   "source": [
    "####################################################################################################\n",
    "# mnist dataset(입력, 타깃)을 학습/검증/테스트 데이터셋으로 분할합니다.\n",
    "# --------------------------------------------------------------------------------------------------\n",
    "# 1차 분할: 전체 --> 학습+검증/테스트\n",
    "# 2차 분할: 학습+검증 --> 학습/검증\n",
    "####################################################################################################\n",
    "X_train_val, X_test, y_train_val, y_test = train_test_split(\n",
    "    mnist.data, mnist.target, test_size=10000, random_state=42)\n",
    "X_train, X_val, y_train, y_val = train_test_split(\n",
    "    X_train_val, y_train_val, test_size=10000, random_state=42)"
   ]
  },
  {
   "cell_type": "markdown",
   "metadata": {},
   "source": [
    "Exercise: _Then train various classifiers, such as a Random Forest classifier, an Extra-Trees classifier, and an SVM._"
   ]
  },
  {
   "cell_type": "code",
   "execution_count": null,
   "metadata": {
    "ExecuteTime": {
     "end_time": "2022-05-02T15:42:26.578613Z",
     "start_time": "2022-05-02T15:42:26.562616Z"
    }
   },
   "outputs": [],
   "source": [
    "####################################################################################################\n",
    "# 여러 분류기 클래스를 임포트 합니다.\n",
    "####################################################################################################\n",
    "from sklearn.ensemble import RandomForestClassifier, ExtraTreesClassifier\n",
    "from sklearn.svm import LinearSVC, SVC\n",
    "from sklearn.neural_network import MLPClassifier"
   ]
  },
  {
   "cell_type": "code",
   "execution_count": null,
   "metadata": {
    "ExecuteTime": {
     "end_time": "2022-05-02T15:42:28.729119Z",
     "start_time": "2022-05-02T15:42:28.715121Z"
    },
    "solution2": "hidden",
    "solution2_first": true
   },
   "outputs": [],
   "source": [
    "####################################################################################################\n",
    "# 분류기를 생성합니다.\n",
    "####################################################################################################\n",
    "\n",
    "# Write your code here."
   ]
  },
  {
   "cell_type": "code",
   "execution_count": null,
   "metadata": {
    "ExecuteTime": {
     "end_time": "2022-05-02T15:42:28.729119Z",
     "start_time": "2022-05-02T15:42:28.715121Z"
    },
    "solution2": "hidden"
   },
   "outputs": [],
   "source": [
    "####################################################################################################\n",
    "# 분류기를 생성합니다.\n",
    "####################################################################################################\n",
    "random_forest_clf = RandomForestClassifier(n_estimators=100, random_state=42)\n",
    "extra_trees_clf = ExtraTreesClassifier(n_estimators=100, random_state=42)\n",
    "svm_clf = LinearSVC(max_iter=100, tol=20, random_state=42)\n",
    "mlp_clf = MLPClassifier(random_state=42)"
   ]
  },
  {
   "cell_type": "code",
   "execution_count": null,
   "metadata": {
    "ExecuteTime": {
     "end_time": "2022-05-02T15:44:22.888859Z",
     "start_time": "2022-05-02T15:42:30.635861Z"
    },
    "scrolled": true,
    "solution2": "hidden",
    "solution2_first": true
   },
   "outputs": [],
   "source": [
    "####################################################################################################\n",
    "# 분류기를 훈련합니다.\n",
    "####################################################################################################\n",
    "\n",
    "# Write your code here. "
   ]
  },
  {
   "cell_type": "code",
   "execution_count": null,
   "metadata": {
    "ExecuteTime": {
     "end_time": "2022-05-02T15:44:22.888859Z",
     "start_time": "2022-05-02T15:42:30.635861Z"
    },
    "scrolled": true,
    "solution2": "hidden"
   },
   "outputs": [],
   "source": [
    "####################################################################################################\n",
    "# 분류기를 훈련합니다.\n",
    "####################################################################################################\n",
    "estimators = [random_forest_clf, extra_trees_clf, svm_clf, mlp_clf]\n",
    "for estimator in estimators:\n",
    "    print(\"Training the\", estimator)\n",
    "    estimator.fit(X_train, y_train)    "
   ]
  },
  {
   "cell_type": "code",
   "execution_count": null,
   "metadata": {
    "ExecuteTime": {
     "end_time": "2022-05-02T15:44:23.728860Z",
     "start_time": "2022-05-02T15:44:23.011861Z"
    },
    "solution2": "hidden",
    "solution2_first": true
   },
   "outputs": [],
   "source": [
    "####################################################################################################\n",
    "# 훈련된 분류기의 성능을 구합니다.\n",
    "####################################################################################################\n",
    "\n",
    "# Write your code here."
   ]
  },
  {
   "cell_type": "code",
   "execution_count": null,
   "metadata": {
    "ExecuteTime": {
     "end_time": "2022-05-02T15:44:23.728860Z",
     "start_time": "2022-05-02T15:44:23.011861Z"
    },
    "solution2": "hidden"
   },
   "outputs": [],
   "source": [
    "####################################################################################################\n",
    "# 훈련된 분류기의 성능을 구합니다.\n",
    "####################################################################################################\n",
    "[estimator.score(X_val, y_val) for estimator in estimators]"
   ]
  },
  {
   "cell_type": "markdown",
   "metadata": {},
   "source": [
    "The linear SVM is far outperformed by the other classifiers. However, let's keep it for now since it may improve the voting classifier's performance."
   ]
  },
  {
   "cell_type": "markdown",
   "metadata": {},
   "source": [
    "Exercise: _Next, try to combine them into an ensemble that outperforms them all on the validation set, using a soft or hard voting classifier._"
   ]
  },
  {
   "cell_type": "code",
   "execution_count": null,
   "metadata": {
    "ExecuteTime": {
     "end_time": "2022-05-02T15:44:23.833859Z",
     "start_time": "2022-05-02T15:44:23.819861Z"
    },
    "solution2": "hidden",
    "solution2_first": true
   },
   "outputs": [],
   "source": [
    "####################################################################################################\n",
    "# 투표 분류기를 사용하기 위해 VotingClassifier 클래스를 임포트합니다.\n",
    "####################################################################################################\n",
    "\n",
    "# Write your code here."
   ]
  },
  {
   "cell_type": "code",
   "execution_count": null,
   "metadata": {
    "ExecuteTime": {
     "end_time": "2022-05-02T15:44:23.833859Z",
     "start_time": "2022-05-02T15:44:23.819861Z"
    },
    "solution2": "hidden"
   },
   "outputs": [],
   "source": [
    "####################################################################################################\n",
    "# 투표 분류기를 사용하기 위해 VotingClassifier 클래스를 임포트합니다.\n",
    "####################################################################################################\n",
    "from sklearn.ensemble import VotingClassifier"
   ]
  },
  {
   "cell_type": "code",
   "execution_count": null,
   "metadata": {
    "ExecuteTime": {
     "end_time": "2022-05-02T16:00:54.612025Z",
     "start_time": "2022-05-02T16:00:54.602023Z"
    },
    "solution2": "hidden",
    "solution2_first": true
   },
   "outputs": [],
   "source": [
    "####################################################################################################\n",
    "# 개별 분류기를 리스트에 저장합니다.\n",
    "####################################################################################################\n",
    "\n",
    "# Write your code here."
   ]
  },
  {
   "cell_type": "code",
   "execution_count": null,
   "metadata": {
    "ExecuteTime": {
     "end_time": "2022-05-02T16:00:54.612025Z",
     "start_time": "2022-05-02T16:00:54.602023Z"
    },
    "solution2": "hidden"
   },
   "outputs": [],
   "source": [
    "####################################################################################################\n",
    "# 개별 분류기를 리스트에 저장합니다.\n",
    "####################################################################################################\n",
    "named_estimators = [\n",
    "    (\"random_forest_clf\", random_forest_clf),\n",
    "    (\"extra_trees_clf\", extra_trees_clf),\n",
    "    (\"svm_clf\", svm_clf),\n",
    "    (\"mlp_clf\", mlp_clf),\n",
    "]"
   ]
  },
  {
   "cell_type": "code",
   "execution_count": null,
   "metadata": {
    "ExecuteTime": {
     "end_time": "2022-05-02T15:44:24.028859Z",
     "start_time": "2022-05-02T15:44:24.014864Z"
    },
    "solution2": "hidden",
    "solution2_first": true
   },
   "outputs": [],
   "source": [
    "####################################################################################################\n",
    "# 저장된 리스트를 파라미터로 전달하며 직접 투표 분류기를 생성합니다.\n",
    "####################################################################################################\n",
    "\n",
    "# Write your code here."
   ]
  },
  {
   "cell_type": "code",
   "execution_count": null,
   "metadata": {
    "ExecuteTime": {
     "end_time": "2022-05-02T15:44:24.028859Z",
     "start_time": "2022-05-02T15:44:24.014864Z"
    },
    "solution2": "hidden"
   },
   "outputs": [],
   "source": [
    "####################################################################################################\n",
    "# 저장된 리스트를 파라미터로 전달하며 직접 투표 분류기를 생성합니다.\n",
    "####################################################################################################\n",
    "voting_clf = VotingClassifier(named_estimators)"
   ]
  },
  {
   "cell_type": "code",
   "execution_count": null,
   "metadata": {
    "ExecuteTime": {
     "end_time": "2022-05-02T15:46:17.009862Z",
     "start_time": "2022-05-02T15:44:24.120862Z"
    },
    "solution2": "hidden",
    "solution2_first": true
   },
   "outputs": [],
   "source": [
    "####################################################################################################\n",
    "# 직접 투표 분류기를 훈련합니다.\n",
    "####################################################################################################\n",
    "\n",
    "# Write your code here."
   ]
  },
  {
   "cell_type": "code",
   "execution_count": null,
   "metadata": {
    "ExecuteTime": {
     "end_time": "2022-05-02T15:46:17.009862Z",
     "start_time": "2022-05-02T15:44:24.120862Z"
    },
    "solution2": "hidden"
   },
   "outputs": [],
   "source": [
    "####################################################################################################\n",
    "# 직접 투표 분류기를 훈련합니다.\n",
    "####################################################################################################\n",
    "voting_clf.fit(X_train, y_train)"
   ]
  },
  {
   "cell_type": "code",
   "execution_count": null,
   "metadata": {
    "ExecuteTime": {
     "end_time": "2022-05-02T15:46:17.894859Z",
     "start_time": "2022-05-02T15:46:17.131861Z"
    },
    "solution2": "hidden",
    "solution2_first": true
   },
   "outputs": [],
   "source": [
    "####################################################################################################\n",
    "# 직접 투표 분류기의 성능을 확인합니다.\n",
    "\n",
    "# Write your code here."
   ]
  },
  {
   "cell_type": "code",
   "execution_count": null,
   "metadata": {
    "ExecuteTime": {
     "end_time": "2022-05-02T15:46:17.894859Z",
     "start_time": "2022-05-02T15:46:17.131861Z"
    },
    "solution2": "hidden"
   },
   "outputs": [],
   "source": [
    "####################################################################################################\n",
    "# 직접 투표 분류기의 성능을 확인합니다.\n",
    "####################################################################################################\n",
    "voting_clf.score(X_val, y_val)"
   ]
  },
  {
   "cell_type": "code",
   "execution_count": null,
   "metadata": {
    "ExecuteTime": {
     "end_time": "2022-05-02T15:46:18.675860Z",
     "start_time": "2022-05-02T15:46:17.986861Z"
    },
    "solution2": "hidden",
    "solution2_first": true
   },
   "outputs": [],
   "source": [
    "####################################################################################################\n",
    "# 직접 투표 분류기에 속한 개별 분류기의 성능을 확인합니다.\n",
    "####################################################################################################\n",
    "\n",
    "# Write your code here."
   ]
  },
  {
   "cell_type": "code",
   "execution_count": null,
   "metadata": {
    "ExecuteTime": {
     "end_time": "2022-05-02T15:46:18.675860Z",
     "start_time": "2022-05-02T15:46:17.986861Z"
    },
    "solution2": "hidden"
   },
   "outputs": [],
   "source": [
    "####################################################################################################\n",
    "# 직접 투표 분류기에 속한 개별 분류기의 성능을 확인합니다.\n",
    "####################################################################################################\n",
    "[estimator.score(X_val, y_val) for estimator in voting_clf.estimators_]"
   ]
  },
  {
   "cell_type": "markdown",
   "metadata": {},
   "source": [
    "Let's remove the SVM to see if performance improves. It is possible to remove an estimator by setting it to `None` using `set_params()` like this:"
   ]
  },
  {
   "cell_type": "code",
   "execution_count": null,
   "metadata": {
    "ExecuteTime": {
     "end_time": "2022-05-02T15:46:18.795861Z",
     "start_time": "2022-05-02T15:46:18.782861Z"
    },
    "solution2": "hidden",
    "solution2_first": true
   },
   "outputs": [],
   "source": [
    "####################################################################################################\n",
    "# 가장 성능이 낮은 분류기를 제거합니다.\n",
    "# --------------------------------------------------------------------------------------------------\n",
    "# 모델객체 파라미터에 None 값을 설정하면 됩니다.\n",
    "####################################################################################################\n",
    "\n",
    "# Write your code here."
   ]
  },
  {
   "cell_type": "code",
   "execution_count": null,
   "metadata": {
    "ExecuteTime": {
     "end_time": "2022-05-02T15:46:18.795861Z",
     "start_time": "2022-05-02T15:46:18.782861Z"
    },
    "solution2": "hidden"
   },
   "outputs": [],
   "source": [
    "####################################################################################################\n",
    "# 가장 성능이 낮은 분류기를 제거합니다.\n",
    "# --------------------------------------------------------------------------------------------------\n",
    "# 모델객체 파라미터에 None 값을 설정하면 됩니다.\n",
    "####################################################################################################\n",
    "voting_clf.set_params(svm_clf=None)"
   ]
  },
  {
   "cell_type": "markdown",
   "metadata": {},
   "source": [
    "This updated the list of estimators:"
   ]
  },
  {
   "cell_type": "code",
   "execution_count": null,
   "metadata": {
    "ExecuteTime": {
     "end_time": "2022-05-02T15:46:18.900860Z",
     "start_time": "2022-05-02T15:46:18.888861Z"
    },
    "solution2": "hidden",
    "solution2_first": true
   },
   "outputs": [],
   "source": [
    "####################################################################################################\n",
    "# 분류기 목록을 확인합니다.\n",
    "# --------------------------------------------------------------------------------------------------\n",
    "# 제거 대상 모델객체의 파라미터에 None 값이 설정된 것을 확인하면 됩니다.\n",
    "####################################################################################################\n",
    "\n",
    "# Write your code here."
   ]
  },
  {
   "cell_type": "code",
   "execution_count": null,
   "metadata": {
    "ExecuteTime": {
     "end_time": "2022-05-02T15:46:18.900860Z",
     "start_time": "2022-05-02T15:46:18.888861Z"
    },
    "solution2": "hidden"
   },
   "outputs": [],
   "source": [
    "####################################################################################################\n",
    "# 분류기 목록을 확인합니다.\n",
    "# --------------------------------------------------------------------------------------------------\n",
    "# 제거 대상 모델객체의 파라미터에 None 값이 설정된 것을 확인하면 됩니다.\n",
    "####################################################################################################\n",
    "voting_clf.estimators"
   ]
  },
  {
   "cell_type": "markdown",
   "metadata": {},
   "source": [
    "However, it did not update the list of _trained_ estimators:"
   ]
  },
  {
   "cell_type": "code",
   "execution_count": null,
   "metadata": {
    "ExecuteTime": {
     "end_time": "2022-05-02T15:46:19.005860Z",
     "start_time": "2022-05-02T15:46:18.991859Z"
    },
    "solution2": "hidden",
    "solution2_first": true
   },
   "outputs": [],
   "source": [
    "####################################################################################################\n",
    "# 훈련된 분류기 목록을 확인합니다.\n",
    "# --------------------------------------------------------------------------------------------------\n",
    "# 제거 대상 모델객체의 파라미터에 None 값이 설정된 것을 확인하면 됩니다.\n",
    "####################################################################################################\n",
    "\n",
    "# Write your code here."
   ]
  },
  {
   "cell_type": "code",
   "execution_count": null,
   "metadata": {
    "ExecuteTime": {
     "end_time": "2022-05-02T15:46:19.005860Z",
     "start_time": "2022-05-02T15:46:18.991859Z"
    },
    "solution2": "hidden"
   },
   "outputs": [],
   "source": [
    "####################################################################################################\n",
    "# 훈련된 분류기 목록을 확인합니다.\n",
    "# --------------------------------------------------------------------------------------------------\n",
    "# 제거 대상 모델객체의 파라미터에 None 값이 설정된 것을 확인하면 됩니다.\n",
    "####################################################################################################\n",
    "voting_clf.estimators_"
   ]
  },
  {
   "cell_type": "markdown",
   "metadata": {},
   "source": [
    "So we can either fit the `VotingClassifier` again, or just remove the SVM from the list of trained estimators:"
   ]
  },
  {
   "cell_type": "code",
   "execution_count": null,
   "metadata": {
    "ExecuteTime": {
     "end_time": "2022-05-02T15:46:19.110861Z",
     "start_time": "2022-05-02T15:46:19.097861Z"
    },
    "solution2": "hidden",
    "solution2_first": true
   },
   "outputs": [],
   "source": [
    "####################################################################################################\n",
    "# 가장 성능이 낮은 분류기(학습된 예측기)를 제거합니다.\n",
    "# --------------------------------------------------------------------------------------------------\n",
    "# del 명령어를 사용합니다.\n",
    "####################################################################################################\n",
    "\n",
    "# Write your code here."
   ]
  },
  {
   "cell_type": "code",
   "execution_count": null,
   "metadata": {
    "ExecuteTime": {
     "end_time": "2022-05-02T15:46:19.110861Z",
     "start_time": "2022-05-02T15:46:19.097861Z"
    },
    "solution2": "hidden"
   },
   "outputs": [],
   "source": [
    "####################################################################################################\n",
    "# 가장 성능이 낮은 분류기(학습된 예측기)를 제거합니다.\n",
    "# --------------------------------------------------------------------------------------------------\n",
    "# del 명령어를 사용합니다.\n",
    "####################################################################################################\n",
    "del voting_clf.estimators_[2]"
   ]
  },
  {
   "cell_type": "markdown",
   "metadata": {},
   "source": [
    "Now let's evaluate the `VotingClassifier` again:"
   ]
  },
  {
   "cell_type": "code",
   "execution_count": null,
   "metadata": {
    "ExecuteTime": {
     "end_time": "2022-05-02T15:46:19.965859Z",
     "start_time": "2022-05-02T15:46:19.202860Z"
    },
    "solution2": "hidden",
    "solution2_first": true
   },
   "outputs": [],
   "source": [
    "####################################################################################################\n",
    "# 직접 투표 분류기의 성능을 확인합니다.\n",
    "# --------------------------------------------------------------------------------------------------\n",
    "# 제거 전보다 성능이 향상된 것을 확인합니다.\n",
    "####################################################################################################\n",
    "\n",
    "# Write your code here."
   ]
  },
  {
   "cell_type": "code",
   "execution_count": null,
   "metadata": {
    "ExecuteTime": {
     "end_time": "2022-05-02T15:46:19.965859Z",
     "start_time": "2022-05-02T15:46:19.202860Z"
    },
    "solution2": "hidden"
   },
   "outputs": [],
   "source": [
    "####################################################################################################\n",
    "# 직접 투표 분류기의 성능을 확인합니다.\n",
    "# --------------------------------------------------------------------------------------------------\n",
    "# 제거 전보다 성능이 향상된 것을 확인합니다.\n",
    "####################################################################################################\n",
    "voting_clf.score(X_val, y_val)"
   ]
  },
  {
   "cell_type": "markdown",
   "metadata": {},
   "source": [
    "A bit better! The SVM was hurting performance. Now let's try using a soft voting classifier. We do not actually need to retrain the classifier, we can just set `voting` to `\"soft\"`:"
   ]
  },
  {
   "cell_type": "code",
   "execution_count": null,
   "metadata": {
    "ExecuteTime": {
     "end_time": "2022-05-02T15:46:20.085859Z",
     "start_time": "2022-05-02T15:46:20.071861Z"
    },
    "solution2": "hidden",
    "solution2_first": true
   },
   "outputs": [],
   "source": [
    "####################################################################################################\n",
    "# 간접 투표 분류기를 사용하기 위해 voting 파라미터를 \"soft\"로 변경합니다.\n",
    "\n",
    "# Write your code here."
   ]
  },
  {
   "cell_type": "code",
   "execution_count": null,
   "metadata": {
    "ExecuteTime": {
     "end_time": "2022-05-02T15:46:20.085859Z",
     "start_time": "2022-05-02T15:46:20.071861Z"
    },
    "solution2": "hidden"
   },
   "outputs": [],
   "source": [
    "####################################################################################################\n",
    "# 간접 투표 분류기를 사용하기 위해 voting 파라미터를 \"soft\"로 변경합니다.\n",
    "####################################################################################################\n",
    "voting_clf.voting = \"soft\""
   ]
  },
  {
   "cell_type": "code",
   "execution_count": null,
   "metadata": {
    "ExecuteTime": {
     "end_time": "2022-05-02T15:46:20.865859Z",
     "start_time": "2022-05-02T15:46:20.176860Z"
    },
    "solution2": "hidden",
    "solution2_first": true
   },
   "outputs": [],
   "source": [
    "####################################################################################################\n",
    "# 간접 투표 분류기의 성능을 확인합니다.\n",
    "####################################################################################################\n",
    "\n",
    "# Write your code here."
   ]
  },
  {
   "cell_type": "code",
   "execution_count": null,
   "metadata": {
    "ExecuteTime": {
     "end_time": "2022-05-02T15:46:20.865859Z",
     "start_time": "2022-05-02T15:46:20.176860Z"
    },
    "solution2": "hidden"
   },
   "outputs": [],
   "source": [
    "####################################################################################################\n",
    "# 간접 투표 분류기의 성능을 확인합니다.\n",
    "####################################################################################################\n",
    "voting_clf.score(X_val, y_val)"
   ]
  },
  {
   "cell_type": "markdown",
   "metadata": {},
   "source": [
    "Nope, hard voting wins in this case."
   ]
  },
  {
   "cell_type": "markdown",
   "metadata": {},
   "source": [
    "_Once you have found one, try it on the test set. How much better does it perform compared to the individual classifiers?_"
   ]
  },
  {
   "cell_type": "code",
   "execution_count": null,
   "metadata": {
    "ExecuteTime": {
     "end_time": "2022-05-02T15:46:21.690861Z",
     "start_time": "2022-05-02T15:46:20.972863Z"
    },
    "solution2": "hidden",
    "solution2_first": true
   },
   "outputs": [],
   "source": [
    "####################################################################################################\n",
    "# 직접 투표 분류기를 사용하기 위해 voting 파라미터를 \"hard\"로 변경한 후 성능을 확인합니다.\n",
    "####################################################################################################\n",
    "\n",
    "# Write your code here."
   ]
  },
  {
   "cell_type": "code",
   "execution_count": null,
   "metadata": {
    "ExecuteTime": {
     "end_time": "2022-05-02T15:46:21.690861Z",
     "start_time": "2022-05-02T15:46:20.972863Z"
    },
    "solution2": "hidden"
   },
   "outputs": [],
   "source": [
    "####################################################################################################\n",
    "# 직접 투표 분류기를 사용하기 위해 voting 파라미터를 \"hard\"로 변경한 후 성능을 확인합니다.\n",
    "####################################################################################################\n",
    "voting_clf.voting = \"hard\"\n",
    "voting_clf.score(X_test, y_test)"
   ]
  },
  {
   "cell_type": "code",
   "execution_count": null,
   "metadata": {
    "ExecuteTime": {
     "end_time": "2022-05-02T15:46:22.470858Z",
     "start_time": "2022-05-02T15:46:21.782862Z"
    },
    "solution2": "hidden",
    "solution2_first": true
   },
   "outputs": [],
   "source": [
    "####################################################################################################\n",
    "# 직접 투표 분류기에 속한 개별 분류기의 성능을 확인합니다.\n",
    "####################################################################################################\n",
    "\n",
    "# Write your code here."
   ]
  },
  {
   "cell_type": "code",
   "execution_count": null,
   "metadata": {
    "ExecuteTime": {
     "end_time": "2022-05-02T15:46:22.470858Z",
     "start_time": "2022-05-02T15:46:21.782862Z"
    },
    "solution2": "hidden"
   },
   "outputs": [],
   "source": [
    "####################################################################################################\n",
    "# 직접 투표 분류기에 속한 개별 분류기의 성능을 확인합니다.\n",
    "####################################################################################################\n",
    "[estimator.score(X_test, y_test) for estimator in voting_clf.estimators_]"
   ]
  },
  {
   "cell_type": "markdown",
   "metadata": {},
   "source": [
    "The voting classifier only very slightly reduced the error rate of the best model in this case."
   ]
  },
  {
   "cell_type": "markdown",
   "metadata": {},
   "source": [
    "## 9. Stacking Ensemble **"
   ]
  },
  {
   "cell_type": "markdown",
   "metadata": {},
   "source": [
    "이 문제는 풀지 않으셔도 됩니다."
   ]
  },
  {
   "cell_type": "markdown",
   "metadata": {},
   "source": [
    "Exercise: _Run the individual classifiers from the previous exercise to make predictions on the validation set, and create a new training set with the resulting predictions: each training instance is a vector containing the set of predictions from all your classifiers for an image, and the target is the image's class. Train a classifier on this new training set._"
   ]
  },
  {
   "cell_type": "code",
   "execution_count": null,
   "metadata": {},
   "outputs": [],
   "source": [
    "X_val_predictions = np.empty((len(X_val), len(estimators)), dtype=np.float32)\n",
    "\n",
    "for index, estimator in enumerate(estimators):\n",
    "    X_val_predictions[:, index] = estimator.predict(X_val)"
   ]
  },
  {
   "cell_type": "code",
   "execution_count": null,
   "metadata": {},
   "outputs": [],
   "source": [
    "X_val_predictions.shape, X_val_predictions"
   ]
  },
  {
   "cell_type": "code",
   "execution_count": null,
   "metadata": {},
   "outputs": [],
   "source": [
    "rnd_forest_blender = RandomForestClassifier(n_estimators=200, oob_score=True, random_state=42)\n",
    "rnd_forest_blender.fit(X_val_predictions, y_val)"
   ]
  },
  {
   "cell_type": "code",
   "execution_count": null,
   "metadata": {},
   "outputs": [],
   "source": [
    "rnd_forest_blender.oob_score_"
   ]
  },
  {
   "cell_type": "markdown",
   "metadata": {},
   "source": [
    "You could fine-tune this blender or try other types of blenders (e.g., an `MLPClassifier`), then select the best one using cross-validation, as always."
   ]
  },
  {
   "cell_type": "markdown",
   "metadata": {},
   "source": [
    "Exercise: _Congratulations, you have just trained a blender, and together with the classifiers they form a stacking ensemble! Now let's evaluate the ensemble on the test set. For each image in the test set, make predictions with all your classifiers, then feed the predictions to the blender to get the ensemble's predictions. How does it compare to the voting classifier you trained earlier?_"
   ]
  },
  {
   "cell_type": "code",
   "execution_count": null,
   "metadata": {},
   "outputs": [],
   "source": [
    "X_test_predictions = np.empty((len(X_test), len(estimators)), dtype=np.float32)\n",
    "\n",
    "for index, estimator in enumerate(estimators):\n",
    "    X_test_predictions[:, index] = estimator.predict(X_test)"
   ]
  },
  {
   "cell_type": "code",
   "execution_count": null,
   "metadata": {},
   "outputs": [],
   "source": [
    "y_pred = rnd_forest_blender.predict(X_test_predictions)"
   ]
  },
  {
   "cell_type": "code",
   "execution_count": null,
   "metadata": {},
   "outputs": [],
   "source": [
    "from sklearn.metrics import accuracy_score"
   ]
  },
  {
   "cell_type": "code",
   "execution_count": null,
   "metadata": {},
   "outputs": [],
   "source": [
    "accuracy_score(y_test, y_pred)"
   ]
  },
  {
   "cell_type": "markdown",
   "metadata": {},
   "source": [
    "This stacking ensemble does not perform as well as the voting classifier we trained earlier, it's not quite as good as the best individual classifier."
   ]
  }
 ],
 "metadata": {
  "kernelspec": {
   "display_name": "Python 3",
   "language": "python",
   "name": "python3"
  },
  "language_info": {
   "codemirror_mode": {
    "name": "ipython",
    "version": 3
   },
   "file_extension": ".py",
   "mimetype": "text/x-python",
   "name": "python",
   "nbconvert_exporter": "python",
   "pygments_lexer": "ipython3",
   "version": "3.7.6"
  },
  "nav_menu": {
   "height": "252px",
   "width": "333px"
  },
  "toc": {
   "base_numbering": 1,
   "nav_menu": {},
   "number_sections": true,
   "sideBar": true,
   "skip_h1_title": false,
   "title_cell": "Table of Contents",
   "title_sidebar": "Contents",
   "toc_cell": false,
   "toc_position": {},
   "toc_section_display": "block",
   "toc_window_display": true
  },
  "varInspector": {
   "cols": {
    "lenName": 16,
    "lenType": 16,
    "lenVar": 40
   },
   "kernels_config": {
    "python": {
     "delete_cmd_postfix": "",
     "delete_cmd_prefix": "del ",
     "library": "var_list.py",
     "varRefreshCmd": "print(var_dic_list())"
    },
    "r": {
     "delete_cmd_postfix": ") ",
     "delete_cmd_prefix": "rm(",
     "library": "var_list.r",
     "varRefreshCmd": "cat(var_dic_list()) "
    }
   },
   "types_to_exclude": [
    "module",
    "function",
    "builtin_function_or_method",
    "instance",
    "_Feature"
   ],
   "window_display": false
  }
 },
 "nbformat": 4,
 "nbformat_minor": 4
}
