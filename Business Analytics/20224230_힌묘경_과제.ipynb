{
 "cells": [
  {
   "cell_type": "markdown",
   "metadata": {},
   "source": [
    "# 1. Data Fetching"
   ]
  },
  {
   "cell_type": "code",
   "execution_count": 1,
   "metadata": {},
   "outputs": [],
   "source": [
    "import os\n",
    "import tarfile\n",
    "import urllib.request\n",
    "\n",
    "DOWNLOAD_ROOT = \"https://raw.githubusercontent.com/rickiepark/handson-ml2/master/\"\n",
    "HOUSING_PATH = os.path.join(\"datasets\", \"housing\")\n",
    "HOUSING_URL = DOWNLOAD_ROOT + \"datasets/housing/housing.tgz\"\n",
    "\n",
    "def fetch_housing_data(housing_url=HOUSING_URL, housing_path=HOUSING_PATH):\n",
    "    if not os.path.isdir(housing_path):\n",
    "        os.makedirs(housing_path)\n",
    "    tgz_path = os.path.join(housing_path, \"housing.tgz\")\n",
    "    urllib.request.urlretrieve(housing_url, tgz_path)\n",
    "    housing_tgz = tarfile.open(tgz_path)\n",
    "    housing_tgz.extractall(path=housing_path)\n",
    "    housing_tgz.close()"
   ]
  },
  {
   "cell_type": "code",
   "execution_count": 2,
   "metadata": {},
   "outputs": [],
   "source": [
    "fetch_housing_data()"
   ]
  },
  {
   "cell_type": "code",
   "execution_count": 3,
   "metadata": {},
   "outputs": [],
   "source": [
    "import pandas as pd\n",
    "\n",
    "def load_housing_data(housing_path=HOUSING_PATH):\n",
    "    csv_path = os.path.join(housing_path, \"housing.csv\")\n",
    "    return pd.read_csv(csv_path)"
   ]
  },
  {
   "cell_type": "code",
   "execution_count": 4,
   "metadata": {},
   "outputs": [],
   "source": [
    "df = load_housing_data()"
   ]
  },
  {
   "cell_type": "code",
   "execution_count": 5,
   "metadata": {},
   "outputs": [],
   "source": [
    "hw = df.copy()"
   ]
  },
  {
   "cell_type": "code",
   "execution_count": 6,
   "metadata": {},
   "outputs": [
    {
     "data": {
      "text/html": [
       "<div>\n",
       "<style scoped>\n",
       "    .dataframe tbody tr th:only-of-type {\n",
       "        vertical-align: middle;\n",
       "    }\n",
       "\n",
       "    .dataframe tbody tr th {\n",
       "        vertical-align: top;\n",
       "    }\n",
       "\n",
       "    .dataframe thead th {\n",
       "        text-align: right;\n",
       "    }\n",
       "</style>\n",
       "<table border=\"1\" class=\"dataframe\">\n",
       "  <thead>\n",
       "    <tr style=\"text-align: right;\">\n",
       "      <th></th>\n",
       "      <th>longitude</th>\n",
       "      <th>latitude</th>\n",
       "      <th>housing_median_age</th>\n",
       "      <th>total_rooms</th>\n",
       "      <th>total_bedrooms</th>\n",
       "      <th>population</th>\n",
       "      <th>households</th>\n",
       "      <th>median_income</th>\n",
       "      <th>median_house_value</th>\n",
       "      <th>ocean_proximity</th>\n",
       "    </tr>\n",
       "  </thead>\n",
       "  <tbody>\n",
       "    <tr>\n",
       "      <th>0</th>\n",
       "      <td>-122.23</td>\n",
       "      <td>37.88</td>\n",
       "      <td>41.0</td>\n",
       "      <td>880.0</td>\n",
       "      <td>129.0</td>\n",
       "      <td>322.0</td>\n",
       "      <td>126.0</td>\n",
       "      <td>8.3252</td>\n",
       "      <td>452600.0</td>\n",
       "      <td>NEAR BAY</td>\n",
       "    </tr>\n",
       "    <tr>\n",
       "      <th>1</th>\n",
       "      <td>-122.22</td>\n",
       "      <td>37.86</td>\n",
       "      <td>21.0</td>\n",
       "      <td>7099.0</td>\n",
       "      <td>1106.0</td>\n",
       "      <td>2401.0</td>\n",
       "      <td>1138.0</td>\n",
       "      <td>8.3014</td>\n",
       "      <td>358500.0</td>\n",
       "      <td>NEAR BAY</td>\n",
       "    </tr>\n",
       "    <tr>\n",
       "      <th>2</th>\n",
       "      <td>-122.24</td>\n",
       "      <td>37.85</td>\n",
       "      <td>52.0</td>\n",
       "      <td>1467.0</td>\n",
       "      <td>190.0</td>\n",
       "      <td>496.0</td>\n",
       "      <td>177.0</td>\n",
       "      <td>7.2574</td>\n",
       "      <td>352100.0</td>\n",
       "      <td>NEAR BAY</td>\n",
       "    </tr>\n",
       "    <tr>\n",
       "      <th>3</th>\n",
       "      <td>-122.25</td>\n",
       "      <td>37.85</td>\n",
       "      <td>52.0</td>\n",
       "      <td>1274.0</td>\n",
       "      <td>235.0</td>\n",
       "      <td>558.0</td>\n",
       "      <td>219.0</td>\n",
       "      <td>5.6431</td>\n",
       "      <td>341300.0</td>\n",
       "      <td>NEAR BAY</td>\n",
       "    </tr>\n",
       "    <tr>\n",
       "      <th>4</th>\n",
       "      <td>-122.25</td>\n",
       "      <td>37.85</td>\n",
       "      <td>52.0</td>\n",
       "      <td>1627.0</td>\n",
       "      <td>280.0</td>\n",
       "      <td>565.0</td>\n",
       "      <td>259.0</td>\n",
       "      <td>3.8462</td>\n",
       "      <td>342200.0</td>\n",
       "      <td>NEAR BAY</td>\n",
       "    </tr>\n",
       "  </tbody>\n",
       "</table>\n",
       "</div>"
      ],
      "text/plain": [
       "   longitude  latitude  housing_median_age  total_rooms  total_bedrooms  \\\n",
       "0    -122.23     37.88                41.0        880.0           129.0   \n",
       "1    -122.22     37.86                21.0       7099.0          1106.0   \n",
       "2    -122.24     37.85                52.0       1467.0           190.0   \n",
       "3    -122.25     37.85                52.0       1274.0           235.0   \n",
       "4    -122.25     37.85                52.0       1627.0           280.0   \n",
       "\n",
       "   population  households  median_income  median_house_value ocean_proximity  \n",
       "0       322.0       126.0         8.3252            452600.0        NEAR BAY  \n",
       "1      2401.0      1138.0         8.3014            358500.0        NEAR BAY  \n",
       "2       496.0       177.0         7.2574            352100.0        NEAR BAY  \n",
       "3       558.0       219.0         5.6431            341300.0        NEAR BAY  \n",
       "4       565.0       259.0         3.8462            342200.0        NEAR BAY  "
      ]
     },
     "execution_count": 6,
     "metadata": {},
     "output_type": "execute_result"
    }
   ],
   "source": [
    "df.head()"
   ]
  },
  {
   "cell_type": "markdown",
   "metadata": {},
   "source": [
    "# 2. Data Preprocessing"
   ]
  },
  {
   "cell_type": "code",
   "execution_count": 7,
   "metadata": {},
   "outputs": [
    {
     "name": "stdout",
     "output_type": "stream",
     "text": [
      "<class 'pandas.core.frame.DataFrame'>\n",
      "RangeIndex: 20640 entries, 0 to 20639\n",
      "Data columns (total 10 columns):\n",
      " #   Column              Non-Null Count  Dtype  \n",
      "---  ------              --------------  -----  \n",
      " 0   longitude           20640 non-null  float64\n",
      " 1   latitude            20640 non-null  float64\n",
      " 2   housing_median_age  20640 non-null  float64\n",
      " 3   total_rooms         20640 non-null  float64\n",
      " 4   total_bedrooms      20433 non-null  float64\n",
      " 5   population          20640 non-null  float64\n",
      " 6   households          20640 non-null  float64\n",
      " 7   median_income       20640 non-null  float64\n",
      " 8   median_house_value  20640 non-null  float64\n",
      " 9   ocean_proximity     20640 non-null  object \n",
      "dtypes: float64(9), object(1)\n",
      "memory usage: 1.6+ MB\n"
     ]
    }
   ],
   "source": [
    "# 결측치 확인 \n",
    "df.info()"
   ]
  },
  {
   "cell_type": "code",
   "execution_count": 8,
   "metadata": {},
   "outputs": [],
   "source": [
    "# total_bedrooms 에 대한 결측치 존재>> imputer를 사용하여 결측치에 대한 보간 진행 "
   ]
  },
  {
   "cell_type": "code",
   "execution_count": 9,
   "metadata": {},
   "outputs": [],
   "source": [
    "# Scikit-Learn class to deal with missing values\n",
    "from sklearn.impute import SimpleImputer\n",
    "imputer = SimpleImputer(strategy=\"median\")"
   ]
  },
  {
   "cell_type": "code",
   "execution_count": 10,
   "metadata": {},
   "outputs": [],
   "source": [
    "df['total_bedrooms_filled'] = imputer.fit_transform(df.total_bedrooms.to_frame())"
   ]
  },
  {
   "cell_type": "code",
   "execution_count": 11,
   "metadata": {},
   "outputs": [
    {
     "name": "stdout",
     "output_type": "stream",
     "text": [
      "<class 'pandas.core.frame.DataFrame'>\n",
      "RangeIndex: 20640 entries, 0 to 20639\n",
      "Data columns (total 11 columns):\n",
      " #   Column                 Non-Null Count  Dtype  \n",
      "---  ------                 --------------  -----  \n",
      " 0   longitude              20640 non-null  float64\n",
      " 1   latitude               20640 non-null  float64\n",
      " 2   housing_median_age     20640 non-null  float64\n",
      " 3   total_rooms            20640 non-null  float64\n",
      " 4   total_bedrooms         20433 non-null  float64\n",
      " 5   population             20640 non-null  float64\n",
      " 6   households             20640 non-null  float64\n",
      " 7   median_income          20640 non-null  float64\n",
      " 8   median_house_value     20640 non-null  float64\n",
      " 9   ocean_proximity        20640 non-null  object \n",
      " 10  total_bedrooms_filled  20640 non-null  float64\n",
      "dtypes: float64(10), object(1)\n",
      "memory usage: 1.7+ MB\n"
     ]
    }
   ],
   "source": [
    "# 결측지 확인 : 신규 컬럼(total_bedrooms_filled) 에 결측치가 존재하는지 확인\n",
    "df.info()"
   ]
  },
  {
   "cell_type": "code",
   "execution_count": 12,
   "metadata": {},
   "outputs": [
    {
     "data": {
      "text/plain": [
       "290      435.0\n",
       "341      435.0\n",
       "538      435.0\n",
       "563      435.0\n",
       "696      435.0\n",
       "         ...  \n",
       "20267    435.0\n",
       "20268    435.0\n",
       "20372    435.0\n",
       "20460    435.0\n",
       "20484    435.0\n",
       "Name: total_bedrooms_filled, Length: 207, dtype: float64"
      ]
     },
     "execution_count": 12,
     "metadata": {},
     "output_type": "execute_result"
    }
   ],
   "source": [
    "# 결측치 확인 2 : 결측치에 대하여 중앙값이 정상적으로 입력되었는지 확인 \n",
    "# df[['total_bedrooms_filled', 'total_bedrooms']]\n",
    "\n",
    "df.loc[df['total_bedrooms'].isna(), 'total_bedrooms_filled']"
   ]
  },
  {
   "cell_type": "code",
   "execution_count": 13,
   "metadata": {},
   "outputs": [
    {
     "data": {
      "text/html": [
       "<div>\n",
       "<style scoped>\n",
       "    .dataframe tbody tr th:only-of-type {\n",
       "        vertical-align: middle;\n",
       "    }\n",
       "\n",
       "    .dataframe tbody tr th {\n",
       "        vertical-align: top;\n",
       "    }\n",
       "\n",
       "    .dataframe thead th {\n",
       "        text-align: right;\n",
       "    }\n",
       "</style>\n",
       "<table border=\"1\" class=\"dataframe\">\n",
       "  <thead>\n",
       "    <tr style=\"text-align: right;\">\n",
       "      <th></th>\n",
       "      <th>total_bedrooms</th>\n",
       "      <th>total_bedrooms_filled</th>\n",
       "    </tr>\n",
       "  </thead>\n",
       "  <tbody>\n",
       "    <tr>\n",
       "      <th>0</th>\n",
       "      <td>129.0</td>\n",
       "      <td>129.0</td>\n",
       "    </tr>\n",
       "    <tr>\n",
       "      <th>1</th>\n",
       "      <td>1106.0</td>\n",
       "      <td>1106.0</td>\n",
       "    </tr>\n",
       "    <tr>\n",
       "      <th>2</th>\n",
       "      <td>190.0</td>\n",
       "      <td>190.0</td>\n",
       "    </tr>\n",
       "    <tr>\n",
       "      <th>3</th>\n",
       "      <td>235.0</td>\n",
       "      <td>235.0</td>\n",
       "    </tr>\n",
       "    <tr>\n",
       "      <th>4</th>\n",
       "      <td>280.0</td>\n",
       "      <td>280.0</td>\n",
       "    </tr>\n",
       "    <tr>\n",
       "      <th>...</th>\n",
       "      <td>...</td>\n",
       "      <td>...</td>\n",
       "    </tr>\n",
       "    <tr>\n",
       "      <th>20635</th>\n",
       "      <td>374.0</td>\n",
       "      <td>374.0</td>\n",
       "    </tr>\n",
       "    <tr>\n",
       "      <th>20636</th>\n",
       "      <td>150.0</td>\n",
       "      <td>150.0</td>\n",
       "    </tr>\n",
       "    <tr>\n",
       "      <th>20637</th>\n",
       "      <td>485.0</td>\n",
       "      <td>485.0</td>\n",
       "    </tr>\n",
       "    <tr>\n",
       "      <th>20638</th>\n",
       "      <td>409.0</td>\n",
       "      <td>409.0</td>\n",
       "    </tr>\n",
       "    <tr>\n",
       "      <th>20639</th>\n",
       "      <td>616.0</td>\n",
       "      <td>616.0</td>\n",
       "    </tr>\n",
       "  </tbody>\n",
       "</table>\n",
       "<p>20433 rows × 2 columns</p>\n",
       "</div>"
      ],
      "text/plain": [
       "       total_bedrooms  total_bedrooms_filled\n",
       "0               129.0                  129.0\n",
       "1              1106.0                 1106.0\n",
       "2               190.0                  190.0\n",
       "3               235.0                  235.0\n",
       "4               280.0                  280.0\n",
       "...               ...                    ...\n",
       "20635           374.0                  374.0\n",
       "20636           150.0                  150.0\n",
       "20637           485.0                  485.0\n",
       "20638           409.0                  409.0\n",
       "20639           616.0                  616.0\n",
       "\n",
       "[20433 rows x 2 columns]"
      ]
     },
     "execution_count": 13,
     "metadata": {},
     "output_type": "execute_result"
    }
   ],
   "source": [
    "# 결측치 확인 2 : 결측치에 대하여 중앙값이 정상적으로 입력되었는지 확인 \n",
    "df.loc[~(df['total_bedrooms'].isna()), ['total_bedrooms', 'total_bedrooms_filled']]"
   ]
  },
  {
   "cell_type": "markdown",
   "metadata": {},
   "source": [
    "# 3. Data Split"
   ]
  },
  {
   "cell_type": "code",
   "execution_count": 14,
   "metadata": {},
   "outputs": [],
   "source": [
    "#  독립, 종속 변수 정의 \n",
    "y = df['median_house_value']\n",
    "# X = df.drop(columns=['median_house_value', 'ocean_proximity'])\n",
    "X = df[df.columns.difference(['median_house_value', 'ocean_proximity'])]\n"
   ]
  },
  {
   "cell_type": "code",
   "execution_count": null,
   "metadata": {},
   "outputs": [],
   "source": []
  },
  {
   "cell_type": "code",
   "execution_count": 15,
   "metadata": {},
   "outputs": [],
   "source": [
    "from sklearn.model_selection import train_test_split\n",
    "\n",
    "X_train, X_test, y_train, y_test = train_test_split(X, y, test_size=0.2, random_state=42)"
   ]
  },
  {
   "cell_type": "code",
   "execution_count": 16,
   "metadata": {},
   "outputs": [
    {
     "data": {
      "text/plain": [
       "((16512, 9), (4128, 9), (16512,), (4128,))"
      ]
     },
     "execution_count": 16,
     "metadata": {},
     "output_type": "execute_result"
    }
   ],
   "source": [
    "X_train.shape, X_test.shape, y_train.shape, y_test.shape"
   ]
  },
  {
   "cell_type": "markdown",
   "metadata": {},
   "source": [
    "# 4. Model Selection"
   ]
  },
  {
   "cell_type": "markdown",
   "metadata": {},
   "source": [
    "## Homework Assignment: Exercise"
   ]
  },
  {
   "cell_type": "markdown",
   "metadata": {},
   "source": [
    "### 1."
   ]
  },
  {
   "cell_type": "markdown",
   "metadata": {},
   "source": [
    "Question: Try a Support Vector Machine regressor (`sklearn.svm.SVR`), with various hyperparameters such as `kernel=\"linear\"` (with various values for the `C` hyperparameter) or `kernel=\"rbf\"` (with various values for the `C` and `gamma` hyperparameters). Don't worry about what these hyperparameters mean for now. How does the best `SVR` predictor perform?"
   ]
  },
  {
   "cell_type": "code",
   "execution_count": 17,
   "metadata": {},
   "outputs": [],
   "source": [
    "import numpy as np\n",
    "from sklearn.svm import SVR"
   ]
  },
  {
   "cell_type": "code",
   "execution_count": 18,
   "metadata": {},
   "outputs": [
    {
     "data": {
      "text/plain": [
       "SVR(epsilon=0.2)"
      ]
     },
     "execution_count": 18,
     "metadata": {},
     "output_type": "execute_result"
    }
   ],
   "source": [
    "# SVR 모델 중 linear 와 rbf 에 train data 학습\n",
    "\n",
    "\n",
    "linear_regr = SVR(kernel=\"linear\", C=1.0, epsilon=0.2)\n",
    "linear_regr.fit(X_train, y_train)\n",
    "\n",
    "rbf_regr = SVR(kernel=\"rbf\", C=1.0, epsilon=0.2)\n",
    "rbf_regr.fit(X_train, y_train)\n"
   ]
  },
  {
   "cell_type": "code",
   "execution_count": 19,
   "metadata": {},
   "outputs": [],
   "source": [
    "#...\n",
    "import joblib\n",
    "# linear_regr_loaded = joblib.load(\"linear_regr.pkl\") # DIFF\n",
    "# rbf_regr_loaded = joblib.load(\"rbf_regr.pkl\") # DIFF\n",
    "# grid_search_loaded = joblib.load(\"grid_search.pkl\") # DIFF"
   ]
  },
  {
   "cell_type": "code",
   "execution_count": 20,
   "metadata": {},
   "outputs": [],
   "source": [
    "def display_scores(scores):\n",
    "    print(\"Scores:\", scores)\n",
    "    print(\"Mean:\", scores.mean())\n",
    "    print(\"Standard deviation:\", scores.std())"
   ]
  },
  {
   "cell_type": "code",
   "execution_count": 21,
   "metadata": {},
   "outputs": [],
   "source": [
    "# # 학습한 모델에 대한 평가 진행(1. linear_regr)\n",
    "# from sklearn.model_selection import cross_val_score\n",
    "\n",
    "# linear_scores = cross_val_score(linear_regr_loaded, X_train, y_train,\n",
    "#                                 scoring=\"neg_mean_squared_error\", cv=10)\n",
    "# linear_rmse_scores = np.sqrt(-linear_scores)\n",
    "# display_scores(linear_rmse_scores)\n"
   ]
  },
  {
   "cell_type": "code",
   "execution_count": 22,
   "metadata": {},
   "outputs": [],
   "source": [
    "# # 학습한 모델에 대한 평가 진행(2. rbf)\n",
    "# from sklearn.model_selection import cross_val_score\n",
    "\n",
    "# rbf_scores = cross_val_score(rbf_regr_loaded, X_train, y_train,\n",
    "#                                 scoring=\"neg_mean_squared_error\", cv=10)\n",
    "# rbf_rmse_scores = np.sqrt(-rbf_scores)\n",
    "# display_scores(rbf_rmse_scores)\n"
   ]
  },
  {
   "cell_type": "code",
   "execution_count": 23,
   "metadata": {},
   "outputs": [
    {
     "data": {
      "text/plain": [
       "['rbf_regr.pkl']"
      ]
     },
     "execution_count": 23,
     "metadata": {},
     "output_type": "execute_result"
    }
   ],
   "source": [
    "# # 모델 수행에 시간이 오래 걸리므로 저장된 내역 호출하도록 변경 \n",
    "import joblib\n",
    "joblib.dump(linear_regr, \"linear_regr.pkl\") # DIFF\n",
    "joblib.dump(rbf_regr, \"rbf_regr.pkl\") # DIFF\n"
   ]
  },
  {
   "cell_type": "code",
   "execution_count": null,
   "metadata": {},
   "outputs": [],
   "source": []
  },
  {
   "cell_type": "markdown",
   "metadata": {},
   "source": [
    "### 2. "
   ]
  },
  {
   "cell_type": "markdown",
   "metadata": {},
   "source": [
    "Question: Try replacing `GridSearchCV` with `RandomizedSearchCV`."
   ]
  },
  {
   "cell_type": "code",
   "execution_count": 24,
   "metadata": {},
   "outputs": [],
   "source": [
    "rbf_regr = SVR(kernel=\"rbf\")"
   ]
  },
  {
   "cell_type": "code",
   "execution_count": 25,
   "metadata": {},
   "outputs": [
    {
     "data": {
      "text/plain": [
       "RandomizedSearchCV(cv=2, estimator=SVR(), n_iter=2,\n",
       "                   param_distributions={'C': <scipy.stats._distn_infrastructure.rv_frozen object at 0x7fbd88066890>,\n",
       "                                        'epsilon': <scipy.stats._distn_infrastructure.rv_frozen object at 0x7fbd88066450>},\n",
       "                   random_state=42, scoring='neg_mean_squared_error')"
      ]
     },
     "execution_count": 25,
     "metadata": {},
     "output_type": "execute_result"
    }
   ],
   "source": [
    "# 1번 모델링 시 더 좋은 결과를 출력한 rbf 파라미터 모델로 RandomizedSearchCV 모델 수행\n",
    "from sklearn.model_selection import RandomizedSearchCV\n",
    "from scipy.stats import randint\n",
    "\n",
    "param_distribs = {\n",
    "        'C': randint(low=1, high=2),\n",
    "        'epsilon': randint(low=1, high=2),\n",
    "    }\n",
    "\n",
    "\n",
    "rnd_svr_search = RandomizedSearchCV(rbf_regr, param_distributions=param_distribs,\n",
    "                                n_iter=2, cv=2, scoring='neg_mean_squared_error', random_state=42)\n",
    "rnd_svr_search.fit(X_train, y_train)"
   ]
  },
  {
   "cell_type": "code",
   "execution_count": 26,
   "metadata": {},
   "outputs": [],
   "source": [
    "# from sklearn.model_selection import GridSearchCV\n",
    "\n",
    "# param_grid = [\n",
    "#     # 12(=3×4)개의 하이퍼파라미터 조합을 시도합니다.\n",
    "# #     {'C': [3, 10, 30], 'epsilon': [2, 4, 6, 8]}\n",
    "#     {'C': [3], 'epsilon': [2]}\n",
    "#   ]\n",
    "\n",
    "# grid_svr_search = GridSearchCV(rbf_regr_loaded, param_grid\n",
    "# #                            , cv=5,\n",
    "#                            ,\n",
    "#                            scoring='neg_mean_squared_error',\n",
    "#                            return_train_score=True)\n",
    "# grid_svr_search.fit(X_train, y_train)"
   ]
  },
  {
   "cell_type": "code",
   "execution_count": 27,
   "metadata": {},
   "outputs": [],
   "source": [
    "# joblib.dump(grid_search, \"grid_search.pkl\") # DIFF"
   ]
  },
  {
   "cell_type": "code",
   "execution_count": null,
   "metadata": {},
   "outputs": [],
   "source": []
  },
  {
   "cell_type": "markdown",
   "metadata": {},
   "source": [
    "### 3. "
   ]
  },
  {
   "cell_type": "markdown",
   "metadata": {},
   "source": [
    "Question: Try adding a transformer in the preparation pipeline to select only the most important attributes."
   ]
  },
  {
   "cell_type": "code",
   "execution_count": 28,
   "metadata": {},
   "outputs": [],
   "source": [
    "from sklearn.model_selection import GridSearchCV\n",
    "from sklearn.inspection import permutation_importance"
   ]
  },
  {
   "cell_type": "code",
   "execution_count": 29,
   "metadata": {},
   "outputs": [],
   "source": [
    "XXX = pd.DataFrame()"
   ]
  },
  {
   "cell_type": "code",
   "execution_count": 30,
   "metadata": {},
   "outputs": [
    {
     "data": {
      "text/html": [
       "<div>\n",
       "<style scoped>\n",
       "    .dataframe tbody tr th:only-of-type {\n",
       "        vertical-align: middle;\n",
       "    }\n",
       "\n",
       "    .dataframe tbody tr th {\n",
       "        vertical-align: top;\n",
       "    }\n",
       "\n",
       "    .dataframe thead th {\n",
       "        text-align: right;\n",
       "    }\n",
       "</style>\n",
       "<table border=\"1\" class=\"dataframe\">\n",
       "  <thead>\n",
       "    <tr style=\"text-align: right;\">\n",
       "      <th></th>\n",
       "    </tr>\n",
       "  </thead>\n",
       "  <tbody>\n",
       "  </tbody>\n",
       "</table>\n",
       "</div>"
      ],
      "text/plain": [
       "Empty DataFrame\n",
       "Columns: []\n",
       "Index: []"
      ]
     },
     "execution_count": 30,
     "metadata": {},
     "output_type": "execute_result"
    }
   ],
   "source": [
    "XXX"
   ]
  },
  {
   "cell_type": "code",
   "execution_count": 31,
   "metadata": {},
   "outputs": [],
   "source": [
    "col_test = []"
   ]
  },
  {
   "cell_type": "code",
   "execution_count": 32,
   "metadata": {},
   "outputs": [],
   "source": [
    "from sklearn.base import BaseEstimator, TransformerMixin\n",
    "\n",
    "class bestAttr(BaseEstimator, TransformerMixin):\n",
    "    def __init__(self, attrNum):\n",
    "        self.attrNum = attrNum\n",
    "        print(\"bestAttr init\")\n",
    "    def fit(self, X, y=None):\n",
    "        return self\n",
    "    def transform(self, X):\n",
    "        result = permutation_importance(rnd_svr_search, X_train, y_train, n_repeats=1, random_state=0)\n",
    "        col = np.array(pd.DataFrame(result.importances_mean, index = X_train.columns, columns  = ['importances_mean']).sort_values(by = 'importances_mean', ascending=False).head(int(self.attrNum)).index)\n",
    "        print(\"bestAttr two_bestAttr!!\")\n",
    "        print(X_train.loc[:, col])\n",
    "        return X_train.loc[:, col]\n",
    "#         return X_train.loc[:, col] , col\n",
    "#         return X_train[:, col] >> 오늘의 깨달음!!! 슬라이싱 할때는 loc쓰자"
   ]
  },
  {
   "cell_type": "code",
   "execution_count": 33,
   "metadata": {},
   "outputs": [],
   "source": [
    "# X_train[['total_rooms', 'population' ,'households']]"
   ]
  },
  {
   "cell_type": "code",
   "execution_count": 34,
   "metadata": {},
   "outputs": [
    {
     "name": "stdout",
     "output_type": "stream",
     "text": [
      "bestAttr init\n",
      "bestAttr two_bestAttr!!\n",
      "       total_rooms  population  households\n",
      "14196       3126.0      2300.0       623.0\n",
      "8267        3382.0      1314.0       756.0\n",
      "17445       1897.0       915.0       336.0\n",
      "14265       1421.0      1418.0       355.0\n",
      "2271        2382.0       874.0       380.0\n",
      "...            ...         ...         ...\n",
      "11284       1330.0       658.0       217.0\n",
      "11964       3084.0      1753.0       449.0\n",
      "5390        2101.0      1756.0       527.0\n",
      "860         3575.0      1777.0       559.0\n",
      "15795       4226.0      2619.0      1242.0\n",
      "\n",
      "[16512 rows x 3 columns]\n"
     ]
    }
   ],
   "source": [
    "from sklearn.pipeline import Pipeline\n",
    "K = 3\n",
    "attrPipeline = Pipeline([\n",
    "        ('attr', bestAttr(K))\n",
    "    ])\n",
    "\n",
    "# best_attr_df, col = attrPipeline.fit_transform(X_train)\n",
    "best_attr_df = attrPipeline.fit_transform(X_train)"
   ]
  },
  {
   "cell_type": "markdown",
   "metadata": {},
   "source": [
    "Question: Try creating a single pipeline that does the full data preparation plus the final prediction."
   ]
  },
  {
   "cell_type": "markdown",
   "metadata": {},
   "source": [
    "4-1. 데이터 전처리  \n",
    "4-2. 하이퍼 파라미터 튜닝을 위한 모델 수행  \n",
    "4-3. feature selection을 위한 모델 수행  \n",
    "4-4. 상위 N개 feature 선택  \n",
    "4-5. 최종 모델 수행  "
   ]
  },
  {
   "cell_type": "code",
   "execution_count": 35,
   "metadata": {
    "scrolled": true
   },
   "outputs": [
    {
     "data": {
      "text/html": [
       "<div>\n",
       "<style scoped>\n",
       "    .dataframe tbody tr th:only-of-type {\n",
       "        vertical-align: middle;\n",
       "    }\n",
       "\n",
       "    .dataframe tbody tr th {\n",
       "        vertical-align: top;\n",
       "    }\n",
       "\n",
       "    .dataframe thead th {\n",
       "        text-align: right;\n",
       "    }\n",
       "</style>\n",
       "<table border=\"1\" class=\"dataframe\">\n",
       "  <thead>\n",
       "    <tr style=\"text-align: right;\">\n",
       "      <th></th>\n",
       "      <th>longitude</th>\n",
       "      <th>latitude</th>\n",
       "      <th>housing_median_age</th>\n",
       "      <th>total_rooms</th>\n",
       "      <th>total_bedrooms</th>\n",
       "      <th>population</th>\n",
       "      <th>households</th>\n",
       "      <th>median_income</th>\n",
       "      <th>median_house_value</th>\n",
       "      <th>ocean_proximity</th>\n",
       "      <th>total_bedrooms_filled</th>\n",
       "    </tr>\n",
       "  </thead>\n",
       "  <tbody>\n",
       "    <tr>\n",
       "      <th>0</th>\n",
       "      <td>-122.23</td>\n",
       "      <td>37.88</td>\n",
       "      <td>41.0</td>\n",
       "      <td>880.0</td>\n",
       "      <td>129.0</td>\n",
       "      <td>322.0</td>\n",
       "      <td>126.0</td>\n",
       "      <td>8.3252</td>\n",
       "      <td>452600.0</td>\n",
       "      <td>NEAR BAY</td>\n",
       "      <td>129.0</td>\n",
       "    </tr>\n",
       "    <tr>\n",
       "      <th>1</th>\n",
       "      <td>-122.22</td>\n",
       "      <td>37.86</td>\n",
       "      <td>21.0</td>\n",
       "      <td>7099.0</td>\n",
       "      <td>1106.0</td>\n",
       "      <td>2401.0</td>\n",
       "      <td>1138.0</td>\n",
       "      <td>8.3014</td>\n",
       "      <td>358500.0</td>\n",
       "      <td>NEAR BAY</td>\n",
       "      <td>1106.0</td>\n",
       "    </tr>\n",
       "    <tr>\n",
       "      <th>2</th>\n",
       "      <td>-122.24</td>\n",
       "      <td>37.85</td>\n",
       "      <td>52.0</td>\n",
       "      <td>1467.0</td>\n",
       "      <td>190.0</td>\n",
       "      <td>496.0</td>\n",
       "      <td>177.0</td>\n",
       "      <td>7.2574</td>\n",
       "      <td>352100.0</td>\n",
       "      <td>NEAR BAY</td>\n",
       "      <td>190.0</td>\n",
       "    </tr>\n",
       "    <tr>\n",
       "      <th>3</th>\n",
       "      <td>-122.25</td>\n",
       "      <td>37.85</td>\n",
       "      <td>52.0</td>\n",
       "      <td>1274.0</td>\n",
       "      <td>235.0</td>\n",
       "      <td>558.0</td>\n",
       "      <td>219.0</td>\n",
       "      <td>5.6431</td>\n",
       "      <td>341300.0</td>\n",
       "      <td>NEAR BAY</td>\n",
       "      <td>235.0</td>\n",
       "    </tr>\n",
       "    <tr>\n",
       "      <th>4</th>\n",
       "      <td>-122.25</td>\n",
       "      <td>37.85</td>\n",
       "      <td>52.0</td>\n",
       "      <td>1627.0</td>\n",
       "      <td>280.0</td>\n",
       "      <td>565.0</td>\n",
       "      <td>259.0</td>\n",
       "      <td>3.8462</td>\n",
       "      <td>342200.0</td>\n",
       "      <td>NEAR BAY</td>\n",
       "      <td>280.0</td>\n",
       "    </tr>\n",
       "  </tbody>\n",
       "</table>\n",
       "</div>"
      ],
      "text/plain": [
       "   longitude  latitude  housing_median_age  total_rooms  total_bedrooms  \\\n",
       "0    -122.23     37.88                41.0        880.0           129.0   \n",
       "1    -122.22     37.86                21.0       7099.0          1106.0   \n",
       "2    -122.24     37.85                52.0       1467.0           190.0   \n",
       "3    -122.25     37.85                52.0       1274.0           235.0   \n",
       "4    -122.25     37.85                52.0       1627.0           280.0   \n",
       "\n",
       "   population  households  median_income  median_house_value ocean_proximity  \\\n",
       "0       322.0       126.0         8.3252            452600.0        NEAR BAY   \n",
       "1      2401.0      1138.0         8.3014            358500.0        NEAR BAY   \n",
       "2       496.0       177.0         7.2574            352100.0        NEAR BAY   \n",
       "3       558.0       219.0         5.6431            341300.0        NEAR BAY   \n",
       "4       565.0       259.0         3.8462            342200.0        NEAR BAY   \n",
       "\n",
       "   total_bedrooms_filled  \n",
       "0                  129.0  \n",
       "1                 1106.0  \n",
       "2                  190.0  \n",
       "3                  235.0  \n",
       "4                  280.0  "
      ]
     },
     "execution_count": 35,
     "metadata": {},
     "output_type": "execute_result"
    }
   ],
   "source": [
    "df.head()"
   ]
  },
  {
   "cell_type": "code",
   "execution_count": 36,
   "metadata": {},
   "outputs": [],
   "source": [
    "from sklearn.base import BaseEstimator, TransformerMixin\n",
    "from sklearn.impute import SimpleImputer\n",
    "\n",
    "class one_preprocess(BaseEstimator, TransformerMixin):\n",
    "    def __init__(self):\n",
    "#         self.attrNum = attrNum\n",
    "        print(\"one_preprocess init\")\n",
    "    def fit(self, X, y=None):\n",
    "        return self\n",
    "    def transform(self, X):\n",
    "        imputer = SimpleImputer(strategy=\"median\")\n",
    "        float_col = X.select_dtypes(include='float64').columns\n",
    "        X[float_col] = imputer.fit_transform(X[float_col])\n",
    "        object_col = X.select_dtypes(include='object').columns\n",
    "        X = pd.get_dummies(X, columns = object_col, drop_first=True)\n",
    "        print(\"one_preprocess transform!!\")\n",
    "        return X\n",
    "    \n",
    "    "
   ]
  },
  {
   "cell_type": "code",
   "execution_count": 37,
   "metadata": {},
   "outputs": [],
   "source": [
    "from sklearn.base import BaseEstimator, TransformerMixin\n",
    "from sklearn.linear_model import LinearRegression\n",
    "from sklearn.tree import DecisionTreeRegressor\n",
    "from sklearn.model_selection import cross_val_score\n",
    "\n",
    "class three_modelrunning(BaseEstimator, TransformerMixin):\n",
    "    def __init__(self):\n",
    "        print(\"init\")\n",
    "    def fit(self, X, y=None):\n",
    "        return self\n",
    "    def transform(self, X):\n",
    "        print(X)\n",
    "        return X\n",
    "    \n",
    "    "
   ]
  },
  {
   "cell_type": "code",
   "execution_count": 38,
   "metadata": {
    "scrolled": false
   },
   "outputs": [
    {
     "name": "stdout",
     "output_type": "stream",
     "text": [
      "one_preprocess init\n",
      "one_preprocess transform!!\n"
     ]
    },
    {
     "name": "stderr",
     "output_type": "stream",
     "text": [
      "/Users/boysbeanxious/opt/anaconda3/lib/python3.7/site-packages/pandas/core/frame.py:3678: SettingWithCopyWarning: \n",
      "A value is trying to be set on a copy of a slice from a DataFrame.\n",
      "Try using .loc[row_indexer,col_indexer] = value instead\n",
      "\n",
      "See the caveats in the documentation: https://pandas.pydata.org/pandas-docs/stable/user_guide/indexing.html#returning-a-view-versus-a-copy\n",
      "  self[col] = igetitem(value, i)\n"
     ]
    },
    {
     "name": "stdout",
     "output_type": "stream",
     "text": [
      "bestAttr two_bestAttr!!\n",
      "       total_rooms  population  households\n",
      "14196       3126.0      2300.0       623.0\n",
      "8267        3382.0      1314.0       756.0\n",
      "17445       1897.0       915.0       336.0\n",
      "14265       1421.0      1418.0       355.0\n",
      "2271        2382.0       874.0       380.0\n",
      "...            ...         ...         ...\n",
      "11284       1330.0       658.0       217.0\n",
      "11964       3084.0      1753.0       449.0\n",
      "5390        2101.0      1756.0       527.0\n",
      "860         3575.0      1777.0       559.0\n",
      "15795       4226.0      2619.0      1242.0\n",
      "\n",
      "[16512 rows x 3 columns]\n"
     ]
    }
   ],
   "source": [
    "# 4-1.  데이터 전처리  \n",
    "from sklearn.pipeline import Pipeline\n",
    "from sklearn.preprocessing import StandardScaler\n",
    "\n",
    "full_pipeline = Pipeline([\n",
    "        # 4-1 머신러닝 알고리즘을 위한 데이터 준비\n",
    "        ('one', one_preprocess()), \n",
    "        # 4-2 feature selection\n",
    "        ('two', attrPipeline, ),\n",
    "        # 4-3 모델 수행\n",
    "#         ('three', SVR(C=rnd_svr_search.best_params_.get('C'), epsilon = rnd_svr_search.best_params_.get('epsilon')))])\n",
    "        ('three', SVR(**rnd_svr_search.best_params_))])\n",
    "\n",
    "\n",
    "result = full_pipeline.fit(X_train, y_train)"
   ]
  },
  {
   "cell_type": "code",
   "execution_count": 39,
   "metadata": {
    "scrolled": true
   },
   "outputs": [
    {
     "data": {
      "text/plain": [
       "('three', SVR(C=1, epsilon=1))"
      ]
     },
     "execution_count": 39,
     "metadata": {},
     "output_type": "execute_result"
    }
   ],
   "source": [
    "result.steps[2]"
   ]
  },
  {
   "cell_type": "code",
   "execution_count": 40,
   "metadata": {},
   "outputs": [
    {
     "name": "stdout",
     "output_type": "stream",
     "text": [
      "one_preprocess init\n",
      "bestAttr init\n"
     ]
    }
   ],
   "source": [
    "# 4-1.  데이터 전처리  \n",
    "from sklearn.pipeline import Pipeline\n",
    "from sklearn.preprocessing import StandardScaler\n",
    "\n",
    "param_full_pipeline = Pipeline([\n",
    "        # 4-1 머신러닝 알고리즘을 위한 데이터 준비\n",
    "        ('one', one_preprocess()), \n",
    "        # 4-2 feature selection\n",
    "        ('two', bestAttr(K) ),\n",
    "        # 4-3 모델 수행\n",
    "#         ('three', SVR(C=rnd_svr_search.best_params_.get('C'), epsilon = rnd_svr_search.best_params_.get('epsilon')))])\n",
    "        ('three', SVR(**rnd_svr_search.best_params_))])\n"
   ]
  },
  {
   "cell_type": "markdown",
   "metadata": {},
   "source": [
    "### 5."
   ]
  },
  {
   "cell_type": "markdown",
   "metadata": {},
   "source": [
    "Question: Automatically explore some preparation options using `GridSearchCV`."
   ]
  },
  {
   "cell_type": "code",
   "execution_count": 41,
   "metadata": {},
   "outputs": [
    {
     "name": "stdout",
     "output_type": "stream",
     "text": [
      "one_preprocess init\n",
      "bestAttr init\n",
      "Fitting 2 folds for each of 1 candidates, totalling 2 fits\n",
      "one_preprocess init\n",
      "bestAttr init\n",
      "[CV] two__attrNum=4 ..................................................\n",
      "one_preprocess transform!!\n"
     ]
    },
    {
     "name": "stderr",
     "output_type": "stream",
     "text": [
      "[Parallel(n_jobs=1)]: Using backend SequentialBackend with 1 concurrent workers.\n",
      "/Users/boysbeanxious/opt/anaconda3/lib/python3.7/site-packages/pandas/core/frame.py:3678: SettingWithCopyWarning: \n",
      "A value is trying to be set on a copy of a slice from a DataFrame.\n",
      "Try using .loc[row_indexer,col_indexer] = value instead\n",
      "\n",
      "See the caveats in the documentation: https://pandas.pydata.org/pandas-docs/stable/user_guide/indexing.html#returning-a-view-versus-a-copy\n",
      "  self[col] = igetitem(value, i)\n"
     ]
    },
    {
     "name": "stdout",
     "output_type": "stream",
     "text": [
      "bestAttr two_bestAttr!!\n",
      "       total_rooms  population  households  total_bedrooms\n",
      "14196       3126.0      2300.0       623.0           627.0\n",
      "8267        3382.0      1314.0       756.0           787.0\n",
      "17445       1897.0       915.0       336.0           331.0\n",
      "14265       1421.0      1418.0       355.0           367.0\n",
      "2271        2382.0       874.0       380.0           431.0\n",
      "...            ...         ...         ...             ...\n",
      "11284       1330.0       658.0       217.0           201.0\n",
      "11964       3084.0      1753.0       449.0           570.0\n",
      "5390        2101.0      1756.0       527.0           569.0\n",
      "860         3575.0      1777.0       559.0           597.0\n",
      "15795       4226.0      2619.0      1242.0          1315.0\n",
      "\n",
      "[16512 rows x 4 columns]\n",
      "[CV] ................................... two__attrNum=4, total=  32.6s\n",
      "one_preprocess init\n",
      "bestAttr init\n",
      "[CV] two__attrNum=4 ..................................................\n",
      "one_preprocess transform!!\n"
     ]
    },
    {
     "name": "stderr",
     "output_type": "stream",
     "text": [
      "/Users/boysbeanxious/opt/anaconda3/lib/python3.7/site-packages/sklearn/model_selection/_validation.py:552: FitFailedWarning: Estimator fit failed. The score on this train-test partition for these parameters will be set to nan. Details: \n",
      "Traceback (most recent call last):\n",
      "  File \"/Users/boysbeanxious/opt/anaconda3/lib/python3.7/site-packages/sklearn/model_selection/_validation.py\", line 531, in _fit_and_score\n",
      "    estimator.fit(X_train, y_train, **fit_params)\n",
      "  File \"/Users/boysbeanxious/opt/anaconda3/lib/python3.7/site-packages/sklearn/pipeline.py\", line 335, in fit\n",
      "    self._final_estimator.fit(Xt, y, **fit_params_last_step)\n",
      "  File \"/Users/boysbeanxious/opt/anaconda3/lib/python3.7/site-packages/sklearn/svm/_base.py\", line 162, in fit\n",
      "    accept_large_sparse=False)\n",
      "  File \"/Users/boysbeanxious/opt/anaconda3/lib/python3.7/site-packages/sklearn/base.py\", line 432, in _validate_data\n",
      "    X, y = check_X_y(X, y, **check_params)\n",
      "  File \"/Users/boysbeanxious/opt/anaconda3/lib/python3.7/site-packages/sklearn/utils/validation.py\", line 72, in inner_f\n",
      "    return f(**kwargs)\n",
      "  File \"/Users/boysbeanxious/opt/anaconda3/lib/python3.7/site-packages/sklearn/utils/validation.py\", line 812, in check_X_y\n",
      "    check_consistent_length(X, y)\n",
      "  File \"/Users/boysbeanxious/opt/anaconda3/lib/python3.7/site-packages/sklearn/utils/validation.py\", line 256, in check_consistent_length\n",
      "    \" samples: %r\" % [int(l) for l in lengths])\n",
      "ValueError: Found input variables with inconsistent numbers of samples: [16512, 8256]\n",
      "\n",
      "  FitFailedWarning)\n",
      "[Parallel(n_jobs=1)]: Done   1 out of   1 | elapsed:   32.6s remaining:    0.0s\n",
      "/Users/boysbeanxious/opt/anaconda3/lib/python3.7/site-packages/pandas/core/frame.py:3678: SettingWithCopyWarning: \n",
      "A value is trying to be set on a copy of a slice from a DataFrame.\n",
      "Try using .loc[row_indexer,col_indexer] = value instead\n",
      "\n",
      "See the caveats in the documentation: https://pandas.pydata.org/pandas-docs/stable/user_guide/indexing.html#returning-a-view-versus-a-copy\n",
      "  self[col] = igetitem(value, i)\n"
     ]
    },
    {
     "name": "stdout",
     "output_type": "stream",
     "text": [
      "bestAttr two_bestAttr!!\n",
      "       total_rooms  population  households  total_bedrooms\n",
      "14196       3126.0      2300.0       623.0           627.0\n",
      "8267        3382.0      1314.0       756.0           787.0\n",
      "17445       1897.0       915.0       336.0           331.0\n",
      "14265       1421.0      1418.0       355.0           367.0\n",
      "2271        2382.0       874.0       380.0           431.0\n",
      "...            ...         ...         ...             ...\n",
      "11284       1330.0       658.0       217.0           201.0\n",
      "11964       3084.0      1753.0       449.0           570.0\n",
      "5390        2101.0      1756.0       527.0           569.0\n",
      "860         3575.0      1777.0       559.0           597.0\n",
      "15795       4226.0      2619.0      1242.0          1315.0\n",
      "\n",
      "[16512 rows x 4 columns]\n",
      "[CV] ................................... two__attrNum=4, total=  32.6s\n",
      "one_preprocess init\n",
      "bestAttr init\n",
      "one_preprocess init\n",
      "bestAttr init\n",
      "one_preprocess transform!!\n"
     ]
    },
    {
     "name": "stderr",
     "output_type": "stream",
     "text": [
      "/Users/boysbeanxious/opt/anaconda3/lib/python3.7/site-packages/sklearn/model_selection/_validation.py:552: FitFailedWarning: Estimator fit failed. The score on this train-test partition for these parameters will be set to nan. Details: \n",
      "Traceback (most recent call last):\n",
      "  File \"/Users/boysbeanxious/opt/anaconda3/lib/python3.7/site-packages/sklearn/model_selection/_validation.py\", line 531, in _fit_and_score\n",
      "    estimator.fit(X_train, y_train, **fit_params)\n",
      "  File \"/Users/boysbeanxious/opt/anaconda3/lib/python3.7/site-packages/sklearn/pipeline.py\", line 335, in fit\n",
      "    self._final_estimator.fit(Xt, y, **fit_params_last_step)\n",
      "  File \"/Users/boysbeanxious/opt/anaconda3/lib/python3.7/site-packages/sklearn/svm/_base.py\", line 162, in fit\n",
      "    accept_large_sparse=False)\n",
      "  File \"/Users/boysbeanxious/opt/anaconda3/lib/python3.7/site-packages/sklearn/base.py\", line 432, in _validate_data\n",
      "    X, y = check_X_y(X, y, **check_params)\n",
      "  File \"/Users/boysbeanxious/opt/anaconda3/lib/python3.7/site-packages/sklearn/utils/validation.py\", line 72, in inner_f\n",
      "    return f(**kwargs)\n",
      "  File \"/Users/boysbeanxious/opt/anaconda3/lib/python3.7/site-packages/sklearn/utils/validation.py\", line 812, in check_X_y\n",
      "    check_consistent_length(X, y)\n",
      "  File \"/Users/boysbeanxious/opt/anaconda3/lib/python3.7/site-packages/sklearn/utils/validation.py\", line 256, in check_consistent_length\n",
      "    \" samples: %r\" % [int(l) for l in lengths])\n",
      "ValueError: Found input variables with inconsistent numbers of samples: [16512, 8256]\n",
      "\n",
      "  FitFailedWarning)\n",
      "[Parallel(n_jobs=1)]: Done   2 out of   2 | elapsed:  1.1min finished\n",
      "/Users/boysbeanxious/opt/anaconda3/lib/python3.7/site-packages/pandas/core/frame.py:3678: SettingWithCopyWarning: \n",
      "A value is trying to be set on a copy of a slice from a DataFrame.\n",
      "Try using .loc[row_indexer,col_indexer] = value instead\n",
      "\n",
      "See the caveats in the documentation: https://pandas.pydata.org/pandas-docs/stable/user_guide/indexing.html#returning-a-view-versus-a-copy\n",
      "  self[col] = igetitem(value, i)\n"
     ]
    },
    {
     "name": "stdout",
     "output_type": "stream",
     "text": [
      "bestAttr two_bestAttr!!\n",
      "       total_rooms  population  households  total_bedrooms\n",
      "14196       3126.0      2300.0       623.0           627.0\n",
      "8267        3382.0      1314.0       756.0           787.0\n",
      "17445       1897.0       915.0       336.0           331.0\n",
      "14265       1421.0      1418.0       355.0           367.0\n",
      "2271        2382.0       874.0       380.0           431.0\n",
      "...            ...         ...         ...             ...\n",
      "11284       1330.0       658.0       217.0           201.0\n",
      "11964       3084.0      1753.0       449.0           570.0\n",
      "5390        2101.0      1756.0       527.0           569.0\n",
      "860         3575.0      1777.0       559.0           597.0\n",
      "15795       4226.0      2619.0      1242.0          1315.0\n",
      "\n",
      "[16512 rows x 4 columns]\n"
     ]
    },
    {
     "data": {
      "text/plain": [
       "GridSearchCV(cv=2,\n",
       "             estimator=Pipeline(steps=[('one', one_preprocess()),\n",
       "                                       ('two', bestAttr(attrNum=3)),\n",
       "                                       ('three', SVR(C=1, epsilon=1))]),\n",
       "             param_grid={'two__attrNum': ['4']},\n",
       "             scoring='neg_mean_squared_error', verbose=2)"
      ]
     },
     "execution_count": 41,
     "metadata": {},
     "output_type": "execute_result"
    }
   ],
   "source": [
    "# https://rudolf-2434.tistory.com/15\n",
    "\n",
    "p_grid = {\n",
    "    'two__attrNum': list(str(np.random.randint(1,(len(X_train.columns) + 1))))\n",
    "#     list(range(1, len(X_train.columns) + 1))\n",
    "}\n",
    "\n",
    "grid_search_prep = GridSearchCV(param_full_pipeline, p_grid, cv=2,\n",
    "                                scoring='neg_mean_squared_error', verbose=2)\n",
    "\n",
    "\n",
    "\n",
    "grid_search_prep.fit(X_train, y_train)"
   ]
  }
 ],
 "metadata": {
  "kernelspec": {
   "display_name": "Python 3",
   "language": "python",
   "name": "python3"
  },
  "language_info": {
   "codemirror_mode": {
    "name": "ipython",
    "version": 3
   },
   "file_extension": ".py",
   "mimetype": "text/x-python",
   "name": "python",
   "nbconvert_exporter": "python",
   "pygments_lexer": "ipython3",
   "version": "3.7.6"
  }
 },
 "nbformat": 4,
 "nbformat_minor": 4
}
