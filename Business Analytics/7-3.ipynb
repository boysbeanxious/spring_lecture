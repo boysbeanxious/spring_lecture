{
 "cells": [
  {
   "cell_type": "markdown",
   "metadata": {
    "id": "pqxnslml3tu6"
   },
   "source": [
    "# 신경망 모델 훈련"
   ]
  },
  {
   "cell_type": "markdown",
   "metadata": {
    "id": "fN7zF6Zy3tvE"
   },
   "source": [
    "<table align=\"left\">\n",
    "  <td>\n",
    "    <a target=\"_blank\" href=\"https://colab.research.google.com/github/rickiepark/hg-mldl/blob/master/7-3.ipynb\"><img src=\"https://www.tensorflow.org/images/colab_logo_32px.png\" />구글 코랩에서 실행하기</a>\n",
    "  </td>\n",
    "</table>"
   ]
  },
  {
   "cell_type": "code",
   "execution_count": 1,
   "metadata": {},
   "outputs": [],
   "source": [
    "# pip install tensorflow "
   ]
  },
  {
   "cell_type": "markdown",
   "metadata": {
    "id": "XGP-X65EmJBg"
   },
   "source": [
    "## 손실 곡선"
   ]
  },
  {
   "cell_type": "code",
   "execution_count": 2,
   "metadata": {
    "ExecuteTime": {
     "end_time": "2022-05-16T16:05:06.569372Z",
     "start_time": "2022-05-16T16:05:02.365370Z"
    },
    "colab": {
     "base_uri": "https://localhost:8080/"
    },
    "id": "hZsGl9udlqZk",
    "outputId": "dfb7c783-8276-4c75-9a1c-6825310e29d8"
   },
   "outputs": [],
   "source": [
    "####################################################################################################\n",
    "# 패션 MNIST 데이터셋을 읽어 훈련셋과 테스트셋에 저장합니다.\n",
    "# --------------------------------------------------------------------------------------------------\n",
    "# load_data() 메서드는 두 종류의 데이터셋을 한번에 반환하므로 분할 절차를 생략할 수 있어 편리합니다.\n",
    "####################################################################################################\n",
    "from tensorflow import keras\n",
    "from sklearn.model_selection import train_test_split\n",
    "\n",
    "(train_input, train_target), (test_input, test_target) = \\\n",
    "    keras.datasets.fashion_mnist.load_data()\n",
    "\n",
    "####################################################################################################\n",
    "# 데이터의 스케일을 조정하고 1차원 배열로 변환합니다.\n",
    "# --------------------------------------------------------------------------------------------------\n",
    "# 0~255의 값을 0~1로 조정합니다.\n",
    "# 이미지의 경우 255로 나눠주기만 하면 됩니다. MinMaxScaler()를 사용한 것과 동일한 결과입니다.\n",
    "# 2차원 배열의 형태를 가진 하나의 샘플을 1차원 배열로 변환해주면, 784개(28*28) 값이 1개 행으로 변환됩니다.\n",
    "####################################################################################################\n",
    "train_scaled = train_input / 255.0\n",
    "\n",
    "train_scaled, val_scaled, train_target, val_target = train_test_split(\n",
    "    train_scaled, train_target, test_size=0.2, random_state=42)"
   ]
  },
  {
   "cell_type": "code",
   "execution_count": 3,
   "metadata": {
    "ExecuteTime": {
     "end_time": "2022-05-16T16:05:06.584372Z",
     "start_time": "2022-05-16T16:05:06.571371Z"
    },
    "id": "iogH7o0Ll6uL"
   },
   "outputs": [],
   "source": [
    "####################################################################################################\n",
    "# 인공신경망 모델을 생성하는 사용자 정의 함수를 생성합니다.\n",
    "# --------------------------------------------------------------------------------------------------\n",
    "# Flatten 층, 은닉층, 출력층을 포함하는 인공신경망 모델을 생성합니다.\n",
    "# 은닉층 이후에 드롭아웃 층을 추가하여 은닉층 중 일부 노드의 기능을 랜덤하게 중단할 수 있도록 하는 데에 \n",
    "# 사용할 목적으로 매개변수 a_layer를 활용합니다. 즉, 층이 매개변수로 들어오면 이 층을 추가합니다.\n",
    "####################################################################################################\n",
    "def model_fn(a_layer=None):\n",
    "    model = keras.Sequential()\n",
    "    model.add(keras.layers.Flatten(input_shape=(28, 28)))\n",
    "    model.add(keras.layers.Dense(100, activation='relu'))\n",
    "    if a_layer:\n",
    "        model.add(a_layer)\n",
    "    model.add(keras.layers.Dense(10, activation='softmax'))\n",
    "    return model"
   ]
  },
  {
   "cell_type": "code",
   "execution_count": 4,
   "metadata": {
    "ExecuteTime": {
     "end_time": "2022-05-16T16:05:06.884370Z",
     "start_time": "2022-05-16T16:05:06.587371Z"
    },
    "colab": {
     "base_uri": "https://localhost:8080/"
    },
    "id": "5Eh6hM4DNdzu",
    "outputId": "0e2c29b8-8fd5-4432-a667-020a01c36fa7"
   },
   "outputs": [
    {
     "name": "stdout",
     "output_type": "stream",
     "text": [
      "WARNING:tensorflow:From /Users/boysbeanxious/opt/anaconda3/lib/python3.7/site-packages/tensorflow_core/python/ops/resource_variable_ops.py:1630: calling BaseResourceVariable.__init__ (from tensorflow.python.ops.resource_variable_ops) with constraint is deprecated and will be removed in a future version.\n",
      "Instructions for updating:\n",
      "If using Keras pass *_constraint arguments to layers.\n",
      "Model: \"sequential\"\n",
      "_________________________________________________________________\n",
      "Layer (type)                 Output Shape              Param #   \n",
      "=================================================================\n",
      "flatten (Flatten)            (None, 784)               0         \n",
      "_________________________________________________________________\n",
      "dense (Dense)                (None, 100)               78500     \n",
      "_________________________________________________________________\n",
      "dense_1 (Dense)              (None, 10)                1010      \n",
      "=================================================================\n",
      "Total params: 79,510\n",
      "Trainable params: 79,510\n",
      "Non-trainable params: 0\n",
      "_________________________________________________________________\n"
     ]
    }
   ],
   "source": [
    "####################################################################################################\n",
    "# 사용자 정의 함수를 이용하여 인공신경망 모델을 생성합니다.\n",
    "# --------------------------------------------------------------------------------------------------\n",
    "# Flatten 층, 은닉층, 출력층을 포함하는 인공신경망 모델을 생성합니다.\n",
    "# 은닉층 이후에 드롭아웃 층을 추가하여 은닉층 중 일부 노드의 기능을 랜덤하게 중단할 수 있도록 하는 데에 \n",
    "# 사용할 목적으로 매개변수 a_layer를 활용합니다. 즉, 층이 매개변수로 들어오면 이 층을 추가합니다.\n",
    "# 모델의 정보를 확인합니다.\n",
    "####################################################################################################\n",
    "model = model_fn()\n",
    "\n",
    "model.summary()"
   ]
  },
  {
   "cell_type": "code",
   "execution_count": 5,
   "metadata": {
    "ExecuteTime": {
     "end_time": "2022-05-16T16:05:14.190369Z",
     "start_time": "2022-05-16T16:05:06.887374Z"
    },
    "id": "P-UK21N_mCM0"
   },
   "outputs": [],
   "source": [
    "####################################################################################################\n",
    "# 인공신경망 훈련을 위한 설정값(손실함수와 성능지표)을 입력합니다.\n",
    "# --------------------------------------------------------------------------------------------------\n",
    "# 이진 분류의 경우 손실함수를 'binary_crossentropy'로, 다중 분류의 경우 'categorical_crossentropy'로\n",
    "# 설정합니다.\n",
    "# 타깃 데이터의 레이블이 원-핫 인코딩된 경우 'sparse_'를 손실함수명 앞에 추가하면 됩니다.\n",
    "# 성능지표에 'accuracy'를 사용하면 정확도를 사용합니다.\n",
    "# 모델의 훈련결과를 History 클래스의 객체에 저장합니다.\n",
    "####################################################################################################\n",
    "model.compile(loss='sparse_categorical_crossentropy', metrics=['accuracy'])\n",
    "\n",
    "history = model.fit(train_scaled, train_target, epochs=5, verbose=0)"
   ]
  },
  {
   "cell_type": "code",
   "execution_count": 6,
   "metadata": {
    "ExecuteTime": {
     "end_time": "2022-05-16T16:05:14.205369Z",
     "start_time": "2022-05-16T16:05:14.191372Z"
    },
    "colab": {
     "base_uri": "https://localhost:8080/"
    },
    "id": "1ix_EA2LpaR0",
    "outputId": "63049ab7-b817-4fcd-9f8a-ab73d73f89cd"
   },
   "outputs": [
    {
     "name": "stdout",
     "output_type": "stream",
     "text": [
      "dict_keys(['loss', 'acc'])\n"
     ]
    }
   ],
   "source": [
    "####################################################################################################\n",
    "# 히스토리 객체에 담기는 정보의 종류를 확인합니다.\n",
    "# --------------------------------------------------------------------------------------------------\n",
    "# 손실 비용과 정확도가 저장됨을 확인합니다.\n",
    "####################################################################################################\n",
    "print(history.history.keys())"
   ]
  },
  {
   "cell_type": "code",
   "execution_count": 7,
   "metadata": {
    "ExecuteTime": {
     "end_time": "2022-05-16T16:05:15.240370Z",
     "start_time": "2022-05-16T16:05:14.207371Z"
    },
    "colab": {
     "base_uri": "https://localhost:8080/",
     "height": 279
    },
    "id": "uz_TCdfPmG6e",
    "outputId": "033f08e3-9dee-4e4a-85b6-dacbfdc8ae38"
   },
   "outputs": [
    {
     "data": {
      "image/png": "[encoded data removed]",
      "text/plain": [
       "<Figure size 432x288 with 1 Axes>"
      ]
     },
     "metadata": {
      "needs_background": "light"
     },
     "output_type": "display_data"
    }
   ],
   "source": [
    "####################################################################################################\n",
    "# 히스토리 객체에 담긴 값을 에포크 별로 시각화합니다.\n",
    "# --------------------------------------------------------------------------------------------------\n",
    "# 에포크가 진행될수록 손실이 감소합니다.\n",
    "####################################################################################################\n",
    "import matplotlib.pyplot as plt\n",
    "\n",
    "plt.plot(history.history['loss'])\n",
    "plt.xlabel('epoch')\n",
    "plt.ylabel('loss')\n",
    "plt.show()"
   ]
  },
  {
   "cell_type": "code",
   "execution_count": 8,
   "metadata": {
    "ExecuteTime": {
     "end_time": "2022-05-16T16:05:15.390371Z",
     "start_time": "2022-05-16T16:05:15.242372Z"
    },
    "colab": {
     "base_uri": "https://localhost:8080/",
     "height": 283
    },
    "id": "CpmK9lXQcBe9",
    "outputId": "dbbe0523-1ac8-47ab-b655-60ae9de9ea08"
   },
   "outputs": [
    {
     "data": {
      "image/png": "[encoded data removed]",
      "text/plain": [
       "<Figure size 432x288 with 1 Axes>"
      ]
     },
     "metadata": {
      "needs_background": "light"
     },
     "output_type": "display_data"
    }
   ],
   "source": [
    "####################################################################################################\n",
    "# 히스토리 객체에 담긴 값을 에포크 별로 시각화합니다.\n",
    "# --------------------------------------------------------------------------------------------------\n",
    "# 에포크가 진행될수록 정확도가 증가합니다.\n",
    "####################################################################################################\n",
    "plt.plot(history.history['acc'])\n",
    "plt.xlabel('epoch')\n",
    "plt.ylabel('accuracy')\n",
    "plt.show()"
   ]
  },
  {
   "cell_type": "code",
   "execution_count": 9,
   "metadata": {
    "ExecuteTime": {
     "end_time": "2022-05-16T16:05:43.802371Z",
     "start_time": "2022-05-16T16:05:15.392373Z"
    },
    "id": "5cJlWITXqJWr"
   },
   "outputs": [],
   "source": [
    "####################################################################################################\n",
    "# 모델을 생성하고 훈련합니다.\n",
    "# --------------------------------------------------------------------------------------------------\n",
    "# 에포크를 증가시켜 훈련 손실이 감소함을 확인합니다.\n",
    "####################################################################################################\n",
    "model = model_fn()\n",
    "model.compile(loss='sparse_categorical_crossentropy', metrics=['accuracy'])\n",
    "\n",
    "history = model.fit(train_scaled, train_target, epochs=20, verbose=0)"
   ]
  },
  {
   "cell_type": "code",
   "execution_count": 10,
   "metadata": {
    "ExecuteTime": {
     "end_time": "2022-05-16T16:05:43.967370Z",
     "start_time": "2022-05-16T16:05:43.804373Z"
    },
    "colab": {
     "base_uri": "https://localhost:8080/",
     "height": 279
    },
    "id": "YT87Fjo2qKPC",
    "outputId": "1b1831ef-8c0b-4c47-d842-d6e32eb7449c"
   },
   "outputs": [
    {
     "data": {
      "image/png": "[encoded data removed]",
      "text/plain": [
       "<Figure size 432x288 with 1 Axes>"
      ]
     },
     "metadata": {
      "needs_background": "light"
     },
     "output_type": "display_data"
    }
   ],
   "source": [
    "####################################################################################################\n",
    "# 히스토리 객체에 담긴 값을 에포크 별로 시각화합니다.\n",
    "# --------------------------------------------------------------------------------------------------\n",
    "# 에포크가 진행될수록 손실이 감소합니다.\n",
    "####################################################################################################\n",
    "plt.plot(history.history['loss'])\n",
    "plt.xlabel('epoch')\n",
    "plt.ylabel('loss')\n",
    "plt.show()"
   ]
  },
  {
   "cell_type": "markdown",
   "metadata": {
    "id": "bGqf6ceRr3zO"
   },
   "source": [
    "## 검증 손실"
   ]
  },
  {
   "cell_type": "code",
   "execution_count": 11,
   "metadata": {
    "ExecuteTime": {
     "end_time": "2022-05-16T16:06:17.136369Z",
     "start_time": "2022-05-16T16:05:43.969372Z"
    },
    "id": "4_iHvMxwu2D2"
   },
   "outputs": [],
   "source": [
    "####################################################################################################\n",
    "# 모델을 생성하고 훈련합니다.\n",
    "# --------------------------------------------------------------------------------------------------\n",
    "# 검증 데이터를 포함시킵니다.\n",
    "####################################################################################################\n",
    "model = model_fn()\n",
    "model.compile(loss='sparse_categorical_crossentropy', metrics=['accuracy'])\n",
    "\n",
    "history = model.fit(train_scaled, train_target, epochs=20, verbose=0, \n",
    "                    validation_data=(val_scaled, val_target))"
   ]
  },
  {
   "cell_type": "code",
   "execution_count": 12,
   "metadata": {
    "ExecuteTime": {
     "end_time": "2022-05-16T16:06:17.151372Z",
     "start_time": "2022-05-16T16:06:17.138372Z"
    },
    "colab": {
     "base_uri": "https://localhost:8080/"
    },
    "id": "nJ5RGEmLu5KI",
    "outputId": "2a59e1ef-9850-4fe1-db3b-a8eaf7d14876"
   },
   "outputs": [
    {
     "name": "stdout",
     "output_type": "stream",
     "text": [
      "dict_keys(['loss', 'acc', 'val_loss', 'val_acc'])\n"
     ]
    }
   ],
   "source": [
    "####################################################################################################\n",
    "# 히스토리 객체에 담기는 정보의 종류를 확인합니다.\n",
    "# --------------------------------------------------------------------------------------------------\n",
    "# 손실 비용과 정확도가 훈련셋, 검증셋에 대해 저장됨을 확인합니다.\n",
    "####################################################################################################\n",
    "print(history.history.keys())"
   ]
  },
  {
   "cell_type": "code",
   "execution_count": 13,
   "metadata": {
    "ExecuteTime": {
     "end_time": "2022-05-16T16:06:17.271372Z",
     "start_time": "2022-05-16T16:06:17.153372Z"
    },
    "colab": {
     "base_uri": "https://localhost:8080/",
     "height": 279
    },
    "id": "zcpm7CpXu5vC",
    "outputId": "0aa51ffc-0966-44d4-e513-0d7db84c87ce"
   },
   "outputs": [
    {
     "data": {
      "image/png": "[encoded data removed]",
      "text/plain": [
       "<Figure size 432x288 with 1 Axes>"
      ]
     },
     "metadata": {
      "needs_background": "light"
     },
     "output_type": "display_data"
    }
   ],
   "source": [
    "####################################################################################################\n",
    "# 히스토리 객체에 담긴 값을 에포크 별로 시각화합니다.\n",
    "# --------------------------------------------------------------------------------------------------\n",
    "# 에포크가 진행될수록 훈련셋의 손실이 감소하는 반면, 검증셋에 대해서는 약간 감소하다가 증가하는 경향이 \n",
    "# 보입니다.\n",
    "####################################################################################################\n",
    "plt.plot(history.history['loss'])\n",
    "plt.plot(history.history['val_loss'])\n",
    "plt.xlabel('epoch')\n",
    "plt.ylabel('loss')\n",
    "plt.legend(['train', 'val'])\n",
    "plt.show()"
   ]
  },
  {
   "cell_type": "code",
   "execution_count": 14,
   "metadata": {
    "ExecuteTime": {
     "end_time": "2022-05-16T16:06:39.936368Z",
     "start_time": "2022-05-16T16:06:17.278371Z"
    },
    "id": "qC8gDwo3qcJv"
   },
   "outputs": [],
   "source": [
    "####################################################################################################\n",
    "# 모델의 하이퍼파라미터를 설정하고 훈련합니다.\n",
    "# --------------------------------------------------------------------------------------------------\n",
    "# 옵티마이저를 'adam'으로 변경해봅니다.\n",
    "# 옵티마이저의 변경을 통해서도 모델의 과적합을 방지할 수 있습니다.\n",
    "####################################################################################################model = model_fn()\n",
    "model.compile(optimizer='adam', loss='sparse_categorical_crossentropy', \n",
    "              metrics=['accuracy'])\n",
    "\n",
    "history = model.fit(train_scaled, train_target, epochs=20, verbose=0, \n",
    "                    validation_data=(val_scaled, val_target))"
   ]
  },
  {
   "cell_type": "code",
   "execution_count": 15,
   "metadata": {
    "ExecuteTime": {
     "end_time": "2022-05-16T16:06:40.071369Z",
     "start_time": "2022-05-16T16:06:39.937370Z"
    },
    "colab": {
     "base_uri": "https://localhost:8080/",
     "height": 279
    },
    "id": "k8wWnyFzsLKb",
    "outputId": "140306b0-3e43-4178-8941-79ec92023510"
   },
   "outputs": [
    {
     "data": {
      "image/png": "[encoded data removed]",
      "text/plain": [
       "<Figure size 432x288 with 1 Axes>"
      ]
     },
     "metadata": {
      "needs_background": "light"
     },
     "output_type": "display_data"
    }
   ],
   "source": [
    "####################################################################################################\n",
    "# 히스토리 객체에 담긴 값을 에포크 별로 시각화합니다.\n",
    "# --------------------------------------------------------------------------------------------------\n",
    "# 에포크가 진행될수록 검증셋에서도 손실이 증가하는 에포크의 위치가 뒤로 늦춰진 것을 볼 수 있습니다.\n",
    "####################################################################################################\n",
    "plt.plot(history.history['loss'])\n",
    "plt.plot(history.history['val_loss'])\n",
    "plt.xlabel('epoch')\n",
    "plt.ylabel('loss')\n",
    "plt.legend(['train', 'val'])\n",
    "plt.show()"
   ]
  },
  {
   "cell_type": "markdown",
   "metadata": {
    "id": "F-dFY8lrYXm3"
   },
   "source": [
    "## 드롭아웃"
   ]
  },
  {
   "cell_type": "code",
   "execution_count": 16,
   "metadata": {
    "ExecuteTime": {
     "end_time": "2022-05-16T16:06:40.116371Z",
     "start_time": "2022-05-16T16:06:40.073373Z"
    },
    "colab": {
     "base_uri": "https://localhost:8080/"
    },
    "id": "AppFtFKgsk--",
    "outputId": "64f0076d-94a0-4003-c907-e8e149a2458f"
   },
   "outputs": [
    {
     "name": "stdout",
     "output_type": "stream",
     "text": [
      "Model: \"sequential_3\"\n",
      "_________________________________________________________________\n",
      "Layer (type)                 Output Shape              Param #   \n",
      "=================================================================\n",
      "flatten_3 (Flatten)          (None, 784)               0         \n",
      "_________________________________________________________________\n",
      "dense_6 (Dense)              (None, 100)               78500     \n",
      "_________________________________________________________________\n",
      "dropout (Dropout)            (None, 100)               0         \n",
      "_________________________________________________________________\n",
      "dense_7 (Dense)              (None, 10)                1010      \n",
      "=================================================================\n",
      "Total params: 79,510\n",
      "Trainable params: 79,510\n",
      "Non-trainable params: 0\n",
      "_________________________________________________________________\n"
     ]
    }
   ],
   "source": [
    "####################################################################################################\n",
    "# 드롭아웃 층을 추가시킨 모델의 정보를 확인합니다.\n",
    "# --------------------------------------------------------------------------------------------------\n",
    "# 드롭아웃 레이어를 추가함으로써 은닉층의 노드 중 30%(매개변수 값)의 작동을 랜덤하게 중단시킵니다.\n",
    "# 작동되지 않는 노드는 샘플에 따라 달라집니다.\n",
    "####################################################################################################\n",
    "model = model_fn(keras.layers.Dropout(0.3))\n",
    "\n",
    "model.summary()"
   ]
  },
  {
   "cell_type": "code",
   "execution_count": 17,
   "metadata": {
    "ExecuteTime": {
     "end_time": "2022-05-16T16:07:03.487368Z",
     "start_time": "2022-05-16T16:06:40.117373Z"
    },
    "id": "_TSe7oM9v1lW"
   },
   "outputs": [],
   "source": [
    "####################################################################################################\n",
    "# 인공신경망 훈련을 위한 설정값(손실함수와 성능지표)을 입력하고 모델을 훈련합니다.\n",
    "# --------------------------------------------------------------------------------------------------\n",
    "# 드롭아웃 층이 포함된 모델을 훈련합니다.\n",
    "####################################################################################################\n",
    "model.compile(optimizer='adam', loss='sparse_categorical_crossentropy', \n",
    "              metrics=['accuracy'])\n",
    "\n",
    "history = model.fit(train_scaled, train_target, epochs=20, verbose=0, \n",
    "                    validation_data=(val_scaled, val_target))"
   ]
  },
  {
   "cell_type": "code",
   "execution_count": 18,
   "metadata": {
    "ExecuteTime": {
     "end_time": "2022-05-16T16:07:03.622370Z",
     "start_time": "2022-05-16T16:07:03.489374Z"
    },
    "colab": {
     "base_uri": "https://localhost:8080/",
     "height": 279
    },
    "id": "Rj_syB_iv30l",
    "outputId": "71f26e56-f44f-44c9-ce4b-fc6b60b469ce"
   },
   "outputs": [
    {
     "data": {
      "image/png": "[encoded data removed]",
      "text/plain": [
       "<Figure size 432x288 with 1 Axes>"
      ]
     },
     "metadata": {
      "needs_background": "light"
     },
     "output_type": "display_data"
    }
   ],
   "source": [
    "####################################################################################################\n",
    "# 히스토리 객체에 담긴 값을 에포크 별로 시각화합니다.\n",
    "# --------------------------------------------------------------------------------------------------\n",
    "# 에포크가 진행될수록 검증셋의 손실이 많이 감소한 것으로 보아, 드롭아웃이 잘 작동되었음을 확인할 수 있습니다.\n",
    "####################################################################################################\n",
    "plt.plot(history.history['loss'])\n",
    "plt.plot(history.history['val_loss'])\n",
    "plt.xlabel('epoch')\n",
    "plt.ylabel('loss')\n",
    "plt.legend(['train', 'val'])\n",
    "plt.show()"
   ]
  },
  {
   "cell_type": "markdown",
   "metadata": {
    "id": "hQi91PCQorHr"
   },
   "source": [
    "## 모델 저장과 복원"
   ]
  },
  {
   "cell_type": "code",
   "execution_count": 19,
   "metadata": {
    "ExecuteTime": {
     "end_time": "2022-05-16T16:07:15.893367Z",
     "start_time": "2022-05-16T16:07:03.624371Z"
    },
    "id": "npsYdX3rv6Oa"
   },
   "outputs": [],
   "source": [
    "####################################################################################################\n",
    "# 모델을 생성하고 훈련합니다.\n",
    "####################################################################################################model = model_fn()\n",
    "model = model_fn(keras.layers.Dropout(0.3))\n",
    "model.compile(optimizer='adam', loss='sparse_categorical_crossentropy', \n",
    "              metrics=['accuracy'])\n",
    "\n",
    "history = model.fit(train_scaled, train_target, epochs=10, verbose=0, \n",
    "                    validation_data=(val_scaled, val_target))"
   ]
  },
  {
   "cell_type": "code",
   "execution_count": 20,
   "metadata": {
    "ExecuteTime": {
     "end_time": "2022-05-16T16:07:15.908370Z",
     "start_time": "2022-05-16T16:07:15.894371Z"
    },
    "id": "hWVYzt0Y2FPm"
   },
   "outputs": [],
   "source": [
    "####################################################################################################\n",
    "# 모델에서 학습한 파라미터(가중치, 절편)을 파일에 저장합니다.\n",
    "####################################################################################################model = model_fn()\n",
    "model.save_weights('model-weights.h5')"
   ]
  },
  {
   "cell_type": "code",
   "execution_count": 21,
   "metadata": {
    "ExecuteTime": {
     "end_time": "2022-05-16T16:07:15.938369Z",
     "start_time": "2022-05-16T16:07:15.910371Z"
    },
    "id": "NissHzcq3xbN"
   },
   "outputs": [],
   "source": [
    "####################################################################################################\n",
    "# 학습된 모델 자체를 파일에 저장합니다.\n",
    "####################################################################################################model = model_fn()\n",
    "model.save('model-whole.h5')"
   ]
  },
  {
   "cell_type": "code",
   "execution_count": 22,
   "metadata": {
    "ExecuteTime": {
     "end_time": "2022-05-16T16:07:15.983369Z",
     "start_time": "2022-05-16T16:07:15.939370Z"
    },
    "colab": {
     "base_uri": "https://localhost:8080/"
    },
    "id": "2vljkGGu3AUl",
    "outputId": "27ddb7a3-99c7-476d-c2b4-ccdb8432a981",
    "scrolled": true
   },
   "outputs": [
    {
     "name": "stdout",
     "output_type": "stream",
     "text": [
      "-rw-r--r--  1 boysbeanxious  staff  332616  5 18 21:32 model-weights.h5\r\n",
      "-rw-r--r--  1 boysbeanxious  staff  982904  5 18 21:32 model-whole.h5\r\n"
     ]
    }
   ],
   "source": [
    "!ls -al *.h5"
   ]
  },
  {
   "cell_type": "code",
   "execution_count": 23,
   "metadata": {
    "ExecuteTime": {
     "end_time": "2022-05-16T16:07:16.028369Z",
     "start_time": "2022-05-16T16:07:15.984369Z"
    },
    "id": "7-t6gC5Z3GCM"
   },
   "outputs": [],
   "source": [
    "####################################################################################################\n",
    "# 모델에서 학습한 파라미터(가중치, 절편)를 파일로부터 읽어옵니다.\n",
    "####################################################################################################model = model_fn()\n",
    "model = model_fn(keras.layers.Dropout(0.3))"
   ]
  },
  {
   "cell_type": "code",
   "execution_count": 24,
   "metadata": {},
   "outputs": [],
   "source": [
    "# pip install h5py==2.10.0\n",
    "# https://littlestartime.tistory.com/16"
   ]
  },
  {
   "cell_type": "code",
   "execution_count": 25,
   "metadata": {},
   "outputs": [],
   "source": [
    "model.load_weights('model-weights.h5')"
   ]
  },
  {
   "cell_type": "code",
   "execution_count": null,
   "metadata": {},
   "outputs": [],
   "source": []
  },
  {
   "cell_type": "code",
   "execution_count": 26,
   "metadata": {
    "ExecuteTime": {
     "end_time": "2022-05-16T16:07:16.328371Z",
     "start_time": "2022-05-16T16:07:16.029372Z"
    },
    "colab": {
     "base_uri": "https://localhost:8080/"
    },
    "id": "pHV9tBnzi8St",
    "outputId": "7da9201e-32c9-4802-dad4-9801c4cb50fc"
   },
   "outputs": [
    {
     "name": "stdout",
     "output_type": "stream",
     "text": [
      "0.877\n"
     ]
    }
   ],
   "source": [
    "####################################################################################################\n",
    "# 모델의 성능을 확인합니다.\n",
    "# --------------------------------------------------------------------------------------------------\n",
    "# 검증 데이터에 대해 예측값(레이블)을 구하고, 이를 정답(타깃 레이블)과 비교하여 정확도를 구합니다.\n",
    "####################################################################################################\n",
    "import numpy as np\n",
    "\n",
    "val_labels = np.argmax(model.predict(val_scaled), axis=-1)\n",
    "print(np.mean(val_labels == val_target))"
   ]
  },
  {
   "cell_type": "code",
   "execution_count": 27,
   "metadata": {
    "ExecuteTime": {
     "end_time": "2022-05-16T16:07:16.854372Z",
     "start_time": "2022-05-16T16:07:16.330370Z"
    },
    "colab": {
     "base_uri": "https://localhost:8080/"
    },
    "id": "sRM3Vpki4QyH",
    "outputId": "69127611-2c5f-4452-b716-fb4a8de59c4c"
   },
   "outputs": [
    {
     "name": "stdout",
     "output_type": "stream",
     "text": [
      "WARNING:tensorflow:From /Users/boysbeanxious/opt/anaconda3/lib/python3.7/site-packages/tensorflow_core/python/ops/init_ops.py:97: calling GlorotUniform.__init__ (from tensorflow.python.ops.init_ops) with dtype is deprecated and will be removed in a future version.\n",
      "Instructions for updating:\n",
      "Call initializer instance with the dtype argument instead of passing it to the constructor\n",
      "WARNING:tensorflow:From /Users/boysbeanxious/opt/anaconda3/lib/python3.7/site-packages/tensorflow_core/python/ops/init_ops.py:97: calling Zeros.__init__ (from tensorflow.python.ops.init_ops) with dtype is deprecated and will be removed in a future version.\n",
      "Instructions for updating:\n",
      "Call initializer instance with the dtype argument instead of passing it to the constructor\n",
      "12000/12000 [==============================] - 0s 23us/sample - loss: 0.3435 - acc: 0.8770\n"
     ]
    },
    {
     "data": {
      "text/plain": [
       "[0.34352306501070656, 0.877]"
      ]
     },
     "execution_count": 27,
     "metadata": {},
     "output_type": "execute_result"
    }
   ],
   "source": [
    "####################################################################################################\n",
    "# 파일에 저장된 모델을 읽어와서 모델 객체에 할당합니다.\n",
    "# --------------------------------------------------------------------------------------------------\n",
    "# 파라미터뿐만 읽어오는 방식이 아니라 모델 자체를 읽어옵니다.\n",
    "####################################################################################################\n",
    "model = keras.models.load_model('model-whole.h5')\n",
    "\n",
    "model.evaluate(val_scaled, val_target)"
   ]
  },
  {
   "cell_type": "markdown",
   "metadata": {
    "id": "4NTCF3YD3EyA"
   },
   "source": [
    "## 콜백"
   ]
  },
  {
   "cell_type": "code",
   "execution_count": 28,
   "metadata": {
    "ExecuteTime": {
     "end_time": "2022-05-16T16:07:43.285371Z",
     "start_time": "2022-05-16T16:07:16.856371Z"
    },
    "colab": {
     "base_uri": "https://localhost:8080/"
    },
    "id": "L2lKN_934VB4",
    "outputId": "29d7e4a2-5363-4e8d-b700-a531bb4759df"
   },
   "outputs": [
    {
     "data": {
      "text/plain": [
       "<tensorflow.python.keras.callbacks.History at 0x7ff575d97dd0>"
      ]
     },
     "execution_count": 28,
     "metadata": {},
     "output_type": "execute_result"
    }
   ],
   "source": [
    "####################################################################################################\n",
    "# 콜백 기능을 활용하여 최적의 모델을 저장합니다.\n",
    "# --------------------------------------------------------------------------------------------------\n",
    "# 콜백은 훈련 중에 어떤 작업을 수행할 수 있게 해주는 객체를 의미합니다.\n",
    "# 콜백을 사용함으로써 학습과정에서 가장 성능이 좋은 모델을 파일에 저장하게 됩니다.\n",
    "####################################################################################################\n",
    "model = model_fn(keras.layers.Dropout(0.3))\n",
    "model.compile(optimizer='adam', loss='sparse_categorical_crossentropy', \n",
    "              metrics=['accuracy'])\n",
    "\n",
    "checkpoint_cb = keras.callbacks.ModelCheckpoint('best-model.h5', \n",
    "                                                save_best_only=True)\n",
    "\n",
    "model.fit(train_scaled, train_target, epochs=20, verbose=0, \n",
    "          validation_data=(val_scaled, val_target),\n",
    "          callbacks=[checkpoint_cb])"
   ]
  },
  {
   "cell_type": "code",
   "execution_count": 29,
   "metadata": {
    "ExecuteTime": {
     "end_time": "2022-05-16T16:07:43.720369Z",
     "start_time": "2022-05-16T16:07:43.287373Z"
    },
    "colab": {
     "base_uri": "https://localhost:8080/"
    },
    "id": "qYISeH6U5oh9",
    "outputId": "1f4391a4-6dab-403f-aa44-a00cb8b6dba8"
   },
   "outputs": [
    {
     "name": "stdout",
     "output_type": "stream",
     "text": [
      "12000/12000 [==============================] - 0s 26us/sample - loss: 0.3201 - acc: 0.8837\n"
     ]
    },
    {
     "data": {
      "text/plain": [
       "[0.3201187046567599, 0.8836667]"
      ]
     },
     "execution_count": 29,
     "metadata": {},
     "output_type": "execute_result"
    }
   ],
   "source": [
    "####################################################################################################\n",
    "# 콜백 기능을 활용하여 최적의 모델을 저장합니다.\n",
    "# --------------------------------------------------------------------------------------------------\n",
    "# 콜백에 의해 가장 성능이 좋은 모델이 저장된 파일로부터 모델을 읽어옵니다.\n",
    "# 검증 데이터를 사용하여 모델을 평가합니다.\n",
    "####################################################################################################\n",
    "model = keras.models.load_model('best-model.h5')\n",
    "\n",
    "model.evaluate(val_scaled, val_target)"
   ]
  },
  {
   "cell_type": "code",
   "execution_count": 30,
   "metadata": {
    "ExecuteTime": {
     "end_time": "2022-05-16T16:07:51.955168Z",
     "start_time": "2022-05-16T16:07:43.722370Z"
    },
    "id": "HLLlkR0s5Nd8"
   },
   "outputs": [],
   "source": [
    "####################################################################################################\n",
    "# 콜백 기능을 활용하여 최고의 모델을 저장하고, 훈련을 조기종료합니다.\n",
    "# --------------------------------------------------------------------------------------------------\n",
    "# 콜백을 사용함으로써 학습과정에서 가장 성능이 좋은 모델을 파일에 저장하게 됩니다.\n",
    "# patience=2로 지정함으로써, 성능이 나빠지기 시작하면 2번의 에포크만에 훈련을 중단합니다.\n",
    "# restore_best_weights=True로 지정함으로써, 가장 성능이 좋은 모델을 반환하도록 합니다.\n",
    "# 즉, 훈련이 종료된 후 model 객체는 가장 성능이 좋은 모델이 됩니다.\n",
    "####################################################################################################\n",
    "model = model_fn(keras.layers.Dropout(0.3))\n",
    "model.compile(optimizer='adam', loss='sparse_categorical_crossentropy', \n",
    "              metrics=['accuracy'])\n",
    "\n",
    "checkpoint_cb = keras.callbacks.ModelCheckpoint('best-model.h5', \n",
    "                                                save_best_only=True)\n",
    "early_stopping_cb = keras.callbacks.EarlyStopping(patience=2,\n",
    "                                                  restore_best_weights=True)\n",
    "\n",
    "history = model.fit(train_scaled, train_target, epochs=20, verbose=0, \n",
    "                    validation_data=(val_scaled, val_target),\n",
    "                    callbacks=[checkpoint_cb, early_stopping_cb])"
   ]
  },
  {
   "cell_type": "code",
   "execution_count": 31,
   "metadata": {
    "ExecuteTime": {
     "end_time": "2022-05-16T16:07:51.970173Z",
     "start_time": "2022-05-16T16:07:51.956173Z"
    },
    "colab": {
     "base_uri": "https://localhost:8080/"
    },
    "id": "b6TazMcDxqXD",
    "outputId": "3f559a9c-3ba2-478a-b607-d8ac6ea4d55a"
   },
   "outputs": [
    {
     "name": "stdout",
     "output_type": "stream",
     "text": [
      "8\n"
     ]
    }
   ],
   "source": [
    "####################################################################################################\n",
    "# 콜백 기능을 활용하여 훈련이 조기종료된 에포크를 확인합니다.\n",
    "####################################################################################################\n",
    "print(early_stopping_cb.stopped_epoch)"
   ]
  },
  {
   "cell_type": "code",
   "execution_count": 32,
   "metadata": {
    "ExecuteTime": {
     "end_time": "2022-05-16T16:07:52.075172Z",
     "start_time": "2022-05-16T16:07:51.972173Z"
    },
    "colab": {
     "base_uri": "https://localhost:8080/",
     "height": 279
    },
    "id": "QrUNYGPB6Kq7",
    "outputId": "13ccaee5-3d8b-421b-8636-90cf23dbacba"
   },
   "outputs": [
    {
     "data": {
      "image/png": "[encoded data removed]",
      "text/plain": [
       "<Figure size 432x288 with 1 Axes>"
      ]
     },
     "metadata": {
      "needs_background": "light"
     },
     "output_type": "display_data"
    }
   ],
   "source": [
    "####################################################################################################\n",
    "# 히스토리 객체에 담긴 값을 에포크 별로 시각화합니다.\n",
    "# --------------------------------------------------------------------------------------------------\n",
    "# 에포크가 진행될수록 훈련셋, 검증셋 모두 손실이 잘 감소하였으며, 조기종료된 위치에서 patience=2만큼 전에\n",
    "# 검증 손실이 최솟값이 됨을 확인할 수 있습니다.\n",
    "####################################################################################################plt.plot(history.history['loss'])\n",
    "plt.plot(history.history['val_loss'])\n",
    "plt.xlabel('epoch')\n",
    "plt.ylabel('loss')\n",
    "plt.legend(['train', 'val'])\n",
    "plt.show()"
   ]
  },
  {
   "cell_type": "code",
   "execution_count": 33,
   "metadata": {
    "ExecuteTime": {
     "end_time": "2022-05-16T16:07:52.090173Z",
     "start_time": "2022-05-16T16:07:52.077173Z"
    }
   },
   "outputs": [
    {
     "data": {
      "text/plain": [
       "[0.5920794563094774,\n",
       " 0.44399780136346817,\n",
       " 0.40927640397598347,\n",
       " 0.38571179579695064,\n",
       " 0.36945007708172,\n",
       " 0.3562647065470616,\n",
       " 0.34554174429674944,\n",
       " 0.3360273033628861,\n",
       " 0.32887491217752296]"
      ]
     },
     "execution_count": 33,
     "metadata": {},
     "output_type": "execute_result"
    }
   ],
   "source": [
    "####################################################################################################\n",
    "# 히스토리 객체에 담긴 값을 출력해봅니다.\n",
    "# --------------------------------------------------------------------------------------------------\n",
    "# 훈련 손실은 계속 감소함을 확인할 수 있습니다.\n",
    "####################################################################################################plt.plot(history.history['loss'])\n",
    "history.history['loss']"
   ]
  },
  {
   "cell_type": "code",
   "execution_count": 34,
   "metadata": {
    "ExecuteTime": {
     "end_time": "2022-05-16T16:07:52.105174Z",
     "start_time": "2022-05-16T16:07:52.092175Z"
    }
   },
   "outputs": [
    {
     "data": {
      "text/plain": [
       "[0.4243205046057701,\n",
       " 0.39491527318954467,\n",
       " 0.37351421852906547,\n",
       " 0.35773060329755146,\n",
       " 0.35008097664515175,\n",
       " 0.3529474812547366,\n",
       " 0.3275658451418082,\n",
       " 0.33595686868826546,\n",
       " 0.3480041119058927]"
      ]
     },
     "execution_count": 34,
     "metadata": {},
     "output_type": "execute_result"
    }
   ],
   "source": [
    "####################################################################################################\n",
    "# 히스토리 객체에 담긴 값을 출력해봅니다.\n",
    "# --------------------------------------------------------------------------------------------------\n",
    "# 검증 손실은 epoch=4까지 계속 감소하다가 이후에는 증가함을 확인할 수 있습니다.\n",
    "####################################################################################################plt.plot(history.history['loss'])\n",
    "history.history['val_loss']"
   ]
  },
  {
   "cell_type": "code",
   "execution_count": 35,
   "metadata": {
    "ExecuteTime": {
     "end_time": "2022-05-16T16:07:52.540171Z",
     "start_time": "2022-05-16T16:07:52.107174Z"
    },
    "colab": {
     "base_uri": "https://localhost:8080/"
    },
    "id": "H-7y1qlg5yqO",
    "outputId": "f374810c-71af-4690-a90d-7571e734e62e"
   },
   "outputs": [
    {
     "name": "stdout",
     "output_type": "stream",
     "text": [
      "12000/12000 [==============================] - 0s 19us/sample - loss: 0.3276 - acc: 0.8813\n"
     ]
    },
    {
     "data": {
      "text/plain": [
       "[0.3275658435821533, 0.88133335]"
      ]
     },
     "execution_count": 35,
     "metadata": {},
     "output_type": "execute_result"
    }
   ],
   "source": [
    "####################################################################################################\n",
    "# 모델의 성능을 확인합니다.\n",
    "####################################################################################################\n",
    "model.evaluate(val_scaled, val_target)"
   ]
  },
  {
   "cell_type": "code",
   "execution_count": null,
   "metadata": {},
   "outputs": [],
   "source": []
  },
  {
   "cell_type": "code",
   "execution_count": null,
   "metadata": {},
   "outputs": [],
   "source": []
  },
  {
   "cell_type": "code",
   "execution_count": null,
   "metadata": {},
   "outputs": [],
   "source": []
  }
 ],
 "metadata": {
  "accelerator": "GPU",
  "colab": {
   "collapsed_sections": [],
   "name": "7-3 신경망 모델 훈련.ipynb",
   "provenance": []
  },
  "kernelspec": {
   "display_name": "Python 3",
   "language": "python",
   "name": "python3"
  },
  "language_info": {
   "codemirror_mode": {
    "name": "ipython",
    "version": 3
   },
   "file_extension": ".py",
   "mimetype": "text/x-python",
   "name": "python",
   "nbconvert_exporter": "python",
   "pygments_lexer": "ipython3",
   "version": "3.7.6"
  },
  "toc": {
   "base_numbering": 1,
   "nav_menu": {},
   "number_sections": true,
   "sideBar": true,
   "skip_h1_title": false,
   "title_cell": "Table of Contents",
   "title_sidebar": "Contents",
   "toc_cell": false,
   "toc_position": {},
   "toc_section_display": true,
   "toc_window_display": false
  },
  "varInspector": {
   "cols": {
    "lenName": 16,
    "lenType": 16,
    "lenVar": 40
   },
   "kernels_config": {
    "python": {
     "delete_cmd_postfix": "",
     "delete_cmd_prefix": "del ",
     "library": "var_list.py",
     "varRefreshCmd": "print(var_dic_list())"
    },
    "r": {
     "delete_cmd_postfix": ") ",
     "delete_cmd_prefix": "rm(",
     "library": "var_list.r",
     "varRefreshCmd": "cat(var_dic_list()) "
    }
   },
   "types_to_exclude": [
    "module",
    "function",
    "builtin_function_or_method",
    "instance",
    "_Feature"
   ],
   "window_display": false
  }
 },
 "nbformat": 4,
 "nbformat_minor": 1
}
