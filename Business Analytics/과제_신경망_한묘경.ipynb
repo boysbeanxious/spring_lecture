{
  "nbformat": 4,
  "nbformat_minor": 0,
  "metadata": {
    "colab": {
      "name": "과제_신경망_한묘경.ipynb",
      "provenance": [],
      "collapsed_sections": []
    },
    "kernelspec": {
      "name": "python3",
      "display_name": "Python 3"
    },
    "language_info": {
      "name": "python"
    },
    "accelerator": "GPU"
  },
  "cells": [
    {
      "cell_type": "code",
      "source": [
        "# https://unfinishedgod.netlify.app/2021/06/24/python-cnn%EC%9D%84-%EC%82%AC%EC%9A%A9%ED%95%9C-fashion-mnist/\n",
        "# 참고 링크"
      ],
      "metadata": {
        "id": "NLqegZVKcNhL"
      },
      "execution_count": null,
      "outputs": []
    },
    {
      "cell_type": "code",
      "execution_count": 1,
      "metadata": {
        "id": "G4hetFWebkUo"
      },
      "outputs": [],
      "source": [
        "import sys\n",
        "import os\n",
        "\n",
        "import pandas as pd\n",
        "import numpy as np\n",
        "import tensorflow as tf\n",
        "import matplotlib.pyplot as plt\n",
        "import seaborn as sns\n",
        "\n",
        "from keras.callbacks import ModelCheckpoint, EarlyStopping\n",
        "from keras.datasets import mnist\n",
        "from keras.utils import np_utils\n",
        "from keras.models import Sequential\n",
        "from keras.layers import Dense, Dropout, Flatten, Conv2D, MaxPooling2D\n",
        "\n",
        "from sklearn.metrics import confusion_matrix\n",
        "from sklearn.model_selection import train_test_split\n",
        "from IPython.display import Image\n",
        "from tensorflow import keras"
      ]
    },
    {
      "cell_type": "code",
      "source": [
        "(X_train, Y_train), (X_val, Y_val) = \\\n",
        "    keras.datasets.fashion_mnist.load_data()"
      ],
      "metadata": {
        "colab": {
          "base_uri": "https://localhost:8080/"
        },
        "id": "HnBusZLybub_",
        "outputId": "be75310c-8943-4740-879a-da7e328e470b"
      },
      "execution_count": 2,
      "outputs": [
        {
          "output_type": "stream",
          "name": "stdout",
          "text": [
            "Downloading data from https://storage.googleapis.com/tensorflow/tf-keras-datasets/train-labels-idx1-ubyte.gz\n",
            "32768/29515 [=================================] - 0s 0us/step\n",
            "40960/29515 [=========================================] - 0s 0us/step\n",
            "Downloading data from https://storage.googleapis.com/tensorflow/tf-keras-datasets/train-images-idx3-ubyte.gz\n",
            "26427392/26421880 [==============================] - 0s 0us/step\n",
            "26435584/26421880 [==============================] - 0s 0us/step\n",
            "Downloading data from https://storage.googleapis.com/tensorflow/tf-keras-datasets/t10k-labels-idx1-ubyte.gz\n",
            "16384/5148 [===============================================================================================] - 0s 0us/step\n",
            "Downloading data from https://storage.googleapis.com/tensorflow/tf-keras-datasets/t10k-images-idx3-ubyte.gz\n",
            "4423680/4422102 [==============================] - 0s 0us/step\n",
            "4431872/4422102 [==============================] - 0s 0us/step\n"
          ]
        }
      ]
    },
    {
      "cell_type": "code",
      "source": [
        "X_train = X_train.reshape(X_train.shape[0], 28, 28, 1).astype('float32') / 255\n",
        "X_val = X_val.reshape(X_val.shape[0], 28, 28, 1).astype('float32') / 255\n",
        "\n",
        "Y_train = np_utils.to_categorical(Y_train)\n",
        "Y_val = np_utils.to_categorical(Y_val)"
      ],
      "metadata": {
        "id": "H69P9c1CbvrP"
      },
      "execution_count": 3,
      "outputs": []
    },
    {
      "cell_type": "code",
      "source": [
        "model = Sequential()\n",
        "\n",
        "model.add(Conv2D(32, kernel_size = (3,3), input_shape=(28,28,1), activation='relu'))\n",
        "model.add(Conv2D(64,(3,3), activation='relu'))\n",
        "model.add(MaxPooling2D(pool_size=2))\n",
        "model.add(Dropout(0.25))\n",
        "model.add(Flatten())\n",
        "model.add(Dense(128, activation='relu'))\n",
        "model.add(Dropout(0.5))\n",
        "model.add(Dense(10, activation='softmax'))"
      ],
      "metadata": {
        "id": "b3TL1SEHbw5V"
      },
      "execution_count": 4,
      "outputs": []
    },
    {
      "cell_type": "code",
      "source": [
        "model.summary()"
      ],
      "metadata": {
        "colab": {
          "base_uri": "https://localhost:8080/"
        },
        "id": "UhkAPEczb287",
        "outputId": "29ac110d-2007-46a0-fc6a-1536233de407"
      },
      "execution_count": 5,
      "outputs": [
        {
          "output_type": "stream",
          "name": "stdout",
          "text": [
            "Model: \"sequential\"\n",
            "_________________________________________________________________\n",
            " Layer (type)                Output Shape              Param #   \n",
            "=================================================================\n",
            " conv2d (Conv2D)             (None, 26, 26, 32)        320       \n",
            "                                                                 \n",
            " conv2d_1 (Conv2D)           (None, 24, 24, 64)        18496     \n",
            "                                                                 \n",
            " max_pooling2d (MaxPooling2D  (None, 12, 12, 64)       0         \n",
            " )                                                               \n",
            "                                                                 \n",
            " dropout (Dropout)           (None, 12, 12, 64)        0         \n",
            "                                                                 \n",
            " flatten (Flatten)           (None, 9216)              0         \n",
            "                                                                 \n",
            " dense (Dense)               (None, 128)               1179776   \n",
            "                                                                 \n",
            " dropout_1 (Dropout)         (None, 128)               0         \n",
            "                                                                 \n",
            " dense_1 (Dense)             (None, 10)                1290      \n",
            "                                                                 \n",
            "=================================================================\n",
            "Total params: 1,199,882\n",
            "Trainable params: 1,199,882\n",
            "Non-trainable params: 0\n",
            "_________________________________________________________________\n"
          ]
        }
      ]
    },
    {
      "cell_type": "code",
      "source": [
        "model.compile(loss = 'categorical_crossentropy',\n",
        "              optimizer='adam',\n",
        "              metrics = ['accuracy'])"
      ],
      "metadata": {
        "id": "1qXJTGKgb4QN"
      },
      "execution_count": 6,
      "outputs": []
    },
    {
      "cell_type": "code",
      "source": [
        "checkpoint_cb = keras.callbacks.ModelCheckpoint('best-model.h5', \n",
        "                                                save_best_only=True)\n",
        "early_stopping_cb = keras.callbacks.EarlyStopping(patience=2,\n",
        "                                                  restore_best_weights=True)"
      ],
      "metadata": {
        "id": "QNz00HSnb6C8"
      },
      "execution_count": 7,
      "outputs": []
    },
    {
      "cell_type": "code",
      "source": [
        "history = model.fit(X_train, Y_train, validation_data = (X_val, Y_val), \n",
        "                    epochs=20, \n",
        "                    batch_size=200, \n",
        "                    verbose=1, \n",
        "                    callbacks=[early_stopping_cb, checkpoint_cb])\n",
        "\n",
        "print(\"\\n Test Accuracy: %.4f\" % (model.evaluate(X_val, Y_val)[1]))"
      ],
      "metadata": {
        "colab": {
          "base_uri": "https://localhost:8080/"
        },
        "id": "3cJ2BvNIb7DF",
        "outputId": "c01344b2-a122-4cb3-e23b-142f32de24cd"
      },
      "execution_count": 9,
      "outputs": [
        {
          "output_type": "stream",
          "name": "stdout",
          "text": [
            "Epoch 1/20\n",
            "300/300 [==============================] - 7s 22ms/step - loss: 0.2514 - accuracy: 0.9087 - val_loss: 0.2574 - val_accuracy: 0.9028\n",
            "Epoch 2/20\n",
            "300/300 [==============================] - 7s 25ms/step - loss: 0.2301 - accuracy: 0.9157 - val_loss: 0.2457 - val_accuracy: 0.9110\n",
            "Epoch 3/20\n",
            "300/300 [==============================] - 7s 23ms/step - loss: 0.2135 - accuracy: 0.9219 - val_loss: 0.2322 - val_accuracy: 0.9157\n",
            "Epoch 4/20\n",
            "300/300 [==============================] - 7s 22ms/step - loss: 0.1983 - accuracy: 0.9265 - val_loss: 0.2189 - val_accuracy: 0.9199\n",
            "Epoch 5/20\n",
            "300/300 [==============================] - 8s 27ms/step - loss: 0.1852 - accuracy: 0.9314 - val_loss: 0.2129 - val_accuracy: 0.9242\n",
            "Epoch 6/20\n",
            "300/300 [==============================] - 7s 23ms/step - loss: 0.1732 - accuracy: 0.9352 - val_loss: 0.2179 - val_accuracy: 0.9226\n",
            "Epoch 7/20\n",
            "300/300 [==============================] - 7s 23ms/step - loss: 0.1629 - accuracy: 0.9393 - val_loss: 0.2151 - val_accuracy: 0.9271\n",
            "313/313 [==============================] - 2s 5ms/step - loss: 0.2129 - accuracy: 0.9242\n",
            "\n",
            " Test Accuracy: 0.9242\n"
          ]
        }
      ]
    },
    {
      "cell_type": "code",
      "source": [
        "fig, (ax1, ax2) = plt.subplots(1, 2, figsize = (12, 5))\n",
        "\n",
        "# 오차\n",
        "y_vloss = history.history['val_loss']\n",
        "\n",
        "# 학습셋 오차\n",
        "y_loss = history.history['loss']\n",
        "\n",
        "# 그래프로 표현\n",
        "x_len = np.arange(len(y_loss))\n",
        "ax1.plot(x_len, y_vloss, marker = '.', c=\"red\", label='Testset_loss')\n",
        "ax1.plot(x_len, y_loss, marker = '.', c='blue', label = 'Trainset_loss')\n",
        "\n",
        "# 그래프에 그리드를 주고 레이블을 표시\n",
        "ax1.legend(loc='upper right')\n",
        "ax1.grid()\n",
        "ax1.set(xlabel='epoch', ylabel='loss')\n",
        "\n",
        "\n",
        "# 정확도\n",
        "y_vaccuracy = history.history['val_accuracy']\n",
        "\n",
        "# 학습셋\n",
        "y_accuracy = history.history['accuracy']\n",
        "\n",
        "# 그래프로 표현\n",
        "x_len = np.arange(len(y_accuracy))\n",
        "ax2.plot(x_len, y_vaccuracy, marker = '.', c=\"red\", label='Testset_accuracy')\n",
        "ax2.plot(x_len, y_accuracy, marker = '.', c='blue', label = 'Trainset_accuracy')\n",
        "\n",
        "# 그래프에 그리드를 주고 레이블을 표시\n",
        "ax2.legend(loc='lower right')\n",
        "ax2.grid()\n",
        "\n",
        "ax2.set(xlabel='epoch', ylabel='accuracy')\n",
        "\n",
        "# draw gridlines\n",
        "ax2.grid(True)\n",
        "plt.show()"
      ],
      "metadata": {
        "colab": {
          "base_uri": "https://localhost:8080/",
          "height": 334
        },
        "id": "gotO3Ze9b8uw",
        "outputId": "e5e2f906-cf91-4cfb-8e80-8657a9d13b88"
      },
      "execution_count": 10,
      "outputs": [
        {
          "output_type": "display_data",
          "data": {
            "text/plain": [
              "<Figure size 864x360 with 2 Axes>"
            ],
            "image/png": "[encoded data removed]"
          },
          "metadata": {
            "needs_background": "light"
          }
        }
      ]
    },
    {
      "cell_type": "code",
      "source": [
        ""
      ],
      "metadata": {
        "id": "Y5SXW9d2cXT1"
      },
      "execution_count": null,
      "outputs": []
    }
  ]
}