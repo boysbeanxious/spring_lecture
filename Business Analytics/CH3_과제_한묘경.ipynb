{
 "cells": [
  {
   "cell_type": "markdown",
   "metadata": {},
   "source": [
    "# Q1\n",
    "Try to build a classifier for the MNIST dataset that achieves over 97% accuracy on the test set. \n",
    "Hint: the KNeighborsClassifier works quite well for this task; you \n",
    "just need to find good hyperparameter values (try a grid search on the and hyperparameters)."
   ]
  },
  {
   "cell_type": "markdown",
   "metadata": {},
   "source": [
    "### 0. 필요 패키지 import"
   ]
  },
  {
   "cell_type": "code",
   "execution_count": 1,
   "metadata": {},
   "outputs": [],
   "source": [
    "# Python ≥3.5 is required\n",
    "import sys\n",
    "assert sys.version_info >= (3, 5)\n",
    "\n",
    "# Is this notebook running on Colab or Kaggle?\n",
    "IS_COLAB = \"google.colab\" in sys.modules\n",
    "IS_KAGGLE = \"kaggle_secrets\" in sys.modules\n",
    "\n",
    "# Scikit-Learn ≥0.20 is required\n",
    "import sklearn\n",
    "assert sklearn.__version__ >= \"0.20\"\n",
    "\n",
    "# Common imports\n",
    "import numpy as np\n",
    "import os\n",
    "\n",
    "# to make this notebook's output stable across runs\n",
    "np.random.seed(42)\n",
    "\n",
    "# To plot pretty figures\n",
    "%matplotlib inline\n",
    "import matplotlib as mpl\n",
    "import matplotlib.pyplot as plt\n",
    "mpl.rc('axes', labelsize=14)\n",
    "mpl.rc('xtick', labelsize=12)\n",
    "mpl.rc('ytick', labelsize=12)\n",
    "\n",
    "# Where to save the figures\n",
    "PROJECT_ROOT_DIR = \".\"\n",
    "CHAPTER_ID = \"classification\"\n",
    "IMAGES_PATH = os.path.join(PROJECT_ROOT_DIR, \"images\", CHAPTER_ID)\n",
    "os.makedirs(IMAGES_PATH, exist_ok=True)\n",
    "\n",
    "def save_fig(fig_id, tight_layout=True, fig_extension=\"png\", resolution=300):\n",
    "    path = os.path.join(IMAGES_PATH, fig_id + \".\" + fig_extension)\n",
    "    print(\"Saving figure\", fig_id)\n",
    "    if tight_layout:\n",
    "        plt.tight_layout()\n",
    "    plt.savefig(path, format=fig_extension, dpi=resolution)"
   ]
  },
  {
   "cell_type": "code",
   "execution_count": 2,
   "metadata": {},
   "outputs": [
    {
     "data": {
      "text/plain": [
       "dict_keys(['data', 'target', 'frame', 'categories', 'feature_names', 'target_names', 'DESCR', 'details', 'url'])"
      ]
     },
     "execution_count": 2,
     "metadata": {},
     "output_type": "execute_result"
    }
   ],
   "source": [
    "from sklearn.datasets import fetch_openml\n",
    "mnist = fetch_openml('mnist_784', version=1, as_frame=False)\n",
    "mnist.keys()"
   ]
  },
  {
   "cell_type": "markdown",
   "metadata": {},
   "source": [
    "### 1. 데이터 셋 불러오기"
   ]
  },
  {
   "cell_type": "code",
   "execution_count": 3,
   "metadata": {},
   "outputs": [
    {
     "data": {
      "text/plain": [
       "(70000, 784)"
      ]
     },
     "execution_count": 3,
     "metadata": {},
     "output_type": "execute_result"
    }
   ],
   "source": [
    "X, y = mnist[\"data\"], mnist[\"target\"]\n",
    "X.shape"
   ]
  },
  {
   "cell_type": "code",
   "execution_count": 4,
   "metadata": {},
   "outputs": [],
   "source": [
    "### 데이터 셋 분할 \n",
    "\n",
    "from sklearn.model_selection import train_test_split\n",
    "\n",
    "X_train, X_test, y_train, y_test = train_test_split(X,y, test_size = 0.2, random_state = 42)"
   ]
  },
  {
   "cell_type": "code",
   "execution_count": 5,
   "metadata": {},
   "outputs": [
    {
     "name": "stdout",
     "output_type": "stream",
     "text": [
      "(56000, 784)\n",
      "(56000,)\n"
     ]
    }
   ],
   "source": [
    "print(X_train.shape)\n",
    "print(y_train.shape)"
   ]
  },
  {
   "cell_type": "markdown",
   "metadata": {},
   "source": [
    "### 2. 모델 선정"
   ]
  },
  {
   "cell_type": "code",
   "execution_count": 6,
   "metadata": {},
   "outputs": [],
   "source": [
    "from sklearn.neighbors import KNeighborsClassifier\n",
    "from sklearn.model_selection import GridSearchCV"
   ]
  },
  {
   "cell_type": "code",
   "execution_count": 7,
   "metadata": {},
   "outputs": [],
   "source": [
    "# help(KNeighborsClassifier)\n",
    "# 사용 가능한 파라미터 \n",
    "\n",
    "# n_neighbors : int, default=5\n",
    "# Number of neighbors to use by default for :meth:`kneighbors` queries.\n",
    "  \n",
    "# weights : {'uniform', 'distance'} or callable, default='uniform'\n",
    "#       weight function used in prediction.  Possible values:\n",
    "  \n",
    "# algorithm : {'auto', 'ball_tree', 'kd_tree', 'brute'}, default='auto'\n",
    "\n",
    "  \n",
    "# leaf_size : int, default=30\n",
    "#       Leaf size passed to BallTree or KDTree.  This can affect the\n",
    "#       speed of the construction and query, as well as the memory\n",
    "#       required to store the tree.  The optimal value depends on the\n",
    "#       nature of the problem.\n",
    "  \n",
    "# p : int, default=2\n",
    "#       Power parameter for the Minkowski metric. When p = 1, this is\n",
    "#       equivalent to using manhattan_distance (l1), and euclidean_distance\n",
    "#       (l2) for p = 2. For arbitrary p, minkowski_distance (l_p) is used.\n",
    "\n",
    "  \n",
    "    \n",
    "    "
   ]
  },
  {
   "cell_type": "code",
   "execution_count": 9,
   "metadata": {},
   "outputs": [
    {
     "name": "stdout",
     "output_type": "stream",
     "text": [
      "Fitting 2 folds for each of 8 candidates, totalling 16 fits\n",
      "[CV] n_neighbors=5, p=1, weights=uniform .............................\n"
     ]
    },
    {
     "name": "stderr",
     "output_type": "stream",
     "text": [
      "[Parallel(n_jobs=1)]: Using backend SequentialBackend with 1 concurrent workers.\n"
     ]
    },
    {
     "name": "stdout",
     "output_type": "stream",
     "text": [
      "[CV] .............. n_neighbors=5, p=1, weights=uniform, total=10.9min\n",
      "[CV] n_neighbors=5, p=1, weights=uniform .............................\n"
     ]
    },
    {
     "name": "stderr",
     "output_type": "stream",
     "text": [
      "[Parallel(n_jobs=1)]: Done   1 out of   1 | elapsed: 21.8min remaining:    0.0s\n"
     ]
    },
    {
     "name": "stdout",
     "output_type": "stream",
     "text": [
      "[CV] .............. n_neighbors=5, p=1, weights=uniform, total=10.9min\n",
      "[CV] n_neighbors=5, p=1, weights=distance ............................\n",
      "[CV] ............. n_neighbors=5, p=1, weights=distance, total=80.2min\n",
      "[CV] n_neighbors=5, p=1, weights=distance ............................\n",
      "[CV] ............. n_neighbors=5, p=1, weights=distance, total=11.0min\n",
      "[CV] n_neighbors=5, p=2, weights=uniform .............................\n",
      "[CV] .............. n_neighbors=5, p=2, weights=uniform, total=16.0min\n",
      "[CV] n_neighbors=5, p=2, weights=uniform .............................\n",
      "[CV] .............. n_neighbors=5, p=2, weights=uniform, total=42.6min\n",
      "[CV] n_neighbors=5, p=2, weights=distance ............................\n",
      "[CV] ............. n_neighbors=5, p=2, weights=distance, total=12.6min\n",
      "[CV] n_neighbors=5, p=2, weights=distance ............................\n",
      "[CV] ............. n_neighbors=5, p=2, weights=distance, total=63.6min\n",
      "[CV] n_neighbors=7, p=1, weights=uniform .............................\n",
      "[CV] .............. n_neighbors=7, p=1, weights=uniform, total=11.5min\n",
      "[CV] n_neighbors=7, p=1, weights=uniform .............................\n",
      "[CV] .............. n_neighbors=7, p=1, weights=uniform, total=15.8min\n",
      "[CV] n_neighbors=7, p=1, weights=distance ............................\n",
      "[CV] ............. n_neighbors=7, p=1, weights=distance, total=13.5min\n",
      "[CV] n_neighbors=7, p=1, weights=distance ............................\n",
      "[CV] ............. n_neighbors=7, p=1, weights=distance, total=16.0min\n",
      "[CV] n_neighbors=7, p=2, weights=uniform .............................\n",
      "[CV] .............. n_neighbors=7, p=2, weights=uniform, total=11.5min\n",
      "[CV] n_neighbors=7, p=2, weights=uniform .............................\n",
      "[CV] .............. n_neighbors=7, p=2, weights=uniform, total=16.3min\n",
      "[CV] n_neighbors=7, p=2, weights=distance ............................\n",
      "[CV] ............. n_neighbors=7, p=2, weights=distance, total=16.2min\n",
      "[CV] n_neighbors=7, p=2, weights=distance ............................\n",
      "[CV] ............. n_neighbors=7, p=2, weights=distance, total=11.4min\n"
     ]
    },
    {
     "name": "stderr",
     "output_type": "stream",
     "text": [
      "[Parallel(n_jobs=1)]: Done  16 out of  16 | elapsed: 715.4min finished\n"
     ]
    },
    {
     "data": {
      "text/plain": [
       "GridSearchCV(cv=2, estimator=KNeighborsClassifier(),\n",
       "             param_grid=[{'n_neighbors': [5, 7], 'p': [1, 2],\n",
       "                          'weights': ['uniform', 'distance']}],\n",
       "             return_train_score=True, scoring='accuracy', verbose=2)"
      ]
     },
     "execution_count": 9,
     "metadata": {},
     "output_type": "execute_result"
    }
   ],
   "source": [
    "# GridSearchCV를 통해 교차검증(Cross-validation) 대상 모델에 전달할 하이퍼 파라미터 값을 정의.\n",
    "# RandomForestRegressor의 하이퍼 파라미터 목록을 아래의 이름과 비교하여 확인해보기!\n",
    "param_grid = [\n",
    "#     {'n_neighbors': [3, 5, 7 , 9], 'weights': ['uniform', 'distance'], 'p': [1, 2]},             \n",
    "    {'n_neighbors': [5, 7], 'weights': ['uniform', 'distance'], 'p': [1, 2]},            \n",
    "  ]\n",
    "\n",
    "knn = KNeighborsClassifier()\n",
    "\n",
    "grid_search = GridSearchCV(knn, param_grid,\n",
    "                           cv=2,\n",
    "                           scoring='accuracy',\n",
    "                           return_train_score=True, verbose=2)\n",
    "grid_search.fit(X_train, y_train)"
   ]
  },
  {
   "cell_type": "markdown",
   "metadata": {},
   "source": [
    "# Q2\n",
    "Write a function that can shift an MNIST image in any direction (left, right, up, or down) by one pixel. \n",
    "Then, for each image in the training set, create four shifted copies (one per direction) \n",
    "and add them to the training set. \n",
    "Finally, train your best model on this expanded training set and measure its accuracy on the test set. \n",
    "You should observe that your model performs even better now! \n",
    "This technique of artificially growing the training set is called data augmentation or training set expansion."
   ]
  },
  {
   "cell_type": "code",
   "execution_count": null,
   "metadata": {},
   "outputs": [],
   "source": []
  }
 ],
 "metadata": {
  "kernelspec": {
   "display_name": "Python 3",
   "language": "python",
   "name": "python3"
  },
  "language_info": {
   "codemirror_mode": {
    "name": "ipython",
    "version": 3
   },
   "file_extension": ".py",
   "mimetype": "text/x-python",
   "name": "python",
   "nbconvert_exporter": "python",
   "pygments_lexer": "ipython3",
   "version": "3.7.6"
  }
 },
 "nbformat": 4,
 "nbformat_minor": 4
}
