{
 "cells": [
  {
   "cell_type": "markdown",
   "metadata": {
    "id": "iNFOeMfl3tIu"
   },
   "source": [
    "# 심층 신경망"
   ]
  },
  {
   "cell_type": "markdown",
   "metadata": {
    "id": "zKfwb8gS3tI2"
   },
   "source": [
    "<table align=\"left\">\n",
    "  <td>\n",
    "    <a target=\"_blank\" href=\"https://colab.research.google.com/github/rickiepark/hg-mldl/blob/master/7-2.ipynb\"><img src=\"https://www.tensorflow.org/images/colab_logo_32px.png\" />구글 코랩에서 실행하기</a>\n",
    "  </td>\n",
    "</table>"
   ]
  },
  {
   "cell_type": "markdown",
   "metadata": {
    "id": "dPE5XsFhcfVD"
   },
   "source": [
    "## 2개의 층"
   ]
  },
  {
   "cell_type": "code",
   "execution_count": 1,
   "metadata": {
    "ExecuteTime": {
     "end_time": "2022-05-16T16:04:55.529369Z",
     "start_time": "2022-05-16T16:04:52.233372Z"
    },
    "colab": {
     "base_uri": "https://localhost:8080/"
    },
    "id": "4sNOMcdaFVKa",
    "outputId": "b475af53-feaa-4b21-a5cd-166e654be897"
   },
   "outputs": [],
   "source": [
    "####################################################################################################\n",
    "# 패션 MNIST 데이터셋을 읽어 훈련셋과 테스트셋에 저장합니다.\n",
    "# --------------------------------------------------------------------------------------------------\n",
    "# load_data() 메서드는 두 종류의 데이터셋을 한번에 반환하므로 분할 절차를 생략할 수 있어 편리합니다.\n",
    "####################################################################################################\n",
    "from tensorflow import keras\n",
    "\n",
    "(train_input, train_target), (test_input, test_target) = keras.datasets.fashion_mnist.load_data()"
   ]
  },
  {
   "cell_type": "code",
   "execution_count": 2,
   "metadata": {
    "ExecuteTime": {
     "end_time": "2022-05-16T16:04:56.039370Z",
     "start_time": "2022-05-16T16:04:55.530371Z"
    },
    "id": "aJJiRMa6FkWx"
   },
   "outputs": [],
   "source": [
    "####################################################################################################\n",
    "# 데이터의 스케일을 조정하고 1차원 배열로 변환합니다.\n",
    "# --------------------------------------------------------------------------------------------------\n",
    "# 0~255의 값을 0~1로 조정합니다.\n",
    "# 이미지의 경우 255로 나눠주기만 하면 됩니다. MinMaxScaler()를 사용한 것과 동일한 결과입니다.\n",
    "# 2차원 배열의 형태를 가진 하나의 샘플을 1차원 배열로 변환해주면, 784개(28*28) 값이 1개 행으로 변환됩니다.\n",
    "####################################################################################################\n",
    "from sklearn.model_selection import train_test_split\n",
    "\n",
    "train_scaled = train_input / 255.0\n",
    "train_scaled = train_scaled.reshape(-1, 28*28)\n",
    "\n",
    "train_scaled, val_scaled, train_target, val_target = train_test_split(\n",
    "    train_scaled, train_target, test_size=0.2, random_state=42)"
   ]
  },
  {
   "cell_type": "code",
   "execution_count": 3,
   "metadata": {
    "ExecuteTime": {
     "end_time": "2022-05-16T16:04:56.069370Z",
     "start_time": "2022-05-16T16:04:56.041372Z"
    },
    "id": "MCZWQiEwF6MD"
   },
   "outputs": [],
   "source": [
    "####################################################################################################\n",
    "# 신경망에 포함될 밀집층을 생성합니다.\n",
    "# --------------------------------------------------------------------------------------------------\n",
    "# 여기서는 은닉층, 출력층 각각 1개에 해당하는 Dense Layer 객체를 생성해야 합니다.\n",
    "# 입력층 다음의 최초 은닉층에 대해 input_shape을 설정해주면 됩니다.\n",
    "# 은닉층이 없는 경우 출력층에 설정하면 됩니다.\n",
    "####################################################################################################\n",
    "dense1 = keras.layers.Dense(100, activation='sigmoid', input_shape=(784,))\n",
    "dense2 = keras.layers.Dense(10, activation='softmax')"
   ]
  },
  {
   "cell_type": "markdown",
   "metadata": {
    "id": "Agy5gCVhcrm-"
   },
   "source": [
    "## 심층 신경망 만들기"
   ]
  },
  {
   "cell_type": "code",
   "execution_count": 4,
   "metadata": {
    "ExecuteTime": {
     "end_time": "2022-05-16T16:04:56.294369Z",
     "start_time": "2022-05-16T16:04:56.071373Z"
    },
    "id": "xmWL7kOoGB4P"
   },
   "outputs": [],
   "source": [
    "####################################################################################################\n",
    "# 미리 생성한 밀집층 객체를 리스트에 포함시켜 모델을 생성합니다.\n",
    "# --------------------------------------------------------------------------------------------------\n",
    "# 밀집층의 순서는 입력층에서 가까운 순서로 은닉층, 그리고 마지막에 출력층을 배치합니다.\n",
    "####################################################################################################\n",
    "model = keras.Sequential([dense1, dense2])"
   ]
  },
  {
   "cell_type": "code",
   "execution_count": 5,
   "metadata": {
    "ExecuteTime": {
     "end_time": "2022-05-16T16:04:56.309370Z",
     "start_time": "2022-05-16T16:04:56.295370Z"
    },
    "colab": {
     "base_uri": "https://localhost:8080/"
    },
    "id": "em0xDl8qa12J",
    "outputId": "eed2e951-74cc-4dc4-c145-7492dc6fa173"
   },
   "outputs": [
    {
     "name": "stdout",
     "output_type": "stream",
     "text": [
      "Model: \"sequential\"\n",
      "_________________________________________________________________\n",
      "Layer (type)                 Output Shape              Param #   \n",
      "=================================================================\n",
      "dense (Dense)                (None, 100)               78500     \n",
      "_________________________________________________________________\n",
      "dense_1 (Dense)              (None, 10)                1010      \n",
      "=================================================================\n",
      "Total params: 79,510\n",
      "Trainable params: 79,510\n",
      "Non-trainable params: 0\n",
      "_________________________________________________________________\n"
     ]
    }
   ],
   "source": [
    "####################################################################################################\n",
    "# 모델에 대한 정보를 확인합니다.\n",
    "# --------------------------------------------------------------------------------------------------\n",
    "# 파라미터는 훈련에 의해 학습되는 값으로서, 가중치와 절편이 포함됩니다.\n",
    "####################################################################################################\n",
    "model.summary()"
   ]
  },
  {
   "cell_type": "markdown",
   "metadata": {
    "id": "qAi41rBTdk7k"
   },
   "source": [
    "## 층을 추가하는 다른 방법"
   ]
  },
  {
   "cell_type": "code",
   "execution_count": 6,
   "metadata": {
    "ExecuteTime": {
     "end_time": "2022-05-16T16:04:56.339369Z",
     "start_time": "2022-05-16T16:04:56.311373Z"
    },
    "id": "0XeV6V4ha3I8"
   },
   "outputs": [],
   "source": [
    "####################################################################################################\n",
    "# 밀집층 객체를 생성하는 동시에 리스트에 포함시켜 모델을 생성합니다.\n",
    "####################################################################################################\n",
    "model = keras.Sequential([\n",
    "    keras.layers.Dense(100, activation='sigmoid', input_shape=(784,), name='hidden'),\n",
    "    keras.layers.Dense(10, activation='softmax', name='output')\n",
    "], name='패션 MNIST 모델')"
   ]
  },
  {
   "cell_type": "code",
   "execution_count": 7,
   "metadata": {
    "ExecuteTime": {
     "end_time": "2022-05-16T16:04:56.354369Z",
     "start_time": "2022-05-16T16:04:56.341371Z"
    },
    "colab": {
     "base_uri": "https://localhost:8080/"
    },
    "id": "bwXDLSOWbm3L",
    "outputId": "7c05b767-9336-44e1-ff4b-7d0a575b9761"
   },
   "outputs": [
    {
     "name": "stdout",
     "output_type": "stream",
     "text": [
      "Model: \"패션 MNIST 모델\"\n",
      "_________________________________________________________________\n",
      "Layer (type)                 Output Shape              Param #   \n",
      "=================================================================\n",
      "hidden (Dense)               (None, 100)               78500     \n",
      "_________________________________________________________________\n",
      "output (Dense)               (None, 10)                1010      \n",
      "=================================================================\n",
      "Total params: 79,510\n",
      "Trainable params: 79,510\n",
      "Non-trainable params: 0\n",
      "_________________________________________________________________\n"
     ]
    }
   ],
   "source": [
    "####################################################################################################\n",
    "# 모델에 대한 정보를 확인합니다.\n",
    "# --------------------------------------------------------------------------------------------------\n",
    "# 파라미터는 훈련에 의해 학습되는 값으로서, 가중치와 절편이 포함됩니다.\n",
    "####################################################################################################\n",
    "model.summary()"
   ]
  },
  {
   "cell_type": "code",
   "execution_count": 8,
   "metadata": {
    "ExecuteTime": {
     "end_time": "2022-05-16T16:04:56.384373Z",
     "start_time": "2022-05-16T16:04:56.356371Z"
    },
    "id": "yZSAxgZCbax7"
   },
   "outputs": [],
   "source": [
    "####################################################################################################\n",
    "# 모델 객체를 만들어 놓고, 층을 새로 생성하면서 모델에 추가시키는 방법으로 모델을 생성합니다.\n",
    "####################################################################################################\n",
    "model = keras.Sequential()\n",
    "model.add(keras.layers.Dense(100, activation='sigmoid', input_shape=(784,)))\n",
    "model.add(keras.layers.Dense(10, activation='softmax'))"
   ]
  },
  {
   "cell_type": "code",
   "execution_count": 9,
   "metadata": {
    "ExecuteTime": {
     "end_time": "2022-05-16T16:04:56.399370Z",
     "start_time": "2022-05-16T16:04:56.386373Z"
    },
    "colab": {
     "base_uri": "https://localhost:8080/"
    },
    "id": "bW2coaNQboe5",
    "outputId": "03f2bb46-3f7a-4c1a-da32-72e1a6e0f57c"
   },
   "outputs": [
    {
     "name": "stdout",
     "output_type": "stream",
     "text": [
      "Model: \"sequential_1\"\n",
      "_________________________________________________________________\n",
      "Layer (type)                 Output Shape              Param #   \n",
      "=================================================================\n",
      "dense_2 (Dense)              (None, 100)               78500     \n",
      "_________________________________________________________________\n",
      "dense_3 (Dense)              (None, 10)                1010      \n",
      "=================================================================\n",
      "Total params: 79,510\n",
      "Trainable params: 79,510\n",
      "Non-trainable params: 0\n",
      "_________________________________________________________________\n"
     ]
    }
   ],
   "source": [
    "####################################################################################################\n",
    "# 모델에 대한 정보를 확인합니다.\n",
    "# --------------------------------------------------------------------------------------------------\n",
    "# 파라미터는 훈련에 의해 학습되는 값으로서, 가중치와 절편이 포함됩니다.\n",
    "# 3가지 모델 생성 방법이 모두 동일한 결과를 보임을 확인할 수 있습니다.\n",
    "####################################################################################################\n",
    "model.summary()"
   ]
  },
  {
   "cell_type": "code",
   "execution_count": 10,
   "metadata": {
    "ExecuteTime": {
     "end_time": "2022-05-16T16:05:03.719369Z",
     "start_time": "2022-05-16T16:04:56.401370Z"
    },
    "colab": {
     "base_uri": "https://localhost:8080/"
    },
    "id": "kkYrPJembpYk",
    "outputId": "b4a3d887-9a7c-45f8-be15-90a30093728e"
   },
   "outputs": [
    {
     "name": "stdout",
     "output_type": "stream",
     "text": [
      "Epoch 1/5\n",
      "1500/1500 [==============================] - 1s 931us/step - loss: 0.5657 - accuracy: 0.8068\n",
      "Epoch 2/5\n",
      "1500/1500 [==============================] - 1s 927us/step - loss: 0.4071 - accuracy: 0.8533\n",
      "Epoch 3/5\n",
      "1500/1500 [==============================] - 1s 943us/step - loss: 0.3723 - accuracy: 0.86540s\n",
      "Epoch 4/5\n",
      "1500/1500 [==============================] - 1s 891us/step - loss: 0.3503 - accuracy: 0.8737\n",
      "Epoch 5/5\n",
      "1500/1500 [==============================] - 1s 829us/step - loss: 0.3335 - accuracy: 0.8780\n"
     ]
    },
    {
     "data": {
      "text/plain": [
       "<tensorflow.python.keras.callbacks.History at 0x13e4b87fdc0>"
      ]
     },
     "execution_count": 10,
     "metadata": {},
     "output_type": "execute_result"
    }
   ],
   "source": [
    "####################################################################################################\n",
    "# 인공신경망 훈련을 위한 설정값(손실함수와 성능지표)을 입력합니다.\n",
    "# --------------------------------------------------------------------------------------------------\n",
    "# 이진 분류의 경우 손실함수를 'binary_crossentropy'로, 다중 분류의 경우 'categorical_crossentropy'로\n",
    "# 설정합니다.\n",
    "# 타깃 데이터의 레이블이 원-핫 인코딩된 경우 'sparse_'를 손실함수명 앞에 추가하면 됩니다.\n",
    "# 성능지표에 'accuracy'를 사용하면 정확도를 사용합니다.\n",
    "####################################################################################################\n",
    "model.compile(loss='sparse_categorical_crossentropy', metrics='accuracy')\n",
    "\n",
    "model.fit(train_scaled, train_target, epochs=5)"
   ]
  },
  {
   "cell_type": "markdown",
   "metadata": {
    "id": "_dfXJDhwcyAK"
   },
   "source": [
    "## 렐루 활성화 함수"
   ]
  },
  {
   "cell_type": "code",
   "execution_count": 11,
   "metadata": {
    "ExecuteTime": {
     "end_time": "2022-05-16T16:05:03.749369Z",
     "start_time": "2022-05-16T16:05:03.721369Z"
    },
    "id": "dG7yF8g6b062"
   },
   "outputs": [],
   "source": [
    "####################################################################################################\n",
    "# 은닉층에 렐루(ReLU) 활성화 함수를 사용합니다.\n",
    "# --------------------------------------------------------------------------------------------------\n",
    "# 이미지 데이터에는 렐루 함수가 좀 더 높은 성능을 내는 것으로 알려져 있습니다.\n",
    "# Flatten 층을 추가하게 되면, 입력 데이터의 1차원 변환을 수행해줍니다.\n",
    "####################################################################################################\n",
    "model = keras.Sequential()\n",
    "model.add(keras.layers.Flatten(input_shape=(28, 28)))\n",
    "model.add(keras.layers.Dense(100, activation='relu'))\n",
    "model.add(keras.layers.Dense(10, activation='softmax'))"
   ]
  },
  {
   "cell_type": "code",
   "execution_count": 12,
   "metadata": {
    "ExecuteTime": {
     "end_time": "2022-05-16T16:05:03.764368Z",
     "start_time": "2022-05-16T16:05:03.750371Z"
    },
    "colab": {
     "base_uri": "https://localhost:8080/"
    },
    "id": "zHogWhu6g90a",
    "outputId": "85287775-38ef-4c90-b730-dd122653474f"
   },
   "outputs": [
    {
     "name": "stdout",
     "output_type": "stream",
     "text": [
      "Model: \"sequential_2\"\n",
      "_________________________________________________________________\n",
      "Layer (type)                 Output Shape              Param #   \n",
      "=================================================================\n",
      "flatten (Flatten)            (None, 784)               0         \n",
      "_________________________________________________________________\n",
      "dense_4 (Dense)              (None, 100)               78500     \n",
      "_________________________________________________________________\n",
      "dense_5 (Dense)              (None, 10)                1010      \n",
      "=================================================================\n",
      "Total params: 79,510\n",
      "Trainable params: 79,510\n",
      "Non-trainable params: 0\n",
      "_________________________________________________________________\n"
     ]
    }
   ],
   "source": [
    "####################################################################################################\n",
    "# 모델에 대한 정보를 확인합니다.\n",
    "# --------------------------------------------------------------------------------------------------\n",
    "# 파라미터는 훈련에 의해 학습되는 값으로서, 가중치와 절편이 포함됩니다.\n",
    "# 3가지 모델 생성 방법이 모두 동일한 결과를 보임을 확인할 수 있습니다.\n",
    "####################################################################################################\n",
    "model.summary()"
   ]
  },
  {
   "cell_type": "code",
   "execution_count": 13,
   "metadata": {
    "ExecuteTime": {
     "end_time": "2022-05-16T16:05:04.259372Z",
     "start_time": "2022-05-16T16:05:03.767369Z"
    },
    "id": "JfPe_ruQdhqA"
   },
   "outputs": [],
   "source": [
    "####################################################################################################\n",
    "# 데이터의 스케일을 조정하고 1차원 배열로 변환합니다.\n",
    "# --------------------------------------------------------------------------------------------------\n",
    "# 0~255의 값을 0~1로 조정합니다.\n",
    "# 이미지의 경우 255로 나눠주기만 하면 됩니다. MinMaxScaler()를 사용한 것과 동일한 결과입니다.\n",
    "# 2차원 배열의 형태를 가진 하나의 샘플을 1차원 배열로 변환해주면, 784개(28*28) 값이 1개 행으로 변환됩니다.\n",
    "####################################################################################################\n",
    "(train_input, train_target), (test_input, test_target) = keras.datasets.fashion_mnist.load_data()\n",
    "\n",
    "train_scaled = train_input / 255.0\n",
    "\n",
    "train_scaled, val_scaled, train_target, val_target = train_test_split(\n",
    "    train_scaled, train_target, test_size=0.2, random_state=42)"
   ]
  },
  {
   "cell_type": "code",
   "execution_count": 14,
   "metadata": {
    "ExecuteTime": {
     "end_time": "2022-05-16T16:05:12.599370Z",
     "start_time": "2022-05-16T16:05:04.261373Z"
    },
    "colab": {
     "base_uri": "https://localhost:8080/"
    },
    "id": "9PGejuuhdvvk",
    "outputId": "a90ef9cc-85f2-43b0-959a-1ec5401d3984"
   },
   "outputs": [
    {
     "name": "stdout",
     "output_type": "stream",
     "text": [
      "Epoch 1/5\n",
      "1500/1500 [==============================] - 2s 1ms/step - loss: 0.5353 - accuracy: 0.8132\n",
      "Epoch 2/5\n",
      "1500/1500 [==============================] - 2s 1ms/step - loss: 0.3950 - accuracy: 0.8605\n",
      "Epoch 3/5\n",
      "1500/1500 [==============================] - 2s 1ms/step - loss: 0.3598 - accuracy: 0.8718\n",
      "Epoch 4/5\n",
      "1500/1500 [==============================] - 2s 1ms/step - loss: 0.3343 - accuracy: 0.8804\n",
      "Epoch 5/5\n",
      "1500/1500 [==============================] - 2s 1ms/step - loss: 0.3209 - accuracy: 0.8865: 0s - loss: 0.3248 - \n"
     ]
    },
    {
     "data": {
      "text/plain": [
       "<tensorflow.python.keras.callbacks.History at 0x13e4bea1a60>"
      ]
     },
     "execution_count": 14,
     "metadata": {},
     "output_type": "execute_result"
    }
   ],
   "source": [
    "####################################################################################################\n",
    "# 인공신경망 훈련을 위한 설정값(손실함수와 성능지표)을 입력하고, 훈련을 실시합니다.\n",
    "# --------------------------------------------------------------------------------------------------\n",
    "# 이진 분류의 경우 손실함수를 'binary_crossentropy'로, 다중 분류의 경우 'categorical_crossentropy'로\n",
    "# 설정합니다.\n",
    "# 타깃 데이터의 레이블이 원-핫 인코딩된 경우 'sparse_'를 손실함수명 앞에 추가하면 됩니다.\n",
    "# 성능지표에 'accuracy'를 사용하면 정확도를 사용합니다.\n",
    "####################################################################################################\n",
    "model.compile(loss='sparse_categorical_crossentropy', metrics='accuracy')\n",
    "\n",
    "model.fit(train_scaled, train_target, epochs=5)"
   ]
  },
  {
   "cell_type": "code",
   "execution_count": 15,
   "metadata": {
    "ExecuteTime": {
     "end_time": "2022-05-16T16:05:13.185371Z",
     "start_time": "2022-05-16T16:05:12.601373Z"
    },
    "colab": {
     "base_uri": "https://localhost:8080/"
    },
    "id": "lVYLpnjeep4y",
    "outputId": "b1fc705e-d4c5-42c1-db5f-9ecb0f588310"
   },
   "outputs": [
    {
     "name": "stdout",
     "output_type": "stream",
     "text": [
      "375/375 [==============================] - 0s 608us/step - loss: 0.3700 - accuracy: 0.8808\n"
     ]
    },
    {
     "data": {
      "text/plain": [
       "[0.3699990212917328, 0.8808333277702332]"
      ]
     },
     "execution_count": 15,
     "metadata": {},
     "output_type": "execute_result"
    }
   ],
   "source": [
    "####################################################################################################\n",
    "# 모델의 성능을 검증합니다.\n",
    "# --------------------------------------------------------------------------------------------------\n",
    "# 모델이 과적합되었는지를 확인해야 하므로 검증 데이터를 활용합니다.\n",
    "####################################################################################################\n",
    "model.evaluate(val_scaled, val_target)"
   ]
  },
  {
   "cell_type": "markdown",
   "metadata": {
    "id": "3YtLsmGAoavz"
   },
   "source": [
    "## 옵티마이저"
   ]
  },
  {
   "cell_type": "code",
   "execution_count": 16,
   "metadata": {
    "ExecuteTime": {
     "end_time": "2022-05-16T16:05:19.680370Z",
     "start_time": "2022-05-16T16:05:13.188372Z"
    },
    "id": "NxVj04Haocwa"
   },
   "outputs": [
    {
     "name": "stdout",
     "output_type": "stream",
     "text": [
      "Epoch 1/5\n",
      "1500/1500 [==============================] - 1s 714us/step - loss: 0.2669 - accuracy: 0.9043\n",
      "Epoch 2/5\n",
      "1500/1500 [==============================] - 1s 663us/step - loss: 0.2576 - accuracy: 0.9074\n",
      "Epoch 3/5\n",
      "1500/1500 [==============================] - 1s 690us/step - loss: 0.2537 - accuracy: 0.9090\n",
      "Epoch 4/5\n",
      "1500/1500 [==============================] - 1s 763us/step - loss: 0.2509 - accuracy: 0.9099\n",
      "Epoch 5/5\n",
      "1500/1500 [==============================] - 1s 795us/step - loss: 0.2488 - accuracy: 0.9101\n",
      "375/375 [==============================] - 0s 661us/step - loss: 0.3189 - accuracy: 0.8914\n"
     ]
    },
    {
     "data": {
      "text/plain": [
       "[0.31891411542892456, 0.8914166688919067]"
      ]
     },
     "execution_count": 16,
     "metadata": {},
     "output_type": "execute_result"
    }
   ],
   "source": [
    "####################################################################################################\n",
    "# 케라스는 모델의 파라미터가 최적값에 잘 수렴하도록 다양한 옵티마이저(경사하강법 알고리즘)를 제공합니다.\n",
    "# --------------------------------------------------------------------------------------------------\n",
    "# 각각을 설정하는 방법을 배워보도록 합니다.\n",
    "# 옵티마이저도 하이퍼파라미터입니다. \n",
    "# 주어진 문제에 따라 최적의 옵티마이저는 달라질 수 있고, 이는 다양한 값을 넣고 훈련하면서 발견해야 합니다.\n",
    "####################################################################################################\n",
    "model.compile(optimizer='sgd', loss='sparse_categorical_crossentropy', metrics='accuracy')\n",
    "\n",
    "model.fit(train_scaled, train_target, epochs=5)\n",
    "model.evaluate(val_scaled, val_target)"
   ]
  },
  {
   "cell_type": "code",
   "execution_count": 17,
   "metadata": {
    "ExecuteTime": {
     "end_time": "2022-05-16T16:05:27.650370Z",
     "start_time": "2022-05-16T16:05:19.683373Z"
    },
    "id": "1426O4G8Hpfi"
   },
   "outputs": [
    {
     "name": "stdout",
     "output_type": "stream",
     "text": [
      "Epoch 1/5\n",
      "1500/1500 [==============================] - 2s 1ms/step - loss: 0.2462 - accuracy: 0.9114\n",
      "Epoch 2/5\n",
      "1500/1500 [==============================] - 1s 845us/step - loss: 0.2441 - accuracy: 0.9110\n",
      "Epoch 3/5\n",
      "1500/1500 [==============================] - 1s 821us/step - loss: 0.2425 - accuracy: 0.9132\n",
      "Epoch 4/5\n",
      "1500/1500 [==============================] - 1s 881us/step - loss: 0.2408 - accuracy: 0.9128\n",
      "Epoch 5/5\n",
      "1500/1500 [==============================] - 1s 896us/step - loss: 0.2394 - accuracy: 0.91290s - loss: 0.2374 - ac\n",
      "375/375 [==============================] - 0s 632us/step - loss: 0.3136 - accuracy: 0.8925\n"
     ]
    },
    {
     "data": {
      "text/plain": [
       "[0.31362584233283997, 0.8924999833106995]"
      ]
     },
     "execution_count": 17,
     "metadata": {},
     "output_type": "execute_result"
    }
   ],
   "source": [
    "sgd = keras.optimizers.SGD()\n",
    "model.compile(optimizer=sgd, loss='sparse_categorical_crossentropy', metrics='accuracy')\n",
    "\n",
    "model.fit(train_scaled, train_target, epochs=5)\n",
    "model.evaluate(val_scaled, val_target)"
   ]
  },
  {
   "cell_type": "code",
   "execution_count": 18,
   "metadata": {
    "ExecuteTime": {
     "end_time": "2022-05-16T16:05:35.656372Z",
     "start_time": "2022-05-16T16:05:27.652371Z"
    },
    "id": "Sh-HDiULlp18"
   },
   "outputs": [
    {
     "name": "stdout",
     "output_type": "stream",
     "text": [
      "Epoch 1/5\n",
      "1500/1500 [==============================] - 1s 791us/step - loss: 0.2375 - accuracy: 0.9135\n",
      "Epoch 2/5\n",
      "1500/1500 [==============================] - 1s 889us/step - loss: 0.2357 - accuracy: 0.9143\n",
      "Epoch 3/5\n",
      "1500/1500 [==============================] - 1s 997us/step - loss: 0.2347 - accuracy: 0.91510s - loss: 0.2345 - accuracy\n",
      "Epoch 4/5\n",
      "1500/1500 [==============================] - 2s 1ms/step - loss: 0.2330 - accuracy: 0.9147\n",
      "Epoch 5/5\n",
      "1500/1500 [==============================] - 2s 1ms/step - loss: 0.2314 - accuracy: 0.9157\n",
      "375/375 [==============================] - 0s 701us/step - loss: 0.3118 - accuracy: 0.8923\n"
     ]
    },
    {
     "data": {
      "text/plain": [
       "[0.311763197183609, 0.8922500014305115]"
      ]
     },
     "execution_count": 18,
     "metadata": {},
     "output_type": "execute_result"
    }
   ],
   "source": [
    "sgd = keras.optimizers.SGD(learning_rate=0.1)\n",
    "\n",
    "model.fit(train_scaled, train_target, epochs=5)\n",
    "model.evaluate(val_scaled, val_target)"
   ]
  },
  {
   "cell_type": "code",
   "execution_count": 19,
   "metadata": {
    "ExecuteTime": {
     "end_time": "2022-05-16T16:05:42.737371Z",
     "start_time": "2022-05-16T16:05:35.658372Z"
    },
    "id": "uF1XolBXsl3a"
   },
   "outputs": [
    {
     "name": "stdout",
     "output_type": "stream",
     "text": [
      "Epoch 1/5\n",
      "1500/1500 [==============================] - 2s 1ms/step - loss: 0.2306 - accuracy: 0.9171\n",
      "Epoch 2/5\n",
      "1500/1500 [==============================] - 1s 881us/step - loss: 0.2289 - accuracy: 0.9168\n",
      "Epoch 3/5\n",
      "1500/1500 [==============================] - 1s 871us/step - loss: 0.2277 - accuracy: 0.9171\n",
      "Epoch 4/5\n",
      "1500/1500 [==============================] - 1s 821us/step - loss: 0.2265 - accuracy: 0.9180\n",
      "Epoch 5/5\n",
      "1500/1500 [==============================] - 1s 791us/step - loss: 0.2254 - accuracy: 0.9177\n",
      "375/375 [==============================] - 0s 611us/step - loss: 0.3103 - accuracy: 0.8942\n"
     ]
    },
    {
     "data": {
      "text/plain": [
       "[0.3102615475654602, 0.8941666483879089]"
      ]
     },
     "execution_count": 19,
     "metadata": {},
     "output_type": "execute_result"
    }
   ],
   "source": [
    "sgd = keras.optimizers.SGD(momentum=0.9, nesterov=True)\n",
    "\n",
    "model.fit(train_scaled, train_target, epochs=5)\n",
    "model.evaluate(val_scaled, val_target)"
   ]
  },
  {
   "cell_type": "code",
   "execution_count": 20,
   "metadata": {
    "ExecuteTime": {
     "end_time": "2022-05-16T16:05:50.447371Z",
     "start_time": "2022-05-16T16:05:42.739371Z"
    },
    "id": "Hy2MENbL170j"
   },
   "outputs": [
    {
     "name": "stdout",
     "output_type": "stream",
     "text": [
      "Epoch 1/5\n",
      "1500/1500 [==============================] - 1s 845us/step - loss: 0.2208 - accuracy: 0.9203\n",
      "Epoch 2/5\n",
      "1500/1500 [==============================] - 1s 920us/step - loss: 0.2199 - accuracy: 0.9202\n",
      "Epoch 3/5\n",
      "1500/1500 [==============================] - 1s 883us/step - loss: 0.2195 - accuracy: 0.9205\n",
      "Epoch 4/5\n",
      "1500/1500 [==============================] - 1s 919us/step - loss: 0.2192 - accuracy: 0.9206\n",
      "Epoch 5/5\n",
      "1500/1500 [==============================] - 1s 948us/step - loss: 0.2189 - accuracy: 0.9208\n",
      "  1/375 [..............................] - ETA: 0s - loss: 0.2059 - accuracy: 0.9375WARNING:tensorflow:Callbacks method `on_test_batch_end` is slow compared to the batch time (batch time: 0.0000s vs `on_test_batch_end` time: 0.0010s). Check your callbacks.\n",
      "375/375 [==============================] - 0s 587us/step - loss: 0.3076 - accuracy: 0.8949\n"
     ]
    },
    {
     "data": {
      "text/plain": [
       "[0.30761417746543884, 0.8949166536331177]"
      ]
     },
     "execution_count": 20,
     "metadata": {},
     "output_type": "execute_result"
    }
   ],
   "source": [
    "adagrad = keras.optimizers.Adagrad()\n",
    "model.compile(optimizer=adagrad, loss='sparse_categorical_crossentropy', metrics='accuracy')\n",
    "\n",
    "model.fit(train_scaled, train_target, epochs=5)\n",
    "model.evaluate(val_scaled, val_target)"
   ]
  },
  {
   "cell_type": "code",
   "execution_count": 21,
   "metadata": {
    "ExecuteTime": {
     "end_time": "2022-05-16T16:06:00.152373Z",
     "start_time": "2022-05-16T16:05:50.449374Z"
    },
    "id": "KkpbSMXWtakr"
   },
   "outputs": [
    {
     "name": "stdout",
     "output_type": "stream",
     "text": [
      "Epoch 1/5\n",
      "1500/1500 [==============================] - 2s 1ms/step - loss: 0.2904 - accuracy: 0.8954\n",
      "Epoch 2/5\n",
      "1500/1500 [==============================] - 2s 1ms/step - loss: 0.2825 - accuracy: 0.8992\n",
      "Epoch 3/5\n",
      "1500/1500 [==============================] - 2s 1ms/step - loss: 0.2764 - accuracy: 0.9009\n",
      "Epoch 4/5\n",
      "1500/1500 [==============================] - 2s 1ms/step - loss: 0.2718 - accuracy: 0.9044\n",
      "Epoch 5/5\n",
      "1500/1500 [==============================] - 2s 1ms/step - loss: 0.2632 - accuracy: 0.9079\n",
      "375/375 [==============================] - 0s 584us/step - loss: 0.3942 - accuracy: 0.8795\n"
     ]
    },
    {
     "data": {
      "text/plain": [
       "[0.39421117305755615, 0.8794999718666077]"
      ]
     },
     "execution_count": 21,
     "metadata": {},
     "output_type": "execute_result"
    }
   ],
   "source": [
    "rmsprop = keras.optimizers.RMSprop()\n",
    "model.compile(optimizer=rmsprop, loss='sparse_categorical_crossentropy', metrics='accuracy')\n",
    "\n",
    "model.fit(train_scaled, train_target, epochs=5)\n",
    "model.evaluate(val_scaled, val_target)"
   ]
  },
  {
   "cell_type": "code",
   "execution_count": 22,
   "metadata": {
    "ExecuteTime": {
     "end_time": "2022-05-16T16:06:00.197371Z",
     "start_time": "2022-05-16T16:06:00.154372Z"
    },
    "id": "Gdu0hQIAz4JW"
   },
   "outputs": [],
   "source": [
    "model = keras.Sequential()\n",
    "model.add(keras.layers.Flatten(input_shape=(28, 28)))\n",
    "model.add(keras.layers.Dense(100, activation='relu'))\n",
    "model.add(keras.layers.Dense(10, activation='softmax'))"
   ]
  },
  {
   "cell_type": "code",
   "execution_count": 23,
   "metadata": {
    "ExecuteTime": {
     "end_time": "2022-05-16T16:06:08.976370Z",
     "start_time": "2022-05-16T16:06:00.199373Z"
    },
    "colab": {
     "base_uri": "https://localhost:8080/"
    },
    "id": "2tcxIfILoi1t",
    "outputId": "e22f0731-1f72-46b8-d7d5-af1d0a12447c"
   },
   "outputs": [
    {
     "name": "stdout",
     "output_type": "stream",
     "text": [
      "Epoch 1/5\n",
      "1500/1500 [==============================] - 2s 1ms/step - loss: 0.5301 - accuracy: 0.8140\n",
      "Epoch 2/5\n",
      "1500/1500 [==============================] - 2s 1ms/step - loss: 0.3977 - accuracy: 0.8576: 0s -\n",
      "Epoch 3/5\n",
      "1500/1500 [==============================] - 1s 955us/step - loss: 0.3578 - accuracy: 0.8699\n",
      "Epoch 4/5\n",
      "1500/1500 [==============================] - 1s 809us/step - loss: 0.3308 - accuracy: 0.8786\n",
      "Epoch 5/5\n",
      "1500/1500 [==============================] - 1s 877us/step - loss: 0.3098 - accuracy: 0.8860\n",
      "375/375 [==============================] - 0s 621us/step - loss: 0.3363 - accuracy: 0.8785\n"
     ]
    },
    {
     "data": {
      "text/plain": [
       "[0.3363282382488251, 0.8784999847412109]"
      ]
     },
     "execution_count": 23,
     "metadata": {},
     "output_type": "execute_result"
    }
   ],
   "source": [
    "model.compile(optimizer='adam', loss='sparse_categorical_crossentropy', metrics='accuracy')\n",
    "\n",
    "model.fit(train_scaled, train_target, epochs=5)\n",
    "model.evaluate(val_scaled, val_target)"
   ]
  }
 ],
 "metadata": {
  "accelerator": "GPU",
  "colab": {
   "collapsed_sections": [],
   "name": "7-2 심층 신경망.ipynb",
   "provenance": []
  },
  "kernelspec": {
   "display_name": "Python 3 (ipykernel)",
   "language": "python",
   "name": "python3"
  },
  "language_info": {
   "codemirror_mode": {
    "name": "ipython",
    "version": 3
   },
   "file_extension": ".py",
   "mimetype": "text/x-python",
   "name": "python",
   "nbconvert_exporter": "python",
   "pygments_lexer": "ipython3",
   "version": "3.8.12"
  },
  "toc": {
   "base_numbering": 1,
   "nav_menu": {},
   "number_sections": true,
   "sideBar": true,
   "skip_h1_title": false,
   "title_cell": "Table of Contents",
   "title_sidebar": "Contents",
   "toc_cell": false,
   "toc_position": {},
   "toc_section_display": true,
   "toc_window_display": false
  },
  "varInspector": {
   "cols": {
    "lenName": 16,
    "lenType": 16,
    "lenVar": 40
   },
   "kernels_config": {
    "python": {
     "delete_cmd_postfix": "",
     "delete_cmd_prefix": "del ",
     "library": "var_list.py",
     "varRefreshCmd": "print(var_dic_list())"
    },
    "r": {
     "delete_cmd_postfix": ") ",
     "delete_cmd_prefix": "rm(",
     "library": "var_list.r",
     "varRefreshCmd": "cat(var_dic_list()) "
    }
   },
   "types_to_exclude": [
    "module",
    "function",
    "builtin_function_or_method",
    "instance",
    "_Feature"
   ],
   "window_display": false
  }
 },
 "nbformat": 4,
 "nbformat_minor": 1
}
